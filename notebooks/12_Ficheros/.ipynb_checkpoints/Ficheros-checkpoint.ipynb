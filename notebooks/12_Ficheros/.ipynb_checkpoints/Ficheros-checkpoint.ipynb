{
 "cells": [
  {
   "cell_type": "markdown",
   "metadata": {
    "slideshow": {
     "slide_type": "slide"
    }
   },
   "source": [
    "# Ficheros\n",
    "\n",
    "**Autores**: Rogelio Mazaeda Echevarría, Félix Miguel Trespaderne.   "
   ]
  },
  {
   "cell_type": "markdown",
   "metadata": {},
   "source": [
    "## Contenidos\n",
    "[Introducción](#Introducción)<br>\n",
    "[Concepto de fichero](#Concepto_de_fichero)<br>\n",
    "[Tipos de ficheros](#Tipos_de_fichero)<br>\n",
    "[Elementos básicos de programación con ficheros](#Ficheros_básico)<br>\n",
    "[Lectura línea por línea de ficheros en Python](#Lectura_línea_por_línea_de_ficheros_en_Python)<br>\n",
    "[Manejo de excepciones con ficheros](#Manejo_de_excepciones_con_ficheros)<br>\n",
    "[Otras formas de lectura en Python](#Otras_formas_de_lectura_en_Python)<br>\n",
    "[Leyendo un fichero con formato complejo](#Leyendo_un_fichero_con_formato_complejo)<br>\n",
    "[Escritura en un fichero](#Escritura_en_un_fichero)<br>\n",
    "[Consideraciones finales](#Consideraciones_finales)"
   ]
  },
  {
   "cell_type": "markdown",
   "metadata": {},
   "source": [
    "***\n",
    "<a id='Introducción'></a>"
   ]
  },
  {
   "cell_type": "markdown",
   "metadata": {},
   "source": [
    "## Introducción\n",
    "\n",
    "Toda persona que haya interactuado con los ordenadores tiene alguna idea de lo que es un **fichero**. Sabemos que determinadas aplicaciones informáticas los crean para almacenar, por ejemplo, los documentos generados por un editor de textos o una hoja de cálculo. Conocemos que las aplicaciones son preservadas en ficheros ejecutables. Por otro lado, día tras día copiamos ficheros de una carpeta del disco duro a otra, o hacia una memoria USB, ¡o los borramos definitivamente!\n",
    "\n",
    "En este tema haremos primero una breve introducción al concepto informático de fichero. Posteriormente, veremos algunas de las herramientas básicas, las más habituales, que proporciona Python para trabajar con ficheros."
   ]
  },
  {
   "cell_type": "markdown",
   "metadata": {},
   "source": [
    "***\n",
    "<a id='Concepto_de_fichero'></a>"
   ]
  },
  {
   "cell_type": "markdown",
   "metadata": {},
   "source": [
    "## Concepto de fichero\n",
    "\n",
    "**Un fichero es un conjunto de datos relacionados entre sí**, que son almacenados de forma **permanente** en dispositivos tales como discos duros, memorias *flash*, etc. y que pueden ser tratados, hasta cierto punto, como una unidad. \n",
    "\n",
    "En este contexto, **permanente** quiere decir que, salvo fallos catastróficos o hasta que sean borrados a propósito, estos datos permanecen en el medio en que se almacenan (medios magnéticos o de otro tipo) y continúan existiendo después de que el programa que los creó deja de ejecutarse, incluso después de apagar el ordenador. \n",
    "\n",
    "Esto marca la diferencia con los datos que son provisionalmente almacenados en la memoria RAM, la **memoria volátil** del ordenador, que no *sobreviven* al programa que los crea y mucho menos a la desconexión del computador de la red eléctrica."
   ]
  },
  {
   "cell_type": "markdown",
   "metadata": {},
   "source": [
    "### Utilidad de los ficheros\n",
    "El concepto de fichero es una **abstracción** del **Sistema Operativo** (**S.O.**) que, de forma transparente al programador,  utiliza los recursos del *hardware* creando sobre ellos una estructura lógica para representarlos, facilitando a los lenguajes de programación el uso de interfaces de usuario simples y versátiles.\n",
    "\n",
    "El Sistema Operativo crea todo el **sistema de ficheros** del ordenador: los directorios para organizarlos, las tablas para localizarlos en el disco, etc.\n",
    "\n",
    "Los ficheros son enormemente importantes en programación. No sólo debido al hecho evidente de que brindan el soporte que permite la mera existencia de las aplicaciones en el disco duro. Si no existieran los ficheros, por ejemplo, toda la interacción del usuario con una aplicación concreta, como la introducción y la obtención de resultados parciales, tendría que ser laboriosamente recreada cada vez que se ejecutara el programa. La existencia del fichero hace posible que, al terminar una sesión de trabajo, se almacenen los datos y resultados en el disco, para poder retomar la tarea en una sesión posterior. \n",
    "\n",
    "Por otra parte, los ficheros pueden ser útiles como vehículos para el intercambio de información entre diferentes aplicaciones: los datos resultantes *escritos* en un fichero por el programa A podrán servir de *entrada* para un programa B."
   ]
  },
  {
   "cell_type": "markdown",
   "metadata": {},
   "source": [
    "***\n",
    "<a id='Tipos_de_fichero'></a>"
   ]
  },
  {
   "cell_type": "markdown",
   "metadata": {
    "raw_mimetype": "text/markdown"
   },
   "source": [
    "## Tipos de ficheros\n",
    "\n",
    "El **contenido** y la **estructura** de un fichero responde a un criterio de **diseño libre**, elegido por el desarrollador de una aplicación. En cualquier caso, en relación a la forma en que los datos son almacenados, los ficheros podríamos clasificarlos como:\n",
    "\n",
    "- **Ficheros binarios**: Contienen una representación exacta del contenido (binario, ceros y unos) de los datos.\n",
    "No son *editables*. \n",
    "> Ejemplo: Representación de 3 números enteros 255 3 10 en complemento a 2. Cada entero ocupa el mismo número de bytes.\n",
    "![fichero_binario](img/fichero_binario.jpg)\n",
    "- **Ficheros de texto**: Los datos están representados con los caracteres alfanuméricos que los representan. Pueden ser leídos y modificados a través de un editor de texto.\n",
    "\n",
    "> Ejemplo: Representación de 3 números enteros 255 3 10 codificados en ASCII, separados por espacios en blanco (20H en ASCII). Cada entero ocupa un número de bytes distinto.\n",
    "![fichero_texto](img/fichero_texto.jpg)\n",
    "\n",
    "En este cuaderno trabajaremos con ficheros de texto. Vamos a ver que el trabajo con los ficheros de texto es esencialmente análogo al trabajo con entrada/salida convencional a través de la consola (habitualmente el teclado y la pantalla). "
   ]
  },
  {
   "cell_type": "markdown",
   "metadata": {},
   "source": [
    "***\n",
    "<a id='Ficheros_básico'></a>"
   ]
  },
  {
   "cell_type": "markdown",
   "metadata": {},
   "source": [
    "## Elementos básicos de programación con ficheros\n",
    "\n",
    "La **equivalencia** entre entrada/salida a través de teclado y pantalla y la utilización de ficheros es muy profunda. Los S.O. actuales hacen un tratamiento unificado de estos recursos y tratan, por ejemplo, a la pantalla y al teclado como ficheros de salida y de entrada respectivamente, *ficheros* que están siempre *listos* para ser utilizados. Es una muestra más del mecanismo de abstracción mencionado más arriba.\n",
    "\n",
    "Recalquemos que cuando en Python usamos `print()`, estamos escribiendo datos en el fichero *por defecto* o *estándar*, la pantalla, y que cuando empleamos `input()`, estamos leyendo datos del fichero *por defecto* o *estándar*, el teclado.\n",
    "\n",
    "Cuando no usamos los *ficheros estándar*, tanto en Python como en cualquier otro lenguaje de programación, debemos realizar algunas tareas *adicionales*:\n",
    "\n",
    "- **Abrir el fichero**: hay que asociar el fichero (definido a nivel del S.O.) con un *objeto* que provea la fuente de datos y definir si se va utilizar para entrada o para salida de datos, es decir, para leer o para escribir.\n",
    "- **Cerrar el fichero**: Una vez finalizada la interacción con el *objeto* que representa el fichero, este hecho debe ser informado al S.O. mediante los métodos apropiados. Así, el S.O. podrá realizar las acciones requeridas para garantizar que el fichero queda en un estado consistente y seguro."
   ]
  },
  {
   "cell_type": "markdown",
   "metadata": {},
   "source": [
    "### El concepto de flujo de datos (stream)\n",
    "\n",
    "Las operaciones de lectura/escritura hacen uso del concepto de **flujo** o **corriente** de datos (**stream**). El símil se basa en el hecho de interpretar la entrada/salida como una corriente o río de datos, donde estos son representados por la aparición **en serie**, uno tras otro, de los **bytes** que  representan cada uno de los valores transferidos. \n",
    "\n",
    "El concepto de transferencia de datos en serie es clave. Si desde el teclado queremos introducir el número 543, es evidente que antes de escribir el 3, debemos escribir el 4 y antes el 5. En el caso de los ficheros se utiliza el mismo paradigma, se escribe un dato siempre a continuación del anterior. "
   ]
  },
  {
   "cell_type": "markdown",
   "metadata": {},
   "source": [
    "![esquema_fichero.jpg](img/esquema_fichero.jpg)"
   ]
  },
  {
   "cell_type": "markdown",
   "metadata": {},
   "source": [
    "La figura previa describe la relación que existe entre los datos almacenados en el medio físico y la _construcción lógica_ que es el fichero.\n",
    "A nivel del dispositivo periférico, la forma de referirse al dato es a través de atributos de muy *bajo nivel*, tales como su *dirección*, que puede ser descrita, por ejemplo, por la intersección de *cilindros* y *sectores* definidos por el *hardware*.\n",
    "\n",
    "El **fichero**, por su parte, es un conjunto **lógico** de datos que el programa que lo crea (con la ayuda indispensable del Sistema Operativo) *decide* tratarlos como una unidad. Nótese, que en el nivel hardware, si se usa un disco duro como almacenamiento, ese conjunto lógico involucrará a múltiples *cilindros* y *sectores*."
   ]
  },
  {
   "cell_type": "markdown",
   "metadata": {},
   "source": [
    "### Memoria intermedia (buffers)\n",
    "La entrada/salida desde/hacia **ficheros** está mediada, de forma transparente al programador, por memoria auxiliar o búferes (**buffers**).\n",
    "\n",
    "Los **búferes** cumplen distintos cometidos, pero el fundamental es el de servir como **pulmón** de la CPU. Dado que los procesos de lectura/escritura en los dispositivos son mucho más lentos que los realizados en la RAM, los datos son temporalmente leídos/escritos en búferes. De esta forma, los accesos a un dispositivo lento no ralentizan las aplicaciones."
   ]
  },
  {
   "cell_type": "markdown",
   "metadata": {},
   "source": [
    "#### Necesidad de cerrar el fichero\n",
    "Cuando nuestro programa ha terminado de utilizar el **fichero** debe **cerrarlo**. ¿Por qué es necesario cerrar el fichero?\n",
    "- La escritura/lectura se realiza sobre los *búferes* y estos son eventualmente transferidos al medio físico. Cuando se *cierra* el fichero, se **fuerza** a realizar esa transferencia. De otro modo, se podría incurrir en pérdida de información.\n",
    "- La utilización de un fichero comporta un consumo importante de memoria del ordenador (*búferes* y otros elementos). Si no se cierra el fichero, esa memoria resulta *inutilizada*.\n",
    "- El Sistema Operativo establece un número máximo de ficheros que pueden estar *abiertos* simultáneamente. Si no *cerramos* los ficheros que, de momento, no estamos utilizando, puede que nuestro programa no pueda *abrir* otros que sí son necesarios."
   ]
  },
  {
   "cell_type": "markdown",
   "metadata": {},
   "source": [
    "***\n",
    "<a id='Lectura_línea_por_línea_de_ficheros_en_Python'></a>"
   ]
  },
  {
   "cell_type": "markdown",
   "metadata": {},
   "source": [
    "## Lectura línea por línea de ficheros en Python\n",
    "Para entender el manejo de ficheros en Python utilizaremos inicialmente un sencillo ejemplo. Para ello, utilizaremos un editor de textos con el que hemos creado un archivo llamado *valores_en_columna.txt*. El contenido es una secuencia de valores enteros fácil de recordar, para que las comprobaciones del buen funcionamiento del código sean sencillas de verificar.\n",
    "![valores_en_columna.jpg](img/valores_en_columna.jpg)\n",
    "\n",
    "De momento, para simplificar la **ruta de acceso** al fichero, este archivo está situado al mismo nivel que este cuaderno. La extensión `.txt` es la habitual para *recalcar* que el fichero es de tipo texto, pero podemos usar cualquier extensión, preferentemente no utilizando aquellas habituales en aplicaciones estándar, tales como `.doc`, `.exe`, `.lib`, `.pdf`, etc."
   ]
  },
  {
   "cell_type": "markdown",
   "metadata": {},
   "source": [
    "### La apertura y el cierre\n",
    "Los ficheros no estándar deben ser abiertos antes de ser utilizados, y cerrados cuando se concluya (al menos provisionalmente) el trabajo con ellos.\n",
    "\n",
    "Para abrir un fichero debemos tener en cuenta:\n",
    "- La localización del fichero: (Ej.: \"*datos/temperaturas/Valladolid.dat*\")\n",
    "- La declaración del **modo de apertura**, que es un parámetro que indica si, por ejemplo, queremos leer del fichero o escribir en el fichero (Ej.: `'w'`: escritura, `'r'`: lectura)\n",
    "- La asignación de un nombre en el programa que a partir de ese momento representará al fichero (Ej.: `fich_sal`)\n",
    "\n",
    "Para abrir un fichero disponemos de la función `open()`, que nos devuelve el **objeto** fichero con el que vamos a poder trabajar a partir de ese momento. En el ejemplo, se abre un fichero `'Valladolid.dat'` especificando la ruta de acceso desde el **directorio de trabajo**, con la intención de escribir en él datos, (`'w'`) y al que se referenciará con el nombre `fich_sal`. \n",
    "```python\n",
    "fich_sal = open('datos/temperaturas/Valladolid.dat','w')\n",
    "```"
   ]
  },
  {
   "cell_type": "markdown",
   "metadata": {},
   "source": [
    "En la siguiente tabla se muestran los diferentes **modos de apertura**. Con saber utilizar los modos `'w'` y `'r'` es más que suficiente para los objetivos del curso.\n",
    "\n",
    "|   modo de apertura | Descripción |          Acción                                                            |\n",
    "|:------------------:|:-----------:|:--------------------------------------------------------------------------:|\n",
    "| `'w'`              | Escritura   |Si el fichero no existe lo crea. Si existe, borra su contenido              |\n",
    "| `'r'`              | Lectura     |Si existe fichero: lo abre. Si no existe: excepción `FileNotFoundError`     |\n",
    "| `'a'`              | Añadir      |Si fichero no existe, lo crea para escritura. Si existe, añade al final     | \n",
    "| `'w+'`             | Actualizar  |Escritura/ lectura. Si el fichero no existe lo crea. Si existe: borra       |\n",
    "| `'r+'`             | Actualizar  |Lectura/Escritura. Si no existe: excepción `FileNotFoundError`              |\n",
    "| `'a+'`             | Añadir      |Escritura/lectura. Si existe, añade al final.                               | \n",
    "| `'b'`              | Binario     |Abre en binario. Combinadas con otras banderas: establece modo              |\n",
    "| `'x'`              | Creación    |Abre exclusivamente para crear fichero. Si ya existe, falla                 |\n",
    "\n",
    "Para cerrar el fichero se usa el método `close()`. Siguiendo con el ejemplo anterior:\n",
    "```python\n",
    "fich_sal = open('datos/temperaturas/Valladolid.dat', 'w')\n",
    "# Código de escritura en el fichero\n",
    "# ...\n",
    "fich_sal.close()  # Cerramos el fichero\n",
    "```"
   ]
  },
  {
   "cell_type": "markdown",
   "metadata": {},
   "source": [
    "En algunas celdas que siguen a continuación vamos a utilizar el **comando mágico** de **IPython** `%reset -f` para resetear las variables del espacio de nombres y que los resultados de una celda no influyan en las otras.\n",
    "\n",
    "Los comandos mágicos fueron tratados en la sesión de laboratorio 1 en el cuaderno *Introduccion_Jupyter_Notebook.ipynb*."
   ]
  },
  {
   "cell_type": "markdown",
   "metadata": {},
   "source": [
    "### Lectura línea por línea\n",
    "Tras abrir el fichero correspondiente, la forma básica de leer un fichero línea por línea es:\n",
    "```python\n",
    "fich_ent = open('nombre_fichero.txt', 'r')\n",
    "for linea in fich_ent:\n",
    "    # Procesar la línea\n",
    "fich_ent.close()\n",
    "```\n",
    "La variable `linea` es una **cadena de caracteres** que va tomando secuencialmente las cadenas de caracteres correspondientes a cada una de las líneas del fichero, desde la primera a la última. "
   ]
  },
  {
   "cell_type": "code",
   "execution_count": 1,
   "metadata": {},
   "outputs": [
    {
     "name": "stdout",
     "output_type": "stream",
     "text": [
      "1\n",
      "\n",
      "2\n",
      "\n",
      "3\n",
      "\n",
      "4\n",
      "\n",
      "5\n",
      "\n",
      "6\n",
      "\n",
      "7\n",
      "\n",
      "8\n",
      "\n",
      "9\n",
      "\n",
      "10\n",
      "\n"
     ]
    }
   ],
   "source": [
    "# Leyendo del fichero \"valores_en_columna.txt\" línea a línea\n",
    "fich_ent = open('valores_en_columna.txt', 'r')  # Apertura\n",
    "\n",
    "for linea in fich_ent:\n",
    "    print(linea)\n",
    "    \n",
    "fich_ent.close()  # Cierre"
   ]
  },
  {
   "cell_type": "markdown",
   "metadata": {},
   "source": [
    "Al ejecutar el código observaréis que aparece una línea en blanco entre cada uno de los números. Esto es así porque cada línea en el fichero de texto tiene un carácter no imprimible nueva línea, el carácter `\\n`. A eso se une el que por defecto introduce la función `print()`. \n",
    "\n",
    "Este hecho debe recordarnos que, al igual que con la función de lectura estándar `input()`, lo que estamos leyendo son cadenas de caracteres, es decir, `linea` es un dato tipo `str`. Para poder utilizar los valores enteros, podemos recurrir a la función `int()`. \n",
    "\n",
    "En el siguiente ejemplo, rehacemos el código para almacenar los valores enteros en una lista."
   ]
  },
  {
   "cell_type": "code",
   "execution_count": 2,
   "metadata": {},
   "outputs": [
    {
     "name": "stdout",
     "output_type": "stream",
     "text": [
      "[1, 2, 3, 4, 5, 6, 7, 8, 9, 10]\n"
     ]
    }
   ],
   "source": [
    "%reset -f\n",
    "# Leyendo del fichero \"valores_en_columna.txt\"  línea a línea\n",
    "fich_ent = open('valores_en_columna.txt', 'r')  # Apertura\n",
    "\n",
    "lista_enteros = []\n",
    "for linea in fich_ent:\n",
    "    lista_enteros.append(int(linea))\n",
    "\n",
    "print(lista_enteros)\n",
    "    \n",
    "fich_ent.close()  # Cierre"
   ]
  },
  {
   "cell_type": "markdown",
   "metadata": {},
   "source": [
    "Es muy importante darnos cuenta que el éxito en la lectura del fichero se sustenta en el hecho de que conocemos de antemano su **formato**. En este caso, que el fichero está formado por líneas en las cuales hay un único número entero. Si ese formato no se cumple, tendremos problemas.\n",
    "\n",
    "Veamos qué ocurre si pretendemos utilizar el mismo código con el fichero *valores_en_fila.txt*.\n",
    "![valores_en_columna.jpg](img/valores_en_fila.jpg)"
   ]
  },
  {
   "cell_type": "code",
   "execution_count": 3,
   "metadata": {},
   "outputs": [
    {
     "ename": "ValueError",
     "evalue": "invalid literal for int() with base 10: '1 2 3 4 5 6 7 8 9 10\\n'",
     "output_type": "error",
     "traceback": [
      "\u001b[1;31m---------------------------------------------------------------------------\u001b[0m",
      "\u001b[1;31mValueError\u001b[0m                                Traceback (most recent call last)",
      "\u001b[1;32m<ipython-input-3-51c9965f9dba>\u001b[0m in \u001b[0;36m<module>\u001b[1;34m\u001b[0m\n\u001b[0;32m      5\u001b[0m \u001b[0mlista_enteros\u001b[0m \u001b[1;33m=\u001b[0m \u001b[1;33m[\u001b[0m\u001b[1;33m]\u001b[0m\u001b[1;33m\u001b[0m\u001b[1;33m\u001b[0m\u001b[0m\n\u001b[0;32m      6\u001b[0m \u001b[1;32mfor\u001b[0m \u001b[0mlinea\u001b[0m \u001b[1;32min\u001b[0m \u001b[0mfich_ent\u001b[0m\u001b[1;33m:\u001b[0m\u001b[1;33m\u001b[0m\u001b[1;33m\u001b[0m\u001b[0m\n\u001b[1;32m----> 7\u001b[1;33m     \u001b[0mlista_enteros\u001b[0m\u001b[1;33m.\u001b[0m\u001b[0mappend\u001b[0m\u001b[1;33m(\u001b[0m\u001b[0mint\u001b[0m\u001b[1;33m(\u001b[0m\u001b[0mlinea\u001b[0m\u001b[1;33m)\u001b[0m\u001b[1;33m)\u001b[0m\u001b[1;33m\u001b[0m\u001b[1;33m\u001b[0m\u001b[0m\n\u001b[0m\u001b[0;32m      8\u001b[0m \u001b[1;33m\u001b[0m\u001b[0m\n\u001b[0;32m      9\u001b[0m \u001b[0mprint\u001b[0m\u001b[1;33m(\u001b[0m\u001b[0mlista_enteros\u001b[0m\u001b[1;33m)\u001b[0m\u001b[1;33m\u001b[0m\u001b[1;33m\u001b[0m\u001b[0m\n",
      "\u001b[1;31mValueError\u001b[0m: invalid literal for int() with base 10: '1 2 3 4 5 6 7 8 9 10\\n'"
     ]
    }
   ],
   "source": [
    "%reset -f\n",
    "# Leyendo del fichero \"valores_en_fila.txt\" línea a línea\n",
    "fich_ent = open('valores_en_fila.txt', 'r')  # Apertura\n",
    "\n",
    "lista_enteros = []\n",
    "for linea in fich_ent:\n",
    "    lista_enteros.append(int(linea))\n",
    "\n",
    "print(lista_enteros)\n",
    "    \n",
    "fich_ent.close()  # Cierre"
   ]
  },
  {
   "cell_type": "markdown",
   "metadata": {},
   "source": [
    "Afortunadamente, tenemos una *bonita* excepción:\n",
    "```Python\n",
    "ValueError: invalid literal for int() with base 10: '1 2 3 4 5 6 7 8 9 10\\n'\n",
    "```\n",
    "El análisis del mensaje nos da luz acerca del problema. La primera línea del fichero es la cadena de caracteres `'1 2 3 4 5 6 7 8 9 10\\n'`, que Python lógicamente es incapaz de convertir a un entero vía la función `int()`. Observad la presencia del carácter nueva línea `\\n` al final.\n",
    "\n",
    "Decimos afortunadamente porque no hay nada mejor que, de forma automática, el motor de ejecución de Python nos informe de que algo estamos haciendo mal. Imaginad que la ejecución no diese error y que en una importante variable de nuestra aplicación cargásemos un valor espurio.\n",
    "\n",
    "Veremos más adelante como leer este fichero."
   ]
  },
  {
   "cell_type": "markdown",
   "metadata": {},
   "source": [
    "***\n",
    "<a id='Manejo_de_excepciones_con_ficheros'></a>"
   ]
  },
  {
   "cell_type": "markdown",
   "metadata": {},
   "source": [
    "## Manejo de excepciones con ficheros\n",
    "En el caso del uso de **ficheros**, la capacidad de responder de forma consistente a errores que se puedan producir, es muy importante. Hay que tener en cuenta que, cuando se trata de ficheros, existen una serie de elementos *externos* que dependen del *hardware* y del **Sistema Operativo** que pueden fallar y que están fuera del control del programador.\n",
    "\n",
    "Por ejemplo:\n",
    "- El fichero que se pretende *abrir* para *lectura* no existe.\n",
    "- Se pretende *abrir* para *escritura* un fichero en un medio físico (dispositivo) o lógico (carpeta) *protegido* contra escritura.\n",
    "\n",
    "Otros fallos pueden ser debidos a:\n",
    "- La estructura o formato que se espera del fichero no es la realmente existente.\n",
    "> Acabamos de ver el ejemplo más arriba con el fichero *valores_en_fila.txt*.\n",
    "- Durante la lectura del fichero, se produce otro tipo de excepción, como una división por 0, etc."
   ]
  },
  {
   "cell_type": "markdown",
   "metadata": {},
   "source": [
    "Vamos a generar *artificialmente* una excepción `IndexError` y a capturarla debidamente. Lo logramos creando de inicio una lista de 9 elementos, cuando nuestro fichero tiene realmente 10."
   ]
  },
  {
   "cell_type": "code",
   "execution_count": 4,
   "metadata": {},
   "outputs": [
    {
     "name": "stdout",
     "output_type": "stream",
     "text": [
      "list assignment index out of range\n",
      "Cerramos el fichero.\n"
     ]
    }
   ],
   "source": [
    "%reset -f\n",
    "# Leyendo del fichero \"valores_en_columna.txt\"  línea a línea\n",
    "try:\n",
    "    fich_ent = open('valores_en_columna.txt', 'r')\n",
    "    # Línea \"artificial\" para generar un error de índice en nuestro ejemplo\n",
    "    # Cambiando 9 por 10 el programa no genera error\n",
    "    num_valores = 9  \n",
    "    lista_enteros = [0]*num_valores  \n",
    "    for i, linea in enumerate(fich_ent):\n",
    "        lista_enteros[i] = int(linea)\n",
    "except IndexError as error:\n",
    "    print(error)\n",
    "else:\n",
    "    print(lista_enteros)\n",
    "finally:\n",
    "    print('Cerramos el fichero.')\n",
    "    fich_ent.close()  # Cierre"
   ]
  },
  {
   "cell_type": "markdown",
   "metadata": {},
   "source": [
    "Aquí vemos entrar en acción al bloque `finally`, un bloque concebido para ser destinado a cerrar recursos abiertos, una especie de *coche escoba*. Tanto si existe excepción como si no, el fichero está abierto y debemos cerrarlo."
   ]
  },
  {
   "cell_type": "markdown",
   "metadata": {},
   "source": [
    "Vamos ahora a provocar otro error típico: nos equivocamos al transcribir el nombre. En el siguiente ejemplo, hemos empleado `colunna` en lugar de `columna`."
   ]
  },
  {
   "cell_type": "code",
   "execution_count": null,
   "metadata": {},
   "outputs": [],
   "source": [
    "%reset -f\n",
    "# Leyendo del fichero \"valores_en_columna.txt\"  línea a línea\n",
    "try:\n",
    "    fich_ent = open('valores_en_colunna.txt', 'r')\n",
    "    # Línea \"artificial\" para generar un error de índice en nuestro ejemplo\n",
    "    # Cambiando 9 por 10 el programa no genera error\n",
    "    num_valores = 9  \n",
    "    lista_enteros = [0]*num_valores  \n",
    "    for i, linea in enumerate(fich_ent):\n",
    "        lista_enteros[i] = int(linea)\n",
    "except IndexError as error:\n",
    "    print(error)\n",
    "else:\n",
    "    print(lista_enteros)\n",
    "finally:\n",
    "    print('Cerramos el fichero.')\n",
    "    fich_ent.close()  # Cierre"
   ]
  },
  {
   "cell_type": "markdown",
   "metadata": {},
   "source": [
    "**¡Tenemos dos excepciones**!\n",
    "* La excepción `FileNotFoundError` es bastante descriptiva del tipo de error cometido. \n",
    "* La excepción `NameError` nos está diciendo que no conoce la existencia de la variable `fich_ent`. Pero, ¡la tenemos definida en la línea `fich_ent = open('valores_en_colunna.txt','r')`!. Raro ¿no?.\n",
    "\n",
    "Vamos, de momento, a manejar la excepción `FileNotFoundError`, cuyo origen tenemos claro."
   ]
  },
  {
   "cell_type": "code",
   "execution_count": null,
   "metadata": {},
   "outputs": [],
   "source": [
    "%reset -f\n",
    "# Leyendo del fichero \"valores_en_columna.txt\"  línea a línea\n",
    "try:\n",
    "    fich_ent = open('valores_en_colunna.txt', 'r')\n",
    "    # Línea \"artificial\" para generar un error de índice en nuestro ejemplo\n",
    "    # Cambiando 9 por 10 el programa no genera error\n",
    "    num_valores = 9  \n",
    "    lista_enteros = [0]*num_valores  \n",
    "    for i, linea in enumerate(fich_ent):\n",
    "        lista_enteros[i] = int(linea)\n",
    "except (IndexError, FileNotFoundError) as error:\n",
    "    print(error)\n",
    "else:\n",
    "    print(lista_enteros)\n",
    "finally:\n",
    "    print('Cerramos el fichero.')\n",
    "    fich_ent.close()  # Cierre"
   ]
  },
  {
   "cell_type": "markdown",
   "metadata": {},
   "source": [
    "Seguimos teniendo la excepción `NameError`.\n",
    "\n",
    "**¿Qué está pasando?**\n",
    "\n",
    "El problema es que la excepción `FileNotFoundError` se genera en la parte derecha de la asignación a la variable `fich_ent`, al intentar abrir un fichero que no existe. Y **la asignación nunca llega a producirse** y, por tanto, la variable `fich_ent` no llega a estar definida nunca.\n",
    "\n",
    "Nuestro `finally` tal y como está programado no nos ayuda. Podríamos solventar el problema a través de la utilización de código más verboso, pero hay mejores opciones."
   ]
  },
  {
   "cell_type": "markdown",
   "metadata": {},
   "source": [
    "### El administrador de contextos `with`\n",
    "A partir de la versión 2.6 de Python se introdujo una *nueva estructura* de control de flujo, la construcción `with`. La estructura `with` ha sido *diseñada* específicamente para lidiar con código donde se manejan **objetos** que utilizan **recursos** externos. Por ello, Python define a la estructura `with` como un **administrador de contextos** (**context manager**).\n",
    ">El concepto de **contexto** se utiliza en informática para referirse al conjunto de datos utilizados por un **recurso** que deben ser guardados para permitir una posterior reutilización.\n",
    "\n",
    "Además de los ficheros, un **administrador de contextos** como `with` puede trabajar con otros objetos, tales como aquellos dedicados a gestionar conexiones a red, bases de datos, etc.. Con todos estos recursos, se van produciendo una serie de pasos, generándose nuevos *estados*. Los recursos son *adquiridos* y deben ser *liberados* o *cerrados* aún en presencia de **excepciones**.\n",
    "\n",
    "Veamos el ejemplo anterior usando `with`:"
   ]
  },
  {
   "cell_type": "code",
   "execution_count": null,
   "metadata": {},
   "outputs": [],
   "source": [
    "%reset -f\n",
    "# Leyendo del fichero \"valores_en_columna.txt\"  línea a línea\n",
    "try:\n",
    "    with open('valores_en_columna.txt', 'r') as fich_ent: \n",
    "        # Línea \"artificial\" para generar un error de índice en nuestro ejemplo\n",
    "        # Cambiando 9 por 10 el programa no genera error\n",
    "        lista_enteros = [0]*10  # Línea \"artificial\" para generar un error de índice en nuestro ejemplo\n",
    "        for i, linea in enumerate(fich_ent):\n",
    "            lista_enteros[i] = int(linea)\n",
    "except (FileNotFoundError, IndexError) as error:\n",
    "    print(error)\n",
    "else:\n",
    "    print(lista_enteros)"
   ]
  },
  {
   "cell_type": "markdown",
   "metadata": {},
   "source": [
    "La construcción `with` crea un *contexto* que ante la presencia de posibles excepciones maneja el *recurso* que representa el fichero. En este caso, ya no es necesario *cerrar explícitamente* el fichero utilizando `close()`: el **administrador de contexto** creado con `with` se ocupa de todos estos detalles *tras las bambalinas*.\n",
    "\n",
    "Vistas estas ventajas, usaremos a partir de ahora, la estructura `with`."
   ]
  },
  {
   "cell_type": "markdown",
   "metadata": {},
   "source": [
    "***\n",
    "<a id='Otras_formas_de_lectura_en_Python'></a>"
   ]
  },
  {
   "cell_type": "markdown",
   "metadata": {},
   "source": [
    "## Otras formas de lectura en Python\n",
    "Una alternativa a leer línea por línea es hacerlo en **un único paso**:\n",
    "* usando el método `readlines()`. Se crea una lista con las cadenas de caracteres de cada una de las líneas.\n",
    "* usando el método `read()`. Obtendremos una única cadena de caracteres unión de todas las líneas, incluidos los caracteres nueva línea.\n",
    "\n",
    "Debemos señalar que estas funciones pueden usarse con un argumento indicando el número de caracteres a leer, opción que no estudiaremos."
   ]
  },
  {
   "cell_type": "markdown",
   "metadata": {},
   "source": [
    "#### Ejemplo de uso de `readlines()`\n",
    "Para el fichero que estamos manejando, podemos observar que el código es menos compacto que con el método de lectura iterada línea por línea."
   ]
  },
  {
   "cell_type": "code",
   "execution_count": null,
   "metadata": {},
   "outputs": [],
   "source": [
    "%reset -f\n",
    "# Leyendo del fichero \"valores_en_columna.txt\"  con readlines()\n",
    "try:\n",
    "    with open('valores_en_columna.txt', 'r') as fich_ent: \n",
    "        lista_lineas = fich_ent.readlines()    \n",
    "except FileNotFoundError as error:\n",
    "    print(error)\n",
    "else:\n",
    "    print(\"Lista con las líneas del fichero\\n{}\".format(lista_lineas))\n",
    "    # Transformamos cada una de las líneas en el entero correspondiente\n",
    "    lista_enteros = [0]*len(lista_lineas)\n",
    "    for i, linea in enumerate(lista_lineas):\n",
    "        lista_enteros[i] = int(linea)\n",
    "        \n",
    "    print(\"Lista con los enteros del fichero\\n{}\".format(lista_enteros))"
   ]
  },
  {
   "cell_type": "markdown",
   "metadata": {},
   "source": [
    "#### Ejemplo de uso de `read()`"
   ]
  },
  {
   "cell_type": "code",
   "execution_count": null,
   "metadata": {},
   "outputs": [],
   "source": [
    "%reset -f\n",
    "# Leyendo del fichero \"valores_en_columna.txt\"  con read()\n",
    "try:\n",
    "    with open('valores_en_columna.txt', 'r') as fich_ent: \n",
    "        lineas_unidas = fich_ent.read()\n",
    "except FileNotFoundError as error:\n",
    "    print(error)\n",
    "else:\n",
    "    print(\"Una única cadena de caracteres correspondiente a todo el fichero\\n{}\".format(lineas_unidas))"
   ]
  },
  {
   "cell_type": "markdown",
   "metadata": {},
   "source": [
    "¡Atención! Lo que hemos sacado por pantalla es una única cadena de caracteres, la cadena `'1\\n2\\n3\\n4\\n5\\n6\\n7\\n8\\n9\\n10\\n'`, en cuyo interior hay caracteres nueva línea `\\n`."
   ]
  },
  {
   "cell_type": "markdown",
   "metadata": {},
   "source": [
    "Si utilizamos esta alternativa, para extraer nuestra secuencia de números enteros, podemos recurrir al método `split()` asociado a las cadenas de caracteres. El método `split()` extrae las *palabras* de la cadena de caracteres situadas entre espacios en blanco, que incluyen tabuladores, nuevas líneas, etc..\n",
    "> El método `split()` ya lo hemos usado cuando introducíamos por teclado valores *secuencialmente separados por espacios sin usar intro*."
   ]
  },
  {
   "cell_type": "code",
   "execution_count": null,
   "metadata": {},
   "outputs": [],
   "source": [
    "%reset -f\n",
    "# Leyendo del fichero \"valores_en_columna.txt\"  con read()\n",
    "try:\n",
    "    with open('valores_en_columna.txt', 'r') as fich_ent: \n",
    "        lineas_unidas = fich_ent.read()\n",
    "except FileNotFoundError as error:\n",
    "    print(error)\n",
    "else:\n",
    "    lista_enteros = []\n",
    "    for palabra in lineas_unidas.split():\n",
    "        lista_enteros.append(int(palabra))\n",
    "        \n",
    "    print(\"Lista con los enteros del fichero en columna\\n{}\".format(lista_enteros))"
   ]
  },
  {
   "cell_type": "markdown",
   "metadata": {},
   "source": [
    "Con este método, estamos en condiciones de procesar también nuestro archivo de números en una sola línea *valores_en_fila.txt*."
   ]
  },
  {
   "cell_type": "code",
   "execution_count": null,
   "metadata": {},
   "outputs": [],
   "source": [
    "%reset -f\n",
    "# Leyendo del fichero \"valores_en_columna.txt\"  con read()\n",
    "try:\n",
    "    with open('valores_en_fila.txt', 'r') as fich_ent: \n",
    "        lineas_unidas = fich_ent.read()\n",
    "except FileNotFoundError as error:\n",
    "    print(error)\n",
    "else:\n",
    "    lista_enteros = []\n",
    "    for palabra in lineas_unidas.split():\n",
    "        lista_enteros.append(int(palabra))\n",
    "        \n",
    "    print(\"Lista con los enteros del fichero en fila\\n{}\".format(lista_enteros))"
   ]
  },
  {
   "cell_type": "markdown",
   "metadata": {},
   "source": [
    "Debemos recalcar que existen más posibilidades de lectura de los ficheros, que pueden consultarse en la [documentación de Python](https://docs.python.org/3/tutorial/inputoutput.html#reading-and-writing-files), pero, entre todas las opciones, la lectura línea por línea es probablemente la más fácil y más utilizada."
   ]
  },
  {
   "cell_type": "markdown",
   "metadata": {},
   "source": [
    "***\n",
    "<a id='Leyendo_un_fichero_con_formato_complejo'></a>"
   ]
  },
  {
   "cell_type": "markdown",
   "metadata": {},
   "source": [
    "## Leyendo un fichero con formato complejo\n",
    "Los dos ejemplos de ficheros vistos hasta el momento tienen una estructura muy simple, lo que no significa que no sean útiles. \n",
    "\n",
    "Las aplicaciones prácticas requieren ser capaces de **crear** y **leer** ficheros que tengan una *estructura compleja* conocida de tamaño arbitrario, con independencia del número de datos que estos ficheros almacenen. En estos ficheros pueden mezclarse comentarios y datos tanto numéricos como cadenas de caracteres.\n",
    "\n",
    "Para dar sólo algunos ejemplos de los innumerables que podrían citarse, un fichero puede contener:\n",
    "\n",
    "- los datos del censo de una ciudad o un país: nombre y apellidos, DNI, dirección y edad de los votantes.\n",
    "- la sucesión de temperaturas recogidas por un sensor en determinado lugar.\n",
    "- las filas y columnas de una matriz de dimensiones arbitrarias.\n",
    "- los datos, organizados en número arbitrario de ejes, de un estudio epidemiológico, etc.\n",
    "\n",
    "Todos los problemas tienen en común que el **significado de los datos** y **la estructura básica** de la organización de los mismos **tienen que ser conocidos por el programador**. El *volumen* total de los datos (cantidad de personas, número de lecturas del sensor, dimensiones de la matriz, numero de ejes y cantidad de elementos por eje) es, en general, desconocido."
   ]
  },
  {
   "cell_type": "markdown",
   "metadata": {},
   "source": [
    "La figura siguiente muestra el fichero *almacen.txt*, cuyo formato es algo más complejo, formado por:\n",
    "* Una línea inicial que es un comentario explicativo del contenido del fichero, en general, útil solo para el usuario que lo abre directamente desde un editor de textos.\n",
    "* Una serie de líneas que contienen, cada una de ellas, una referencia de un producto y su precio.\n",
    "\n",
    "![almacen.jpg](img/almacen.jpg)"
   ]
  },
  {
   "cell_type": "markdown",
   "metadata": {},
   "source": [
    "Veamos un posible fragmento para su lectura. Lo relevante:\n",
    "* Leemos la primera línea y la obviamos\n",
    "* Para cada una de las siguientes líneas, extraemos con `split()` la referencia y el precio.\n",
    "\n",
    "Es importante darnos cuenta también aquí del concepto de **flujo de datos**. Tras leer con `readline()` la línea del comentario, ésta ya está extraída de él. De hecho, un **puntero** oculto estará ahora *señalando* a la siguiente línea, al siguiente **byte** a extraer, correspondiente a la línea donde se encuentra `ref_1` y `1.5`. Por eso, el bucle `for` que itera a continuación sobre el objeto fichero `fich` lo hace desde esa línea, no desde el principio del fichero."
   ]
  },
  {
   "cell_type": "code",
   "execution_count": null,
   "metadata": {},
   "outputs": [],
   "source": [
    "# Leyendo el fichero \"almacen.txt\"\n",
    "try:\n",
    "    with open('almacen.txt', 'r') as fich:\n",
    "        fich.readline()  # Leemos la primera línea pero la obviamos\n",
    "        producto = []\n",
    "        precio = []\n",
    "        for linea in fich:\n",
    "            palabras = linea.split()\n",
    "            producto.append(palabras[0])\n",
    "            precio.append(float(palabras[1]))\n",
    "except FileNotFoundError as error:\n",
    "    print(error)\n",
    "else:\n",
    "    print(producto)\n",
    "    print(precio)"
   ]
  },
  {
   "cell_type": "markdown",
   "metadata": {},
   "source": [
    "Vamos a introducir en el siguiente fragmento dos mejoras:\n",
    "* Leemos el fichero a través de una función, encapsulando su código\n",
    "* Creamos una lista de tuplas con la pareja (referencia, precio)"
   ]
  },
  {
   "cell_type": "code",
   "execution_count": null,
   "metadata": {},
   "outputs": [],
   "source": [
    "%reset -f\n",
    "def lee_fichero(nombre):\n",
    "    try:\n",
    "        with open(nombre, 'r') as fich:\n",
    "            fich.readline()  # Leemos la primera línea pero la obviamos\n",
    "            listado_precios = []\n",
    "            for linea in fich:\n",
    "                palabras = linea.split()\n",
    "                listado_precios.append((palabras[0], float(palabras[1])))\n",
    "    except FileNotFoundError as error:\n",
    "        raise FileNotFoundError(error)\n",
    "    else:\n",
    "        return listado_precios\n",
    "\n",
    "    \n",
    "# Programa principal\n",
    "try:\n",
    "    lista = lee_fichero('almacen.txt')  # Prueba a introducir un nombre erróneo\n",
    "except FileNotFoundError as error:\n",
    "    print(error)\n",
    "else:\n",
    "    print(lista)"
   ]
  },
  {
   "cell_type": "markdown",
   "metadata": {},
   "source": [
    "***\n",
    "<a id='Escritura_en_un_fichero'></a>"
   ]
  },
  {
   "cell_type": "markdown",
   "metadata": {},
   "source": [
    "## Escritura en un fichero\n",
    "La escritura en un fichero es comparativamente algo más simple que la lectura. No en vano, es el programador\n",
    "el que controla cómo es la estructura del fichero. Además, puede *despreocuparse* de elementos tales como los caracteres nueva línea, espacios en blanco, etc.\n",
    "\n",
    "Aunque puede usarse la función `print()` para escribir en un fichero, el método relevante es `write()`.\n",
    "A diferencia de `print()`, el método `write()` no añade un carácter nueva línea por defecto al escribir en el fichero.\n",
    "\n",
    "Si necesitamos añadir una línea, no tenemos mas que añadir a la cadena correspondiente el carácter `\\n`.\n",
    "\n",
    "Otro aspecto importante es ser conscientes de lo que ocurre si abrimos un fichero para escritura usando el modo de apertura `'w'`:\n",
    "* Si el fichero no existe, se creará uno nuevo con ese nombre\n",
    "* Si el fichero ya existe, **¡se borrará su contenido!**\n",
    "\n",
    "En el siguiente fragmento, vamos a crear un fichero *almacen_clon.txt*, idéntico a *almacen.txt*, usando todas las herramientas que ya conocemos."
   ]
  },
  {
   "cell_type": "code",
   "execution_count": null,
   "metadata": {},
   "outputs": [],
   "source": [
    "%reset -f\n",
    "def escribe_fichero(nombre, comentario, lista):\n",
    "    try:\n",
    "        with open(nombre, 'w') as fich:\n",
    "            fich.write(comentario + '\\n')  # Escribimos el comentario\n",
    "            for x in lista:\n",
    "                fich.write('{} {}\\n'.format(x[0], x[1]))\n",
    "    except FileNotFoundError as error:\n",
    "        raise FileNotFoundError(error)\n",
    "    \n",
    "\n",
    "# Programa principal\n",
    "comentario = 'Lista de productos y precios en Euros'\n",
    "listado_precios = [('ref_1', 1.5), ('ref_2', 2.1), ('ref_3', 9.98), ('ref_4', 4.41)]\n",
    "try:\n",
    "    escribe_fichero('almacen_clon.txt', comentario, listado_precios)\n",
    "except FileNotFoundError as error:\n",
    "    print(error)"
   ]
  },
  {
   "cell_type": "markdown",
   "metadata": {},
   "source": [
    "En lugar de utilizar el método `write()` se podría haber utilizado la propia función `print()` que hemos venido utilizando para la salida por la consola (asociada normalmente a la pantalla).\n",
    "\n",
    "Para `print()` escriba en un fichero diferente a la consola, que es el *fichero por defecto*, se puede utilizar el parámetro formal `file` de `print()`de la manera que se muestra:\n",
    "\n",
    "```python\n",
    "print(cadena, file=fich)\n",
    "```\n",
    "Como ya sabemos, la función `print()` sí incluye automáticamente el cambio de línea al final de la cadena procesada. \n",
    "\n",
    "La versión usando `print()` sería la siguiente:"
   ]
  },
  {
   "cell_type": "code",
   "execution_count": null,
   "metadata": {},
   "outputs": [],
   "source": [
    "%reset -f\n",
    "def escribe_fichero(nombre, comentario, lista):\n",
    "    try:\n",
    "        with open(nombre, 'w') as fich:\n",
    "            print(comentario, file=fich)  # Escribimos el comentario\n",
    "            for x in lista:\n",
    "                print(x[0], x[1], file=fich)\n",
    "    except FileNotFoundError as error:\n",
    "        raise FileNotFoundError(error)\n",
    "    \n",
    "\n",
    "# Programa principal\n",
    "comentario = 'Lista de productos y precios en Euros'\n",
    "listado_precios = [('ref_1', 1.5), ('ref_2', 2.1), ('ref_3', 9.98), ('ref_4', 4.41)]\n",
    "try:\n",
    "    escribe_fichero('almacen_clon_print.txt', comentario, listado_precios)\n",
    "except FileNotFoundError as error:\n",
    "    print(error)"
   ]
  },
  {
   "cell_type": "markdown",
   "metadata": {},
   "source": [
    "***\n",
    "<a id='Consideraciones_finales'></a>"
   ]
  },
  {
   "cell_type": "markdown",
   "metadata": {},
   "source": [
    "## Consideraciones finales\n",
    "En lo anterior, se han discutido algunos conceptos elementales del concepto informático de fichero y también un repaso de los métodos básicos para leer y/o escribir ficheros con Python.\n",
    "\n",
    "En muchas ocasiones, este acceso básico, es todo lo que se requiere. \n",
    "\n",
    "Consecuente con su filosofía, Python ofrece recursos de un mayor nivel de abstracción para lidiar de forma productiva con ficheros que siguen una estructura más compleja. Esta estructura puede ir desde simples ficheros en los que los datos aparecen en columnas separados por comas `,` u otros separadores, llamados ficheros tipo **csv** (**comma separated values**), hasta aquellos ficheros que sirven como infraestructura a **bases de datos**.\n",
    "\n",
    "Sin pretender catalogar todas las posibilidades, entre los recursos que brinda el *ecosistema* de Python para trabajar con ficheros de diferentes estructuras, se tienen:\n",
    "\n",
    "- [Módulo csv (biblioteca estándar de Python)](https://docs.python.org/3/library/csv.html): Ficheros csv.\n",
    "\n",
    "- [Módulo XML (biblioteca estándar de Python)](https://docs.python.org/3/library/xml.html): Para trabajar con ficheros codificados el estándar XML\n",
    "\n",
    "-  [Módulo JSON (biblioteca estándar de Python)](https://docs.python.org/3/library/json.html): Para ficheros codificados en el estándar JSON (Javascript Object Notation) el estándar _de facto_ en intercambio de información.\n",
    "\n",
    "- [OpenPyXL](https://openpyxl.readthedocs.io/en/stable/): Biblioteca para la manipulación de hojas de cálculo **Excel**.\n",
    "\n",
    "- [Pandas](https://pandas.pydata.org/): Para análisis y manipulación de datos.\n",
    "\n",
    "Más adelante usaremos algunas de estas herramientas para trabajar con ficheros."
   ]
  }
 ],
 "metadata": {
  "anaconda-cloud": {},
  "kernelspec": {
   "display_name": "Python 3",
   "language": "python",
   "name": "python3"
  },
  "language_info": {
   "codemirror_mode": {
    "name": "ipython",
    "version": 3
   },
   "file_extension": ".py",
   "mimetype": "text/x-python",
   "name": "python",
   "nbconvert_exporter": "python",
   "pygments_lexer": "ipython3",
   "version": "3.7.4"
  },
  "nbpresent": {
   "slides": {
    "1390653e-bdb6-444a-b611-39c60ffb77a1": {
     "id": "1390653e-bdb6-444a-b611-39c60ffb77a1",
     "prev": "5c2c8cc8-3676-4c06-b94c-d3f866ade69b",
     "regions": {
      "620813b3-9326-41e6-9d30-f5ac4f858225": {
       "attrs": {
        "height": 0.8,
        "width": 0.8,
        "x": 0.1,
        "y": 0.1
       },
       "content": {
        "cell": "86423d42-e808-47e6-b1a7-e925e195f821",
        "part": "whole"
       },
       "id": "620813b3-9326-41e6-9d30-f5ac4f858225"
      }
     }
    },
    "21036f68-a492-4532-a832-b213435c0ad2": {
     "id": "21036f68-a492-4532-a832-b213435c0ad2",
     "prev": "2c1c7f11-e5ee-4a25-8975-f0b033ba739a",
     "regions": {
      "a3908958-0784-4faa-ac97-b9325abe8ede": {
       "attrs": {
        "height": 0.8,
        "width": 0.8,
        "x": 0.1,
        "y": 0.1
       },
       "content": {
        "cell": "9aa64747-dc13-4bd9-bf26-73606628ad1c",
        "part": "whole"
       },
       "id": "a3908958-0784-4faa-ac97-b9325abe8ede"
      }
     }
    },
    "2c1c7f11-e5ee-4a25-8975-f0b033ba739a": {
     "id": "2c1c7f11-e5ee-4a25-8975-f0b033ba739a",
     "prev": "f3f10f50-4cad-4149-b308-c66e6a493a72",
     "regions": {
      "9e2d820e-ec17-4915-b960-0e0d5f640379": {
       "attrs": {
        "height": 0.8,
        "width": 0.8,
        "x": 0.1,
        "y": 0.1
       },
       "content": {
        "cell": "0281a659-abae-4cb9-b30f-b552b9db399e",
        "part": "whole"
       },
       "id": "9e2d820e-ec17-4915-b960-0e0d5f640379"
      }
     }
    },
    "30509a9a-dbd8-4dbd-9fab-852a7266d894": {
     "id": "30509a9a-dbd8-4dbd-9fab-852a7266d894",
     "prev": "8b078b7a-c2c6-4129-a19f-2a4f5c4a26f3",
     "regions": {
      "7baa4379-8f84-4d8f-b002-5a5ffd051489": {
       "attrs": {
        "height": 0.8,
        "width": 0.8,
        "x": 0.1,
        "y": 0.1
       },
       "content": {
        "cell": "14d1a927-b37f-4323-9404-17d453f3b487",
        "part": "whole"
       },
       "id": "7baa4379-8f84-4d8f-b002-5a5ffd051489"
      }
     }
    },
    "42d1bd80-265e-4acf-bbc1-b202afddade3": {
     "id": "42d1bd80-265e-4acf-bbc1-b202afddade3",
     "prev": "9bfe6214-4631-45b5-a05e-8923f178bb57",
     "regions": {
      "f2340145-4108-4fed-a0bc-4b91ca6c10ae": {
       "attrs": {
        "height": 0.8,
        "width": 0.8,
        "x": 0.1,
        "y": 0.1
       },
       "content": {
        "cell": "80be6133-d85a-4e43-9964-6578abcbaaac",
        "part": "whole"
       },
       "id": "f2340145-4108-4fed-a0bc-4b91ca6c10ae"
      }
     }
    },
    "5c2c8cc8-3676-4c06-b94c-d3f866ade69b": {
     "id": "5c2c8cc8-3676-4c06-b94c-d3f866ade69b",
     "prev": "6c4bc874-f3fc-472c-a81c-cd415b91c24b",
     "regions": {
      "e1de7ab6-4ef2-4b14-92d7-b174bf32806e": {
       "attrs": {
        "height": 0.8,
        "width": 0.8,
        "x": 0.1,
        "y": 0.1
       },
       "content": {
        "cell": "ae8725fa-30f7-4d7f-a2c2-5f86953d730b",
        "part": "whole"
       },
       "id": "e1de7ab6-4ef2-4b14-92d7-b174bf32806e"
      }
     }
    },
    "5cab5674-74dc-4378-93d7-eaa79e90cdae": {
     "id": "5cab5674-74dc-4378-93d7-eaa79e90cdae",
     "prev": "ba274d18-2760-4e55-ad47-2727b824fd00",
     "regions": {
      "2178d7cf-bf1e-4850-95a2-1509f15febfa": {
       "attrs": {
        "height": 0.8,
        "width": 0.8,
        "x": 0.1,
        "y": 0.1
       },
       "content": {
        "cell": "5d433d13-f44a-45bb-91fd-406f60b33b67",
        "part": "whole"
       },
       "id": "2178d7cf-bf1e-4850-95a2-1509f15febfa"
      }
     }
    },
    "638df7e1-84d1-4fd4-a15c-c94b731d1bea": {
     "id": "638df7e1-84d1-4fd4-a15c-c94b731d1bea",
     "prev": "b9dddf99-da24-46e1-81d4-8ac33b6fc3a3",
     "regions": {
      "deba8b1f-d997-4426-8f1b-978df7f19b41": {
       "attrs": {
        "height": 0.8,
        "width": 0.8,
        "x": 0.1,
        "y": 0.1
       },
       "content": {
        "cell": "7adaaf8f-a83e-456b-b99a-d3b3d4cb6d1a",
        "part": "whole"
       },
       "id": "deba8b1f-d997-4426-8f1b-978df7f19b41"
      }
     }
    },
    "6bda9eb4-0724-4e53-9971-131d0cb5f9e2": {
     "id": "6bda9eb4-0724-4e53-9971-131d0cb5f9e2",
     "prev": "ee33e624-cd65-4b8c-b28b-c95623a56dbf",
     "regions": {
      "feffbbd2-27d1-4318-8359-7d57583ee2bc": {
       "attrs": {
        "height": 0.8,
        "width": 0.8,
        "x": 0.1,
        "y": 0.1
       },
       "content": {
        "cell": "8dce188c-36b7-41fa-9020-b5cb5502e452",
        "part": "whole"
       },
       "id": "feffbbd2-27d1-4318-8359-7d57583ee2bc"
      }
     }
    },
    "6c4bc874-f3fc-472c-a81c-cd415b91c24b": {
     "id": "6c4bc874-f3fc-472c-a81c-cd415b91c24b",
     "prev": null,
     "regions": {
      "c9eac7e8-d033-4b03-8bf7-abd58ffe8d41": {
       "attrs": {
        "height": 0.8,
        "width": 0.8,
        "x": 0.1,
        "y": 0.1
       },
       "content": {
        "cell": "71219fc3-c9cb-4700-9f0b-ab38b1b223da",
        "part": "whole"
       },
       "id": "c9eac7e8-d033-4b03-8bf7-abd58ffe8d41"
      }
     }
    },
    "6d7ab34f-9d99-4c74-9877-27b25abc73f0": {
     "id": "6d7ab34f-9d99-4c74-9877-27b25abc73f0",
     "prev": "febe7de9-9362-4079-bfe9-2d4dfddf00e2",
     "regions": {
      "2ee252de-db5f-43e7-b4b7-7f59bba29962": {
       "attrs": {
        "height": 0.8,
        "width": 0.8,
        "x": 0.1,
        "y": 0.1
       },
       "content": {
        "cell": "85d1ab90-cc65-4935-808b-a6f57ecc892e",
        "part": "whole"
       },
       "id": "2ee252de-db5f-43e7-b4b7-7f59bba29962"
      }
     }
    },
    "7ea582c3-439d-4ec2-9f27-dea18bcacc31": {
     "id": "7ea582c3-439d-4ec2-9f27-dea18bcacc31",
     "prev": "f0727a74-61a1-48c1-94a5-3e7490c29f0b",
     "regions": {
      "652960af-b61f-4c36-b122-3eacd714867b": {
       "attrs": {
        "height": 0.8,
        "width": 0.8,
        "x": 0.1,
        "y": 0.1
       },
       "content": {
        "cell": "86172e20-fe16-447d-859f-24a81e563011",
        "part": "whole"
       },
       "id": "652960af-b61f-4c36-b122-3eacd714867b"
      }
     }
    },
    "8b078b7a-c2c6-4129-a19f-2a4f5c4a26f3": {
     "id": "8b078b7a-c2c6-4129-a19f-2a4f5c4a26f3",
     "prev": "5cab5674-74dc-4378-93d7-eaa79e90cdae",
     "regions": {
      "dce1e605-9342-414d-b8c6-7dcb922fbf47": {
       "attrs": {
        "height": 0.8,
        "width": 0.8,
        "x": 0.1,
        "y": 0.1
       },
       "content": {
        "cell": "ee1bdf03-6e13-4f1f-9dc9-22d4e344fdba",
        "part": "whole"
       },
       "id": "dce1e605-9342-414d-b8c6-7dcb922fbf47"
      }
     }
    },
    "999513ad-b53e-4d84-b9ef-ed37967f74d6": {
     "id": "999513ad-b53e-4d84-b9ef-ed37967f74d6",
     "prev": "638df7e1-84d1-4fd4-a15c-c94b731d1bea",
     "regions": {
      "2e85c1b2-3c30-413e-9b0f-141281da3a2a": {
       "attrs": {
        "height": 0.8,
        "width": 0.8,
        "x": 0.1,
        "y": 0.1
       },
       "content": {
        "cell": "998dc7f5-ab6d-4fb8-866f-4fa96a06aaaa",
        "part": "whole"
       },
       "id": "2e85c1b2-3c30-413e-9b0f-141281da3a2a"
      }
     }
    },
    "9add3d79-8621-4167-8e1d-d4ae48fba71b": {
     "id": "9add3d79-8621-4167-8e1d-d4ae48fba71b",
     "prev": "7ea582c3-439d-4ec2-9f27-dea18bcacc31",
     "regions": {
      "d5f4537e-4d8c-4179-b14b-6c475f50b04e": {
       "attrs": {
        "height": 0.8,
        "width": 0.8,
        "x": 0.1,
        "y": 0.1
       },
       "content": {
        "cell": "9659b1c1-9aed-4d71-b830-4a60d408ad71",
        "part": "whole"
       },
       "id": "d5f4537e-4d8c-4179-b14b-6c475f50b04e"
      }
     }
    },
    "9bfe6214-4631-45b5-a05e-8923f178bb57": {
     "id": "9bfe6214-4631-45b5-a05e-8923f178bb57",
     "prev": "30509a9a-dbd8-4dbd-9fab-852a7266d894",
     "regions": {
      "aac53254-d149-49f2-8f92-670c6f2714bb": {
       "attrs": {
        "height": 0.8,
        "width": 0.8,
        "x": 0.1,
        "y": 0.1
       },
       "content": {
        "cell": "c71a78d7-9d0e-4825-9c84-9998f971317d",
        "part": "whole"
       },
       "id": "aac53254-d149-49f2-8f92-670c6f2714bb"
      }
     }
    },
    "b9dddf99-da24-46e1-81d4-8ac33b6fc3a3": {
     "id": "b9dddf99-da24-46e1-81d4-8ac33b6fc3a3",
     "prev": "1390653e-bdb6-444a-b611-39c60ffb77a1",
     "regions": {
      "0b31dbb4-f15b-4a16-9420-c5dc8ed4e871": {
       "attrs": {
        "height": 0.8,
        "width": 0.8,
        "x": 0.1,
        "y": 0.1
       },
       "content": {
        "cell": "d0569bb0-fad8-48b7-8d48-0066bfb90401",
        "part": "whole"
       },
       "id": "0b31dbb4-f15b-4a16-9420-c5dc8ed4e871"
      }
     }
    },
    "ba274d18-2760-4e55-ad47-2727b824fd00": {
     "id": "ba274d18-2760-4e55-ad47-2727b824fd00",
     "prev": "ed47079d-58cf-4b87-a9fa-a709d8a7c3c6",
     "regions": {
      "13000b51-bd66-4fb5-970b-20bfad440880": {
       "attrs": {
        "height": 0.8,
        "width": 0.8,
        "x": 0.1,
        "y": 0.1
       },
       "content": {
        "cell": "f6847886-4044-43a7-9edd-f18efddcb7a9",
        "part": "whole"
       },
       "id": "13000b51-bd66-4fb5-970b-20bfad440880"
      }
     }
    },
    "ed47079d-58cf-4b87-a9fa-a709d8a7c3c6": {
     "id": "ed47079d-58cf-4b87-a9fa-a709d8a7c3c6",
     "prev": "9add3d79-8621-4167-8e1d-d4ae48fba71b",
     "regions": {
      "a96aea94-1714-4020-83f9-dbc03e9fd55e": {
       "attrs": {
        "height": 0.8,
        "width": 0.8,
        "x": 0.1,
        "y": 0.1
       },
       "content": {
        "cell": "5a579720-fa62-4525-85e3-dd049cbd73be",
        "part": "whole"
       },
       "id": "a96aea94-1714-4020-83f9-dbc03e9fd55e"
      }
     }
    },
    "ee33e624-cd65-4b8c-b28b-c95623a56dbf": {
     "id": "ee33e624-cd65-4b8c-b28b-c95623a56dbf",
     "prev": "999513ad-b53e-4d84-b9ef-ed37967f74d6",
     "regions": {
      "325ae98d-0855-4d16-8408-6d12f47efa24": {
       "attrs": {
        "height": 0.8,
        "width": 0.8,
        "x": 0.1,
        "y": 0.1
       },
       "content": {
        "cell": "829150e0-712b-4739-92d6-37b9c3d789cb",
        "part": "whole"
       },
       "id": "325ae98d-0855-4d16-8408-6d12f47efa24"
      }
     }
    },
    "f0727a74-61a1-48c1-94a5-3e7490c29f0b": {
     "id": "f0727a74-61a1-48c1-94a5-3e7490c29f0b",
     "prev": "6d7ab34f-9d99-4c74-9877-27b25abc73f0",
     "regions": {
      "1666081e-448d-4f80-90f2-9f26f1568cdc": {
       "attrs": {
        "height": 0.8,
        "width": 0.8,
        "x": 0.1,
        "y": 0.1
       },
       "content": {
        "cell": "d99a804c-9444-418b-bc94-3c2f064e2844",
        "part": "whole"
       },
       "id": "1666081e-448d-4f80-90f2-9f26f1568cdc"
      }
     }
    },
    "f3f10f50-4cad-4149-b308-c66e6a493a72": {
     "id": "f3f10f50-4cad-4149-b308-c66e6a493a72",
     "prev": "42d1bd80-265e-4acf-bbc1-b202afddade3",
     "regions": {
      "4fc1185f-bdb8-46fc-99bd-b8d30defeca9": {
       "attrs": {
        "height": 0.8,
        "width": 0.8,
        "x": 0.1,
        "y": 0.1
       },
       "content": {
        "cell": "9b7597e9-aaa9-4d9f-ba0d-22f43d1a3900",
        "part": "whole"
       },
       "id": "4fc1185f-bdb8-46fc-99bd-b8d30defeca9"
      }
     }
    },
    "febe7de9-9362-4079-bfe9-2d4dfddf00e2": {
     "id": "febe7de9-9362-4079-bfe9-2d4dfddf00e2",
     "prev": "6bda9eb4-0724-4e53-9971-131d0cb5f9e2",
     "regions": {
      "42348103-1cd6-4bac-b346-33cd41aea444": {
       "attrs": {
        "height": 0.8,
        "width": 0.8,
        "x": 0.1,
        "y": 0.1
       },
       "content": {
        "cell": "35a148d4-f201-4441-bf5e-8a07f93dea84",
        "part": "whole"
       },
       "id": "42348103-1cd6-4bac-b346-33cd41aea444"
      }
     }
    }
   },
   "themes": {}
  }
 },
 "nbformat": 4,
 "nbformat_minor": 2
}
