{
 "cells": [
  {
   "cell_type": "markdown",
   "metadata": {},
   "source": [
    "# Compresiones\n",
    "**Autores**: Rogelio Mazaeda, Félix Miguel Trespaderne.   "
   ]
  },
  {
   "cell_type": "markdown",
   "metadata": {},
   "source": [
    "## Contenidos\n",
    "[Introducción](#Introducción)<br>\n",
    "[Compresiones con listas](#compresiones_listas)<br>\n",
    "[Compresiones con diccionarios](#compresiones_diccionarios)<br>\n",
    "[Compresiones con conjuntos](#compresiones_sets)<br>"
   ]
  },
  {
   "cell_type": "markdown",
   "metadata": {},
   "source": [
    "***\n",
    "<a id='Introducción'></a>"
   ]
  },
  {
   "cell_type": "markdown",
   "metadata": {},
   "source": [
    "## Introducción.\n",
    "\n",
    "Los recursos de creación y manipulación de colecciones que se han visto hasta ahora nos permiten enfrentar todo tipo de problemas concebibles.\n",
    "\n",
    "Python es un lenguaje de muy alto nivel, que intenta  brindar al programador las herramientas más adecuadas para lidiar con el problema que se tenga entre manos. El utilizar una **abstracción** concreta u otra depende, en buena medida, del grado en que la misma se *acerque* al referente real que nuestro programa informático quiera representar o modelar.\n",
    "\n",
    "En el caso de las colecciones como: **listas**, **diccionarios** y **conjuntos**, un referente importante lo constituyen los conjuntos en matemáticas.\n",
    "\n",
    "De nuestra formación previa en matemáticas, nos resulta familiar una notación concreta a la hora de referinos a conjuntos. "
   ]
  },
  {
   "cell_type": "markdown",
   "metadata": {},
   "source": [
    "Por ejemplo, si queremos caracterizar el conjunto de elementos que se obtiene tras elevar al cuadrado los primeros 10 enteros, lo podríamos describir de la siguiente forma:\n",
    "\n",
    "$$\n",
    "\\begin{align}\n",
    "\\\\ \\{x^2, \\, x \\in \\aleph, \\, 0 \\leq x < 10 \\}\\\\\n",
    "\\end{align}\n",
    "$$\n",
    "\n",
    "Supongamos que quisieramos crear una lista de Python que representara esos números. Tendríamos varias alternativas, pero una de ellas es siempre el acudir a bucles como el que sigue:\n",
    "\n",
    "```python\n",
    "lista = []\n",
    "for x in range(10):\n",
    "    lista.append(x**2)\n",
    "```\n",
    "\n",
    "Pero en Python tenemos la posibilidad de utilizar la sintaxis de las **compresiones** (**comprehesions**) para obtener un código muy escueto y cercano al referente matemático, de la siguiente forma:\n",
    "\n",
    "```Python\n",
    "lista = [x**2 for x in range(10)]\n",
    "```"
   ]
  },
  {
   "cell_type": "code",
   "execution_count": 1,
   "metadata": {},
   "outputs": [
    {
     "name": "stdout",
     "output_type": "stream",
     "text": [
      "[0, 1, 4, 9, 16, 25, 36, 49, 64, 81]\n"
     ]
    }
   ],
   "source": [
    "lista = [x**2 for x in range(10)]\n",
    "print(lista)"
   ]
  },
  {
   "cell_type": "markdown",
   "metadata": {},
   "source": [
    "***\n",
    "<a id='compresiones_listas'></a>"
   ]
  },
  {
   "cell_type": "markdown",
   "metadata": {},
   "source": [
    "## Compresiones con listas\n",
    "\n",
    "Las compresiones se pueden aplicar a las colecciones ya vistas. La determinación de si se trata de una **lista**, un **diccionario**, o un **conjunto** se realiza en base a la presencia o no de determinados elementos sintácticos como los corchetes `[]` para las listas, o la presencia de una *clave* para los diccionarios, que además deben estar provistos de  claves, `{}`, etc. \n",
    "\n",
    "Para simplificar la explicación, nos centraremos inicialmente en las **compresiones de listas** para posteriormente abrir el abánico hacia las otras colecciones.\n",
    "\n",
    "La sintaxis general sería:\n",
    "\n",
    "```python\n",
    "[expr(var_1 ... var_n) for var1 in iterable_1 [....var_n in iterable_n] [if expr_bool]]  \n",
    "```\n",
    "\n",
    "- expr(var_1 ...var_2): será una expresión de Python que en general involucra `n` variables.\n",
    "- A continuación aparece un `for` que indica, mendiante algún *iterable*, el dominio de los valores a considerar.\n",
    "- Se pueden poner tantos `for` como sean necesarios (los corchetes internos indican que estos son opcionales).\n",
    "- Puede opcionalmente aparecer un único `if` que determina la condición lógica a cumplir por las variables de todos los dominios para poder ser incluida en el conjunto resultante."
   ]
  },
  {
   "cell_type": "code",
   "execution_count": 2,
   "metadata": {},
   "outputs": [
    {
     "name": "stdout",
     "output_type": "stream",
     "text": [
      "[0, 2, 4, 6, 8] [1, 3, 5, 7, 9]\n"
     ]
    }
   ],
   "source": [
    "pares = [x for x in range(0, 10, 2)]\n",
    "impares = [x+1 for x in pares]\n",
    "print(pares, impares)"
   ]
  },
  {
   "cell_type": "markdown",
   "metadata": {},
   "source": [
    "La lista ```pares``` esta compuesta para todos los elementos que cumplen que están en el rango de `[0,10[`, pero tomados de dos es dos.\n",
    "\n",
    "Nótese que la variable `x` en la compresión esta **ligada** (**bound**) a la misma: su alcance está limitado a la compresión donde está definida. \n",
    "\n",
    "La lista `impares` es conformada a su vez a partir de la lista `pares`. Obsérvese que de nuevo se usa  `x` para describir esta otra _compresión_ con un significado diferente: ahora `x` *recorre* todos los elementos del _iterable_ `pares` para incluir su sucesor (`x + 1`).\n",
    "\n",
    "Una alternativa para conformar los pares hubiera sido:"
   ]
  },
  {
   "cell_type": "code",
   "execution_count": null,
   "metadata": {},
   "outputs": [],
   "source": [
    "pares = [x for x in range(10) if x%2 == 0]\n",
    "pares"
   ]
  },
  {
   "cell_type": "markdown",
   "metadata": {},
   "source": [
    "La siguiente compresión usa dos variables internas a la misma, las variables ```x``` e ```y``` y una variable _libre_ definida fuera de la compresión, `desplazamiento`. Los elementos de la listas se calculan a partir de la expresión definida sobre esas variables y es calculada mientras `x` _recorre_ la lista que se ofrece literalmente y la variable `y` el iterable expresado por la función `range()`.  "
   ]
  },
  {
   "cell_type": "code",
   "execution_count": 3,
   "metadata": {},
   "outputs": [
    {
     "data": {
      "text/plain": [
       "[11, 12, 13, 14, 12, 14, 16, 18, 13, 16, 19, 22]"
      ]
     },
     "execution_count": 3,
     "metadata": {},
     "output_type": "execute_result"
    }
   ],
   "source": [
    "desplazamiento = 10\n",
    "tabla = [x*y + desplazamiento for x in [1, 2, 3] for y in range(1,5)]\n",
    "tabla"
   ]
  },
  {
   "cell_type": "markdown",
   "metadata": {},
   "source": [
    "Nótese que la compresión anterior sería la forma compacta del siguiente código:"
   ]
  },
  {
   "cell_type": "code",
   "execution_count": 4,
   "metadata": {},
   "outputs": [
    {
     "data": {
      "text/plain": [
       "[11, 12, 13, 14, 12, 14, 16, 18, 13, 16, 19, 22]"
      ]
     },
     "execution_count": 4,
     "metadata": {},
     "output_type": "execute_result"
    }
   ],
   "source": [
    "desplazamiento = 10\n",
    "tabla = []\n",
    "for x in [1, 2, 3]:\n",
    "    for y in range(1,5):\n",
    "        tabla.append(x*y + desplazamiento)\n",
    "tabla"
   ]
  },
  {
   "cell_type": "markdown",
   "metadata": {},
   "source": [
    "Otro ejemplo:"
   ]
  },
  {
   "cell_type": "code",
   "execution_count": 5,
   "metadata": {},
   "outputs": [
    {
     "data": {
      "text/plain": [
       "[(0, 1, 2), (0, 2, 1), (1, 0, 2), (1, 2, 0), (2, 0, 1), (2, 1, 0)]"
      ]
     },
     "execution_count": 5,
     "metadata": {},
     "output_type": "execute_result"
    }
   ],
   "source": [
    "lista_tuplas = [(x,y,z) for x in range(3) for y in range(3) for z in range(3) if x != y and y != z and x != z]\n",
    "lista_tuplas"
   ]
  },
  {
   "cell_type": "markdown",
   "metadata": {},
   "source": [
    "De nuevo, el código equivalente sería:"
   ]
  },
  {
   "cell_type": "code",
   "execution_count": 6,
   "metadata": {},
   "outputs": [
    {
     "data": {
      "text/plain": [
       "[(0, 1, 2), (0, 2, 1), (1, 0, 2), (1, 2, 0), (2, 0, 1), (2, 1, 0)]"
      ]
     },
     "execution_count": 6,
     "metadata": {},
     "output_type": "execute_result"
    }
   ],
   "source": [
    "lista_tuplas = []\n",
    "for x in range(3):\n",
    "    for y in range(3):\n",
    "        for z in range(3):\n",
    "            if x != y and y != z and x != z:\n",
    "                lista_tuplas.append((x,y,z))\n",
    "lista_tuplas"
   ]
  },
  {
   "cell_type": "markdown",
   "metadata": {},
   "source": [
    "Observe en el ejemplo previo que las listas pueden a su vez estar compuestas de tuplas. Las posibilidades son inagotables y están solamente limitadas por nuestro ingenio.\n",
    "\n",
    "En el siguiente ejemplo, se recibe una lista de tuplas, y se crea por _compresion_ otra lista de valores simples, integrado por el primer miembro (convertido a `float`) de aquellas tuplas cuyo segundo miembro sea diferente de cero."
   ]
  },
  {
   "cell_type": "code",
   "execution_count": 7,
   "metadata": {},
   "outputs": [
    {
     "data": {
      "text/plain": [
       "[1.5, 3.0, 10.5]"
      ]
     },
     "execution_count": 7,
     "metadata": {},
     "output_type": "execute_result"
    }
   ],
   "source": [
    "original = [(1.5,1), (2.1,0), (3, 1), (4,0), (10.5,5)]\n",
    "elegido = [float(x[0]) for x in original if x[1] != 0]\n",
    "elegido"
   ]
  },
  {
   "cell_type": "markdown",
   "metadata": {},
   "source": [
    "En el siguiente ejemplo, se itera sobre una lista anidada, que puede representar una matriz, y se crea por compresión, una lista (sin anidamientos) con todos los elementos de la matriz orginal. "
   ]
  },
  {
   "cell_type": "code",
   "execution_count": null,
   "metadata": {},
   "outputs": [],
   "source": [
    "lista_anidada = [[1, 2, 3],[4, 5, 6],[7, 8, 9]]\n",
    "lista_plana = [x for y in lista_anidada for x in y]\n",
    "lista_plana"
   ]
  },
  {
   "cell_type": "markdown",
   "metadata": {},
   "source": [
    "Observe que la variable interna `y` representa cada una de las sublistas (o las filas) de la lista anidada (matriz). Mientras que `x` itera por cada uno de los elementos de esas filas."
   ]
  },
  {
   "cell_type": "markdown",
   "metadata": {},
   "source": [
    "En el siguiente ejemplo se crea, de una manera muy sintética, una matriz de 3x3 inicializada a cero, usando una compresión anidada en otra."
   ]
  },
  {
   "cell_type": "code",
   "execution_count": null,
   "metadata": {},
   "outputs": [],
   "source": [
    "matriz = [[0 for col in range(3)] for row in range(3)]\n",
    "matriz"
   ]
  },
  {
   "cell_type": "markdown",
   "metadata": {},
   "source": [
    "***\n",
    "<a id='compresiones_diccionarios'></a>"
   ]
  },
  {
   "cell_type": "markdown",
   "metadata": {},
   "source": [
    "## Compresiones con diccionarios\n",
    "\n",
    "Las listas son las colecciones más utilizadas pero el concepto de _compresiones_ es igualmente útil para crear de forma muy sintética **diccionarios** y **conjuntos**.\n",
    "\n",
    "Lo único que se debe tener en cuenta es respetar la sintaxis de cada uno.\n",
    "\n",
    "```python\n",
    "{expr_clave(x_1,...x_n): expr_dato(x_1,...x_n) for x_1 in _iterable_1_ [...for x_n in _iterable_v] if exp_boll}\n",
    "```\n",
    "Para los diccionarios, se utilizan los delimitadores ```{}``` y se plantean expresiones para la _clave_ y los datos."
   ]
  },
  {
   "cell_type": "code",
   "execution_count": 8,
   "metadata": {},
   "outputs": [
    {
     "data": {
      "text/plain": [
       "{0.1: -5.756462732485114,\n",
       " 0.2: -4.023594781085251,\n",
       " 0.3: -3.00993201081484,\n",
       " 0.4: -2.2907268296853873,\n",
       " 0.5: -1.7328679513998633,\n",
       " 0.6: -1.277064059414977,\n",
       " 0.7: -0.891687359846831,\n",
       " 0.8: -0.5578588782855243,\n",
       " 0.9: -0.2634012891445657,\n",
       " 1.0: 0.0,\n",
       " 1.1: 0.2382754495108123,\n",
       " 1.2: 0.45580389198488647,\n",
       " 1.3: 0.6559106611687278,\n",
       " 1.4: 0.8411805915530322,\n",
       " 1.5: 1.0136627702704109,\n",
       " 1.6: 1.175009073114339,\n",
       " 1.7: 1.3265706276554259,\n",
       " 1.8: 1.4694666622552977,\n",
       " 1.9: 1.6046347154309868,\n",
       " 2.0: 1.7328679513998633}"
      ]
     },
     "execution_count": 8,
     "metadata": {},
     "output_type": "execute_result"
    }
   ],
   "source": [
    "from math import sqrt, log\n",
    "\n",
    "delta = 0.1\n",
    "\n",
    "abscisas = [round(float(x)/10 + delta, 1) for x in range(20)]\n",
    "\n",
    "tabla = {x:log(sqrt(x**5)) for x in abscisas}\n",
    "tabla"
   ]
  },
  {
   "cell_type": "markdown",
   "metadata": {},
   "source": [
    "En el ejemplo previo, se crea un diccionario que *implementa* una tabla a partir de evaluar una expresión matemática para cada uno de los elementos de una lista de _floats_ creada previamente.\n",
    "\n",
    "Otro ejemplo:"
   ]
  },
  {
   "cell_type": "code",
   "execution_count": 10,
   "metadata": {},
   "outputs": [
    {
     "data": {
      "text/plain": [
       "{'a': 97,\n",
       " 'b': 98,\n",
       " 'c': 99,\n",
       " 'd': 100,\n",
       " 'e': 101,\n",
       " 'f': 102,\n",
       " 'g': 103,\n",
       " 'h': 104,\n",
       " 'i': 105,\n",
       " 'j': 106,\n",
       " 'k': 107,\n",
       " 'l': 108,\n",
       " 'm': 109,\n",
       " 'n': 110,\n",
       " 'o': 111,\n",
       " 'p': 112,\n",
       " 'q': 113,\n",
       " 'r': 114,\n",
       " 's': 115,\n",
       " 't': 116,\n",
       " 'v': 118,\n",
       " 'w': 119,\n",
       " 'x': 120,\n",
       " 'y': 121}"
      ]
     },
     "execution_count": 10,
     "metadata": {},
     "output_type": "execute_result"
    }
   ],
   "source": [
    "ascii = {ch:ord(ch) for ch in \"abcdefghijklmnopqrstvwxyx\"}\n",
    "ascii"
   ]
  },
  {
   "cell_type": "markdown",
   "metadata": {},
   "source": [
    "***\n",
    "<a id='compresiones_sets'></a>"
   ]
  },
  {
   "cell_type": "markdown",
   "metadata": {},
   "source": [
    "## Compresiones con conjuntos\n",
    "\n",
    "Para el caso de **conjuntos**, la sintaxis sería:\n",
    "\n",
    "```python\n",
    "{expr_dato(x_1,...x_n) for x_1 in _iterable_1_ [...for x_n in _iterable_v] if exp_boll}\n",
    "```\n",
    "El elemento distintivo fundamental de los conjuntos es el hecho de que la propia colección garantiza que sus elementos nunca están repetidos, por así decirlo, los _filtra_."
   ]
  },
  {
   "cell_type": "code",
   "execution_count": 11,
   "metadata": {},
   "outputs": [
    {
     "data": {
      "text/plain": [
       "{'La',\n",
       " 'Resultado:',\n",
       " 'Una',\n",
       " 'cadena',\n",
       " 'con',\n",
       " 'es',\n",
       " 'filtrada.',\n",
       " 'palabras',\n",
       " 'repetidas.',\n",
       " 'repetir',\n",
       " 'sin'}"
      ]
     },
     "execution_count": 11,
     "metadata": {},
     "output_type": "execute_result"
    }
   ],
   "source": [
    "cadena = \"Una cadena con palabras repetidas. La cadena es filtrada. Resultado: cadena con palabras sin repetir\"\n",
    "palabras_usadas = {pal for pal in cadena.split()}\n",
    "palabras_usadas"
   ]
  }
 ],
 "metadata": {
  "kernelspec": {
   "display_name": "Python 3",
   "language": "python",
   "name": "python3"
  },
  "language_info": {
   "codemirror_mode": {
    "name": "ipython",
    "version": 3
   },
   "file_extension": ".py",
   "mimetype": "text/x-python",
   "name": "python",
   "nbconvert_exporter": "python",
   "pygments_lexer": "ipython3",
   "version": "3.7.4"
  }
 },
 "nbformat": 4,
 "nbformat_minor": 2
}
