{
 "cells": [
  {
   "cell_type": "markdown",
   "metadata": {},
   "source": [
    "# Sets\n",
    "**Autores**: Rogelio Mazaeda, Félix Miguel Trespaderne.   "
   ]
  },
  {
   "cell_type": "markdown",
   "metadata": {},
   "source": [
    "## Contenidos\n",
    "[Introducción](#Introducción)<br>\n",
    "[Sets](#Sets)<br>\n",
    "[Modificando dinámicamente los sets_](#Modificando_sets)<br>\n",
    "[El _set_ como colección _iterable_](#Iterando_sets)<br>\n",
    "[Métodos de la clase _set_ y funciones útiles](#Funciones_metodos_sets)<br>\n",
    "[Operaciones matemáticas de conjuntos con _sets_](#Operaciones_sets)<br>\n",
    "[Ejemplo con comentario sobre eficiencia de _Sets_](#Ejemplos_sets)<br>"
   ]
  },
  {
   "cell_type": "markdown",
   "metadata": {},
   "source": [
    "***\n",
    "<a id='Introducción'></a>"
   ]
  },
  {
   "cell_type": "markdown",
   "metadata": {},
   "source": [
    "## Introducción.\n",
    "\n",
    "El formalismo de la teoría de conjuntos es muy utilizado en matemáticas. Todos hemos estado expuestos, en nuestra educación previa a muchos de sus conceptos básicos. \n",
    "\n",
    "Evitando ser excesivamente formales, un **conjunto** en matemáticas, permite referirnos como un todo a una multitud de elementos diversos.\n",
    "\n",
    "Un **conjunto** puede estar vacío. Puede estar compuesto a su vez por otros conjuntos y sobre ellos se pueden plantear una serie de operaciones como la **unión**, la **intersección**, la **diferencia** entre otras.\n",
    "\n",
    "La colección **Set** de Python trata de implementar algunos de los conceptos de su referente matemático, como veremos en las secciones posteriores."
   ]
  },
  {
   "cell_type": "markdown",
   "metadata": {},
   "source": [
    "***\n",
    "<a id='Sets'></a>"
   ]
  },
  {
   "cell_type": "markdown",
   "metadata": {},
   "source": [
    "## Sets\n",
    "\n",
    "Los **Sets** de Python son colecciones que tiene las siguientes características:\n",
    "\n",
    "- La colección es **mutable** pero los elementos que contenidos tiene que ser **inmutables**.\n",
    "- Los elementos no pueden aparecer repetidos.\n",
    "- Es **iterable** y **no secuencial**"
   ]
  },
  {
   "cell_type": "markdown",
   "metadata": {},
   "source": [
    "Se pueden crear **Sets** especificando los elmentos que lo conforman con la sintaxis:\n",
    "\n",
    "```python\n",
    "{elem1, elem2, elem3, ...}\n",
    "```\n",
    "Donde se utilizan el signo de las llaves ```{}``` al igual que en la definición de **diccionarios**, aunque debe observar que los elementos se describen de forma diferente."
   ]
  },
  {
   "cell_type": "code",
   "execution_count": 5,
   "metadata": {},
   "outputs": [],
   "source": [
    "digitos = {'1', '2', '3', '4', '5', '6', '7', '8', '9'}"
   ]
  },
  {
   "cell_type": "markdown",
   "metadata": {},
   "source": [
    "Otra forma de crear **Sets** es utilizando la función ```set``` a la que se le pasa como argumento algún otro _iterable_.\n",
    "\n",
    "Ejemplo:\n",
    "```python\n",
    "lista_num = [1, 2, 3, 4, 3]\n",
    "set_num = set(lista_num)\n",
    "set_letras = set(\"Las letras de esta cadena formaran el set pero sin repeticiones\")\n",
    "```"
   ]
  },
  {
   "cell_type": "code",
   "execution_count": 10,
   "metadata": {},
   "outputs": [
    {
     "name": "stdout",
     "output_type": "stream",
     "text": [
      "{1, 2, 3, 4}\n",
      "{' ', 'L', 's', 'r', 'l', 'n', 'f', 'o', 'i', 'd', 'c', 't', 'm', 'p', 'a', 'e'}\n"
     ]
    }
   ],
   "source": [
    "lista_num = [1, 2, 3, 4, 3]\n",
    "set_num = set(lista_num)\n",
    "set_letras = set(\"Las letras de esta cadena formaran el set pero sin repeticiones\")\n",
    "\n",
    "print(set_num)\n",
    "print(set_letras)"
   ]
  },
  {
   "cell_type": "markdown",
   "metadata": {},
   "source": [
    "Es importante entender que los elementos del **set** no pueden aparecer repetidos. Aunque tanto la lista como la cadena que sirve como fuente para crear el **set** tienen elementos repetidos, el **set** sólo almacena una instancia de cada elemento.\n",
    "\n",
    "Observe además que la función ```print()``` está _sobrecargada_ para poder sacar por pantalla objetos de tipo **set**."
   ]
  },
  {
   "cell_type": "markdown",
   "metadata": {},
   "source": [
    "En la medida en que el **set** es una colección **mutable**, se tiene que tener en cuenta las implicaciones ya vistas en el caso de las **listas** y los **diccionarios** en lo relativo a la creación de *alias*, la *copia superficial*.\n",
    "\n",
    "Esto es:\n",
    "\n",
    "```python\n",
    "a = {1,2,3,4}\n",
    "b = a\n",
    "```\n",
    "\n",
    "En lo anterior, ```b``` es simplemente un alias de ```a```. Cualquier modificación de una variable o de la otra que ocurra después de la asignación, modifica el dato común que es accedido a través de cualquiera de ellas.\n",
    "\n",
    "Si se quiere obtener otro **set** que inicialmente contenga los mismos elementos que otro, se utilizará el método ```.copy()``` del conjunto fuente, como se indica en el ejemplo. "
   ]
  },
  {
   "cell_type": "code",
   "execution_count": 23,
   "metadata": {},
   "outputs": [
    {
     "name": "stdout",
     "output_type": "stream",
     "text": [
      "{1, 2, 3, 4} {1, 2, 3, 4, 10}\n"
     ]
    }
   ],
   "source": [
    "a = {1,2,3,4}\n",
    "b = a.copy()\n",
    "b.add(10)\n",
    "print(a,b)"
   ]
  },
  {
   "cell_type": "markdown",
   "metadata": {},
   "source": [
    "***\n",
    "<a id='Modificando_sets'></a>"
   ]
  },
  {
   "cell_type": "markdown",
   "metadata": {},
   "source": [
    "## Modificando _sets_ dinámicamente\n",
    "\n",
    "Al ser una colección mutable, se pueden añadir y borrar elementos del **set**.\n",
    "\n",
    "```python\n",
    "s = set()\n",
    "s.add(1)\n",
    "s.add('cad')\n",
    "```\n",
    "En el fragmento de código se crea inicialmente un **set** vacío. Observe que no se puede utilizar ```s={}``` porque resultaría ambiguo al confundirse con la sentencia que crea **diccionario** vacío.\n",
    "Posteriormente, se utiliza el método ```.add()``` para añadir un elemento entero y a continuación otro de tipo _string_. \n"
   ]
  },
  {
   "cell_type": "code",
   "execution_count": 11,
   "metadata": {},
   "outputs": [
    {
     "name": "stdout",
     "output_type": "stream",
     "text": [
      "{1, 'cad'}\n"
     ]
    }
   ],
   "source": [
    "s = set()\n",
    "s.add(1)\n",
    "s.add('cad')\n",
    "print(s)"
   ]
  },
  {
   "cell_type": "markdown",
   "metadata": {},
   "source": [
    "Para borrar elementos de un **set** se tiene:\n",
    "\n",
    "- Método ```.clear()``` borra todos los elementos.\n",
    "- Método ```.discard(elem)``` borra elemento ```elem``` si existe. Si no existe, no ocurre nada.\n",
    "- Método ```.remove(elem)``` elimina elemento ```elem``` si existe. Si no existe: se lanza excepción ```KeyError```.\n",
    "- Método ```.pop()``` saca y devuelve elemento arbitrario. Si el **set** está vacío: lanza excepción ```KeyError```."
   ]
  },
  {
   "cell_type": "code",
   "execution_count": 13,
   "metadata": {},
   "outputs": [
    {
     "name": "stdout",
     "output_type": "stream",
     "text": [
      "Elemento sacado con pop 1 set que queda {2, 3, 5}\n"
     ]
    }
   ],
   "source": [
    "s = {1,2,3,4,5}\n",
    "\n",
    "s.discard(9)\n",
    "s.discard(4)\n",
    "a = s.pop()\n",
    "\n",
    "print('Elemento sacado con pop', a, 'set que queda', s)"
   ]
  },
  {
   "cell_type": "markdown",
   "metadata": {},
   "source": [
    "***\n",
    "<a id='Iterando_sets'></a>"
   ]
  },
  {
   "cell_type": "markdown",
   "metadata": {},
   "source": [
    "## El _set_ como colección _iterable_\n",
    "\n",
    "El **set** es una colección iterable. De manera que se puede utilizar en aquellas construcciones que espera este tipo de elementos, como por ejemplo bucles **for**."
   ]
  },
  {
   "cell_type": "code",
   "execution_count": 16,
   "metadata": {},
   "outputs": [
    {
     "name": "stdout",
     "output_type": "stream",
     "text": [
      "pi\n",
      "pe\n",
      "pu\n",
      "pa\n",
      "po\n",
      "mi\n",
      "me\n",
      "mu\n",
      "ma\n",
      "mo\n"
     ]
    }
   ],
   "source": [
    "vocales = set('aeiou')\n",
    "cons_preferidas = set('pm')\n",
    "\n",
    "for consonante in cons_preferidas:\n",
    "    for vocal in vocales:\n",
    "        print(consonante + vocal)"
   ]
  },
  {
   "cell_type": "markdown",
   "metadata": {},
   "source": [
    "***\n",
    "<a id='Funciones_métodos_sets'></a>"
   ]
  },
  {
   "cell_type": "markdown",
   "metadata": {},
   "source": [
    "## Métodos de la clase _set_ y funciones útiles\n",
    "\n",
    "Existen funciones _built in_ de Python que están _sobrecargadas_ para trabajar con **set** de la misma forma que cualquier otro **iterable**. \n",
    "\n",
    "Por ejemplo:\n",
    "\n",
    "- ```sum()```: Suma todos los elementos (en caso de que la suma este definida para esos elementos)\n",
    "- ```len()```: Devuelve un entero con el número de elementos.\n",
    "- ```min(),max()```: Devuelven el mínimo y el máximo respectivamente de los elementos en el **set**.\n",
    "- ```sorted()```: Devuelve una **lista** con los elementos del **set** ordenados.\n",
    "- ```list(), tuple(), enumerate()```: Devuelve una **lista**, una **tupla** o un **enumerado** respectivamente con los datos del **set** que se le pasa como parámetro.\n",
    "\n"
   ]
  },
  {
   "cell_type": "code",
   "execution_count": 20,
   "metadata": {},
   "outputs": [
    {
     "name": "stdout",
     "output_type": "stream",
     "text": [
      "[(0, 0), (1, 1), (2, 2), (3, 3), (4, 4), (5, 5)]\n"
     ]
    }
   ],
   "source": [
    "s = set(range(6))\n",
    "print(list(enumerate(s)))"
   ]
  },
  {
   "cell_type": "markdown",
   "metadata": {},
   "source": [
    "***\n",
    "<a id='operaciones_set'></a>"
   ]
  },
  {
   "cell_type": "markdown",
   "metadata": {},
   "source": [
    "## Operaciones matemáticas de conjuntos con _sets_\n",
    "\n",
    "La característica distintiva y la utilidad mayor de los _sets_ se obtiene precisamente de su capacidad para representar el comportamiento del los **conjuntos matemáticos**.\n",
    "\n",
    "Las operaciones más importantes en este sentido son:\n",
    "\n",
    "- Determinación de si un **elemento** o, en general, un **sub_conjunto** pertenecen o no al **Set**\n",
    "- Obtención del **Set** que resulta de la **unión** de dos sets.\n",
    "- Obtención del **Set** que es la **diferencia** entre un set y otro.\n",
    "- Obtención del **Set** que resulta de la **intersección** de dos sets.\n",
    "\n",
    "En lo que sigue, vemos en detalle cada una de estas operaciones."
   ]
  },
  {
   "cell_type": "markdown",
   "metadata": {},
   "source": [
    "### Pertenencia de un elemento o sub-conjunto a otro\n",
    "\n",
    "Las operaciones de está sub-sección dan como resultado un valor lógico. Para el caso de la pertenencia o no de un elemento a un conjunto, se tendría que el resultado sería ```True``` si:\n",
    "\n",
    "$$\n",
    "\\begin{align}\n",
    "\\\\a \\in A & & \\text{(a es un elemento de A)} & & \\text{Python:      a in A}\\\\\n",
    "\\\\b \\in A & & \\text{(b no es un elemento de A)} & & \\text{Python:      b not in A}\\\\\n",
    "\\end{align}\n",
    "$$\n",
    "\n",
    "Por su parte, para determinar si un conjunto es un sub-conjunto de otro.\n",
    "\n",
    "$$\n",
    "\\begin{align}\n",
    "\\\\B \\subseteq A & & \\text{(B es sub_conjunto de A)} & & \\text{En Python: B.issubset(A)}\\\\\n",
    "\\end{align}\n",
    "$$\n",
    "\n",
    "Por el contrario, la determinación de si A incluye a B, podría ser:\n",
    "\n",
    "$$\n",
    "\\begin{align}\n",
    "\\\\A \\supseteq B & & \\text{(A es un super_conjunto de B)} & & \\text{En Python: A.issuperset(B)}\\\\\n",
    "\\end{align}\n",
    "$$\n",
    "\n",
    "Nótese que se puede utilizar el operador de pregunta por igualdad (```==```) para decidir si dos **Sets** tienen los mismos elementos (sin considerar el orden, por supuesto).\n",
    "\n",
    "Dos conjuntos son **disjuntos** si no tiene elementos en común, esto es si su intersección es el conjunto vacío. En Python el método ```.isdisjoint()``` devuelve un valor lógico indicando el grado de \"verdad\" de esa proposición."
   ]
  },
  {
   "cell_type": "code",
   "execution_count": 4,
   "metadata": {},
   "outputs": [
    {
     "name": "stdout",
     "output_type": "stream",
     "text": [
      "False\n",
      "True\n",
      "False\n"
     ]
    }
   ],
   "source": [
    "a = {1, 2, 3}\n",
    "b = {3, 2}\n",
    "print(a.issubset(b))\n",
    "print(a.issuperset(b))\n",
    "print(b.isdisjoint(a))"
   ]
  },
  {
   "attachments": {
    "Sets.jpg": {
     "image/jpeg": "[encoded data removed]"
    }
   },
   "cell_type": "markdown",
   "metadata": {},
   "source": [
    "### Unión, intersección y diferencia de conjuntos\n",
    "\n",
    "![Sets.jpg](attachment:Sets.jpg)\n",
    "\n",
    "Estas operaciones sobre conjuntos dan como resultado otro conjunto.\n",
    "\n",
    "El conjunto **unión** contiene todos los elementos de sus conjuntos operandos:\n",
    "\n",
    "$$\n",
    "\\begin{align}\n",
    "\\\\C = A \\cup B &  && \\text{} & & \\text{En Python: C = A.union(B)}\\\\\n",
    "\\end{align}\n",
    "$$\n",
    "\n",
    "El conjunto **intersección** contiene que pertenecen _simultáneamente_ a ambos conjuntos:\n",
    "\n",
    "$$\n",
    "\\begin{align}\n",
    "\\\\C = A \\cap B &  && \\text{} & & \\text{En Python: C = A.intersection(B)}\\\\\n",
    "\\end{align}\n",
    "$$\n",
    "\n",
    "Tanto la unión como la intersección son operaciones simétricas. Ej: ```a.union(b) == b.union(a)```.\n",
    "La diferencia, sin embargo, no es simétrica: el conjunto **diferencia** contiene todos los elementos del primer operando que no están en el segundo.\n",
    "\n",
    "\n",
    "$$\n",
    "\\begin{align}\n",
    "\\\\C = A - B &  && \\text{} & & \\text{En Python: C = A.difference(B)}\\\\\n",
    "\\end{align}\n",
    "$$\n",
    "\n",
    "Una operación relacionada con la anterior es la que actualiza los elementos de A, eliminado aquellos que están en B, es:\n",
    "\n",
    "$$\n",
    "\\begin{align}\n",
    "\\\\A = A - B & && \\text{} & & \\text{En Python: A.difference_update(B)}\\\\\n",
    "\\end{align}\n",
    "$$\n"
   ]
  },
  {
   "cell_type": "markdown",
   "metadata": {},
   "source": [
    "***\n",
    "<a id='Ejemplos_set'></a>"
   ]
  },
  {
   "cell_type": "markdown",
   "metadata": {},
   "source": [
    "## Ejemplo sencillo\n",
    "\n",
    "Los **sets** de Python pueden ser muy útiles a la hora de ofrecer soluciones inesperadamente simples a problemas que de otra forma requerirían un mayor esfuerzo. Los **sets** constituyen un recurso de alto nivel de abstracción que el lenguaje pone a disposición del programador.\n",
    "\n",
    "Una mayor **abstracción**, al evitar tener que prestar atención a los detalles, permite una mayor productividad en la tarea de programación.\n",
    "\n",
    "Pero no todas son ventajas. Una mayor **abstracción** muchas veces implica un mayor **coste computacional** al implicar la interposición de **capas** de _software_ entre la descripción abstracta del problema general y la solución particular de cada caso.\n",
    "\n",
    "La buena noticia es que los **sets** de Python tiene un coste computacional muy bajo. Al igual que los **diccionarios**, los **sets** son implementados como _memorias asociativas_ o _tablas hash_ muy eficientes.\n",
    "\n",
    "Lo anterior implica que podemos utilizar los **sets** como elementos auxiliares sin \"preocuparnos\" excesivamente."
   ]
  },
  {
   "cell_type": "code",
   "execution_count": 7,
   "metadata": {},
   "outputs": [
    {
     "name": "stdout",
     "output_type": "stream",
     "text": [
      "[1, 2, 4, 3, -2, 9]\n"
     ]
    }
   ],
   "source": [
    "# Función que recibe lista y devuelve otra sin elementos repetidos\n",
    "def elimina_rep(lista_repetidos):\n",
    "    lista_sin_repetidos = []\n",
    "    chequea_repetidos = set()\n",
    "    for elem in lista_repetidos:\n",
    "        if elem not in chequea_repetidos:\n",
    "            lista_sin_repetidos.append(elem)\n",
    "            chequea_repetidos.add(elem)\n",
    "    return lista_sin_repetidos\n",
    "\n",
    "# Programa principal\n",
    "\n",
    "lista = [1, 2, 1, 4, 3, -2, 1,3, 2, 2, 9]\n",
    "print(elimina_rep(lista))       "
   ]
  },
  {
   "cell_type": "markdown",
   "metadata": {},
   "source": [
    "La función en el ejemplo anterior recibe una lista, que puede tener o no elementos repetidos, y devuelve otra que contiene los elementos de la lista original pero representados solamente una vez.\n",
    "\n",
    "Observe el uso de un **set** auxiliar que sirve únicamente el propósito de \"memorizar\" los elementos que ya han \"aparecido\" previamente en la lista para evitar copiarlos en la lista de salida."
   ]
  }
 ],
 "metadata": {
  "kernelspec": {
   "display_name": "Python 3",
   "language": "python",
   "name": "python3"
  },
  "language_info": {
   "codemirror_mode": {
    "name": "ipython",
    "version": 3
   },
   "file_extension": ".py",
   "mimetype": "text/x-python",
   "name": "python",
   "nbconvert_exporter": "python",
   "pygments_lexer": "ipython3",
   "version": "3.7.3"
  }
 },
 "nbformat": 4,
 "nbformat_minor": 2
}
