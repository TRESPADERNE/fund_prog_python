{
 "cells": [
  {
   "cell_type": "markdown",
   "metadata": {
    "slideshow": {
     "slide_type": "slide"
    }
   },
   "source": [
    "# Clases"
   ]
  },
  {
   "cell_type": "markdown",
   "metadata": {},
   "source": [
    "<a target=\"_self\" href='#Introducción'>Introducción</a><br>\n",
    "<a target=\"_self\" href='#Ambitos_espacios_de_nombres'>Ámbitos y espacios de nombres</a><br>\n",
    "<a target=\"_self\" href='#Clases'>Clases</a><br>\n",
    "<a target=\"_self\" href='#Metodos_especiales'>Métodos especiales</a><br>\n",
    "<a target=\"_self\" href='#Iteradores_generadores'>Iteradores y Generadores</a><br>\n",
    "<a target=\"_self\" href='#Herencia'>Herencia</a>"
   ]
  },
  {
   "cell_type": "markdown",
   "metadata": {},
   "source": [
    "***\n",
    "<a id='Introducción'></a>"
   ]
  },
  {
   "cell_type": "markdown",
   "metadata": {},
   "source": [
    "## Introducción\n",
    "El paradigma de la **Programación Orientada a Objetos** permite crear al usuario tipos de datos que empaquetan en una sola entidad reusable **propiedades** (datos) y **comportamientos** (funciones).\n",
    "\n",
    "Crear una clase supone crear un **nuevo tipo** de objeto, de tal forma que, a partir de ese momento, podemos definir nuevas variables, nuevas **instancias** de ese nuevo tipo de objeto. \n",
    "\n",
    "Cada instancia de una clase puede tener diferentes **miembros** o **atributos**:\n",
    "* **Datos**, **atributos** que permiten caracterizar su **estado**\n",
    "* **Métodos**, **atributos función** que permiten obtener información del **estado** y/o modificarlo\n",
    "\n",
    "Siguiendo la terminología de C++, en general, los **miembros** de una clase son **públicos**, es decir, pueden accederse *desde el exterior* por otras partes del programa.\n",
    "> Cada lenguaje usa un enfoque y una terminología diferente, lo que hace prácticamente imposible una visión unificada del paradigma de la **Programación Orientada a Objetos**. Incluso en el plano puramente teórico, conceptual, no hay consenso sobre lo que son conceptos tales como **Objeto**, **Dato Abstracto**, etc.\n",
    "\n",
    "> La propia [**documentación oficial de Python**](https://docs.python.org/3/tutorial/classes.html) distingue en unos sitios entre **atributos** y **métodos**, cuando siguiendo la terminología del lenguaje ambos son atributos.  \n",
    "\n",
    "> El gran éxito de Python hace que sean accesibles una gran cantidad de cursos, blogs, libros, etc. en los que se diseminan, cual virus sin control, terminologías inexactas. Seguramente no seamos ajenos en este curso.\n",
    "\n",
    "Seguiremos aquí lo más cerca posible la documentación oficial."
   ]
  },
  {
   "cell_type": "markdown",
   "metadata": {},
   "source": [
    "***\n",
    "<a id='Ambitos_espacios_de_nombres'></a>"
   ]
  },
  {
   "cell_type": "markdown",
   "metadata": {},
   "source": [
    "## Ámbitos y espacios de nombres\n",
    "\n",
    "### Espacios de nombres\n",
    "\n",
    "Un **espacio de nombres** (**namespace**) establece una correspondencia entre **nombres** y **objetos**, típicamente implementada a través de diccionarios. Ejemplos de espacios de nombres son:\n",
    "\n",
    "* los identificadores nativos, tales como los correspondientes a funciones (`abs()`, `del()`, etc.) o excepciones (`ZeroDivisionError`, `ValueError`, etc.)\n",
    "* los identificadores *globales* que aparecen en un módulo\n",
    "* las variables *locales* de una función\n",
    "* los **atributos** que conforman un **objeto**, datos y métodos, también forman un espacio de nombres.\n",
    "\n",
    "La propiedad relevante que proporciona un espacio de nombres es que organiza los identificadores en grupos que evitan conflictos cuando en un programa se utilizan identificadores iguales pero pertenecientes, por ejemplo, a distintos módulos: basta utilizar el operador `.` precedido del nombre del módulo.\n",
    "\n",
    "Desde un punto de vista práctico, cualquier expresión del tipo `xxx.yyy` nos está informando de que `yyy` es un **atributo** del objeto `xxx`.\n",
    "\n",
    "Los espacios de nombres se crean en diferentes momentos y tienen diferentes ciclos de vida:\n",
    "\n",
    "* los identificadores nativos se crean al arrancar el intérprete de Pyhon y nunca se borran. *Residen* en un módulo llamado `builtins`.\n",
    "* el espacio de nombres asociado a un módulo se crea en el momento de su importación y, normalmente, permanecen hasta que el intérprete finaliza. Los identificadores creados en una sesión interactiva o ejecutando un guion se asocian a un módulo llamado `__main__`.\n",
    "* cuando se llama a una función, se crea un espacio de nombres local que se borra en cuanto la función termina o si se lanza una excepción que no es manejada por la propia función.\n",
    "\n",
    "### Ámbito (Scope)\n",
    "\n",
    "Un **ámbito** (**scope**) es un fragmento de código Python en la que podemos utilizar un identificador de forma directa, sin necesidad de utilizar el operador `.` precedido del identificador del espacio de nombres.\n",
    "\n",
    "Habitualmente, durante la ejecución de un programa, hay varios ámbitos que, de forma anidada, operan simultáneamente. A la hora de relacionar un identificador de forma automática con el espacio de nombres al que pertenece, Python comienza desde el ámbito más interno, el **ámbito local**, hacia los más externos.\n",
    "\n",
    "![Venn.jpg](img/venn.jpg)\n",
    "\n",
    "Esto es: si se produce una referencia a una variable de nombre dado en la función `f()`, Python determinará a qué espacio de nombres hace referencia, en el sentido en que se muestra en el esquema anterior: \n",
    "* primero comprobará si existe una variable local de `f()` con ese nombre\n",
    "* en caso de fallar, entonces se verá si se trata de un parámetro\n",
    "* si no lo es, se mirará si es una variable del programa principal, variables a las que podemos calificar de **globales**.\n",
    "* y finalmente, si esto también falla, se intentará encontrar ese identificador entre los definidos intrínsecamente (*built_in*) en el lenguaje, es decir, presente en el espacio de nombres `builtins`.\n",
    "* si también esto falla, se producirá un error de tiempo de ejecución\n",
    "\n",
    "Nótese que en la secuencia descrita de búsqueda para el identificador al que se hace referencia, no se menciona a la función ```g()``` que estaría definida al mismo *nivel* que ```f()``` y, por tanto, no participaría en la búsqueda de los nombres de esta función ```f()```."
   ]
  },
  {
   "cell_type": "markdown",
   "metadata": {},
   "source": [
    "***\n",
    "<a id='Clases'></a>"
   ]
  },
  {
   "cell_type": "markdown",
   "metadata": {},
   "source": [
    "## Clases\n",
    "Python nos permite crear nuevos tipos de datos con las **clases**.\n",
    "\n",
    "Una **clase** es un tipo de dato definido por un programador, compuesto por **atributos**:\n",
    "\n",
    "* un conjunto de datos relacionados entre sí, que permiten caracterizar el estado de un objeto cualquiera de esa clase.\n",
    "* un conjunto de funciones que permiten modificar los datos de la clase (cambiar su estado), obtener información acerca de ellos, etc.\n",
    "\n",
    "Un **objeto** es una zona de memoria que durante la ejecución de un programa está provista de un contenido semántico.\n",
    "Las clases actúan como planos para crear objetos. Un objeto es una **instancia** concreta en memoria de una clase.\n",
    "Los planos de una vivienda de un edificio serían la clase. La vivienda sita en la calle San Eustaquio, nº3, 5D, construida según los planos, sería un objeto.\n",
    "\n",
    "\n",
    "### Definición de una clase\n",
    "La forma general de **definir** una clase es la siguiente:\n",
    "\n",
    "```python\n",
    "class Clase:\n",
    "    <sentencia 1>\n",
    "    ...\n",
    "    <sentencia N>\n",
    "```\n",
    "\n",
    "La definición de una clase, al igual que la de una función (sentencia `def`), debe **ejecutarse** con antelación para poder crear objetos de esa clase. \n",
    "\n",
    "La ejecución de la definición de la clase crea un nuevo espacio de nombres y todas las asignaciones que se produzcan dentro de la clase tendrán carácter local.\n",
    "\n",
    "La siguiente celda muestra un sencillo ejemplo de una clase con dos atributos, `i` y `f`."
   ]
  },
  {
   "cell_type": "code",
   "execution_count": 2,
   "metadata": {},
   "outputs": [],
   "source": [
    "class MiClase:\n",
    "    \"\"\"Un sencillo ejemplo\"\"\"\n",
    "    i = 12345\n",
    "\n",
    "    def f(self):  # Comentaremos enseguida el papel del argumento self\n",
    "        return 'Hola mundo'"
   ]
  },
  {
   "cell_type": "markdown",
   "metadata": {},
   "source": [
    "### Objetos clase\n",
    "Tras la ejecución de la definición de una clase, se crea un **objeto clase** específico. Un objeto clase soporta dos tipos de operaciones:\n",
    "* acceso a sus atributos\n",
    "* instanciación, es decir, creación de objetos de esa clase\n",
    "\n",
    "Para acceder a los atributos de un objeto se usa la sintaxis estándar: `objeto.nombre`, donde `nombre` debe ser un atributo perteneciente al espacio de nombres de la clase.\n",
    "\n",
    "En el ejemplo anterior, `MiClase.i` y `MiClase.f` devuelven un entero y un objeto función respectivamente.\n",
    "\n",
    "> `__doc__` es también un atributo, creado implicitamente, que devuelve el *docstring* asociado a la clase."
   ]
  },
  {
   "cell_type": "code",
   "execution_count": 3,
   "metadata": {},
   "outputs": [
    {
     "data": {
      "text/plain": [
       "'Un sencillo ejemplo'"
      ]
     },
     "execution_count": 3,
     "metadata": {},
     "output_type": "execute_result"
    }
   ],
   "source": [
    "MiClase.i = 23\n",
    "MiClase.__doc__"
   ]
  },
  {
   "cell_type": "markdown",
   "metadata": {},
   "source": [
    "La **instanciación** de un objeto de la clase usa la misma notación de la llamada a una función."
   ]
  },
  {
   "cell_type": "code",
   "execution_count": 4,
   "metadata": {},
   "outputs": [],
   "source": [
    "x = MiClase()\n",
    "x.i = 34"
   ]
  },
  {
   "cell_type": "markdown",
   "metadata": {},
   "source": [
    "Ahora, tenemos un identificador `x` del tipo `MiClase`."
   ]
  },
  {
   "cell_type": "code",
   "execution_count": 5,
   "metadata": {},
   "outputs": [
    {
     "data": {
      "text/plain": [
       "__main__.MiClase"
      ]
     },
     "execution_count": 5,
     "metadata": {},
     "output_type": "execute_result"
    }
   ],
   "source": [
    "type(x)"
   ]
  },
  {
   "cell_type": "markdown",
   "metadata": {},
   "source": [
    "Nótese que la salida de la celda anterior es `__main__.MiClase`, es decir, `x` es un objeto de la clase `MiClase` asociado al espacio de nombres `__main__`, que como hemos comentado más arriba, es el espacio de nombres que alberga los identificadores creados durante una sesión interactiva o al ejecutar un guion."
   ]
  },
  {
   "cell_type": "markdown",
   "metadata": {},
   "source": [
    "Por el contrario,"
   ]
  },
  {
   "cell_type": "code",
   "execution_count": 6,
   "metadata": {},
   "outputs": [
    {
     "data": {
      "text/plain": [
       "type"
      ]
     },
     "execution_count": 6,
     "metadata": {},
     "output_type": "execute_result"
    }
   ],
   "source": [
    "type(MiClase)"
   ]
  },
  {
   "cell_type": "markdown",
   "metadata": {},
   "source": [
    "nos informa que `MiClase` es un nuevo tipo de dato, `<class 'type'>`, al igual que lo es `int`, `float`, `list`, etc. Formalmente, `MiClase` es una nueva instancia de la clase `type`."
   ]
  },
  {
   "cell_type": "code",
   "execution_count": 11,
   "metadata": {},
   "outputs": [
    {
     "name": "stdout",
     "output_type": "stream",
     "text": [
      "El tipo de <__main__.MiClase object at 0x000001F88E6DD640> es <class '__main__.MiClase'>.\n",
      "El tipo de <class '__main__.MiClase'> es <class 'type'>.\n",
      "El tipo de <class 'int'> es <class 'type'>.\n",
      "El tipo de <class 'float'> es <class 'type'>.\n",
      "El tipo de <class 'list'> es <class 'type'>.\n",
      "El tipo de <class 'tuple'> es <class 'type'>.\n",
      "El tipo de <class 'str'> es <class 'type'>.\n"
     ]
    }
   ],
   "source": [
    "for t in (x, MiClase, int, float, list, tuple, str):\n",
    "    print(f'El tipo de {t} es {type(t)}.')"
   ]
  },
  {
   "cell_type": "markdown",
   "metadata": {},
   "source": [
    "#### El método `__init__()`\n",
    "En general, cuando instanciamos un nuevo objeto de una clase, deseamos dotarle de un estado inicial. Para ello, se dispone de un método especial llamado `__init__()`:"
   ]
  },
  {
   "cell_type": "code",
   "execution_count": 12,
   "metadata": {},
   "outputs": [
    {
     "name": "stdout",
     "output_type": "stream",
     "text": [
      "<__main__.Punto2d object at 0x000001F88E6DDEB0>\n",
      "Las coordenadas del punto son (10, 3).\n"
     ]
    }
   ],
   "source": [
    "class Punto2d:\n",
    "    def __init__(self, x, y):\n",
    "        self.x = x\n",
    "        self.y = y\n",
    "\n",
    "        \n",
    "p = Punto2d(10, 3)  # Se invoca a __init__() con argumentos (p, 10, 3)\n",
    "print(p)\n",
    "print(f'Las coordenadas del punto son ({p.x}, {p.y}).')"
   ]
  },
  {
   "cell_type": "markdown",
   "metadata": {},
   "source": [
    "Cuando una clase tiene definido el método `__init__()`, el proceso de instanciación de un nuevo objeto invoca automáticamente a\n",
    "esta función."
   ]
  },
  {
   "cell_type": "markdown",
   "metadata": {},
   "source": [
    "Podemos observar que `print(p)` nos imprime información del objeto y su posición en memoria. Esto es así porque no hemos *enseñado* aún a nuestra clase a imprimir sus instancias.\n",
    "\n",
    "Sin embargo, si que hemos podido **acceder** e imprimir dos **atributos**, `x` e `y` del objeto `p`, utilizando la sintaxis `espacio_de_nombres.nombre`.\n",
    "\n",
    "El identificador `self` es una **referencia** al propio objeto `p` recién creado. La instanciación del objeto `p`:\n",
    "```python\n",
    "p = Punto2d(10, 3)\n",
    "```\n",
    "no es sino **azúcar sintáctico** de la llamada detrás de las bambalinas a *`Punto2d(p, 10, 3)`*. Los argumentos `(p, 10, 3)` son recogidos por los parámetros `(self, x, y)` del método `__init__()`. El identificador `self` no es sino una convención universalmente aceptada, pero podría usarse cualquier otro identificador.\n",
    "\n",
    "Dentro del método `__init__()` se crean dos atributos `x` e `y` del nuevo objeto `p` y se inicializan con los valores pasados como parámetros `x` e `y`. La coincidencia entre los identificadores de los parámetros y los de los atributos es por mera conveniencia, pero podrían haber sido diferentes."
   ]
  },
  {
   "cell_type": "markdown",
   "metadata": {},
   "source": [
    "Otra forma de ver que `self` y `p` son el mismo objeto es ayudándonos de la función nativa `id()`."
   ]
  },
  {
   "cell_type": "code",
   "execution_count": 28,
   "metadata": {},
   "outputs": [
    {
     "name": "stdout",
     "output_type": "stream",
     "text": [
      "2167047828912\n",
      "2167047828912\n"
     ]
    }
   ],
   "source": [
    "class Punto2d:\n",
    "    def __init__(self, x, y):\n",
    "        self.x = x\n",
    "        self.y = y\n",
    "        print(id(self))\n",
    "\n",
    "        \n",
    "p = Punto2d(10, 3)  # Se invoca a __init__() con argumentos (p, 10, 3)\n",
    "print(id(p))"
   ]
  },
  {
   "cell_type": "markdown",
   "metadata": {},
   "source": [
    "Si, como Santo Tomás, aún sois incrédulos, podéis verificar que en la llamada `p = Punto2d(10, 3)` se pasan 3 argumentos en lugar de dos. Para ello, observad la excepción que se produce en el siguiente ejemplo:"
   ]
  },
  {
   "cell_type": "code",
   "execution_count": 29,
   "metadata": {
    "tags": [
     "raises-exception"
    ]
   },
   "outputs": [
    {
     "ename": "TypeError",
     "evalue": "__init__() takes 3 positional arguments but 4 were given",
     "output_type": "error",
     "traceback": [
      "\u001b[1;31m---------------------------------------------------------------------------\u001b[0m",
      "\u001b[1;31mTypeError\u001b[0m                                 Traceback (most recent call last)",
      "\u001b[1;32m~\\AppData\\Local\\Temp\\ipykernel_4228\\3487953674.py\u001b[0m in \u001b[0;36m<module>\u001b[1;34m\u001b[0m\n\u001b[1;32m----> 1\u001b[1;33m \u001b[0mp\u001b[0m \u001b[1;33m=\u001b[0m \u001b[0mPunto2d\u001b[0m\u001b[1;33m(\u001b[0m\u001b[1;36m100\u001b[0m\u001b[1;33m,\u001b[0m \u001b[1;36m10\u001b[0m\u001b[1;33m,\u001b[0m \u001b[1;36m3\u001b[0m\u001b[1;33m)\u001b[0m\u001b[1;33m\u001b[0m\u001b[1;33m\u001b[0m\u001b[0m\n\u001b[0m",
      "\u001b[1;31mTypeError\u001b[0m: __init__() takes 3 positional arguments but 4 were given"
     ]
    }
   ],
   "source": [
    "p = Punto2d(100, 10, 3)"
   ]
  },
  {
   "cell_type": "markdown",
   "metadata": {},
   "source": [
    "La excepción `TypeError` nos avisa de que `__init__()` en la clase `Punto2d`recibe **3 argumentos posicionales** y no 4 como le hemos proporcionado. \n",
    "\n",
    "La referencia al propio objeto `self` siempre va **posicionalmente en primer lugar**.\n",
    "> Para los conocedores de C++, y salvando las distancias, el comportamiento es similar a la **palabra reservada** `this`. La ventaja en el caso de C++ es que no es necesario explicitarla (en general) en los métodos de las clases siendo, excepcionalmente en este caso, C++ menos verboso que Python. "
   ]
  },
  {
   "cell_type": "markdown",
   "metadata": {},
   "source": [
    "### Objetos de una clase\n",
    "Las únicas operaciones válidas con una instancia de una clase es el acceso a sus **atributos**:\n",
    "* **datos**\n",
    "* **métodos**\n",
    "\n",
    "La función nativa `dir()` nos proporciona una lista de los atributos de un objeto."
   ]
  },
  {
   "cell_type": "code",
   "execution_count": 30,
   "metadata": {},
   "outputs": [
    {
     "name": "stdout",
     "output_type": "stream",
     "text": [
      "['__abs__', '__add__', '__and__', '__bool__', '__ceil__', '__class__', '__delattr__', '__dir__', '__divmod__', '__doc__', '__eq__', '__float__', '__floor__', '__floordiv__', '__format__', '__ge__', '__getattribute__', '__getnewargs__', '__gt__', '__hash__', '__index__', '__init__', '__init_subclass__', '__int__', '__invert__', '__le__', '__lshift__', '__lt__', '__mod__', '__mul__', '__ne__', '__neg__', '__new__', '__or__', '__pos__', '__pow__', '__radd__', '__rand__', '__rdivmod__', '__reduce__', '__reduce_ex__', '__repr__', '__rfloordiv__', '__rlshift__', '__rmod__', '__rmul__', '__ror__', '__round__', '__rpow__', '__rrshift__', '__rshift__', '__rsub__', '__rtruediv__', '__rxor__', '__setattr__', '__sizeof__', '__str__', '__sub__', '__subclasshook__', '__truediv__', '__trunc__', '__xor__', 'as_integer_ratio', 'bit_length', 'conjugate', 'denominator', 'from_bytes', 'imag', 'numerator', 'real', 'to_bytes']\n"
     ]
    }
   ],
   "source": [
    "numero = 3\n",
    "print(dir(numero))"
   ]
  },
  {
   "cell_type": "markdown",
   "metadata": {},
   "source": [
    "Observe a continuación cómo `__init__` es un atributo de nuestro objeto `Punto2d`. ¡Pero `x` e `y` no lo son!"
   ]
  },
  {
   "cell_type": "code",
   "execution_count": 31,
   "metadata": {},
   "outputs": [
    {
     "name": "stdout",
     "output_type": "stream",
     "text": [
      "['__class__', '__delattr__', '__dict__', '__dir__', '__doc__', '__eq__', '__format__', '__ge__', '__getattribute__', '__gt__', '__hash__', '__init__', '__init_subclass__', '__le__', '__lt__', '__module__', '__ne__', '__new__', '__reduce__', '__reduce_ex__', '__repr__', '__setattr__', '__sizeof__', '__str__', '__subclasshook__', '__weakref__']\n"
     ]
    }
   ],
   "source": [
    "print(dir(Punto2d))"
   ]
  },
  {
   "cell_type": "markdown",
   "metadata": {},
   "source": [
    "Obviamente `x` e `y` sí son atributos propios del objeto `p`, pero no del objeto clase `Punto2d`."
   ]
  },
  {
   "cell_type": "code",
   "execution_count": 32,
   "metadata": {},
   "outputs": [
    {
     "name": "stdout",
     "output_type": "stream",
     "text": [
      "['__class__', '__delattr__', '__dict__', '__dir__', '__doc__', '__eq__', '__format__', '__ge__', '__getattribute__', '__gt__', '__hash__', '__init__', '__init_subclass__', '__le__', '__lt__', '__module__', '__ne__', '__new__', '__reduce__', '__reduce_ex__', '__repr__', '__setattr__', '__sizeof__', '__str__', '__subclasshook__', '__weakref__', 'x', 'y']\n"
     ]
    }
   ],
   "source": [
    "print(dir(p))"
   ]
  },
  {
   "cell_type": "markdown",
   "metadata": {},
   "source": [
    "Podemos observar que el objeto clase `Punto2d` *cede* los nombres de sus atributos a su instancia `p`. \n",
    "\n",
    "Investiguemos realmente qué ocurre en esa cesión. Veamos cual es el tipo del atributo `__init__` según el objeto de que se trate:"
   ]
  },
  {
   "cell_type": "code",
   "execution_count": 33,
   "metadata": {},
   "outputs": [
    {
     "name": "stdout",
     "output_type": "stream",
     "text": [
      "<class 'function'>\n",
      "<class 'method'>\n"
     ]
    }
   ],
   "source": [
    "print(type(Punto2d.__init__))\n",
    "print(type(p.__init__))"
   ]
  },
  {
   "cell_type": "markdown",
   "metadata": {},
   "source": [
    "Vemos que son atributos que comparten el nombre, pero son tipos diferentes. \n",
    "\n",
    "Para la clase, el acceso a sus atributos función es el habitual que hemos visto para las funciones. En este caso, para usar el objeto `__init__` deberemos usar tres argumentos, y el primero de ellos tendrá que ser una instancia de la propia clase `Punto2d` u otra que tenga los atributos `x` e `y `."
   ]
  },
  {
   "cell_type": "code",
   "execution_count": 34,
   "metadata": {},
   "outputs": [
    {
     "name": "stdout",
     "output_type": "stream",
     "text": [
      "5 6\n",
      "3 4\n"
     ]
    }
   ],
   "source": [
    "class Punto2d:\n",
    "    def __init__(self, x, y):\n",
    "        self.x = x\n",
    "        self.y = y\n",
    "\n",
    "\n",
    "p = Punto2d(5, 6)\n",
    "print(p.x, p.y)\n",
    "Punto2d.__init__(p, 3, 4)\n",
    "print(p.x, p.y)"
   ]
  },
  {
   "cell_type": "markdown",
   "metadata": {},
   "source": [
    "Obviamente, la forma que acabamos de usar para `__init__` es absurda. \n",
    "\n",
    "El uso de `__init__()` como **método** nos proporciona una forma estructurada, localizada y legible de incorporar los mismos tipos y nombres de atributos a todas las instancias de una clase.\n",
    "\n",
    "Pero si no nos importa volvernos locos (y también a quien lea nuestro código) podemos incorporar atributos a nuestras instancias de otra forma. Véase el ejemplo:"
   ]
  },
  {
   "cell_type": "code",
   "execution_count": 35,
   "metadata": {},
   "outputs": [
    {
     "name": "stdout",
     "output_type": "stream",
     "text": [
      "['__class__', '__delattr__', '__dict__', '__dir__', '__doc__', '__eq__', '__format__', '__ge__', '__getattribute__', '__gt__', '__hash__', '__init__', '__init_subclass__', '__le__', '__lt__', '__module__', '__ne__', '__new__', '__reduce__', '__reduce_ex__', '__repr__', '__setattr__', '__sizeof__', '__str__', '__subclasshook__', '__weakref__', 'kk', 'x', 'y']\n",
      "\n",
      " ['__class__', '__delattr__', '__dict__', '__dir__', '__doc__', '__eq__', '__format__', '__ge__', '__getattribute__', '__gt__', '__hash__', '__init__', '__init_subclass__', '__le__', '__lt__', '__module__', '__ne__', '__new__', '__reduce__', '__reduce_ex__', '__repr__', '__setattr__', '__sizeof__', '__str__', '__subclasshook__', '__weakref__', 'x', 'y']\n"
     ]
    }
   ],
   "source": [
    "p1 = Punto2d(10, 3)\n",
    "p1.kk = 'Por favor, no hagas esto.'  # p1 tiene ahora un nuevo atributo, kk\n",
    "\n",
    "print(dir(p1))\n",
    "\n",
    "p2 = Punto2d(20, 1)  # Obviamente p2 no tiene el atributo kk\n",
    "print('\\n', dir(p2))"
   ]
  },
  {
   "cell_type": "markdown",
   "metadata": {},
   "source": [
    "Por tanto, podemos añadir nuevos atributos a un objeto instancia de una clase de esta forma poco usual. Véase que `kk` es un atributo de `p1` pero no de `p2`."
   ]
  },
  {
   "cell_type": "markdown",
   "metadata": {},
   "source": [
    "Para seguir reforzando el concepto de objeto y atributo véase el siguiente ejemplo, en este caso usando una función. Al igual que las clases, las funciones son nuevas instancias creadas por el programador, de la clase `function`."
   ]
  },
  {
   "cell_type": "code",
   "execution_count": 42,
   "metadata": {},
   "outputs": [
    {
     "name": "stdout",
     "output_type": "stream",
     "text": [
      "1.4142135623730951\n"
     ]
    }
   ],
   "source": [
    "import math\n",
    "def distancia(p1, p2):\n",
    "    dif_x = p1.x - p2.x\n",
    "    dif_y = p1.y - p2.y\n",
    "    return math.sqrt(dif_x**2 + dif_y**2)\n",
    "\n",
    "\n",
    "p1 = Punto2d(1, 1)\n",
    "p2 = Punto2d(2, 2)\n",
    "\n",
    "distancia.valor = distancia(p1, p2)  # Añadimos dinámicamente el atributo valor al objeto distancia\n",
    "print(distancia.valor)"
   ]
  },
  {
   "cell_type": "markdown",
   "metadata": {},
   "source": [
    "Es obvio que este nuevo atributo `valor` de la función `distancia()` no incorpora ningún añadido ventajoso al código. Más bien al contrario, reduce la legibilidad. Solo es una muestra de cómo a objetos creados por el programador, como nuevas clases y funciones, podemos incorporales *al vuelo* nuevos atributos."
   ]
  },
  {
   "cell_type": "markdown",
   "metadata": {},
   "source": [
    "¿Qué pasa cuando intentamos usar un atributo de un objeto que no hemos añadido previamente?"
   ]
  },
  {
   "cell_type": "code",
   "execution_count": 43,
   "metadata": {
    "tags": [
     "raises-exception"
    ]
   },
   "outputs": [
    {
     "ename": "AttributeError",
     "evalue": "'Punto2d' object has no attribute 'kk'",
     "output_type": "error",
     "traceback": [
      "\u001b[1;31m---------------------------------------------------------------------------\u001b[0m",
      "\u001b[1;31mAttributeError\u001b[0m                            Traceback (most recent call last)",
      "\u001b[1;32m~\\AppData\\Local\\Temp\\ipykernel_4228\\1456259176.py\u001b[0m in \u001b[0;36m<module>\u001b[1;34m\u001b[0m\n\u001b[1;32m----> 1\u001b[1;33m \u001b[0mp2\u001b[0m\u001b[1;33m.\u001b[0m\u001b[0mkk\u001b[0m\u001b[1;33m\u001b[0m\u001b[1;33m\u001b[0m\u001b[0m\n\u001b[0m",
      "\u001b[1;31mAttributeError\u001b[0m: 'Punto2d' object has no attribute 'kk'"
     ]
    }
   ],
   "source": [
    "p2.kk"
   ]
  },
  {
   "cell_type": "markdown",
   "metadata": {},
   "source": [
    "La excepción `AttributeError` lo deja claro, ¿no?"
   ]
  },
  {
   "cell_type": "markdown",
   "metadata": {},
   "source": [
    "Hagamos un poco de magia. Puesto que nuestra clase `Punto2d` es un objeto creado por nosotros, ¿podemos añadirle un atributo función? ¡Por supuesto!"
   ]
  },
  {
   "cell_type": "code",
   "execution_count": 44,
   "metadata": {},
   "outputs": [
    {
     "name": "stdout",
     "output_type": "stream",
     "text": [
      "5.0\n",
      "['__class__', '__delattr__', '__dict__', '__dir__', '__doc__', '__eq__', '__format__', '__ge__', '__getattribute__', '__gt__', '__hash__', '__init__', '__init_subclass__', '__le__', '__lt__', '__module__', '__ne__', '__new__', '__reduce__', '__reduce_ex__', '__repr__', '__setattr__', '__sizeof__', '__str__', '__subclasshook__', '__weakref__', 'distancia']\n",
      "\n",
      "El tipo del atributo distancia de la clase `Punto2d` es <class 'function'>.\n",
      "\n",
      "El tipo del atributo distancia de una instancia de la clase `Punto2d` es <class 'method'>.\n"
     ]
    }
   ],
   "source": [
    "Punto2d.distancia = distancia  # Añadimos el atributo distancia, que es una función, a la clase Punto2d\n",
    "\n",
    "p1 = Punto2d(1, 4)\n",
    "p2 = Punto2d(4, 8)\n",
    "d = p1.distancia(p2)\n",
    "\n",
    "print(d)\n",
    "print(dir(Punto2d))\n",
    "print(f'\\nEl tipo del atributo distancia de la clase `Punto2d` es {type(Punto2d.distancia)}.')\n",
    "print(f'\\nEl tipo del atributo distancia de una instancia de la clase `Punto2d` es {type(p1.distancia)}.')"
   ]
  },
  {
   "cell_type": "markdown",
   "metadata": {},
   "source": [
    "Vemos que el atributo `distancia` ya está en la lista de atributos de `Punto2d` y es del tipo `function`. Pero desde el punto de vista de la instancia `p1`, como ya hemos hablado antes, es un método.\n",
    "\n",
    "La forma correcta y legible de incorporar el método `distancia` es en el momento de definir la clase."
   ]
  },
  {
   "cell_type": "code",
   "execution_count": 45,
   "metadata": {},
   "outputs": [
    {
     "name": "stdout",
     "output_type": "stream",
     "text": [
      "5.0\n"
     ]
    }
   ],
   "source": [
    "%reset -f\n",
    "import math\n",
    "\n",
    "class Punto2d:\n",
    "    def __init__(self, x, y):\n",
    "        self.x = x\n",
    "        self.y = y\n",
    "    def distancia(self, p):  # self juega ahora el papel de p1 en el ejemplo anterior\n",
    "        dif_x = self.x - p.x\n",
    "        dif_y = self.y - p.y\n",
    "        return math.sqrt(dif_x**2 + dif_y**2)\n",
    "\n",
    "    \n",
    "p1 = Punto2d(1, 4)\n",
    "p2 = Punto2d(4, 8)\n",
    "d = p1.distancia(p2)  # Esta llamada es el azucar sintáctico de la llamada d = distancia(p1, p2)\n",
    "\n",
    "print(d)"
   ]
  },
  {
   "cell_type": "code",
   "execution_count": 46,
   "metadata": {},
   "outputs": [
    {
     "name": "stdout",
     "output_type": "stream",
     "text": [
      "['__class__', '__delattr__', '__dict__', '__dir__', '__doc__', '__eq__', '__format__', '__ge__', '__getattribute__', '__gt__', '__hash__', '__init__', '__init_subclass__', '__le__', '__lt__', '__module__', '__ne__', '__new__', '__reduce__', '__reduce_ex__', '__repr__', '__setattr__', '__sizeof__', '__str__', '__subclasshook__', '__weakref__', 'distancia']\n",
      "\n",
      "El tipo del atributo distancia de la clase `Punto2d` es <class 'function'>.\n"
     ]
    }
   ],
   "source": [
    "print(dir(Punto2d))\n",
    "print(f'\\nEl tipo del atributo distancia de la clase `Punto2d` es {type(Punto2d.distancia)}.')"
   ]
  },
  {
   "cell_type": "markdown",
   "metadata": {},
   "source": [
    "Para finalizar, veamos un ejemplo de cómo invocar al atributo función `distancia` de la clase `Punto2d`."
   ]
  },
  {
   "cell_type": "code",
   "execution_count": 47,
   "metadata": {},
   "outputs": [
    {
     "name": "stdout",
     "output_type": "stream",
     "text": [
      "5.0\n"
     ]
    }
   ],
   "source": [
    "p1 = Punto2d(1, 4)\n",
    "p2 = Punto2d(4, 8)\n",
    "Punto2d.distancia(p1, p2)\n",
    "print(d)"
   ]
  },
  {
   "cell_type": "markdown",
   "metadata": {},
   "source": [
    "### Ejecución de un objeto clase\n",
    "Veamos con un ejemplo una diferencia esencial entre la definición de una función y la de una clase. Ejecute la siguiente celda."
   ]
  },
  {
   "cell_type": "code",
   "execution_count": 48,
   "metadata": {},
   "outputs": [
    {
     "name": "stdout",
     "output_type": "stream",
     "text": [
      "Dentro de la clase `MiClase`.\n",
      "El valor del atributo `x` `MiClase` es 10.\n"
     ]
    }
   ],
   "source": [
    "def mi_funcion():\n",
    "    print('Dentro de la función `mi_funcion`.')\n",
    "    \n",
    "    \n",
    "class MiClase:\n",
    "    x = 10\n",
    "    print('Dentro de la clase `MiClase`.')\n",
    "    \n",
    "\n",
    "print(f'El valor del atributo `x` `MiClase` es {MiClase.x}.')"
   ]
  },
  {
   "cell_type": "markdown",
   "metadata": {},
   "source": [
    "Como ya sabemos, el cuerpo de una función solo se ejecuta cuando se invoca a la función. Sin embargo, el cuerpo de una clase se ejecuta de forma inmediata, **¡una única vez!**.\n",
    "\n",
    "Entonces, ¿se ejecutan los métodos dentro de una clase?"
   ]
  },
  {
   "cell_type": "code",
   "execution_count": 49,
   "metadata": {},
   "outputs": [
    {
     "name": "stdout",
     "output_type": "stream",
     "text": [
      "Dentro de la clase `MiClase`.\n"
     ]
    }
   ],
   "source": [
    "class MiClase:\n",
    "    x = 10\n",
    "    print('Dentro de la clase `MiClase`.')\n",
    "    \n",
    "    def mi_metodo():\n",
    "        print('Dentro de `mi_metodo` sin argumentos.')"
   ]
  },
  {
   "cell_type": "markdown",
   "metadata": {},
   "source": [
    "Como parece lógico, nada ocurre al ejecutarse el cuerpo de la clase respecto a `mi_metodo`. Realmente, no estamos definiendo una nueva variable en el espacio de nombres global, como ocurre en el ejemplo anterior con `mi_funcion`. Lo que estamos haciendo es definir un nuevo atributo de la clase `MiClase`.\n",
    "\n",
    "Para ejecutar el método `mi_metodo()` necesitamos invocarlo:"
   ]
  },
  {
   "cell_type": "code",
   "execution_count": 50,
   "metadata": {},
   "outputs": [
    {
     "name": "stdout",
     "output_type": "stream",
     "text": [
      "Dentro de `mi_metodo` sin argumentos.\n"
     ]
    }
   ],
   "source": [
    "MiClase.mi_metodo()  # Invocamos al atributo mi_metodo, en este caso como una función"
   ]
  },
  {
   "cell_type": "markdown",
   "metadata": {},
   "source": [
    "Este atributo `mi_metodo`, ¿será accesible desde una instancia de la clase?"
   ]
  },
  {
   "cell_type": "code",
   "execution_count": 51,
   "metadata": {
    "tags": [
     "raises-exception"
    ]
   },
   "outputs": [
    {
     "ename": "TypeError",
     "evalue": "mi_metodo() takes 0 positional arguments but 1 was given",
     "output_type": "error",
     "traceback": [
      "\u001b[1;31m---------------------------------------------------------------------------\u001b[0m",
      "\u001b[1;31mTypeError\u001b[0m                                 Traceback (most recent call last)",
      "\u001b[1;32m~\\AppData\\Local\\Temp\\ipykernel_4228\\3060434681.py\u001b[0m in \u001b[0;36m<module>\u001b[1;34m\u001b[0m\n\u001b[0;32m      1\u001b[0m \u001b[0my\u001b[0m \u001b[1;33m=\u001b[0m \u001b[0mMiClase\u001b[0m\u001b[1;33m(\u001b[0m\u001b[1;33m)\u001b[0m\u001b[1;33m\u001b[0m\u001b[1;33m\u001b[0m\u001b[0m\n\u001b[1;32m----> 2\u001b[1;33m \u001b[0my\u001b[0m\u001b[1;33m.\u001b[0m\u001b[0mmi_metodo\u001b[0m\u001b[1;33m(\u001b[0m\u001b[1;33m)\u001b[0m\u001b[1;33m\u001b[0m\u001b[1;33m\u001b[0m\u001b[0m\n\u001b[0m",
      "\u001b[1;31mTypeError\u001b[0m: mi_metodo() takes 0 positional arguments but 1 was given"
     ]
    }
   ],
   "source": [
    "y = MiClase()\n",
    "y.mi_metodo()"
   ]
  },
  {
   "cell_type": "markdown",
   "metadata": {},
   "source": [
    "Obviamente no. Ya hemos dicho que `y.mi_metodo()` es el azucar sintáctico de `mi_metodo(y)` y el método que hemos definido no tiene argumentos."
   ]
  },
  {
   "cell_type": "markdown",
   "metadata": {},
   "source": [
    "Modifiquemos ahora la clase `MiClase` para poder usar `mi_metodo` como un método de una instancia de la clase:"
   ]
  },
  {
   "cell_type": "code",
   "execution_count": 52,
   "metadata": {},
   "outputs": [
    {
     "name": "stdout",
     "output_type": "stream",
     "text": [
      "Dentro de la clase `MiClase`.\n",
      "Dentro de `mi_metodo` con un argumento.\n"
     ]
    }
   ],
   "source": [
    "class MiClase:\n",
    "    print('Dentro de la clase `MiClase`.')\n",
    "    \n",
    "    def mi_metodo(self):\n",
    "        print('Dentro de `mi_metodo` con un argumento.')\n",
    "\n",
    "        \n",
    "y = MiClase()\n",
    "y.mi_metodo()"
   ]
  },
  {
   "cell_type": "markdown",
   "metadata": {},
   "source": [
    "***\n",
    "<a id='Metodos_especiales'></a>"
   ]
  },
  {
   "cell_type": "markdown",
   "metadata": {},
   "source": [
    "## Métodos especiales\n",
    "La siguiente celda implementa una clase para trabajar con un contenedor tipo **pila**, es decir, un contenedor que solo admite las operaciones de añadir o eliminar elementos siguiendo una ley *último en llegar, primero en salir*.\n",
    "\n",
    "Está implementada mediante *composición*, utilizando el tipo nativo `list`. De momento, se han implementado los tres métodos básicos: inicialización y añadir y eliminar un elemento."
   ]
  },
  {
   "cell_type": "code",
   "execution_count": 54,
   "metadata": {},
   "outputs": [],
   "source": [
    "class Pila(object):\n",
    "    def __init__(self):\n",
    "        self.pila = []\n",
    "    def push(self, x):\n",
    "        self.pila.append(x)\n",
    "    def pop(self):\n",
    "        self.pila.pop()\n",
    "        \n",
    "        \n",
    "p = Pila()\n",
    "p.push(3)\n",
    "p.push(7)\n",
    "p.push(-23)\n",
    "p.pop()"
   ]
  },
  {
   "cell_type": "markdown",
   "metadata": {},
   "source": [
    "¿Qué pasa si queremos visualizar nuestra pila usando `print()`?"
   ]
  },
  {
   "cell_type": "code",
   "execution_count": 55,
   "metadata": {},
   "outputs": [
    {
     "name": "stdout",
     "output_type": "stream",
     "text": [
      "<__main__.Pila object at 0x000001F889FCDA00>\n"
     ]
    }
   ],
   "source": [
    "print(p)"
   ]
  },
  {
   "cell_type": "markdown",
   "metadata": {},
   "source": [
    "El resultado no tiene la información deseada, más allá de ver el tipo del objeto y su posición en memoria. Podemos solventar este inconveniente ayudándonos de un **método especial**.\n",
    "\n",
    "En Python, los métodos con doble subrayado al inicio y al final están reservados para usos especiales, como ya hemos visto con `__init__`. Estos métodos se conocen como métodos **especiales** o métodos **dunder**, *double underscores*, y también con el poco afortunado nombre de **métodos mágicos**.\n",
    "\n",
    "Haremos un breve repaso de algunos de estos métodos especiales."
   ]
  },
  {
   "cell_type": "markdown",
   "metadata": {},
   "source": [
    "### Representación de la clase\n",
    "El método `__str__` permite decidir cómo se visualizara una instancia de la clase con el objetivo de su fácil interpretación por parte de un humano. Devuelve una variable tipo `str`."
   ]
  },
  {
   "cell_type": "code",
   "execution_count": 66,
   "metadata": {},
   "outputs": [],
   "source": [
    "class Pila(object):\n",
    "    def __init__(self):\n",
    "        self.pila = []\n",
    "    def __str__(self):\n",
    "        return f'{self.pila}'\n",
    "    def push(self, x):\n",
    "        self.pila.append(x)\n",
    "    def pop(self):\n",
    "        self.pila.pop()\n",
    "    \n",
    "\n",
    "p = Pila()\n",
    "p.push(3)\n",
    "p.push(7)\n",
    "p.push(-23)\n",
    "p.pop()"
   ]
  },
  {
   "cell_type": "markdown",
   "metadata": {},
   "source": [
    "Ahora logramos visualizar la pila de una forma similar a una lista."
   ]
  },
  {
   "cell_type": "code",
   "execution_count": 67,
   "metadata": {},
   "outputs": [
    {
     "name": "stdout",
     "output_type": "stream",
     "text": [
      "[3, 7]\n"
     ]
    }
   ],
   "source": [
    "print(p)"
   ]
  },
  {
   "cell_type": "markdown",
   "metadata": {},
   "source": [
    "Veamos otro ejemplo usando la clase `Punto2d`."
   ]
  },
  {
   "cell_type": "code",
   "execution_count": 68,
   "metadata": {},
   "outputs": [],
   "source": [
    "class Punto2d:\n",
    "    def __init__(self, x, y):\n",
    "        self.x = x\n",
    "        self.y = y\n",
    "    def __str__(self):\n",
    "        return f'({self.x}, {self.y})'\n",
    "    def __repr__(self):\n",
    "        return f'{self.__class__.__name__}{self}'\n",
    "    def distancia(self, p):\n",
    "        dif_x = self.x - p.x\n",
    "        dif_y = self.y - p.y\n",
    "        return math.sqrt(dif_x**2 + dif_y**2)"
   ]
  },
  {
   "cell_type": "code",
   "execution_count": 69,
   "metadata": {},
   "outputs": [
    {
     "name": "stdout",
     "output_type": "stream",
     "text": [
      "(3, 4)\n"
     ]
    },
    {
     "data": {
      "text/plain": [
       "'Punto2d(5, 6)'"
      ]
     },
     "execution_count": 69,
     "metadata": {},
     "output_type": "execute_result"
    }
   ],
   "source": [
    "print(Punto2d(3, 4))\n",
    "p = Punto2d(5, 6)\n",
    "repr(p)"
   ]
  },
  {
   "cell_type": "markdown",
   "metadata": {},
   "source": [
    "El método especial `__repr__` tiene un objetivo similar, pero ahora el objetivo es que sea posible ser interpretado por Python sin ambiguedades. Necesitamos una cadena que tenga el aspecto `Punto2d(xx, yy)`, que reproduce la expresión que utilizaríamos para crear una nueva instancia.\n",
    "\n",
    "Una forma elegante de hacerlo es recabar de forma automática el nombre de la clase usando los atributos `.__class__.__name__`.\n",
    "```python\n",
    "def __repr__(self):\n",
    "    return f'{self.__class__.__name__}({self.x}, {self.y})'\n",
    "```"
   ]
  },
  {
   "cell_type": "code",
   "execution_count": 70,
   "metadata": {},
   "outputs": [],
   "source": [
    "class Punto2d:\n",
    "    def __init__(self, x, y):\n",
    "        self.x = x\n",
    "        self.y = y\n",
    "    def __str__(self):\n",
    "        return f'({self.x}, {self.y})'\n",
    "    def __repr__(self):\n",
    "        return f'{self.__class__.__name__}({self.x}, {self.y})'\n",
    "    def distancia(self, p):\n",
    "        dif_x = self.x - p.x\n",
    "        dif_y = self.y - p.y\n",
    "        return math.sqrt(dif_x**2 + dif_y**2)"
   ]
  },
  {
   "cell_type": "code",
   "execution_count": 71,
   "metadata": {},
   "outputs": [
    {
     "name": "stdout",
     "output_type": "stream",
     "text": [
      "Punto2d(3, 4)\n",
      "(3, 4)\n"
     ]
    }
   ],
   "source": [
    "p = Punto2d(3, 4)\n",
    "print(repr(p))\n",
    "z = eval(repr(p))\n",
    "print(z)"
   ]
  },
  {
   "cell_type": "markdown",
   "metadata": {},
   "source": [
    "Vemos que al invocar a la función `repr(p)` obtenemos el dato `str` `'Punto2d(3, 4)'`. Esta cadena es directamente utilizable\n",
    "para volver a construir un objeto `Punto2d`, por ejemplo, usando la función nativa `eval(cadena)`, que evalúa el argumento `cadena` como si fuese una expresión válida del lenguaje. En este caso, la cadena `'Punto2d(3, 4)'` al ser evaluada construye una nueva instancia.\n",
    "\n",
    "Una versión más compacta sería la siguiente, donde nos aprovechamos de tener ya definida `__str__`.\n",
    "```python\n",
    "def __repr__(self):\n",
    "    return f'{self.__class__.__name__}{self}'\n",
    "```"
   ]
  },
  {
   "cell_type": "markdown",
   "metadata": {},
   "source": [
    "### Sobrecarga de operadores aritméticos\n",
    "Probemos a sumar dos instancias de la clase `Punto2d`."
   ]
  },
  {
   "cell_type": "code",
   "execution_count": 72,
   "metadata": {
    "tags": [
     "raises-exception"
    ]
   },
   "outputs": [
    {
     "ename": "TypeError",
     "evalue": "unsupported operand type(s) for +: 'Punto2d' and 'Punto2d'",
     "output_type": "error",
     "traceback": [
      "\u001b[1;31m---------------------------------------------------------------------------\u001b[0m",
      "\u001b[1;31mTypeError\u001b[0m                                 Traceback (most recent call last)",
      "\u001b[1;32m~\\AppData\\Local\\Temp\\ipykernel_4228\\834599231.py\u001b[0m in \u001b[0;36m<module>\u001b[1;34m\u001b[0m\n\u001b[0;32m      1\u001b[0m \u001b[0mx\u001b[0m \u001b[1;33m=\u001b[0m \u001b[0mPunto2d\u001b[0m\u001b[1;33m(\u001b[0m\u001b[1;36m3\u001b[0m\u001b[1;33m,\u001b[0m \u001b[1;36m4\u001b[0m\u001b[1;33m)\u001b[0m\u001b[1;33m\u001b[0m\u001b[1;33m\u001b[0m\u001b[0m\n\u001b[0;32m      2\u001b[0m \u001b[0my\u001b[0m \u001b[1;33m=\u001b[0m \u001b[0mPunto2d\u001b[0m\u001b[1;33m(\u001b[0m\u001b[1;33m-\u001b[0m\u001b[1;36m1\u001b[0m\u001b[1;33m,\u001b[0m \u001b[1;36m3\u001b[0m\u001b[1;33m)\u001b[0m\u001b[1;33m\u001b[0m\u001b[1;33m\u001b[0m\u001b[0m\n\u001b[1;32m----> 3\u001b[1;33m \u001b[0mz\u001b[0m \u001b[1;33m=\u001b[0m \u001b[0mx\u001b[0m \u001b[1;33m+\u001b[0m \u001b[0my\u001b[0m\u001b[1;33m\u001b[0m\u001b[1;33m\u001b[0m\u001b[0m\n\u001b[0m",
      "\u001b[1;31mTypeError\u001b[0m: unsupported operand type(s) for +: 'Punto2d' and 'Punto2d'"
     ]
    }
   ],
   "source": [
    "x = Punto2d(3, 4)\n",
    "y = Punto2d(-1, 3)\n",
    "z = x + y"
   ]
  },
  {
   "cell_type": "markdown",
   "metadata": {},
   "source": [
    "Como no podía ser de otro modo, Python *no sabe* sumar dos objetos `Punto2d`. Python dispone de una serie de funciones especiales que permiten sobrecargar los operadores aritméticos.\n",
    "\n",
    "| Operación | Función especial |\n",
    "|:---------:|:-----------------|\n",
    "|  `+`      | `__add__`        |\n",
    "|  `-`      | `__sub__`        |\n",
    "|  `*`      | `__mul__`        |\n",
    "|  `/`      | `__truediv__`    |\n",
    "|  `//`     | `__floordiv__`   |\n",
    "|  `**`     | `__pow__`        |\n",
    "\n",
    "Veámos algunas de ellas en acción:"
   ]
  },
  {
   "cell_type": "code",
   "execution_count": 73,
   "metadata": {},
   "outputs": [
    {
     "name": "stdout",
     "output_type": "stream",
     "text": [
      "(1.0, 3.5)\n"
     ]
    }
   ],
   "source": [
    "class Punto2d:\n",
    "    def __init__(self, x, y):\n",
    "        self.x = x\n",
    "        self.y = y\n",
    "    def __str__(self):\n",
    "        return f'({self.x}, {self.y})'\n",
    "    def __repr__(self):\n",
    "        return f'{self.__class__.__name__}{self}'\n",
    "    def __add__(self, p):\n",
    "        return Punto2d(self.x + p.x, self.y + p.y)\n",
    "    def __sub__(self, p):\n",
    "        return Punto2d(self.x - p.x, self.y - p.y)\n",
    "    def __truediv__(self, valor):\n",
    "        return Punto2d(self.x/valor, self.y/valor)\n",
    "    def __mul__(self, valor):\n",
    "        return Punto2d(valor*self.x, valor*self.y)\n",
    "    def distancia(self, p):\n",
    "        dif_x = self.x - p.x\n",
    "        dif_y = self.y - p.y\n",
    "        return math.sqrt(dif_x**2 + dif_y**2)\n",
    "\n",
    "    \n",
    "x = Punto2d(3, 4)\n",
    "y = Punto2d(-1, 3)\n",
    "# Punto medio entre x e y\n",
    "z = (x + y)/2\n",
    "print(z)"
   ]
  },
  {
   "cell_type": "markdown",
   "metadata": {},
   "source": [
    "Sería lógico también calcular el valor medio de la siguiente forma:"
   ]
  },
  {
   "cell_type": "code",
   "execution_count": 74,
   "metadata": {
    "tags": [
     "raises-exception"
    ]
   },
   "outputs": [
    {
     "ename": "TypeError",
     "evalue": "unsupported operand type(s) for *: 'float' and 'Punto2d'",
     "output_type": "error",
     "traceback": [
      "\u001b[1;31m---------------------------------------------------------------------------\u001b[0m",
      "\u001b[1;31mTypeError\u001b[0m                                 Traceback (most recent call last)",
      "\u001b[1;32m~\\AppData\\Local\\Temp\\ipykernel_4228\\1549505387.py\u001b[0m in \u001b[0;36m<module>\u001b[1;34m\u001b[0m\n\u001b[1;32m----> 1\u001b[1;33m \u001b[0mz\u001b[0m \u001b[1;33m=\u001b[0m \u001b[1;36m0.5\u001b[0m\u001b[1;33m*\u001b[0m\u001b[1;33m(\u001b[0m\u001b[0mx\u001b[0m \u001b[1;33m+\u001b[0m \u001b[0my\u001b[0m\u001b[1;33m)\u001b[0m\u001b[1;33m\u001b[0m\u001b[1;33m\u001b[0m\u001b[0m\n\u001b[0m",
      "\u001b[1;31mTypeError\u001b[0m: unsupported operand type(s) for *: 'float' and 'Punto2d'"
     ]
    }
   ],
   "source": [
    "z = 0.5*(x + y)"
   ]
  },
  {
   "cell_type": "markdown",
   "metadata": {},
   "source": [
    "Sin embargo, obtenemos una excepción, a pesar de que hemos sobrecargado el operador `*` con la función especial `__mul__`. Lo que ocurre es aquí el primer operando es un objeto tipo `float` y este tipo de dato no reconoce como válido un objeto `Punto2d` como segundo parámetro. En ningún momento se ha invocado a la función `__mul__` de la clase `Punto2d`.\n",
    "\n",
    "Todo funciona bien si cambiamos el orden:"
   ]
  },
  {
   "cell_type": "code",
   "execution_count": null,
   "metadata": {},
   "outputs": [],
   "source": [
    "z = (x + y)*0.5\n",
    "print(z)"
   ]
  },
  {
   "cell_type": "markdown",
   "metadata": {},
   "source": [
    "Ahora el primer operando, `(x + y)`, sí que es un objeto `Punto2d`, lo que se ajusta a la función especial `__mul__` que hemos sobrecargado.\n",
    "\n",
    "Para evitar este tipo de problemas, Python ofrece la función especial `__rmul__`: si la invocación a `__mul__` genera una excepción para el primer tipo de operando, entonces se comprueba si el tipo del segundo operando tiene definida la función especial `__rmul__`, invocándose en ese caso con los operandos cambiados.\n",
    "\n",
    "Nótese que es necesario definir esta función porque no siempre deseamos que un operador sea conmutativo. En el caso que nos ocupa, operaciones del tipo `4/p`, donde `p` es un objeto `Punto2d` no tienen interés. No tiene sentido utilizar la función especial `__rtruediv__`, siendo lo lógico que se genere una excepción.\n",
    "\n",
    "En definitiva, para dotar de conmutatividad al operador `*`, basta añadir a la clase `Punto2d` el siguiente método:\n",
    "```python\n",
    "def __rmul__(self, valor):\n",
    "    return Punto2d(valor*self.x, valor*self.y)\n",
    "```"
   ]
  },
  {
   "cell_type": "markdown",
   "metadata": {},
   "source": [
    "### Sobrecarga de operadores de comparación\n",
    "Sin ánimo de ser exhaustivos, también se tiene a nuestra disposición funciones especiales para sobrecargar los operadores de comparación.\n",
    "\n",
    "| Operación | Función especial |\n",
    "|:---------:|:-----------------|\n",
    "|  `<`      | `__lt__`         |\n",
    "|  `<=`     | `__le__`         |\n",
    "|  `>`      | `__gt__`         |\n",
    "|  `>=`     | `__ge__`         |\n",
    "|  `==`     | `__eq__`         |\n",
    "|  `!=`     | `__ne__`         |\n",
    "\n",
    "Para el ejemplo que nos ocupa con la clase `Punto2d`, supongamos que en nuestra aplicación estamos interesados en ordenar una colección de puntos en función de su distancia al origen."
   ]
  },
  {
   "cell_type": "code",
   "execution_count": 67,
   "metadata": {},
   "outputs": [
    {
     "name": "stdout",
     "output_type": "stream",
     "text": [
      "[Punto2d(-1, -1), Punto2d(1, 1), Punto2d(2, 1), Punto2d(-2, -2), Punto2d(1, 3)]\n"
     ]
    }
   ],
   "source": [
    "class Punto2d:\n",
    "    def __init__(self, x, y):\n",
    "        self.x = x\n",
    "        self.y = y\n",
    "    def __str__(self):\n",
    "        return f'({self.x}, {self.y})'\n",
    "    def __repr__(self):\n",
    "        return f'{self.__class__.__name__}{self}'\n",
    "    def __add__(self, p):\n",
    "        return Punto2d(self.x + p.x, self.y + p.y)\n",
    "    def __sub__(self, p):\n",
    "        return Punto2d(self.x - p.x, self.y - p.y)\n",
    "    def __truediv__(self, valor):\n",
    "        return Punto2d(self.x/valor, self.y/valor)\n",
    "    def __mul__(self, valor):\n",
    "        return Punto2d(valor*self.x, valor*self.y)\n",
    "    def __lt__(self, p):\n",
    "        dist1 = self.x**2 + self.y**2\n",
    "        dist2 = p.x**2 + p.y**2\n",
    "        return dist1 < dist2\n",
    "    def distancia(self, p):\n",
    "        dif_x = self.x - p.x\n",
    "        dif_y = self.y - p.y\n",
    "        return math.sqrt(dif_x**2 + dif_y**2)\n",
    "\n",
    "    \n",
    "lista = [Punto2d(2, 1), Punto2d(-1, -1), Punto2d(1, 1), Punto2d(1, 3), Punto2d(-2, -2)]\n",
    "lista.sort()\n",
    "print(lista)"
   ]
  },
  {
   "cell_type": "markdown",
   "metadata": {},
   "source": [
    "### Operador de indexación `[]`\n",
    "La siguiente celda implementa una clase `Matriz2d` usando internamente una lista anidada. Para crearla debe proporcionarse una tupla con las dimensiones y un valor inicial.\n",
    "\n",
    "Hemos sobrecargado el operador `+` con la intención de utilizar la suma de matrices de forma compacta y elegante. Sin embargo, como puede constatarse, obtenemos un error."
   ]
  },
  {
   "cell_type": "code",
   "execution_count": 75,
   "metadata": {
    "tags": [
     "raise-exception"
    ]
   },
   "outputs": [
    {
     "ename": "TypeError",
     "evalue": "'Matriz2d' object is not subscriptable",
     "output_type": "error",
     "traceback": [
      "\u001b[1;31m---------------------------------------------------------------------------\u001b[0m",
      "\u001b[1;31mTypeError\u001b[0m                                 Traceback (most recent call last)",
      "\u001b[1;32m~\\AppData\\Local\\Temp\\ipykernel_4228\\2807363096.py\u001b[0m in \u001b[0;36m<module>\u001b[1;34m\u001b[0m\n\u001b[0;32m     19\u001b[0m \u001b[0mq\u001b[0m \u001b[1;33m=\u001b[0m \u001b[0mMatriz2d\u001b[0m\u001b[1;33m(\u001b[0m\u001b[1;33m(\u001b[0m\u001b[1;36m3\u001b[0m\u001b[1;33m,\u001b[0m \u001b[1;36m7\u001b[0m\u001b[1;33m)\u001b[0m\u001b[1;33m,\u001b[0m \u001b[1;36m5\u001b[0m\u001b[1;33m)\u001b[0m\u001b[1;33m\u001b[0m\u001b[1;33m\u001b[0m\u001b[0m\n\u001b[0;32m     20\u001b[0m \u001b[0mp\u001b[0m \u001b[1;33m=\u001b[0m \u001b[0mMatriz2d\u001b[0m\u001b[1;33m(\u001b[0m\u001b[1;33m(\u001b[0m\u001b[1;36m3\u001b[0m\u001b[1;33m,\u001b[0m \u001b[1;36m7\u001b[0m\u001b[1;33m)\u001b[0m\u001b[1;33m,\u001b[0m \u001b[1;36m3\u001b[0m\u001b[1;33m)\u001b[0m\u001b[1;33m\u001b[0m\u001b[1;33m\u001b[0m\u001b[0m\n\u001b[1;32m---> 21\u001b[1;33m \u001b[0mprint\u001b[0m\u001b[1;33m(\u001b[0m\u001b[0mq\u001b[0m \u001b[1;33m+\u001b[0m \u001b[0mp\u001b[0m\u001b[1;33m)\u001b[0m\u001b[1;33m\u001b[0m\u001b[1;33m\u001b[0m\u001b[0m\n\u001b[0m",
      "\u001b[1;32m~\\AppData\\Local\\Temp\\ipykernel_4228\\2807363096.py\u001b[0m in \u001b[0;36m__add__\u001b[1;34m(self, m)\u001b[0m\n\u001b[0;32m     13\u001b[0m         \u001b[1;32mfor\u001b[0m \u001b[0mi\u001b[0m\u001b[1;33m,\u001b[0m \u001b[0mfila\u001b[0m \u001b[1;32min\u001b[0m \u001b[0menumerate\u001b[0m\u001b[1;33m(\u001b[0m\u001b[0mself\u001b[0m\u001b[1;33m.\u001b[0m\u001b[0mmatriz\u001b[0m\u001b[1;33m)\u001b[0m\u001b[1;33m:\u001b[0m\u001b[1;33m\u001b[0m\u001b[1;33m\u001b[0m\u001b[0m\n\u001b[0;32m     14\u001b[0m             \u001b[1;32mfor\u001b[0m \u001b[0mj\u001b[0m\u001b[1;33m,\u001b[0m \u001b[0mx\u001b[0m \u001b[1;32min\u001b[0m \u001b[0menumerate\u001b[0m\u001b[1;33m(\u001b[0m\u001b[0mfila\u001b[0m\u001b[1;33m)\u001b[0m\u001b[1;33m:\u001b[0m\u001b[1;33m\u001b[0m\u001b[1;33m\u001b[0m\u001b[0m\n\u001b[1;32m---> 15\u001b[1;33m                 \u001b[0msuma\u001b[0m\u001b[1;33m[\u001b[0m\u001b[0mi\u001b[0m\u001b[1;33m,\u001b[0m \u001b[0mj\u001b[0m\u001b[1;33m]\u001b[0m \u001b[1;33m=\u001b[0m \u001b[0mself\u001b[0m\u001b[1;33m.\u001b[0m\u001b[0mmatriz\u001b[0m\u001b[1;33m[\u001b[0m\u001b[0mi\u001b[0m\u001b[1;33m]\u001b[0m\u001b[1;33m[\u001b[0m\u001b[0mj\u001b[0m\u001b[1;33m]\u001b[0m \u001b[1;33m+\u001b[0m \u001b[0mm\u001b[0m\u001b[1;33m[\u001b[0m\u001b[0mi\u001b[0m\u001b[1;33m,\u001b[0m \u001b[0mj\u001b[0m\u001b[1;33m]\u001b[0m\u001b[1;33m\u001b[0m\u001b[1;33m\u001b[0m\u001b[0m\n\u001b[0m\u001b[0;32m     16\u001b[0m         \u001b[1;32mreturn\u001b[0m \u001b[0msuma\u001b[0m\u001b[1;33m\u001b[0m\u001b[1;33m\u001b[0m\u001b[0m\n\u001b[0;32m     17\u001b[0m \u001b[1;33m\u001b[0m\u001b[0m\n",
      "\u001b[1;31mTypeError\u001b[0m: 'Matriz2d' object is not subscriptable"
     ]
    }
   ],
   "source": [
    "class Matriz2d:\n",
    "    def __init__(self, dimension=(2, 2), valor=0):\n",
    "        if not isinstance(dimension, tuple):\n",
    "            raise ValueError('La dimensión no es una tupla.')\n",
    "        if len(dimension) != 2 or dimension[0] < 1 or dimension[1] < 1:\n",
    "            raise ValueError('Alguna de las dimensiones de la matriz no es válida.')\n",
    "        self.dimension = dimension\n",
    "        self.matriz = [[valor for _ in range(dimension[1])] for _ in range(dimension[0])]\n",
    "    def __str__(self):\n",
    "        return f'{self.matriz}'\n",
    "    def __add__(self, m):\n",
    "        suma = Matriz2d(self.dimension)\n",
    "        for i, fila in enumerate(self.matriz):\n",
    "            for j, x in enumerate(fila):\n",
    "                suma[i, j] = self.matriz[i][j] + m[i, j]\n",
    "        return suma\n",
    "                \n",
    "\n",
    "q = Matriz2d((3, 7), 5)\n",
    "p = Matriz2d((3, 7), 3)\n",
    "print(q + p)"
   ]
  },
  {
   "cell_type": "markdown",
   "metadata": {},
   "source": [
    "Tanto el parámetro de entrada `m` como la variable local `suma` son objetos `Matriz2d` y Python no sabe como acceder a los elementos de las listas subyacentes.\n",
    "\n",
    "Para ello, necesitamos del concurso de las funciones especiales `__getitem__` y `__setitem__` que permiten *leer* y *modificar*\n",
    "los datos usando índices."
   ]
  },
  {
   "cell_type": "code",
   "execution_count": 76,
   "metadata": {},
   "outputs": [
    {
     "name": "stdout",
     "output_type": "stream",
     "text": [
      "[[8, 8, 8, 8, 8, 8, 8], [8, 8, 8, 8, 8, 8, 8], [8, 8, 23, 8, 8, 8, 8]]\n"
     ]
    }
   ],
   "source": [
    "class Matriz2d:\n",
    "    def __init__(self, dimension=(2, 2), valor=0):\n",
    "        if not isinstance(dimension, tuple):\n",
    "            raise ValueError('La dimensión no es una tupla.')\n",
    "        if len(dimension) != 2 or dimension[0] < 1 or dimension[1] < 1:\n",
    "            raise ValueError('Alguna de las dimensiones de la matriz no es válida.')\n",
    "        self.dimension = dimension\n",
    "        self.matriz = [[valor for _ in range(dimension[1])] for _ in range(dimension[0])]\n",
    "    def __str__(self):\n",
    "        return f'{self.matriz}'\n",
    "    def __getitem__(self, indice):\n",
    "        if len(indice) != 2:\n",
    "            raise ValueError('El índice no es válido.')\n",
    "        return(self.matriz[indice[0]][indice[1]])\n",
    "    def __setitem__(self, indice, valor):\n",
    "        if len(indice) != 2:\n",
    "            raise ValueError('El índice no es válido.')\n",
    "        self.matriz[indice[0]][indice[1]] = valor\n",
    "    def __add__(self, m):\n",
    "        suma = Matriz2d(self.dimension)\n",
    "        for i, fila in enumerate(self.matriz):\n",
    "            for j, x in enumerate(fila):\n",
    "                suma[i, j] = self.matriz[i][j] + m[i, j]\n",
    "        return suma\n",
    "                \n",
    "\n",
    "q = Matriz2d((3, 7), 5)\n",
    "p = Matriz2d((3, 7), 3)\n",
    "z = p + q\n",
    "z[2, 2] = 23\n",
    "print(z)"
   ]
  },
  {
   "cell_type": "markdown",
   "metadata": {},
   "source": [
    "Nótese que una expresión como `self.matriz[i][j]` es de hecho la invocación a `self.matriz.__getitem(i)__.__getitem__(j)`, es decir, en primer lugar se obtiene la sublista correspondiente a la fila `i` y luego el elemento `j` de esa fila."
   ]
  },
  {
   "cell_type": "markdown",
   "metadata": {},
   "source": [
    "## Operador de invocación ()\n",
    "A veces es interesante usar una instancia de un objeto como si se tratase de una función. Para ello, se utiliza la función especial `__call__`.\n",
    "\n",
    "Veamos un ejemplo con una clase `Polinomio`:"
   ]
  },
  {
   "cell_type": "code",
   "execution_count": 77,
   "metadata": {},
   "outputs": [
    {
     "name": "stdout",
     "output_type": "stream",
     "text": [
      "49\n"
     ]
    }
   ],
   "source": [
    "class Polinomio:\n",
    "    def __init__(self, lista):\n",
    "        self.coeficientes = lista.copy()\n",
    "\n",
    "    # Devuelve el valor del polinomio en x\n",
    "    def __call__(self, x):\n",
    "        resultado = 0\n",
    "        for i, coef in enumerate(self.coeficientes):\n",
    "            resultado += coef*x**i\n",
    "        return resultado\n",
    "    \n",
    "pol = Polinomio([1, 2, 3, 4])  # 1 + 2*x + 3*x^2 + 4*x^3\n",
    "print(pol(2))"
   ]
  },
  {
   "cell_type": "markdown",
   "metadata": {},
   "source": [
    "***\n",
    "<a id='Iteradores_generadores'></a>"
   ]
  },
  {
   "cell_type": "markdown",
   "metadata": {},
   "source": [
    "## Iteradores y generadores\n",
    "Siguiendo con el ejemplo de la clase `Matriz2d`, sería deseable poder iterar e ir obteniendo las filas que lo componen.\n",
    "\n",
    "El siguiente fragmento muestra que no podemos usar la sintasix habitual:"
   ]
  },
  {
   "cell_type": "code",
   "execution_count": 45,
   "metadata": {},
   "outputs": [
    {
     "ename": "TypeError",
     "evalue": "object of type 'int' has no len()",
     "output_type": "error",
     "traceback": [
      "\u001b[1;31m---------------------------------------------------------------------------\u001b[0m",
      "\u001b[1;31mTypeError\u001b[0m                                 Traceback (most recent call last)",
      "\u001b[1;32m<ipython-input-45-ef264a363597>\u001b[0m in \u001b[0;36m<module>\u001b[1;34m\u001b[0m\n\u001b[1;32m----> 1\u001b[1;33m \u001b[1;32mfor\u001b[0m \u001b[0mfila\u001b[0m \u001b[1;32min\u001b[0m \u001b[0mz\u001b[0m\u001b[1;33m:\u001b[0m\u001b[1;33m\u001b[0m\u001b[1;33m\u001b[0m\u001b[0m\n\u001b[0m\u001b[0;32m      2\u001b[0m     \u001b[0mprint\u001b[0m\u001b[1;33m(\u001b[0m\u001b[0mfila\u001b[0m\u001b[1;33m)\u001b[0m\u001b[1;33m\u001b[0m\u001b[1;33m\u001b[0m\u001b[0m\n",
      "\u001b[1;32m<ipython-input-44-d8b55449195e>\u001b[0m in \u001b[0;36m__getitem__\u001b[1;34m(self, indice)\u001b[0m\n\u001b[0;32m     10\u001b[0m         \u001b[1;32mreturn\u001b[0m\u001b[1;33m(\u001b[0m\u001b[0mstr\u001b[0m\u001b[1;33m(\u001b[0m\u001b[0mself\u001b[0m\u001b[1;33m.\u001b[0m\u001b[0mmatriz\u001b[0m\u001b[1;33m)\u001b[0m\u001b[1;33m)\u001b[0m\u001b[1;33m\u001b[0m\u001b[1;33m\u001b[0m\u001b[0m\n\u001b[0;32m     11\u001b[0m     \u001b[1;32mdef\u001b[0m \u001b[0m__getitem__\u001b[0m\u001b[1;33m(\u001b[0m\u001b[0mself\u001b[0m\u001b[1;33m,\u001b[0m \u001b[0mindice\u001b[0m\u001b[1;33m)\u001b[0m\u001b[1;33m:\u001b[0m\u001b[1;33m\u001b[0m\u001b[1;33m\u001b[0m\u001b[0m\n\u001b[1;32m---> 12\u001b[1;33m         \u001b[1;32mif\u001b[0m \u001b[0mlen\u001b[0m\u001b[1;33m(\u001b[0m\u001b[0mindice\u001b[0m\u001b[1;33m)\u001b[0m \u001b[1;33m!=\u001b[0m \u001b[1;36m2\u001b[0m\u001b[1;33m:\u001b[0m\u001b[1;33m\u001b[0m\u001b[1;33m\u001b[0m\u001b[0m\n\u001b[0m\u001b[0;32m     13\u001b[0m             \u001b[1;32mraise\u001b[0m \u001b[0mValueError\u001b[0m\u001b[1;33m(\u001b[0m\u001b[1;34m'El índice no es válido.'\u001b[0m\u001b[1;33m)\u001b[0m\u001b[1;33m\u001b[0m\u001b[1;33m\u001b[0m\u001b[0m\n\u001b[0;32m     14\u001b[0m         \u001b[1;32mreturn\u001b[0m\u001b[1;33m(\u001b[0m\u001b[0mself\u001b[0m\u001b[1;33m.\u001b[0m\u001b[0mmatriz\u001b[0m\u001b[1;33m[\u001b[0m\u001b[0mindice\u001b[0m\u001b[1;33m[\u001b[0m\u001b[1;36m0\u001b[0m\u001b[1;33m]\u001b[0m\u001b[1;33m]\u001b[0m\u001b[1;33m[\u001b[0m\u001b[0mindice\u001b[0m\u001b[1;33m[\u001b[0m\u001b[1;36m1\u001b[0m\u001b[1;33m]\u001b[0m\u001b[1;33m]\u001b[0m\u001b[1;33m)\u001b[0m\u001b[1;33m\u001b[0m\u001b[1;33m\u001b[0m\u001b[0m\n",
      "\u001b[1;31mTypeError\u001b[0m: object of type 'int' has no len()"
     ]
    }
   ],
   "source": [
    "for fila in z:\n",
    "    print(fila)"
   ]
  },
  {
   "cell_type": "markdown",
   "metadata": {},
   "source": [
    "### Iteradores\n",
    "Un **iterador** permite que un objeto sea iterable usando la sintaxis `for - in`, tal y como ocurre con las listas y diccionarios.\n",
    "\n",
    "Una clase implementa típicamente un iterador a través de los métodos especiales `__iter__` y `__next__`.\n",
    "\n",
    "* el método `__iter__` debe devolver un objeto de una clase (habitualmente él mismo) que tenga implementada el método `__next__`.\n",
    "* el método `__next__` es el encargado de avanzar generando la colección de datos.\n",
    "\n",
    "Veamos un ejemplo a continuación:"
   ]
  },
  {
   "cell_type": "code",
   "execution_count": 78,
   "metadata": {},
   "outputs": [
    {
     "name": "stdout",
     "output_type": "stream",
     "text": [
      "9\n",
      "16\n",
      "25\n",
      "36\n"
     ]
    }
   ],
   "source": [
    "class Cuadrados:\n",
    "    \"\"\"Clase que implementa un iterador de valores al cuadrado entre un valor mínimo y otro máximo.\"\"\"\n",
    "\n",
    "    def __init__(self, min=0, max=1):\n",
    "        self._n = min - 1\n",
    "        self._max = max\n",
    "\n",
    "    def __iter__(self):\n",
    "        # Devolvemos el propio objeto, que posee el método __next__\n",
    "        # pero podemos devolver otro objeto, siempre que tenga definido el método __next__\n",
    "        return self\n",
    "\n",
    "    def __next__(self):\n",
    "        # Mantiene el estado de la iteración, en este caso actualizando en cada llamada self._n \n",
    "        self._n += 1\n",
    "        if self._n > self._max:\n",
    "            raise StopIteration  # Cuando se lanza la excepción el bucle deja de iterar\n",
    "        return self._n**2\n",
    "            \n",
    "            \n",
    "cuadrados = Cuadrados(3, 6)\n",
    "for x in cuadrados:\n",
    "    print(x)"
   ]
  },
  {
   "cell_type": "markdown",
   "metadata": {},
   "source": [
    "#### iter() y next()\n",
    "La función nativa `iter(objeto)` devuelve un objeto que puede ser iterado, es decir, un **iterador**. Solo es aplicable sobre objetos cuya clase tengan definido `__iter__` o `__getitem__`.\n",
    "\n",
    "La función nativa `next(iterador)` aplicada a un iterador va generando la secuencia de valores. "
   ]
  },
  {
   "cell_type": "code",
   "execution_count": 79,
   "metadata": {
    "tags": [
     "raises-exception"
    ]
   },
   "outputs": [
    {
     "name": "stdout",
     "output_type": "stream",
     "text": [
      "9\n",
      "16\n",
      "25\n",
      "36\n"
     ]
    },
    {
     "ename": "StopIteration",
     "evalue": "",
     "output_type": "error",
     "traceback": [
      "\u001b[1;31m---------------------------------------------------------------------------\u001b[0m",
      "\u001b[1;31mStopIteration\u001b[0m                             Traceback (most recent call last)",
      "\u001b[1;32m~\\AppData\\Local\\Temp\\ipykernel_4228\\264287636.py\u001b[0m in \u001b[0;36m<module>\u001b[1;34m\u001b[0m\n\u001b[0;32m      6\u001b[0m \u001b[0mprint\u001b[0m\u001b[1;33m(\u001b[0m\u001b[0mnext\u001b[0m\u001b[1;33m(\u001b[0m\u001b[0miterador\u001b[0m\u001b[1;33m)\u001b[0m\u001b[1;33m)\u001b[0m\u001b[1;33m\u001b[0m\u001b[1;33m\u001b[0m\u001b[0m\n\u001b[0;32m      7\u001b[0m \u001b[1;31m# La siguiente llamada raises StopIteration\u001b[0m\u001b[1;33m\u001b[0m\u001b[1;33m\u001b[0m\u001b[0m\n\u001b[1;32m----> 8\u001b[1;33m \u001b[0mprint\u001b[0m\u001b[1;33m(\u001b[0m\u001b[0mnext\u001b[0m\u001b[1;33m(\u001b[0m\u001b[0miterador\u001b[0m\u001b[1;33m)\u001b[0m\u001b[1;33m)\u001b[0m\u001b[1;33m\u001b[0m\u001b[1;33m\u001b[0m\u001b[0m\n\u001b[0m",
      "\u001b[1;32m~\\AppData\\Local\\Temp\\ipykernel_4228\\2612081374.py\u001b[0m in \u001b[0;36m__next__\u001b[1;34m(self)\u001b[0m\n\u001b[0;32m     15\u001b[0m         \u001b[0mself\u001b[0m\u001b[1;33m.\u001b[0m\u001b[0m_n\u001b[0m \u001b[1;33m+=\u001b[0m \u001b[1;36m1\u001b[0m\u001b[1;33m\u001b[0m\u001b[1;33m\u001b[0m\u001b[0m\n\u001b[0;32m     16\u001b[0m         \u001b[1;32mif\u001b[0m \u001b[0mself\u001b[0m\u001b[1;33m.\u001b[0m\u001b[0m_n\u001b[0m \u001b[1;33m>\u001b[0m \u001b[0mself\u001b[0m\u001b[1;33m.\u001b[0m\u001b[0m_max\u001b[0m\u001b[1;33m:\u001b[0m\u001b[1;33m\u001b[0m\u001b[1;33m\u001b[0m\u001b[0m\n\u001b[1;32m---> 17\u001b[1;33m             \u001b[1;32mraise\u001b[0m \u001b[0mStopIteration\u001b[0m  \u001b[1;31m# Cuando se lanza la excepción el bucle deja de iterar\u001b[0m\u001b[1;33m\u001b[0m\u001b[1;33m\u001b[0m\u001b[0m\n\u001b[0m\u001b[0;32m     18\u001b[0m         \u001b[1;32mreturn\u001b[0m \u001b[0mself\u001b[0m\u001b[1;33m.\u001b[0m\u001b[0m_n\u001b[0m\u001b[1;33m**\u001b[0m\u001b[1;36m2\u001b[0m\u001b[1;33m\u001b[0m\u001b[1;33m\u001b[0m\u001b[0m\n\u001b[0;32m     19\u001b[0m \u001b[1;33m\u001b[0m\u001b[0m\n",
      "\u001b[1;31mStopIteration\u001b[0m: "
     ]
    }
   ],
   "source": [
    "cuadrados = Cuadrados(3, 6)\n",
    "iterador = iter(cuadrados)\n",
    "print(next(iterador))\n",
    "print(next(iterador))\n",
    "print(next(iterador))\n",
    "print(next(iterador))\n",
    "# La siguiente llamada raises StopIteration\n",
    "print(next(iterador))"
   ]
  },
  {
   "cell_type": "markdown",
   "metadata": {},
   "source": [
    "En definitiva, `iter(objeto)` y `next(iterador)` no son sino azúcar sintáctico de `objeto.__iter__()` e `iterador.__next__()`:"
   ]
  },
  {
   "cell_type": "code",
   "execution_count": 80,
   "metadata": {},
   "outputs": [
    {
     "name": "stdout",
     "output_type": "stream",
     "text": [
      "9\n"
     ]
    }
   ],
   "source": [
    "cuadrados = Cuadrados(3, 6)\n",
    "iterador = cuadrados.__iter__()  \n",
    "print(iterador.__next__())"
   ]
  },
  {
   "cell_type": "markdown",
   "metadata": {},
   "source": [
    "Nótese que un bucle del tipo:\n",
    "```python\n",
    "for x in iterable:\n",
    "    # Cuerpo del bucle for\n",
    "```\n",
    "sería la fórmula compacta del equivalente:\n",
    "```python\n",
    "iterador = iter(iterable)\n",
    "while True:\n",
    "    try:\n",
    "        x = next(iterador)\n",
    "        # Cuerpo del bucle for\n",
    "    except StopIteration:\n",
    "        break\n",
    "```"
   ]
  },
  {
   "cell_type": "code",
   "execution_count": 81,
   "metadata": {},
   "outputs": [
    {
     "name": "stdout",
     "output_type": "stream",
     "text": [
      "9\n",
      "16\n",
      "25\n",
      "36\n"
     ]
    }
   ],
   "source": [
    "iterador = iter(Cuadrados(3, 6))\n",
    "while True:\n",
    "    try:\n",
    "        x = next(iterador)\n",
    "        print(x)\n",
    "    except StopIteration:\n",
    "        break"
   ]
  },
  {
   "cell_type": "markdown",
   "metadata": {},
   "source": [
    "La clase `Matriz2d` quedaría como sigue en su versión iterable *por filas*:"
   ]
  },
  {
   "cell_type": "code",
   "execution_count": 82,
   "metadata": {},
   "outputs": [
    {
     "name": "stdout",
     "output_type": "stream",
     "text": [
      "[8, 8, 8, 8, 8, 8, 8]\n",
      "[8, 8, 8, 8, 8, 8, 8]\n",
      "[8, 8, 23, 8, 8, 8, 8]\n"
     ]
    }
   ],
   "source": [
    "class Matriz2d:\n",
    "    def __init__(self, dimension=(2, 2), valor=0):\n",
    "        if not isinstance(dimension, tuple):\n",
    "            raise ValueError('La dimensión no es una tupla.')\n",
    "        if len(dimension) != 2 or dimension[0] < 1 or dimension[1] < 1:\n",
    "            raise ValueError('Alguna de las dimensiones de la matriz no es válida.')\n",
    "        self.dimension = dimension\n",
    "        self.matriz = [[valor for _ in range(dimension[1])] for _ in range(dimension[0])]\n",
    "    def __str__(self):\n",
    "        return f'{self.matriz}'\n",
    "    def __getitem__(self, indice):\n",
    "        if len(indice) != 2:\n",
    "            raise ValueError('El índice no es válido.')\n",
    "        return(self.matriz[indice[0]][indice[1]])\n",
    "    def __setitem__(self, indice, valor):\n",
    "        if len(indice) != 2:\n",
    "            raise ValueError('El índice no es válido.')\n",
    "        self.matriz[indice[0]][indice[1]] = valor\n",
    "    def __add__(self, m):\n",
    "        suma = Matriz2d(self.dimension)\n",
    "        for i, fila in enumerate(self.matriz):\n",
    "            for j, x in enumerate(fila):\n",
    "                suma[i, j] = self.matriz[i][j] + m[i, j]\n",
    "        return suma\n",
    "    def __iter__(self):\n",
    "        self._contador = -1\n",
    "        return self\n",
    "    def __next__(self):\n",
    "        self._contador += 1\n",
    "        if self._contador == self.dimension[0]:\n",
    "            raise StopIteration\n",
    "        return self.matriz[self._contador]\n",
    "\n",
    "\n",
    "q = Matriz2d((3, 7), 5)\n",
    "p = Matriz2d((3, 7), 3)\n",
    "z = p + q\n",
    "z[2, 2] = 23\n",
    "for fila in z:\n",
    "    print(fila)"
   ]
  },
  {
   "cell_type": "markdown",
   "metadata": {},
   "source": [
    "La solución ofrecida es válida pero podemos hacerla en este caso mucho más simple. Basta darnos cuenta que nuestra clase tiene por composición el objeto `matriz`, ¡que es iterable!, por lo que basta devolver en `__iter__` un iterador de ese objeto `matriz` y, por tanto, no necesitamos definir el método `__next__`.\n",
    "```python\n",
    "class Matriz2d:\n",
    "    ...\n",
    "    def __iter__(self):\n",
    "        return iter(self.matriz)\n",
    "```"
   ]
  },
  {
   "cell_type": "markdown",
   "metadata": {},
   "source": [
    "### Generadores\n",
    "Acabamos de ver que la creación de un iterador es un proceso que requiere de cierto trabajo. Los **generadores** son una herramienta que ofrece Python mucho más simple de crear un iterador: necesita simplemente del concurso de una función estándar y la sentencia `yield`.\n",
    "\n",
    "Una función con la sentencia `yield` es un generador. Al igual que `return`, la sentencia `yield` devuelve un valor. La diferencia radica en que tras invocar a `yield`, la ejecución de la función se interrumpe temporalmente guardando su estado actual y al invocarse de nuevo lo hace con el estado previamente almacenado desde el punto donde se interrumpió."
   ]
  },
  {
   "cell_type": "code",
   "execution_count": 65,
   "metadata": {},
   "outputs": [
    {
     "name": "stdout",
     "output_type": "stream",
     "text": [
      "9\n",
      "16\n",
      "25\n",
      "36\n"
     ]
    }
   ],
   "source": [
    "# Una variante compacta a la clase Cuadrados usando un generador\n",
    "def cuadrados(min=0, max=1):\n",
    "    for x in range(min, max+1):\n",
    "        yield x**2\n",
    "        \n",
    "\n",
    "for x in cuadrados(3, 6):\n",
    "    print(x)"
   ]
  },
  {
   "cell_type": "markdown",
   "metadata": {},
   "source": [
    "Debe notarse que con las funciones generador evitamos la necesidad de almacenar en memoria la secuencia."
   ]
  },
  {
   "cell_type": "markdown",
   "metadata": {},
   "source": [
    "#### Expresiones de generadores\n",
    "Al igual que las listas por comprensión, es posible utilizar una expresión específica para crear un generador."
   ]
  },
  {
   "cell_type": "code",
   "execution_count": 66,
   "metadata": {},
   "outputs": [
    {
     "name": "stdout",
     "output_type": "stream",
     "text": [
      "[9, 16, 25, 36]\n"
     ]
    }
   ],
   "source": [
    "cuadrados = (x**2 for x in range(3, 7))\n",
    "print(list(cuadrados))"
   ]
  },
  {
   "cell_type": "markdown",
   "metadata": {},
   "source": [
    "## Herencia\n",
    "La clase `Matriz2d` muestra una **relación de composición** entre clases. Las relaciones de composición modelan relaciones del tipo:\n",
    "* el objeto A tiene un objeto B\n",
    "* el objeto A usa un objeto C\n",
    "* el objeto A depende de un objeto D\n",
    "* el objeto A es parte del objeto E, etc.\n",
    "\n",
    "En ese ejemplo, la clase `Matriz2d` usa mediante composición la clase nativa `list` para modelar su funcionalidad.\n",
    "\n",
    "Sin embargo, a veces son útiles otro tipo de relaciones, las **relaciones de herencia**: \n",
    "* el objeto A es un objeto de tipo B\n",
    "\n",
    "La **herencia** permite crear nuevas clases tomando los atributos de otras existentes, extendiéndolos y/o especializándolos.\n",
    "* la clase de la cual se hereda es la clase **padre**, clase **base** o **superclase**\n",
    "* la nueva clase que hereda es la clase **hija**, clase **derivada** o **subclase**"
   ]
  },
  {
   "cell_type": "code",
   "execution_count": 41,
   "metadata": {},
   "outputs": [],
   "source": [
    "#TODO"
   ]
  }
 ],
 "metadata": {
  "anaconda-cloud": {},
  "celltoolbar": "Tags",
  "kernelspec": {
   "display_name": "Python 3 (ipykernel)",
   "language": "python",
   "name": "python3"
  },
  "language_info": {
   "codemirror_mode": {
    "name": "ipython",
    "version": 3
   },
   "file_extension": ".py",
   "mimetype": "text/x-python",
   "name": "python",
   "nbconvert_exporter": "python",
   "pygments_lexer": "ipython3",
   "version": "3.9.16"
  },
  "nbpresent": {
   "slides": {
    "1390653e-bdb6-444a-b611-39c60ffb77a1": {
     "id": "1390653e-bdb6-444a-b611-39c60ffb77a1",
     "prev": "5c2c8cc8-3676-4c06-b94c-d3f866ade69b",
     "regions": {
      "620813b3-9326-41e6-9d30-f5ac4f858225": {
       "attrs": {
        "height": 0.8,
        "width": 0.8,
        "x": 0.1,
        "y": 0.1
       },
       "content": {
        "cell": "86423d42-e808-47e6-b1a7-e925e195f821",
        "part": "whole"
       },
       "id": "620813b3-9326-41e6-9d30-f5ac4f858225"
      }
     }
    },
    "21036f68-a492-4532-a832-b213435c0ad2": {
     "id": "21036f68-a492-4532-a832-b213435c0ad2",
     "prev": "2c1c7f11-e5ee-4a25-8975-f0b033ba739a",
     "regions": {
      "a3908958-0784-4faa-ac97-b9325abe8ede": {
       "attrs": {
        "height": 0.8,
        "width": 0.8,
        "x": 0.1,
        "y": 0.1
       },
       "content": {
        "cell": "9aa64747-dc13-4bd9-bf26-73606628ad1c",
        "part": "whole"
       },
       "id": "a3908958-0784-4faa-ac97-b9325abe8ede"
      }
     }
    },
    "2c1c7f11-e5ee-4a25-8975-f0b033ba739a": {
     "id": "2c1c7f11-e5ee-4a25-8975-f0b033ba739a",
     "prev": "f3f10f50-4cad-4149-b308-c66e6a493a72",
     "regions": {
      "9e2d820e-ec17-4915-b960-0e0d5f640379": {
       "attrs": {
        "height": 0.8,
        "width": 0.8,
        "x": 0.1,
        "y": 0.1
       },
       "content": {
        "cell": "0281a659-abae-4cb9-b30f-b552b9db399e",
        "part": "whole"
       },
       "id": "9e2d820e-ec17-4915-b960-0e0d5f640379"
      }
     }
    },
    "30509a9a-dbd8-4dbd-9fab-852a7266d894": {
     "id": "30509a9a-dbd8-4dbd-9fab-852a7266d894",
     "prev": "8b078b7a-c2c6-4129-a19f-2a4f5c4a26f3",
     "regions": {
      "7baa4379-8f84-4d8f-b002-5a5ffd051489": {
       "attrs": {
        "height": 0.8,
        "width": 0.8,
        "x": 0.1,
        "y": 0.1
       },
       "content": {
        "cell": "14d1a927-b37f-4323-9404-17d453f3b487",
        "part": "whole"
       },
       "id": "7baa4379-8f84-4d8f-b002-5a5ffd051489"
      }
     }
    },
    "42d1bd80-265e-4acf-bbc1-b202afddade3": {
     "id": "42d1bd80-265e-4acf-bbc1-b202afddade3",
     "prev": "9bfe6214-4631-45b5-a05e-8923f178bb57",
     "regions": {
      "f2340145-4108-4fed-a0bc-4b91ca6c10ae": {
       "attrs": {
        "height": 0.8,
        "width": 0.8,
        "x": 0.1,
        "y": 0.1
       },
       "content": {
        "cell": "80be6133-d85a-4e43-9964-6578abcbaaac",
        "part": "whole"
       },
       "id": "f2340145-4108-4fed-a0bc-4b91ca6c10ae"
      }
     }
    },
    "5c2c8cc8-3676-4c06-b94c-d3f866ade69b": {
     "id": "5c2c8cc8-3676-4c06-b94c-d3f866ade69b",
     "prev": "6c4bc874-f3fc-472c-a81c-cd415b91c24b",
     "regions": {
      "e1de7ab6-4ef2-4b14-92d7-b174bf32806e": {
       "attrs": {
        "height": 0.8,
        "width": 0.8,
        "x": 0.1,
        "y": 0.1
       },
       "content": {
        "cell": "ae8725fa-30f7-4d7f-a2c2-5f86953d730b",
        "part": "whole"
       },
       "id": "e1de7ab6-4ef2-4b14-92d7-b174bf32806e"
      }
     }
    },
    "5cab5674-74dc-4378-93d7-eaa79e90cdae": {
     "id": "5cab5674-74dc-4378-93d7-eaa79e90cdae",
     "prev": "ba274d18-2760-4e55-ad47-2727b824fd00",
     "regions": {
      "2178d7cf-bf1e-4850-95a2-1509f15febfa": {
       "attrs": {
        "height": 0.8,
        "width": 0.8,
        "x": 0.1,
        "y": 0.1
       },
       "content": {
        "cell": "5d433d13-f44a-45bb-91fd-406f60b33b67",
        "part": "whole"
       },
       "id": "2178d7cf-bf1e-4850-95a2-1509f15febfa"
      }
     }
    },
    "638df7e1-84d1-4fd4-a15c-c94b731d1bea": {
     "id": "638df7e1-84d1-4fd4-a15c-c94b731d1bea",
     "prev": "b9dddf99-da24-46e1-81d4-8ac33b6fc3a3",
     "regions": {
      "deba8b1f-d997-4426-8f1b-978df7f19b41": {
       "attrs": {
        "height": 0.8,
        "width": 0.8,
        "x": 0.1,
        "y": 0.1
       },
       "content": {
        "cell": "7adaaf8f-a83e-456b-b99a-d3b3d4cb6d1a",
        "part": "whole"
       },
       "id": "deba8b1f-d997-4426-8f1b-978df7f19b41"
      }
     }
    },
    "6bda9eb4-0724-4e53-9971-131d0cb5f9e2": {
     "id": "6bda9eb4-0724-4e53-9971-131d0cb5f9e2",
     "prev": "ee33e624-cd65-4b8c-b28b-c95623a56dbf",
     "regions": {
      "feffbbd2-27d1-4318-8359-7d57583ee2bc": {
       "attrs": {
        "height": 0.8,
        "width": 0.8,
        "x": 0.1,
        "y": 0.1
       },
       "content": {
        "cell": "8dce188c-36b7-41fa-9020-b5cb5502e452",
        "part": "whole"
       },
       "id": "feffbbd2-27d1-4318-8359-7d57583ee2bc"
      }
     }
    },
    "6c4bc874-f3fc-472c-a81c-cd415b91c24b": {
     "id": "6c4bc874-f3fc-472c-a81c-cd415b91c24b",
     "prev": null,
     "regions": {
      "c9eac7e8-d033-4b03-8bf7-abd58ffe8d41": {
       "attrs": {
        "height": 0.8,
        "width": 0.8,
        "x": 0.1,
        "y": 0.1
       },
       "content": {
        "cell": "71219fc3-c9cb-4700-9f0b-ab38b1b223da",
        "part": "whole"
       },
       "id": "c9eac7e8-d033-4b03-8bf7-abd58ffe8d41"
      }
     }
    },
    "6d7ab34f-9d99-4c74-9877-27b25abc73f0": {
     "id": "6d7ab34f-9d99-4c74-9877-27b25abc73f0",
     "prev": "febe7de9-9362-4079-bfe9-2d4dfddf00e2",
     "regions": {
      "2ee252de-db5f-43e7-b4b7-7f59bba29962": {
       "attrs": {
        "height": 0.8,
        "width": 0.8,
        "x": 0.1,
        "y": 0.1
       },
       "content": {
        "cell": "85d1ab90-cc65-4935-808b-a6f57ecc892e",
        "part": "whole"
       },
       "id": "2ee252de-db5f-43e7-b4b7-7f59bba29962"
      }
     }
    },
    "7ea582c3-439d-4ec2-9f27-dea18bcacc31": {
     "id": "7ea582c3-439d-4ec2-9f27-dea18bcacc31",
     "prev": "f0727a74-61a1-48c1-94a5-3e7490c29f0b",
     "regions": {
      "652960af-b61f-4c36-b122-3eacd714867b": {
       "attrs": {
        "height": 0.8,
        "width": 0.8,
        "x": 0.1,
        "y": 0.1
       },
       "content": {
        "cell": "86172e20-fe16-447d-859f-24a81e563011",
        "part": "whole"
       },
       "id": "652960af-b61f-4c36-b122-3eacd714867b"
      }
     }
    },
    "8b078b7a-c2c6-4129-a19f-2a4f5c4a26f3": {
     "id": "8b078b7a-c2c6-4129-a19f-2a4f5c4a26f3",
     "prev": "5cab5674-74dc-4378-93d7-eaa79e90cdae",
     "regions": {
      "dce1e605-9342-414d-b8c6-7dcb922fbf47": {
       "attrs": {
        "height": 0.8,
        "width": 0.8,
        "x": 0.1,
        "y": 0.1
       },
       "content": {
        "cell": "ee1bdf03-6e13-4f1f-9dc9-22d4e344fdba",
        "part": "whole"
       },
       "id": "dce1e605-9342-414d-b8c6-7dcb922fbf47"
      }
     }
    },
    "999513ad-b53e-4d84-b9ef-ed37967f74d6": {
     "id": "999513ad-b53e-4d84-b9ef-ed37967f74d6",
     "prev": "638df7e1-84d1-4fd4-a15c-c94b731d1bea",
     "regions": {
      "2e85c1b2-3c30-413e-9b0f-141281da3a2a": {
       "attrs": {
        "height": 0.8,
        "width": 0.8,
        "x": 0.1,
        "y": 0.1
       },
       "content": {
        "cell": "998dc7f5-ab6d-4fb8-866f-4fa96a06aaaa",
        "part": "whole"
       },
       "id": "2e85c1b2-3c30-413e-9b0f-141281da3a2a"
      }
     }
    },
    "9add3d79-8621-4167-8e1d-d4ae48fba71b": {
     "id": "9add3d79-8621-4167-8e1d-d4ae48fba71b",
     "prev": "7ea582c3-439d-4ec2-9f27-dea18bcacc31",
     "regions": {
      "d5f4537e-4d8c-4179-b14b-6c475f50b04e": {
       "attrs": {
        "height": 0.8,
        "width": 0.8,
        "x": 0.1,
        "y": 0.1
       },
       "content": {
        "cell": "9659b1c1-9aed-4d71-b830-4a60d408ad71",
        "part": "whole"
       },
       "id": "d5f4537e-4d8c-4179-b14b-6c475f50b04e"
      }
     }
    },
    "9bfe6214-4631-45b5-a05e-8923f178bb57": {
     "id": "9bfe6214-4631-45b5-a05e-8923f178bb57",
     "prev": "30509a9a-dbd8-4dbd-9fab-852a7266d894",
     "regions": {
      "aac53254-d149-49f2-8f92-670c6f2714bb": {
       "attrs": {
        "height": 0.8,
        "width": 0.8,
        "x": 0.1,
        "y": 0.1
       },
       "content": {
        "cell": "c71a78d7-9d0e-4825-9c84-9998f971317d",
        "part": "whole"
       },
       "id": "aac53254-d149-49f2-8f92-670c6f2714bb"
      }
     }
    },
    "b9dddf99-da24-46e1-81d4-8ac33b6fc3a3": {
     "id": "b9dddf99-da24-46e1-81d4-8ac33b6fc3a3",
     "prev": "1390653e-bdb6-444a-b611-39c60ffb77a1",
     "regions": {
      "0b31dbb4-f15b-4a16-9420-c5dc8ed4e871": {
       "attrs": {
        "height": 0.8,
        "width": 0.8,
        "x": 0.1,
        "y": 0.1
       },
       "content": {
        "cell": "d0569bb0-fad8-48b7-8d48-0066bfb90401",
        "part": "whole"
       },
       "id": "0b31dbb4-f15b-4a16-9420-c5dc8ed4e871"
      }
     }
    },
    "ba274d18-2760-4e55-ad47-2727b824fd00": {
     "id": "ba274d18-2760-4e55-ad47-2727b824fd00",
     "prev": "ed47079d-58cf-4b87-a9fa-a709d8a7c3c6",
     "regions": {
      "13000b51-bd66-4fb5-970b-20bfad440880": {
       "attrs": {
        "height": 0.8,
        "width": 0.8,
        "x": 0.1,
        "y": 0.1
       },
       "content": {
        "cell": "f6847886-4044-43a7-9edd-f18efddcb7a9",
        "part": "whole"
       },
       "id": "13000b51-bd66-4fb5-970b-20bfad440880"
      }
     }
    },
    "ed47079d-58cf-4b87-a9fa-a709d8a7c3c6": {
     "id": "ed47079d-58cf-4b87-a9fa-a709d8a7c3c6",
     "prev": "9add3d79-8621-4167-8e1d-d4ae48fba71b",
     "regions": {
      "a96aea94-1714-4020-83f9-dbc03e9fd55e": {
       "attrs": {
        "height": 0.8,
        "width": 0.8,
        "x": 0.1,
        "y": 0.1
       },
       "content": {
        "cell": "5a579720-fa62-4525-85e3-dd049cbd73be",
        "part": "whole"
       },
       "id": "a96aea94-1714-4020-83f9-dbc03e9fd55e"
      }
     }
    },
    "ee33e624-cd65-4b8c-b28b-c95623a56dbf": {
     "id": "ee33e624-cd65-4b8c-b28b-c95623a56dbf",
     "prev": "999513ad-b53e-4d84-b9ef-ed37967f74d6",
     "regions": {
      "325ae98d-0855-4d16-8408-6d12f47efa24": {
       "attrs": {
        "height": 0.8,
        "width": 0.8,
        "x": 0.1,
        "y": 0.1
       },
       "content": {
        "cell": "829150e0-712b-4739-92d6-37b9c3d789cb",
        "part": "whole"
       },
       "id": "325ae98d-0855-4d16-8408-6d12f47efa24"
      }
     }
    },
    "f0727a74-61a1-48c1-94a5-3e7490c29f0b": {
     "id": "f0727a74-61a1-48c1-94a5-3e7490c29f0b",
     "prev": "6d7ab34f-9d99-4c74-9877-27b25abc73f0",
     "regions": {
      "1666081e-448d-4f80-90f2-9f26f1568cdc": {
       "attrs": {
        "height": 0.8,
        "width": 0.8,
        "x": 0.1,
        "y": 0.1
       },
       "content": {
        "cell": "d99a804c-9444-418b-bc94-3c2f064e2844",
        "part": "whole"
       },
       "id": "1666081e-448d-4f80-90f2-9f26f1568cdc"
      }
     }
    },
    "f3f10f50-4cad-4149-b308-c66e6a493a72": {
     "id": "f3f10f50-4cad-4149-b308-c66e6a493a72",
     "prev": "42d1bd80-265e-4acf-bbc1-b202afddade3",
     "regions": {
      "4fc1185f-bdb8-46fc-99bd-b8d30defeca9": {
       "attrs": {
        "height": 0.8,
        "width": 0.8,
        "x": 0.1,
        "y": 0.1
       },
       "content": {
        "cell": "9b7597e9-aaa9-4d9f-ba0d-22f43d1a3900",
        "part": "whole"
       },
       "id": "4fc1185f-bdb8-46fc-99bd-b8d30defeca9"
      }
     }
    },
    "febe7de9-9362-4079-bfe9-2d4dfddf00e2": {
     "id": "febe7de9-9362-4079-bfe9-2d4dfddf00e2",
     "prev": "6bda9eb4-0724-4e53-9971-131d0cb5f9e2",
     "regions": {
      "42348103-1cd6-4bac-b346-33cd41aea444": {
       "attrs": {
        "height": 0.8,
        "width": 0.8,
        "x": 0.1,
        "y": 0.1
       },
       "content": {
        "cell": "35a148d4-f201-4441-bf5e-8a07f93dea84",
        "part": "whole"
       },
       "id": "42348103-1cd6-4bac-b346-33cd41aea444"
      }
     }
    }
   },
   "themes": {}
  }
 },
 "nbformat": 4,
 "nbformat_minor": 2
}
