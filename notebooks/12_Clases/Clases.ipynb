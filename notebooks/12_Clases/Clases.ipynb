{
 "cells": [
  {
   "cell_type": "markdown",
   "metadata": {
    "slideshow": {
     "slide_type": "slide"
    }
   },
   "source": [
    "# Clases"
   ]
  },
  {
   "cell_type": "markdown",
   "metadata": {},
   "source": [
    "<a target=\"_self\" href='#Introducción'>Introducción</a><br>\n",
    "<a target=\"_self\" href='#Ambitos_espacios_de_nombres'>Ámbitos y espacios de nombres</a><br>\n",
    "<a target=\"_self\" href='#Clases'>Clases</a><br>\n",
    "<a target=\"_self\" href='#Objetos_clase'>Objetos clase</a><br>\n",
    "<a target=\"_self\" href='#Objetos_de_una_clase'>Objetos de una clase</a><br>\n",
    "<a target=\"_self\" href='#Ejecución_de_un_objeto_clase'>Ejecución de un objeto clase</a><br>\n",
    "<a target=\"_self\" href='#Metodos_especiales'>Métodos especiales</a>"
   ]
  },
  {
   "cell_type": "markdown",
   "metadata": {},
   "source": [
    "***\n",
    "<a id='Introducción'></a>"
   ]
  },
  {
   "cell_type": "markdown",
   "metadata": {},
   "source": [
    "## Introducción\n",
    "El paradigma de la **Programación Orientada a Objetos** permite crear al usuario tipos de datos que empaquetan en una sola entidad reusable **propiedades** (datos) y **comportamientos** (funciones).\n",
    "\n",
    "Crear una clase supone crear un **nuevo tipo** de objeto, de tal forma que, a partir de ese momento, podemos definir nuevas variables, nuevas **instancias** de ese nuevo tipo de objeto. \n",
    "\n",
    "Cada instancia de una clase puede tener diferentes **miembros** o **atributos**:\n",
    "* **Datos**, **atributos** que permiten caracterizar su **estado**\n",
    "* **Métodos**, **atributos función** que permiten obtener información del **estado** y/o modificarlo\n",
    "\n",
    "Siguiendo la terminología de C++, en general, los **miembros** de una clase son **públicos**, es decir, pueden accederse *desde el exterior* por otras partes del programa.\n",
    "> Cada lenguaje usa un enfoque y una terminología diferente, lo que hace prácticamente imposible una visión unificada del paradigma de la **Programación Orientada a Objetos**. Incluso en el plano puramente teórico, conceptual, no hay consenso sobre lo que son conceptos tales como **Objeto**, **Dato Abstracto**, etc.\n",
    "\n",
    "> La propia [**documentación oficial de Python**](https://docs.python.org/3/tutorial/classes.html) distingue en unos sitios entre **atributos** y **métodos**, cuando siguiendo la terminología del lenguaje ambos son atributos.  \n",
    "\n",
    "> El gran éxito de Python hace que sean accesibles una gran cantidad de cursos, blogs, libros, etc. en los que se diseminan, cual virus sin control, terminologías inexactas. Seguramente no seamos ajenos en este curso.\n",
    "\n",
    "Seguiremos aquí lo más cerca posible la documentación oficial."
   ]
  },
  {
   "cell_type": "markdown",
   "metadata": {},
   "source": [
    "***\n",
    "<a id='Ambitos_espacios_de_nombres'></a>"
   ]
  },
  {
   "attachments": {},
   "cell_type": "markdown",
   "metadata": {},
   "source": [
    "## Ámbitos y espacios de nombres\n",
    "\n",
    "### Espacios de nombres\n",
    "\n",
    "Un **espacio de nombres** (**namespace**) establece una correspondencia entre **nombres** y **objetos**, típicamente implementada a través de diccionarios. Ejemplos de espacios de nombres son:\n",
    "\n",
    "* los identificadores nativos, tales como los correspondientes a funciones (`abs()`, `del()`, etc.) o excepciones (`ZeroDivisionError`, `ValueError`, etc.)\n",
    "* los identificadores *globales* que aparecen en un módulo\n",
    "* las variables *locales* de una función\n",
    "* los **atributos** que conforman un **objeto**, datos y métodos, también forman un espacio de nombres.\n",
    "\n",
    "La propiedad relevante que proporciona un espacio de nombres es que organiza los identificadores en grupos que evitan conflictos cuando en un programa se utilizan identificadores iguales pero pertenecientes, por ejemplo, a distintos módulos: basta utilizar el operador `.` precedido del nombre del módulo.\n",
    "\n",
    "Desde un punto de vista práctico, cualquier expresión del tipo `xxx.yyy` nos está informando de que `yyy` es un **atributo** del objeto `xxx`.\n",
    "\n",
    "Los espacios de nombres se crean en diferentes momentos y tienen diferentes ciclos de vida:\n",
    "\n",
    "* los identificadores nativos se crean al arrancar el intérprete de Pyhon y nunca se borran. *Residen* en un módulo llamado `builtins`.\n",
    "* el espacio de nombres asociado a un módulo se crea en el momento de su importación y, normalmente, permanecen hasta que el intérprete finaliza. Los identificadores creados en una sesión interactiva o ejecutando un guion se asocian a un módulo llamado `__main__`.\n",
    "* cunado se llama a una función, se crea un espacio de nombres local que se borra en cuanto la función termina o si se lanza una excepción que no es manejada por la propia función.\n",
    "\n",
    "### Ámbito (Scope)\n",
    "\n",
    "Un **ámbito** (**scope**) es un fragmento de código Python en la que podemos utilizar un identificador de forma directa, sin necesidad de utilizar el operador `.` precedido del identificador del espacio de nombres.\n",
    "\n",
    "Habitualmente, durante la ejecución de un programa, hay varios ámbitos que, de forma anidada, operan simultáneamente. A la hora de relacionar un identificador de forma automática con el espacio de nombres al que pertenece, Python comienza desde el ámbito más interno, el **ámbito local**, hacia los más externos.\n",
    "\n",
    "![Venn.jpg](img/venn.jpg)\n",
    "\n",
    "Esto es: si se produce una referencia a una variable de nombre dado en la función `f()`, Python determinará a qué espacio de nombres hace referencia, en el sentido en que se muestra en el esquema anterior: \n",
    "* primero comprobará si existe una variable local de `f()` con ese nombre\n",
    "* en caso de fallar, entonces se verá si se trata de un parámetro\n",
    "* si no lo es, se mirará si es una variable del programa principal, variables a las que podemos calificar de **globales**.\n",
    "* y finalmente, si esto también falla, se intentará encontrar ese identificador entre los definidos intrínsecamente (*built_in*) en el lenguaje, es decir, presente en el espacio de nombres `builtins`.\n",
    "* si también esto falla, se producirá un error de tiempo de ejecución\n",
    "\n",
    "Nótese que en la secuencia descrita de búsqueda para el identificador al que se hace referencia, no se menciona a la función ```g()``` que estaría definida al mismo *nivel* que ```f()``` y, por tanto, no participaría en la búsqueda de los nombres de esta función ```f()```."
   ]
  },
  {
   "cell_type": "markdown",
   "metadata": {},
   "source": [
    "***\n",
    "<a id='Clases'></a>"
   ]
  },
  {
   "attachments": {},
   "cell_type": "markdown",
   "metadata": {},
   "source": [
    "## Clases\n",
    "Python nos permite crear nuevos tipos de datos con las **clases**.\n",
    "\n",
    "Una **clase** es un tipo de dato definido por un programador, compuesto **atributos**:\n",
    "\n",
    "* un conjunto de datos relacionados entre sí, que permiten caracterizar el estado de un objeto cualquiera de esa clase.\n",
    "* un conjunto de funciones que permiten modificar los datos de la clase (cambiar su estado), obtener información acerca de ellos, etc.\n",
    "\n",
    "Un **objeto** es una zona de memoria que durante la ejecución de un programa está provista de un contenido semántico.\n",
    "Las clases actúan como planos para crear objetos. Un objeto es una **instancia** concreta en memoria de una clase.\n",
    "Los planos de una vivienda de un edificio serían la clase. La vivienda sita en la calle San Eustaquio, nº3, 5D, construida según los planos, sería un objeto.\n",
    "\n",
    "Classes introduce a little bit of new syntax, three new object types, and some new semantics.\n",
    "\n",
    "### Definición de una clase\n",
    "La forma general de **definir** una clase es la siguiente:\n",
    "\n",
    "```python\n",
    "class Clase:\n",
    "    <sentencia 1>\n",
    "    ...\n",
    "    <sentencia N>\n",
    "```\n",
    "\n",
    "La definición de una clase, al igual que la de una función (sentencia `def`), debe **ejecutarse** con antelación para poder crear objetos de esa clase. \n",
    "\n",
    "La ejecución de la definición de la clase crea un nuevo espacio de nombres y todas las asignaciones que se produzcan dentro de la clase tendrán carácter local.\n",
    "\n",
    "La siguiente celda muestra un sencillo ejemplo de una clase con dos atributos, `i` y `f`."
   ]
  },
  {
   "cell_type": "code",
   "execution_count": null,
   "metadata": {},
   "outputs": [],
   "source": [
    "class MiClase:\n",
    "    \"\"\"Un sencillo ejemplo\"\"\"\n",
    "    i = 12345\n",
    "\n",
    "    def f(self):  # Comentaremos enseguida el papel del argumento self\n",
    "        return 'Hola mundo'"
   ]
  },
  {
   "cell_type": "markdown",
   "metadata": {},
   "source": [
    "***\n",
    "<a id='Objetos_clase'></a>"
   ]
  },
  {
   "attachments": {},
   "cell_type": "markdown",
   "metadata": {},
   "source": [
    "## Objetos clase\n",
    "Tras la ejecución de la definición de una clase, se crea un **objeto clase** específico. Un objeto clase soporta dos tipos de operaciones:\n",
    "* acceso a sus atributos\n",
    "* instanciación, es decir, creación de objetos de esa clase\n",
    "\n",
    "Para acceder a los atributos de un objeto se usa la sintaxis estándar: `objeto.nombre`, donde `nombre` debe ser un atributo perteneciente al espacio de nombres de la clase.\n",
    "\n",
    "En el ejemplo anterior, `MiClase.i` y `MiClase.f` devuelven un entero y un objeto función respectivamente.\n",
    "\n",
    "> `__doc__` es también un atributo, creado implicitamente, que devuelve el *docstring* asociado a la clase."
   ]
  },
  {
   "cell_type": "code",
   "execution_count": null,
   "metadata": {},
   "outputs": [],
   "source": [
    "MiClase.i = 23\n",
    "MiClase.__doc__"
   ]
  },
  {
   "attachments": {},
   "cell_type": "markdown",
   "metadata": {},
   "source": [
    "La **instanciación** de un objeto de la clase usa la misma notación de la llamada a una función."
   ]
  },
  {
   "cell_type": "code",
   "execution_count": null,
   "metadata": {},
   "outputs": [],
   "source": [
    "x = MiClase()\n",
    "x.i = 34"
   ]
  },
  {
   "cell_type": "markdown",
   "metadata": {},
   "source": [
    "Ahora, tenemos un identificador `x` del tipo `MiClase`."
   ]
  },
  {
   "cell_type": "code",
   "execution_count": null,
   "metadata": {},
   "outputs": [],
   "source": [
    "type(x)"
   ]
  },
  {
   "cell_type": "markdown",
   "metadata": {},
   "source": [
    "Nótese que la salida de la celda anterior es `__main__.MiClase`, es decir, `x` es un objeto de la clase `MiClase` asociado al espacio de nombres `__main__`, que como hemos comentado más arriba, es el espacio de nombres que alberga los identificadores creados durante una sesión interactiva o al ejecutar un guion."
   ]
  },
  {
   "cell_type": "markdown",
   "metadata": {},
   "source": [
    "Por el contrario,"
   ]
  },
  {
   "cell_type": "code",
   "execution_count": null,
   "metadata": {},
   "outputs": [],
   "source": [
    "type(MiClase)"
   ]
  },
  {
   "cell_type": "markdown",
   "metadata": {},
   "source": [
    "nos informa que `MiClase` es un nuevo tipo de dato, `<class 'type'>`, al igual que lo es `int`, `float`, `list`, etc. Formalmente, `MiClase` es una nueva instancia de la clase `type`."
   ]
  },
  {
   "cell_type": "code",
   "execution_count": null,
   "metadata": {},
   "outputs": [],
   "source": [
    "for t in (kk, ClaseKk, int, float, list, tuple, str):\n",
    "    print('El tipo de {} es {}.'.format(t, type(t)))"
   ]
  },
  {
   "cell_type": "markdown",
   "metadata": {},
   "source": [
    "### El método `__init__()`\n",
    "En general, cuando instanciamos un nuevo objeto de una clase, deseamos dotarle de un estado inicial. Para ello, se dispone de un método especial llamado `__init__()`:"
   ]
  },
  {
   "cell_type": "code",
   "execution_count": null,
   "metadata": {},
   "outputs": [],
   "source": [
    "class Punto2d:\n",
    "    def __init__(self, x, y):\n",
    "        self.x = x\n",
    "        self.y = y\n",
    "\n",
    "        \n",
    "p = Punto2d(10, 3)  # Se invoca a __init__() con argumentos (p, 10, 3)\n",
    "print(p)\n",
    "print('Las coordenadas del punto son ({}, {}).'.format(p.x, p.y))"
   ]
  },
  {
   "cell_type": "markdown",
   "metadata": {},
   "source": [
    "Cuando una clase tiene definido el método `__init__()`, el proceso de instanciación de un nuevo objeto invoca automáticamente a\n",
    "esta función."
   ]
  },
  {
   "cell_type": "markdown",
   "metadata": {},
   "source": [
    "Podemos observar que `print(p)` nos imprime información del objeto y su posición en memoria. Esto es así porque no hemos *enseñado* aún a nuestra clase a imprimir sus instancias.\n",
    "\n",
    "Sin embargo, si que hemos podido **acceder** e imprimir dos **atributos**, `x` e `y` del objeto `p`, utilizando la sintaxis `espacio_de_nombres.nombre`.\n",
    "\n",
    "El identificador `self` es una **referencia** al propio objeto `p` recién creado. La instanciación del objeto `p`:\n",
    "```python\n",
    "p = Punto2d(10, 3)\n",
    "```\n",
    "no es sino **azúcar sintáctico** de la llamada detrás de las bambalinas a *`Punto2d(p, 10, 3)`*. Los argumentos `(p, 10, 3)` son recogidos por los parámetros `(self, x, y)` del método `__init__()`. El identificador `self` no es sino una convención universalmente aceptada, pero podría usarse cualquier otro identificador.\n",
    "\n",
    "Dentro del método `__init__()` se crean dos atributos `x` e `y` del nuevo objeto `p` y se inicializan con los valores pasados como parámetros `x` e `y`. La coincidencia entre los identificadores de los parámetros y los de los atributos es por mera conveniencia, pero podrían haber sido diferentes."
   ]
  },
  {
   "cell_type": "markdown",
   "metadata": {},
   "source": [
    "Otra forma de ver que `self` y `p` son el mismo objeto es ayudándonos de la función nativa `id()`."
   ]
  },
  {
   "cell_type": "code",
   "execution_count": null,
   "metadata": {},
   "outputs": [],
   "source": [
    "class Punto2d:\n",
    "    def __init__(self, x, y):\n",
    "        self.x = x\n",
    "        self.y = y\n",
    "        print(id(self))\n",
    "\n",
    "        \n",
    "p = Punto2d(10, 3)  # Se invoca a __init__() con argumentos (p, 10, 3)\n",
    "print(id(p))"
   ]
  },
  {
   "cell_type": "markdown",
   "metadata": {},
   "source": [
    "Si, como Santo Tomás, aún sois incrédulos, podéis verificar que en la llamada `p = Punto2d(10, 3)` se pasan 3 argumentos en lugar de dos. Para ello, observad la excepción que se produce en el siguiente ejemplo:"
   ]
  },
  {
   "cell_type": "code",
   "execution_count": null,
   "metadata": {
    "tags": [
     "raises-exception"
    ]
   },
   "outputs": [],
   "source": [
    "p = Punto2d(100, 10, 3)"
   ]
  },
  {
   "cell_type": "markdown",
   "metadata": {},
   "source": [
    "La excepción `TypeError` nos avisa de que `__init__()` en la clase `Punto2d`recibe **3 argumentos posicionales** y no 4 como le hemos proporcionado. \n",
    "\n",
    "La referencia al propio objeto `self` siempre va **posicionalmente en primer lugar**.\n",
    "> Para los conocedores de C++, y salvando las distancias, el comportamiento es similar a la **palabra reservada** `this`. La ventaja en el caso de C++ es que no es necesario explicitarla (en general) en los métodos de las clases siendo, excepcionalmente en este caso, C++ menos verboso que Python. "
   ]
  },
  {
   "cell_type": "markdown",
   "metadata": {},
   "source": [
    "***\n",
    "<a id='Objetos_de_una_clase'></a>"
   ]
  },
  {
   "attachments": {},
   "cell_type": "markdown",
   "metadata": {},
   "source": [
    "## Objetos de una clase\n",
    "Las únicas operaciones válidas con una instancia de una clase es el acceso a sus **atributos**:\n",
    "* **datos**\n",
    "* **métodos**\n",
    "\n",
    "La función nativa `dir()` nos proporciona una lista de los atributos de un objeto."
   ]
  },
  {
   "cell_type": "code",
   "execution_count": null,
   "metadata": {},
   "outputs": [],
   "source": [
    "numero = 3\n",
    "print(dir(numero))"
   ]
  },
  {
   "cell_type": "markdown",
   "metadata": {},
   "source": [
    "Observe a continuación cómo `__init__` es un atributo de nuestro objeto `Punto2d`. ¡Pero `x` e `y` no lo son!"
   ]
  },
  {
   "cell_type": "code",
   "execution_count": null,
   "metadata": {},
   "outputs": [],
   "source": [
    "print(dir(Punto2d))"
   ]
  },
  {
   "cell_type": "markdown",
   "metadata": {},
   "source": [
    "Obviamente `x` e `y` sí son atributos propios del objeto `p`, pero no del objeto clase `Punto2d`."
   ]
  },
  {
   "cell_type": "code",
   "execution_count": null,
   "metadata": {},
   "outputs": [],
   "source": [
    "print(dir(p))"
   ]
  },
  {
   "cell_type": "markdown",
   "metadata": {},
   "source": [
    "Podemos observar que el objeto clase `Punto2d` *cede* los nombres de sus atributos a su instancia `p`. \n",
    "\n",
    "Investiguemos realmente qué ocurre en esa cesión. Veamos cual es el tipo del atributo `__init__` según el objeto de que se trate:"
   ]
  },
  {
   "cell_type": "code",
   "execution_count": null,
   "metadata": {},
   "outputs": [],
   "source": [
    "print(type(Punto2d.__init__))\n",
    "print(type(p.__init__))"
   ]
  },
  {
   "cell_type": "markdown",
   "metadata": {},
   "source": [
    "Vemos que son atributos que comparten el nombre, pero son tipos diferentes. \n",
    "\n",
    "Para la clase, el acceso a sus atributos función es el habitual que hemos visto para las funciones. En este caso, para usar el objeto `__init__` deberemos usar tres argumentos, y el primero de ellos tendrá que ser una instancia de la propia clase `Punto2d` u otra que tenga los atributos `x` e `y `."
   ]
  },
  {
   "cell_type": "code",
   "execution_count": null,
   "metadata": {},
   "outputs": [],
   "source": [
    "class Punto2d:\n",
    "    def __init__(self, x, y):\n",
    "        self.x = x\n",
    "        self.y = y\n",
    "\n",
    "\n",
    "p = Punto2d(5, 6)\n",
    "print(p.x, p.y)\n",
    "Punto2d.__init__(p, 3, 4)\n",
    "print(p.x, p.y)"
   ]
  },
  {
   "cell_type": "markdown",
   "metadata": {},
   "source": [
    "Obviamente, la forma que acabamos de usar para `__init__` es absurda. \n",
    "\n",
    "El uso de `__init__()` como **método** nos proporciona una forma estructurada, localizada y legible de incorporar los mismos tipos y nombres de atributos a todas las instancias de una clase.\n",
    "\n",
    "Pero si no nos importa volvernos locos (y también a quien lea nuestro código) podemos incorporar atributos a nuestras instancias de otra forma. Véase el ejemplo:"
   ]
  },
  {
   "cell_type": "code",
   "execution_count": null,
   "metadata": {},
   "outputs": [],
   "source": [
    "p1 = Punto2d(10, 3)\n",
    "p1.kk = 'Por favor, no hagas esto.'  # p1 tiene ahora un nuevo atributo, kk\n",
    "\n",
    "print(dir(p1))\n",
    "\n",
    "p2 = Punto2d(20, 1)  # Obviamente p2 no tiene el atributo kk\n",
    "print('\\n', dir(p2))"
   ]
  },
  {
   "cell_type": "markdown",
   "metadata": {},
   "source": [
    "Por tanto, podemos añadir nuevos atributos a un objeto instancia de una clase de esta forma poco usual. Véase que `kk` es un atributo de `p1` pero no de `p2`."
   ]
  },
  {
   "cell_type": "markdown",
   "metadata": {},
   "source": [
    "Para seguir reforzando el concepto de objeto y atributo véase el siguiente ejemplo, en este caso usando una función. Al igual que las clases, las funciones son nuevas instancias creadas por el programador, de la clase `function`."
   ]
  },
  {
   "cell_type": "code",
   "execution_count": null,
   "metadata": {},
   "outputs": [],
   "source": [
    "import math\n",
    "def distancia(p1, p2):\n",
    "    dif_x = p1.x - p2.x\n",
    "    dif_y = p1.y - p2.y\n",
    "    return math.sqrt(dif_x**2 + dif_y**2)\n",
    "\n",
    "\n",
    "p1 = Punto2d(1, 1)\n",
    "p2 = Punto2d(2, 2)\n",
    "\n",
    "distancia.valor = distancia(p1, p2)  # Añadimos dinámicamente el atributo valor al objeto distancia\n",
    "print(distancia.valor)"
   ]
  },
  {
   "cell_type": "markdown",
   "metadata": {},
   "source": [
    "Es obvio que este nuevo atributo `valor` de la función `distancia()` no incorpora ningún añadido ventajoso al código. Más bien al contrario, reduce la legibilidad. Solo es una muestra de cómo a objetos creados por el programador, como nuevas clases y funciones, podemos incorporales *al vuelo* nuevos atributos."
   ]
  },
  {
   "cell_type": "markdown",
   "metadata": {},
   "source": [
    "¿Qué pasa cuando intentamos usar un atributo de un objeto que no hemos añadido previamente?"
   ]
  },
  {
   "cell_type": "code",
   "execution_count": null,
   "metadata": {
    "tags": [
     "raises-exception"
    ]
   },
   "outputs": [],
   "source": [
    "p2.kk"
   ]
  },
  {
   "cell_type": "markdown",
   "metadata": {},
   "source": [
    "La excepción `AttributeError` lo deja claro, ¿no?"
   ]
  },
  {
   "cell_type": "markdown",
   "metadata": {},
   "source": [
    "Hagamos un poco de magia. Puesto que nuestra clase `Punto2d` es un objeto creado por nosotros, ¿podemos añadirle un atributo función? ¡Por supuesto!"
   ]
  },
  {
   "cell_type": "code",
   "execution_count": null,
   "metadata": {},
   "outputs": [],
   "source": [
    "Punto2d.distancia = distancia  # Añadimos el atributo distancia, que es una función, a la clase Punto2d\n",
    "\n",
    "p1 = Punto2d(1, 4)\n",
    "p2 = Punto2d(4, 8)\n",
    "d = p1.distancia(p2)\n",
    "\n",
    "print(d)\n",
    "print(dir(Punto2d))\n",
    "print('\\nEl tipo del atributo distancia de la clase `Punto2d` es {}.'.format(type(Punto2d.distancia)))\n",
    "print('\\nEl tipo del atributo distancia de una instancia de la clase `Punto2d` es {}.'.format(type(p1.distancia)))"
   ]
  },
  {
   "cell_type": "markdown",
   "metadata": {},
   "source": [
    "Vemos que el atributo `distancia` ya está en la lista de atributos de `Punto2d` y es del tipo `function`. Pero desde el punto de vista de la instancia `p1`, como ya hemos hablado antes, es un método.\n",
    "\n",
    "La forma correcta y legible de incorporar el método `distancia` es en el momento de definir la clase."
   ]
  },
  {
   "cell_type": "code",
   "execution_count": null,
   "metadata": {},
   "outputs": [],
   "source": [
    "%reset -f\n",
    "import math\n",
    "\n",
    "class Punto2d:\n",
    "    def __init__(self, x, y):\n",
    "        self.x = x\n",
    "        self.y = y\n",
    "        \n",
    "    def distancia(self, p2):  # self juega ahora el papel de p1 en el ejemplo anterior\n",
    "        dif_x = self.x - p2.x\n",
    "        dif_y = self.y - p2.y\n",
    "        return math.sqrt(dif_x**2 + dif_y**2)\n",
    "\n",
    "    \n",
    "p1 = Punto2d(1, 4)\n",
    "p2 = Punto2d(4, 8)\n",
    "d = p1.distancia(p2)  # Esta llamada es el azucar sintáctico de la llamada d = distancia(p1, p2)\n",
    "\n",
    "print(d)"
   ]
  },
  {
   "cell_type": "code",
   "execution_count": null,
   "metadata": {},
   "outputs": [],
   "source": [
    "print(dir(Punto2d))\n",
    "print('\\nEl tipo del atributo distancia de la clase `Punto2d` es {}.'.format(type(Punto2d.distancia)))"
   ]
  },
  {
   "cell_type": "markdown",
   "metadata": {},
   "source": [
    "Para finalizar, veamos un ejemplo de cómo invocar al atributo función `distancia` de la clase `Punto2d`."
   ]
  },
  {
   "cell_type": "code",
   "execution_count": null,
   "metadata": {},
   "outputs": [],
   "source": [
    "p1 = Punto2d(1, 4)\n",
    "p2 = Punto2d(4, 8)\n",
    "Punto2d.distancia(p1, p2)\n",
    "print(d)"
   ]
  },
  {
   "cell_type": "markdown",
   "metadata": {},
   "source": [
    "***\n",
    "<a id='Ejecución_de_un_objeto_clase'></a>"
   ]
  },
  {
   "cell_type": "markdown",
   "metadata": {},
   "source": [
    "## Ejecución de un objeto clase\n",
    "Veamos con un ejemplo una diferencia esencial entre la definición de una función y la de una clase. Ejecute la siguiente celda."
   ]
  },
  {
   "cell_type": "code",
   "execution_count": null,
   "metadata": {},
   "outputs": [],
   "source": [
    "def mi_funcion():\n",
    "    print('Dentro de la función `mi_funcion`.')\n",
    "    \n",
    "    \n",
    "class MiClase:\n",
    "    x = 10\n",
    "    print('Dentro de la clase `MiClase`.')\n",
    "    \n",
    "\n",
    "print('El valor del atributo `x` `MiClase` es {}.'.format(MiClase.x))"
   ]
  },
  {
   "cell_type": "markdown",
   "metadata": {},
   "source": [
    "Como ya sabemos, el cuerpo de una función solo se ejecuta cuando se invoca a la función. Sin embargo, el cuerpo de una clase se ejecuta de forma inmediata, **¡una única vez!**.\n",
    "\n",
    "Entonces, ¿se ejecutan los métodos dentro de una clase?"
   ]
  },
  {
   "cell_type": "code",
   "execution_count": null,
   "metadata": {},
   "outputs": [],
   "source": [
    "class MiClase:\n",
    "    x = 10\n",
    "    print('Dentro de la clase `MiClase`.')\n",
    "    \n",
    "    def mi_metodo():\n",
    "        print('Dentro de `mi_metodo` sin argumentos.')"
   ]
  },
  {
   "cell_type": "markdown",
   "metadata": {},
   "source": [
    "Como parece lógico, nada ocurre al ejecutarse el cuerpo de la clase respecto a `mi_metodo`. Realmente, no estamos definiendo una nueva variable en el espacio de nombres global, como ocurre en el ejemplo anterior con `mi_funcion`. Lo que estamos haciendo es definir un nuevo atributo de la clase `MiClase`.\n",
    "\n",
    "Para ejecutar el método `mi_metodo()` necesitamos invocarlo:"
   ]
  },
  {
   "cell_type": "code",
   "execution_count": null,
   "metadata": {},
   "outputs": [],
   "source": [
    "MiClase.mi_metodo()  # Invocamos al atributo mi_metodo, en este caso como una función"
   ]
  },
  {
   "cell_type": "markdown",
   "metadata": {},
   "source": [
    "Este atributo `mi_metodo`, ¿será accesible desde una instancia de la clase?"
   ]
  },
  {
   "cell_type": "code",
   "execution_count": null,
   "metadata": {
    "tags": [
     "raises-exception"
    ]
   },
   "outputs": [],
   "source": [
    "y = MiClase()\n",
    "y.mi_metodo()"
   ]
  },
  {
   "cell_type": "markdown",
   "metadata": {},
   "source": [
    "Obviamente no. Ya hemos dicho que `y.mi_metodo()` es el azucar sintáctico de `mi_metodo(y)` y el método que hemos definido no tiene argumentos."
   ]
  },
  {
   "cell_type": "markdown",
   "metadata": {},
   "source": [
    "Modifiquemos ahora la clase `MiClase` para poder usar `mi_metodo` como un método de una instancia de la clase:"
   ]
  },
  {
   "cell_type": "code",
   "execution_count": null,
   "metadata": {},
   "outputs": [],
   "source": [
    "class MiClase:\n",
    "    print('Dentro de la clase `MiClase`.')\n",
    "    \n",
    "    def mi_metodo(self):\n",
    "        print('Dentro de `mi_metodo` con un argumento.')\n",
    "\n",
    "        \n",
    "y = MiClase()\n",
    "y.mi_metodo()"
   ]
  },
  {
   "cell_type": "markdown",
   "metadata": {},
   "source": [
    "***\n",
    "<a id='Metodos_magicos'></a>"
   ]
  },
  {
   "cell_type": "markdown",
   "metadata": {},
   "source": [
    "## Métodos especiales\n",
    "La siguiente celda implementa una clase para trabajar con un contenedor tipo **pila**, es decir, un contenedor que solo admite las operaciones de añadir o eliminar elementos siguiendo una ley *último en llegar, primero en salir*.\n",
    "\n",
    "Está implementada mediante *composición*, utilizando el tipo nativo `list`. De momento, se han implementado los tres métodos básicos: inicialización y añadir y eliminar un elemento."
   ]
  },
  {
   "cell_type": "code",
   "execution_count": 14,
   "metadata": {},
   "outputs": [],
   "source": [
    "class Pila(object):\n",
    "    def __init__(self):\n",
    "        self.pila = []\n",
    "    def push(self, x):\n",
    "        self.pila.append(x)\n",
    "    def pop(self):\n",
    "        self.pila.pop()\n",
    "        \n",
    "        \n",
    "p = Pila()\n",
    "p.push(3)\n",
    "p.push(7)\n",
    "p.push(-23)\n",
    "p.pop()"
   ]
  },
  {
   "cell_type": "markdown",
   "metadata": {},
   "source": [
    "¿Qué pasa si queremos visualizar nuestra pila usando `print()`?"
   ]
  },
  {
   "cell_type": "code",
   "execution_count": 15,
   "metadata": {},
   "outputs": [
    {
     "name": "stdout",
     "output_type": "stream",
     "text": [
      "<__main__.Pila object at 0x000002A197E89888>\n"
     ]
    }
   ],
   "source": [
    "print(p)"
   ]
  },
  {
   "cell_type": "markdown",
   "metadata": {},
   "source": [
    "El resultado no tiene la información deseada, más allá de ver el tipo del objeto y su posición en memoria. Podemos solventar este inconveniente ayudándonos de un **método especial**.\n",
    "\n",
    "En Python, los métodos con doble subrayado al inicio y al final están reservados para usos especiales, como ya hemos visto con `__init__`. Estos métodos se conocen como métodos **especiales** o métodos **dunder**, *double underscores*, y también con el poco afortunado nombre de **métodos mágicos**.\n",
    "\n",
    "Haremos un breve repaso de algunos de estos métodos especiales."
   ]
  },
  {
   "cell_type": "markdown",
   "metadata": {},
   "source": [
    "### Representación de la clase\n",
    "El método `__str__` permite decidir cómo se visualizara una instancia de la clase, permitiéndonos devolver una variable tipo `str`."
   ]
  },
  {
   "cell_type": "code",
   "execution_count": 21,
   "metadata": {},
   "outputs": [],
   "source": [
    "class Pila(object):\n",
    "    def __init__(self):\n",
    "        self.pila = []\n",
    "    def __str__(self):\n",
    "        return(str(self.pila))\n",
    "    def push(self, x):\n",
    "        self.pila.append(x)\n",
    "    def pop(self):\n",
    "        self.pila.pop()\n",
    "    \n",
    "\n",
    "p = Pila()\n",
    "p.push(3)\n",
    "p.push(7)\n",
    "p.push(-23)\n",
    "p.pop()"
   ]
  },
  {
   "cell_type": "markdown",
   "metadata": {},
   "source": [
    "Ahora logramos visualizar la pila de una forma similar a una lista."
   ]
  },
  {
   "cell_type": "code",
   "execution_count": 22,
   "metadata": {},
   "outputs": [
    {
     "name": "stdout",
     "output_type": "stream",
     "text": [
      "[3, 7]\n"
     ]
    }
   ],
   "source": [
    "print(p)"
   ]
  },
  {
   "cell_type": "code",
   "execution_count": null,
   "metadata": {},
   "outputs": [],
   "source": []
  },
  {
   "cell_type": "code",
   "execution_count": null,
   "metadata": {},
   "outputs": [],
   "source": []
  }
 ],
 "metadata": {
  "anaconda-cloud": {},
  "celltoolbar": "Tags",
  "kernelspec": {
   "display_name": "Python 3",
   "language": "python",
   "name": "python3"
  },
  "language_info": {
   "codemirror_mode": {
    "name": "ipython",
    "version": 3
   },
   "file_extension": ".py",
   "mimetype": "text/x-python",
   "name": "python",
   "nbconvert_exporter": "python",
   "pygments_lexer": "ipython3",
   "version": "3.7.7"
  },
  "nbpresent": {
   "slides": {
    "1390653e-bdb6-444a-b611-39c60ffb77a1": {
     "id": "1390653e-bdb6-444a-b611-39c60ffb77a1",
     "prev": "5c2c8cc8-3676-4c06-b94c-d3f866ade69b",
     "regions": {
      "620813b3-9326-41e6-9d30-f5ac4f858225": {
       "attrs": {
        "height": 0.8,
        "width": 0.8,
        "x": 0.1,
        "y": 0.1
       },
       "content": {
        "cell": "86423d42-e808-47e6-b1a7-e925e195f821",
        "part": "whole"
       },
       "id": "620813b3-9326-41e6-9d30-f5ac4f858225"
      }
     }
    },
    "21036f68-a492-4532-a832-b213435c0ad2": {
     "id": "21036f68-a492-4532-a832-b213435c0ad2",
     "prev": "2c1c7f11-e5ee-4a25-8975-f0b033ba739a",
     "regions": {
      "a3908958-0784-4faa-ac97-b9325abe8ede": {
       "attrs": {
        "height": 0.8,
        "width": 0.8,
        "x": 0.1,
        "y": 0.1
       },
       "content": {
        "cell": "9aa64747-dc13-4bd9-bf26-73606628ad1c",
        "part": "whole"
       },
       "id": "a3908958-0784-4faa-ac97-b9325abe8ede"
      }
     }
    },
    "2c1c7f11-e5ee-4a25-8975-f0b033ba739a": {
     "id": "2c1c7f11-e5ee-4a25-8975-f0b033ba739a",
     "prev": "f3f10f50-4cad-4149-b308-c66e6a493a72",
     "regions": {
      "9e2d820e-ec17-4915-b960-0e0d5f640379": {
       "attrs": {
        "height": 0.8,
        "width": 0.8,
        "x": 0.1,
        "y": 0.1
       },
       "content": {
        "cell": "0281a659-abae-4cb9-b30f-b552b9db399e",
        "part": "whole"
       },
       "id": "9e2d820e-ec17-4915-b960-0e0d5f640379"
      }
     }
    },
    "30509a9a-dbd8-4dbd-9fab-852a7266d894": {
     "id": "30509a9a-dbd8-4dbd-9fab-852a7266d894",
     "prev": "8b078b7a-c2c6-4129-a19f-2a4f5c4a26f3",
     "regions": {
      "7baa4379-8f84-4d8f-b002-5a5ffd051489": {
       "attrs": {
        "height": 0.8,
        "width": 0.8,
        "x": 0.1,
        "y": 0.1
       },
       "content": {
        "cell": "14d1a927-b37f-4323-9404-17d453f3b487",
        "part": "whole"
       },
       "id": "7baa4379-8f84-4d8f-b002-5a5ffd051489"
      }
     }
    },
    "42d1bd80-265e-4acf-bbc1-b202afddade3": {
     "id": "42d1bd80-265e-4acf-bbc1-b202afddade3",
     "prev": "9bfe6214-4631-45b5-a05e-8923f178bb57",
     "regions": {
      "f2340145-4108-4fed-a0bc-4b91ca6c10ae": {
       "attrs": {
        "height": 0.8,
        "width": 0.8,
        "x": 0.1,
        "y": 0.1
       },
       "content": {
        "cell": "80be6133-d85a-4e43-9964-6578abcbaaac",
        "part": "whole"
       },
       "id": "f2340145-4108-4fed-a0bc-4b91ca6c10ae"
      }
     }
    },
    "5c2c8cc8-3676-4c06-b94c-d3f866ade69b": {
     "id": "5c2c8cc8-3676-4c06-b94c-d3f866ade69b",
     "prev": "6c4bc874-f3fc-472c-a81c-cd415b91c24b",
     "regions": {
      "e1de7ab6-4ef2-4b14-92d7-b174bf32806e": {
       "attrs": {
        "height": 0.8,
        "width": 0.8,
        "x": 0.1,
        "y": 0.1
       },
       "content": {
        "cell": "ae8725fa-30f7-4d7f-a2c2-5f86953d730b",
        "part": "whole"
       },
       "id": "e1de7ab6-4ef2-4b14-92d7-b174bf32806e"
      }
     }
    },
    "5cab5674-74dc-4378-93d7-eaa79e90cdae": {
     "id": "5cab5674-74dc-4378-93d7-eaa79e90cdae",
     "prev": "ba274d18-2760-4e55-ad47-2727b824fd00",
     "regions": {
      "2178d7cf-bf1e-4850-95a2-1509f15febfa": {
       "attrs": {
        "height": 0.8,
        "width": 0.8,
        "x": 0.1,
        "y": 0.1
       },
       "content": {
        "cell": "5d433d13-f44a-45bb-91fd-406f60b33b67",
        "part": "whole"
       },
       "id": "2178d7cf-bf1e-4850-95a2-1509f15febfa"
      }
     }
    },
    "638df7e1-84d1-4fd4-a15c-c94b731d1bea": {
     "id": "638df7e1-84d1-4fd4-a15c-c94b731d1bea",
     "prev": "b9dddf99-da24-46e1-81d4-8ac33b6fc3a3",
     "regions": {
      "deba8b1f-d997-4426-8f1b-978df7f19b41": {
       "attrs": {
        "height": 0.8,
        "width": 0.8,
        "x": 0.1,
        "y": 0.1
       },
       "content": {
        "cell": "7adaaf8f-a83e-456b-b99a-d3b3d4cb6d1a",
        "part": "whole"
       },
       "id": "deba8b1f-d997-4426-8f1b-978df7f19b41"
      }
     }
    },
    "6bda9eb4-0724-4e53-9971-131d0cb5f9e2": {
     "id": "6bda9eb4-0724-4e53-9971-131d0cb5f9e2",
     "prev": "ee33e624-cd65-4b8c-b28b-c95623a56dbf",
     "regions": {
      "feffbbd2-27d1-4318-8359-7d57583ee2bc": {
       "attrs": {
        "height": 0.8,
        "width": 0.8,
        "x": 0.1,
        "y": 0.1
       },
       "content": {
        "cell": "8dce188c-36b7-41fa-9020-b5cb5502e452",
        "part": "whole"
       },
       "id": "feffbbd2-27d1-4318-8359-7d57583ee2bc"
      }
     }
    },
    "6c4bc874-f3fc-472c-a81c-cd415b91c24b": {
     "id": "6c4bc874-f3fc-472c-a81c-cd415b91c24b",
     "prev": null,
     "regions": {
      "c9eac7e8-d033-4b03-8bf7-abd58ffe8d41": {
       "attrs": {
        "height": 0.8,
        "width": 0.8,
        "x": 0.1,
        "y": 0.1
       },
       "content": {
        "cell": "71219fc3-c9cb-4700-9f0b-ab38b1b223da",
        "part": "whole"
       },
       "id": "c9eac7e8-d033-4b03-8bf7-abd58ffe8d41"
      }
     }
    },
    "6d7ab34f-9d99-4c74-9877-27b25abc73f0": {
     "id": "6d7ab34f-9d99-4c74-9877-27b25abc73f0",
     "prev": "febe7de9-9362-4079-bfe9-2d4dfddf00e2",
     "regions": {
      "2ee252de-db5f-43e7-b4b7-7f59bba29962": {
       "attrs": {
        "height": 0.8,
        "width": 0.8,
        "x": 0.1,
        "y": 0.1
       },
       "content": {
        "cell": "85d1ab90-cc65-4935-808b-a6f57ecc892e",
        "part": "whole"
       },
       "id": "2ee252de-db5f-43e7-b4b7-7f59bba29962"
      }
     }
    },
    "7ea582c3-439d-4ec2-9f27-dea18bcacc31": {
     "id": "7ea582c3-439d-4ec2-9f27-dea18bcacc31",
     "prev": "f0727a74-61a1-48c1-94a5-3e7490c29f0b",
     "regions": {
      "652960af-b61f-4c36-b122-3eacd714867b": {
       "attrs": {
        "height": 0.8,
        "width": 0.8,
        "x": 0.1,
        "y": 0.1
       },
       "content": {
        "cell": "86172e20-fe16-447d-859f-24a81e563011",
        "part": "whole"
       },
       "id": "652960af-b61f-4c36-b122-3eacd714867b"
      }
     }
    },
    "8b078b7a-c2c6-4129-a19f-2a4f5c4a26f3": {
     "id": "8b078b7a-c2c6-4129-a19f-2a4f5c4a26f3",
     "prev": "5cab5674-74dc-4378-93d7-eaa79e90cdae",
     "regions": {
      "dce1e605-9342-414d-b8c6-7dcb922fbf47": {
       "attrs": {
        "height": 0.8,
        "width": 0.8,
        "x": 0.1,
        "y": 0.1
       },
       "content": {
        "cell": "ee1bdf03-6e13-4f1f-9dc9-22d4e344fdba",
        "part": "whole"
       },
       "id": "dce1e605-9342-414d-b8c6-7dcb922fbf47"
      }
     }
    },
    "999513ad-b53e-4d84-b9ef-ed37967f74d6": {
     "id": "999513ad-b53e-4d84-b9ef-ed37967f74d6",
     "prev": "638df7e1-84d1-4fd4-a15c-c94b731d1bea",
     "regions": {
      "2e85c1b2-3c30-413e-9b0f-141281da3a2a": {
       "attrs": {
        "height": 0.8,
        "width": 0.8,
        "x": 0.1,
        "y": 0.1
       },
       "content": {
        "cell": "998dc7f5-ab6d-4fb8-866f-4fa96a06aaaa",
        "part": "whole"
       },
       "id": "2e85c1b2-3c30-413e-9b0f-141281da3a2a"
      }
     }
    },
    "9add3d79-8621-4167-8e1d-d4ae48fba71b": {
     "id": "9add3d79-8621-4167-8e1d-d4ae48fba71b",
     "prev": "7ea582c3-439d-4ec2-9f27-dea18bcacc31",
     "regions": {
      "d5f4537e-4d8c-4179-b14b-6c475f50b04e": {
       "attrs": {
        "height": 0.8,
        "width": 0.8,
        "x": 0.1,
        "y": 0.1
       },
       "content": {
        "cell": "9659b1c1-9aed-4d71-b830-4a60d408ad71",
        "part": "whole"
       },
       "id": "d5f4537e-4d8c-4179-b14b-6c475f50b04e"
      }
     }
    },
    "9bfe6214-4631-45b5-a05e-8923f178bb57": {
     "id": "9bfe6214-4631-45b5-a05e-8923f178bb57",
     "prev": "30509a9a-dbd8-4dbd-9fab-852a7266d894",
     "regions": {
      "aac53254-d149-49f2-8f92-670c6f2714bb": {
       "attrs": {
        "height": 0.8,
        "width": 0.8,
        "x": 0.1,
        "y": 0.1
       },
       "content": {
        "cell": "c71a78d7-9d0e-4825-9c84-9998f971317d",
        "part": "whole"
       },
       "id": "aac53254-d149-49f2-8f92-670c6f2714bb"
      }
     }
    },
    "b9dddf99-da24-46e1-81d4-8ac33b6fc3a3": {
     "id": "b9dddf99-da24-46e1-81d4-8ac33b6fc3a3",
     "prev": "1390653e-bdb6-444a-b611-39c60ffb77a1",
     "regions": {
      "0b31dbb4-f15b-4a16-9420-c5dc8ed4e871": {
       "attrs": {
        "height": 0.8,
        "width": 0.8,
        "x": 0.1,
        "y": 0.1
       },
       "content": {
        "cell": "d0569bb0-fad8-48b7-8d48-0066bfb90401",
        "part": "whole"
       },
       "id": "0b31dbb4-f15b-4a16-9420-c5dc8ed4e871"
      }
     }
    },
    "ba274d18-2760-4e55-ad47-2727b824fd00": {
     "id": "ba274d18-2760-4e55-ad47-2727b824fd00",
     "prev": "ed47079d-58cf-4b87-a9fa-a709d8a7c3c6",
     "regions": {
      "13000b51-bd66-4fb5-970b-20bfad440880": {
       "attrs": {
        "height": 0.8,
        "width": 0.8,
        "x": 0.1,
        "y": 0.1
       },
       "content": {
        "cell": "f6847886-4044-43a7-9edd-f18efddcb7a9",
        "part": "whole"
       },
       "id": "13000b51-bd66-4fb5-970b-20bfad440880"
      }
     }
    },
    "ed47079d-58cf-4b87-a9fa-a709d8a7c3c6": {
     "id": "ed47079d-58cf-4b87-a9fa-a709d8a7c3c6",
     "prev": "9add3d79-8621-4167-8e1d-d4ae48fba71b",
     "regions": {
      "a96aea94-1714-4020-83f9-dbc03e9fd55e": {
       "attrs": {
        "height": 0.8,
        "width": 0.8,
        "x": 0.1,
        "y": 0.1
       },
       "content": {
        "cell": "5a579720-fa62-4525-85e3-dd049cbd73be",
        "part": "whole"
       },
       "id": "a96aea94-1714-4020-83f9-dbc03e9fd55e"
      }
     }
    },
    "ee33e624-cd65-4b8c-b28b-c95623a56dbf": {
     "id": "ee33e624-cd65-4b8c-b28b-c95623a56dbf",
     "prev": "999513ad-b53e-4d84-b9ef-ed37967f74d6",
     "regions": {
      "325ae98d-0855-4d16-8408-6d12f47efa24": {
       "attrs": {
        "height": 0.8,
        "width": 0.8,
        "x": 0.1,
        "y": 0.1
       },
       "content": {
        "cell": "829150e0-712b-4739-92d6-37b9c3d789cb",
        "part": "whole"
       },
       "id": "325ae98d-0855-4d16-8408-6d12f47efa24"
      }
     }
    },
    "f0727a74-61a1-48c1-94a5-3e7490c29f0b": {
     "id": "f0727a74-61a1-48c1-94a5-3e7490c29f0b",
     "prev": "6d7ab34f-9d99-4c74-9877-27b25abc73f0",
     "regions": {
      "1666081e-448d-4f80-90f2-9f26f1568cdc": {
       "attrs": {
        "height": 0.8,
        "width": 0.8,
        "x": 0.1,
        "y": 0.1
       },
       "content": {
        "cell": "d99a804c-9444-418b-bc94-3c2f064e2844",
        "part": "whole"
       },
       "id": "1666081e-448d-4f80-90f2-9f26f1568cdc"
      }
     }
    },
    "f3f10f50-4cad-4149-b308-c66e6a493a72": {
     "id": "f3f10f50-4cad-4149-b308-c66e6a493a72",
     "prev": "42d1bd80-265e-4acf-bbc1-b202afddade3",
     "regions": {
      "4fc1185f-bdb8-46fc-99bd-b8d30defeca9": {
       "attrs": {
        "height": 0.8,
        "width": 0.8,
        "x": 0.1,
        "y": 0.1
       },
       "content": {
        "cell": "9b7597e9-aaa9-4d9f-ba0d-22f43d1a3900",
        "part": "whole"
       },
       "id": "4fc1185f-bdb8-46fc-99bd-b8d30defeca9"
      }
     }
    },
    "febe7de9-9362-4079-bfe9-2d4dfddf00e2": {
     "id": "febe7de9-9362-4079-bfe9-2d4dfddf00e2",
     "prev": "6bda9eb4-0724-4e53-9971-131d0cb5f9e2",
     "regions": {
      "42348103-1cd6-4bac-b346-33cd41aea444": {
       "attrs": {
        "height": 0.8,
        "width": 0.8,
        "x": 0.1,
        "y": 0.1
       },
       "content": {
        "cell": "35a148d4-f201-4441-bf5e-8a07f93dea84",
        "part": "whole"
       },
       "id": "42348103-1cd6-4bac-b346-33cd41aea444"
      }
     }
    }
   },
   "themes": {}
  }
 },
 "nbformat": 4,
 "nbformat_minor": 2
}
