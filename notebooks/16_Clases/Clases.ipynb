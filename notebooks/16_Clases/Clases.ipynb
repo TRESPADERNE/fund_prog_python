{
 "cells": [
  {
   "cell_type": "markdown",
   "metadata": {
    "slideshow": {
     "slide_type": "slide"
    }
   },
   "source": [
    "# Introducción a las Clases\n",
    "\n",
    "**Autores**: Rogelio Mazaeda Echevarría, Félix Miguel Trespaderne.   "
   ]
  },
  {
   "cell_type": "markdown",
   "metadata": {},
   "source": [
    "## Contenidos\n",
    "[Introducción](#Introducción)<br>\n",
    "[Concepto de atributo](#Concepto_de_atributo)<br>\n",
    "[Ejecución de un objeto clase](#Ejecución_de_un_objeto_clase)"
   ]
  },
  {
   "cell_type": "markdown",
   "metadata": {},
   "source": [
    "***\n",
    "<a id='Introducción'></a>"
   ]
  },
  {
   "cell_type": "markdown",
   "metadata": {},
   "source": [
    "## Introducción\n",
    "El paradigma de la **Programación Orientada a Objetos** permite crear al usuario tipos de datos que empaquetan en una sola entidad reusable **propiedades** (datos) y **comportamientos** (funciones).\n",
    "\n",
    "Crear una clase supone crear un **nuevo tipo** de objeto, de tal forma que, a partir de ese momento, podemos definir nuevas variables, nuevas **instancias** de ese nuevo tipo de objeto. \n",
    "\n",
    "Cada instancia de una clase puede tener diferentes **miembros** o **atributos**:\n",
    "* **Datos**, **atributos** que permiten caracterizar su **estado**\n",
    "* **Métodos**, **atributos función** que permiten obtener información del **estado** y/o modificarlo\n",
    "\n",
    "Siguiendo la terminología de C++, en general, los **miembros** de una clase son **públicos**, es decir, pueden accederse *desde el exterior* por otras partes del programa.\n",
    "> Cada lenguaje usa una terminología diferente que hace prácticamente imposible una visión unificada del paradigma de la **Programación Orientada a Objetos**. Incluso en el plano puramente teórico, conceptual, no hay consenso sobre lo que son conceptos tales como **Objeto**, **Dato Abstracto**, etc.\n",
    "\n",
    "> El propio **tutorial oficial de Python** distingue en unos sitios entre **atributos** y **métodos**, cuando siguiendo la terminología del lenguaje ambos son atributos.  \n",
    "\n",
    "> El gran éxito de Python hace que sean accesibles una gran cantidad de cursos, blogs, libros, etc. en los que, sin control, se diseminan cual virus terminologías inexactas. Posiblemente no seamos ajenos en este curso."
   ]
  },
  {
   "cell_type": "markdown",
   "metadata": {},
   "source": [
    "***\n",
    "<a id='Concepto_de_atributo'></a>"
   ]
  },
  {
   "cell_type": "markdown",
   "metadata": {},
   "source": [
    "## Concepto de atributo\n",
    "La siguiente línea crea un nuevo tipo de objeto a través de la palabra reservada `class`."
   ]
  },
  {
   "cell_type": "code",
   "execution_count": 1,
   "metadata": {},
   "outputs": [],
   "source": [
    "class ClaseKk: \n",
    "    pass\n",
    "\n",
    "kk = ClaseKk()  # kk es ahora una instancia de la clase ClaseKk"
   ]
  },
  {
   "cell_type": "markdown",
   "metadata": {},
   "source": [
    "Si nos interesamos mediante la función nativa `type()` sobre la identidad de `kk` y `ClaseKk` observamos que:\n",
    "* `kk` es una **instancia** del nuevo tipo de dato `ClaseKk`\n",
    "* `ClaseKk` es una instancia de la clase `type`, igual que los tipos nativos ya conocidos como `int`, `float`, etc."
   ]
  },
  {
   "cell_type": "code",
   "execution_count": 2,
   "metadata": {},
   "outputs": [
    {
     "name": "stdout",
     "output_type": "stream",
     "text": [
      "El tipo de <__main__.ClaseKk object at 0x0000028898378D88> es <class '__main__.ClaseKk'>.\n",
      "El tipo de <class '__main__.ClaseKk'> es <class 'type'>.\n",
      "El tipo de <class 'int'> es <class 'type'>.\n",
      "El tipo de <class 'float'> es <class 'type'>.\n",
      "El tipo de <class 'list'> es <class 'type'>.\n",
      "El tipo de <class 'tuple'> es <class 'type'>.\n",
      "El tipo de <class 'str'> es <class 'type'>.\n"
     ]
    }
   ],
   "source": [
    "for t in kk, ClaseKk, int, float, list, tuple, str:\n",
    "    print('El tipo de {} es {}.'.format(t, type(t)))"
   ]
  },
  {
   "cell_type": "markdown",
   "metadata": {},
   "source": [
    "Nuestra clase `ClaseKk` no es muy divertida. Vamos a crear una nueva clase añadiéndola un **atributo**: el método `__init__()`, un método especial que Python invoca automáticamente tras crearse una nueva instancia."
   ]
  },
  {
   "cell_type": "code",
   "execution_count": 3,
   "metadata": {},
   "outputs": [
    {
     "name": "stdout",
     "output_type": "stream",
     "text": [
      "<__main__.Punto2d object at 0x00000288983A21C8>\n",
      "Las coordenadas del punto son (10,3).\n"
     ]
    }
   ],
   "source": [
    "class Punto2d:\n",
    "    def __init__(self, x, y):\n",
    "        self.x = x\n",
    "        self.y = y\n",
    "\n",
    "\n",
    "p = Punto2d(10, 3)  # Se invoca a __init__() con argumentos (p, 10, 3)\n",
    "print(p)\n",
    "print('Las coordenadas del punto son ({},{}).'.format(p.x, p.y))"
   ]
  },
  {
   "cell_type": "markdown",
   "metadata": {},
   "source": [
    "Podemos observar que `print(p)` nos imprime información del objeto y su posición en memoria. Esto es así porque no hemos *enseñado* aún a nuestra clase a imprimir sus instancias.\n",
    "\n",
    "Sin embargo, si que hemos podido **acceder** e imprimir dos nuevos **atributos**, `x` e `y` del objeto `p`, utilizando la sintaxis `espacio_de_nombres.nombre` que ya conocemos de los módulos. Esto es así porque los nombres con los que identificamos a los atributos de un objeto de una clase constituyen un espacio de nombres propio de la clase.\n",
    "\n",
    "El nombre `self` es una **referencia** al objeto `p` recién creado. La sentencia:\n",
    "```python\n",
    "p = Punto2d(10, 3)\n",
    "```\n",
    "es **azúcar sintáctico** de la llamada detrás de las bambalinas *`Punto2d(p, 10, 3)`*. Los argumentos reales `(p, 10, 3)` son recogidos por los formales `(self, x, y)` del método `__init__()`. De hecho, el identificador `self` no es sino una convención universalmente aceptada, pero podría usarse cualquier otro identificador."
   ]
  },
  {
   "cell_type": "markdown",
   "metadata": {},
   "source": [
    "Otra forma de ver que `self` y `p` son el mismo objeto es ayudándonos de la función nativa `id()`."
   ]
  },
  {
   "cell_type": "code",
   "execution_count": 2,
   "metadata": {},
   "outputs": [
    {
     "name": "stdout",
     "output_type": "stream",
     "text": [
      "2453716947848\n",
      "2453716947848\n"
     ]
    }
   ],
   "source": [
    "class Punto2d:\n",
    "    def __init__(self, x, y):\n",
    "        self.x = x\n",
    "        self.y = y\n",
    "        print(id(self))\n",
    "\n",
    "        \n",
    "p = Punto2d(10, 3)  # Se invoca a __init__() con argumentos (p, 10, 3)\n",
    "print(id(p))"
   ]
  },
  {
   "cell_type": "markdown",
   "metadata": {},
   "source": [
    "Si, como Santo Tomás, aún sois incrédulos, podéis verificar que en la llamada `p = Punto2d(10, 3)` se pasan 3 argumentos en lugar de dos. Para ello, observad la excepción que se produce en el siguiente ejemplo:"
   ]
  },
  {
   "cell_type": "code",
   "execution_count": 10,
   "metadata": {},
   "outputs": [
    {
     "ename": "TypeError",
     "evalue": "__init__() takes 3 positional arguments but 4 were given",
     "output_type": "error",
     "traceback": [
      "\u001b[1;31m---------------------------------------------------------------------------\u001b[0m",
      "\u001b[1;31mTypeError\u001b[0m                                 Traceback (most recent call last)",
      "\u001b[1;32m<ipython-input-10-0264b395553d>\u001b[0m in \u001b[0;36m<module>\u001b[1;34m\u001b[0m\n\u001b[1;32m----> 1\u001b[1;33m \u001b[0mp\u001b[0m \u001b[1;33m=\u001b[0m \u001b[0mPunto2d\u001b[0m\u001b[1;33m(\u001b[0m\u001b[1;36m100\u001b[0m\u001b[1;33m,\u001b[0m \u001b[1;36m10\u001b[0m\u001b[1;33m,\u001b[0m \u001b[1;36m3\u001b[0m\u001b[1;33m)\u001b[0m\u001b[1;33m\u001b[0m\u001b[1;33m\u001b[0m\u001b[0m\n\u001b[0m",
      "\u001b[1;31mTypeError\u001b[0m: __init__() takes 3 positional arguments but 4 were given"
     ]
    }
   ],
   "source": [
    "p = Punto2d(100, 10, 3)"
   ]
  },
  {
   "cell_type": "markdown",
   "metadata": {},
   "source": [
    "La excepción `TypeError` nos avisa de que `__init__()` en la clase `Punto2d`recibe **3 argumentos posicionales** y no 4 como le hemos proporcionado. \n",
    "\n",
    "La referencia al propio objeto `self` siempre va **posicionalmente en primer lugar**.\n",
    "> Para los conocedores de C++, y salvando las distancias, el comportamiento es similar a la **palabra reservada** `this`. La ventaja en el caso de C++ es que no es necesario explicitarla (en general) en los métodos de las clases siendo, excepcionalmente en este caso, C++ menos verboso que Python. "
   ]
  },
  {
   "cell_type": "markdown",
   "metadata": {},
   "source": [
    "En Python, los objetos poseen atributos. La función nativa `dir()` nos proporciona una lista de los atributos de un objeto."
   ]
  },
  {
   "cell_type": "code",
   "execution_count": 7,
   "metadata": {},
   "outputs": [
    {
     "name": "stdout",
     "output_type": "stream",
     "text": [
      "['__abs__', '__add__', '__and__', '__bool__', '__ceil__', '__class__', '__delattr__', '__dir__', '__divmod__', '__doc__', '__eq__', '__float__', '__floor__', '__floordiv__', '__format__', '__ge__', '__getattribute__', '__getnewargs__', '__gt__', '__hash__', '__index__', '__init__', '__init_subclass__', '__int__', '__invert__', '__le__', '__lshift__', '__lt__', '__mod__', '__mul__', '__ne__', '__neg__', '__new__', '__or__', '__pos__', '__pow__', '__radd__', '__rand__', '__rdivmod__', '__reduce__', '__reduce_ex__', '__repr__', '__rfloordiv__', '__rlshift__', '__rmod__', '__rmul__', '__ror__', '__round__', '__rpow__', '__rrshift__', '__rshift__', '__rsub__', '__rtruediv__', '__rxor__', '__setattr__', '__sizeof__', '__str__', '__sub__', '__subclasshook__', '__truediv__', '__trunc__', '__xor__', 'bit_length', 'conjugate', 'denominator', 'from_bytes', 'imag', 'numerator', 'real', 'to_bytes']\n"
     ]
    }
   ],
   "source": [
    "numero = 3\n",
    "print(dir(numero))"
   ]
  },
  {
   "cell_type": "code",
   "execution_count": 8,
   "metadata": {},
   "outputs": [
    {
     "name": "stdout",
     "output_type": "stream",
     "text": [
      "['__class__', '__delattr__', '__dict__', '__dir__', '__doc__', '__eq__', '__format__', '__ge__', '__getattribute__', '__gt__', '__hash__', '__init__', '__init_subclass__', '__le__', '__lt__', '__module__', '__ne__', '__new__', '__reduce__', '__reduce_ex__', '__repr__', '__setattr__', '__sizeof__', '__str__', '__subclasshook__', '__weakref__']\n"
     ]
    }
   ],
   "source": [
    "# Observe como __init__ es un atributo de nuestro objeto Punto2d\n",
    "# ¡Pero x e y no lo son!\n",
    "print(dir(Punto2d))"
   ]
  },
  {
   "cell_type": "code",
   "execution_count": 9,
   "metadata": {},
   "outputs": [
    {
     "name": "stdout",
     "output_type": "stream",
     "text": [
      "['__class__', '__delattr__', '__dict__', '__dir__', '__doc__', '__eq__', '__format__', '__ge__', '__getattribute__', '__gt__', '__hash__', '__init__', '__init_subclass__', '__le__', '__lt__', '__module__', '__ne__', '__new__', '__reduce__', '__reduce_ex__', '__repr__', '__setattr__', '__sizeof__', '__str__', '__subclasshook__', '__weakref__', 'x', 'y']\n"
     ]
    }
   ],
   "source": [
    "# Observe como x e y son dos nuevos atributos de nuestro objeto p\n",
    "# Son atributos propios del objeto p, no de la clase Punto2d\n",
    "print(dir(p))"
   ]
  },
  {
   "cell_type": "markdown",
   "metadata": {},
   "source": [
    "Vemos que el objeto clase `Punto2d` *cede* los nombres de sus atributos a su instancia `p`. \n",
    "\n",
    "Investiguemos realmente qué ocurre en esa cesión. Veamos cual es el tipo del atributo `__init__` según el objeto de que se trate:"
   ]
  },
  {
   "cell_type": "code",
   "execution_count": 6,
   "metadata": {},
   "outputs": [
    {
     "name": "stdout",
     "output_type": "stream",
     "text": [
      "<class 'function'>\n",
      "<class 'method'>\n"
     ]
    }
   ],
   "source": [
    "print(type(Punto2d.__init__))\n",
    "print(type(p.__init__))"
   ]
  },
  {
   "cell_type": "markdown",
   "metadata": {},
   "source": [
    "Vemos que son atributos que comparten el nombre, pero son tipos diferentes. \n",
    "\n",
    "Para la clase, el acceso a sus atributos función es el habitual que hemos visto para las funciones. En este caso, para usar el objeto `__init__` deberemos usar tres argumentos, y el primero de ellos tendrá que ser una instancia de la propia clase `Punto2d` u otra que tenga los atributos `x` e `y `."
   ]
  },
  {
   "cell_type": "code",
   "execution_count": 5,
   "metadata": {},
   "outputs": [
    {
     "name": "stdout",
     "output_type": "stream",
     "text": [
      "5 6\n",
      "3 4\n"
     ]
    }
   ],
   "source": [
    "class Punto2d:\n",
    "    def __init__(self, x, y):\n",
    "        self.x = x\n",
    "        self.y = y\n",
    "\n",
    "        \n",
    "p = Punto2d(5, 6)\n",
    "print(p.x, p.y)\n",
    "Punto2d.__init__(p, 3, 4)\n",
    "print(p.x, p.y)"
   ]
  },
  {
   "cell_type": "markdown",
   "metadata": {},
   "source": [
    "Obviamente, la forma que acabamos de usar para `__init__` es absurda. \n",
    "\n",
    "El uso de `__init__()` como **método** nos proporciona una forma estructurada, localizada y legible de incorporar los mismos tipos y nombres de atributos a todas las instancias de una clase.\n",
    "\n",
    "Pero si no nos importa volvernos locos (y también a quien lea nuestro código) podemos incorporar atributos a nuestras instancias de otra forma. Véase el ejemplo:"
   ]
  },
  {
   "cell_type": "code",
   "execution_count": 4,
   "metadata": {},
   "outputs": [
    {
     "name": "stdout",
     "output_type": "stream",
     "text": [
      "['__class__', '__delattr__', '__dict__', '__dir__', '__doc__', '__eq__', '__format__', '__ge__', '__getattribute__', '__gt__', '__hash__', '__init__', '__init_subclass__', '__le__', '__lt__', '__module__', '__ne__', '__new__', '__reduce__', '__reduce_ex__', '__repr__', '__setattr__', '__sizeof__', '__str__', '__subclasshook__', '__weakref__', 'kk', 'x', 'y']\n",
      "['__class__', '__delattr__', '__dict__', '__dir__', '__doc__', '__eq__', '__format__', '__ge__', '__getattribute__', '__gt__', '__hash__', '__init__', '__init_subclass__', '__le__', '__lt__', '__module__', '__ne__', '__new__', '__reduce__', '__reduce_ex__', '__repr__', '__setattr__', '__sizeof__', '__str__', '__subclasshook__', '__weakref__', 'x', 'y']\n"
     ]
    }
   ],
   "source": [
    "class Punto2d:\n",
    "    def __init__(self, x, y):\n",
    "        self.x = x\n",
    "        self.y = y\n",
    "\n",
    "        \n",
    "p1 = Punto2d(10, 3)\n",
    "p1.kk = 'Por favor, no hagas esto.'  # p1 tiene ahora un nuevo atributo, kk\n",
    "\n",
    "print(dir(p1))\n",
    "\n",
    "p2 = Punto2d(20, 1)  # Obviamente p2 no tiene el atributo kk\n",
    "print(dir(p2))"
   ]
  },
  {
   "cell_type": "markdown",
   "metadata": {},
   "source": [
    "Por tanto, podemos añadir nuevos atributos a un objeto instancia de una clase de esta forma poco usual. Véase que `kk` es un atributo de `p1` pero no de `p2`."
   ]
  },
  {
   "cell_type": "markdown",
   "metadata": {},
   "source": [
    "Para seguir reforzando el concepto de objeto y atributo véase el siguiente ejemplo, en este caso usando una función. Al igual que las clases, las funciones son nuevas instancias creadas por el programador, de la clase `function`."
   ]
  },
  {
   "cell_type": "code",
   "execution_count": 5,
   "metadata": {},
   "outputs": [
    {
     "name": "stdout",
     "output_type": "stream",
     "text": [
      "1.4142135623730951\n"
     ]
    }
   ],
   "source": [
    "import math\n",
    "def distancia(p1, p2):\n",
    "    dif_x = p1.x - p2.x\n",
    "    dif_y = p1.y - p2.y\n",
    "    return math.sqrt(dif_x**2 + dif_y**2)\n",
    "\n",
    "\n",
    "p1 = Punto2d(1, 1)\n",
    "p2 = Punto2d(2, 2)\n",
    "\n",
    "distancia.valor = distancia(p1, p2)  # Añadimos dinámicamente el atributo valor al objeto distancia\n",
    "print(distancia.valor)"
   ]
  },
  {
   "cell_type": "markdown",
   "metadata": {},
   "source": [
    "Es obvio que este nuevo atributo `valor` de la función `distancia()` no incorpora ningún añadido ventajoso al código. Más bien al contrario, reduce la legibilidad. Sólo es una muestra de cómo a objetos creados por el programador, como nuevas clases y funciones, podemos incorporales *al vuelo* nuevos atributos."
   ]
  },
  {
   "cell_type": "markdown",
   "metadata": {},
   "source": [
    "¿Qué pasa cuando intentamos usar un atributo de un objeto que no hemos añadido previamente?"
   ]
  },
  {
   "cell_type": "code",
   "execution_count": 11,
   "metadata": {},
   "outputs": [
    {
     "ename": "NameError",
     "evalue": "name 'p2' is not defined",
     "output_type": "error",
     "traceback": [
      "\u001b[1;31m---------------------------------------------------------------------------\u001b[0m",
      "\u001b[1;31mNameError\u001b[0m                                 Traceback (most recent call last)",
      "\u001b[1;32m<ipython-input-11-fff654ebef8e>\u001b[0m in \u001b[0;36m<module>\u001b[1;34m\u001b[0m\n\u001b[1;32m----> 1\u001b[1;33m \u001b[0mp2\u001b[0m\u001b[1;33m.\u001b[0m\u001b[0mkk\u001b[0m\u001b[1;33m\u001b[0m\u001b[1;33m\u001b[0m\u001b[0m\n\u001b[0m",
      "\u001b[1;31mNameError\u001b[0m: name 'p2' is not defined"
     ]
    }
   ],
   "source": [
    "p2.kk"
   ]
  },
  {
   "cell_type": "markdown",
   "metadata": {},
   "source": [
    "La excepción `AttributeError` lo deja claro, ¿no?"
   ]
  },
  {
   "cell_type": "markdown",
   "metadata": {},
   "source": [
    "Hagamos un poco de magia. Puesto que nuestra clase `Punto2d` es un objeto creado por nosotros, ¿podemos añadirle un atributo función? ¡Por supuesto!"
   ]
  },
  {
   "cell_type": "code",
   "execution_count": 6,
   "metadata": {},
   "outputs": [
    {
     "name": "stdout",
     "output_type": "stream",
     "text": [
      "5.0\n",
      "['__class__', '__delattr__', '__dict__', '__dir__', '__doc__', '__eq__', '__format__', '__ge__', '__getattribute__', '__gt__', '__hash__', '__init__', '__init_subclass__', '__le__', '__lt__', '__module__', '__ne__', '__new__', '__reduce__', '__reduce_ex__', '__repr__', '__setattr__', '__sizeof__', '__str__', '__subclasshook__', '__weakref__', 'distancia']\n",
      "\n",
      "El tipo del atributo distancia de la clase `Punto2d` es <class 'function'>.\n",
      "\n",
      "El tipo del atributo distancia de una instancia de la clase `Punto2d` es <class 'method'>.\n"
     ]
    }
   ],
   "source": [
    "Punto2d.distancia = distancia  # Añadimos el atributo distancia, que es una función, a la clase Punto2d\n",
    "\n",
    "p1 = Punto2d(1, 4)\n",
    "p2 = Punto2d(4, 8)\n",
    "d = p1.distancia(p2)\n",
    "\n",
    "print(d)\n",
    "print(dir(Punto2d))\n",
    "print('\\nEl tipo del atributo distancia de la clase `Punto2d` es {}.'.format(type(Punto2d.distancia)))\n",
    "print('\\nEl tipo del atributo distancia de una instancia de la clase `Punto2d` es {}.'.format(type(p1.distancia)))"
   ]
  },
  {
   "cell_type": "markdown",
   "metadata": {},
   "source": [
    "Vemos que el atributo `distancia` ya está en la lista de atributos de `Punto2d` y es del tipo `function`. Pero desde el punto de vista de la instancia `p1`, como ya hemos hablado antes, es un método.\n",
    "\n",
    "La forma correcta y legible de incorporar el método `distancia` es en el momento de definir la clase."
   ]
  },
  {
   "cell_type": "code",
   "execution_count": 7,
   "metadata": {},
   "outputs": [
    {
     "name": "stdout",
     "output_type": "stream",
     "text": [
      "5.0\n"
     ]
    }
   ],
   "source": [
    "%reset -f\n",
    "import math\n",
    "\n",
    "class Punto2d:\n",
    "    def __init__(self, x, y):\n",
    "        self.x = x\n",
    "        self.y = y\n",
    "        \n",
    "    def distancia(self, p2):  # self juega ahora el papel de p1 en el ejemplo anterior\n",
    "        dif_x = self.x - p2.x\n",
    "        dif_y = self.y - p2.y\n",
    "        return math.sqrt(dif_x**2 + dif_y**2)\n",
    "\n",
    "    \n",
    "p1 = Punto2d(1, 4)\n",
    "p2 = Punto2d(4, 8)\n",
    "d = p1.distancia(p2)  # Esta llamada es el azucar sintáctico de la llamada d = distancia(p1, p2)\n",
    "\n",
    "print(d)"
   ]
  },
  {
   "cell_type": "markdown",
   "metadata": {},
   "source": [
    "Para finalizar, veamos un ejemplo de cómo invocar al atributo función `distancia` de la clase `Punto2d`."
   ]
  },
  {
   "cell_type": "code",
   "execution_count": null,
   "metadata": {},
   "outputs": [],
   "source": [
    "p1 = Punto2d(1, 4)\n",
    "p2 = Punto2d(4, 8)\n",
    "Punto2d.distancia(p1, p2)\n",
    "print(d)"
   ]
  },
  {
   "cell_type": "markdown",
   "metadata": {},
   "source": [
    "Dado que lo normal es invocar a los atributos funciones de una clase a a través de las instancias de esa clase, nos referiremos en lo que sigue a estos atributos como **métodos**."
   ]
  },
  {
   "cell_type": "markdown",
   "metadata": {},
   "source": [
    "***\n",
    "<a id='Ejecución_de_un_objeto_clase'></a>"
   ]
  },
  {
   "cell_type": "markdown",
   "metadata": {},
   "source": [
    "## Ejecución de un objeto clase\n",
    "Veamos con un ejemplo una diferencia esencial entre la definición de una función y la de una clase. Ejecute la siguiente celda."
   ]
  },
  {
   "cell_type": "code",
   "execution_count": 8,
   "metadata": {},
   "outputs": [
    {
     "name": "stdout",
     "output_type": "stream",
     "text": [
      "Dentro de la clase `ClaseKk`.\n",
      "El valor del atributo `x` de la `ClaseKk` es 10.\n"
     ]
    }
   ],
   "source": [
    "def mi_funcion():\n",
    "    print('Dentro de la función `mi_funcion`.')\n",
    "    \n",
    "    \n",
    "class ClaseKk:\n",
    "    x = 10\n",
    "    print('Dentro de la clase `ClaseKk`.')\n",
    "    \n",
    "\n",
    "print('El valor del atributo `x` de la `ClaseKk` es {}.'.format(ClaseKk.x))"
   ]
  },
  {
   "cell_type": "markdown",
   "metadata": {},
   "source": [
    "Como ya sabemos, el cuerpo de una función sólo se ejecuta cuando se invoca a la función. Sin embargo, el cuerpo de una clase se ejecuta de forma inmediata, **¡una única vez!**.\n",
    "\n",
    "Entonces, ¿se ejecutan los métodos dentro de una clase?"
   ]
  },
  {
   "cell_type": "code",
   "execution_count": 11,
   "metadata": {},
   "outputs": [
    {
     "name": "stdout",
     "output_type": "stream",
     "text": [
      "Dentro de la clase `ClaseKk`.\n"
     ]
    }
   ],
   "source": [
    "class ClaseKk:\n",
    "    print('Dentro de la clase `ClaseKk`.')\n",
    "    \n",
    "    def mi_metodo():\n",
    "        print('Dentro de `mi_metodo` sin argumentos.')"
   ]
  },
  {
   "cell_type": "markdown",
   "metadata": {},
   "source": [
    "Como parece lógico, nada ocurre al ejecutarse el cuerpo de la clase respecto a `mi_metodo`. Realmente, no estamos definiendo una nueva variable en el espacio de nombres global, como ocurre en el ejemplo anterior con `mi_funcion`. Lo que estamos haciendo es definir un nuevo atributo de la clase `ClaseKk`.\n",
    "\n",
    "Para ejecutar el método `mi_metodo()` necesitamos invocarlo:"
   ]
  },
  {
   "cell_type": "code",
   "execution_count": 10,
   "metadata": {},
   "outputs": [
    {
     "name": "stdout",
     "output_type": "stream",
     "text": [
      "Dentro de `mi_metodo` sin argumentos.\n"
     ]
    }
   ],
   "source": [
    "ClaseKk.mi_metodo()  # Invocamos al atributo mi_metodo, en este caso como una función"
   ]
  },
  {
   "cell_type": "markdown",
   "metadata": {},
   "source": [
    "Este atributo `mi_metodo`, ¿será accesible desde una instancia de la clase?"
   ]
  },
  {
   "cell_type": "code",
   "execution_count": 12,
   "metadata": {},
   "outputs": [
    {
     "ename": "TypeError",
     "evalue": "mi_metodo() takes 0 positional arguments but 1 was given",
     "output_type": "error",
     "traceback": [
      "\u001b[1;31m---------------------------------------------------------------------------\u001b[0m",
      "\u001b[1;31mTypeError\u001b[0m                                 Traceback (most recent call last)",
      "\u001b[1;32m<ipython-input-12-9dda351b9db2>\u001b[0m in \u001b[0;36m<module>\u001b[1;34m\u001b[0m\n\u001b[0;32m      1\u001b[0m \u001b[0mkk\u001b[0m \u001b[1;33m=\u001b[0m \u001b[0mClaseKk\u001b[0m\u001b[1;33m(\u001b[0m\u001b[1;33m)\u001b[0m\u001b[1;33m\u001b[0m\u001b[1;33m\u001b[0m\u001b[0m\n\u001b[1;32m----> 2\u001b[1;33m \u001b[0mkk\u001b[0m\u001b[1;33m.\u001b[0m\u001b[0mmi_metodo\u001b[0m\u001b[1;33m(\u001b[0m\u001b[1;33m)\u001b[0m\u001b[1;33m\u001b[0m\u001b[1;33m\u001b[0m\u001b[0m\n\u001b[0m",
      "\u001b[1;31mTypeError\u001b[0m: mi_metodo() takes 0 positional arguments but 1 was given"
     ]
    }
   ],
   "source": [
    "kk = ClaseKk()\n",
    "kk.mi_metodo()"
   ]
  },
  {
   "cell_type": "markdown",
   "metadata": {},
   "source": [
    "Obviamente no. Ya hemos dicho que `kk.mi_metodo()` es el azucar sintáctico de `mi_metodo(kk)` y el método que hemos definido no tiene argumentos."
   ]
  },
  {
   "cell_type": "markdown",
   "metadata": {},
   "source": [
    "Modifiquemos ahora la clase `ClaseKk` para poder usar `mi_metodo` cómo un método de una instancia de la clase:"
   ]
  },
  {
   "cell_type": "code",
   "execution_count": 13,
   "metadata": {},
   "outputs": [
    {
     "name": "stdout",
     "output_type": "stream",
     "text": [
      "Dentro de la clase `ClaseKk`.\n",
      "Dentro de `mi_metodo` con un argumento.\n"
     ]
    }
   ],
   "source": [
    "class ClaseKk:\n",
    "    print('Dentro de la clase `ClaseKk`.')\n",
    "    \n",
    "    def mi_metodo(self):\n",
    "        print('Dentro de `mi_metodo` con un argumento.')\n",
    "\n",
    "        \n",
    "kk = ClaseKk()\n",
    "kk.mi_metodo()"
   ]
  },
  {
   "cell_type": "markdown",
   "metadata": {},
   "source": [
    "Resumiendo, la invocación de un método por parte de una instancia de un objeto funciona de la siguiente forma:\n",
    "> Cuando se invoca a un atributo que no es un dato, se busca en el objeto clase correspondiente un atributo con el mismo nombre. Si se encuentra, se crea un método. La lista de argumentos se modifica incorporando en la primera posición a la propia instancia."
   ]
  }
 ],
 "metadata": {
  "anaconda-cloud": {},
  "kernelspec": {
   "display_name": "Python 3",
   "language": "python",
   "name": "python3"
  },
  "language_info": {
   "codemirror_mode": {
    "name": "ipython",
    "version": 3
   },
   "file_extension": ".py",
   "mimetype": "text/x-python",
   "name": "python",
   "nbconvert_exporter": "python",
   "pygments_lexer": "ipython3",
   "version": "3.7.7"
  },
  "nbpresent": {
   "slides": {
    "1390653e-bdb6-444a-b611-39c60ffb77a1": {
     "id": "1390653e-bdb6-444a-b611-39c60ffb77a1",
     "prev": "5c2c8cc8-3676-4c06-b94c-d3f866ade69b",
     "regions": {
      "620813b3-9326-41e6-9d30-f5ac4f858225": {
       "attrs": {
        "height": 0.8,
        "width": 0.8,
        "x": 0.1,
        "y": 0.1
       },
       "content": {
        "cell": "86423d42-e808-47e6-b1a7-e925e195f821",
        "part": "whole"
       },
       "id": "620813b3-9326-41e6-9d30-f5ac4f858225"
      }
     }
    },
    "21036f68-a492-4532-a832-b213435c0ad2": {
     "id": "21036f68-a492-4532-a832-b213435c0ad2",
     "prev": "2c1c7f11-e5ee-4a25-8975-f0b033ba739a",
     "regions": {
      "a3908958-0784-4faa-ac97-b9325abe8ede": {
       "attrs": {
        "height": 0.8,
        "width": 0.8,
        "x": 0.1,
        "y": 0.1
       },
       "content": {
        "cell": "9aa64747-dc13-4bd9-bf26-73606628ad1c",
        "part": "whole"
       },
       "id": "a3908958-0784-4faa-ac97-b9325abe8ede"
      }
     }
    },
    "2c1c7f11-e5ee-4a25-8975-f0b033ba739a": {
     "id": "2c1c7f11-e5ee-4a25-8975-f0b033ba739a",
     "prev": "f3f10f50-4cad-4149-b308-c66e6a493a72",
     "regions": {
      "9e2d820e-ec17-4915-b960-0e0d5f640379": {
       "attrs": {
        "height": 0.8,
        "width": 0.8,
        "x": 0.1,
        "y": 0.1
       },
       "content": {
        "cell": "0281a659-abae-4cb9-b30f-b552b9db399e",
        "part": "whole"
       },
       "id": "9e2d820e-ec17-4915-b960-0e0d5f640379"
      }
     }
    },
    "30509a9a-dbd8-4dbd-9fab-852a7266d894": {
     "id": "30509a9a-dbd8-4dbd-9fab-852a7266d894",
     "prev": "8b078b7a-c2c6-4129-a19f-2a4f5c4a26f3",
     "regions": {
      "7baa4379-8f84-4d8f-b002-5a5ffd051489": {
       "attrs": {
        "height": 0.8,
        "width": 0.8,
        "x": 0.1,
        "y": 0.1
       },
       "content": {
        "cell": "14d1a927-b37f-4323-9404-17d453f3b487",
        "part": "whole"
       },
       "id": "7baa4379-8f84-4d8f-b002-5a5ffd051489"
      }
     }
    },
    "42d1bd80-265e-4acf-bbc1-b202afddade3": {
     "id": "42d1bd80-265e-4acf-bbc1-b202afddade3",
     "prev": "9bfe6214-4631-45b5-a05e-8923f178bb57",
     "regions": {
      "f2340145-4108-4fed-a0bc-4b91ca6c10ae": {
       "attrs": {
        "height": 0.8,
        "width": 0.8,
        "x": 0.1,
        "y": 0.1
       },
       "content": {
        "cell": "80be6133-d85a-4e43-9964-6578abcbaaac",
        "part": "whole"
       },
       "id": "f2340145-4108-4fed-a0bc-4b91ca6c10ae"
      }
     }
    },
    "5c2c8cc8-3676-4c06-b94c-d3f866ade69b": {
     "id": "5c2c8cc8-3676-4c06-b94c-d3f866ade69b",
     "prev": "6c4bc874-f3fc-472c-a81c-cd415b91c24b",
     "regions": {
      "e1de7ab6-4ef2-4b14-92d7-b174bf32806e": {
       "attrs": {
        "height": 0.8,
        "width": 0.8,
        "x": 0.1,
        "y": 0.1
       },
       "content": {
        "cell": "ae8725fa-30f7-4d7f-a2c2-5f86953d730b",
        "part": "whole"
       },
       "id": "e1de7ab6-4ef2-4b14-92d7-b174bf32806e"
      }
     }
    },
    "5cab5674-74dc-4378-93d7-eaa79e90cdae": {
     "id": "5cab5674-74dc-4378-93d7-eaa79e90cdae",
     "prev": "ba274d18-2760-4e55-ad47-2727b824fd00",
     "regions": {
      "2178d7cf-bf1e-4850-95a2-1509f15febfa": {
       "attrs": {
        "height": 0.8,
        "width": 0.8,
        "x": 0.1,
        "y": 0.1
       },
       "content": {
        "cell": "5d433d13-f44a-45bb-91fd-406f60b33b67",
        "part": "whole"
       },
       "id": "2178d7cf-bf1e-4850-95a2-1509f15febfa"
      }
     }
    },
    "638df7e1-84d1-4fd4-a15c-c94b731d1bea": {
     "id": "638df7e1-84d1-4fd4-a15c-c94b731d1bea",
     "prev": "b9dddf99-da24-46e1-81d4-8ac33b6fc3a3",
     "regions": {
      "deba8b1f-d997-4426-8f1b-978df7f19b41": {
       "attrs": {
        "height": 0.8,
        "width": 0.8,
        "x": 0.1,
        "y": 0.1
       },
       "content": {
        "cell": "7adaaf8f-a83e-456b-b99a-d3b3d4cb6d1a",
        "part": "whole"
       },
       "id": "deba8b1f-d997-4426-8f1b-978df7f19b41"
      }
     }
    },
    "6bda9eb4-0724-4e53-9971-131d0cb5f9e2": {
     "id": "6bda9eb4-0724-4e53-9971-131d0cb5f9e2",
     "prev": "ee33e624-cd65-4b8c-b28b-c95623a56dbf",
     "regions": {
      "feffbbd2-27d1-4318-8359-7d57583ee2bc": {
       "attrs": {
        "height": 0.8,
        "width": 0.8,
        "x": 0.1,
        "y": 0.1
       },
       "content": {
        "cell": "8dce188c-36b7-41fa-9020-b5cb5502e452",
        "part": "whole"
       },
       "id": "feffbbd2-27d1-4318-8359-7d57583ee2bc"
      }
     }
    },
    "6c4bc874-f3fc-472c-a81c-cd415b91c24b": {
     "id": "6c4bc874-f3fc-472c-a81c-cd415b91c24b",
     "prev": null,
     "regions": {
      "c9eac7e8-d033-4b03-8bf7-abd58ffe8d41": {
       "attrs": {
        "height": 0.8,
        "width": 0.8,
        "x": 0.1,
        "y": 0.1
       },
       "content": {
        "cell": "71219fc3-c9cb-4700-9f0b-ab38b1b223da",
        "part": "whole"
       },
       "id": "c9eac7e8-d033-4b03-8bf7-abd58ffe8d41"
      }
     }
    },
    "6d7ab34f-9d99-4c74-9877-27b25abc73f0": {
     "id": "6d7ab34f-9d99-4c74-9877-27b25abc73f0",
     "prev": "febe7de9-9362-4079-bfe9-2d4dfddf00e2",
     "regions": {
      "2ee252de-db5f-43e7-b4b7-7f59bba29962": {
       "attrs": {
        "height": 0.8,
        "width": 0.8,
        "x": 0.1,
        "y": 0.1
       },
       "content": {
        "cell": "85d1ab90-cc65-4935-808b-a6f57ecc892e",
        "part": "whole"
       },
       "id": "2ee252de-db5f-43e7-b4b7-7f59bba29962"
      }
     }
    },
    "7ea582c3-439d-4ec2-9f27-dea18bcacc31": {
     "id": "7ea582c3-439d-4ec2-9f27-dea18bcacc31",
     "prev": "f0727a74-61a1-48c1-94a5-3e7490c29f0b",
     "regions": {
      "652960af-b61f-4c36-b122-3eacd714867b": {
       "attrs": {
        "height": 0.8,
        "width": 0.8,
        "x": 0.1,
        "y": 0.1
       },
       "content": {
        "cell": "86172e20-fe16-447d-859f-24a81e563011",
        "part": "whole"
       },
       "id": "652960af-b61f-4c36-b122-3eacd714867b"
      }
     }
    },
    "8b078b7a-c2c6-4129-a19f-2a4f5c4a26f3": {
     "id": "8b078b7a-c2c6-4129-a19f-2a4f5c4a26f3",
     "prev": "5cab5674-74dc-4378-93d7-eaa79e90cdae",
     "regions": {
      "dce1e605-9342-414d-b8c6-7dcb922fbf47": {
       "attrs": {
        "height": 0.8,
        "width": 0.8,
        "x": 0.1,
        "y": 0.1
       },
       "content": {
        "cell": "ee1bdf03-6e13-4f1f-9dc9-22d4e344fdba",
        "part": "whole"
       },
       "id": "dce1e605-9342-414d-b8c6-7dcb922fbf47"
      }
     }
    },
    "999513ad-b53e-4d84-b9ef-ed37967f74d6": {
     "id": "999513ad-b53e-4d84-b9ef-ed37967f74d6",
     "prev": "638df7e1-84d1-4fd4-a15c-c94b731d1bea",
     "regions": {
      "2e85c1b2-3c30-413e-9b0f-141281da3a2a": {
       "attrs": {
        "height": 0.8,
        "width": 0.8,
        "x": 0.1,
        "y": 0.1
       },
       "content": {
        "cell": "998dc7f5-ab6d-4fb8-866f-4fa96a06aaaa",
        "part": "whole"
       },
       "id": "2e85c1b2-3c30-413e-9b0f-141281da3a2a"
      }
     }
    },
    "9add3d79-8621-4167-8e1d-d4ae48fba71b": {
     "id": "9add3d79-8621-4167-8e1d-d4ae48fba71b",
     "prev": "7ea582c3-439d-4ec2-9f27-dea18bcacc31",
     "regions": {
      "d5f4537e-4d8c-4179-b14b-6c475f50b04e": {
       "attrs": {
        "height": 0.8,
        "width": 0.8,
        "x": 0.1,
        "y": 0.1
       },
       "content": {
        "cell": "9659b1c1-9aed-4d71-b830-4a60d408ad71",
        "part": "whole"
       },
       "id": "d5f4537e-4d8c-4179-b14b-6c475f50b04e"
      }
     }
    },
    "9bfe6214-4631-45b5-a05e-8923f178bb57": {
     "id": "9bfe6214-4631-45b5-a05e-8923f178bb57",
     "prev": "30509a9a-dbd8-4dbd-9fab-852a7266d894",
     "regions": {
      "aac53254-d149-49f2-8f92-670c6f2714bb": {
       "attrs": {
        "height": 0.8,
        "width": 0.8,
        "x": 0.1,
        "y": 0.1
       },
       "content": {
        "cell": "c71a78d7-9d0e-4825-9c84-9998f971317d",
        "part": "whole"
       },
       "id": "aac53254-d149-49f2-8f92-670c6f2714bb"
      }
     }
    },
    "b9dddf99-da24-46e1-81d4-8ac33b6fc3a3": {
     "id": "b9dddf99-da24-46e1-81d4-8ac33b6fc3a3",
     "prev": "1390653e-bdb6-444a-b611-39c60ffb77a1",
     "regions": {
      "0b31dbb4-f15b-4a16-9420-c5dc8ed4e871": {
       "attrs": {
        "height": 0.8,
        "width": 0.8,
        "x": 0.1,
        "y": 0.1
       },
       "content": {
        "cell": "d0569bb0-fad8-48b7-8d48-0066bfb90401",
        "part": "whole"
       },
       "id": "0b31dbb4-f15b-4a16-9420-c5dc8ed4e871"
      }
     }
    },
    "ba274d18-2760-4e55-ad47-2727b824fd00": {
     "id": "ba274d18-2760-4e55-ad47-2727b824fd00",
     "prev": "ed47079d-58cf-4b87-a9fa-a709d8a7c3c6",
     "regions": {
      "13000b51-bd66-4fb5-970b-20bfad440880": {
       "attrs": {
        "height": 0.8,
        "width": 0.8,
        "x": 0.1,
        "y": 0.1
       },
       "content": {
        "cell": "f6847886-4044-43a7-9edd-f18efddcb7a9",
        "part": "whole"
       },
       "id": "13000b51-bd66-4fb5-970b-20bfad440880"
      }
     }
    },
    "ed47079d-58cf-4b87-a9fa-a709d8a7c3c6": {
     "id": "ed47079d-58cf-4b87-a9fa-a709d8a7c3c6",
     "prev": "9add3d79-8621-4167-8e1d-d4ae48fba71b",
     "regions": {
      "a96aea94-1714-4020-83f9-dbc03e9fd55e": {
       "attrs": {
        "height": 0.8,
        "width": 0.8,
        "x": 0.1,
        "y": 0.1
       },
       "content": {
        "cell": "5a579720-fa62-4525-85e3-dd049cbd73be",
        "part": "whole"
       },
       "id": "a96aea94-1714-4020-83f9-dbc03e9fd55e"
      }
     }
    },
    "ee33e624-cd65-4b8c-b28b-c95623a56dbf": {
     "id": "ee33e624-cd65-4b8c-b28b-c95623a56dbf",
     "prev": "999513ad-b53e-4d84-b9ef-ed37967f74d6",
     "regions": {
      "325ae98d-0855-4d16-8408-6d12f47efa24": {
       "attrs": {
        "height": 0.8,
        "width": 0.8,
        "x": 0.1,
        "y": 0.1
       },
       "content": {
        "cell": "829150e0-712b-4739-92d6-37b9c3d789cb",
        "part": "whole"
       },
       "id": "325ae98d-0855-4d16-8408-6d12f47efa24"
      }
     }
    },
    "f0727a74-61a1-48c1-94a5-3e7490c29f0b": {
     "id": "f0727a74-61a1-48c1-94a5-3e7490c29f0b",
     "prev": "6d7ab34f-9d99-4c74-9877-27b25abc73f0",
     "regions": {
      "1666081e-448d-4f80-90f2-9f26f1568cdc": {
       "attrs": {
        "height": 0.8,
        "width": 0.8,
        "x": 0.1,
        "y": 0.1
       },
       "content": {
        "cell": "d99a804c-9444-418b-bc94-3c2f064e2844",
        "part": "whole"
       },
       "id": "1666081e-448d-4f80-90f2-9f26f1568cdc"
      }
     }
    },
    "f3f10f50-4cad-4149-b308-c66e6a493a72": {
     "id": "f3f10f50-4cad-4149-b308-c66e6a493a72",
     "prev": "42d1bd80-265e-4acf-bbc1-b202afddade3",
     "regions": {
      "4fc1185f-bdb8-46fc-99bd-b8d30defeca9": {
       "attrs": {
        "height": 0.8,
        "width": 0.8,
        "x": 0.1,
        "y": 0.1
       },
       "content": {
        "cell": "9b7597e9-aaa9-4d9f-ba0d-22f43d1a3900",
        "part": "whole"
       },
       "id": "4fc1185f-bdb8-46fc-99bd-b8d30defeca9"
      }
     }
    },
    "febe7de9-9362-4079-bfe9-2d4dfddf00e2": {
     "id": "febe7de9-9362-4079-bfe9-2d4dfddf00e2",
     "prev": "6bda9eb4-0724-4e53-9971-131d0cb5f9e2",
     "regions": {
      "42348103-1cd6-4bac-b346-33cd41aea444": {
       "attrs": {
        "height": 0.8,
        "width": 0.8,
        "x": 0.1,
        "y": 0.1
       },
       "content": {
        "cell": "35a148d4-f201-4441-bf5e-8a07f93dea84",
        "part": "whole"
       },
       "id": "42348103-1cd6-4bac-b346-33cd41aea444"
      }
     }
    }
   },
   "themes": {}
  }
 },
 "nbformat": 4,
 "nbformat_minor": 2
}
