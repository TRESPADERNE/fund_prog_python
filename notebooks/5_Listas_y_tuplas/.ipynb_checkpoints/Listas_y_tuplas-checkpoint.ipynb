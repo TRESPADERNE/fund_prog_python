{
 "cells": [
  {
   "cell_type": "markdown",
   "metadata": {},
   "source": [
    "# Listas y tuplas\n",
    "**Autores**: Rogelio Mazaeda Echevarría, Félix Miguel Trespaderne.   "
   ]
  },
  {
   "cell_type": "markdown",
   "metadata": {},
   "source": [
    "## Contenidos\n",
    "[Contenedores de datos](#Contenedores_de_datos)<br>\n",
    "[Listas](#Listas_)<br>\n",
    "[Operadores para listas](#Operadores_para_listas)<br>\n",
    "[Funciones nativas y listas](#Funciones_nativas_y_listas)<br>\n",
    "[Métodos de las listas](#Métodos_de_las_listas)<br>\n",
    "[Creación de listas](#Creación_de_listas)<br>\n",
    "[Modificando una lista](#Modificando_una_lista)<br>\n",
    "[Obteniendo información de una lista](#Obteniendo_información_de_una_lista)<br>\n",
    "[Cadenas de caracteres (`str`) como colecciones secuenciales](#Cadenas_de_caracteres_como_colecciones_secuenciales)<br>\n",
    "[Tuplas](#Tuplas)"
   ]
  },
  {
   "cell_type": "markdown",
   "metadata": {},
   "source": [
    "***\n",
    "<a id='Contenedores_de_datos'></a>"
   ]
  },
  {
   "cell_type": "markdown",
   "metadata": {},
   "source": [
    "## Contenedores de datos\n",
    "\n",
    "En muchas aplicaciones resulta conveniente ser capaz de almacenar en memoria, para luego manipular a conveniencia y de forma consistente, un determinado conjunto de datos. \n",
    "\n",
    "Hasta el momento, hemos introducido tipos de datos **escalares**, `int`, `float`, `complex`, `bool` y `str`, datos que conceptualmente contienen un único valor. Pero, supongamos por un momento, que se desea retener un conjunto de 5 enteros en memoria, para luego  manipularlos, posiblemente de diversas formas: sumándolos, o hallando el máximo de los mismos, o graficándolos, etc. \n",
    "\n",
    "Con lo visto hasta ahora el recurso lógico es definir 5 variables enteras y tratarlas individualmente.\n",
    "```python\n",
    "    a0 = 10\n",
    "    a1 = 5\n",
    "    a2 = 1\n",
    "    a3 = 130\n",
    "    a4 = -2\n",
    "    \n",
    "    suma = a0 + a1 + a2 + a3 + a4\n",
    "```\n",
    "¿Qué pasa si ahora se necesitaran 100 variables? Habría que crear otras tantas variables, con nombres diferentes y extender el código previo manteniendo la idea básica. Algo impracticable.\n",
    "\n",
    "En Python los objetos de tipo **contenedor** (**container**) o **colecciones** (**collections**) cubren esa necesidad. \n",
    "\n",
    "### Contenedores en Python\n",
    "\n",
    "Todos los lenguajes de programación brindan la posibilidad de trabajar con colecciones de datos de una forma consistente. Por ejemplo, en C/C++ se tiene el concepto de vector (*array*).\n",
    "\n",
    "Python ofrece un conjunto de opciones muy efectivas y flexibles para resolver este tipo de problemas. Permiten  representar **colecciones** o tipos de datos **contenedores** de forma nativa. \n",
    "\n",
    "Los tipos contenedor más relevantes son:\n",
    "\n",
    "| Tipo    | Ejemplo                   |Descripción                            |\n",
    "|:--------|:--------------------------|:--------------------------------------|\n",
    "| `list`  | ``[1, 2, 3]``             | Colección ordenada (mutable)          |\n",
    "| `tuple` | ``(1, 2, 3)``             | Colección ordenada (inmutable)        |\n",
    "| `dict`  | ``{'a':1, 'b':2, 'c':3}`` | Tabla asociativa (clave, valor)       |\n",
    "| `set`   | ``{1, 2, 3}``             | Colección sin orden de valores únicos |\n",
    "\n",
    "El uso de corchetes (**listas**), paréntesis (**tuplas**) o llaves (**diccionarios** y **conjuntos**) marca el tipo de contenedor.\n",
    "\n",
    "La anterior tabla no agota todas las posibilidades, aunque si recoge los tipos contenedores más importantes. Un tipo de dato que ya conocemos, la cadena de caracteres (`str`), puede ser vista también como una colección de caracteres alfanuméricos.\n",
    "\n",
    "De todas las anteriores, la **lista**, tipo `list`, es el tipo de datos contenedor más importante. Iremos introduciendo más adelante el resto de colecciones."
   ]
  },
  {
   "cell_type": "markdown",
   "metadata": {},
   "source": [
    "***\n",
    "<a id='Listas_'></a>"
   ]
  },
  {
   "cell_type": "markdown",
   "metadata": {},
   "source": [
    "## Listas\n",
    "En la siguiente celda, se define una variable **lista** llamada `lista_enteros` asignándola una **colección** de valores caracterizada por: \n",
    "* una **secuencia** de literales enteros\n",
    "* **separados por comas**\n",
    "* **delimitados por corchetes**"
   ]
  },
  {
   "cell_type": "code",
   "execution_count": 36,
   "metadata": {},
   "outputs": [
    {
     "name": "stdout",
     "output_type": "stream",
     "text": [
      "[10, 5, 1, 130, -2]\n"
     ]
    }
   ],
   "source": [
    "lista_enteros = [10, 5, 1, 130, -2]\n",
    "print(lista_enteros)"
   ]
  },
  {
   "cell_type": "markdown",
   "metadata": {},
   "source": [
    "El concepto de lista impone necesariamente una relación de **orden**, una **secuencia**.\n",
    "\n",
    "Observe además que la variable de tipo **lista** puede ser enviada como argumento real a la función `print()` que la interpreta correctamente y la saca por la consola de la forma esperada.\n",
    "\n",
    "La variable `lista_enteros` representa a la colección completa. Pero este recurso del lenguaje no sería tan útil si no permitiera el acceso individual a cada uno de los enteros *contenidos* en la colección."
   ]
  },
  {
   "cell_type": "markdown",
   "metadata": {},
   "source": [
    "### Indexación\n",
    "Véase el ejemplo siguiente (se debe haber ejecutado antes la celda previa):"
   ]
  },
  {
   "cell_type": "code",
   "execution_count": 37,
   "metadata": {},
   "outputs": [
    {
     "name": "stdout",
     "output_type": "stream",
     "text": [
      "10 5 -2 -2\n"
     ]
    }
   ],
   "source": [
    "print(lista_enteros[0], lista_enteros[1], lista_enteros[4], lista_enteros[-1])"
   ]
  },
  {
   "cell_type": "markdown",
   "metadata": {},
   "source": [
    "En la celda anterior, en lugar de enviar a `print()` la colección completa, se envían algunos de los enteros contenidos.\n",
    "\n",
    "Para acceder a un miembro individual de la lista:\n",
    "* se utiliza un **índice**, siempre de tipo entero, que indica la posición del dato miembro dentro de la colección.\n",
    "* el índice se pone entre corchetes\n",
    "* al primer elemento de la secuencia le corresponde siempre el valor 0\n",
    "\n",
    "Si se intenta acceder a un elemento no existente dentro de la colección se produce un error en tiempo de ejecución:"
   ]
  },
  {
   "cell_type": "code",
   "execution_count": 38,
   "metadata": {},
   "outputs": [
    {
     "ename": "IndexError",
     "evalue": "list index out of range",
     "output_type": "error",
     "traceback": [
      "\u001b[1;31m---------------------------------------------------------------------------\u001b[0m",
      "\u001b[1;31mIndexError\u001b[0m                                Traceback (most recent call last)",
      "\u001b[1;32m<ipython-input-38-37598d61b739>\u001b[0m in \u001b[0;36m<module>\u001b[1;34m\u001b[0m\n\u001b[1;32m----> 1\u001b[1;33m \u001b[0mprint\u001b[0m\u001b[1;33m(\u001b[0m\u001b[0mlista_enteros\u001b[0m\u001b[1;33m[\u001b[0m\u001b[1;36m5\u001b[0m\u001b[1;33m]\u001b[0m\u001b[1;33m)\u001b[0m\u001b[1;33m\u001b[0m\u001b[1;33m\u001b[0m\u001b[0m\n\u001b[0m",
      "\u001b[1;31mIndexError\u001b[0m: list index out of range"
     ]
    }
   ],
   "source": [
    "print(lista_enteros[5])"
   ]
  },
  {
   "cell_type": "markdown",
   "metadata": {},
   "source": [
    "A diferencia de otros lenguajes, Python permite que el índice pueda especificarse también desde la derecha, utilizando enteros negativos: en ese caso el índice `-1` hace referencia al último elemento de la lista (o al primero desde la izquierda). Vea el siguiente esquema:\n",
    "\n",
    "![Listas1.jpg](img/Listas1.jpg)\n",
    "\n",
    "Dado que una lista implementa una **secuencia**, el elemento de índice *i* aparece siempre antes que el elemento *i+1* si se está *recorriendo* la lista desde la *izquierda*."
   ]
  },
  {
   "cell_type": "markdown",
   "metadata": {},
   "source": [
    "### Mutabilidad\n",
    "Una lista es, además, una colección **mutable**. Esto quiere decir que se pueden:\n",
    "* modificar los elementos de la lista\n",
    "* borrar determinados elementos\n",
    "* añadir elementos nuevos\n",
    "* etc.\n",
    "\n",
    "En la celda siguiente, se modifica el elemento de índice `0` de `lista` (que aparece a la izquierda de la asignación) por el valor que resulta de la suma de los elementos de índice `1` y `2` (el segundo y el tercer elemento desde la izquierda). Luego se le añade el valor `4`. Podemos observar mediante la función `id()` que la identidad del objeto no ha cambiado, pero su valor sí."
   ]
  },
  {
   "cell_type": "code",
   "execution_count": 2,
   "metadata": {},
   "outputs": [
    {
     "name": "stdout",
     "output_type": "stream",
     "text": [
      "2409751788360\n",
      "2409751788360\n",
      "[3, 1, 2, 3, 4]\n"
     ]
    }
   ],
   "source": [
    "lista = [0, 1, 2, 3]\n",
    "print(id(lista))\n",
    "lista[0] = lista[1] + lista[2]\n",
    "lista.append(4)\n",
    "print(id(lista))\n",
    "print(lista)"
   ]
  },
  {
   "cell_type": "markdown",
   "metadata": {},
   "source": [
    "### (*) Elementos con tipos heterogéneos\n",
    "Las listas no necesariamente tienen que contener elementos del mismo tipo de dato. Aún más, un elemento de la lista puede ser a su vez otra lista (**listas anidadas**) u otro tipo de colección. Véase siguiente ejemplo:"
   ]
  },
  {
   "cell_type": "code",
   "execution_count": 3,
   "metadata": {},
   "outputs": [
    {
     "name": "stdout",
     "output_type": "stream",
     "text": [
      "Asignatura Fundamentos de Programación Curso 1\n",
      "Notas: [10.0, 7.8, 6.7, 9.5, 3.3, 7.5, 6.3, 0.5, 4.2, 7.1]\n"
     ]
    }
   ],
   "source": [
    "notas = [\"Fundamentos de Programación\", 1, [10.0, 7.8, 6.7, 9.5, 3.3, 7.5, 6.3, 0.5, 4.2, 7.1]]\n",
    "print(\"Asignatura\", notas[0], \"Curso\", notas[1])\n",
    "print(\"Notas:\", notas[2])"
   ]
  },
  {
   "cell_type": "markdown",
   "metadata": {},
   "source": [
    "La lista asignada a la variable `notas` tiene:\n",
    "* como primer elemento (índice `0`) una cadena de caracteres (`str`)\n",
    "* como segundo elemento (índice `1`) un entero (`int`)\n",
    "* como tercer elemento (índice `2`) una lista (`list`) cuyos elementos, en este caso particular, son todos de tipo `float`. En este caso, podrían ser las notas de 10 alumnos. \n",
    "\n",
    "Para las listas con elementos homogéneos, el equivalente en C/C++ sería el _array_. En el caso de elementos de diferente tipo, la equivalencia podría asimilarse a las *estructuras* de C/C++ (también denominadas como *registros* en otros lenguajes de programación).\n",
    "\n",
    "Si se quisiera acceder a las notas del cuarto alumno, observe la sintaxis, que involucra el uso de dos corchetes:\n",
    "* con el primero se accede al tercer elemento de la lista original\n",
    "* con el segundo al cuarto elemento de la sublista resultante"
   ]
  },
  {
   "cell_type": "code",
   "execution_count": null,
   "metadata": {},
   "outputs": [],
   "source": [
    "notas[2][3]"
   ]
  },
  {
   "cell_type": "markdown",
   "metadata": {},
   "source": [
    "Otra forma de ver el resultado anterior es crear una variable para obtener la sublista y luego acceder a la nota:"
   ]
  },
  {
   "cell_type": "code",
   "execution_count": null,
   "metadata": {},
   "outputs": [],
   "source": [
    "listado_notas = notas[2]\n",
    "print(listado_notas[3])"
   ]
  },
  {
   "cell_type": "markdown",
   "metadata": {},
   "source": [
    "Ya hemos comprobado que la función `print()` *sabe* como imprimir listas en la consola de salida o pantalla.\n",
    "\n",
    "Python dispone de operadores y funciones nativas que permiten realizar tareas útiles con ellas. Como cualquier variable en Python, las listas son objetos que disponen de métodos para acceder y/o modificar su estado si es preciso."
   ]
  },
  {
   "cell_type": "markdown",
   "metadata": {},
   "source": [
    "***\n",
    "<a id='Operadores_para_listas'></a>"
   ]
  },
  {
   "cell_type": "markdown",
   "metadata": {},
   "source": [
    "## Operadores para listas \n",
    "Los siguientes operadores son **reinterpretados** o (**sobrecargados**) para trabajar con listas:\n",
    "\n",
    "* Operadores de *creación* de nuevas listas\n",
    "\n",
    "| Operador |Descripción                                                                  |\n",
    "|:--------:|:----------------------------------------------------------------------------|\n",
    "|     `+`  | Concatena listas                                                            |\n",
    "| `+=`     | Añade lista a lista existente                                               |\n",
    "| `*`      | Crea nueva lista a partir de repetir un número de veces una lista existente |\n",
    "\n",
    "* Operadores de comparación\n",
    "\n",
    "| Operador |Descripción                                                               |\n",
    "|:--------:|:-------------------------------------------------------------------------|\n",
    "|    `==`  | `True` si las listas son iguales                                         |\n",
    "| `!=`     | `True` si las listas son desiguales                                      |\n",
    "| `>`      | `True` si lista a la izquierda es mayor que lista a la derecha           |\n",
    "| `>=`     | `True` si lista a la izquierda es mayor o igual que lista a la derecha   |\n",
    "| `<`      | `False` si lista a la izquierda es menor que lista a la derecha          |\n",
    "| `<=`     | `False` si lista a la izquierda es menor o igual que lista a la derecha  |\n",
    "    \n",
    "* Operadores de pertenencia\n",
    "\n",
    "| Operador |Descripción                                          |\n",
    "|:--------:|:----------------------------------------------------|\n",
    "|    `in`  | `True` si el elemento está contenido en la lista    |\n",
    "| `not in` | `True` si el elemento no está contenido en la lista |   "
   ]
  },
  {
   "cell_type": "markdown",
   "metadata": {},
   "source": [
    "***\n",
    "<a id='Funciones_nativas_y_listas'></a>"
   ]
  },
  {
   "cell_type": "markdown",
   "metadata": {},
   "source": [
    "## Funciones nativas y listas\n",
    "Una relación no completa:\n",
    "\n",
    "* Funciones generales que también aceptan listas:\n",
    "\n",
    "| Función  |Descripción                                 |\n",
    "|:---------|:-------------------------------------------|\n",
    "| `print()`| Saca la lista por consola                  |\n",
    "| `type()` | Aplicada a la lista la identifica como tal |   \n",
    "\n",
    "* Funciones específicas para listas (o colecciones similares):\n",
    "\n",
    "| Función    |Descripción                               |\n",
    "|:-----------|:-----------------------------------------|\n",
    "| `len()`    | Devuelve el número de elementos          |\n",
    "| `list()`   | Crea una lista a partir de una secuencia |\n",
    "| `sorted()` | Ordena la lista                          |   \n",
    "| `max()`    | Determina el máximo                      |   \n",
    "| `min()`    | Determina el mínimo                      |   "
   ]
  },
  {
   "cell_type": "markdown",
   "metadata": {},
   "source": [
    "***\n",
    "<a id='Métodos_de_las_listas'></a>"
   ]
  },
  {
   "cell_type": "markdown",
   "metadata": {},
   "source": [
    "## Métodos de las listas\n",
    "\n",
    "Las listas, como cualquier entidad en Python, son objetos. Por tanto, se puede modificar u obtener información de una lista recurriendo a los métodos definidos para este tipo de objeto.\n",
    "\n",
    "| Método       |Descripción                                          |\n",
    "|:-------------|:----------------------------------------------------|\n",
    "| `.append()`  | Añade un único elemento al final de la lista        |\n",
    "| `.extend()`  | Añade varios elementos al final de la lista         |   \n",
    "| `.insert()`  | Inserta elemento en posición indicada               |   \n",
    "| `.pop()`     | Elimina elemento al final de la lista               |    \n",
    "| `.remove()`  | Elimina elemento indicado de la lista               |    \n",
    "| `.clear()`   | Borra todos los elementos de la lista               |    \n",
    "| `.copy()`    | Realiza una copia superficial                       |    \n",
    "| `.count()`   | Cuenta apariciones de un elemento                   |    \n",
    "| `.index()`   | Devuelve el índice de primera aparición de elemento |    \n",
    "| `.reverse()` | Invierte la secuencia de la lista                   |    \n",
    "| `.sort()`    | Ordena la lista                                     |   \n",
    "\n",
    "Puede consultarse [aquí](https://docs.python.org/3.8/tutorial/datastructures.html) una lista completa de los métodos de los objetos `list`."
   ]
  },
  {
   "cell_type": "markdown",
   "metadata": {},
   "source": [
    "***\n",
    "<a id='Creación_de_listas'></a>"
   ]
  },
  {
   "cell_type": "markdown",
   "metadata": {},
   "source": [
    "## Creación de listas\n",
    "Las listas pueden ser creadas de diferentes formas. Previamente hemos visto algunas de ellas, en lo que sigue veremos algunas otras."
   ]
  },
  {
   "cell_type": "markdown",
   "metadata": {},
   "source": [
    "### De forma explícita"
   ]
  },
  {
   "cell_type": "code",
   "execution_count": null,
   "metadata": {},
   "outputs": [],
   "source": [
    "# Asignando valores con la sintaxis habitual\n",
    "x = 1.1\n",
    "y = 2.3\n",
    "z = 5.0\n",
    "num_reales = [x, y, z]"
   ]
  },
  {
   "cell_type": "markdown",
   "metadata": {},
   "source": [
    "### Mediante la función nativa `range()`\n",
    "La función nativa `range()` genera un objeto que consiste en una **secuencia** de enteros. Admite diferente número de argumentos:\n",
    "* cuando es utilizada con dos argumentos enteros, `range(start, stop)`, es capaz de *generar* todos los enteros en el intervalo semiabierto $[start, stop)$.\n",
    "* si se usa un solo argumento, `range(stop)`, entonces se generan los enteros en el intervalo $[0, stop)$.\n",
    "* en su forma más general, con tres argumentos, `range(start, stop[, step])`,  el argumento `step` indica el incremento o paso entre un entero y el siguiente. Por defecto tiene el valor 1."
   ]
  },
  {
   "cell_type": "code",
   "execution_count": 3,
   "metadata": {},
   "outputs": [
    {
     "name": "stdout",
     "output_type": "stream",
     "text": [
      "[20, 22, 24, 26, 28]\n",
      "[30, 28, 26, 24, 22]\n"
     ]
    }
   ],
   "source": [
    "# Creación de listas de enteros utilizando la función list() y el generador range()\n",
    "a = list(range(20, 30, 2))\n",
    "print(a)\n",
    "a = list(range(30, 20, -2))\n",
    "print(a)"
   ]
  },
  {
   "cell_type": "markdown",
   "metadata": {},
   "source": [
    "### Concatenando listas\n",
    "Para ello se usan los operadores `+` o `+=`."
   ]
  },
  {
   "cell_type": "code",
   "execution_count": null,
   "metadata": {},
   "outputs": [],
   "source": [
    "# Concatenando listas\n",
    "a = [1, 4, 10] + [5, 6] + [1, 0]\n",
    "print(a)\n",
    "a += a\n",
    "print(a)"
   ]
  },
  {
   "cell_type": "markdown",
   "metadata": {},
   "source": [
    "### Repitiendo una lista un número de veces"
   ]
  },
  {
   "cell_type": "markdown",
   "metadata": {},
   "source": [
    "También se define la multiplicación (operador `*`) de una lista por un entero $n$. El resultado es la repetición de la lista $n$ veces. Resulta un recurso conveniente para **inicializar** una lista de tamaño conocido con un valor o un patrón dado."
   ]
  },
  {
   "cell_type": "code",
   "execution_count": 1,
   "metadata": {},
   "outputs": [
    {
     "name": "stdout",
     "output_type": "stream",
     "text": [
      "Una lista de 10 elementos inicializada a 0:\n",
      "[0, 0, 0, 0, 0, 0, 0, 0, 0, 0]\n"
     ]
    }
   ],
   "source": [
    "num = 10\n",
    "lista = [0]*num\n",
    "print(\"Una lista de {} elementos inicializada a 0:\\n{}\".format(num, lista))"
   ]
  },
  {
   "cell_type": "markdown",
   "metadata": {},
   "source": [
    "***\n",
    "<a id='Modificando_una_lista'></a>"
   ]
  },
  {
   "cell_type": "markdown",
   "metadata": {},
   "source": [
    "## Modificando una lista"
   ]
  },
  {
   "cell_type": "markdown",
   "metadata": {},
   "source": [
    "### Añadiendo elementos\n",
    "El método `.append()` invocado desde un objeto lista concreta añade **un único elemento** al final de la lista (dicho elemento podría ser otra lista). El método `.extend()` permite *extender* la lista aplicando varios elementos a la vez. "
   ]
  },
  {
   "cell_type": "code",
   "execution_count": 9,
   "metadata": {},
   "outputs": [
    {
     "name": "stdout",
     "output_type": "stream",
     "text": [
      "[1, 3, 2, 'hola']\n"
     ]
    }
   ],
   "source": [
    "# Creando una lista vacía e ir añadiendo elementos mediante métodos append() y/o extend()\n",
    "a = [] # ¡Lista vacía!\n",
    "a.append(1)\n",
    "a.extend([3, 2, 'hola'])\n",
    "print(a)"
   ]
  },
  {
   "cell_type": "markdown",
   "metadata": {},
   "source": [
    "#### Mediante el operador `+=`\n",
    "También se pueden utilizar la sentencia compuesta de asignación `+=`, para añadir elementos al final de una lista, como se muestra a continuación:"
   ]
  },
  {
   "cell_type": "code",
   "execution_count": 6,
   "metadata": {},
   "outputs": [
    {
     "name": "stdout",
     "output_type": "stream",
     "text": [
      "[1, 2, 3]\n"
     ]
    }
   ],
   "source": [
    "a = []\n",
    "a += [1, 2, 3]\n",
    "print(a)"
   ]
  },
  {
   "cell_type": "markdown",
   "metadata": {},
   "source": [
    "### Insertando elementos en una posición arbitraria\n",
    "Se hace uso del método ```.insert()``` que posee dos parámetros, la posición (un entero) y el elemento único a insertar (si elemento es a su vez una lista, se inserta como una sub-lista)."
   ]
  },
  {
   "cell_type": "code",
   "execution_count": 10,
   "metadata": {},
   "outputs": [
    {
     "name": "stdout",
     "output_type": "stream",
     "text": [
      "[1, 3, 2]\n"
     ]
    }
   ],
   "source": [
    "a = [1,2]\n",
    "a.insert(1,3)\n",
    "print(a)"
   ]
  },
  {
   "cell_type": "markdown",
   "metadata": {},
   "source": [
    "### Borrando elementos de la lista\n",
    "\n",
    "La función `del()` tiene el propósito de borrar valores de la memoria del ordenador. Puede aplicarse a variables simples (tipo `int`, `float`, etc) y a variables que representan colecciones o secuencias.\n",
    "\n",
    "Si se aplican a la lista en su conjunto, la borran completamente de la memoria del ordenador, de forma que cualquier acceso posterior a ella daría un error de ejecución.\n",
    "\n",
    "Pero la función `del()`también puede ser usada para borrar elementos concretos de la lista de la forma que se muestra a continuación:"
   ]
  },
  {
   "cell_type": "code",
   "execution_count": 12,
   "metadata": {},
   "outputs": [
    {
     "name": "stdout",
     "output_type": "stream",
     "text": [
      "['lista', 'sueltas', 'representadas', 'por', 'cadenas']\n"
     ]
    }
   ],
   "source": [
    "a = [\"lista\", \"palabras\", \"sueltas\", \"representadas\", \"por\", \"cadenas\"]\n",
    "del a[1]\n",
    "print(a)"
   ]
  },
  {
   "cell_type": "markdown",
   "metadata": {},
   "source": [
    "Otros tres métodos nos permiten borrar elementos:\n",
    "* `.pop()` reduce el tamaño de la misma en uno, eliminando el último elemento si se pasa sin argumentos o el elemento cuya posición es indicada en el argumento. A diferencia de `del()`, este método devuelve el elemento eliminado.\n",
    "* `.remove()` permite borrar la primera aparición del elemento que se pasa como parámetro.\n",
    "* `.clear()` borra todo el contenido de la lista, haciendo que esta al final esté vacía."
   ]
  },
  {
   "cell_type": "code",
   "execution_count": 24,
   "metadata": {},
   "outputs": [
    {
     "name": "stdout",
     "output_type": "stream",
     "text": [
      "Con pop() hemos eliminado el elemento 'cadenas'.\n",
      "Con pop(2) hemos eliminado el elemento 'sueltas'.\n",
      "Usando remove('palabras') eliminamos el primer elemento que coincide con 'palabras'\n",
      "['lista', 'representadas', 'por']\n",
      "Con clear() la lista se vacía. []\n"
     ]
    }
   ],
   "source": [
    "lista = [\"lista\", \"palabras\", \"sueltas\", \"representadas\", \"por\", \"cadenas\"]\n",
    "valor = lista.pop()\n",
    "print(\"Con pop() hemos eliminado el elemento \\'{}\\'.\".format(valor))\n",
    "valor = lista.pop(2)\n",
    "print(\"Con pop(2) hemos eliminado el elemento \\'{}\\'.\".format(valor))\n",
    "lista.remove('palabras')\n",
    "print(\"Usando remove('palabras') eliminamos el primer elemento que coincide con 'palabras'\")\n",
    "print(lista)\n",
    "lista.clear()\n",
    "print(\"Con clear() la lista se vacía.\", lista)"
   ]
  },
  {
   "cell_type": "markdown",
   "metadata": {},
   "source": [
    "***\n",
    "<a id='Obteniendo_información_de_una_lista'></a>"
   ]
  },
  {
   "cell_type": "markdown",
   "metadata": {},
   "source": [
    "## Obteniendo información de una lista\n",
    "La función intrínseca (*built in*) de Python ```len()``` devuelve el tamaño de la lista que se pase como parámetro."
   ]
  },
  {
   "cell_type": "code",
   "execution_count": 7,
   "metadata": {},
   "outputs": [
    {
     "name": "stdout",
     "output_type": "stream",
     "text": [
      "La lista [1, 2, 1, 2, 1, 2, 1, 2, 1, 2] tiene tamaño 10\n"
     ]
    }
   ],
   "source": [
    "lista = [1, 2]*5\n",
    "tam = len(lista)\n",
    "print(\"La lista {} tiene tamaño {}\".format(lista, tam))"
   ]
  },
  {
   "cell_type": "markdown",
   "metadata": {},
   "source": [
    "El **operador de pertenencia** `in` sirve para comprobar si un elemento determinado se encuentra en la colección. Devuelve un valor de `True` si el elemento aparece en la lista y `False` en caso contrario."
   ]
  },
  {
   "cell_type": "code",
   "execution_count": 6,
   "metadata": {},
   "outputs": [
    {
     "data": {
      "text/plain": [
       "True"
      ]
     },
     "execution_count": 6,
     "metadata": {},
     "output_type": "execute_result"
    }
   ],
   "source": [
    "3 in [1, 20, 3, [20,4]]"
   ]
  },
  {
   "cell_type": "code",
   "execution_count": 7,
   "metadata": {},
   "outputs": [
    {
     "data": {
      "text/plain": [
       "False"
      ]
     },
     "execution_count": 7,
     "metadata": {},
     "output_type": "execute_result"
    }
   ],
   "source": [
    "3 not in [1, 3, 4]"
   ]
  },
  {
   "cell_type": "code",
   "execution_count": 8,
   "metadata": {},
   "outputs": [
    {
     "data": {
      "text/plain": [
       "True"
      ]
     },
     "execution_count": 8,
     "metadata": {},
     "output_type": "execute_result"
    }
   ],
   "source": [
    "5 in range(20)"
   ]
  },
  {
   "cell_type": "markdown",
   "metadata": {},
   "source": [
    "Como habrá notado, Python ofrece varias alternativas similares para llevar a buen puerto el objetivo buscado. \n",
    "* Podemos conocer si un elemento está en una lista mediante el método `count()`, que además devuelve cuántas veces el elemento aparece.\n",
    "* El método `index()` por su parte nos indica el índice de la primera aparición en la lista (si elemento no está se genera error de ejecución)."
   ]
  },
  {
   "cell_type": "code",
   "execution_count": null,
   "metadata": {},
   "outputs": [],
   "source": [
    "a = [1, 2, 4, 2]\n",
    "valor = 2\n",
    "veces = a.count(valor);\n",
    "\n",
    "print('El {} aparece en la lista {} en {} posiciones.'.format(valor, a, veces))\n",
    "print('La primera vez aparece en la posición', a.index(valor))"
   ]
  },
  {
   "cell_type": "markdown",
   "metadata": {},
   "source": [
    "***\n",
    "<a id='Cadenas_de_caracteres_como_colecciones_secuenciales'></a>"
   ]
  },
  {
   "cell_type": "markdown",
   "metadata": {},
   "source": [
    "## Cadenas de caracteres (`str`) como colecciones secuenciales\n",
    "Ya conocíamos, sin haberlo reconocido, otro tipo de colección. Las cadenas de caracteres pueden concebirse como _secuencias_ de caracteres alfanuméricos. La mayor parte de las veces, se trabaja con las cadenas tomándolas en su conjunto. Pero es perfectamente posible acceder a los caracteres individuales, utilizando los conceptos vistos previamente."
   ]
  },
  {
   "cell_type": "code",
   "execution_count": 6,
   "metadata": {},
   "outputs": [
    {
     "name": "stdout",
     "output_type": "stream",
     "text": [
      "La frase \"La cadena de caracteres es una secuencia\" tiene una longitud 40. Comienza por 'L' y termina por 'a'.\n"
     ]
    }
   ],
   "source": [
    "cadena = \"La cadena de caracteres es una secuencia\"\n",
    "car1 = cadena[0]\n",
    "car2 = cadena[-1]\n",
    "print('La frase \"{}\" tiene una longitud {}. Comienza por \\'{}\\' y termina por \\'{}\\'.'.format(cadena, len(cadena), car1, car2))"
   ]
  },
  {
   "cell_type": "markdown",
   "metadata": {},
   "source": [
    "A diferencia de las listas, **las cadenas de caracteres son objetos inmutables**."
   ]
  },
  {
   "cell_type": "code",
   "execution_count": 7,
   "metadata": {},
   "outputs": [
    {
     "ename": "TypeError",
     "evalue": "'str' object does not support item assignment",
     "output_type": "error",
     "traceback": [
      "\u001b[1;31m---------------------------------------------------------------------------\u001b[0m",
      "\u001b[1;31mTypeError\u001b[0m                                 Traceback (most recent call last)",
      "\u001b[1;32m<ipython-input-7-885208d36d00>\u001b[0m in \u001b[0;36m<module>\u001b[1;34m\u001b[0m\n\u001b[0;32m      1\u001b[0m \u001b[0mcadena\u001b[0m \u001b[1;33m=\u001b[0m \u001b[1;34m\"hola\"\u001b[0m\u001b[1;33m\u001b[0m\u001b[1;33m\u001b[0m\u001b[0m\n\u001b[1;32m----> 2\u001b[1;33m \u001b[0mcadena\u001b[0m\u001b[1;33m[\u001b[0m\u001b[1;36m0\u001b[0m\u001b[1;33m]\u001b[0m \u001b[1;33m=\u001b[0m \u001b[1;34m'H'\u001b[0m\u001b[1;33m\u001b[0m\u001b[1;33m\u001b[0m\u001b[0m\n\u001b[0m",
      "\u001b[1;31mTypeError\u001b[0m: 'str' object does not support item assignment"
     ]
    }
   ],
   "source": [
    "cadena = \"hola\"\n",
    "cadena[0] = 'H'"
   ]
  },
  {
   "cell_type": "markdown",
   "metadata": {},
   "source": [
    "***\n",
    "<a id='Tuplas'></a>"
   ]
  },
  {
   "cell_type": "markdown",
   "metadata": {},
   "source": [
    "## Tuplas\n",
    "\n",
    "Las **tuplas** representan, al igual que las listas, una secuencia de valores en Python. Los valores, también en este caso, pueden ser de diferente tipo.\n",
    "\n",
    "A diferencia de las listas, las **tuplas** son **inmutables**: una vez creadas no pueden modificarse.\n",
    "\n",
    "Una tupla se crea asignando un conjunto de valores a una variable. Los valores están separados entre sí por una coma y opcionalmente pueden estar rodeados o  no de paréntesis.\n",
    "\n",
    "Por ejemplo:"
   ]
  },
  {
   "cell_type": "code",
   "execution_count": 8,
   "metadata": {},
   "outputs": [
    {
     "name": "stdout",
     "output_type": "stream",
     "text": [
      "('Fundamentos de Programación', 40, 1, 2)\n",
      "(1, 2, 3)\n"
     ]
    }
   ],
   "source": [
    "datos_asig = ('Fundamentos de Programación', 40, 1, 2)\n",
    "print(datos_asig)\n",
    "\n",
    "otro = 1, 2, 3\n",
    "print(otro)"
   ]
  },
  {
   "cell_type": "markdown",
   "metadata": {},
   "source": [
    "Nótese que, aunque los paréntesis son opcionales, aportan una mejor legibilidad. \n",
    ">Aunque su utilidad es cuestionable, se pueden crear tuplas de un solo elemento. Cómo podría existir ambigüedad con el uso de los paréntesis como recurso para agrupar expresiones, al crear una tupla de un sólo elemento se tiene que poner una coma al final.\n",
    "```python\n",
    "un_elemento = (10,)\n",
    "```"
   ]
  },
  {
   "cell_type": "code",
   "execution_count": null,
   "metadata": {},
   "outputs": [],
   "source": [
    "print(otro[0] + otro[1])"
   ]
  },
  {
   "cell_type": "markdown",
   "metadata": {},
   "source": [
    "Como se observa en el código previo, se pueden acceder a los elementos de las tuplas, utilizando para ello la sintaxis de los corchetes (de manera similar a las listas).\n",
    "\n",
    "Sin embargo, dado su carácter inmutable, lo que no se puede es modificar los valores ni el tamaño de la tupla una vez creada."
   ]
  },
  {
   "cell_type": "code",
   "execution_count": 9,
   "metadata": {},
   "outputs": [
    {
     "ename": "TypeError",
     "evalue": "'tuple' object does not support item assignment",
     "output_type": "error",
     "traceback": [
      "\u001b[1;31m---------------------------------------------------------------------------\u001b[0m",
      "\u001b[1;31mTypeError\u001b[0m                                 Traceback (most recent call last)",
      "\u001b[1;32m<ipython-input-9-eaa8d3bc1a70>\u001b[0m in \u001b[0;36m<module>\u001b[1;34m\u001b[0m\n\u001b[0;32m      1\u001b[0m \u001b[0ma\u001b[0m \u001b[1;33m=\u001b[0m \u001b[1;33m(\u001b[0m\u001b[1;36m1\u001b[0m\u001b[1;33m,\u001b[0m \u001b[1;36m2\u001b[0m\u001b[1;33m,\u001b[0m \u001b[1;36m3\u001b[0m\u001b[1;33m)\u001b[0m\u001b[1;33m\u001b[0m\u001b[1;33m\u001b[0m\u001b[0m\n\u001b[1;32m----> 2\u001b[1;33m \u001b[0ma\u001b[0m\u001b[1;33m[\u001b[0m\u001b[1;36m1\u001b[0m\u001b[1;33m]\u001b[0m \u001b[1;33m=\u001b[0m \u001b[1;36m10\u001b[0m   \u001b[1;31m# La ejecución de esta línea provoca un error\u001b[0m\u001b[1;33m\u001b[0m\u001b[1;33m\u001b[0m\u001b[0m\n\u001b[0m",
      "\u001b[1;31mTypeError\u001b[0m: 'tuple' object does not support item assignment"
     ]
    }
   ],
   "source": [
    "a = (1, 2, 3)\n",
    "a[1] = 10   # La ejecución de esta línea provoca un error"
   ]
  },
  {
   "cell_type": "markdown",
   "metadata": {},
   "source": [
    "Se pueden crear tuplas a partir de listas, utilizando la función ```tuple()``` de la forma que se muestra:\n",
    "\n",
    "```python\n",
    "elem_lista = [1, 2 ,3]\n",
    "elem_tupla = tuple(elem_lista)\n",
    "```\n",
    "\n",
    "Recíprocamente, se pueden crear listas a partir de tuplas utilizando la función `list()`. Nótese en el siguiente ejemplo, que el identificador `tupla` referencia a un objeto diferente después de la conversión desde una lista. Para ello, hemos utilizado la función nativa `id()`, que devuelve la dirección en memoria donde reside el objeto. Por tanto, no se viola la inmutabilidad de la tupla."
   ]
  },
  {
   "cell_type": "code",
   "execution_count": 10,
   "metadata": {},
   "outputs": [
    {
     "name": "stdout",
     "output_type": "stream",
     "text": [
      "Dirección original de tupla: 2144608734536\n",
      "Dirección nueva de tupla: 2144609150664\n",
      "('Matrícula', 50)\n"
     ]
    }
   ],
   "source": [
    "tupla = ('Matrícula', 40)\n",
    "print('Dirección original de tupla:', id(tupla))\n",
    "lista = list(tupla)\n",
    "lista[1] = 50\n",
    "tupla = tuple(lista)\n",
    "print('Dirección nueva de tupla:', id(tupla))\n",
    "print(tupla)"
   ]
  },
  {
   "cell_type": "markdown",
   "metadata": {},
   "source": [
    "### Operaciones con tuplas\n",
    "\n",
    "Puede consultarse [aquí](https://docs.python.org/3/library/stdtypes.html?highlight=tuple#typesseq-common) el conjunto de operadores, métodos y funciones que son comunes a todos las secuencias listas y tuplas.\n",
    "\n",
    "Las operaciones con tuplas serán un subconjunto de las vistas con las listas y la regla básica es que la operación en cuestión no será válida para una tupla si pretende una modificación de los datos del objeto tupla, que es inmutable.\n",
    "\n",
    "Se pueden comparar las tuplas utilizando los operadores conocidos (`>`, `<=`, `>=`, etc.). También se puede utilizar el operador especial de pertenencia (`in`) para saber si un elemento pertenece a la tupla o no.\n",
    "\n",
    "Funciones como `len()`, que brindan información sobre la secuencia, son igualmente utilizables."
   ]
  },
  {
   "cell_type": "code",
   "execution_count": 6,
   "metadata": {},
   "outputs": [
    {
     "name": "stdout",
     "output_type": "stream",
     "text": [
      "El tamaño de la tupla es: 5\n",
      "¿Contiene el elemento 4? True\n"
     ]
    }
   ],
   "source": [
    "a = 1, 2, 3, 4, 5\n",
    "print('El tamaño de la tupla es:', len(a))\n",
    "print('¿Contiene el elemento 4?', 4 in a)"
   ]
  },
  {
   "cell_type": "markdown",
   "metadata": {},
   "source": [
    "### Desempaquetado de una tupla\n",
    "Los elementos de una tupla se pueden asignar a tantas variables como elementos haya en la misma en un proceso llamado **desempaquetado** (**unpacking**)."
   ]
  },
  {
   "cell_type": "code",
   "execution_count": 7,
   "metadata": {},
   "outputs": [
    {
     "name": "stdout",
     "output_type": "stream",
     "text": [
      "Valladolid Castilla y León España\n"
     ]
    }
   ],
   "source": [
    "datos_ciudad = ('Valladolid', 'Castilla y León', 'España')\n",
    "ciudad, comunidad, pais = datos_ciudad\n",
    "print(ciudad, comunidad, pais)"
   ]
  },
  {
   "cell_type": "markdown",
   "metadata": {},
   "source": [
    "En el ejemplo se han creado nuevas variables con nombre: `ciudad`, `comunidad` y `pais` que contiene las cadenas de caracteres incluidas en las posiciones `0`, `1`, `2` de la tupla `datos_ciudad`."
   ]
  },
  {
   "cell_type": "markdown",
   "metadata": {},
   "source": [
    "Nótese que, en realidad, el desempaquetado es el mecanismo del lenguaje que se pone en juego cuando se hacen asignaciones múltiples en Python:"
   ]
  },
  {
   "cell_type": "code",
   "execution_count": null,
   "metadata": {},
   "outputs": [],
   "source": [
    "a, b = 1, 2"
   ]
  },
  {
   "cell_type": "markdown",
   "metadata": {},
   "source": [
    "Un código como el anterior funciona primero como el **empaquetado** o creación de una tupla con los elementos `1` y `2` (nótese que los paréntesis son opcionales) y el posterior **desempaquetado** o asignación a las variables `a` y `b`.\n",
    "\n",
    "Veremos la utilidad de este esquema a lo largo del curso. Recordad que, en particular en muy útil para el intercambio de los valores de dos variables: una operación que se requiere con alguna frecuencia en programación:"
   ]
  },
  {
   "cell_type": "code",
   "execution_count": 12,
   "metadata": {},
   "outputs": [
    {
     "name": "stdout",
     "output_type": "stream",
     "text": [
      "x =  3 y =  2\n"
     ]
    }
   ],
   "source": [
    "x = 2\n",
    "y = 3\n",
    "x, y = y, x\n",
    "print('x = ', x, 'y = ', y)"
   ]
  }
 ],
 "metadata": {
  "anaconda-cloud": {},
  "celltoolbar": "Raw Cell Format",
  "kernelspec": {
   "display_name": "Python 3",
   "language": "python",
   "name": "python3"
  },
  "language_info": {
   "codemirror_mode": {
    "name": "ipython",
    "version": 3
   },
   "file_extension": ".py",
   "mimetype": "text/x-python",
   "name": "python",
   "nbconvert_exporter": "python",
   "pygments_lexer": "ipython3",
   "version": "3.7.4"
  },
  "nbpresent": {
   "slides": {
    "1390653e-bdb6-444a-b611-39c60ffb77a1": {
     "id": "1390653e-bdb6-444a-b611-39c60ffb77a1",
     "prev": "5c2c8cc8-3676-4c06-b94c-d3f866ade69b",
     "regions": {
      "620813b3-9326-41e6-9d30-f5ac4f858225": {
       "attrs": {
        "height": 0.8,
        "width": 0.8,
        "x": 0.1,
        "y": 0.1
       },
       "content": {
        "cell": "86423d42-e808-47e6-b1a7-e925e195f821",
        "part": "whole"
       },
       "id": "620813b3-9326-41e6-9d30-f5ac4f858225"
      }
     }
    },
    "21036f68-a492-4532-a832-b213435c0ad2": {
     "id": "21036f68-a492-4532-a832-b213435c0ad2",
     "prev": "2c1c7f11-e5ee-4a25-8975-f0b033ba739a",
     "regions": {
      "a3908958-0784-4faa-ac97-b9325abe8ede": {
       "attrs": {
        "height": 0.8,
        "width": 0.8,
        "x": 0.1,
        "y": 0.1
       },
       "content": {
        "cell": "9aa64747-dc13-4bd9-bf26-73606628ad1c",
        "part": "whole"
       },
       "id": "a3908958-0784-4faa-ac97-b9325abe8ede"
      }
     }
    },
    "2c1c7f11-e5ee-4a25-8975-f0b033ba739a": {
     "id": "2c1c7f11-e5ee-4a25-8975-f0b033ba739a",
     "prev": "f3f10f50-4cad-4149-b308-c66e6a493a72",
     "regions": {
      "9e2d820e-ec17-4915-b960-0e0d5f640379": {
       "attrs": {
        "height": 0.8,
        "width": 0.8,
        "x": 0.1,
        "y": 0.1
       },
       "content": {
        "cell": "0281a659-abae-4cb9-b30f-b552b9db399e",
        "part": "whole"
       },
       "id": "9e2d820e-ec17-4915-b960-0e0d5f640379"
      }
     }
    },
    "30509a9a-dbd8-4dbd-9fab-852a7266d894": {
     "id": "30509a9a-dbd8-4dbd-9fab-852a7266d894",
     "prev": "8b078b7a-c2c6-4129-a19f-2a4f5c4a26f3",
     "regions": {
      "7baa4379-8f84-4d8f-b002-5a5ffd051489": {
       "attrs": {
        "height": 0.8,
        "width": 0.8,
        "x": 0.1,
        "y": 0.1
       },
       "content": {
        "cell": "14d1a927-b37f-4323-9404-17d453f3b487",
        "part": "whole"
       },
       "id": "7baa4379-8f84-4d8f-b002-5a5ffd051489"
      }
     }
    },
    "42d1bd80-265e-4acf-bbc1-b202afddade3": {
     "id": "42d1bd80-265e-4acf-bbc1-b202afddade3",
     "prev": "9bfe6214-4631-45b5-a05e-8923f178bb57",
     "regions": {
      "f2340145-4108-4fed-a0bc-4b91ca6c10ae": {
       "attrs": {
        "height": 0.8,
        "width": 0.8,
        "x": 0.1,
        "y": 0.1
       },
       "content": {
        "cell": "80be6133-d85a-4e43-9964-6578abcbaaac",
        "part": "whole"
       },
       "id": "f2340145-4108-4fed-a0bc-4b91ca6c10ae"
      }
     }
    },
    "5c2c8cc8-3676-4c06-b94c-d3f866ade69b": {
     "id": "5c2c8cc8-3676-4c06-b94c-d3f866ade69b",
     "prev": "6c4bc874-f3fc-472c-a81c-cd415b91c24b",
     "regions": {
      "e1de7ab6-4ef2-4b14-92d7-b174bf32806e": {
       "attrs": {
        "height": 0.8,
        "width": 0.8,
        "x": 0.1,
        "y": 0.1
       },
       "content": {
        "cell": "ae8725fa-30f7-4d7f-a2c2-5f86953d730b",
        "part": "whole"
       },
       "id": "e1de7ab6-4ef2-4b14-92d7-b174bf32806e"
      }
     }
    },
    "5cab5674-74dc-4378-93d7-eaa79e90cdae": {
     "id": "5cab5674-74dc-4378-93d7-eaa79e90cdae",
     "prev": "ba274d18-2760-4e55-ad47-2727b824fd00",
     "regions": {
      "2178d7cf-bf1e-4850-95a2-1509f15febfa": {
       "attrs": {
        "height": 0.8,
        "width": 0.8,
        "x": 0.1,
        "y": 0.1
       },
       "content": {
        "cell": "5d433d13-f44a-45bb-91fd-406f60b33b67",
        "part": "whole"
       },
       "id": "2178d7cf-bf1e-4850-95a2-1509f15febfa"
      }
     }
    },
    "638df7e1-84d1-4fd4-a15c-c94b731d1bea": {
     "id": "638df7e1-84d1-4fd4-a15c-c94b731d1bea",
     "prev": "b9dddf99-da24-46e1-81d4-8ac33b6fc3a3",
     "regions": {
      "deba8b1f-d997-4426-8f1b-978df7f19b41": {
       "attrs": {
        "height": 0.8,
        "width": 0.8,
        "x": 0.1,
        "y": 0.1
       },
       "content": {
        "cell": "7adaaf8f-a83e-456b-b99a-d3b3d4cb6d1a",
        "part": "whole"
       },
       "id": "deba8b1f-d997-4426-8f1b-978df7f19b41"
      }
     }
    },
    "6bda9eb4-0724-4e53-9971-131d0cb5f9e2": {
     "id": "6bda9eb4-0724-4e53-9971-131d0cb5f9e2",
     "prev": "ee33e624-cd65-4b8c-b28b-c95623a56dbf",
     "regions": {
      "feffbbd2-27d1-4318-8359-7d57583ee2bc": {
       "attrs": {
        "height": 0.8,
        "width": 0.8,
        "x": 0.1,
        "y": 0.1
       },
       "content": {
        "cell": "8dce188c-36b7-41fa-9020-b5cb5502e452",
        "part": "whole"
       },
       "id": "feffbbd2-27d1-4318-8359-7d57583ee2bc"
      }
     }
    },
    "6c4bc874-f3fc-472c-a81c-cd415b91c24b": {
     "id": "6c4bc874-f3fc-472c-a81c-cd415b91c24b",
     "prev": null,
     "regions": {
      "c9eac7e8-d033-4b03-8bf7-abd58ffe8d41": {
       "attrs": {
        "height": 0.8,
        "width": 0.8,
        "x": 0.1,
        "y": 0.1
       },
       "content": {
        "cell": "71219fc3-c9cb-4700-9f0b-ab38b1b223da",
        "part": "whole"
       },
       "id": "c9eac7e8-d033-4b03-8bf7-abd58ffe8d41"
      }
     }
    },
    "6d7ab34f-9d99-4c74-9877-27b25abc73f0": {
     "id": "6d7ab34f-9d99-4c74-9877-27b25abc73f0",
     "prev": "febe7de9-9362-4079-bfe9-2d4dfddf00e2",
     "regions": {
      "2ee252de-db5f-43e7-b4b7-7f59bba29962": {
       "attrs": {
        "height": 0.8,
        "width": 0.8,
        "x": 0.1,
        "y": 0.1
       },
       "content": {
        "cell": "85d1ab90-cc65-4935-808b-a6f57ecc892e",
        "part": "whole"
       },
       "id": "2ee252de-db5f-43e7-b4b7-7f59bba29962"
      }
     }
    },
    "7ea582c3-439d-4ec2-9f27-dea18bcacc31": {
     "id": "7ea582c3-439d-4ec2-9f27-dea18bcacc31",
     "prev": "f0727a74-61a1-48c1-94a5-3e7490c29f0b",
     "regions": {
      "652960af-b61f-4c36-b122-3eacd714867b": {
       "attrs": {
        "height": 0.8,
        "width": 0.8,
        "x": 0.1,
        "y": 0.1
       },
       "content": {
        "cell": "86172e20-fe16-447d-859f-24a81e563011",
        "part": "whole"
       },
       "id": "652960af-b61f-4c36-b122-3eacd714867b"
      }
     }
    },
    "8b078b7a-c2c6-4129-a19f-2a4f5c4a26f3": {
     "id": "8b078b7a-c2c6-4129-a19f-2a4f5c4a26f3",
     "prev": "5cab5674-74dc-4378-93d7-eaa79e90cdae",
     "regions": {
      "dce1e605-9342-414d-b8c6-7dcb922fbf47": {
       "attrs": {
        "height": 0.8,
        "width": 0.8,
        "x": 0.1,
        "y": 0.1
       },
       "content": {
        "cell": "ee1bdf03-6e13-4f1f-9dc9-22d4e344fdba",
        "part": "whole"
       },
       "id": "dce1e605-9342-414d-b8c6-7dcb922fbf47"
      }
     }
    },
    "999513ad-b53e-4d84-b9ef-ed37967f74d6": {
     "id": "999513ad-b53e-4d84-b9ef-ed37967f74d6",
     "prev": "638df7e1-84d1-4fd4-a15c-c94b731d1bea",
     "regions": {
      "2e85c1b2-3c30-413e-9b0f-141281da3a2a": {
       "attrs": {
        "height": 0.8,
        "width": 0.8,
        "x": 0.1,
        "y": 0.1
       },
       "content": {
        "cell": "998dc7f5-ab6d-4fb8-866f-4fa96a06aaaa",
        "part": "whole"
       },
       "id": "2e85c1b2-3c30-413e-9b0f-141281da3a2a"
      }
     }
    },
    "9add3d79-8621-4167-8e1d-d4ae48fba71b": {
     "id": "9add3d79-8621-4167-8e1d-d4ae48fba71b",
     "prev": "7ea582c3-439d-4ec2-9f27-dea18bcacc31",
     "regions": {
      "d5f4537e-4d8c-4179-b14b-6c475f50b04e": {
       "attrs": {
        "height": 0.8,
        "width": 0.8,
        "x": 0.1,
        "y": 0.1
       },
       "content": {
        "cell": "9659b1c1-9aed-4d71-b830-4a60d408ad71",
        "part": "whole"
       },
       "id": "d5f4537e-4d8c-4179-b14b-6c475f50b04e"
      }
     }
    },
    "9bfe6214-4631-45b5-a05e-8923f178bb57": {
     "id": "9bfe6214-4631-45b5-a05e-8923f178bb57",
     "prev": "30509a9a-dbd8-4dbd-9fab-852a7266d894",
     "regions": {
      "aac53254-d149-49f2-8f92-670c6f2714bb": {
       "attrs": {
        "height": 0.8,
        "width": 0.8,
        "x": 0.1,
        "y": 0.1
       },
       "content": {
        "cell": "c71a78d7-9d0e-4825-9c84-9998f971317d",
        "part": "whole"
       },
       "id": "aac53254-d149-49f2-8f92-670c6f2714bb"
      }
     }
    },
    "b9dddf99-da24-46e1-81d4-8ac33b6fc3a3": {
     "id": "b9dddf99-da24-46e1-81d4-8ac33b6fc3a3",
     "prev": "1390653e-bdb6-444a-b611-39c60ffb77a1",
     "regions": {
      "0b31dbb4-f15b-4a16-9420-c5dc8ed4e871": {
       "attrs": {
        "height": 0.8,
        "width": 0.8,
        "x": 0.1,
        "y": 0.1
       },
       "content": {
        "cell": "d0569bb0-fad8-48b7-8d48-0066bfb90401",
        "part": "whole"
       },
       "id": "0b31dbb4-f15b-4a16-9420-c5dc8ed4e871"
      }
     }
    },
    "ba274d18-2760-4e55-ad47-2727b824fd00": {
     "id": "ba274d18-2760-4e55-ad47-2727b824fd00",
     "prev": "ed47079d-58cf-4b87-a9fa-a709d8a7c3c6",
     "regions": {
      "13000b51-bd66-4fb5-970b-20bfad440880": {
       "attrs": {
        "height": 0.8,
        "width": 0.8,
        "x": 0.1,
        "y": 0.1
       },
       "content": {
        "cell": "f6847886-4044-43a7-9edd-f18efddcb7a9",
        "part": "whole"
       },
       "id": "13000b51-bd66-4fb5-970b-20bfad440880"
      }
     }
    },
    "ed47079d-58cf-4b87-a9fa-a709d8a7c3c6": {
     "id": "ed47079d-58cf-4b87-a9fa-a709d8a7c3c6",
     "prev": "9add3d79-8621-4167-8e1d-d4ae48fba71b",
     "regions": {
      "a96aea94-1714-4020-83f9-dbc03e9fd55e": {
       "attrs": {
        "height": 0.8,
        "width": 0.8,
        "x": 0.1,
        "y": 0.1
       },
       "content": {
        "cell": "5a579720-fa62-4525-85e3-dd049cbd73be",
        "part": "whole"
       },
       "id": "a96aea94-1714-4020-83f9-dbc03e9fd55e"
      }
     }
    },
    "ee33e624-cd65-4b8c-b28b-c95623a56dbf": {
     "id": "ee33e624-cd65-4b8c-b28b-c95623a56dbf",
     "prev": "999513ad-b53e-4d84-b9ef-ed37967f74d6",
     "regions": {
      "325ae98d-0855-4d16-8408-6d12f47efa24": {
       "attrs": {
        "height": 0.8,
        "width": 0.8,
        "x": 0.1,
        "y": 0.1
       },
       "content": {
        "cell": "829150e0-712b-4739-92d6-37b9c3d789cb",
        "part": "whole"
       },
       "id": "325ae98d-0855-4d16-8408-6d12f47efa24"
      }
     }
    },
    "f0727a74-61a1-48c1-94a5-3e7490c29f0b": {
     "id": "f0727a74-61a1-48c1-94a5-3e7490c29f0b",
     "prev": "6d7ab34f-9d99-4c74-9877-27b25abc73f0",
     "regions": {
      "1666081e-448d-4f80-90f2-9f26f1568cdc": {
       "attrs": {
        "height": 0.8,
        "width": 0.8,
        "x": 0.1,
        "y": 0.1
       },
       "content": {
        "cell": "d99a804c-9444-418b-bc94-3c2f064e2844",
        "part": "whole"
       },
       "id": "1666081e-448d-4f80-90f2-9f26f1568cdc"
      }
     }
    },
    "f3f10f50-4cad-4149-b308-c66e6a493a72": {
     "id": "f3f10f50-4cad-4149-b308-c66e6a493a72",
     "prev": "42d1bd80-265e-4acf-bbc1-b202afddade3",
     "regions": {
      "4fc1185f-bdb8-46fc-99bd-b8d30defeca9": {
       "attrs": {
        "height": 0.8,
        "width": 0.8,
        "x": 0.1,
        "y": 0.1
       },
       "content": {
        "cell": "9b7597e9-aaa9-4d9f-ba0d-22f43d1a3900",
        "part": "whole"
       },
       "id": "4fc1185f-bdb8-46fc-99bd-b8d30defeca9"
      }
     }
    },
    "febe7de9-9362-4079-bfe9-2d4dfddf00e2": {
     "id": "febe7de9-9362-4079-bfe9-2d4dfddf00e2",
     "prev": "6bda9eb4-0724-4e53-9971-131d0cb5f9e2",
     "regions": {
      "42348103-1cd6-4bac-b346-33cd41aea444": {
       "attrs": {
        "height": 0.8,
        "width": 0.8,
        "x": 0.1,
        "y": 0.1
       },
       "content": {
        "cell": "35a148d4-f201-4441-bf5e-8a07f93dea84",
        "part": "whole"
       },
       "id": "42348103-1cd6-4bac-b346-33cd41aea444"
      }
     }
    }
   },
   "themes": {}
  }
 },
 "nbformat": 4,
 "nbformat_minor": 2
}
