{
 "cells": [
  {
   "cell_type": "markdown",
   "metadata": {},
   "source": [
    "# Módulos"
   ]
  },
  {
   "cell_type": "markdown",
   "metadata": {},
   "source": [
    "<a target=\"_self\" href='#Introducción'>Introducción</a><br>\n",
    "<a target=\"_self\" href='#Modulos'>Módulos</a><br>\n",
    "<a target=\"_self\" href='#Espacio_de_nombres'>Espacio de nombres (namespace)</a><br>\n",
    "<a target=\"_self\" href='#Importación'>Importación de un módulo</a>\n",
    "<a target=\"_self\" href='#Ejemplo'>Ejemplo de creación de un módulo</a><br>\n",
    "<a target=\"_self\" href='#Diferencias'>Programa versus módulo</a><br>\n",
    "<a target=\"_self\" href='#Pruebas_unitarias'>Introducción a las pruebas unitarias (Unit Tests)</a><br>\n",
    "<a target=\"_self\" href='#Biblioteca'>Biblioteca estándar</a>"
   ]
  },
  {
   "cell_type": "markdown",
   "metadata": {},
   "source": [
    "***\n",
    "<a id='Introducción'></a>"
   ]
  },
  {
   "cell_type": "markdown",
   "metadata": {},
   "source": [
    "## Introducción"
   ]
  },
  {
   "cell_type": "markdown",
   "metadata": {},
   "source": [
    "Desde el inicio del curso, desde el primer momento, hemos estado utilizando una serie de funciones de Python, tales como las de la **biblioteca** (**library**) matemática `math`. Estas funciones matemáticas y otras muchas están distribuidas en **módulos** que se consideran **estándar**. Para utilizar estas funciones definidas en **módulos** se ha seguido el procedimiento que consiste en **importar** el módulo. De esta forma, estas funciones u otros **objetos** definidos en el módulo pasan a partir de ese momento a estar disponibles para su uso en nuestro programa o guion. Estos **objetos** pueden ser desde **valores constantes** como `math.pi` a **funciones** como `math.cos()`."
   ]
  },
  {
   "cell_type": "code",
   "execution_count": 1,
   "metadata": {},
   "outputs": [
    {
     "name": "stdout",
     "output_type": "stream",
     "text": [
      "cos(Pi) = -1.0\n"
     ]
    }
   ],
   "source": [
    "import math\n",
    "\n",
    "print(f'cos(Pi) = {math.cos(math.pi)}')"
   ]
  },
  {
   "cell_type": "markdown",
   "metadata": {},
   "source": [
    "En este cuaderno vamos a comprender mejor:\n",
    "\n",
    "- el mecanismo que se utiliza para _incorporar_ estas funciones y valores a nuestro programa.\n",
    "- la naturaleza de estos módulos.\n",
    "- el concepto de **espacio de nombres** (**namespaces**).\n",
    "- cómo crear un módulo sencillo.\n",
    "- cómo documentar nuestros módulos.\n",
    "- cómo hacer módulos que hagan explícita la forma de **testearlos** (**pruebas unitarias**).\n",
    "- diferencias (y similitudes) entre el programa principal y un módulo de biblioteca.\n",
    "\n",
    "Adicionalmente, se hará un recorrido muy rápido por los principales módulos de la **biblioteca estándar**."
   ]
  },
  {
   "cell_type": "markdown",
   "metadata": {},
   "source": [
    "***\n",
    "<a id='Modulos'></a>"
   ]
  },
  {
   "cell_type": "markdown",
   "metadata": {},
   "source": [
    "## Módulos"
   ]
  },
  {
   "cell_type": "markdown",
   "metadata": {},
   "source": [
    "### ¿Qué es un módulo?"
   ]
  },
  {
   "cell_type": "markdown",
   "metadata": {},
   "source": [
    "Un **módulo** es un **fichero**, con extensión `*.py` y, por tanto, accesible al intérprete de Python y ejecutable por el **núcleo** de Python. Puede contener:\n",
    "\n",
    "- Variables globales, funciones,  clases (patrones de objetos) y sentencias ejecutables.\n",
    ">La programación de clases no la estudiaremos en este curso introductorio.\n",
    "- Un módulo, a su vez, puede _importar_ otros módulos."
   ]
  },
  {
   "cell_type": "markdown",
   "metadata": {},
   "source": [
    "![modulo.jpg](img/modulo.jpg)"
   ]
  },
  {
   "cell_type": "markdown",
   "metadata": {},
   "source": [
    "### ¿Qué diferencia hay entre los módulos y un guion?\n",
    "\n",
    "En lo que concierne exclusivamente a la **sintaxis** del lenguaje, **no hay diferencias esenciales**. \n",
    "\n",
    "La diferencia reside en el **propósito** asignado a cada una de estas piezas:\n",
    "\n",
    "- El programa principal o guion (**script**) es el que está **diseñado** para contener la lógica de la **aplicación** y, típicamente, es *lanzado* el primero, ya sea desde la consola o desde una herramienta de desarrollo como **Spyder**.\n",
    "\n",
    "  Las sentencias del programa principal se ejecutan, de la primera a la última, siguiendo el **hilo** lógico de ejecución, bajo el control de las sentencias de control de flujo programadas y realizando las llamadas a las funciones indicadas.\n",
    "  \n",
    "- Como parte del proceso de ejecución del programa principal, se realiza la **importación  de los módulos** de los que dicho programa depende, en el orden de aparición de las correspondientes sentencias `import`.\n",
    "\n",
    "  El proceso de importación implica la **ejecución** de los módulos. Se debe comprender que **la ejecución de la definición de una función no ejecuta la función**, sino que **crea el objeto función** con accesibilidad **global**. Esta función con acceso global podrá posteriormente ser ejecutada cuando se **invoque** desde el código del programa principal o desde el código de una función (quizá de otro módulo)."
   ]
  },
  {
   "cell_type": "markdown",
   "metadata": {},
   "source": [
    "### ¿Qué función juegan entonces los módulos?\n",
    "\n",
    "Los módulos nos permiten:\n",
    "\n",
    "- Un nivel de organización superior al que por sí solas nos dan las funciones, permitiendo **estructurar** de manera más simple nuestros programas.\n",
    "- Implementan un **espacio de nombres** (**namespace**) propio, que limita el riesgo de colisiones entre **identificadores** de valores y funciones.\n",
    "- Agrupan en un fichero conjuntos de objetos relacionados (funciones, clases, y valores) típicamente codificados alrededor de un propósito que puede estar definido con mayor o menor precisión. \n",
    "\n",
    "  Los siguientes serían ejemplos de módulos:\n",
    "\n",
    "    - el módulo `math` de la biblioteca estándar brinda un conjunto de funciones y valores relacionados con las matemáticas en el campo de los números reales.\n",
    "    - el módulo `random` tiene el propósito (más restringido) de permitir trabajar con números *pseudoaleatorios*.\n",
    "    - un módulo, hecho a medida por nosotros, llamado por ejemplo `auxiliares`, que contenga funciones de apoyo a nuestro programa.\n",
    "    \n",
    "- Los módulos pueden, a su vez, utilizar otros módulos, con tantos niveles de **anidamiento** como se requiera.\n",
    "\n",
    "Idealmente, se deben hacer esfuerzos para que los **módulos** los diseñemos de forma que sean: \n",
    "- **generales**, con funciones **cohesivas**, **bien testadas** y **desacopladas**.\n",
    "- con códigos ocultos tras **interfaces** bien diseñadas y **documentadas**.\n",
    "- de forma que se promueva su **reutilización**, contribuyendo al aumento de la **productividad** del programador."
   ]
  },
  {
   "cell_type": "markdown",
   "metadata": {},
   "source": [
    "***\n",
    "<a id='Espacio_de_nombres'></a>"
   ]
  },
  {
   "cell_type": "markdown",
   "metadata": {},
   "source": [
    "## Espacio de nombres (namespace)\n",
    "\n",
    "Cada módulo define un **espacio de nombres** (**namespace**) propio. Esto significa que los **nombres** o **identificadores** de los objetos definidos en el módulo deben ser diferentes solamente dentro de los límites del fichero donde se define el módulo.\n",
    "\n",
    "Un espacio de nombres establece una **correspondencia** entre los nombres y los objetos. Ejemplos que ya hemos visto de espacios de nombres son:\n",
    "* las funciones nativas, como `print()` o `abs()`,  definidos en un módulo llamado `builtins`\n",
    "* las funciones matemáticas definidas en un módulo, como el módulo `math`\n",
    "* cualquier variable local que hemos usado en nuestras funciones constituye un espacio de nombres local a esa función\n",
    "\n",
    "### Atributos\n",
    "Lo que permite el concepto de espacio de nombres es que no exista absolutamente ninguna relación entre nombres pertenecientes a diferentes espacios de nombres. Así, cuando hacemos referencia a un nombre de un módulo, estamos haciendo referencia a un **atributo** del módulo. La forma de acceder a un atributo es a través de la sintaxis `nombre_modulo.nombre_atributo`.\n",
    "\n",
    "Los módulos evitan la **contaminación del espacio de nombres** de un programa y esto es un elemento imprescindible en la creación de aplicaciones de tamaño moderado a grande."
   ]
  },
  {
   "cell_type": "markdown",
   "metadata": {},
   "source": [
    "***\n",
    "<a id='Importación'></a>"
   ]
  },
  {
   "cell_type": "markdown",
   "metadata": {},
   "source": [
    "## Importación de un módulo\n",
    "Las formas recomendadas (y obligatorias en este curso) de importar un módulo son las siguientes:\n",
    "* **Forma 1**\n",
    "```python \n",
    "import nombre_modulo1 \n",
    "```\n",
    "  Los diferentes objetos definidos con **alcance global** en el módulo `nombre_modulo1` son *incorporados* a los espacios de nombres de los respectivos módulos y/o programa principal, accesibles mediante el operador `.`. Como ya hemos comentado, los identificadores de un espacio de nombres, un módulo en este caso, son atributos del módulo. Por ello, la notación `.` es idéntica a la usada para el caso de acceso desde un objeto a sus atributos: datos y métodos.\n",
    "> Es lo que venimos haciendo cuando usamos, por ejemplo, `math.cos(x)` o `math.pi`.\n",
    "\n",
    "* **Forma 2**\n",
    "```python \n",
    "import nombre_modulo2 as nom\n",
    "```\n",
    "  En esta segunda variante se especifica un **alias**, `nom` en el ejemplo, lo que permitiría utilizar `nom.` como alias del nombre del módulo.\n",
    "> Es lo que hemos hecho con el módulo `numpy`, el alias `np` y la función `linspace`, por ejemplo, `np.linspace(0, 2, 10)`."
   ]
  },
  {
   "cell_type": "markdown",
   "metadata": {},
   "source": [
    "En la siguiente figura se muestra un ejemplo *artificial* para ver cómo el correcto uso de los espacios de nombres permite no contaminarlos.\n",
    "\n",
    "Existen dos módulos, `Modulo_A` y `Modulo_B`, que contienen una función con el mismo identificador, `ident()`. La función `ident()` podría hacer exactamente lo mismo, tareas similares pero con alguna diferencia o, directamente, no tener nada que ver la una con la otra respecto a su cometido.\n",
    "> Hemos visto en un tema anterior como el identificador `sqrt` es utilizado para un cometido similar, pero con resultados diferentes, por los módulos `math` y `cmath`.\n",
    "\n",
    "En este caso, para echar un poco más de pimienta, el `Modulo_A`, en la propia definición de su función `ident()` usa la definición de `ident()` de `Modulo_B`. El programa principal muestra tres usos de `ident()` donde queda inequívocamente claro cuál de las dos definiciones se está utilizando."
   ]
  },
  {
   "cell_type": "markdown",
   "metadata": {},
   "source": [
    "![importar.jpg](img/importar.jpg)"
   ]
  },
  {
   "cell_type": "code",
   "execution_count": null,
   "metadata": {},
   "outputs": [],
   "source": [
    "import Modulo_A\n",
    "import Modulo_B\n",
    "\n",
    "print('Módulo A llama a módulo B')\n",
    "Modulo_A.ident()\n",
    "\n",
    "print('Se llama a módulo B a través de A')\n",
    "Modulo_A.B.ident()\n",
    "\n",
    "print('Se llama a módulo B directamente')\n",
    "Modulo_B.ident()"
   ]
  },
  {
   "cell_type": "markdown",
   "metadata": {},
   "source": [
    "Existe otra forma de importar módulos, tal vez más cómoda para guiones de poca complejidad, pero que no respeta el concepto de **espacio de nombres**: \n",
    "\n",
    "```python \n",
    "from nombre_modulo1 import *  \n",
    "from nombre_modulo2 import obj1, obj2\n",
    "```\n",
    "Esta forma de importar hace que los valores y funciones importadas se **incorporen** al espacio de nombres global del *guion* que realiza la importación. Ahora no se antepone el **calificador** con el nombre del módulo y el operador `.` como en el caso previo, pero a costa de **contaminar** el **espacio de nombres** común.\n",
    "\n",
    "La primera opción **importa** todos los objetos del módulo `nombre_modulo1` mientras que la segunda opción, que resultaría dentro de lo malo preferible, **importa** solamente los nombres `obj1` y `obj2` desde el módulo `nombre_modulo2` resultando una **contaminación** más limitada."
   ]
  },
  {
   "cell_type": "markdown",
   "metadata": {},
   "source": [
    "Veamos un ejemplo de por qué nunca utilizar este método de importación. En este caso, el mero orden cambia por completo la ejecución del programa principal."
   ]
  },
  {
   "cell_type": "code",
   "execution_count": null,
   "metadata": {},
   "outputs": [],
   "source": [
    "from Modulo_A import *\n",
    "from Modulo_B import *\n",
    "\n",
    "ident()"
   ]
  },
  {
   "cell_type": "code",
   "execution_count": null,
   "metadata": {},
   "outputs": [],
   "source": [
    "from Modulo_B import *\n",
    "from Modulo_A import *\n",
    "\n",
    "ident()"
   ]
  },
  {
   "cell_type": "markdown",
   "metadata": {},
   "source": [
    "### Funcionamiento de la importación de un módulo\n",
    "\n",
    "El proceso de importación de un módulo conlleva por parte de Python los siguientes pasos:\n",
    "1. Localizar el módulo en el sistema de ficheros del Sistema Operativo.\n",
    "2. Si el código está escrito en Python, convertirlo a **bytecode**. Recordad que este concepto lo estudiamos brevemente en el tema de Lenguajes de Programación. Se trata de una traducción previa del módulo generando una codificación intermedia: el **código intermedio** o **bytecode** (extensión `.pyc` en Python).\n",
    "3. Pueden existir módulos **compilados** desarrollados en otros lenguajes (C, por ejemplo).\n",
    "4. Ejecutar el módulo. La ejecución de la definición de funciones consiste en crear los **objetos** función respectivos."
   ]
  },
  {
   "cell_type": "markdown",
   "metadata": {},
   "source": [
    "#### Localización del módulo\n",
    "\n",
    "Durante la importación, el módulo nombrado en la sentencia ```import``` es buscado, por orden, en los siguientes lugares:\n",
    "\n",
    "1. El propio directorio dónde se encuentra el programa que hace la importación. Esta alternativa se utiliza para módulos creados por el propio programador como parte de un programa relativamente pequeño.\n",
    "2. Directorios o carpetas recogidos en la variable de configuración de Python llamada `PYTHONPATH`. Se puede acceder desde IDEs como Spyder.\n",
    "3. Desde los directorios designados por Python durante la instalación, para albergar los módulos de la **biblioteca estándar**.\n",
    "4. Lo especificado en ficheros con extensión `.pth` si estuvieran presentes (no lo veremos en el curso)."
   ]
  },
  {
   "cell_type": "markdown",
   "metadata": {},
   "source": [
    "***\n",
    "<a id='Ejemplo'></a>"
   ]
  },
  {
   "cell_type": "markdown",
   "metadata": {},
   "source": [
    "## Ejemplo de creación de un módulo"
   ]
  },
  {
   "cell_type": "markdown",
   "metadata": {},
   "source": [
    "A modo de ejemplo, vamos a crear un módulo **polinomios**, que *exporte* un conjunto de funciones que permitan realizar algunas operaciones básicas con polinomios. Los polinomios serán descritos por **listas** de números reales que representan sus coeficientes en orden decreciente de las potencias de $x$. \n",
    "\n",
    "El siguiente polinomio de orden $3$:\n",
    "\n",
    "$$\n",
    "p\\left(x\\right) =a_3x^3 + a_2.x^{2}+ a_1.x + a_0\n",
    "$$\n",
    "\n",
    "sería representado por una lista de Python de $4$ elementos, conteniendo los coeficientes:\n",
    "\n",
    "```python\n",
    "[a_3, a_2, a_1, a_0]\n",
    "```"
   ]
  },
  {
   "cell_type": "markdown",
   "metadata": {},
   "source": [
    "En general, para polinomios de orden $n$, será necesario utilizar listas de $n+1$ elementos.\n",
    "\n",
    "$$\n",
    "p\\left(x\\right) =a_nx^n + a_{n-1}.x^{n-1}+ ...+ a_2x^2 + a_1.x + a_0\n",
    "$$\n",
    "\n",
    "El diseño del módulo requiere analizar el campo de aplicación de que se trate y el elegir un conjunto de objetos, funciones en este caso, que sean generales, cohesivas y con interfaces bien definidas. \n",
    "\n",
    "Para nuestro ejemplo de modulo, sin ánimo de ser exhaustivos, definiremos las siguientes funciones iniciales:\n",
    "\n",
    "- `polyval(pol, x)`: evalúa el polinomio en `x` y devuelve un número real.\n",
    "- `polyconv(pol1, pol2)`: devuelve un polinomio que es la multiplicación (*convolución*) de los polinomios `pol1` y `pol2`.\n",
    "- `polyder(pol)`: devuelve el polinomio derivada del polinomio que se pasa como argumento."
   ]
  },
  {
   "cell_type": "markdown",
   "metadata": {},
   "source": [
    "En el fichero `polinomios.py` se definirán las funciones anteriormente mencionadas.\n",
    "Nótese que, para este ejemplo, en aras a simplificar, el fichero que implementa el módulo se encuentra en la misma carpeta en la que se encuentra nuestro **cuaderno**.\n",
    "La siguiente celda muestra la definición de una de las funciones incluidas en `polinomios.py`."
   ]
  },
  {
   "cell_type": "code",
   "execution_count": null,
   "metadata": {},
   "outputs": [],
   "source": [
    "def polyder(pol):\n",
    "    '''\n",
    "    Devuelve el polinomio derivada del polinomio pol = [a_n, ..., a_2, a_1, a_0].\n",
    "    Parameters\n",
    "    ----------\n",
    "    pol : list: numeric\n",
    "        Lista con el polinomio a derivar.\n",
    "    Returns\n",
    "    -------\n",
    "    der : list: numeric\n",
    "        Lista con los coeficientes del polinomio derivada.\n",
    "    Example\n",
    "    -------\n",
    "    >>> print(polyder([2, 5, 3, 1]))\n",
    "    [6, 10, 3]\n",
    "    '''\n",
    "\n",
    "    der = list(pol)\n",
    "    der.pop()\n",
    "    orden = len(der)\n",
    "    for i, a in enumerate(der):\n",
    "        der[i] *= orden - i\n",
    "    return der"
   ]
  },
  {
   "cell_type": "markdown",
   "metadata": {},
   "source": [
    "Esta función recibe la lista que da cuenta de los coeficientes del polinomio que se desea derivar simbólicamente, para devolver otra lista con los coeficientes del polinomio que representa la derivada.\n",
    "\n",
    "El uso de la documentación provista por el *docstring* es siempre recomendable, pero lo es aún más a la hora de crear módulos con la intención de ser utilizados en diferentes proyectos.\n",
    "\n",
    "Veamos el uso de nuestro módulo y función con dos ejemplos alternativos."
   ]
  },
  {
   "cell_type": "code",
   "execution_count": null,
   "metadata": {},
   "outputs": [],
   "source": [
    "import polinomios as pol\n",
    "\n",
    "help(pol.polyder)\n",
    "\n",
    "print(pol.polyder([2, 1, 1]))"
   ]
  },
  {
   "cell_type": "markdown",
   "metadata": {},
   "source": [
    "***\n",
    "<a id='Diferencias'></a>"
   ]
  },
  {
   "cell_type": "markdown",
   "metadata": {},
   "source": [
    "## Programa versus módulo"
   ]
  },
  {
   "cell_type": "markdown",
   "metadata": {},
   "source": [
    "¿Existen diferencias fundamentales entre un módulo y un programa principal?\n",
    "\n",
    "Desde el punto de vista de la sintaxis de Python **no hay diferencia alguna**. La diferencia la impone el *uso* que se le otorga a uno y otro. No hay ningún impedimento para ejecutar un módulo como si de un programa principal se tratase.\n",
    "\n",
    "La cuestión relevante es que un módulo puede contener sentencias que el programador solo desea que sean ejecutadas cuando lo hacemos directamente desde el intérprete de Python. Por el contrario, cuando el módulo es importado, esas mismas sentencias no deseamos que se ejecuten."
   ]
  },
  {
   "cell_type": "markdown",
   "metadata": {},
   "source": [
    "### ¿Cómo distinguir el uso como módulo del uso como programa principal?\n",
    "En Python, cada fichero `*.py` tiene asociado un **atributo global** predefinido por el sistema de tipo `str`, llamado `__name__`.  Esta variable `__name__` tendrá un valor u otro, en dependencia de si se trata del programa principal que está siendo ejecutado o de un módulo que ha sido importado.\n",
    "\n",
    "La variable `__name__` contiene alternativamente:\n",
    "\n",
    "- La cadena `'__main__'` si el fichero en el que es utilizada ha sido invocado directamente por el sistema, es decir, es el programa principal.\n",
    "- La cadena con el nombre del módulo, si el fichero en el que es utilizada ha sido importado con alguna de las variantes descritas."
   ]
  },
  {
   "cell_type": "markdown",
   "metadata": {},
   "source": [
    "Vamos a analizar lo que ocurre con el módulo `Modulo_C`, cuyo contenido es:\n",
    "\n",
    "```python\n",
    "#Fichero: Modulo_C.py\n",
    "def ident():\n",
    "    print('Función ident en Modulo_C.')\n",
    "\n",
    "    \n",
    "print('Valor de __name__ en Modulo_C:', __name__)\n",
    "```\n",
    "\n",
    "¡Es importante que se reinicie el núcleo aquí para que se cargue `Modulo_C` por primera vez!"
   ]
  },
  {
   "cell_type": "code",
   "execution_count": 2,
   "metadata": {
    "tags": [
     "remove-output"
    ]
   },
   "outputs": [
    {
     "name": "stdout",
     "output_type": "stream",
     "text": [
      "Función ident en Modulo_C.\n",
      "Valor de __name__ en programa principal: __main__\n"
     ]
    }
   ],
   "source": [
    "import Modulo_C as mod\n",
    "\n",
    "mod.ident()\n",
    "print('Valor de __name__ en programa principal:', __name__)"
   ]
  },
  {
   "cell_type": "markdown",
   "metadata": {},
   "source": [
    "La salida tras reiniciar el kernel sería la siguiente:\n",
    "```\n",
    "Valor de __name__ en Modulo_C: Modulo_C\n",
    "Función ident en Modulo_C.\n",
    "Valor de __name__ en programa principal: __main__\n",
    "```"
   ]
  },
  {
   "cell_type": "markdown",
   "metadata": {},
   "source": [
    "Observe que en el fichero y en la celda, que representaría el programa principal, existe una línea ejecutable declarada a nivel global que saca por pantalla el valor de la variable `__name__`."
   ]
  },
  {
   "cell_type": "markdown",
   "metadata": {},
   "source": [
    "Al ejecutar la celda ocurre lo siguiente:\n",
    "1. El programa de **nivel superior** es el programa que se ejecuta directamente, y que corresponde a nuestro programa principal.\n",
    "2. Se ejecuta la línea `import Modulo_C as mod` que ejecuta el fichero `Modulo_C.py` (que se encuentra en el directorio de este cuaderno).\n",
    "3. La ejecución del módulo implica la definición de la función `ident()`, que crea el objeto correspondiente, y la ejecución de la sentencia `print()` mostrada en la segunda celda. Como resultado de esta ejecución, sabemos que la variable `__name__` del módulo tiene el valor `'Modulo_C'`, o sea, el nombre del módulo.\n",
    "4. Continúa la ejecución del programa principal, se ejecuta la función del módulo `mod.ident()` y luego se imprime la variable `__name__` desde el programa principal y aquí el valor de la misma es la cadena de caracteres `'__main__'`."
   ]
  },
  {
   "cell_type": "markdown",
   "metadata": {},
   "source": [
    "Teniendo en cuenta lo discutido, es práctica habitual en Python utilizar la construcción condicional que se muestra en la celda siguiente para ejecutar las sentencias definidas a nivel global (fuera de las funciones) solo en el caso de que el fichero haya sido ejecutado directamente como programa de **nivel superior**.\n",
    "\n",
    "El fichero `Modulo_D.py` muestra un ejemplo de ello:\n",
    "\n",
    "```python\n",
    "#Fichero: Modulo_D.py\n",
    "def ident():\n",
    "    print('Función ident en Modulo_D.')\n",
    "\n",
    "if __name__ == '__main__':\n",
    "    print('Esta sentencia solo se ejecuta si actúa Modulo_D como programa principal.')\n",
    "```"
   ]
  },
  {
   "cell_type": "markdown",
   "metadata": {},
   "source": [
    "¡Es importante que reinicie el núcleo aquí para que se cargue `Modulo_C` y `Modulo_D` por primera vez!"
   ]
  },
  {
   "cell_type": "code",
   "execution_count": 1,
   "metadata": {
    "tags": [
     "remove-output"
    ]
   },
   "outputs": [
    {
     "name": "stdout",
     "output_type": "stream",
     "text": [
      "Valor de __name__ en Modulo_C: Modulo_C\n",
      "Función ident en Modulo_C.\n",
      "Función ident en Modulo_D.\n",
      "Valor de __name__ en programa principal: __main__\n"
     ]
    }
   ],
   "source": [
    "import Modulo_C as modC\n",
    "import Modulo_D as modD\n",
    "\n",
    "modC.ident()\n",
    "modD.ident()\n",
    "print('Valor de __name__ en programa principal:', __name__)"
   ]
  },
  {
   "cell_type": "markdown",
   "metadata": {},
   "source": [
    "La salida tras reiniciar el kernel sería la siguiente:\n",
    "```\n",
    "Valor de __name__ en Modulo_C: Modulo_C\n",
    "Función ident en Modulo_C.\n",
    "Función ident en Modulo_D.\n",
    "Valor de __name__ en programa principal: __main__\n",
    "```"
   ]
  },
  {
   "cell_type": "markdown",
   "metadata": {},
   "source": [
    "Véase que ahora la sentencia `print()` del módulo `Modulo_D` no se ha ejecutado al estar dentro del condicional `if`."
   ]
  },
  {
   "cell_type": "markdown",
   "metadata": {},
   "source": [
    "Las funciones son definidas, típicamente, fuera del condicional. Esto abre la puerta a que nuestro código pueda ser utilizado como si fuera un módulo por otros programas, en el caso de que las definiciones de las funciones fueran lo suficientemente generales y útiles para los mismos. En este caso, el código dentro del condicional no se ejecutaría, porque `__name__` no contendría `'__main__'`, sino el nombre del fichero, es decir, el nombre del módulo que contiene el código.\n",
    "\n",
    "Una importante aplicación de esta construcción la tenemos en las **pruebas unitarias** (**unit tests**) como se comenta en la siguiente sección."
   ]
  },
  {
   "cell_type": "markdown",
   "metadata": {},
   "source": [
    "***\n",
    "<a id='Pruebas_unitarias'></a>"
   ]
  },
  {
   "cell_type": "markdown",
   "metadata": {},
   "source": [
    "## Introducción a las pruebas unitarias (Unit tests)\n",
    "\n",
    "Una **buena práctica de programación** exige que comprobemos que el funcionamiento de nuestro código es el correcto, realizando **test** que nos permitan asegurar, por ejemplo, que las **funciones** diseñadas cumplan con todos los requerimientos, y funcionen de forma correcta para todos los casos, incluidos los casos límite.\n",
    "\n",
    "Si bien estos **test** son siempre necesarios, lo son aún más en el caso de los módulos que se supone contienen **funciones** y otros objetos programados de forma general, para formar parte de **bibliotecas** que van a ser utilizadas, una y otra vez, conformando diferentes programas. Un error en una función de este tipo de módulos compromete la fiabilidad de todos los programas que la utilizan.\n",
    "\n",
    "Se recomienda entonces que, junto con el código de cada función, se diseñe e implemente también el código con aquellas llamadas que realizan los test sobre esa función."
   ]
  },
  {
   "cell_type": "markdown",
   "metadata": {},
   "source": [
    "El mecanismo que ofrece la variable o atributo `__name__` para chequear mediante una sentencia condicional si un fichero fuente (`.py`) ha sido  ejecutado directamente o no, resulta muy apropiado para programar estos **test o pruebas unitarias** (**Unit Tests**).\n",
    "\n",
    "Aunque existen métodos mucho más sofisticados, una forma simple de hacer un test es ayudándonos de la función nativa `assert()`. Una **aserción** (**assert**) es una sentencia que verifica si una determinada condición es cierta o falsa. En este último caso, se deteniene la ejecución del programa lanzando un mensaje *ad hoc*.\n",
    "```python\n",
    "assert expresion\n",
    "```"
   ]
  },
  {
   "cell_type": "code",
   "execution_count": 2,
   "metadata": {},
   "outputs": [
    {
     "name": "stdout",
     "output_type": "stream",
     "text": [
      "Test -> polyder(pol) == [12, 6, 2]\n",
      "Ok\n",
      "Test -> polyval(pol, 0.) == 1.\n",
      "Ok\n",
      "Test -> polyval(pol, 1.) == 10.\n",
      "Ok\n",
      "Test -> polyval(pol, 2.) == 49.\n",
      "Ok\n",
      "Test -> polyconv(pol, pol) == [16, 24, 25, 20, 10, 4, 1]\n",
      "Ok\n"
     ]
    }
   ],
   "source": [
    "\"\"\"\n",
    "Funciones para trabajar con polinomios\n",
    "\"\"\"\n",
    "# Se han eliminado los docstrings para hacer menos prolija la celda\n",
    "def polyval(pol, x):\n",
    "    y = 0\n",
    "    orden = len(pol) - 1\n",
    "    for i, coef in enumerate(pol):\n",
    "        y += coef*x**(orden-i)\n",
    "    return y\n",
    "\n",
    "\n",
    "def polyder(pol):\n",
    "    der = list(pol)\n",
    "    der.pop()\n",
    "    orden = len(der)\n",
    "    for i, a in enumerate(der):\n",
    "        der[i] *= orden - i\n",
    "    return der\n",
    "\n",
    "\n",
    "def polyconv(pol1, pol2):\n",
    "    orden1, orden2 = len(pol1) - 1, len(pol2) - 1\n",
    "    if orden1 < 0 or orden2 < 0:\n",
    "        producto = None\n",
    "    else:\n",
    "        orden = orden1 + orden2\n",
    "        producto = [0]*(orden + 1)\n",
    "        for i, elem1 in enumerate(pol1):\n",
    "            for j, elem2 in enumerate(pol2):\n",
    "                producto[i + j] += elem1*elem2\n",
    "    return producto\n",
    "\n",
    "\n",
    "if __name__ == '__main__':\n",
    "    pol = [4, 3, 2, 1]\n",
    "    assert polyder(pol) == [12, 6, 2]\n",
    "    print('Test -> polyder(pol) == [12, 6, 2]\\nOk')\n",
    "    assert polyval(pol, 0.) == 1.\n",
    "    print('Test -> polyval(pol, 0.) == 1.\\nOk')\n",
    "    assert polyval(pol, 1.) == 10.\n",
    "    print('Test -> polyval(pol, 1.) == 10.\\nOk')\n",
    "    assert polyval(pol, 2.) == 49.\n",
    "    print('Test -> polyval(pol, 2.) == 49.\\nOk')\n",
    "    assert polyconv(pol, pol) == [16, 24, 25, 20, 10, 4, 1]\n",
    "    print('Test -> polyconv(pol, pol) == [16, 24, 25, 20, 10, 4, 1]\\nOk')"
   ]
  },
  {
   "cell_type": "markdown",
   "metadata": {},
   "source": [
    "En la celda anterior se muestra un fragmento del módulo `polinomios`. \n",
    "\n",
    "Observe que aparecen definiciones de las funciones `polyconv()`, `polyder()` y `polyval()` para determinar la convolución (producto), la derivada y para evaluar un polinomio en un punto, respectivamente.\n",
    "\n",
    "La definición de estas funciones es el propósito fundamental de la existencia del módulo. En el caso de que el mismo sea importado por un guion u otro módulo, el código de estas definiciones sería ejecutado para crear los respectivos objetos. Sin embargo, en ese caso, como `__name__` tendría un valor diferente de `'__main__'` el código en el cuerpo del `if` no se ejecutaría.\n",
    "\n",
    "Sin embargo, cuando el fichero que implementa el módulo es ejecutado directamente, entonces si se cumpliría la condición del `if`, con lo cual serían ejecutadas las sentencias asociadas a este bloque. De esta forma, tenemos la oportunidad ideal para programar en este punto una serie de llamadas a las funciones del módulo que sirvan como **test unitarios**, es decir, que demuestren mediante resultados conocidos, la *corrección* de las mismas."
   ]
  },
  {
   "cell_type": "markdown",
   "metadata": {},
   "source": [
    "***\n",
    "<a id='Biblioteca'></a>"
   ]
  },
  {
   "cell_type": "markdown",
   "metadata": {},
   "source": [
    "## Biblioteca estándar\n",
    "\n",
    "Python ofrece multitud de módulos en la [biblioteca estándar](https://docs.python.org/3/library/), convenientemente clasificados por temática. El enlace a la página web oficial del lenguaje ofrece una descripción completa de los mismos. \n",
    "\n",
    "\n",
    "De especial interés se tienen los siguientes:\n",
    "\n",
    "- **math**, **cmath**: funciones matemáticas reales y complejas\n",
    "- **random**: generación de números pseudoaleatorios\n",
    "- **os**: para utilizar servicios del Sistema Operativo\n",
    "- **time**: acceso al tiempo y funciones relativas al calendario\n",
    "- **csv**, **json**, **xml**, **html**: para leer y escribir ficheros en diferentes formatos (csv, json, xml, html)\n",
    "- **tkinter**: implementación de interfaces gráficas con el usuario\n",
    "- **pydoc**, **doctest**: para generar y testar automáticamente documentación de programas python\n",
    "- **timeit**: para medir el tiempo de ejecución de fragmentos de código\n",
    "- **sys**: acceso a funciones que interaccionan con el intérprete"
   ]
  },
  {
   "cell_type": "markdown",
   "metadata": {},
   "source": [
    "En el curso ya hemos utilizado funciones del módulo `math` y `cmath`. En diversos temas, y de forma transversal, estamos incorporando funciones provenientes de otros módulos y ¡**paquetes**!."
   ]
  }
 ],
 "metadata": {
  "celltoolbar": "Tags",
  "kernelspec": {
   "display_name": "Python 3.9.7 ('base')",
   "language": "python",
   "name": "python3"
  },
  "language_info": {
   "codemirror_mode": {
    "name": "ipython",
    "version": 3
   },
   "file_extension": ".py",
   "mimetype": "text/x-python",
   "name": "python",
   "nbconvert_exporter": "python",
   "pygments_lexer": "ipython3",
   "version": "3.9.7"
  },
  "vscode": {
   "interpreter": {
    "hash": "e4cce46d6be9934fbd27f9ca0432556941ea5bdf741d4f4d64c6cd7f8dfa8fba"
   }
  }
 },
 "nbformat": 4,
 "nbformat_minor": 2
}
