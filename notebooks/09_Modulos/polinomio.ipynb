{
 "cells": [
  {
   "cell_type": "code",
   "execution_count": null,
   "metadata": {
    "lines_to_next_cell": 1
   },
   "outputs": [],
   "source": [
    "\"\"\"\n",
    "Funciones para trabajar con polinomios\n",
    "\"\"\""
   ]
  },
  {
   "cell_type": "code",
   "execution_count": null,
   "metadata": {},
   "outputs": [],
   "source": [
    "def polyval(pol, x):\n",
    "    ''' \n",
    "    Función para evaluar un polinomio\n",
    "    \n",
    "    Parameters\n",
    "    ----------\n",
    "    pol: list\n",
    "        Polinomio\n",
    "    x: float\n",
    "        Abscisa\n",
    "\n",
    "    Returns\n",
    "    -------\n",
    "    float\n",
    "        Valor del polinomio en la abscisa x\n",
    "    Example\n",
    "    -------\n",
    "    >>> print(polyval([2, 5, 3, 1], 2.1))\n",
    "    47.872\n",
    "    '''\n",
    "    y = 0\n",
    "    orden = len(pol) - 1\n",
    "    for i, coef in enumerate(pol):\n",
    "        y += coef*x**(orden-i)\n",
    "    return y"
   ]
  },
  {
   "cell_type": "code",
   "execution_count": null,
   "metadata": {},
   "outputs": [],
   "source": [
    "def polyder(pol):\n",
    "    '''\n",
    "    Devuelve el polinomio derivada.\n",
    "    Parameters\n",
    "    ----------\n",
    "    pol: list\n",
    "        Polinomio a derivar.\n",
    "\n",
    "    Returns\n",
    "    -------\n",
    "    list\n",
    "        Lista con los coeficientes del polinomio derivada.\n",
    "    Example\n",
    "    -------\n",
    "    >>> print(polyder([2, 5, 3, 1]))\n",
    "    [6, 10, 3]\n",
    "    '''\n",
    "\n",
    "    der = list(pol)\n",
    "    der.pop()\n",
    "    orden = len(der)\n",
    "    for i, a in enumerate(der):\n",
    "        der[i] *= orden - i\n",
    "    return der"
   ]
  },
  {
   "cell_type": "code",
   "execution_count": null,
   "metadata": {},
   "outputs": [],
   "source": [
    "def polyconv(pol1, pol2):\n",
    "    '''\n",
    "    Devuelve lista con convolución de dos polinomios\n",
    "\n",
    "    Parameters\n",
    "    ----------\n",
    "    pol1: list\n",
    "        Polinomio 1.\n",
    "    pol2: list\n",
    "        Polinomio 2.\n",
    "\n",
    "    Returns\n",
    "    -------\n",
    "    list\n",
    "        Polinomio convolución\n",
    "    Example\n",
    "    -------\n",
    "    >>> print(polyconv([2, 5, 3, 6], [2, 4]))\n",
    "    [4, 18, 26, 24, 24]\n",
    "\n",
    "    '''\n",
    "    orden1, orden2 = len(pol1) - 1, len(pol2) - 1\n",
    "    if orden1 < 0 or orden2 < 0:\n",
    "        producto = None\n",
    "    else:\n",
    "        orden = orden1 + orden2\n",
    "        producto = [0]*(orden + 1)\n",
    "        for i, elem1 in enumerate(pol1):\n",
    "            for j, elem2 in enumerate(pol2):\n",
    "                producto[i + j] += elem1*elem2\n",
    "    return producto"
   ]
  },
  {
   "cell_type": "code",
   "execution_count": null,
   "metadata": {},
   "outputs": [],
   "source": [
    "if __name__ == '__main__':\n",
    "    pol = [4, 3, 2, 1]\n",
    "    assert polyder(pol) == [12, 6, 2]\n",
    "    print('Test -> polyder(pol) == [12, 6, 2]\\nOk')\n",
    "    assert polyval(pol, 0.) == 1.\n",
    "    print('Test -> polyval(pol, 0.) == 1.\\nOk')\n",
    "    assert polyval(pol, 1.) == 10.\n",
    "    print('Test -> polyval(pol, 1.) == 10.\\nOk')\n",
    "    assert polyval(pol, 2.) == 49.\n",
    "    print('Test -> polyval(pol, 2.) == 49.\\nOk')\n",
    "    assert polyconv(pol, pol) == [16, 24, 25, 20, 10, 4, 1]\n",
    "    print('Test -> polyconv(pol, pol) == [16, 24, 25, 20, 10, 4, 1]\\nOk')"
   ]
  }
 ],
 "metadata": {
  "jupytext": {
   "cell_metadata_filter": "-all",
   "notebook_metadata_filter": "-all",
   "text_representation": {
    "extension": ".py",
    "format_name": "light"
   }
  },
  "kernelspec": {
   "display_name": "Python 3",
   "language": "python",
   "name": "python3"
  },
  "language_info": {
   "codemirror_mode": {
    "name": "ipython",
    "version": 3
   },
   "file_extension": ".py",
   "mimetype": "text/x-python",
   "name": "python",
   "nbconvert_exporter": "python",
   "pygments_lexer": "ipython3",
   "version": "3.7.7"
  }
 },
 "nbformat": 4,
 "nbformat_minor": 4
}
