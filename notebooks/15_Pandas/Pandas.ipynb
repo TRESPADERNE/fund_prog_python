{
 "cells": [
  {
   "cell_type": "markdown",
   "metadata": {},
   "source": [
    "# Introducción a Pandas\n",
    "**Autores**: Rogelio Mazaeda Echevarría, Félix Miguel Trespaderne."
   ]
  },
  {
   "cell_type": "markdown",
   "metadata": {},
   "source": [
    "***"
   ]
  },
  {
   "cell_type": "markdown",
   "metadata": {},
   "source": [
    "**Numpy** es la biblioteca Python recomendada para trabajar con vectores y matrices, **colecciones de datos del mismo tipo**, que aparecen en múltiples escenarios de la ciencia.\n",
    "\n",
    "Sin embargo, en muchas ocasiones, se necesita trabajar simultáneamente con conjuntos de datos **relacionados** que tienen naturaleza diferente. Además, estos datos, se pueden *organizar* en un formato **tabular**. Las **columnas** de estas **tablas** están formadas por datos del mismo tipo, `float`, `str`, `int`, datos temporales, etc.\n",
    "\n",
    "Las hojas de cálculo, como la herramienta **Excel**, los ficheros de valores separados por `,`, archivos **csv** (**c**omma **s**eparated **v**alues), o ya en otro nivel de abstracción, las **bases de datos relacionales**, son ejemplos de organización tabular.\n",
    "\n",
    "A veces, algunas de las **celdas** de estas tablas **no tienen ningún valor**. Por ejemplo, durante la recogida de datos de un experimento, el sensor de medida no suministra esa información por la razón que fuere.\n",
    "\n",
    "La biblioteca [**Pandas**](https://pandas.pydata.org/) está diseñada precisamente para trabajar en este escenario, poniendo a disposición del **ingeniero de datos** un vasto número de funcionalidades. Y, además, **¡gratuitas**!\n",
    "\n",
    "**Pandas** (**Pan**el **Da**ta), junto con **Numpy**, **Scipy** y **Matplotlib**, conforman el conjunto de herramientas, dentro del *ecosistema* Python, para el desarrollo de la **Ciencia de Datos**.\n",
    "\n",
    "En este cuaderno sólo rascamos mínimamente la superficie de las múltiples posibilidades que ofrece esta biblioteca. Las opciones de configuración de uso de la mayor parte de las funciones son enormes.\n",
    "Por ejemplo, para la función `read_csv()` que veremos más abajo, tenemos estas posibilidades de invocación:\n",
    "```python\n",
    "pandas.read_csv(filepath_or_buffer: Union[str, pathlib.Path, IO[~AnyStr]], sep=',', delimiter=None, header='infer', names=None, index_col=None, usecols=None, squeeze=False, prefix=None, mangle_dupe_cols=True, dtype=None, engine=None, converters=None, true_values=None, false_values=None, skipinitialspace=False, skiprows=None, skipfooter=0, nrows=None, na_values=None, keep_default_na=True, na_filter=True, verbose=False, skip_blank_lines=True, parse_dates=False, infer_datetime_format=False, keep_date_col=False, date_parser=None, dayfirst=False, cache_dates=True, iterator=False, chunksize=None, compression='infer', thousands=None, decimal: str = '.', lineterminator=None, quotechar='\"', quoting=0, doublequote=True, escapechar=None, comment=None, encoding=None, dialect=None, error_bad_lines=True, warn_bad_lines=True, delim_whitespace=False, low_memory=True, memory_map=False, float_precision=None)\n",
    "```\n",
    "\n",
    "Ni [**Wes McKinney**](https://wesmckinney.com/), creador de **Pandas**, podría recordar semejante volumen de información. Por ello, tanto para **Pandas**, como **Numpy**, **Scipy** y, en general, cualquier biblioteca, es importante consultar la documentación, buscar ejemplos de uso, indagar dudas en foros como [**Stack Overflow**](https://stackoverflow.com/), ver si el problema que necesitamos resolver ya está resuelto y alguien lo ha compartido en repositorios como [**GitHub**](https://github.com/), etc."
   ]
  },
  {
   "cell_type": "markdown",
   "metadata": {},
   "source": [
    "## La estructura de datos Dataframe\n",
    "\n",
    "La forma habitual de importar la biblioteca **Pandas** es:"
   ]
  },
  {
   "cell_type": "code",
   "execution_count": 1,
   "metadata": {},
   "outputs": [],
   "source": [
    "import pandas as pd"
   ]
  },
  {
   "cell_type": "markdown",
   "metadata": {},
   "source": [
    "Pandas tiene una estructura de datos simple, que *recuerda* a los diccionarios, la estructura `Series`. Pero vamos a utilizar en esta introducción a Pandas la estructura `Dataframe`, que es más interesante y engloba a la anterior.\n",
    "\n",
    "Supongamos que nos dan la siguiente información respecto a las capitales de provincia de la **Comunidad Autónoma de Castilla y León**:\n",
    "\n",
    "| Ciudad     | UTM x   | UTM y  |\n",
    "|:----------:|:-------:|:------:|\n",
    "| Ávila      | 4501771 | 356599 |\n",
    "| Burgos     | 4687857 | 442361 |\n",
    "| León       | 4719468 | 289411 |\n",
    "| Palencia   | 4652764 | 373045 |\n",
    "| Salamanca  | 4538475 | 275839 |\n",
    "| Segovia    | 4533807 | 406015 |\n",
    "| Soria      | 4624007 | 544330 |\n",
    "| Valladolid | 4612580 | 356065 |\n",
    "| Zamora     | 4598301 | 270015 |\n",
    "\n",
    "La segunda y tercera columna representan las coordenadas (x, y) en metros del [**Sistema de Coordenadas Universal Transversal de Mercator**](https://es.wikipedia.org/wiki/Sistema_de_coordenadas_universal_transversal_de_Mercator) (**Universal Transverse Mercator**, **UTM**). Todas estas ciudades pertenecen a la cuadrícula 30T. Las coordenadas (x, y) crecen respectivamente cuanto más al norte y al este están las ciudades.\n",
    "\n",
    "Ya vimos en el Tutorial que describía el **problema del viajante de comercio** diferentes opciones de almacenamiento, siendo la que consideramos en ese momento más interesante, la de los diccionarios."
   ]
  },
  {
   "cell_type": "code",
   "execution_count": 2,
   "metadata": {},
   "outputs": [],
   "source": [
    "coord_ciudades = {'Ávila': (4501771, 356599),\n",
    "            'Burgos': (4687857, 442361),\n",
    "            'León': (4719468, 289411),\n",
    "            'Palencia': (4652764, 373045),\n",
    "            'Salamanca': (4538475, 275839),\n",
    "            'Segovia': (4533807, 406015),\n",
    "            'Soria': (4624007, 544330),\n",
    "            'Valladolid': (4612580, 356065),\n",
    "            'Zamora': (4598301, 270015)}"
   ]
  },
  {
   "cell_type": "markdown",
   "metadata": {},
   "source": [
    "Vamos a usar `Dataframe()` de **Pandas** para crear una **tabla** a partir del diccionario. "
   ]
  },
  {
   "cell_type": "code",
   "execution_count": 3,
   "metadata": {},
   "outputs": [
    {
     "data": {
      "text/html": [
       "<div>\n",
       "<style scoped>\n",
       "    .dataframe tbody tr th:only-of-type {\n",
       "        vertical-align: middle;\n",
       "    }\n",
       "\n",
       "    .dataframe tbody tr th {\n",
       "        vertical-align: top;\n",
       "    }\n",
       "\n",
       "    .dataframe thead th {\n",
       "        text-align: right;\n",
       "    }\n",
       "</style>\n",
       "<table border=\"1\" class=\"dataframe\">\n",
       "  <thead>\n",
       "    <tr style=\"text-align: right;\">\n",
       "      <th></th>\n",
       "      <th>Ávila</th>\n",
       "      <th>Burgos</th>\n",
       "      <th>León</th>\n",
       "      <th>Palencia</th>\n",
       "      <th>Salamanca</th>\n",
       "      <th>Segovia</th>\n",
       "      <th>Soria</th>\n",
       "      <th>Valladolid</th>\n",
       "      <th>Zamora</th>\n",
       "    </tr>\n",
       "  </thead>\n",
       "  <tbody>\n",
       "    <tr>\n",
       "      <th>0</th>\n",
       "      <td>4501771</td>\n",
       "      <td>4687857</td>\n",
       "      <td>4719468</td>\n",
       "      <td>4652764</td>\n",
       "      <td>4538475</td>\n",
       "      <td>4533807</td>\n",
       "      <td>4624007</td>\n",
       "      <td>4612580</td>\n",
       "      <td>4598301</td>\n",
       "    </tr>\n",
       "    <tr>\n",
       "      <th>1</th>\n",
       "      <td>356599</td>\n",
       "      <td>442361</td>\n",
       "      <td>289411</td>\n",
       "      <td>373045</td>\n",
       "      <td>275839</td>\n",
       "      <td>406015</td>\n",
       "      <td>544330</td>\n",
       "      <td>356065</td>\n",
       "      <td>270015</td>\n",
       "    </tr>\n",
       "  </tbody>\n",
       "</table>\n",
       "</div>"
      ],
      "text/plain": [
       "     Ávila   Burgos     León  Palencia  Salamanca  Segovia    Soria  \\\n",
       "0  4501771  4687857  4719468   4652764    4538475  4533807  4624007   \n",
       "1   356599   442361   289411    373045     275839   406015   544330   \n",
       "\n",
       "   Valladolid   Zamora  \n",
       "0     4612580  4598301  \n",
       "1      356065   270015  "
      ]
     },
     "execution_count": 3,
     "metadata": {},
     "output_type": "execute_result"
    }
   ],
   "source": [
    "pd.DataFrame(coord_ciudades)"
   ]
  },
  {
   "cell_type": "markdown",
   "metadata": {},
   "source": [
    "Vemos que esta tabla no se parece a la que hemos visto más arriba. Lo que ha hecho `Dataframe()` es utilizar las **claves** del diccionario como nombres de las columnas.\n",
    "\n",
    "La forma de lograr la tabla es pasar como argumento los `items()` del diccionario."
   ]
  },
  {
   "cell_type": "code",
   "execution_count": 4,
   "metadata": {},
   "outputs": [
    {
     "data": {
      "text/html": [
       "<div>\n",
       "<style scoped>\n",
       "    .dataframe tbody tr th:only-of-type {\n",
       "        vertical-align: middle;\n",
       "    }\n",
       "\n",
       "    .dataframe tbody tr th {\n",
       "        vertical-align: top;\n",
       "    }\n",
       "\n",
       "    .dataframe thead th {\n",
       "        text-align: right;\n",
       "    }\n",
       "</style>\n",
       "<table border=\"1\" class=\"dataframe\">\n",
       "  <thead>\n",
       "    <tr style=\"text-align: right;\">\n",
       "      <th></th>\n",
       "      <th>0</th>\n",
       "      <th>1</th>\n",
       "    </tr>\n",
       "  </thead>\n",
       "  <tbody>\n",
       "    <tr>\n",
       "      <th>0</th>\n",
       "      <td>Ávila</td>\n",
       "      <td>(4501771, 356599)</td>\n",
       "    </tr>\n",
       "    <tr>\n",
       "      <th>1</th>\n",
       "      <td>Burgos</td>\n",
       "      <td>(4687857, 442361)</td>\n",
       "    </tr>\n",
       "    <tr>\n",
       "      <th>2</th>\n",
       "      <td>León</td>\n",
       "      <td>(4719468, 289411)</td>\n",
       "    </tr>\n",
       "    <tr>\n",
       "      <th>3</th>\n",
       "      <td>Palencia</td>\n",
       "      <td>(4652764, 373045)</td>\n",
       "    </tr>\n",
       "    <tr>\n",
       "      <th>4</th>\n",
       "      <td>Salamanca</td>\n",
       "      <td>(4538475, 275839)</td>\n",
       "    </tr>\n",
       "    <tr>\n",
       "      <th>5</th>\n",
       "      <td>Segovia</td>\n",
       "      <td>(4533807, 406015)</td>\n",
       "    </tr>\n",
       "    <tr>\n",
       "      <th>6</th>\n",
       "      <td>Soria</td>\n",
       "      <td>(4624007, 544330)</td>\n",
       "    </tr>\n",
       "    <tr>\n",
       "      <th>7</th>\n",
       "      <td>Valladolid</td>\n",
       "      <td>(4612580, 356065)</td>\n",
       "    </tr>\n",
       "    <tr>\n",
       "      <th>8</th>\n",
       "      <td>Zamora</td>\n",
       "      <td>(4598301, 270015)</td>\n",
       "    </tr>\n",
       "  </tbody>\n",
       "</table>\n",
       "</div>"
      ],
      "text/plain": [
       "            0                  1\n",
       "0       Ávila  (4501771, 356599)\n",
       "1      Burgos  (4687857, 442361)\n",
       "2        León  (4719468, 289411)\n",
       "3    Palencia  (4652764, 373045)\n",
       "4   Salamanca  (4538475, 275839)\n",
       "5     Segovia  (4533807, 406015)\n",
       "6       Soria  (4624007, 544330)\n",
       "7  Valladolid  (4612580, 356065)\n",
       "8      Zamora  (4598301, 270015)"
      ]
     },
     "execution_count": 4,
     "metadata": {},
     "output_type": "execute_result"
    }
   ],
   "source": [
    "pd.DataFrame(coord_ciudades.items())"
   ]
  },
  {
   "cell_type": "markdown",
   "metadata": {},
   "source": [
    "En ambos casos, Dataframe() crea automáticamente unos nombres para las columnas, en este último caso valores numéricos `0` y `1`.  Además, cada fila tiene, por defecto, también un **índice** numérico asociado, empezando por el `0`."
   ]
  },
  {
   "cell_type": "markdown",
   "metadata": {},
   "source": [
    "### La cabecera\n",
    "El conjunto de los nombres de las columnas, que aparecen en la primera fila, es la **cabecera** (**head**) de la tabla. \n",
    "\n",
    "Para las columnas, lo lógico es usar nombres autoexplicativos. Se puede hacer en el momento de creación de la tabla o posteriormente."
   ]
  },
  {
   "cell_type": "code",
   "execution_count": 5,
   "metadata": {},
   "outputs": [
    {
     "data": {
      "text/html": [
       "<div>\n",
       "<style scoped>\n",
       "    .dataframe tbody tr th:only-of-type {\n",
       "        vertical-align: middle;\n",
       "    }\n",
       "\n",
       "    .dataframe tbody tr th {\n",
       "        vertical-align: top;\n",
       "    }\n",
       "\n",
       "    .dataframe thead th {\n",
       "        text-align: right;\n",
       "    }\n",
       "</style>\n",
       "<table border=\"1\" class=\"dataframe\">\n",
       "  <thead>\n",
       "    <tr style=\"text-align: right;\">\n",
       "      <th></th>\n",
       "      <th>Ciudad</th>\n",
       "      <th>UTM</th>\n",
       "    </tr>\n",
       "  </thead>\n",
       "  <tbody>\n",
       "    <tr>\n",
       "      <th>0</th>\n",
       "      <td>Ávila</td>\n",
       "      <td>(4501771, 356599)</td>\n",
       "    </tr>\n",
       "    <tr>\n",
       "      <th>1</th>\n",
       "      <td>Burgos</td>\n",
       "      <td>(4687857, 442361)</td>\n",
       "    </tr>\n",
       "    <tr>\n",
       "      <th>2</th>\n",
       "      <td>León</td>\n",
       "      <td>(4719468, 289411)</td>\n",
       "    </tr>\n",
       "    <tr>\n",
       "      <th>3</th>\n",
       "      <td>Palencia</td>\n",
       "      <td>(4652764, 373045)</td>\n",
       "    </tr>\n",
       "    <tr>\n",
       "      <th>4</th>\n",
       "      <td>Salamanca</td>\n",
       "      <td>(4538475, 275839)</td>\n",
       "    </tr>\n",
       "    <tr>\n",
       "      <th>5</th>\n",
       "      <td>Segovia</td>\n",
       "      <td>(4533807, 406015)</td>\n",
       "    </tr>\n",
       "    <tr>\n",
       "      <th>6</th>\n",
       "      <td>Soria</td>\n",
       "      <td>(4624007, 544330)</td>\n",
       "    </tr>\n",
       "    <tr>\n",
       "      <th>7</th>\n",
       "      <td>Valladolid</td>\n",
       "      <td>(4612580, 356065)</td>\n",
       "    </tr>\n",
       "    <tr>\n",
       "      <th>8</th>\n",
       "      <td>Zamora</td>\n",
       "      <td>(4598301, 270015)</td>\n",
       "    </tr>\n",
       "  </tbody>\n",
       "</table>\n",
       "</div>"
      ],
      "text/plain": [
       "       Ciudad                UTM\n",
       "0       Ávila  (4501771, 356599)\n",
       "1      Burgos  (4687857, 442361)\n",
       "2        León  (4719468, 289411)\n",
       "3    Palencia  (4652764, 373045)\n",
       "4   Salamanca  (4538475, 275839)\n",
       "5     Segovia  (4533807, 406015)\n",
       "6       Soria  (4624007, 544330)\n",
       "7  Valladolid  (4612580, 356065)\n",
       "8      Zamora  (4598301, 270015)"
      ]
     },
     "execution_count": 5,
     "metadata": {},
     "output_type": "execute_result"
    }
   ],
   "source": [
    "# Damos nombres a las columnas con la opcion 'columns=['nombre_1', 'nombre_2', ...]\n",
    "pd.DataFrame(coord_ciudades.items(), columns=['Ciudad', 'UTM'])"
   ]
  },
  {
   "cell_type": "code",
   "execution_count": 6,
   "metadata": {},
   "outputs": [
    {
     "data": {
      "text/html": [
       "<div>\n",
       "<style scoped>\n",
       "    .dataframe tbody tr th:only-of-type {\n",
       "        vertical-align: middle;\n",
       "    }\n",
       "\n",
       "    .dataframe tbody tr th {\n",
       "        vertical-align: top;\n",
       "    }\n",
       "\n",
       "    .dataframe thead th {\n",
       "        text-align: right;\n",
       "    }\n",
       "</style>\n",
       "<table border=\"1\" class=\"dataframe\">\n",
       "  <thead>\n",
       "    <tr style=\"text-align: right;\">\n",
       "      <th></th>\n",
       "      <th>Ciudad</th>\n",
       "      <th>UTM</th>\n",
       "    </tr>\n",
       "  </thead>\n",
       "  <tbody>\n",
       "    <tr>\n",
       "      <th>0</th>\n",
       "      <td>Ávila</td>\n",
       "      <td>(4501771, 356599)</td>\n",
       "    </tr>\n",
       "    <tr>\n",
       "      <th>1</th>\n",
       "      <td>Burgos</td>\n",
       "      <td>(4687857, 442361)</td>\n",
       "    </tr>\n",
       "    <tr>\n",
       "      <th>2</th>\n",
       "      <td>León</td>\n",
       "      <td>(4719468, 289411)</td>\n",
       "    </tr>\n",
       "    <tr>\n",
       "      <th>3</th>\n",
       "      <td>Palencia</td>\n",
       "      <td>(4652764, 373045)</td>\n",
       "    </tr>\n",
       "    <tr>\n",
       "      <th>4</th>\n",
       "      <td>Salamanca</td>\n",
       "      <td>(4538475, 275839)</td>\n",
       "    </tr>\n",
       "    <tr>\n",
       "      <th>5</th>\n",
       "      <td>Segovia</td>\n",
       "      <td>(4533807, 406015)</td>\n",
       "    </tr>\n",
       "    <tr>\n",
       "      <th>6</th>\n",
       "      <td>Soria</td>\n",
       "      <td>(4624007, 544330)</td>\n",
       "    </tr>\n",
       "    <tr>\n",
       "      <th>7</th>\n",
       "      <td>Valladolid</td>\n",
       "      <td>(4612580, 356065)</td>\n",
       "    </tr>\n",
       "    <tr>\n",
       "      <th>8</th>\n",
       "      <td>Zamora</td>\n",
       "      <td>(4598301, 270015)</td>\n",
       "    </tr>\n",
       "  </tbody>\n",
       "</table>\n",
       "</div>"
      ],
      "text/plain": [
       "       Ciudad                UTM\n",
       "0       Ávila  (4501771, 356599)\n",
       "1      Burgos  (4687857, 442361)\n",
       "2        León  (4719468, 289411)\n",
       "3    Palencia  (4652764, 373045)\n",
       "4   Salamanca  (4538475, 275839)\n",
       "5     Segovia  (4533807, 406015)\n",
       "6       Soria  (4624007, 544330)\n",
       "7  Valladolid  (4612580, 356065)\n",
       "8      Zamora  (4598301, 270015)"
      ]
     },
     "execution_count": 6,
     "metadata": {},
     "output_type": "execute_result"
    }
   ],
   "source": [
    "# Damos nombres a las columnas \" a posteriori\" usando el atributo columns\n",
    "# El acrónimo df (data frame) es muy utilizado en Pandas\n",
    "df_coord_ciudades = pd.DataFrame(coord_ciudades.items())\n",
    "df_coord_ciudades.columns = ['Ciudad', 'UTM']\n",
    "df_coord_ciudades"
   ]
  },
  {
   "cell_type": "markdown",
   "metadata": {},
   "source": [
    "### Seleccionando una columna"
   ]
  },
  {
   "cell_type": "markdown",
   "metadata": {},
   "source": [
    "Es realmente sencillo, con una sintaxis similar a la usada con los diccionarios."
   ]
  },
  {
   "cell_type": "code",
   "execution_count": 7,
   "metadata": {},
   "outputs": [
    {
     "data": {
      "text/plain": [
       "0         Ávila\n",
       "1        Burgos\n",
       "2          León\n",
       "3      Palencia\n",
       "4     Salamanca\n",
       "5       Segovia\n",
       "6         Soria\n",
       "7    Valladolid\n",
       "8        Zamora\n",
       "Name: Ciudad, dtype: object"
      ]
     },
     "execution_count": 7,
     "metadata": {},
     "output_type": "execute_result"
    }
   ],
   "source": [
    "df_coord_ciudades['Ciudad']"
   ]
  },
  {
   "cell_type": "code",
   "execution_count": 8,
   "metadata": {},
   "outputs": [
    {
     "data": {
      "text/plain": [
       "0    (4501771, 356599)\n",
       "1    (4687857, 442361)\n",
       "2    (4719468, 289411)\n",
       "3    (4652764, 373045)\n",
       "4    (4538475, 275839)\n",
       "5    (4533807, 406015)\n",
       "6    (4624007, 544330)\n",
       "7    (4612580, 356065)\n",
       "8    (4598301, 270015)\n",
       "Name: UTM, dtype: object"
      ]
     },
     "execution_count": 8,
     "metadata": {},
     "output_type": "execute_result"
    }
   ],
   "source": [
    "df_coord_ciudades['UTM']"
   ]
  },
  {
   "cell_type": "markdown",
   "metadata": {},
   "source": [
    "El tipo de dato correspondiente a la selección de una columna es precisamente `Series`. Véase como un dato tipo `Series` conserva la columna de **índices** asociada."
   ]
  },
  {
   "cell_type": "code",
   "execution_count": 9,
   "metadata": {},
   "outputs": [
    {
     "data": {
      "text/plain": [
       "pandas.core.series.Series"
      ]
     },
     "execution_count": 9,
     "metadata": {},
     "output_type": "execute_result"
    }
   ],
   "source": [
    "type(df_coord_ciudades['Ciudad'])"
   ]
  },
  {
   "cell_type": "markdown",
   "metadata": {},
   "source": [
    "### Columnas iterables\n",
    "Las columnas (también las filas) de un `Dataframe` son **iterables**, como listas, tuplas, diccionarios, etc.\n",
    "\n",
    "Imaginemos que queremos extraer por separado las coordenadas **UTM** **x** e **y**."
   ]
  },
  {
   "cell_type": "code",
   "execution_count": 10,
   "metadata": {},
   "outputs": [],
   "source": [
    "# ¡Hay formas más compactas de hacer esto!\n",
    "list_x = []\n",
    "list_y = []\n",
    "for x, y in df_coord_ciudades['UTM']:\n",
    "    list_x.append(x)\n",
    "    list_y.append(y)"
   ]
  },
  {
   "cell_type": "markdown",
   "metadata": {},
   "source": [
    "### Añadir columnas al Dataframe\n",
    "Al igual que con los diccionarios, es muy simple. Por ejemplo, veamos cómo añadir nuestras dos recien creadas listas, `list_x` y `list_y` en dos nuevas columnas llamadas `'UTM x'` y `'UTM y'`."
   ]
  },
  {
   "cell_type": "code",
   "execution_count": 11,
   "metadata": {},
   "outputs": [
    {
     "data": {
      "text/html": [
       "<div>\n",
       "<style scoped>\n",
       "    .dataframe tbody tr th:only-of-type {\n",
       "        vertical-align: middle;\n",
       "    }\n",
       "\n",
       "    .dataframe tbody tr th {\n",
       "        vertical-align: top;\n",
       "    }\n",
       "\n",
       "    .dataframe thead th {\n",
       "        text-align: right;\n",
       "    }\n",
       "</style>\n",
       "<table border=\"1\" class=\"dataframe\">\n",
       "  <thead>\n",
       "    <tr style=\"text-align: right;\">\n",
       "      <th></th>\n",
       "      <th>Ciudad</th>\n",
       "      <th>UTM</th>\n",
       "      <th>UTM x</th>\n",
       "      <th>UTM y</th>\n",
       "    </tr>\n",
       "  </thead>\n",
       "  <tbody>\n",
       "    <tr>\n",
       "      <th>0</th>\n",
       "      <td>Ávila</td>\n",
       "      <td>(4501771, 356599)</td>\n",
       "      <td>4501771</td>\n",
       "      <td>356599</td>\n",
       "    </tr>\n",
       "    <tr>\n",
       "      <th>1</th>\n",
       "      <td>Burgos</td>\n",
       "      <td>(4687857, 442361)</td>\n",
       "      <td>4687857</td>\n",
       "      <td>442361</td>\n",
       "    </tr>\n",
       "    <tr>\n",
       "      <th>2</th>\n",
       "      <td>León</td>\n",
       "      <td>(4719468, 289411)</td>\n",
       "      <td>4719468</td>\n",
       "      <td>289411</td>\n",
       "    </tr>\n",
       "    <tr>\n",
       "      <th>3</th>\n",
       "      <td>Palencia</td>\n",
       "      <td>(4652764, 373045)</td>\n",
       "      <td>4652764</td>\n",
       "      <td>373045</td>\n",
       "    </tr>\n",
       "    <tr>\n",
       "      <th>4</th>\n",
       "      <td>Salamanca</td>\n",
       "      <td>(4538475, 275839)</td>\n",
       "      <td>4538475</td>\n",
       "      <td>275839</td>\n",
       "    </tr>\n",
       "    <tr>\n",
       "      <th>5</th>\n",
       "      <td>Segovia</td>\n",
       "      <td>(4533807, 406015)</td>\n",
       "      <td>4533807</td>\n",
       "      <td>406015</td>\n",
       "    </tr>\n",
       "    <tr>\n",
       "      <th>6</th>\n",
       "      <td>Soria</td>\n",
       "      <td>(4624007, 544330)</td>\n",
       "      <td>4624007</td>\n",
       "      <td>544330</td>\n",
       "    </tr>\n",
       "    <tr>\n",
       "      <th>7</th>\n",
       "      <td>Valladolid</td>\n",
       "      <td>(4612580, 356065)</td>\n",
       "      <td>4612580</td>\n",
       "      <td>356065</td>\n",
       "    </tr>\n",
       "    <tr>\n",
       "      <th>8</th>\n",
       "      <td>Zamora</td>\n",
       "      <td>(4598301, 270015)</td>\n",
       "      <td>4598301</td>\n",
       "      <td>270015</td>\n",
       "    </tr>\n",
       "  </tbody>\n",
       "</table>\n",
       "</div>"
      ],
      "text/plain": [
       "       Ciudad                UTM    UTM x   UTM y\n",
       "0       Ávila  (4501771, 356599)  4501771  356599\n",
       "1      Burgos  (4687857, 442361)  4687857  442361\n",
       "2        León  (4719468, 289411)  4719468  289411\n",
       "3    Palencia  (4652764, 373045)  4652764  373045\n",
       "4   Salamanca  (4538475, 275839)  4538475  275839\n",
       "5     Segovia  (4533807, 406015)  4533807  406015\n",
       "6       Soria  (4624007, 544330)  4624007  544330\n",
       "7  Valladolid  (4612580, 356065)  4612580  356065\n",
       "8      Zamora  (4598301, 270015)  4598301  270015"
      ]
     },
     "execution_count": 11,
     "metadata": {},
     "output_type": "execute_result"
    }
   ],
   "source": [
    "df_coord_ciudades['UTM x'] = list_x\n",
    "df_coord_ciudades['UTM y'] = list_y\n",
    "df_coord_ciudades"
   ]
  },
  {
   "cell_type": "markdown",
   "metadata": {},
   "source": [
    "### Eliminar columnas\n",
    "Nada nuevo bajo el sol. Usamos el comando nativo `del`. En nuestro ejemplo, está claro que ahora nos sobra la columna `UTM`."
   ]
  },
  {
   "cell_type": "code",
   "execution_count": 12,
   "metadata": {},
   "outputs": [
    {
     "data": {
      "text/html": [
       "<div>\n",
       "<style scoped>\n",
       "    .dataframe tbody tr th:only-of-type {\n",
       "        vertical-align: middle;\n",
       "    }\n",
       "\n",
       "    .dataframe tbody tr th {\n",
       "        vertical-align: top;\n",
       "    }\n",
       "\n",
       "    .dataframe thead th {\n",
       "        text-align: right;\n",
       "    }\n",
       "</style>\n",
       "<table border=\"1\" class=\"dataframe\">\n",
       "  <thead>\n",
       "    <tr style=\"text-align: right;\">\n",
       "      <th></th>\n",
       "      <th>Ciudad</th>\n",
       "      <th>UTM x</th>\n",
       "      <th>UTM y</th>\n",
       "    </tr>\n",
       "  </thead>\n",
       "  <tbody>\n",
       "    <tr>\n",
       "      <th>0</th>\n",
       "      <td>Ávila</td>\n",
       "      <td>4501771</td>\n",
       "      <td>356599</td>\n",
       "    </tr>\n",
       "    <tr>\n",
       "      <th>1</th>\n",
       "      <td>Burgos</td>\n",
       "      <td>4687857</td>\n",
       "      <td>442361</td>\n",
       "    </tr>\n",
       "    <tr>\n",
       "      <th>2</th>\n",
       "      <td>León</td>\n",
       "      <td>4719468</td>\n",
       "      <td>289411</td>\n",
       "    </tr>\n",
       "    <tr>\n",
       "      <th>3</th>\n",
       "      <td>Palencia</td>\n",
       "      <td>4652764</td>\n",
       "      <td>373045</td>\n",
       "    </tr>\n",
       "    <tr>\n",
       "      <th>4</th>\n",
       "      <td>Salamanca</td>\n",
       "      <td>4538475</td>\n",
       "      <td>275839</td>\n",
       "    </tr>\n",
       "    <tr>\n",
       "      <th>5</th>\n",
       "      <td>Segovia</td>\n",
       "      <td>4533807</td>\n",
       "      <td>406015</td>\n",
       "    </tr>\n",
       "    <tr>\n",
       "      <th>6</th>\n",
       "      <td>Soria</td>\n",
       "      <td>4624007</td>\n",
       "      <td>544330</td>\n",
       "    </tr>\n",
       "    <tr>\n",
       "      <th>7</th>\n",
       "      <td>Valladolid</td>\n",
       "      <td>4612580</td>\n",
       "      <td>356065</td>\n",
       "    </tr>\n",
       "    <tr>\n",
       "      <th>8</th>\n",
       "      <td>Zamora</td>\n",
       "      <td>4598301</td>\n",
       "      <td>270015</td>\n",
       "    </tr>\n",
       "  </tbody>\n",
       "</table>\n",
       "</div>"
      ],
      "text/plain": [
       "       Ciudad    UTM x   UTM y\n",
       "0       Ávila  4501771  356599\n",
       "1      Burgos  4687857  442361\n",
       "2        León  4719468  289411\n",
       "3    Palencia  4652764  373045\n",
       "4   Salamanca  4538475  275839\n",
       "5     Segovia  4533807  406015\n",
       "6       Soria  4624007  544330\n",
       "7  Valladolid  4612580  356065\n",
       "8      Zamora  4598301  270015"
      ]
     },
     "execution_count": 12,
     "metadata": {},
     "output_type": "execute_result"
    }
   ],
   "source": [
    "del df_coord_ciudades['UTM']\n",
    "df_coord_ciudades"
   ]
  },
  {
   "cell_type": "markdown",
   "metadata": {},
   "source": [
    "### Seleccionando filas\n",
    "Tenemos dos funciones:\n",
    "* `loc()` para seleccionar por el valor del índice\n",
    "* `iloc()` para seleccionar por la posición del índice"
   ]
  },
  {
   "cell_type": "code",
   "execution_count": 13,
   "metadata": {},
   "outputs": [
    {
     "data": {
      "text/plain": [
       "Ciudad     Burgos\n",
       "UTM x     4687857\n",
       "UTM y      442361\n",
       "Name: 1, dtype: object"
      ]
     },
     "execution_count": 13,
     "metadata": {},
     "output_type": "execute_result"
    }
   ],
   "source": [
    "# Seleccionamos la fila cuyo índice tiene valor 1\n",
    "df_coord_ciudades.loc[1]"
   ]
  },
  {
   "cell_type": "code",
   "execution_count": 14,
   "metadata": {},
   "outputs": [
    {
     "data": {
      "text/plain": [
       "Ciudad     Burgos\n",
       "UTM x     4687857\n",
       "UTM y      442361\n",
       "Name: 1, dtype: object"
      ]
     },
     "execution_count": 14,
     "metadata": {},
     "output_type": "execute_result"
    }
   ],
   "source": [
    "# Seleccionamos la fila que está en la posición 1\n",
    "df_coord_ciudades.iloc[1]"
   ]
  },
  {
   "cell_type": "markdown",
   "metadata": {},
   "source": [
    "Vemos que, en apariencia, ambos métodos hacen lo mismo. Pero es importante diferenciar el matiz entre **valor** en la columna de índices y **posición** de la fila en la columna de índices.\n",
    "\n",
    "Vamos a entenderlo mejor a continuación."
   ]
  },
  {
   "cell_type": "markdown",
   "metadata": {},
   "source": [
    "### Cambiando la columna de índices\n",
    "En nuestro ejemplo, podríamos seleccionar los nombres de las ciudades como índices de cada fila. Es fácil hacerlo con la función `set_index()`."
   ]
  },
  {
   "cell_type": "code",
   "execution_count": 15,
   "metadata": {},
   "outputs": [
    {
     "data": {
      "text/html": [
       "<div>\n",
       "<style scoped>\n",
       "    .dataframe tbody tr th:only-of-type {\n",
       "        vertical-align: middle;\n",
       "    }\n",
       "\n",
       "    .dataframe tbody tr th {\n",
       "        vertical-align: top;\n",
       "    }\n",
       "\n",
       "    .dataframe thead th {\n",
       "        text-align: right;\n",
       "    }\n",
       "</style>\n",
       "<table border=\"1\" class=\"dataframe\">\n",
       "  <thead>\n",
       "    <tr style=\"text-align: right;\">\n",
       "      <th></th>\n",
       "      <th>UTM x</th>\n",
       "      <th>UTM y</th>\n",
       "    </tr>\n",
       "    <tr>\n",
       "      <th>Ciudad</th>\n",
       "      <th></th>\n",
       "      <th></th>\n",
       "    </tr>\n",
       "  </thead>\n",
       "  <tbody>\n",
       "    <tr>\n",
       "      <th>Ávila</th>\n",
       "      <td>4501771</td>\n",
       "      <td>356599</td>\n",
       "    </tr>\n",
       "    <tr>\n",
       "      <th>Burgos</th>\n",
       "      <td>4687857</td>\n",
       "      <td>442361</td>\n",
       "    </tr>\n",
       "    <tr>\n",
       "      <th>León</th>\n",
       "      <td>4719468</td>\n",
       "      <td>289411</td>\n",
       "    </tr>\n",
       "    <tr>\n",
       "      <th>Palencia</th>\n",
       "      <td>4652764</td>\n",
       "      <td>373045</td>\n",
       "    </tr>\n",
       "    <tr>\n",
       "      <th>Salamanca</th>\n",
       "      <td>4538475</td>\n",
       "      <td>275839</td>\n",
       "    </tr>\n",
       "    <tr>\n",
       "      <th>Segovia</th>\n",
       "      <td>4533807</td>\n",
       "      <td>406015</td>\n",
       "    </tr>\n",
       "    <tr>\n",
       "      <th>Soria</th>\n",
       "      <td>4624007</td>\n",
       "      <td>544330</td>\n",
       "    </tr>\n",
       "    <tr>\n",
       "      <th>Valladolid</th>\n",
       "      <td>4612580</td>\n",
       "      <td>356065</td>\n",
       "    </tr>\n",
       "    <tr>\n",
       "      <th>Zamora</th>\n",
       "      <td>4598301</td>\n",
       "      <td>270015</td>\n",
       "    </tr>\n",
       "  </tbody>\n",
       "</table>\n",
       "</div>"
      ],
      "text/plain": [
       "              UTM x   UTM y\n",
       "Ciudad                     \n",
       "Ávila       4501771  356599\n",
       "Burgos      4687857  442361\n",
       "León        4719468  289411\n",
       "Palencia    4652764  373045\n",
       "Salamanca   4538475  275839\n",
       "Segovia     4533807  406015\n",
       "Soria       4624007  544330\n",
       "Valladolid  4612580  356065\n",
       "Zamora      4598301  270015"
      ]
     },
     "execution_count": 15,
     "metadata": {},
     "output_type": "execute_result"
    }
   ],
   "source": [
    "df_coord_ciudades_nueva = df_coord_ciudades.set_index('Ciudad')  # set_index() crea un nuevo data frame, no cambia el actual\n",
    "df_coord_ciudades_nueva"
   ]
  },
  {
   "cell_type": "markdown",
   "metadata": {},
   "source": [
    "Veamos ahora en acción a los métodos `iloc()` y `loc()` con `df_coord_ciudades_nueva`."
   ]
  },
  {
   "cell_type": "code",
   "execution_count": 16,
   "metadata": {},
   "outputs": [],
   "source": [
    "# Seleccionamos la fila cuyo índice tiene valor 'Burgos'\n",
    "burgos = df_coord_ciudades_nueva.loc['Burgos']"
   ]
  },
  {
   "cell_type": "code",
   "execution_count": 17,
   "metadata": {},
   "outputs": [],
   "source": [
    "# Seleccionamos la fila que está en la posición 1\n",
    "burgos = df_coord_ciudades_nueva.iloc[1]"
   ]
  },
  {
   "cell_type": "markdown",
   "metadata": {},
   "source": [
    "### Accediendo a un elemento de la tabla\n",
    "Podemos hacerlo usando la columna (lo habitual) o la fila.\n",
    "\n",
    "Veamos como acceder a la coordenada `UTM x` de Burgos."
   ]
  },
  {
   "cell_type": "code",
   "execution_count": 18,
   "metadata": {},
   "outputs": [
    {
     "data": {
      "text/plain": [
       "4687857"
      ]
     },
     "execution_count": 18,
     "metadata": {},
     "output_type": "execute_result"
    }
   ],
   "source": [
    "df_coord_ciudades_nueva['UTM x']['Burgos']  # Usando la columna"
   ]
  },
  {
   "cell_type": "code",
   "execution_count": 19,
   "metadata": {},
   "outputs": [
    {
     "data": {
      "text/plain": [
       "4687857"
      ]
     },
     "execution_count": 19,
     "metadata": {},
     "output_type": "execute_result"
    }
   ],
   "source": [
    "df_coord_ciudades_nueva.loc['Burgos']['UTM x']  # Usando la fila con loc()"
   ]
  },
  {
   "cell_type": "markdown",
   "metadata": {},
   "source": [
    "## Trabajando con ficheros\n",
    "Ya hemos podido comprobar que la lectura de ficheros con un formato especial es una pesadilla.\n",
    "\n",
    "Cuando trabajamos con datos y necesitamos el concurso de ficheros, lo lógico es recurrir a un formato de almacenamiento más o menos estándar. \n",
    "\n",
    "Por ejemplo, **Numpy** nos permite almacenar matrices en formato texto o binario de forma eficiente."
   ]
  },
  {
   "cell_type": "code",
   "execution_count": 20,
   "metadata": {},
   "outputs": [],
   "source": [
    "import numpy as np\n",
    "m = np.array([[1., 2.], [3., 4.], [5., 6.]], dtype='float32')\n",
    "\n",
    "# Guardando en formato texto\n",
    "np.savetxt('data/m.txt', m)\n",
    "# Leyendo en formato texto\n",
    "m = np.loadtxt('data/m.txt', dtype='float32')\n",
    "# Guardando en formato binario. Se almacena de forma intrínseca el formato de los datos, en este caso 'float32'\n",
    "np.save('data/m', m)  # Se añade la extensión npy automáticamente\n",
    "# Leyendo en formato binario\n",
    "m =np.load('data/m.npy') "
   ]
  },
  {
   "cell_type": "markdown",
   "metadata": {},
   "source": [
    "**Pandas** proporciona diferentes funciones para leer y/o escribir ficheros en múltiples formatos.\n",
    "\n",
    "En general, podemos encontrar módulos específicos para cada formato, posiblemente computacionalmente más eficientes, pero disponer a modo de **navaja suiza** de **Pandas** para muchos de los formatos de interés, supone una gran comodidad para el **ingeniero de datos**.\n",
    "\n",
    "A modo de ejemplo, vamos a utilizar el formato `csv`."
   ]
  },
  {
   "cell_type": "markdown",
   "metadata": {},
   "source": [
    "### El formato csv\n",
    "Uno de los formatos más sencillos y utilizados para almacenar datos organizados tabularmente es **separarlos por comas** (**c**omma **s**eparated **v**alues).\n",
    "\n",
    "Veamos el ejemplo del fichero `'ciudades_cyl.csv'` que, respecto a las tablas anteriores, tiene añadida una columna a la derecha con la población según datos del **INE** de 2019.\n",
    "```\n",
    "Ávila,4501771,356599,57744\n",
    "Burgos,4687857,442361,175821\n",
    "León,4719468,289411,124303\n",
    "Palencia,4652764,373045,78412\n",
    "Salamanca,4538475,275839,144228\n",
    "Segovia,4533807,406015,51674\n",
    "Soria,4624007,544330,39398\n",
    "Valladolid,4612580,356065,298412\n",
    "Zamora,4598301,270015,61406\n",
    "```\n",
    "\n",
    "La lectura del fichero `'ciudades_cyl.csv'` no puede ser más simple."
   ]
  },
  {
   "cell_type": "code",
   "execution_count": 21,
   "metadata": {},
   "outputs": [
    {
     "data": {
      "text/html": [
       "<div>\n",
       "<style scoped>\n",
       "    .dataframe tbody tr th:only-of-type {\n",
       "        vertical-align: middle;\n",
       "    }\n",
       "\n",
       "    .dataframe tbody tr th {\n",
       "        vertical-align: top;\n",
       "    }\n",
       "\n",
       "    .dataframe thead th {\n",
       "        text-align: right;\n",
       "    }\n",
       "</style>\n",
       "<table border=\"1\" class=\"dataframe\">\n",
       "  <thead>\n",
       "    <tr style=\"text-align: right;\">\n",
       "      <th></th>\n",
       "      <th>Ávila</th>\n",
       "      <th>4501771</th>\n",
       "      <th>356599</th>\n",
       "      <th>57744</th>\n",
       "    </tr>\n",
       "  </thead>\n",
       "  <tbody>\n",
       "    <tr>\n",
       "      <th>0</th>\n",
       "      <td>Burgos</td>\n",
       "      <td>4687857</td>\n",
       "      <td>442361</td>\n",
       "      <td>175821</td>\n",
       "    </tr>\n",
       "    <tr>\n",
       "      <th>1</th>\n",
       "      <td>León</td>\n",
       "      <td>4719468</td>\n",
       "      <td>289411</td>\n",
       "      <td>124303</td>\n",
       "    </tr>\n",
       "    <tr>\n",
       "      <th>2</th>\n",
       "      <td>Palencia</td>\n",
       "      <td>4652764</td>\n",
       "      <td>373045</td>\n",
       "      <td>78412</td>\n",
       "    </tr>\n",
       "    <tr>\n",
       "      <th>3</th>\n",
       "      <td>Salamanca</td>\n",
       "      <td>4538475</td>\n",
       "      <td>275839</td>\n",
       "      <td>144228</td>\n",
       "    </tr>\n",
       "    <tr>\n",
       "      <th>4</th>\n",
       "      <td>Segovia</td>\n",
       "      <td>4533807</td>\n",
       "      <td>406015</td>\n",
       "      <td>51674</td>\n",
       "    </tr>\n",
       "    <tr>\n",
       "      <th>5</th>\n",
       "      <td>Soria</td>\n",
       "      <td>4624007</td>\n",
       "      <td>544330</td>\n",
       "      <td>39398</td>\n",
       "    </tr>\n",
       "    <tr>\n",
       "      <th>6</th>\n",
       "      <td>Valladolid</td>\n",
       "      <td>4612580</td>\n",
       "      <td>356065</td>\n",
       "      <td>298412</td>\n",
       "    </tr>\n",
       "    <tr>\n",
       "      <th>7</th>\n",
       "      <td>Zamora</td>\n",
       "      <td>4598301</td>\n",
       "      <td>270015</td>\n",
       "      <td>61406</td>\n",
       "    </tr>\n",
       "  </tbody>\n",
       "</table>\n",
       "</div>"
      ],
      "text/plain": [
       "        Ávila  4501771  356599   57744\n",
       "0      Burgos  4687857  442361  175821\n",
       "1        León  4719468  289411  124303\n",
       "2    Palencia  4652764  373045   78412\n",
       "3   Salamanca  4538475  275839  144228\n",
       "4     Segovia  4533807  406015   51674\n",
       "5       Soria  4624007  544330   39398\n",
       "6  Valladolid  4612580  356065  298412\n",
       "7      Zamora  4598301  270015   61406"
      ]
     },
     "execution_count": 21,
     "metadata": {},
     "output_type": "execute_result"
    }
   ],
   "source": [
    "df_ciudades_cyl = pd.read_csv('data/ciudades_cyl.csv')\n",
    "df_ciudades_cyl"
   ]
  },
  {
   "cell_type": "markdown",
   "metadata": {},
   "source": [
    "Vemos que **Pandas** adopta como cabecera la primera línea del fichero `.csv`. ¡No es lo que deseamos!\n",
    "\n",
    "Si, como en nuestro ejemplo, no disponemos en el fichero de una cabecera, podemos avisar con la opción `header=None` y optar por lo siguiente:"
   ]
  },
  {
   "cell_type": "code",
   "execution_count": 22,
   "metadata": {},
   "outputs": [
    {
     "data": {
      "text/html": [
       "<div>\n",
       "<style scoped>\n",
       "    .dataframe tbody tr th:only-of-type {\n",
       "        vertical-align: middle;\n",
       "    }\n",
       "\n",
       "    .dataframe tbody tr th {\n",
       "        vertical-align: top;\n",
       "    }\n",
       "\n",
       "    .dataframe thead th {\n",
       "        text-align: right;\n",
       "    }\n",
       "</style>\n",
       "<table border=\"1\" class=\"dataframe\">\n",
       "  <thead>\n",
       "    <tr style=\"text-align: right;\">\n",
       "      <th></th>\n",
       "      <th>Ciudad</th>\n",
       "      <th>UTM x</th>\n",
       "      <th>UTM y</th>\n",
       "      <th>Población</th>\n",
       "    </tr>\n",
       "  </thead>\n",
       "  <tbody>\n",
       "    <tr>\n",
       "      <th>0</th>\n",
       "      <td>Ávila</td>\n",
       "      <td>4501771</td>\n",
       "      <td>356599</td>\n",
       "      <td>57744</td>\n",
       "    </tr>\n",
       "    <tr>\n",
       "      <th>1</th>\n",
       "      <td>Burgos</td>\n",
       "      <td>4687857</td>\n",
       "      <td>442361</td>\n",
       "      <td>175821</td>\n",
       "    </tr>\n",
       "    <tr>\n",
       "      <th>2</th>\n",
       "      <td>León</td>\n",
       "      <td>4719468</td>\n",
       "      <td>289411</td>\n",
       "      <td>124303</td>\n",
       "    </tr>\n",
       "    <tr>\n",
       "      <th>3</th>\n",
       "      <td>Palencia</td>\n",
       "      <td>4652764</td>\n",
       "      <td>373045</td>\n",
       "      <td>78412</td>\n",
       "    </tr>\n",
       "    <tr>\n",
       "      <th>4</th>\n",
       "      <td>Salamanca</td>\n",
       "      <td>4538475</td>\n",
       "      <td>275839</td>\n",
       "      <td>144228</td>\n",
       "    </tr>\n",
       "    <tr>\n",
       "      <th>5</th>\n",
       "      <td>Segovia</td>\n",
       "      <td>4533807</td>\n",
       "      <td>406015</td>\n",
       "      <td>51674</td>\n",
       "    </tr>\n",
       "    <tr>\n",
       "      <th>6</th>\n",
       "      <td>Soria</td>\n",
       "      <td>4624007</td>\n",
       "      <td>544330</td>\n",
       "      <td>39398</td>\n",
       "    </tr>\n",
       "    <tr>\n",
       "      <th>7</th>\n",
       "      <td>Valladolid</td>\n",
       "      <td>4612580</td>\n",
       "      <td>356065</td>\n",
       "      <td>298412</td>\n",
       "    </tr>\n",
       "    <tr>\n",
       "      <th>8</th>\n",
       "      <td>Zamora</td>\n",
       "      <td>4598301</td>\n",
       "      <td>270015</td>\n",
       "      <td>61406</td>\n",
       "    </tr>\n",
       "  </tbody>\n",
       "</table>\n",
       "</div>"
      ],
      "text/plain": [
       "       Ciudad    UTM x   UTM y  Población\n",
       "0       Ávila  4501771  356599      57744\n",
       "1      Burgos  4687857  442361     175821\n",
       "2        León  4719468  289411     124303\n",
       "3    Palencia  4652764  373045      78412\n",
       "4   Salamanca  4538475  275839     144228\n",
       "5     Segovia  4533807  406015      51674\n",
       "6       Soria  4624007  544330      39398\n",
       "7  Valladolid  4612580  356065     298412\n",
       "8      Zamora  4598301  270015      61406"
      ]
     },
     "execution_count": 22,
     "metadata": {},
     "output_type": "execute_result"
    }
   ],
   "source": [
    "df_ciudades_cyl = pd.read_csv('data/ciudades_cyl.csv', header=None)  # Avisamos que nuestro fichero no tiene cabecera\n",
    "df_ciudades_cyl.columns = ['Ciudad', 'UTM x', 'UTM y', 'Población']  # Añadimos la cabecera\n",
    "df_ciudades_cyl"
   ]
  },
  {
   "cell_type": "markdown",
   "metadata": {},
   "source": [
    "Guardar el `Dataframe` en formato `.csv` es igualmente simple:"
   ]
  },
  {
   "cell_type": "code",
   "execution_count": 23,
   "metadata": {},
   "outputs": [],
   "source": [
    "df_ciudades_cyl.to_csv('data/ciudades_cyl_con_cabecera.csv', index=False)  # index=False para no grabar la columna de índices"
   ]
  },
  {
   "cell_type": "markdown",
   "metadata": {},
   "source": [
    "Podemos verificar ahora la lectura sin la opción `header=None`, ahora que hemos creado en disco un fichero con cabecera."
   ]
  },
  {
   "cell_type": "code",
   "execution_count": 24,
   "metadata": {},
   "outputs": [
    {
     "data": {
      "text/html": [
       "<div>\n",
       "<style scoped>\n",
       "    .dataframe tbody tr th:only-of-type {\n",
       "        vertical-align: middle;\n",
       "    }\n",
       "\n",
       "    .dataframe tbody tr th {\n",
       "        vertical-align: top;\n",
       "    }\n",
       "\n",
       "    .dataframe thead th {\n",
       "        text-align: right;\n",
       "    }\n",
       "</style>\n",
       "<table border=\"1\" class=\"dataframe\">\n",
       "  <thead>\n",
       "    <tr style=\"text-align: right;\">\n",
       "      <th></th>\n",
       "      <th>Ciudad</th>\n",
       "      <th>UTM x</th>\n",
       "      <th>UTM y</th>\n",
       "      <th>Población</th>\n",
       "    </tr>\n",
       "  </thead>\n",
       "  <tbody>\n",
       "    <tr>\n",
       "      <th>0</th>\n",
       "      <td>Ávila</td>\n",
       "      <td>4501771</td>\n",
       "      <td>356599</td>\n",
       "      <td>57744</td>\n",
       "    </tr>\n",
       "    <tr>\n",
       "      <th>1</th>\n",
       "      <td>Burgos</td>\n",
       "      <td>4687857</td>\n",
       "      <td>442361</td>\n",
       "      <td>175821</td>\n",
       "    </tr>\n",
       "    <tr>\n",
       "      <th>2</th>\n",
       "      <td>León</td>\n",
       "      <td>4719468</td>\n",
       "      <td>289411</td>\n",
       "      <td>124303</td>\n",
       "    </tr>\n",
       "    <tr>\n",
       "      <th>3</th>\n",
       "      <td>Palencia</td>\n",
       "      <td>4652764</td>\n",
       "      <td>373045</td>\n",
       "      <td>78412</td>\n",
       "    </tr>\n",
       "    <tr>\n",
       "      <th>4</th>\n",
       "      <td>Salamanca</td>\n",
       "      <td>4538475</td>\n",
       "      <td>275839</td>\n",
       "      <td>144228</td>\n",
       "    </tr>\n",
       "    <tr>\n",
       "      <th>5</th>\n",
       "      <td>Segovia</td>\n",
       "      <td>4533807</td>\n",
       "      <td>406015</td>\n",
       "      <td>51674</td>\n",
       "    </tr>\n",
       "    <tr>\n",
       "      <th>6</th>\n",
       "      <td>Soria</td>\n",
       "      <td>4624007</td>\n",
       "      <td>544330</td>\n",
       "      <td>39398</td>\n",
       "    </tr>\n",
       "    <tr>\n",
       "      <th>7</th>\n",
       "      <td>Valladolid</td>\n",
       "      <td>4612580</td>\n",
       "      <td>356065</td>\n",
       "      <td>298412</td>\n",
       "    </tr>\n",
       "    <tr>\n",
       "      <th>8</th>\n",
       "      <td>Zamora</td>\n",
       "      <td>4598301</td>\n",
       "      <td>270015</td>\n",
       "      <td>61406</td>\n",
       "    </tr>\n",
       "  </tbody>\n",
       "</table>\n",
       "</div>"
      ],
      "text/plain": [
       "       Ciudad    UTM x   UTM y  Población\n",
       "0       Ávila  4501771  356599      57744\n",
       "1      Burgos  4687857  442361     175821\n",
       "2        León  4719468  289411     124303\n",
       "3    Palencia  4652764  373045      78412\n",
       "4   Salamanca  4538475  275839     144228\n",
       "5     Segovia  4533807  406015      51674\n",
       "6       Soria  4624007  544330      39398\n",
       "7  Valladolid  4612580  356065     298412\n",
       "8      Zamora  4598301  270015      61406"
      ]
     },
     "execution_count": 24,
     "metadata": {},
     "output_type": "execute_result"
    }
   ],
   "source": [
    "df_ciudades_cyl = pd.read_csv('data/ciudades_cyl_con_cabecera.csv')\n",
    "df_ciudades_cyl"
   ]
  },
  {
   "cell_type": "markdown",
   "metadata": {},
   "source": [
    "Finalmente, si queremos tener como columna de índices a las ciudades:"
   ]
  },
  {
   "cell_type": "code",
   "execution_count": 25,
   "metadata": {},
   "outputs": [
    {
     "data": {
      "text/html": [
       "<div>\n",
       "<style scoped>\n",
       "    .dataframe tbody tr th:only-of-type {\n",
       "        vertical-align: middle;\n",
       "    }\n",
       "\n",
       "    .dataframe tbody tr th {\n",
       "        vertical-align: top;\n",
       "    }\n",
       "\n",
       "    .dataframe thead th {\n",
       "        text-align: right;\n",
       "    }\n",
       "</style>\n",
       "<table border=\"1\" class=\"dataframe\">\n",
       "  <thead>\n",
       "    <tr style=\"text-align: right;\">\n",
       "      <th></th>\n",
       "      <th>UTM x</th>\n",
       "      <th>UTM y</th>\n",
       "      <th>Población</th>\n",
       "    </tr>\n",
       "    <tr>\n",
       "      <th>Ciudad</th>\n",
       "      <th></th>\n",
       "      <th></th>\n",
       "      <th></th>\n",
       "    </tr>\n",
       "  </thead>\n",
       "  <tbody>\n",
       "    <tr>\n",
       "      <th>Ávila</th>\n",
       "      <td>4501771</td>\n",
       "      <td>356599</td>\n",
       "      <td>57744</td>\n",
       "    </tr>\n",
       "    <tr>\n",
       "      <th>Burgos</th>\n",
       "      <td>4687857</td>\n",
       "      <td>442361</td>\n",
       "      <td>175821</td>\n",
       "    </tr>\n",
       "    <tr>\n",
       "      <th>León</th>\n",
       "      <td>4719468</td>\n",
       "      <td>289411</td>\n",
       "      <td>124303</td>\n",
       "    </tr>\n",
       "    <tr>\n",
       "      <th>Palencia</th>\n",
       "      <td>4652764</td>\n",
       "      <td>373045</td>\n",
       "      <td>78412</td>\n",
       "    </tr>\n",
       "    <tr>\n",
       "      <th>Salamanca</th>\n",
       "      <td>4538475</td>\n",
       "      <td>275839</td>\n",
       "      <td>144228</td>\n",
       "    </tr>\n",
       "    <tr>\n",
       "      <th>Segovia</th>\n",
       "      <td>4533807</td>\n",
       "      <td>406015</td>\n",
       "      <td>51674</td>\n",
       "    </tr>\n",
       "    <tr>\n",
       "      <th>Soria</th>\n",
       "      <td>4624007</td>\n",
       "      <td>544330</td>\n",
       "      <td>39398</td>\n",
       "    </tr>\n",
       "    <tr>\n",
       "      <th>Valladolid</th>\n",
       "      <td>4612580</td>\n",
       "      <td>356065</td>\n",
       "      <td>298412</td>\n",
       "    </tr>\n",
       "    <tr>\n",
       "      <th>Zamora</th>\n",
       "      <td>4598301</td>\n",
       "      <td>270015</td>\n",
       "      <td>61406</td>\n",
       "    </tr>\n",
       "  </tbody>\n",
       "</table>\n",
       "</div>"
      ],
      "text/plain": [
       "              UTM x   UTM y  Población\n",
       "Ciudad                                \n",
       "Ávila       4501771  356599      57744\n",
       "Burgos      4687857  442361     175821\n",
       "León        4719468  289411     124303\n",
       "Palencia    4652764  373045      78412\n",
       "Salamanca   4538475  275839     144228\n",
       "Segovia     4533807  406015      51674\n",
       "Soria       4624007  544330      39398\n",
       "Valladolid  4612580  356065     298412\n",
       "Zamora      4598301  270015      61406"
      ]
     },
     "execution_count": 25,
     "metadata": {},
     "output_type": "execute_result"
    }
   ],
   "source": [
    "df_ciudades_cyl = df_ciudades_cyl.set_index('Ciudad')  # set_index() crea un nuevo data frame, no cambia el actual\n",
    "df_ciudades_cyl"
   ]
  },
  {
   "cell_type": "markdown",
   "metadata": {},
   "source": [
    "## Utilidades"
   ]
  },
  {
   "cell_type": "markdown",
   "metadata": {},
   "source": [
    "#### La suma de los valores de una columna"
   ]
  },
  {
   "cell_type": "code",
   "execution_count": 26,
   "metadata": {},
   "outputs": [
    {
     "data": {
      "text/plain": [
       "1031398"
      ]
     },
     "execution_count": 26,
     "metadata": {},
     "output_type": "execute_result"
    }
   ],
   "source": [
    "df_ciudades_cyl['Población'].sum()"
   ]
  },
  {
   "cell_type": "code",
   "execution_count": 27,
   "metadata": {},
   "outputs": [
    {
     "data": {
      "text/plain": [
       "1031398"
      ]
     },
     "execution_count": 27,
     "metadata": {},
     "output_type": "execute_result"
    }
   ],
   "source": [
    "sum(df_ciudades_cyl['Población'])"
   ]
  },
  {
   "cell_type": "markdown",
   "metadata": {},
   "source": [
    "#### Transponer la tabla"
   ]
  },
  {
   "cell_type": "code",
   "execution_count": 28,
   "metadata": {},
   "outputs": [
    {
     "data": {
      "text/html": [
       "<div>\n",
       "<style scoped>\n",
       "    .dataframe tbody tr th:only-of-type {\n",
       "        vertical-align: middle;\n",
       "    }\n",
       "\n",
       "    .dataframe tbody tr th {\n",
       "        vertical-align: top;\n",
       "    }\n",
       "\n",
       "    .dataframe thead th {\n",
       "        text-align: right;\n",
       "    }\n",
       "</style>\n",
       "<table border=\"1\" class=\"dataframe\">\n",
       "  <thead>\n",
       "    <tr style=\"text-align: right;\">\n",
       "      <th>Ciudad</th>\n",
       "      <th>Ávila</th>\n",
       "      <th>Burgos</th>\n",
       "      <th>León</th>\n",
       "      <th>Palencia</th>\n",
       "      <th>Salamanca</th>\n",
       "      <th>Segovia</th>\n",
       "      <th>Soria</th>\n",
       "      <th>Valladolid</th>\n",
       "      <th>Zamora</th>\n",
       "    </tr>\n",
       "  </thead>\n",
       "  <tbody>\n",
       "    <tr>\n",
       "      <th>UTM x</th>\n",
       "      <td>4501771</td>\n",
       "      <td>4687857</td>\n",
       "      <td>4719468</td>\n",
       "      <td>4652764</td>\n",
       "      <td>4538475</td>\n",
       "      <td>4533807</td>\n",
       "      <td>4624007</td>\n",
       "      <td>4612580</td>\n",
       "      <td>4598301</td>\n",
       "    </tr>\n",
       "    <tr>\n",
       "      <th>UTM y</th>\n",
       "      <td>356599</td>\n",
       "      <td>442361</td>\n",
       "      <td>289411</td>\n",
       "      <td>373045</td>\n",
       "      <td>275839</td>\n",
       "      <td>406015</td>\n",
       "      <td>544330</td>\n",
       "      <td>356065</td>\n",
       "      <td>270015</td>\n",
       "    </tr>\n",
       "    <tr>\n",
       "      <th>Población</th>\n",
       "      <td>57744</td>\n",
       "      <td>175821</td>\n",
       "      <td>124303</td>\n",
       "      <td>78412</td>\n",
       "      <td>144228</td>\n",
       "      <td>51674</td>\n",
       "      <td>39398</td>\n",
       "      <td>298412</td>\n",
       "      <td>61406</td>\n",
       "    </tr>\n",
       "  </tbody>\n",
       "</table>\n",
       "</div>"
      ],
      "text/plain": [
       "Ciudad       Ávila   Burgos     León  Palencia  Salamanca  Segovia    Soria  \\\n",
       "UTM x      4501771  4687857  4719468   4652764    4538475  4533807  4624007   \n",
       "UTM y       356599   442361   289411    373045     275839   406015   544330   \n",
       "Población    57744   175821   124303     78412     144228    51674    39398   \n",
       "\n",
       "Ciudad     Valladolid   Zamora  \n",
       "UTM x         4612580  4598301  \n",
       "UTM y          356065   270015  \n",
       "Población      298412    61406  "
      ]
     },
     "execution_count": 28,
     "metadata": {},
     "output_type": "execute_result"
    }
   ],
   "source": [
    "df_ciudades_cyl_t = df_ciudades_cyl.T\n",
    "df_ciudades_cyl_t"
   ]
  },
  {
   "cell_type": "markdown",
   "metadata": {},
   "source": [
    "#### Estadísticas"
   ]
  },
  {
   "cell_type": "code",
   "execution_count": 29,
   "metadata": {},
   "outputs": [
    {
     "data": {
      "text/plain": [
       "114599.77777777778"
      ]
     },
     "execution_count": 29,
     "metadata": {},
     "output_type": "execute_result"
    }
   ],
   "source": [
    "df_ciudades_cyl['Población'].mean()"
   ]
  },
  {
   "cell_type": "markdown",
   "metadata": {},
   "source": [
    "#### Dibujar"
   ]
  },
  {
   "cell_type": "code",
   "execution_count": 30,
   "metadata": {},
   "outputs": [
    {
     "data": {
      "text/plain": [
       "<matplotlib.axes._subplots.AxesSubplot at 0x20f37a04848>"
      ]
     },
     "execution_count": 30,
     "metadata": {},
     "output_type": "execute_result"
    },
    {
     "data": {
      "image/png": "[encoded data removed]",
      "text/plain": [
       "<Figure size 432x288 with 1 Axes>"
      ]
     },
     "metadata": {
      "needs_background": "light"
     },
     "output_type": "display_data"
    }
   ],
   "source": [
    "df_ciudades_cyl.plot(kind='bar', y='Población')"
   ]
  },
  {
   "cell_type": "markdown",
   "metadata": {},
   "source": [
    "#### Y muchas más..."
   ]
  }
 ],
 "metadata": {
  "anaconda-cloud": {},
  "kernelspec": {
   "display_name": "Python 3",
   "language": "python",
   "name": "python3"
  },
  "language_info": {
   "codemirror_mode": {
    "name": "ipython",
    "version": 3
   },
   "file_extension": ".py",
   "mimetype": "text/x-python",
   "name": "python",
   "nbconvert_exporter": "python",
   "pygments_lexer": "ipython3",
   "version": "3.7.4"
  }
 },
 "nbformat": 4,
 "nbformat_minor": 2
}
