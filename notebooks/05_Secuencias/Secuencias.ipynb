{
 "cells": [
  {
   "cell_type": "markdown",
   "metadata": {},
   "source": [
    "# Secuencias"
   ]
  },
  {
   "cell_type": "markdown",
   "metadata": {},
   "source": [
    "[Secuencias de datos](#Secuencias_de_datos)<br>\n",
    "[Listas](#Listas)<br>\n",
    "[Tuplas](#Tuplas)<br>\n",
    "[Rangos](#Rangos)<br>\n",
    "[Operaciones comunes de las secuencias](#Operaciones_comunes_secuencias)<br>\n",
    "[Operaciones para secuencias mutables](#Operaciones_para_secuencias_mutables)<br>\n",
    "[Operadores de comparación con secuencias](#Operadores_de_comparacion_con_secuencias)<br>\n",
    "[Casos de uso de listas y tuplas](#Casos_de_uso)<br>\n",
    "[Cadenas de caracteres](#Cadenas_de_caracteres)<br>"
   ]
  },
  {
   "cell_type": "markdown",
   "metadata": {},
   "source": [
    "***\n",
    "<a id='Secuencias_de_datos'></a>"
   ]
  },
  {
   "cell_type": "markdown",
   "metadata": {},
   "source": [
    "## Secuencias de datos\n",
    "\n",
    "En muchas aplicaciones resulta conveniente ser capaz de almacenar en memoria, para luego manipular a conveniencia y de forma consistente, un determinado conjunto de datos. \n",
    "\n",
    "Hasta el momento, hemos introducido tipos de datos **escalares**, `int`, `float`, `complex` y `bool`, datos que conceptualmente contienen un único valor. Y de hecho, ya hemos introducido un contenedor de datos, las cadenas de caracteres `str`.\n",
    "\n",
    "Supongamos, por un momento, que se desea retener un conjunto de 5 enteros en memoria, para luego  manipularlos, posiblemente de diversas formas: sumándolos, o hallando el máximo de los mismos, o graficándolos, etc. \n",
    "\n",
    "Con lo visto hasta ahora el recurso lógico es definir 5 variables enteras y tratarlas individualmente.\n",
    "```python\n",
    "    a0 = 10\n",
    "    a1 = 5\n",
    "    a2 = 1\n",
    "    a3 = 130\n",
    "    a4 = -2\n",
    "    \n",
    "    suma = a0 + a1 + a2 + a3 + a4\n",
    "```\n",
    "¿Qué pasa si ahora se necesitaran 100 variables? Habría que crear otras tantas variables, con nombres diferentes y extender el código previo manteniendo la idea básica. Algo impracticable.\n",
    "\n",
    "En Python, disponemos tipos nativos que actúan como **contenedores** (**containers**) de datos, que cubren esa necesidad."
   ]
  },
  {
   "cell_type": "markdown",
   "metadata": {},
   "source": [
    "### Contenedores en Python\n",
    "\n",
    "Todos los lenguajes de programación brindan la posibilidad de trabajar con colecciones de datos de una forma consistente. Por ejemplo, en C/C++ se tiene el concepto de vector (*array*).\n",
    "\n",
    "Python ofrece un conjunto de opciones muy efectivas y flexibles para resolver este tipo de problemas. Permiten  representar tipos de datos **contenedores** de otros datos de forma nativa. \n",
    "\n",
    "Los tipos nativos contenedor más relevantes son:\n",
    "\n",
    "|Nombre                    | Tipo    | Ejemplo                     |Descripción                               |\n",
    "|:-------------------------|:--------|:----------------------------|:-----------------------------------------|\n",
    "|**Lista**                 | `list`  | ``[1, 2, 3]``               | Secuencia heterogénea de datos mutable   |\n",
    "|**Tupla**                 | `tuple` | ``1, 2, 3`` o ``(1, 2, 3)`` | Secuencia heterogénea de datos inmutable |\n",
    "|**Rango**                 | `range` | ``range(1, 20, 2)``         | Secuencia de enteros inmutable           |\n",
    "|**Cadena de caracteres**  | `str`   | ``'Hola'``                  | Secuencia de caracteres inmutable        |\n",
    "|**Diccionario**           | `dict`  | ``{'a':1, 'b':2, 'c':3}``   | Tabla asociativa (clave, valor)          |\n",
    "|**Conjunto**              | `set`   | ``{1, 2, 3}``               | Colección sin orden de valores únicos    |\n",
    "\n",
    "El uso de corchetes, ``[]``, paréntesis, ``()`` o llaves, ``{}``, es lo que distingue entre sí algunos de los contenedores anteriores."
   ]
  },
  {
   "cell_type": "markdown",
   "metadata": {},
   "source": [
    "### Secuencias en Python\n",
    "Las **secuencias** son contenedores donde los elementos se almacenan siguiendo un **orden**. **Listas**, **tuplas** y **rangos** son las secuencias básicas que define Python. Además, un tipo de dato que ya conocemos, la **cadena de caracteres**, es\n",
    "también una secuencia ordenada de caracteres alfanuméricos.\n",
    "\n",
    "Entre las secuencias destacan las **listas**, tipo `list`, a las que prestaremos la atención en primer lugar."
   ]
  },
  {
   "cell_type": "markdown",
   "metadata": {},
   "source": [
    "***\n",
    "<a id='Listas'></a>"
   ]
  },
  {
   "cell_type": "markdown",
   "metadata": {},
   "source": [
    "## Listas\n",
    "En la siguiente celda, se define una variable **lista** llamada `lista_enteros` asignándola una **colección** de valores caracterizada por: \n",
    "* una **secuencia** de literales enteros\n",
    "* **separados por comas**\n",
    "* **delimitados por corchetes**"
   ]
  },
  {
   "cell_type": "code",
   "execution_count": 8,
   "metadata": {},
   "outputs": [
    {
     "name": "stdout",
     "output_type": "stream",
     "text": [
      "El tipo de [10, 5, 1, 130, -2] es <class 'list'>.\n"
     ]
    }
   ],
   "source": [
    "lista_enteros = [10, 5, 1, 130, -2]\n",
    "print('El tipo de {} es {}.'.format(lista_enteros, type(lista_enteros)))"
   ]
  },
  {
   "cell_type": "markdown",
   "metadata": {},
   "source": [
    "El concepto de lista impone necesariamente una relación de **orden**, una **secuencia**.\n",
    "\n",
    "Observe además que la variable de tipo ``list`` puede ser enviada como argumento real a la función `print()`, que la interpreta correctamente y la saca por la consola de la forma esperada.\n",
    "\n",
    "La variable `lista_enteros` representa a la colección completa. Pero este recurso del lenguaje no sería tan útil si no permitiera el acceso individual a cada uno de los enteros *contenidos* en la colección."
   ]
  },
  {
   "cell_type": "markdown",
   "metadata": {},
   "source": [
    "### Indexación\n",
    "La **indexación** permite acceder a un miembro individual de la lista.\n",
    "\n",
    "Véase el ejemplo siguiente (se debe haber ejecutado antes la celda previa):"
   ]
  },
  {
   "cell_type": "code",
   "execution_count": 2,
   "metadata": {},
   "outputs": [
    {
     "name": "stdout",
     "output_type": "stream",
     "text": [
      "10 5 -2\n"
     ]
    }
   ],
   "source": [
    "x = lista_enteros[0]\n",
    "y = lista_enteros[1]\n",
    "z = lista_enteros[4]\n",
    "print(x, y, z)"
   ]
  },
  {
   "cell_type": "markdown",
   "metadata": {},
   "source": [
    "En la celda anterior, se almacenan en variables ciertos valores de la secuencia.\n",
    "\n",
    "Para acceder a un miembro individual de la lista:\n",
    "* se utiliza un **índice**, siempre de tipo entero, que indica la posición del dato miembro dentro de la colección\n",
    "* el índice se pone entre corchetes `[]`, que actúan como un **operador de indexación**\n",
    "* al primer elemento de la secuencia le corresponde siempre el valor ``0``\n",
    "\n",
    "Dado que una lista implementa una **secuencia**, el elemento de índice *i* aparece siempre antes que el elemento *i+1* si se está *recorriendo* la lista desde la *izquierda*."
   ]
  },
  {
   "cell_type": "markdown",
   "metadata": {},
   "source": [
    "A diferencia de otros lenguajes, Python permite que el índice pueda especificarse también desde la derecha, utilizando enteros negativos: el índice `-1` hace referencia al último elemento de la lista (o al primero desde la izquierda).\n",
    "\n",
    "Vea el siguiente esquema:\n",
    "\n",
    "![Listas1.jpg](img/Listas1.jpg)"
   ]
  },
  {
   "cell_type": "code",
   "execution_count": 3,
   "metadata": {},
   "outputs": [
    {
     "name": "stdout",
     "output_type": "stream",
     "text": [
      "-2 130\n"
     ]
    }
   ],
   "source": [
    "print(lista_enteros[-1], lista_enteros[-2])"
   ]
  },
  {
   "cell_type": "markdown",
   "metadata": {},
   "source": [
    "Si se intenta acceder a un elemento no existente dentro de la secuencia, se produce un error en tiempo de ejecución:"
   ]
  },
  {
   "cell_type": "code",
   "execution_count": 4,
   "metadata": {
    "tags": [
     "raises-exception"
    ]
   },
   "outputs": [
    {
     "ename": "IndexError",
     "evalue": "list index out of range",
     "output_type": "error",
     "traceback": [
      "\u001b[1;31m---------------------------------------------------------------------------\u001b[0m",
      "\u001b[1;31mIndexError\u001b[0m                                Traceback (most recent call last)",
      "\u001b[1;32m<ipython-input-4-13aa6005a427>\u001b[0m in \u001b[0;36m<module>\u001b[1;34m\u001b[0m\n\u001b[1;32m----> 1\u001b[1;33m \u001b[0mlista_enteros\u001b[0m\u001b[1;33m[\u001b[0m\u001b[1;36m5\u001b[0m\u001b[1;33m]\u001b[0m\u001b[1;33m\u001b[0m\u001b[1;33m\u001b[0m\u001b[0m\n\u001b[0m",
      "\u001b[1;31mIndexError\u001b[0m: list index out of range"
     ]
    }
   ],
   "source": [
    "lista_enteros[5]"
   ]
  },
  {
   "cell_type": "markdown",
   "metadata": {},
   "source": [
    "Es muy importante que el alumno se habitúe a identificar el tipo de error que se lanza al producirse la excepción y, con ello, corregir el fallo. En este caso:\n",
    "* la descripción del error, ``IndexError: list index out of range``, y\n",
    "* la línea donde se produce el error, ``----> 1 lista_enteros[5]``,\n",
    "\n",
    "nos dan toda la información necesaria acerca de la causa y situación del error."
   ]
  },
  {
   "cell_type": "markdown",
   "metadata": {},
   "source": [
    "### Mutabilidad\n",
    "Una lista es, además, una secuencia **mutable**. Esto quiere decir que se pueden:\n",
    "* **modificar** los elementos de la lista\n",
    "* **borrar** determinados elementos\n",
    "* **añadir** elementos nuevos\n",
    "* etc.\n",
    "\n",
    "En la celda siguiente, podemos observar mediante la función `id()` que la identidad del objeto no ha cambiado, pero su valor sí."
   ]
  },
  {
   "cell_type": "code",
   "execution_count": 12,
   "metadata": {},
   "outputs": [
    {
     "name": "stdout",
     "output_type": "stream",
     "text": [
      "Lista [0, 1, 2, 3] antes de modificarla y su identidad 2362854992648.\n",
      "Lista [3, 1, 2, 3] después de modificarla y su identidad 2362854992648.\n"
     ]
    }
   ],
   "source": [
    "lista = [0, 1, 2, 3]\n",
    "print('Lista {} antes de modificarla y su identidad {}.'.format(lista, id(lista)))\n",
    "lista[0] = lista[1] + lista[2]  # Modificamos el elemento [0]\n",
    "print('Lista {} después de modificarla y su identidad {}.'.format(lista, id(lista)))"
   ]
  },
  {
   "cell_type": "markdown",
   "metadata": {},
   "source": [
    "### Lista vacía\n",
    "En muchas ocasiones. los algoritmos construyen iteradamente una lista a partir de una **lista vacía**, que se construye con los corchetes vacíos."
   ]
  },
  {
   "cell_type": "code",
   "execution_count": null,
   "metadata": {},
   "outputs": [],
   "source": [
    "lista = []"
   ]
  },
  {
   "cell_type": "markdown",
   "metadata": {},
   "source": [
    "***\n",
    "<a id='Tuplas'></a>"
   ]
  },
  {
   "cell_type": "markdown",
   "metadata": {},
   "source": [
    "## Tuplas\n",
    "\n",
    "Las **tuplas**, tipo ``tuple``, representan, al igual que las listas, una secuencia de valores en Python. \n",
    "\n",
    "A diferencia de las listas, las **tuplas** son **inmutables**: una vez creadas no pueden modificarse.\n",
    "\n",
    "Una tupla se crea asignando un conjunto de valores a una variable. Los valores están separados entre sí por una coma y opcionalmente pueden estar rodeados de paréntesis.\n",
    "\n",
    "Por ejemplo:"
   ]
  },
  {
   "cell_type": "code",
   "execution_count": 13,
   "metadata": {},
   "outputs": [
    {
     "name": "stdout",
     "output_type": "stream",
     "text": [
      "('Fundamentos de Programación', 40, 1, 2)\n",
      "(1, 2, 3)\n"
     ]
    }
   ],
   "source": [
    "datos_asig = 'Fundamentos de Programación', 40, 1, 2\n",
    "print(datos_asig)\n",
    "\n",
    "otra_tupla = (1, 2, 3)  # Uso de paréntesis opcional\n",
    "print(otra_tupla)"
   ]
  },
  {
   "cell_type": "markdown",
   "metadata": {},
   "source": [
    "Nótese que, aunque los paréntesis son opcionales, aportan una mejor legibilidad. \n",
    "\n",
    "Se pueden crear tuplas de un solo elemento. Cómo podría existir ambigüedad, se tiene que poner una coma al final.\n",
    "```python\n",
    "un_elemento = (10,)\n",
    "otro_elemento = 'Hola',\n",
    "```"
   ]
  },
  {
   "cell_type": "code",
   "execution_count": 16,
   "metadata": {},
   "outputs": [
    {
     "name": "stdout",
     "output_type": "stream",
     "text": [
      "('Hola',) es una tupla, <class 'tuple'>, mientras que Hola es una cadena <class 'str'>\n"
     ]
    }
   ],
   "source": [
    "una_tupla = 'Hola',\n",
    "una_cadena = 'Hola'\n",
    "print('{} es una tupla, {}, mientras que {} es una cadena {}'.\n",
    "      format(una_tupla, type(una_tupla), una_cadena, type(una_cadena)))"
   ]
  },
  {
   "cell_type": "markdown",
   "metadata": {},
   "source": [
    "También pueden existir tuplas vacías, usando paréntesis sin contenido:"
   ]
  },
  {
   "cell_type": "code",
   "execution_count": null,
   "metadata": {},
   "outputs": [],
   "source": [
    "tupla_vacia = ()"
   ]
  },
  {
   "cell_type": "markdown",
   "metadata": {},
   "source": [
    "Se pueden acceder a los elementos de las tuplas con el operador de indexación ``[]``."
   ]
  },
  {
   "cell_type": "code",
   "execution_count": null,
   "metadata": {},
   "outputs": [],
   "source": [
    "x = 3, 7, 9, 10\n",
    "print(x[0] + x[1])"
   ]
  },
  {
   "cell_type": "markdown",
   "metadata": {},
   "source": [
    "### Inmutabilidad\n",
    "Sin embargo, dado su carácter inmutable, lo que no se puede es modificar los valores ni el tamaño de la tupla una vez creada."
   ]
  },
  {
   "cell_type": "code",
   "execution_count": 17,
   "metadata": {
    "tags": [
     "raises-exception"
    ]
   },
   "outputs": [
    {
     "ename": "NameError",
     "evalue": "name 'x' is not defined",
     "output_type": "error",
     "traceback": [
      "\u001b[1;31m---------------------------------------------------------------------------\u001b[0m",
      "\u001b[1;31mNameError\u001b[0m                                 Traceback (most recent call last)",
      "\u001b[1;32m<ipython-input-17-addd1689b97c>\u001b[0m in \u001b[0;36m<module>\u001b[1;34m\u001b[0m\n\u001b[1;32m----> 1\u001b[1;33m \u001b[0mx\u001b[0m\u001b[1;33m[\u001b[0m\u001b[1;36m1\u001b[0m\u001b[1;33m]\u001b[0m \u001b[1;33m=\u001b[0m \u001b[1;36m10\u001b[0m   \u001b[1;31m# La ejecución de esta línea provoca un error al ser las tuplas inmutables\u001b[0m\u001b[1;33m\u001b[0m\u001b[1;33m\u001b[0m\u001b[0m\n\u001b[0m",
      "\u001b[1;31mNameError\u001b[0m: name 'x' is not defined"
     ]
    }
   ],
   "source": [
    "x[1] = 10   # La ejecución de esta línea provoca un error al ser las tuplas inmutables"
   ]
  },
  {
   "cell_type": "markdown",
   "metadata": {},
   "source": [
    "### Desempaquetado de una tupla\n",
    "Los elementos de una tupla se pueden asignar a tantas variables como elementos haya en la misma en un proceso llamado **desempaquetado** (**unpacking**)."
   ]
  },
  {
   "cell_type": "code",
   "execution_count": 19,
   "metadata": {},
   "outputs": [
    {
     "name": "stdout",
     "output_type": "stream",
     "text": [
      "Ciudad: Valladolid\n",
      "Comunidad: Castilla y León\n",
      "País: España\n"
     ]
    }
   ],
   "source": [
    "datos_ciudad = ('Valladolid', 'Castilla y León', 'España')\n",
    "ciudad, comunidad, pais = datos_ciudad\n",
    "print('Ciudad: {}\\nComunidad: {}\\nPaís: {}'.format(ciudad, comunidad, pais))"
   ]
  },
  {
   "cell_type": "markdown",
   "metadata": {},
   "source": [
    "En el ejemplo se han creado nuevas variables con nombre: `ciudad`, `comunidad` y `pais` que contiene las cadenas de caracteres incluidas en las posiciones `0`, `1`, `2` de la tupla `datos_ciudad`."
   ]
  },
  {
   "cell_type": "markdown",
   "metadata": {},
   "source": [
    "Nótese que el desempaquetado es el mecanismo del lenguaje que se pone en juego cuando se hacen asignaciones múltiples en Python:"
   ]
  },
  {
   "cell_type": "code",
   "execution_count": 96,
   "metadata": {},
   "outputs": [],
   "source": [
    "a, b = 1, 2"
   ]
  },
  {
   "cell_type": "markdown",
   "metadata": {},
   "source": [
    "Lo que ocurre en esa sentencia es lo que sigue:\n",
    "\n",
    "1. Previo a la operación de asignación, se crea un objeto tupla **empaquetando** los elementos `1` y `2` (nótese que los paréntesis son opcionales)\n",
    "2. Se procede a la aisgnación. Como aparece a la izquierda del operador ``=`` más de una variable, se procede al **desempaquetado** o asignación a las variables `a` y `b`.\n",
    "\n",
    "Veremos la utilidad de este esquema a lo largo del curso. Recordad que, en particular, es muy útil para el intercambio de los valores de dos variables, una operación que se requiere con alguna frecuencia en programación:"
   ]
  },
  {
   "cell_type": "code",
   "execution_count": 97,
   "metadata": {},
   "outputs": [
    {
     "name": "stdout",
     "output_type": "stream",
     "text": [
      "x =  3 y =  2\n"
     ]
    }
   ],
   "source": [
    "x = 2\n",
    "y = 3\n",
    "x, y = y, x\n",
    "print('x = ', x, 'y = ', y)"
   ]
  },
  {
   "cell_type": "markdown",
   "metadata": {},
   "source": [
    "El número de variables a asignar en el desempaquetado debe coincidir con el tamaño de la tupla. En caso contrario, se lanzará una excepción."
   ]
  },
  {
   "cell_type": "code",
   "execution_count": 98,
   "metadata": {
    "tags": [
     "raises-exception"
    ]
   },
   "outputs": [
    {
     "ename": "ValueError",
     "evalue": "too many values to unpack (expected 2)",
     "output_type": "error",
     "traceback": [
      "\u001b[1;31m---------------------------------------------------------------------------\u001b[0m",
      "\u001b[1;31mValueError\u001b[0m                                Traceback (most recent call last)",
      "\u001b[1;32m<ipython-input-98-10edbbb6d673>\u001b[0m in \u001b[0;36m<module>\u001b[1;34m\u001b[0m\n\u001b[1;32m----> 1\u001b[1;33m \u001b[0mx\u001b[0m\u001b[1;33m,\u001b[0m \u001b[0my\u001b[0m \u001b[1;33m=\u001b[0m \u001b[1;36m1\u001b[0m\u001b[1;33m,\u001b[0m \u001b[1;36m2\u001b[0m\u001b[1;33m,\u001b[0m \u001b[1;36m3\u001b[0m\u001b[1;33m\u001b[0m\u001b[1;33m\u001b[0m\u001b[0m\n\u001b[0m",
      "\u001b[1;31mValueError\u001b[0m: too many values to unpack (expected 2)"
     ]
    }
   ],
   "source": [
    "x, y = 1, 2, 3  # Demasiados valores a desempaquetar"
   ]
  },
  {
   "cell_type": "code",
   "execution_count": 100,
   "metadata": {
    "tags": [
     "raises-exception"
    ]
   },
   "outputs": [
    {
     "ename": "ValueError",
     "evalue": "not enough values to unpack (expected 2, got 1)",
     "output_type": "error",
     "traceback": [
      "\u001b[1;31m---------------------------------------------------------------------------\u001b[0m",
      "\u001b[1;31mValueError\u001b[0m                                Traceback (most recent call last)",
      "\u001b[1;32m<ipython-input-100-4b1c5206081d>\u001b[0m in \u001b[0;36m<module>\u001b[1;34m\u001b[0m\n\u001b[1;32m----> 1\u001b[1;33m \u001b[0mx\u001b[0m\u001b[1;33m,\u001b[0m \u001b[0my\u001b[0m \u001b[1;33m=\u001b[0m \u001b[1;36m1\u001b[0m\u001b[1;33m,\u001b[0m   \u001b[1;31m# Pocos valores a desempaquetar\u001b[0m\u001b[1;33m\u001b[0m\u001b[1;33m\u001b[0m\u001b[0m\n\u001b[0m",
      "\u001b[1;31mValueError\u001b[0m: not enough values to unpack (expected 2, got 1)"
     ]
    }
   ],
   "source": [
    "x, y = 1,   # Pocos valores a desempaquetar"
   ]
  },
  {
   "cell_type": "markdown",
   "metadata": {},
   "source": [
    "***\n",
    "<a id='Rangos'></a>"
   ]
  },
  {
   "cell_type": "markdown",
   "metadata": {},
   "source": [
    "## Rangos\n",
    "Un **rango** es una secuencia **inmutable de enteros** que, como veremos, se usa habitualmente con **bucles**: la ejecución de un grupo de sentencias un número determinado de veces.\n",
    "\n",
    "La construcción de un rango de enteros admite varias sintaxis. Los parámetros ``start``, ``stop`` y ``step`` utilizados a continuación son enteros:\n",
    "\n",
    "* ```python\n",
    "  range(stop)\n",
    "  ```\n",
    "  La secuencia de enteros representada es el intervalo abierto $[0, stop)$, es decir, la secuencia \n",
    "  ``0, 1, 2, ..., stop-1``. Si ``stop <= 0`` la secuencia no tendrá elementos.\n",
    "\n",
    "* ```python\n",
    "  range(start, stop)\n",
    "  ```\n",
    "  La secuencia de enteros representada es el intervalo abierto $[start, stop)$, es decir, la \n",
    "  secuencia ``start, start+1, start+2, ..., stop-1``. Si ``stop <= start`` la secuencia no tendrá \n",
    "  elementos.\n",
    "* ```python\n",
    "  range(start, stop, step)\n",
    "  ```\n",
    "  La secuencia de enteros representada es ``start, start+1*step, start+2*step, ..., start+i*step``. \n",
    "  - Si ``step`` es un entero positivo, la secuencia finalizará para aquel valor `` i >= 0`` para el que \n",
    "    ``start+i*step < stop``\n",
    "  - Si ``step`` es un entero negativo, la secuencia finalizará para aquel valor ``i >= 0`` para el que \n",
    "    ``start+i*step > stop``\n",
    "\n",
    "Nótese como el valor correspondiente a ``stop`` nunca pertenecerá al rango.\n",
    "\n",
    "A diferencia de las secuencias ``list`` o ``tuple``, un objeto de tipo ``range`` no almacena los valores de la secuencia en memoria, con el consiguiente ahorro de recursos. Solo necesita almacenar los valores para ``start``, ``stop`` y ``step``: calcula dinámicamente los valores intermedios a medida que los va necesitando."
   ]
  },
  {
   "cell_type": "markdown",
   "metadata": {},
   "source": [
    "### Listas y tuplas a partir de rangos\n",
    "Tanto las listas como las tuplas tienen **constructores**, ``list()`` y ``tuple()``, que admiten un rango como parámetro para ser creadas. Veámoslos en acción."
   ]
  },
  {
   "cell_type": "code",
   "execution_count": 1,
   "metadata": {},
   "outputs": [
    {
     "name": "stdout",
     "output_type": "stream",
     "text": [
      "Lista contruida con range(10):\n",
      "  [0, 1, 2, 3, 4, 5, 6, 7, 8, 9]\n",
      "Tupla contruida con range(5, 15):\n",
      "  (5, 6, 7, 8, 9, 10, 11, 12, 13, 14)\n",
      "Lista contruida con range(4, 21, 2):\n",
      "  [4, 6, 8, 10, 12, 14, 16, 18, 20]\n",
      "Tupla contruida con range(3, -13, -3):\n",
      "  (3, 0, -3, -6, -9, -12)\n"
     ]
    }
   ],
   "source": [
    "# Enteros del 0 al 9\n",
    "lista = list(range(10))\n",
    "print(\"Lista contruida con range(10):\\n  {}\".format(lista))\n",
    "# Enteros del 5 al 20\n",
    "tupla = tuple(range(5, 15))\n",
    "print(\"Tupla contruida con range(5, 15):\\n  {}\".format(tupla))\n",
    "# Pares del 4 al 20\n",
    "lista = list(range(4, 21, 2))\n",
    "print(\"Lista contruida con range(4, 21, 2):\\n  {}\".format(lista))\n",
    "# Secuencia del 3 al -12 en pasos de -3\n",
    "tupla = tuple(range(3, -13, -3))\n",
    "print(\"Tupla contruida con range(3, -13, -3):\\n  {}\".format(tupla))"
   ]
  },
  {
   "cell_type": "markdown",
   "metadata": {},
   "source": [
    "***\n",
    "<a id='Operaciones_comunes_secuencias'></a>"
   ]
  },
  {
   "cell_type": "markdown",
   "metadata": {},
   "source": [
    "## Operaciones comunes de las secuencias \n",
    "\n",
    "### El operador de pertenencia ``in``\n",
    "El **operador de pertenencia** ``in`` comprueba si un determinado valor forma parte de una secuencia. El operador ``in``\n",
    "devuelve un valor booleano, ``True`` o ``False``, por lo que el operador conjunto ``not in`` devolverá justo el resultado contrario.\n",
    "\n",
    "| Operador |Descripción                                                       |\n",
    "|:--------:|:-----------------------------------------------------------------|\n",
    "|    `in`  | Devuelve `True` si el elemento está contenido en la secuencia    |\n",
    "| `not in` | Devuelve `True` si el elemento no está contenido en la secuencia |"
   ]
  },
  {
   "cell_type": "code",
   "execution_count": null,
   "metadata": {},
   "outputs": [],
   "source": [
    "lista = [1, 3, 5, 7, 2, 4, 6]\n",
    "if 2 in lista:\n",
    "    print('El valor 2 está en la lista {}'.format(lista))\n",
    "rango = range(10)\n",
    "if 10 not in rango:\n",
    "    print('El valor 10 no está en {}'.format(rango))"
   ]
  },
  {
   "cell_type": "markdown",
   "metadata": {},
   "source": [
    "En la siguiente celda retomamos el ejemplo del tema anterior referente a la determinación del número de días de un mes.\n",
    "Véase la elegante combinación de tuplas y el operador de pertenencia ``in`` para resolver el problema."
   ]
  },
  {
   "cell_type": "code",
   "execution_count": 20,
   "metadata": {
    "tags": [
     "raises-exception",
     "remove-output"
    ]
   },
   "outputs": [
    {
     "name": "stdout",
     "output_type": "stream",
     "text": [
      "Introduzca el mes del año 3\n",
      "El mes tiene 31 días\n"
     ]
    }
   ],
   "source": [
    "# Estructura condicional anidada (if ... elif ...else) (con tuplas y operador in)\n",
    "mes_31 = (1, 3, 5, 7, 8, 10, 11)\n",
    "mes_30 = (4, 6, 9, 11)\n",
    "\n",
    "mes = int(input(\"Introduzca el mes del año \"))\n",
    "\n",
    "if mes in  mes_31:\n",
    "    print(\"El mes tiene 31 días\")\n",
    "elif mes in mes_30:\n",
    "    print(\"El mes tiene 30 días\")\n",
    "elif mes == 2: \n",
    "    print(\"El mes tiene 28 o 29 días\")\n",
    "else:\n",
    "    print(\"Mes no válido\")"
   ]
  },
  {
   "cell_type": "markdown",
   "metadata": {},
   "source": [
    "### Concatenación\n",
    "El operador ``+`` actúa de forma sobrecargada para formar secuencias lista o tupla concatenadas."
   ]
  },
  {
   "cell_type": "code",
   "execution_count": null,
   "metadata": {},
   "outputs": [],
   "source": [
    "lista = [1, 2, 3] + [6, 7, 8]\n",
    "print(lista)"
   ]
  },
  {
   "cell_type": "markdown",
   "metadata": {},
   "source": [
    "El operador ``*`` concatena consigo mismo una secuencia un determinado número ``n`` de veces.\n",
    "\n",
    "Resulta un recurso conveniente para inicializar una secuencia de tamaño conocido ``n`` con un valor o un patrón dado."
   ]
  },
  {
   "cell_type": "code",
   "execution_count": null,
   "metadata": {},
   "outputs": [],
   "source": [
    "num = 10\n",
    "tupla = (0,)*num\n",
    "print(\"Una tupla de {} elementos inicializada a 0:\\n  {}\".format(num, tupla))"
   ]
  },
  {
   "cell_type": "markdown",
   "metadata": {},
   "source": [
    "Por razones obvias, los operadores ``+`` y ``*`` no están permitidos en los tipos ``range``, dado que su aplicación generaría con caracter general una secuencia que no correspondería a un rango."
   ]
  },
  {
   "cell_type": "markdown",
   "metadata": {},
   "source": [
    "### Obteniendo información de la secuencia\n",
    "#### La longitud de la secuencia ``len()``\n",
    "Permite obtener el número de elementos."
   ]
  },
  {
   "cell_type": "code",
   "execution_count": null,
   "metadata": {},
   "outputs": [],
   "source": [
    "lista = [1, 2, 3, 4, 5]\n",
    "rango = range(10)\n",
    "print(\"El número de elementos de {} es {}\".format(lista, len(lista)))\n",
    "print(\"El número de elementos de {} es {}\".format(rango, len(rango)))"
   ]
  },
  {
   "cell_type": "markdown",
   "metadata": {},
   "source": [
    "#### Los valores extremos: ``min()`` y  ``max()``\n",
    "Permiten obtener el valor mínimo o máximo de la secuencia. En el caso de cadenas, se sigue el [**orden lexicográfico**](https://es.wikipedia.org/wiki/Orden_lexicografico)."
   ]
  },
  {
   "cell_type": "code",
   "execution_count": 5,
   "metadata": {},
   "outputs": [
    {
     "name": "stdout",
     "output_type": "stream",
     "text": [
      "El valor mínimo de [1, 2, 3, 4, 5] es 1\n",
      "El valor máximo de range(0, 10) es 9\n",
      "El valor máximo de ('Hola', 'Adiós', 'Buenos días') es Hola\n"
     ]
    }
   ],
   "source": [
    "lista = [1, 2, 3, 4, 5]\n",
    "rango = range(10)\n",
    "tupla = ('Hola', 'Adiós', 'Buenos días')\n",
    "print(\"El valor mínimo de {} es {}\".format(lista, min(lista)))\n",
    "print(\"El valor máximo de {} es {}\".format(rango, max(rango)))\n",
    "print(\"El valor máximo de {} es {}\".format(tupla, max(tupla)))"
   ]
  },
  {
   "cell_type": "markdown",
   "metadata": {},
   "source": [
    "Estas y otras funciones similares no tiene sentido utilizarlas en secuencias heterogéneas. Tanto ``min()`` como ``max()`` utilizan el operador ``<`` para comparar entre sí los elementos. Si la secuencia tiene tipos incompatibles con este operador,\n",
    "se lanzará una excepción. Véase un ejemplo:"
   ]
  },
  {
   "cell_type": "code",
   "execution_count": null,
   "metadata": {
    "tags": [
     "raises-exception"
    ]
   },
   "outputs": [],
   "source": [
    "min([1, 2, 'hola'])"
   ]
  },
  {
   "cell_type": "markdown",
   "metadata": {},
   "source": [
    "#### Posición de un elemento y número de ocurrencias\n",
    "Mediante la función miembro ``.index(x)`` podemos obtener la posición de la primera ocurrencia del valor ``x`` en la secuencia. Si no se encuentra el valor ``x`` se genera un error."
   ]
  },
  {
   "cell_type": "code",
   "execution_count": 77,
   "metadata": {
    "tags": [
     "raises-exception"
    ]
   },
   "outputs": [
    {
     "name": "stdout",
     "output_type": "stream",
     "text": [
      "El valor 6 ocupa la posición 2 en la lista [2, 4, 6, 8, 10]\n",
      "El valor 6 ocupa la posición 2 en el rango range(2, 12, 2)\n",
      "Si el valor no se encuentra se genera una excepción ValueError:\n"
     ]
    },
    {
     "ename": "ValueError",
     "evalue": "12 is not in range",
     "output_type": "error",
     "traceback": [
      "\u001b[1;31m---------------------------------------------------------------------------\u001b[0m",
      "\u001b[1;31mValueError\u001b[0m                                Traceback (most recent call last)",
      "\u001b[1;32m<ipython-input-77-20577e8c47d8>\u001b[0m in \u001b[0;36m<module>\u001b[1;34m\u001b[0m\n\u001b[0;32m      6\u001b[0m \u001b[0mx\u001b[0m \u001b[1;33m=\u001b[0m \u001b[1;36m12\u001b[0m\u001b[1;33m\u001b[0m\u001b[1;33m\u001b[0m\u001b[0m\n\u001b[0;32m      7\u001b[0m \u001b[0mprint\u001b[0m\u001b[1;33m(\u001b[0m\u001b[1;34m\"Si el valor no se encuentra se genera una excepción ValueError:\"\u001b[0m\u001b[1;33m)\u001b[0m\u001b[1;33m\u001b[0m\u001b[1;33m\u001b[0m\u001b[0m\n\u001b[1;32m----> 8\u001b[1;33m \u001b[0mrango\u001b[0m\u001b[1;33m.\u001b[0m\u001b[0mindex\u001b[0m\u001b[1;33m(\u001b[0m\u001b[0mx\u001b[0m\u001b[1;33m)\u001b[0m\u001b[1;33m\u001b[0m\u001b[1;33m\u001b[0m\u001b[0m\n\u001b[0m",
      "\u001b[1;31mValueError\u001b[0m: 12 is not in range"
     ]
    }
   ],
   "source": [
    "lista = [2, 4, 6, 8, 10]\n",
    "rango = range(2, 12, 2)\n",
    "x = 6\n",
    "print(\"El valor {} ocupa la posición {} en la lista {}\".format(x, lista.index(x), lista))\n",
    "print(\"El valor {} ocupa la posición {} en el rango {}\".format(x, rango.index(x), rango))\n",
    "x = 12\n",
    "print(\"Si el valor no se encuentra se genera una excepción ValueError:\")\n",
    "rango.index(x)"
   ]
  },
  {
   "cell_type": "markdown",
   "metadata": {},
   "source": [
    "Las secuencias también disponen del método ``.count(x)`` para determinar cuantas veces aparece el valor ``x`` en la secuencia."
   ]
  },
  {
   "cell_type": "code",
   "execution_count": 3,
   "metadata": {},
   "outputs": [
    {
     "name": "stdout",
     "output_type": "stream",
     "text": [
      "El valor 1 aparece 3 veces en la tupla (1, 1, 2, 3, 1)\n"
     ]
    }
   ],
   "source": [
    "tupla = 1, 1, 2, 3, 1\n",
    "x = 1\n",
    "print(\"El valor {} aparece {} veces en la tupla {}\".format(x, tupla.count(x), tupla))"
   ]
  },
  {
   "cell_type": "markdown",
   "metadata": {},
   "source": [
    "### Cortes (slices)\n",
    "Los **cortes** o **rebanadas** son *subsecuencias* extraídas de otra secuencia. Por ejemplo, dada la secuencia\n",
    "``[1, 3, 5, 7, 2, 4, 6]``, la secuencia ``[3, 5, 7, 2]`` es un corte de la primera obtenido entre los índices ``1`` y ``5``, este último sin incluir.\n",
    "\n",
    "El **operador de corte** ``[i:j]`` selecciona de la secuencia original aquella fomada por los valores situados en las posiciones ``i, i+1, ..., j-1``."
   ]
  },
  {
   "cell_type": "code",
   "execution_count": 18,
   "metadata": {},
   "outputs": [
    {
     "name": "stdout",
     "output_type": "stream",
     "text": [
      "[3, 5, 7, 2]\n"
     ]
    }
   ],
   "source": [
    "lista = [1, 3, 5, 7, 2, 4, 6]\n",
    "sublista = lista[1:5]\n",
    "print(sublista)"
   ]
  },
  {
   "cell_type": "markdown",
   "metadata": {},
   "source": [
    "Aunque de gran uso en diferentes ámbitos de la programación en Python, en este curso introductorio no utizaremos apenas este operador. Se comenta aquí con el único propósito de que el alumno reconozca este operador cuando maneje la bibliografía."
   ]
  },
  {
   "cell_type": "markdown",
   "metadata": {},
   "source": [
    "### Ordenación\n",
    "Es posible **obtener una lista ordenada** a partir de una secuencia con la función nativa ``sorted()``. Los elementos de la secuencia deben tener un tipo para los que esté definido el concepto de orden, es decir, el operador ``<``."
   ]
  },
  {
   "cell_type": "code",
   "execution_count": 25,
   "metadata": {},
   "outputs": [
    {
     "name": "stdout",
     "output_type": "stream",
     "text": [
      "[1, 2, 3, 4, 5, 6, 7, 8, 9]\n"
     ]
    }
   ],
   "source": [
    "lista = sorted((1, 3, 5, 7, 9, 2, 4, 6, 8))\n",
    "print(lista)"
   ]
  },
  {
   "cell_type": "markdown",
   "metadata": {},
   "source": [
    "Para ordenar los elementos de mayor a menor, ``sorted()`` tiene un argumento booleano opcional, ``reverse``, que permite conseguir este propósito."
   ]
  },
  {
   "cell_type": "code",
   "execution_count": 26,
   "metadata": {},
   "outputs": [
    {
     "name": "stdout",
     "output_type": "stream",
     "text": [
      "[9, 8, 7, 6, 5, 4, 3, 2, 1, 0]\n"
     ]
    }
   ],
   "source": [
    "lista = sorted(range(10), reverse=True)\n",
    "print(lista)"
   ]
  },
  {
   "cell_type": "markdown",
   "metadata": {},
   "source": [
    "***\n",
    "<a id='Operaciones_para_secuencias_mutables'></a>"
   ]
  },
  {
   "cell_type": "markdown",
   "metadata": {},
   "source": [
    "## Operaciones para secuencias mutables\n",
    "El contenedor ``list`` es la principal secuencia nativa mutable de Python y, sin duda, el contenedor más utilizado. La regla básica de uso de una operación es que si supone una modificación de la secuencia, entonces no es aplicable a una secuencia inmutable."
   ]
  },
  {
   "cell_type": "markdown",
   "metadata": {},
   "source": [
    "### El operador de asignación ``=``\n",
    "Ya hemos visto más arriba que un elemento de una secuencia puede modificarse individualmente."
   ]
  },
  {
   "cell_type": "code",
   "execution_count": 27,
   "metadata": {},
   "outputs": [
    {
     "name": "stdout",
     "output_type": "stream",
     "text": [
      "[100, 2, 3, 4, 5]\n"
     ]
    }
   ],
   "source": [
    "lista = [1, 2, 3, 4, 5]\n",
    "lista[0] = 100\n",
    "print(lista)"
   ]
  },
  {
   "cell_type": "markdown",
   "metadata": {},
   "source": [
    "### Borrando elementos\n",
    "\n",
    "#### El operador ``del``\n",
    "El operador `del` tiene el propósito de desligar los indentificadores con el objeto en memoria. Puede aplicarse a variables simples (tipo `int`, `float`, etc.) y también a secuencias mutables.\n",
    "\n",
    "Cualquier utilización posterior de la variable previa a una nueva asociación a otro objeto dará un error de ejecución.\n",
    "\n",
    "El operador ``del`` también puede ser usado para borrar elementos concretos de la lista de la forma que se muestra a continuación:"
   ]
  },
  {
   "cell_type": "code",
   "execution_count": 36,
   "metadata": {
    "tags": [
     "raises-exception"
    ]
   },
   "outputs": [
    {
     "name": "stdout",
     "output_type": "stream",
     "text": [
      "De la lista:\n",
      "  ['lista', 'palabras', 'sueltas', 'representadas', 'por', 'cadenas']\n",
      "se borra el elemento 1, obteniendo la nueva lista\n",
      "  ['lista', 'sueltas', 'representadas', 'por', 'cadenas']\n",
      "\n",
      "Ahora se elimina la lista de memoria\n",
      "\n",
      "Si intentamos acceder a ella se genera una excepción.\n"
     ]
    },
    {
     "ename": "NameError",
     "evalue": "name 'lista' is not defined",
     "output_type": "error",
     "traceback": [
      "\u001b[1;31m---------------------------------------------------------------------------\u001b[0m",
      "\u001b[1;31mNameError\u001b[0m                                 Traceback (most recent call last)",
      "\u001b[1;32m<ipython-input-36-4fb43d5292f2>\u001b[0m in \u001b[0;36m<module>\u001b[1;34m\u001b[0m\n\u001b[0;32m      7\u001b[0m \u001b[1;32mdel\u001b[0m \u001b[0mlista\u001b[0m\u001b[1;33m\u001b[0m\u001b[1;33m\u001b[0m\u001b[0m\n\u001b[0;32m      8\u001b[0m \u001b[0mprint\u001b[0m\u001b[1;33m(\u001b[0m\u001b[1;34m'Si intentamos acceder a ella se genera una excepción.'\u001b[0m\u001b[1;33m)\u001b[0m\u001b[1;33m;\u001b[0m\u001b[1;33m\u001b[0m\u001b[1;33m\u001b[0m\u001b[0m\n\u001b[1;32m----> 9\u001b[1;33m \u001b[0mlista\u001b[0m\u001b[1;33m\u001b[0m\u001b[1;33m\u001b[0m\u001b[0m\n\u001b[0m",
      "\u001b[1;31mNameError\u001b[0m: name 'lista' is not defined"
     ]
    }
   ],
   "source": [
    "lista = [\"lista\", \"palabras\", \"sueltas\", \"representadas\", \"por\", \"cadenas\"]\n",
    "indice = 1\n",
    "print('De la lista:\\n  {}'.format(lista))\n",
    "del lista[indice]\n",
    "print('se borra el elemento {}, obteniendo la nueva lista\\n  {}'.format(indice,lista))\n",
    "print('\\nAhora se elimina la lista de memoria\\n')\n",
    "del lista\n",
    "print('Si intentamos acceder a ella se genera una excepción.');\n",
    "lista"
   ]
  },
  {
   "cell_type": "markdown",
   "metadata": {},
   "source": [
    "También es posible eliminar con ``del`` un corte de la lista."
   ]
  },
  {
   "cell_type": "code",
   "execution_count": 44,
   "metadata": {},
   "outputs": [
    {
     "name": "stdout",
     "output_type": "stream",
     "text": [
      "[0, 9]\n"
     ]
    }
   ],
   "source": [
    "lista = [0, 1, 2, 3, 4, 5, 6, 7, 8, 9]\n",
    "del lista[1:-1]  #  Elimina desde el índice 1 hasta el -1 menos 1, es decir, hasta el -2\n",
    "print(lista)"
   ]
  },
  {
   "cell_type": "markdown",
   "metadata": {},
   "source": [
    "#### Los métodos ``.pop()``, ``.remove()`` y ``.clear()``\n",
    "* `.pop()` o `.pop(i)` reduce el tamaño de la secuencia en uno:\n",
    "    - elimina el último elemento si se pasa sin argumentos: equivale a pasar el argumento ``-1``\n",
    "    - elimina el elemento de índice ``i`` \n",
    "    \n",
    "  Este método **devuelve el elemento eliminado**. Si se usa un índice que no es válido se genera una \n",
    "  excepción.\n",
    "* `.remove(x)` permite borrar la primera aparición del elemento ``x``.\n",
    "    \n",
    "  Debe usarse con prudencia: si se intenta eliminar un valor que no existe en la lista, se genera una \n",
    "  excepción.\n",
    "* `.clear()` borra todo el contenido de la lista, creando una lista vacía, ``[]``."
   ]
  },
  {
   "cell_type": "code",
   "execution_count": 59,
   "metadata": {},
   "outputs": [
    {
     "name": "stdout",
     "output_type": "stream",
     "text": [
      "Con pop() hemos eliminado el último elemento, de valor 9.\n",
      "Con pop(2) hemos eliminado el tercer elemento, de valor 2.\n",
      "Usando remove(5) eliminamos el primer elemento que coincide con 5. La lista es ahora\n",
      " [0, 1, 3, 4, 5, 6, 7, 8]\n",
      "Con clear() la lista se vacía\n",
      " []\n"
     ]
    }
   ],
   "source": [
    "lista = [0, 1, 2, 3, 4, 5, 5, 6, 7, 8, 9]\n",
    "valor = lista.pop()\n",
    "print('Con pop() hemos eliminado el último elemento, de valor {}.'.format(valor))\n",
    "valor = lista.pop(2)\n",
    "print('Con pop(2) hemos eliminado el tercer elemento, de valor {}.'.format(valor))\n",
    "lista.remove(5)\n",
    "print('Usando remove(5) eliminamos el primer elemento que coincide con 5. La lista es ahora\\n {}'\n",
    "     .format(lista))\n",
    "\n",
    "lista.clear()\n",
    "print('Con clear() la lista se vacía\\n {}'.format(lista))"
   ]
  },
  {
   "cell_type": "code",
   "execution_count": 60,
   "metadata": {
    "tags": [
     "raises-exception"
    ]
   },
   "outputs": [
    {
     "ename": "IndexError",
     "evalue": "pop index out of range",
     "output_type": "error",
     "traceback": [
      "\u001b[1;31m---------------------------------------------------------------------------\u001b[0m",
      "\u001b[1;31mIndexError\u001b[0m                                Traceback (most recent call last)",
      "\u001b[1;32m<ipython-input-60-7ced6e073a31>\u001b[0m in \u001b[0;36m<module>\u001b[1;34m\u001b[0m\n\u001b[0;32m      1\u001b[0m \u001b[0mlista\u001b[0m \u001b[1;33m=\u001b[0m \u001b[1;33m[\u001b[0m\u001b[1;36m1\u001b[0m\u001b[1;33m,\u001b[0m \u001b[1;36m2\u001b[0m\u001b[1;33m,\u001b[0m \u001b[1;36m3\u001b[0m\u001b[1;33m]\u001b[0m\u001b[1;33m\u001b[0m\u001b[1;33m\u001b[0m\u001b[0m\n\u001b[1;32m----> 2\u001b[1;33m \u001b[0mlista\u001b[0m\u001b[1;33m.\u001b[0m\u001b[0mpop\u001b[0m\u001b[1;33m(\u001b[0m\u001b[1;36m3\u001b[0m\u001b[1;33m)\u001b[0m\u001b[1;33m\u001b[0m\u001b[1;33m\u001b[0m\u001b[0m\n\u001b[0m",
      "\u001b[1;31mIndexError\u001b[0m: pop index out of range"
     ]
    }
   ],
   "source": [
    "lista = [1, 2, 3]\n",
    "lista.pop(3)  # Excepción index out of range"
   ]
  },
  {
   "cell_type": "code",
   "execution_count": 62,
   "metadata": {
    "tags": [
     "raises-exception"
    ]
   },
   "outputs": [
    {
     "ename": "ValueError",
     "evalue": "list.remove(x): x not in list",
     "output_type": "error",
     "traceback": [
      "\u001b[1;31m---------------------------------------------------------------------------\u001b[0m",
      "\u001b[1;31mValueError\u001b[0m                                Traceback (most recent call last)",
      "\u001b[1;32m<ipython-input-62-d2cf6db3b36a>\u001b[0m in \u001b[0;36m<module>\u001b[1;34m\u001b[0m\n\u001b[0;32m      1\u001b[0m \u001b[0mlista\u001b[0m \u001b[1;33m=\u001b[0m \u001b[1;33m[\u001b[0m\u001b[1;36m1\u001b[0m\u001b[1;33m,\u001b[0m \u001b[1;36m2\u001b[0m\u001b[1;33m,\u001b[0m \u001b[1;36m3\u001b[0m\u001b[1;33m]\u001b[0m\u001b[1;33m\u001b[0m\u001b[1;33m\u001b[0m\u001b[0m\n\u001b[1;32m----> 2\u001b[1;33m \u001b[0mlista\u001b[0m\u001b[1;33m.\u001b[0m\u001b[0mremove\u001b[0m\u001b[1;33m(\u001b[0m\u001b[1;36m4\u001b[0m\u001b[1;33m)\u001b[0m  \u001b[1;31m# Excepción ValueError\u001b[0m\u001b[1;33m\u001b[0m\u001b[1;33m\u001b[0m\u001b[0m\n\u001b[0m",
      "\u001b[1;31mValueError\u001b[0m: list.remove(x): x not in list"
     ]
    }
   ],
   "source": [
    "lista = [1, 2, 3]\n",
    "lista.remove(4)  # Excepción ValueError"
   ]
  },
  {
   "cell_type": "markdown",
   "metadata": {},
   "source": [
    "### Añadiendo elementos\n",
    "#### Concatenación \n",
    "Para concatenar la secuencia original con otra se puede usar el operador sobrecargado `+=` o el método ``.extend()``."
   ]
  },
  {
   "cell_type": "code",
   "execution_count": 73,
   "metadata": {},
   "outputs": [
    {
     "name": "stdout",
     "output_type": "stream",
     "text": [
      "La identidad de la lista [1, 2, 3] es 2298430051080\n",
      "Tras concatenar con el operador += la lista [4, 5, 6] obtenemos\n",
      " [1, 2, 3, 4, 5, 6]\n",
      "Tras concatenar con el método extend() la lista [7, 8, 9] obtenemos\n",
      " [1, 2, 3, 4, 5, 6, 7, 8, 9]\n",
      "[1, 2, 3, 4, 5, 6, 7, 8, 9]\n",
      "La identidad de la lista [1, 2, 3, 4, 5, 6, 7, 8, 9] es la original:2298430051080\n"
     ]
    }
   ],
   "source": [
    "# Concatenando listas\n",
    "a = [1, 2, 3]\n",
    "print('La identidad de la lista {} es {}'.format(a, id(a)))\n",
    "b = [4, 5, 6]\n",
    "c = [7, 8, 9]\n",
    "a += b\n",
    "print('Tras concatenar con el operador += la lista {} obtenemos\\n {}'.format(b, a))\n",
    "a.extend(c)\n",
    "print('Tras concatenar con el método extend() la lista {} obtenemos\\n {}'.format(c, a))\n",
    "print('La identidad de la lista {} es la original:{}'.format(a, id(a)))"
   ]
  },
  {
   "cell_type": "markdown",
   "metadata": {},
   "source": [
    "Si lo que deseamos es actualizar la lista con su contenido repetido ``n`` veces, puede utilizarse el operdor ``*=``"
   ]
  },
  {
   "cell_type": "code",
   "execution_count": 74,
   "metadata": {},
   "outputs": [
    {
     "name": "stdout",
     "output_type": "stream",
     "text": [
      "[1, 2, 3, 1, 2, 3, 1, 2, 3]\n"
     ]
    }
   ],
   "source": [
    "lista = [1, 2, 3]\n",
    "lista *= 3\n",
    "print(lista)"
   ]
  },
  {
   "cell_type": "markdown",
   "metadata": {},
   "source": [
    "#### Añadir al final de la secuencia un elemento\n",
    "El método `.append()` añade **un único elemento** al final de la lista (dicho elemento podría ser otra lista)."
   ]
  },
  {
   "cell_type": "code",
   "execution_count": 82,
   "metadata": {},
   "outputs": [
    {
     "name": "stdout",
     "output_type": "stream",
     "text": [
      "La lista,inicialmente vacía, tras añadir sucesivamente los elementos 1, 2 y 3 es ahora \n",
      " [1, 2, 3]\n",
      "Hemos añadido un cuarto elemento, ¡que es una lista!\n",
      " [1, 2, 3, [1, 2, 3]]\n"
     ]
    }
   ],
   "source": [
    "a = []  # ¡Lista vacía!\n",
    "a.append(1)\n",
    "a.append(2)\n",
    "a.append(3)\n",
    "print('La lista, inicialmente vacía, tras añadir sucesivamente los elementos 1, 2 y 3 es ahora \\n {}'.\n",
    "     format(a))\n",
    "a.append([1, 2, 3])\n",
    "print('Hemos añadido un cuarto elemento, ¡que es una lista!\\n {}'.\n",
    "     format(a))"
   ]
  },
  {
   "cell_type": "markdown",
   "metadata": {},
   "source": [
    "#### Insertando elementos en una posición arbitraria\n",
    "Se hace uso del método ```.insert()``` que posee dos parámetros, la **posición** (un entero) y el **elemento único** a insertar (si elemento es a su vez una lista, se inserta como una sub-lista).\n",
    "\n",
    "Este método tiene la particularidad de que si la posición de inserción sobrepasa los límites de la secuencia, entonces se inserta el elemento bien al principio, si se sobrepasa por defecto, bien al final, si se sobrepasa por exceso."
   ]
  },
  {
   "cell_type": "code",
   "execution_count": 88,
   "metadata": {},
   "outputs": [
    {
     "name": "stdout",
     "output_type": "stream",
     "text": [
      "[-100, 1, 25, 2, 3, 4, 100]\n"
     ]
    }
   ],
   "source": [
    "a = [1, 2, 3, 4]\n",
    "a.insert(1,25)\n",
    "a.insert(10,100)\n",
    "a.insert(-10,-100)\n",
    "print(a)"
   ]
  },
  {
   "cell_type": "markdown",
   "metadata": {},
   "source": [
    "### Invirtiendo la secuencia\n",
    "El método ``.reverse()`` invierte el orden de la secuencia."
   ]
  },
  {
   "cell_type": "code",
   "execution_count": 89,
   "metadata": {},
   "outputs": [
    {
     "name": "stdout",
     "output_type": "stream",
     "text": [
      "[5, 4, 3, 2, 1]\n"
     ]
    }
   ],
   "source": [
    "lista = [1, 2, 3, 4, 5]\n",
    "lista.reverse()\n",
    "print(lista)"
   ]
  },
  {
   "cell_type": "markdown",
   "metadata": {},
   "source": [
    "### Ordenando la secuencia\n",
    "Para aquellas secuencias mutables formadas por elementos para cuyos tipos esté definido el concepto de orden, es decir, el operador ``<``, es posible ordenar los elementos de menor a mayor con el método ``.sort()``. A diferencia de ``sorted()`` es la propia secuencia la que se ordena. No se crea una diferente. De ahí que solo sea aplicable a secuencias mutables."
   ]
  },
  {
   "cell_type": "code",
   "execution_count": 115,
   "metadata": {},
   "outputs": [
    {
     "name": "stdout",
     "output_type": "stream",
     "text": [
      "[1, 2, 3, 4, 5, 6, 7, 8, 9]\n"
     ]
    }
   ],
   "source": [
    "lista = [1, 3, 5, 7, 9, 2, 4, 6, 8]\n",
    "lista.sort()\n",
    "print(lista)"
   ]
  },
  {
   "cell_type": "markdown",
   "metadata": {},
   "source": [
    "Para ordenar los elementos de mayor a menor bastaría aplicar el método ``.reverse()`` tras ``.sort()``. Sin embargo, sería ineficiente para listas de gran número de elementos. Al igual que ``sorted()``, el método ``.sort()`` tiene el argumento opcional ``reverse`` que permite conseguir este propósito."
   ]
  },
  {
   "cell_type": "code",
   "execution_count": 28,
   "metadata": {},
   "outputs": [
    {
     "name": "stdout",
     "output_type": "stream",
     "text": [
      "[9, 8, 7, 6, 5, 4, 3, 2, 1]\n"
     ]
    }
   ],
   "source": [
    "lista = [1, 3, 5, 7, 9, 2, 4, 6, 8]\n",
    "lista.sort(reverse=True)\n",
    "print(lista)"
   ]
  },
  {
   "cell_type": "markdown",
   "metadata": {},
   "source": [
    "***\n",
    "<a id='Operadores_de_comparacion_con_secuencias'></a>"
   ]
  },
  {
   "cell_type": "markdown",
   "metadata": {},
   "source": [
    "## Operadores de comparación con secuencias\n",
    "\n",
    "Estos operadores comparan de izquierda a derecha elemento a elemento en posiciones correlativas. No están definidos para rangos.\n",
    "\n",
    "| Operador |Descripción                                                                                           |\n",
    "|:--------:|:-----------------------------------------------------------------------------------------------------|\n",
    "| `==`     | `True` si las listas son iguales                                                                     |\n",
    "| `!=`     | `True` si las listas son desiguales                                                                  |\n",
    "| `>`      | `True` si el primer elemento diferente es mayor en la lista de la izquierda                          |\n",
    "| `>=`     | `True` si las listas son iguales o el primer elemento diferente es mayor en la lista de la izquierda |\n",
    "| `<`      | `True` si el primer elemento diferente es mayor en la lista de la derecha                            | \n",
    "| `<=`     | `True` si las listas son iguales o el primer elemento diferente es mayor en la lista de la derecha   |"
   ]
  },
  {
   "cell_type": "code",
   "execution_count": 31,
   "metadata": {
    "tags": [
     "raises-exception"
    ]
   },
   "outputs": [
    {
     "name": "stdout",
     "output_type": "stream",
     "text": [
      "[1, 2, 3, 4, 5] es igual a [1, 2, 3, 4, 5]\n",
      "(1, 2, 3, 4, 5) es mayor que (1, 1, 30, 30, 50)\n"
     ]
    },
    {
     "ename": "TypeError",
     "evalue": "'<' not supported between instances of 'range' and 'range'",
     "output_type": "error",
     "traceback": [
      "\u001b[1;31m---------------------------------------------------------------------------\u001b[0m",
      "\u001b[1;31mTypeError\u001b[0m                                 Traceback (most recent call last)",
      "\u001b[1;32m<ipython-input-31-e2259f9049b0>\u001b[0m in \u001b[0;36m<module>\u001b[1;34m\u001b[0m\n\u001b[0;32m     11\u001b[0m \u001b[0mrango1\u001b[0m \u001b[1;33m=\u001b[0m \u001b[0mrange\u001b[0m\u001b[1;33m(\u001b[0m\u001b[1;36m0\u001b[0m\u001b[1;33m,\u001b[0m \u001b[1;36m10\u001b[0m\u001b[1;33m)\u001b[0m\u001b[1;33m\u001b[0m\u001b[1;33m\u001b[0m\u001b[0m\n\u001b[0;32m     12\u001b[0m \u001b[0mrango2\u001b[0m \u001b[1;33m=\u001b[0m \u001b[0mrange\u001b[0m\u001b[1;33m(\u001b[0m\u001b[1;36m1\u001b[0m\u001b[1;33m,\u001b[0m \u001b[1;36m10\u001b[0m\u001b[1;33m)\u001b[0m\u001b[1;33m\u001b[0m\u001b[1;33m\u001b[0m\u001b[0m\n\u001b[1;32m---> 13\u001b[1;33m \u001b[0mrango1\u001b[0m \u001b[1;33m<\u001b[0m \u001b[0mrango2\u001b[0m\u001b[1;33m\u001b[0m\u001b[1;33m\u001b[0m\u001b[0m\n\u001b[0m",
      "\u001b[1;31mTypeError\u001b[0m: '<' not supported between instances of 'range' and 'range'"
     ]
    }
   ],
   "source": [
    "lista1 = [1, 2, 3, 4, 5]\n",
    "lista2 = [1, 2, 3, 4, 5]\n",
    "if lista1 == lista2:\n",
    "    print('{} es igual a {}'.format(lista1, lista2))\n",
    "\n",
    "tupla1 = (1, 2, 3, 4, 5)\n",
    "tupla2 = (1, 1, 30, 30, 50)\n",
    "if tupla1 > tupla2:\n",
    "    print('{} es mayor que {}'.format(tupla1, tupla2))\n",
    "    \n",
    "rango1 = range(0, 10)\n",
    "rango2 = range(1, 10)\n",
    "rango1 < rango2"
   ]
  },
  {
   "cell_type": "markdown",
   "metadata": {},
   "source": [
    "***\n",
    "<a id='Casos_de_uso'></a>"
   ]
  },
  {
   "cell_type": "markdown",
   "metadata": {},
   "source": [
    "## Casos de uso de listas y tuplas\n",
    "### Mutabilidad\n",
    "La principal diferencia entre listas y tuplas es la mutabilidad. Si la aplicación necesita de una secuencia de datos que puede sufrir modificaciones durante la ejecución del programa, entonces la secuencia a elegir es obviamente la lista."
   ]
  },
  {
   "cell_type": "markdown",
   "metadata": {},
   "source": [
    "### Heterogeneidad de los elementos\n",
    "Tanto listas como tuplas pueden contener elementos de diferentes tipos de datos. Un elemento de una lista puede ser a su vez otra lista (**listas anidadas**) o una tupla, y viceversa. \n",
    "\n",
    "En general, es un uso extendido pero no obligado:\n",
    "* Usar listas para almacenar datos homogéneos en secuencias que puedan cambiar de tamaño durante el programa o que puedan \n",
    "  alterar el valor de sus elementos. Sería el equivalente a los vectores de lenguajes como C++.\n",
    "* Usar tuplas para almacenar datos homogéneos o heterogéneos cuya estructura o valor no vaya a sufrir modificaciones. Sería el \n",
    "  equivalente a las estructuras en C++."
   ]
  },
  {
   "cell_type": "markdown",
   "metadata": {},
   "source": [
    "En la siguiente celda se muestra un ejemplo en el que, siguiendo las pautas anteriores, se usan:\n",
    "* tuplas, para conformar una **estructura fija de datos** heterogéneos correspondiente a alumnos\n",
    "* una lista, para almacenar un **vector** homogéneo, probablemente cambiante, de alumnos"
   ]
  },
  {
   "cell_type": "code",
   "execution_count": 35,
   "metadata": {},
   "outputs": [
    {
     "name": "stdout",
     "output_type": "stream",
     "text": [
      "('Juan', 'Sierra', 'Gómez') es una tupla homogénea formada por 3 campos str\n",
      "(('Juan', 'Sierra', 'Gómez'), '13120714E', 123434) es una tupla heterogénea formada por una tupla, un dato str y un dato int\n",
      "[(('Juan', 'Sierra', 'Gómez'), '13120714E', 123434), (('Pedro', 'López', 'Roldán'), '73131714F', 471394), (('María de las Mercedes', 'Santurce', 'Bilbao'), '17571924T', 729219)]\n"
     ]
    }
   ],
   "source": [
    "nombre_apellidos_1 = 'Juan', 'Sierra', 'Gómez'\n",
    "dni_1 = '13120714E'\n",
    "nia_1 = 123434\n",
    "alumno_1 = nombre_apellidos_1, dni_1, nia_1\n",
    "\n",
    "print('{} es una tupla homogénea formada por 3 campos str'.format(nombre_apellidos_1))\n",
    "print('{} es una tupla heterogénea formada por una tupla, un dato str y un dato int'.format(alumno_1))\n",
    "\n",
    "nombre_apellidos_2 = 'Pedro', 'López', 'Roldán'\n",
    "dni_2 = '73131714F'\n",
    "nia_2 = 471394\n",
    "alumno_2 = nombre_apellidos_2, dni_2, nia_2\n",
    "nombre_apellidos_3 = 'María de las Mercedes', 'Santurce', 'Bilbao'\n",
    "dni_3 = '17571924T'\n",
    "nia_3 = 729219\n",
    "alumno_3 = nombre_apellidos_3, dni_3, nia_3\n",
    "\n",
    "# Simulamos la formación dinámica de la lista\n",
    "lista_alumnos = []  # Lista homogénea construida dinámicamente a partir de tuplas\n",
    "lista_alumnos.append(alumno_1)\n",
    "lista_alumnos.append(alumno_2)\n",
    "lista_alumnos.append(alumno_3)\n",
    "print(lista_alumnos)"
   ]
  },
  {
   "cell_type": "markdown",
   "metadata": {},
   "source": [
    "***\n",
    "<a id='Cadenas_de_caracteres'></a>"
   ]
  },
  {
   "cell_type": "markdown",
   "metadata": {},
   "source": [
    "## Cadenas de caracteres\n",
    "Las cadenas de caracteres son **secuencias inmutables de caracteres alfanuméricos**. La mayor parte de las veces, se trabaja con las cadenas tomándolas en su conjunto. Pero es perfectamente posible acceder a los caracteres individuales, utilizando los conceptos vistos previamente."
   ]
  },
  {
   "cell_type": "code",
   "execution_count": 10,
   "metadata": {},
   "outputs": [
    {
     "name": "stdout",
     "output_type": "stream",
     "text": [
      "La frase \"La cadena de caracteres es una secuencia\" tiene una longitud 40. Comienza por 'L' y termina por 'a'.\n"
     ]
    }
   ],
   "source": [
    "cadena = \"La cadena de caracteres es una secuencia\"\n",
    "car1 = cadena[0]\n",
    "car2 = cadena[-1]\n",
    "print('La frase \"{}\" tiene una longitud {}. Comienza por \\'{}\\' y termina por \\'{}\\'.'.format(cadena, len(cadena), car1, car2))"
   ]
  },
  {
   "cell_type": "markdown",
   "metadata": {},
   "source": [
    "Si intentamos modificar un elemento, se origina una excepción."
   ]
  },
  {
   "cell_type": "code",
   "execution_count": 11,
   "metadata": {
    "tags": [
     "raises-exception"
    ]
   },
   "outputs": [
    {
     "ename": "TypeError",
     "evalue": "'str' object does not support item assignment",
     "output_type": "error",
     "traceback": [
      "\u001b[1;31m---------------------------------------------------------------------------\u001b[0m",
      "\u001b[1;31mTypeError\u001b[0m                                 Traceback (most recent call last)",
      "\u001b[1;32m<ipython-input-11-885208d36d00>\u001b[0m in \u001b[0;36m<module>\u001b[1;34m\u001b[0m\n\u001b[0;32m      1\u001b[0m \u001b[0mcadena\u001b[0m \u001b[1;33m=\u001b[0m \u001b[1;34m\"hola\"\u001b[0m\u001b[1;33m\u001b[0m\u001b[1;33m\u001b[0m\u001b[0m\n\u001b[1;32m----> 2\u001b[1;33m \u001b[0mcadena\u001b[0m\u001b[1;33m[\u001b[0m\u001b[1;36m0\u001b[0m\u001b[1;33m]\u001b[0m \u001b[1;33m=\u001b[0m \u001b[1;34m'H'\u001b[0m\u001b[1;33m\u001b[0m\u001b[1;33m\u001b[0m\u001b[0m\n\u001b[0m",
      "\u001b[1;31mTypeError\u001b[0m: 'str' object does not support item assignment"
     ]
    }
   ],
   "source": [
    "cadena = \"hola\"\n",
    "cadena[0] = 'H'"
   ]
  },
  {
   "cell_type": "markdown",
   "metadata": {},
   "source": [
    "En los siguientes temas iremos introduciendo métodos específicos de las cadenas de caracteres. Como adelanto, veamos como el operador ``in`` aplicado a una cadena de caracteres es capaz de determinar si una subcadena está contenida dentro de otra."
   ]
  },
  {
   "cell_type": "code",
   "execution_count": 41,
   "metadata": {},
   "outputs": [
    {
     "name": "stdout",
     "output_type": "stream",
     "text": [
      "La subcadena 'dura' está contenida en la cadena 'La vida es dura'\n"
     ]
    }
   ],
   "source": [
    "cadena = 'La vida es dura'\n",
    "subcadena = 'dura'\n",
    "if 'dura' in cadena:\n",
    "    print('La subcadena \\'{}\\' está contenida en la cadena \\'{}\\''.format(subcadena, cadena))"
   ]
  },
  {
   "cell_type": "code",
   "execution_count": null,
   "metadata": {},
   "outputs": [],
   "source": []
  }
 ],
 "metadata": {
  "anaconda-cloud": {},
  "celltoolbar": "Tags",
  "jupytext": {
   "formats": "ipynb,md:myst"
  },
  "kernelspec": {
   "display_name": "Python 3",
   "language": "python",
   "name": "python3"
  },
  "language_info": {
   "codemirror_mode": {
    "name": "ipython",
    "version": 3
   },
   "file_extension": ".py",
   "mimetype": "text/x-python",
   "name": "python",
   "nbconvert_exporter": "python",
   "pygments_lexer": "ipython3",
   "version": "3.7.7"
  },
  "nbpresent": {
   "slides": {
    "1390653e-bdb6-444a-b611-39c60ffb77a1": {
     "id": "1390653e-bdb6-444a-b611-39c60ffb77a1",
     "prev": "5c2c8cc8-3676-4c06-b94c-d3f866ade69b",
     "regions": {
      "620813b3-9326-41e6-9d30-f5ac4f858225": {
       "attrs": {
        "height": 0.8,
        "width": 0.8,
        "x": 0.1,
        "y": 0.1
       },
       "content": {
        "cell": "86423d42-e808-47e6-b1a7-e925e195f821",
        "part": "whole"
       },
       "id": "620813b3-9326-41e6-9d30-f5ac4f858225"
      }
     }
    },
    "21036f68-a492-4532-a832-b213435c0ad2": {
     "id": "21036f68-a492-4532-a832-b213435c0ad2",
     "prev": "2c1c7f11-e5ee-4a25-8975-f0b033ba739a",
     "regions": {
      "a3908958-0784-4faa-ac97-b9325abe8ede": {
       "attrs": {
        "height": 0.8,
        "width": 0.8,
        "x": 0.1,
        "y": 0.1
       },
       "content": {
        "cell": "9aa64747-dc13-4bd9-bf26-73606628ad1c",
        "part": "whole"
       },
       "id": "a3908958-0784-4faa-ac97-b9325abe8ede"
      }
     }
    },
    "2c1c7f11-e5ee-4a25-8975-f0b033ba739a": {
     "id": "2c1c7f11-e5ee-4a25-8975-f0b033ba739a",
     "prev": "f3f10f50-4cad-4149-b308-c66e6a493a72",
     "regions": {
      "9e2d820e-ec17-4915-b960-0e0d5f640379": {
       "attrs": {
        "height": 0.8,
        "width": 0.8,
        "x": 0.1,
        "y": 0.1
       },
       "content": {
        "cell": "0281a659-abae-4cb9-b30f-b552b9db399e",
        "part": "whole"
       },
       "id": "9e2d820e-ec17-4915-b960-0e0d5f640379"
      }
     }
    },
    "30509a9a-dbd8-4dbd-9fab-852a7266d894": {
     "id": "30509a9a-dbd8-4dbd-9fab-852a7266d894",
     "prev": "8b078b7a-c2c6-4129-a19f-2a4f5c4a26f3",
     "regions": {
      "7baa4379-8f84-4d8f-b002-5a5ffd051489": {
       "attrs": {
        "height": 0.8,
        "width": 0.8,
        "x": 0.1,
        "y": 0.1
       },
       "content": {
        "cell": "14d1a927-b37f-4323-9404-17d453f3b487",
        "part": "whole"
       },
       "id": "7baa4379-8f84-4d8f-b002-5a5ffd051489"
      }
     }
    },
    "42d1bd80-265e-4acf-bbc1-b202afddade3": {
     "id": "42d1bd80-265e-4acf-bbc1-b202afddade3",
     "prev": "9bfe6214-4631-45b5-a05e-8923f178bb57",
     "regions": {
      "f2340145-4108-4fed-a0bc-4b91ca6c10ae": {
       "attrs": {
        "height": 0.8,
        "width": 0.8,
        "x": 0.1,
        "y": 0.1
       },
       "content": {
        "cell": "80be6133-d85a-4e43-9964-6578abcbaaac",
        "part": "whole"
       },
       "id": "f2340145-4108-4fed-a0bc-4b91ca6c10ae"
      }
     }
    },
    "5c2c8cc8-3676-4c06-b94c-d3f866ade69b": {
     "id": "5c2c8cc8-3676-4c06-b94c-d3f866ade69b",
     "prev": "6c4bc874-f3fc-472c-a81c-cd415b91c24b",
     "regions": {
      "e1de7ab6-4ef2-4b14-92d7-b174bf32806e": {
       "attrs": {
        "height": 0.8,
        "width": 0.8,
        "x": 0.1,
        "y": 0.1
       },
       "content": {
        "cell": "ae8725fa-30f7-4d7f-a2c2-5f86953d730b",
        "part": "whole"
       },
       "id": "e1de7ab6-4ef2-4b14-92d7-b174bf32806e"
      }
     }
    },
    "5cab5674-74dc-4378-93d7-eaa79e90cdae": {
     "id": "5cab5674-74dc-4378-93d7-eaa79e90cdae",
     "prev": "ba274d18-2760-4e55-ad47-2727b824fd00",
     "regions": {
      "2178d7cf-bf1e-4850-95a2-1509f15febfa": {
       "attrs": {
        "height": 0.8,
        "width": 0.8,
        "x": 0.1,
        "y": 0.1
       },
       "content": {
        "cell": "5d433d13-f44a-45bb-91fd-406f60b33b67",
        "part": "whole"
       },
       "id": "2178d7cf-bf1e-4850-95a2-1509f15febfa"
      }
     }
    },
    "638df7e1-84d1-4fd4-a15c-c94b731d1bea": {
     "id": "638df7e1-84d1-4fd4-a15c-c94b731d1bea",
     "prev": "b9dddf99-da24-46e1-81d4-8ac33b6fc3a3",
     "regions": {
      "deba8b1f-d997-4426-8f1b-978df7f19b41": {
       "attrs": {
        "height": 0.8,
        "width": 0.8,
        "x": 0.1,
        "y": 0.1
       },
       "content": {
        "cell": "7adaaf8f-a83e-456b-b99a-d3b3d4cb6d1a",
        "part": "whole"
       },
       "id": "deba8b1f-d997-4426-8f1b-978df7f19b41"
      }
     }
    },
    "6bda9eb4-0724-4e53-9971-131d0cb5f9e2": {
     "id": "6bda9eb4-0724-4e53-9971-131d0cb5f9e2",
     "prev": "ee33e624-cd65-4b8c-b28b-c95623a56dbf",
     "regions": {
      "feffbbd2-27d1-4318-8359-7d57583ee2bc": {
       "attrs": {
        "height": 0.8,
        "width": 0.8,
        "x": 0.1,
        "y": 0.1
       },
       "content": {
        "cell": "8dce188c-36b7-41fa-9020-b5cb5502e452",
        "part": "whole"
       },
       "id": "feffbbd2-27d1-4318-8359-7d57583ee2bc"
      }
     }
    },
    "6c4bc874-f3fc-472c-a81c-cd415b91c24b": {
     "id": "6c4bc874-f3fc-472c-a81c-cd415b91c24b",
     "prev": null,
     "regions": {
      "c9eac7e8-d033-4b03-8bf7-abd58ffe8d41": {
       "attrs": {
        "height": 0.8,
        "width": 0.8,
        "x": 0.1,
        "y": 0.1
       },
       "content": {
        "cell": "71219fc3-c9cb-4700-9f0b-ab38b1b223da",
        "part": "whole"
       },
       "id": "c9eac7e8-d033-4b03-8bf7-abd58ffe8d41"
      }
     }
    },
    "6d7ab34f-9d99-4c74-9877-27b25abc73f0": {
     "id": "6d7ab34f-9d99-4c74-9877-27b25abc73f0",
     "prev": "febe7de9-9362-4079-bfe9-2d4dfddf00e2",
     "regions": {
      "2ee252de-db5f-43e7-b4b7-7f59bba29962": {
       "attrs": {
        "height": 0.8,
        "width": 0.8,
        "x": 0.1,
        "y": 0.1
       },
       "content": {
        "cell": "85d1ab90-cc65-4935-808b-a6f57ecc892e",
        "part": "whole"
       },
       "id": "2ee252de-db5f-43e7-b4b7-7f59bba29962"
      }
     }
    },
    "7ea582c3-439d-4ec2-9f27-dea18bcacc31": {
     "id": "7ea582c3-439d-4ec2-9f27-dea18bcacc31",
     "prev": "f0727a74-61a1-48c1-94a5-3e7490c29f0b",
     "regions": {
      "652960af-b61f-4c36-b122-3eacd714867b": {
       "attrs": {
        "height": 0.8,
        "width": 0.8,
        "x": 0.1,
        "y": 0.1
       },
       "content": {
        "cell": "86172e20-fe16-447d-859f-24a81e563011",
        "part": "whole"
       },
       "id": "652960af-b61f-4c36-b122-3eacd714867b"
      }
     }
    },
    "8b078b7a-c2c6-4129-a19f-2a4f5c4a26f3": {
     "id": "8b078b7a-c2c6-4129-a19f-2a4f5c4a26f3",
     "prev": "5cab5674-74dc-4378-93d7-eaa79e90cdae",
     "regions": {
      "dce1e605-9342-414d-b8c6-7dcb922fbf47": {
       "attrs": {
        "height": 0.8,
        "width": 0.8,
        "x": 0.1,
        "y": 0.1
       },
       "content": {
        "cell": "ee1bdf03-6e13-4f1f-9dc9-22d4e344fdba",
        "part": "whole"
       },
       "id": "dce1e605-9342-414d-b8c6-7dcb922fbf47"
      }
     }
    },
    "999513ad-b53e-4d84-b9ef-ed37967f74d6": {
     "id": "999513ad-b53e-4d84-b9ef-ed37967f74d6",
     "prev": "638df7e1-84d1-4fd4-a15c-c94b731d1bea",
     "regions": {
      "2e85c1b2-3c30-413e-9b0f-141281da3a2a": {
       "attrs": {
        "height": 0.8,
        "width": 0.8,
        "x": 0.1,
        "y": 0.1
       },
       "content": {
        "cell": "998dc7f5-ab6d-4fb8-866f-4fa96a06aaaa",
        "part": "whole"
       },
       "id": "2e85c1b2-3c30-413e-9b0f-141281da3a2a"
      }
     }
    },
    "9add3d79-8621-4167-8e1d-d4ae48fba71b": {
     "id": "9add3d79-8621-4167-8e1d-d4ae48fba71b",
     "prev": "7ea582c3-439d-4ec2-9f27-dea18bcacc31",
     "regions": {
      "d5f4537e-4d8c-4179-b14b-6c475f50b04e": {
       "attrs": {
        "height": 0.8,
        "width": 0.8,
        "x": 0.1,
        "y": 0.1
       },
       "content": {
        "cell": "9659b1c1-9aed-4d71-b830-4a60d408ad71",
        "part": "whole"
       },
       "id": "d5f4537e-4d8c-4179-b14b-6c475f50b04e"
      }
     }
    },
    "9bfe6214-4631-45b5-a05e-8923f178bb57": {
     "id": "9bfe6214-4631-45b5-a05e-8923f178bb57",
     "prev": "30509a9a-dbd8-4dbd-9fab-852a7266d894",
     "regions": {
      "aac53254-d149-49f2-8f92-670c6f2714bb": {
       "attrs": {
        "height": 0.8,
        "width": 0.8,
        "x": 0.1,
        "y": 0.1
       },
       "content": {
        "cell": "c71a78d7-9d0e-4825-9c84-9998f971317d",
        "part": "whole"
       },
       "id": "aac53254-d149-49f2-8f92-670c6f2714bb"
      }
     }
    },
    "b9dddf99-da24-46e1-81d4-8ac33b6fc3a3": {
     "id": "b9dddf99-da24-46e1-81d4-8ac33b6fc3a3",
     "prev": "1390653e-bdb6-444a-b611-39c60ffb77a1",
     "regions": {
      "0b31dbb4-f15b-4a16-9420-c5dc8ed4e871": {
       "attrs": {
        "height": 0.8,
        "width": 0.8,
        "x": 0.1,
        "y": 0.1
       },
       "content": {
        "cell": "d0569bb0-fad8-48b7-8d48-0066bfb90401",
        "part": "whole"
       },
       "id": "0b31dbb4-f15b-4a16-9420-c5dc8ed4e871"
      }
     }
    },
    "ba274d18-2760-4e55-ad47-2727b824fd00": {
     "id": "ba274d18-2760-4e55-ad47-2727b824fd00",
     "prev": "ed47079d-58cf-4b87-a9fa-a709d8a7c3c6",
     "regions": {
      "13000b51-bd66-4fb5-970b-20bfad440880": {
       "attrs": {
        "height": 0.8,
        "width": 0.8,
        "x": 0.1,
        "y": 0.1
       },
       "content": {
        "cell": "f6847886-4044-43a7-9edd-f18efddcb7a9",
        "part": "whole"
       },
       "id": "13000b51-bd66-4fb5-970b-20bfad440880"
      }
     }
    },
    "ed47079d-58cf-4b87-a9fa-a709d8a7c3c6": {
     "id": "ed47079d-58cf-4b87-a9fa-a709d8a7c3c6",
     "prev": "9add3d79-8621-4167-8e1d-d4ae48fba71b",
     "regions": {
      "a96aea94-1714-4020-83f9-dbc03e9fd55e": {
       "attrs": {
        "height": 0.8,
        "width": 0.8,
        "x": 0.1,
        "y": 0.1
       },
       "content": {
        "cell": "5a579720-fa62-4525-85e3-dd049cbd73be",
        "part": "whole"
       },
       "id": "a96aea94-1714-4020-83f9-dbc03e9fd55e"
      }
     }
    },
    "ee33e624-cd65-4b8c-b28b-c95623a56dbf": {
     "id": "ee33e624-cd65-4b8c-b28b-c95623a56dbf",
     "prev": "999513ad-b53e-4d84-b9ef-ed37967f74d6",
     "regions": {
      "325ae98d-0855-4d16-8408-6d12f47efa24": {
       "attrs": {
        "height": 0.8,
        "width": 0.8,
        "x": 0.1,
        "y": 0.1
       },
       "content": {
        "cell": "829150e0-712b-4739-92d6-37b9c3d789cb",
        "part": "whole"
       },
       "id": "325ae98d-0855-4d16-8408-6d12f47efa24"
      }
     }
    },
    "f0727a74-61a1-48c1-94a5-3e7490c29f0b": {
     "id": "f0727a74-61a1-48c1-94a5-3e7490c29f0b",
     "prev": "6d7ab34f-9d99-4c74-9877-27b25abc73f0",
     "regions": {
      "1666081e-448d-4f80-90f2-9f26f1568cdc": {
       "attrs": {
        "height": 0.8,
        "width": 0.8,
        "x": 0.1,
        "y": 0.1
       },
       "content": {
        "cell": "d99a804c-9444-418b-bc94-3c2f064e2844",
        "part": "whole"
       },
       "id": "1666081e-448d-4f80-90f2-9f26f1568cdc"
      }
     }
    },
    "f3f10f50-4cad-4149-b308-c66e6a493a72": {
     "id": "f3f10f50-4cad-4149-b308-c66e6a493a72",
     "prev": "42d1bd80-265e-4acf-bbc1-b202afddade3",
     "regions": {
      "4fc1185f-bdb8-46fc-99bd-b8d30defeca9": {
       "attrs": {
        "height": 0.8,
        "width": 0.8,
        "x": 0.1,
        "y": 0.1
       },
       "content": {
        "cell": "9b7597e9-aaa9-4d9f-ba0d-22f43d1a3900",
        "part": "whole"
       },
       "id": "4fc1185f-bdb8-46fc-99bd-b8d30defeca9"
      }
     }
    },
    "febe7de9-9362-4079-bfe9-2d4dfddf00e2": {
     "id": "febe7de9-9362-4079-bfe9-2d4dfddf00e2",
     "prev": "6bda9eb4-0724-4e53-9971-131d0cb5f9e2",
     "regions": {
      "42348103-1cd6-4bac-b346-33cd41aea444": {
       "attrs": {
        "height": 0.8,
        "width": 0.8,
        "x": 0.1,
        "y": 0.1
       },
       "content": {
        "cell": "35a148d4-f201-4441-bf5e-8a07f93dea84",
        "part": "whole"
       },
       "id": "42348103-1cd6-4bac-b346-33cd41aea444"
      }
     }
    }
   },
   "themes": {}
  }
 },
 "nbformat": 4,
 "nbformat_minor": 2
}
