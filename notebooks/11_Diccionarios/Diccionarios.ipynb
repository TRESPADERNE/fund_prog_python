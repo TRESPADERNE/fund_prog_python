{
 "cells": [
  {
   "cell_type": "markdown",
   "metadata": {},
   "source": [
    "# Diccionarios y conjuntos "
   ]
  },
  {
   "cell_type": "markdown",
   "metadata": {},
   "source": [
    "<a target=\"_self\" href='#Introducción'>Introducción</a><br>\n",
    "<a target=\"_self\" href='#Diccionarios'>Diccionarios</a><br>\n",
    "<a target=\"_self\" href='#Diccionarios_vs_listas'>Diccionarios_versus_listas</a><br>\n",
    "<a target=\"_self\" href='#Operacciones_con_diccionarios'>Operaciones con diccionarios</a><br>\n",
    "<a target=\"_self\" href='#El_diccionario_como_iterable'>El diccionario como iterable</a><br>\n",
    "<a target=\"_self\" href='#Ejemplos'>Ejemplos con Diccionarios</a><br>\n",
    "<a target=\"_self\" href='#Conjuntos'>Conjuntos</a>"
   ]
  },
  {
   "cell_type": "markdown",
   "metadata": {},
   "source": [
    "***\n",
    "<a id='Introducción'></a>"
   ]
  },
  {
   "cell_type": "markdown",
   "metadata": {},
   "source": [
    "## Introducción\n",
    "\n",
    "La posibilidad de crear en memoria y manipular de una manera consistente colecciones de datos es una funcionalidad básica que brindan los lenguajes de programación. Python es particularmente eficaz en este cometido, porque ofrece muchos de estos tipos de datos compuestos de forma nativa.\n",
    "\n",
    "Hemos utilizado con detalle las secuencias, especialmente las **listas**. Representan un conjunto **secuencial** (con un orden implícito) de datos, que pueden ser de diferentes tipos. La forma de acceder a los elementos es mediante el uso de un **índice** entero, que comienza en cero y que puede interpretarse como el *desplazamiento* a realizar desde el inicio de la secuencia hasta el elemento buscado. La lista es, desde luego, la colección más utilizada y es la adecuada para muchas aplicaciones.\n",
    "\n",
    "En otros casos, cuando no existe un orden intrínseco en los datos, una organización diferente de éstos resulta más apropiada: \n",
    "\n",
    "* Los **conjuntos** son colecciones no ordenadas de **valores** no repetidos.\n",
    "* A mayores, los **diccionarios** son colecciones que permiten asociar los **valores** a una **clave** (**key**) para su cómodo acceso.\n",
    "\n",
    "Nos centraremos principalmente en los diccionarios, que tienen un rango de aplicación muy superior al de los conjuntos."
   ]
  },
  {
   "cell_type": "markdown",
   "metadata": {},
   "source": [
    "***\n",
    "<a id='Diccionarios'></a>"
   ]
  },
  {
   "cell_type": "markdown",
   "metadata": {},
   "source": [
    "## Diccionarios\n",
    "\n",
    "Los **diccionarios** son colecciones **iterables**, **no secuenciales** y **mutables** de elementos compuestos por una **clave** (que identifica de modo único al elemento) y el **valor** que se desea almacenar. ¡No pueden aparecer elementos con la misma clave!\n",
    "\n",
    "Su sintaxis es:\n",
    "```python\n",
    "    {clave_1: dato_1, clave_2: dato_2, ..., clave_n: dato_n} \n",
    "```\n",
    "\n",
    "Nótese el uso de llaves `{..., ...}` en lugar de corchetes `[..., ...]`.\n",
    "\n",
    "Veamos algunos ejemplos:"
   ]
  },
  {
   "cell_type": "code",
   "execution_count": 1,
   "metadata": {},
   "outputs": [
    {
     "name": "stdout",
     "output_type": "stream",
     "text": [
      "{1: 'uno', 2: 'dos', 3: 'tres', 4: 'cuatro'}\n",
      "{'asignatura': 'Fundamentos de Programación', 'créditos': 6, 'tipos': ['teoría', 'prácticas']}\n",
      "{'persona': {'nombre': 'María', 'primer apellido': 'García', 'segundo apellido': 'Pérez'}, 'edad': 30}\n"
     ]
    }
   ],
   "source": [
    "num = {1: 'uno', 2: 'dos', 3: 'tres', 4: 'cuatro'}\n",
    "\n",
    "asig = {'asignatura': 'Fundamentos de Programación', 'créditos': 6, 'tipos': ['teoría', 'prácticas']} \n",
    "\n",
    "nom = {'persona': {'nombre': 'María', 'primer apellido': 'García', 'segundo apellido': 'Pérez'}, 'edad': 30}\n",
    "\n",
    "\n",
    "print(num)\n",
    "print(asig)\n",
    "print(nom)"
   ]
  },
  {
   "cell_type": "markdown",
   "metadata": {},
   "source": [
    "Como se observa, los **diccionarios** presentan una gran flexibilidad. Los **valores** pueden ser de cualquier tipo: datos simples, listas, incluso otros diccionarios, etc., con cualquier nivel de anidamiento. Las **claves**, sin embargo, tiene que ser tipos inmutables (enteros, cadenas, tuplas).\n",
    "\n",
    "Para acceder individualmente a los elementos de los diccionarios, se utiliza la sintaxis de los corchetes."
   ]
  },
  {
   "cell_type": "code",
   "execution_count": 2,
   "metadata": {},
   "outputs": [
    {
     "name": "stdout",
     "output_type": "stream",
     "text": [
      "uno\n"
     ]
    }
   ],
   "source": [
    "num = {1: 'uno', 2: 'dos', 3: 'tres', 4: 'cuatro'}\n",
    "\n",
    "print(num[1])"
   ]
  },
  {
   "cell_type": "markdown",
   "metadata": {},
   "source": [
    "En el caso de tener estructuras más complejas (anidadas) se deberá proceder en consecuencia. Por ejemplo:"
   ]
  },
  {
   "cell_type": "code",
   "execution_count": 3,
   "metadata": {},
   "outputs": [
    {
     "name": "stdout",
     "output_type": "stream",
     "text": [
      "García\n"
     ]
    }
   ],
   "source": [
    "nom = {'persona': {'nombre': 'María', 'primer apellido': 'García', 'segundo apellido': 'Pérez'}, 'edad': 30}\n",
    "\n",
    "print(nom['persona']['primer apellido'])"
   ]
  },
  {
   "cell_type": "markdown",
   "metadata": {},
   "source": [
    "En el ejemplo, en la clave `persona` del diccionario `nom`,  se almacena a su vez otro diccionario. Para acceder a la clave `primer apellido` del diccionario anidado, se procede de la forma mostrada.\n",
    "\n",
    "Otro ejemplo:"
   ]
  },
  {
   "cell_type": "code",
   "execution_count": 2,
   "metadata": {},
   "outputs": [
    {
     "name": "stdout",
     "output_type": "stream",
     "text": [
      "teoría\n"
     ]
    }
   ],
   "source": [
    "asig = {'asignatura': 'Fundamentos de Programación', 'créditos': 6, 'tipos': ['teoría', 'prácticas']} \n",
    "\n",
    "print(asig['tipos'][0])"
   ]
  },
  {
   "cell_type": "markdown",
   "metadata": {},
   "source": [
    "En este caso, se accede al primer elemento de la lista que aparece como dato accesible a través de la clave `tipos`."
   ]
  },
  {
   "cell_type": "markdown",
   "metadata": {},
   "source": [
    "***\n",
    "<a id='Diccionarios_vs_listas'></a>"
   ]
  },
  {
   "cell_type": "markdown",
   "metadata": {},
   "source": [
    "## Diccionarios versus listas\n",
    "\n",
    "Tanto los **diccionarios** como las **listas** son colecciones **iterables** y **mutables**. \n",
    " - **Iterables**: los elementos que las componen pueden ser accedidos de *uno en uno* utilizando construcciones como el `for`.\n",
    " - **Mutables**: los elementos pueden ser modificados, las colecciones pueden ser borradas, extendidas, etc.\n",
    "\n",
    "Las **listas** son colecciones **secuenciales** que establecen una relación de orden entre los elementos contenidos. Los **diccionarios** son **no secuenciales**: no tiene ningún sentido decir que un elemento cualquiera de un diccionario *va primero* que otro. El hecho de ser **no secuenciales**, por ejemplo, implica que en los diccionarios no se puedan utilizar los **cortes** (**slices**), como sí ocurre con las listas.\n",
    "\n",
    "Todo lo que puede ser realizado con **diccionarios** puede ser llevado a cabo con **listas**. Sin embargo, para muchas tareas resulta más conveniente, por ser más intuitivo o más eficiente, el utilizar **diccionarios**.\n",
    "\n",
    "Veamos un ejemplo resuelto de ambas formas. Se trata de programar un glosario reducido de términos de programación en Python."
   ]
  },
  {
   "cell_type": "code",
   "execution_count": null,
   "metadata": {
    "tags": [
     "remove-output",
     "raises-exception"
    ]
   },
   "outputs": [],
   "source": [
    "conceptos = ['hashable', 'inmutable', 'interactivo', 'interpretado', 'iterable']\n",
    "definiciones = ['Si su valor \"hash\" nunca cambia. Pueden actuar como \"clave de diccionarios\".',\n",
    "                'Objeto con valor fijo.',\n",
    "                'Python posee un intérprete interactivo.',\n",
    "                'Python es un lenguaje interpretado.',\n",
    "                'Objeto capaz de devolver sus elementos, uno cada vez.']\n",
    "\n",
    "concepto = input('Diga concepto a buscar: ')\n",
    "\n",
    "indice = conceptos.index(concepto)\n",
    "definicion = definiciones[indice]\n",
    "\n",
    "print(definicion)"
   ]
  },
  {
   "cell_type": "markdown",
   "metadata": {},
   "source": [
    "Un ejemplo de ejecución sería el siguiente:"
   ]
  },
  {
   "cell_type": "markdown",
   "metadata": {},
   "source": [
    "```\n",
    "Diga concepto a buscar: interactivo\n",
    "Python posee un intérprete interactivo.\n",
    "```"
   ]
  },
  {
   "cell_type": "markdown",
   "metadata": {},
   "source": [
    "En el código anterior se implementa el glosario utilizando dos *listas*: en la primera se almacenarían los conceptos a definir (siguiendo un orden lexicográfico, aunque en este caso el orden podría ser arbitrario) y en la segunda lista aparecen las definiciones correspondientes: aquí el orden tiene que ser consecuente con el orden elegido para la primera lista, cualquiera que este sea.\n",
    "\n",
    "La tarea es realizable utilizando listas, pero resulta más compacta e intuitiva si se utilizan los diccionarios de Python."
   ]
  },
  {
   "cell_type": "code",
   "execution_count": null,
   "metadata": {
    "tags": [
     "remove-output",
     "raises-exception"
    ]
   },
   "outputs": [],
   "source": [
    "# Glosario de Python implementado con un diccionario\n",
    "\n",
    "glosario = {'hashable': 'Si su valor \"hash\" nunca cambia. Pueden actuar como \"clave de diccionarios\".',\n",
    "            'inmutable': 'Objeto con valor fijo.',\n",
    "            'interactivo': 'Python posee un intérprete interactivo.',\n",
    "            'interpretado': 'Python es un lenguaje interpretado.',\n",
    "            'iterable': 'Objeto capaz de devolver sus miembros, uno cada vez.'}\n",
    "\n",
    "concepto = input('Diga concepto a buscar: ')\n",
    "definicion = glosario[concepto]\n",
    "print(definicion)"
   ]
  },
  {
   "cell_type": "markdown",
   "metadata": {},
   "source": [
    "La diferencia entre las dos implementaciones previas (con listas y con diccionarios) sugiere que para esta aplicación particular, la solución basada en diccionarios es preferible.\n",
    "\n",
    "- Con los diccionarios se necesita *mantener* una única colección en memoria y no dos listas, que deberán estar necesariamente *coordinadas*, con lo que esto supone de una mayor susceptibilidad a errores.\n",
    "- A la hora de acceder a un **valor** (la *definición*) asociado a una **clave** (el *concepto*), simplemente se utiliza directamente la clave. En el caso de las dos listas, explícitamente hay que encontrar el índice que se corresponde con el concepto en la primera lista, para después acceder a la segunda utilizando dicho índice."
   ]
  },
  {
   "cell_type": "markdown",
   "metadata": {},
   "source": [
    "Se puede considerar al **diccionario** como una generalización de las **listas**. O a la inversa, una **lista** sería una especie de **diccionario** especializado que no tiene clave porque esa función sería realizada por el **índice**: los enteros en el intervalo `[0, N-1]` donde `N` es el número de elementos almacenados.\n",
    "\n",
    "Debido a este hecho, la **lista** establece implícitamente una relación de orden entre los elementos.\n",
    "En el **diccionario**, al identificar individualmente a cada uno de los elementos por una clave explícita, dicho orden ya no tiene sentido."
   ]
  },
  {
   "cell_type": "markdown",
   "metadata": {},
   "source": [
    "### Elementos que pueden actuar como *claves* en diccionarios\n",
    "\n",
    "Como se ha visto, las **claves** de los **diccionarios** pueden estar creadas usando diferentes tipos, no solo por **cadenas de caracteres**.\n",
    "\n",
    "No todos los valores pueden ser *claves*. Solo lo pueden ser aquellos valores que sean **inmutables**:\n",
    "- caracteres\n",
    "- cadenas de caracteres\n",
    "- enteros, booleanos y reales\n",
    "- tuplas\n",
    "\n",
    "No pueden actuar como *claves* ni las listas ni los propios diccionarios."
   ]
  },
  {
   "cell_type": "markdown",
   "metadata": {},
   "source": [
    "***\n",
    "<a id='Operacciones_con_diccionarios'></a>"
   ]
  },
  {
   "cell_type": "markdown",
   "metadata": {},
   "source": [
    "## Operaciones con diccionarios\n",
    "\n",
    "Entre las operaciones a realizar con diccionarios se tienen:\n",
    "\n",
    "- **Crear los diccionarios**\n",
    "- **Copiar diccionarios**\n",
    "- **Acceder a datos**\n",
    "- **Modificar datos**\n",
    "- **Extender**\n",
    "- **Borrar datos**\n",
    "- **Obtener tamaño**\n",
    "- **Recorrer diccionario**"
   ]
  },
  {
   "cell_type": "markdown",
   "metadata": {},
   "source": [
    "Los **diccionarios** (al igual que las **listas**) son estructuras de datos **mutables**. Esto quiere decir que se pueden modificar: cambiar el dato asociado a una *clave*, borrarlo, extender el diccionario con nuevos elementos, etc.\n",
    "\n",
    "Véase el siguiente ejemplo, donde se parte de un diccionario vacío, para crearlo paso a paso.\n",
    "\n",
    "Para actualizar el dato de un elemento en un diccionario basta con asignar un valor al elemento en cuestión, accediendo a él mediante la clave.\n",
    "\n",
    "Si el elemento existe, se modifica. Si no existe, se crea uno nuevo: el diccionario se expande dinámicamente."
   ]
  },
  {
   "cell_type": "code",
   "execution_count": null,
   "metadata": {},
   "outputs": [],
   "source": [
    "mediciones = {}\n",
    "mediciones['temperatura'] = 30\n",
    "mediciones['pres'] = 1.2\n",
    "mediciones['nivel'] = 50\n",
    "mediciones['valv'] = 'abierta'\n",
    "print(mediciones)"
   ]
  },
  {
   "cell_type": "markdown",
   "metadata": {},
   "source": [
    "### La función `dict()`\n",
    "También es posible utilizar la función ```dict()```, con diversos argumentos, para crear diccionarios de forma flexible.\n",
    "\n",
    "* Como conjunto variable de argumentos con nombre\n",
    "```python\n",
    "    dic_arg    = dict(clave_1 = dato1, clave_2 = dato2, ...)     \n",
    "```\n",
    "* Como una lista de tuplas\n",
    "```python \n",
    "    dic_tuplas = dict([(clave_1, dato1), (clave_2, dato2)])     # \n",
    "```\n",
    "* Uniendo dos listas con la función `zip()`\n",
    "```python\n",
    "    dic_listas = dict(zip([clave_1, clave_2], [dato1, dato2]))  # \n",
    "```"
   ]
  },
  {
   "cell_type": "code",
   "execution_count": null,
   "metadata": {},
   "outputs": [],
   "source": [
    "digitos = dict(uno=1, dos=2)\n",
    "romanos = dict([(1, 'I'), (2, 'II'), (3, 'III'), (4, 'IV')])\n",
    "por_dos = dict(zip([1, 2, 3], [2, 4, 6]))\n",
    "\n",
    "print(digitos, romanos, por_dos)"
   ]
  },
  {
   "cell_type": "markdown",
   "metadata": {},
   "source": [
    "### Copiar diccionarios\n",
    "\n",
    "Los diccionarios son colecciones mutables, al igual que las listas. Debido a ello, es importante ser consciente acerca de qué es lo que ocurre cuando se intenta *copiar* un diccionario a otro.\n",
    "\n",
    "#### Alias\n",
    "\n",
    "Las asignaciones del tipo ```dic2 = dic1``` simplemente crean un *alias*: otorgan otro nombre, `dic2`, a un diccionario también llamado `dic1`. Evidentemente, las modificaciones hechas a los datos subyacentes mediante un alias, serán accesibles cuando se acceda a través del otro.\n",
    "\n",
    "#### Copia superficial (shallow copy)\n",
    "\n",
    "Hace una copia de los pares (clave: dato) de un diccionario a otro. No realiza copia de otras estructuras (listas, otros diccionarios) anidadas.\n",
    "```python\n",
    "dic2_copia = dict(dic1)    # Utilizando la función dict()\n",
    "dic3_copia = dic1.copy()   # Utilizando el método .copy() del diccionario fuente.\n",
    "```"
   ]
  },
  {
   "cell_type": "code",
   "execution_count": null,
   "metadata": {},
   "outputs": [],
   "source": [
    "dic1 = {1: 2, 3: 4}\n",
    "dic2 = dict(dic1)   \n",
    "dic3 = dic1.copy()\n",
    "\n",
    "dic1[1] = 100\n",
    "print(dic1, 'id: ', id(dic1))\n",
    "print(dic2, 'id: ', id(dic2))\n",
    "print(dic3, 'id: ', id(dic3))"
   ]
  },
  {
   "cell_type": "markdown",
   "metadata": {},
   "source": [
    "#### Copia profunda (deep copy)\n",
    "Hace copia separadas de diccionarios con independencia del grado de anidamiento que presenten."
   ]
  },
  {
   "cell_type": "code",
   "execution_count": null,
   "metadata": {},
   "outputs": [],
   "source": [
    "import copy\n",
    "\n",
    "dir1 = {'Apt': 2, 'id': {'iq1': 1, 'iq2': 2}}\n",
    "dir2 = copy.deepcopy(dir1)  # Copia profunda\n",
    "dir3 = dir1.copy()  # Copia superficial\n",
    "dir1['id']['iq1'] = 1000\n",
    "\n",
    "print(dir1)\n",
    "print('La copia profunda no sufre alteración con el cambio en dict1:', dir2)\n",
    "print('La copia superficial se ve afectada con el cambio en dict1:', dir3)"
   ]
  },
  {
   "cell_type": "markdown",
   "metadata": {},
   "source": [
    "### Acceder a los elementos de forma segura\n",
    "\n",
    "Probablemente haya observado que, si se intenta acceder mediante la *clave* a un objeto que no se encuentra en el **diccionario**, se genera una excepción. Para evitar este tipo de errores se puede *interrogar* al diccionario por la existencia de la *clave*. Esto se puede realizar utilizando una estructura condicional y el operador `in`, que devuelve `True` si la clave indicada existe en el **diccionario** y `False` en caso contrario."
   ]
  },
  {
   "cell_type": "code",
   "execution_count": null,
   "metadata": {},
   "outputs": [],
   "source": [
    "if 'temperatura' in mediciones:\n",
    "    print(mediciones['temperatura'])\n",
    "else:\n",
    "    print('Probablemente deba ejecutar la celda previa')"
   ]
  },
  {
   "cell_type": "markdown",
   "metadata": {},
   "source": [
    "### Borrar elementos\n",
    "Igual que para las listas, se utiliza la función nativa `del()`.\n",
    "\n",
    "```python\n",
    "del mediciones['valv']\n",
    "```\n",
    "Pero también es posible utilizar el *método* `.pop()` del diccionario, para simultáneamente acceder al elemento señalado y borrarlo.\n",
    "\n",
    "```python\n",
    "valor_temp = mediciones.pop('temperatura')\n",
    "```"
   ]
  },
  {
   "cell_type": "code",
   "execution_count": null,
   "metadata": {},
   "outputs": [],
   "source": [
    "mediciones = {}\n",
    "mediciones['temperatura'] = 30\n",
    "mediciones['pres'] = 1.2\n",
    "mediciones['nivel'] = 50\n",
    "mediciones['valv'] = 'abierta'\n",
    "\n",
    "valor = mediciones.pop('pres')\n",
    "print(valor)\n",
    "print(mediciones)"
   ]
  },
  {
   "cell_type": "markdown",
   "metadata": {},
   "source": [
    "El método `.clear()` borra todos los elementos de un diccionario, dejándolo vacío."
   ]
  },
  {
   "cell_type": "markdown",
   "metadata": {},
   "source": [
    "### Tamaño del diccionario\n",
    "\n",
    "La función `len()` está *sobrecargada* para trabajar también con diccionarios.\n",
    "\n",
    "```python\n",
    "print(len(mediciones))\n",
    "```"
   ]
  },
  {
   "cell_type": "markdown",
   "metadata": {},
   "source": [
    "### Uniendo diccionarios\n",
    "\n",
    "Una posibilidad interesante es la de unir dos diccionarios en uno. La sintaxis es:\n",
    "\n",
    "```python\n",
    "dicionario1.update(dicionario2)\n",
    "```\n",
    "El método `.update()` del `diccionario1` recibe otro diccionario, `diccionario2` a modo de *actualización*.\n",
    "\n",
    "El resultado es el siguiente:\n",
    "- Se añaden al **diccionario** actualizado todos los elementos del otro diccionario. \n",
    "- Si alguna clave coincide, el resultado final será el del elemento del segundo diccionario."
   ]
  },
  {
   "cell_type": "code",
   "execution_count": null,
   "metadata": {},
   "outputs": [],
   "source": [
    "dic1 = {'a': 10, 'b': 1}\n",
    "dic2 = {'a': 3, 'c': 0}\n",
    "\n",
    "dic1.update(dic2)\n",
    "\n",
    "print(dic1)"
   ]
  },
  {
   "cell_type": "markdown",
   "metadata": {},
   "source": [
    "***\n",
    "<a id='El_diccionario_como_iterable'></a>"
   ]
  },
  {
   "cell_type": "markdown",
   "metadata": {},
   "source": [
    "## El diccionario como iterable\n",
    "El uso de los diccionarios en programación requiere frecuentemente de la posibilidad de recorrerlos, accediendo a cada uno de los elementos almacenados. "
   ]
  },
  {
   "cell_type": "code",
   "execution_count": 3,
   "metadata": {},
   "outputs": [
    {
     "name": "stdout",
     "output_type": "stream",
     "text": [
      "Fundamentos de Programación\n",
      "6\n",
      "['teoría', 'prácticas']\n"
     ]
    }
   ],
   "source": [
    "asig = {'asignatura': 'Fundamentos de Programación', 'créditos': 6, 'tipos': ['teoría', 'prácticas']} \n",
    "\n",
    "for clave in asig:\n",
    "    print(asig[clave])"
   ]
  },
  {
   "cell_type": "markdown",
   "metadata": {},
   "source": [
    "El anterior bucle es equivalente al siguiente:\n",
    "\n",
    "```python\n",
    "for clave in asig.keys():\n",
    "    print(asig[clave])\n",
    "```\n",
    "El método `.keys()` del **diccionario** devuelve un objeto iterable consistente en las claves del mismo, con lo cual su uso en este contexto es redundante.\n",
    "\n",
    "Pero también es posible recorrer directamente los datos, obviando su relación con sus claves, utilizando el método `.values()`, como se ejemplifica a continuación."
   ]
  },
  {
   "cell_type": "code",
   "execution_count": null,
   "metadata": {},
   "outputs": [],
   "source": [
    "for valor in asig.values():\n",
    "    print(valor)"
   ]
  },
  {
   "cell_type": "markdown",
   "metadata": {},
   "source": [
    "Existe todavía otra manera de recorrer el diccionario:"
   ]
  },
  {
   "cell_type": "code",
   "execution_count": null,
   "metadata": {},
   "outputs": [],
   "source": [
    "for clave, valor in asig.items():\n",
    "    print(clave, '->', valor)"
   ]
  },
  {
   "cell_type": "markdown",
   "metadata": {},
   "source": [
    "Utiliza el método `.items()` que devuelve una **tupla** conteniendo la clave y el dato asociado."
   ]
  },
  {
   "cell_type": "markdown",
   "metadata": {},
   "source": [
    "***\n",
    "<a id='Ejemplos'></a>"
   ]
  },
  {
   "cell_type": "markdown",
   "metadata": {},
   "source": [
    "## Ejemplos\n",
    "\n",
    "### Contar las veces que aparece cada letra (y otros signos de puntuación) en una cadena de caracteres. \n",
    "\n",
    "El algoritmo puede condensarse en los siguientes pasos:\n",
    "- Crear un diccionario vacío\n",
    "- Iterar para cada una de las letras de la cadena:\n",
    "    - Si la letra no existe como _clave_ en el diccionario:\n",
    "        - Agregar la _clave_ asignándole como valor al elemento un cero\n",
    "    - Si ya existe\n",
    "        - Incrementar en uno el entero asociado a la letra"
   ]
  },
  {
   "cell_type": "code",
   "execution_count": 6,
   "metadata": {},
   "outputs": [
    {
     "name": "stdout",
     "output_type": "stream",
     "text": [
      "{'E': 1, 's': 15, 't': 9, 'e': 19, ' ': 31, 'u': 4, 'n': 10, 'x': 2, 'o': 7, 'd': 4, 'l': 9, 'q': 1, 'v': 2, 'a': 22, 'r': 8, 'p': 2, 'i': 12, 'z': 2, 'f': 1, 'c': 4, 'm': 5, '.': 2, '\\n': 1, 'L': 1, 'í': 2, ',': 1, '3': 1, 'T': 1, 'b': 1, 'é': 1, 'g': 2, 'y': 1}\n"
     ]
    }
   ],
   "source": [
    "texto = '''Este es un texto del que se van a extraer letras para analizar la frecuencia de las mismas.\n",
    "La cadena tiene varias líneas, por eso utilizamos 3 comillas. También tiene dígitos y signos'''\n",
    "\n",
    "letras_frec = {}\n",
    "\n",
    "for letra in texto:\n",
    "    if letra not in letras_frec:\n",
    "        letras_frec[letra] = 1\n",
    "    else:\n",
    "        letras_frec[letra] += 1\n",
    "    \n",
    "print(letras_frec)"
   ]
  },
  {
   "cell_type": "markdown",
   "metadata": {},
   "source": [
    "El código anterior es perfectamente válido y resulta muy claro.\n",
    "\n",
    "En la medida en que conozcamos más en profundidad las diversas posibilidades que ofrece Python, podemos utilizarlas en nuestro beneficio. Por ejemplo, los diccionarios tienen el método `.get(clave, valor)` , que sirve el propósito de devolver:\n",
    "\n",
    "* si la clave existe, primer parámetro, se devuelve el valor asociado\n",
    "* si la clave no existe, se devuelve `valor`, el segundo parámetro, que es opcional\n",
    "\n",
    "Pues bien, el uso de este método simplifica el código previo de la siguiente forma."
   ]
  },
  {
   "cell_type": "code",
   "execution_count": null,
   "metadata": {},
   "outputs": [],
   "source": [
    "letras_frec = {}\n",
    "\n",
    "for letra in texto:\n",
    "    letras_frec[letra] = letras_frec.get(letra, 0) + 1\n",
    "    \n",
    "print(letras_frec)"
   ]
  },
  {
   "cell_type": "markdown",
   "metadata": {},
   "source": [
    "### Matrices dispersas  (sparse)\n",
    "\n",
    "Existen muchas aplicaciones con matrices donde éstas se caracterizan por tener la gran mayoría de sus elementos con valor cero, y solo unos pocos con valores significativos. En estas aplicaciones, resulta más eficiente representar la matriz por un método alternativo, que consiste en representar solo los valores diferentes de cero, especificando la fila y la columna donde esos valores están situados. Las matrices susceptibles de ser representadas de esta forma son conocidas como matrices **dispersas** (**sparse**). \n",
    "\n",
    "En el siguiente código se describe una función que recibe una matriz representada de la forma convencional (como una lista anidada de filas). Posteriormente, la convierte al formato de *matriz dispersa* utilizando un diccionario, en el que la clave está formada por una *tupla* que contiene la fila y columna del elemento a representar."
   ]
  },
  {
   "cell_type": "code",
   "execution_count": null,
   "metadata": {},
   "outputs": [],
   "source": [
    "# Recibe matriz definida como lista anidada y devuelve matriz dispersa con diccionario\n",
    "def convierte_dispersa(mat):\n",
    "    mat_sparse = {}\n",
    "    for fil, col in enumerate(mat):\n",
    "        for col, elem in enumerate(mat[fil]):\n",
    "            if elem != 0:\n",
    "                mat_sparse[(fil, col)] = elem\n",
    "    return mat_sparse\n",
    "\n",
    "\n",
    "# Programa principal\n",
    "mat = [[0, 0, 0, 1],\n",
    "       [0, 1, 0, 0],\n",
    "       [0, 0, 0, 1],\n",
    "       [1.2, 0, 0, 0]]\n",
    "\n",
    "mat_eficiente = convierte_dispersa(mat)\n",
    "\n",
    "print(mat_eficiente)"
   ]
  },
  {
   "cell_type": "markdown",
   "metadata": {},
   "source": [
    "***\n",
    "<a id='Conjuntos'></a>"
   ]
  },
  {
   "cell_type": "markdown",
   "metadata": {},
   "source": [
    "## Conjuntos\n",
    "\n",
    "Los **conjuntos** (**sets**) de Python son colecciones que tiene las siguientes características:\n",
    "\n",
    "- La colección es **mutable**, pero los elementos contenidos tienen que ser **inmutables**.\n",
    "- Los elementos no pueden aparecer repetidos.\n",
    "- Es **iterable** y **no secuencial**\n",
    "\n",
    "A efectos prácticos, un conjunto es un diccionario donde las claves (elementos del conjunto) no tienen valores asociados."
   ]
  },
  {
   "cell_type": "markdown",
   "metadata": {},
   "source": [
    "Se pueden crear **conjuntos** especificando los elementos que lo conforman con la sintaxis:\n",
    "\n",
    "```python\n",
    "{elem1, elem2, elem3, ...}\n",
    "```\n",
    "donde se utilizan las llaves `{}` al igual que con los **diccionarios**, aunque debe observar que los elementos se describen de forma diferente."
   ]
  },
  {
   "cell_type": "code",
   "execution_count": null,
   "metadata": {},
   "outputs": [],
   "source": [
    "digitos = {'0', '1', '2', '3', '4', '5', '6', '7', '8', '9'}"
   ]
  },
  {
   "cell_type": "markdown",
   "metadata": {},
   "source": [
    "Otra forma de crear **conjuntos** es utilizando la función `set()`, a la que se le pasa como argumento algún otro _iterable_.\n",
    "\n",
    "Ejemplo:"
   ]
  },
  {
   "cell_type": "code",
   "execution_count": null,
   "metadata": {},
   "outputs": [],
   "source": [
    "lista_num = [1, 2, 3, 4, 3]\n",
    "set_num = set(lista_num)\n",
    "set_letras = set(\"Las letras de esta cadena formaran el conjunto, pero sin repeticiones.\")\n",
    "\n",
    "print(set_num)\n",
    "print(set_letras)"
   ]
  },
  {
   "cell_type": "markdown",
   "metadata": {},
   "source": [
    "Es importante entender que los elementos del **conjunto** no pueden aparecer repetidos. Aunque tanto la lista como la cadena que sirve como fuente para crear el **conjunto** tienen elementos repetidos, el **conjunto** sólo almacena una instancia de cada elemento.\n",
    "\n",
    "Observe además que la función ```print()``` está _sobrecargada_ para poder sacar por pantalla objetos de tipo **conjunto**."
   ]
  },
  {
   "cell_type": "markdown",
   "metadata": {},
   "source": [
    "### Modificando dinámicamente los conjuntos\n",
    "Al ser una colección mutable, se pueden añadir y borrar elementos del **conjunto**."
   ]
  },
  {
   "cell_type": "code",
   "execution_count": null,
   "metadata": {},
   "outputs": [],
   "source": [
    "s = set()\n",
    "s.add(1)\n",
    "s.add('cad')\n",
    "print(s)"
   ]
  },
  {
   "cell_type": "markdown",
   "metadata": {},
   "source": [
    "En el fragmento de código se crea inicialmente un **conjunto** vacío. Observe que no se puede utilizar `s = {}`, porque resultaría ambiguo al confundirse con la sentencia que crea un **diccionario** vacío.\n",
    "Posteriormente, se utiliza el método ```.add()``` para añadir un elemento entero y a continuación otro de tipo `str`. "
   ]
  },
  {
   "cell_type": "markdown",
   "metadata": {},
   "source": [
    "Para borrar elementos de un **conjunto** se tiene:\n",
    "\n",
    "- Método `.clear()`: borra todos los elementos.\n",
    "- Método `.discard(elem)`: borra elemento `elem` si existe. Si no existe, no ocurre nada.\n",
    "- Método `.remove(elem)`: elimina elemento `elem` si existe. Si no existe: se lanza excepción `KeyError`.\n",
    "- Método `.pop()`: elimina y devuelve **elemento arbitrario**. Si el **conjunto** está vacío: lanza excepción `KeyError`."
   ]
  },
  {
   "cell_type": "code",
   "execution_count": null,
   "metadata": {},
   "outputs": [],
   "source": [
    "s = {1, 2, 3, 4, 5}\n",
    "\n",
    "s.discard(9)\n",
    "s.discard(4)\n",
    "a = s.pop()\n",
    "\n",
    "print('Elemento sacado con pop:', a, '\\nConjunto que queda: ', s)"
   ]
  },
  {
   "cell_type": "markdown",
   "metadata": {},
   "source": [
    "En la medida en que el **conjunto** es una colección **mutable**, se tienen que tener en cuenta las implicaciones ya vistas en el caso de las **listas** y los **diccionarios** en lo relativo a la creación de *alias* y la *copia superficial*.\n",
    "\n",
    "```python\n",
    "a = {1,2,3,4}\n",
    "b = a\n",
    "```\n",
    "\n",
    "En lo anterior, `b` es simplemente un alias de `a`. Cualquier modificación de una variable o de la otra que ocurra después de la asignación, modifica el dato común que es accedido a través de cualquiera de ellas.\n",
    "\n",
    "Si se quiere obtener **otro conjunto** que inicialmente contenga los mismos elementos que otro, se utilizará el método `.copy()` del conjunto fuente, como se indica en el ejemplo. "
   ]
  },
  {
   "cell_type": "code",
   "execution_count": null,
   "metadata": {},
   "outputs": [],
   "source": [
    "a = {1, 2, 3, 4}\n",
    "b = a.copy()\n",
    "b.add(10)\n",
    "print(a, b)"
   ]
  },
  {
   "cell_type": "markdown",
   "metadata": {},
   "source": [
    "### El conjunto como colección iterable\n",
    "Un **conjunto** es una colección iterable. De manera que se puede utilizar en aquellas construcciones que espera este tipo de elementos, como por ejemplo bucles `for`."
   ]
  },
  {
   "cell_type": "code",
   "execution_count": null,
   "metadata": {},
   "outputs": [],
   "source": [
    "vocales = set('aeiou')\n",
    "cons_preferidas = set('pm')\n",
    "\n",
    "for consonante in cons_preferidas:\n",
    "    for vocal in vocales:\n",
    "        print(consonante + vocal)"
   ]
  },
  {
   "cell_type": "markdown",
   "metadata": {},
   "source": [
    "### Métodos de la clase conjunto y funciones útiles\n",
    "\n",
    "Existen funciones nativas de Python que están _sobrecargadas_ para trabajar con **conjuntos** de la misma forma que con cualquier otro **iterable**. \n",
    "\n",
    "Por ejemplo:\n",
    "\n",
    "- `sum()`: Suma todos los elementos (en caso de que la suma este definida para esos elementos)\n",
    "- `len()`: Devuelve un entero con el número de elementos.\n",
    "- `min(), max()`: Devuelven el mínimo y el máximo respectivamente de los elementos en el **conjunto**.\n",
    "- `sorted()`: Devuelve una **lista** con los elementos del **conjunto** ordenados.\n",
    "- `list(), tuple(), enumerate()`: Devuelve una **lista**, una **tupla** o un **enumerado** respectivamente con los datos del **conjunto** que se le pasa como parámetro."
   ]
  },
  {
   "cell_type": "code",
   "execution_count": null,
   "metadata": {},
   "outputs": [],
   "source": [
    "s = set(range(6))\n",
    "print(list(enumerate(s)))"
   ]
  },
  {
   "cell_type": "markdown",
   "metadata": {},
   "source": [
    "### Operaciones matemáticas entre conjuntos\n",
    "La característica distintiva y la utilidad mayor de los conjuntos se obtiene precisamente de su capacidad para representar el comportamiento de los **conjuntos matemáticos**.\n",
    "\n",
    "Las operaciones más importantes en este sentido son:\n",
    "\n",
    "- Determinación de si un **elemento** o, en general, un **subconjunto** pertenece o no al **conjunto**.\n",
    "- Obtención del **conjunto** que resulta de la **unión** de dos conjuntos.\n",
    "- Obtención del **conjunto** que es la **diferencia** entre un conjunto y otro.\n",
    "- Obtención del **conjunto** que resulta de la **intersección** de dos conjuntos.\n",
    "\n",
    "En lo que sigue, vemos con algo más detalle cada una de estas operaciones."
   ]
  },
  {
   "cell_type": "markdown",
   "metadata": {},
   "source": [
    "#### Pertenencia de un elemento o subconjunto a otro\n",
    "\n",
    "Las operaciones de esta subsección dan como resultado un valor lógico. Para el caso de la pertenencia o no de un elemento a un conjunto, se tendría que el resultado sería ```True``` si:\n",
    "\n",
    "| Operación                    | Representación matematica | Python           |\n",
    "|:----------------------------:|:-------------------------:|:----------------:|\n",
    "| a es un elemento de A        | $a \\in A$                 | `a in A`         |\n",
    "| b no es un elemento de A     | $b \\notin A$              | `b not in A`     |\n",
    "| A es igual a B               | $A = B$                   | `A == B`         |\n",
    "| B es subconjunto de A        | $B \\subseteq A$           | `B.issubset(A)`  |\n",
    "| A es un superconjunto de B   | $A \\supseteq B$           | `A.issuperset(B)`|\n",
    "| A y B son disjuntos          | $A \\cap B = \\emptyset$    | `A.isdisjoint(B)`|"
   ]
  },
  {
   "cell_type": "code",
   "execution_count": null,
   "metadata": {},
   "outputs": [],
   "source": [
    "a = {1, 2, 3}\n",
    "b = {3, 2}\n",
    "print(a.issubset(b))\n",
    "print(a.issuperset(b))\n",
    "print(b.isdisjoint(a))"
   ]
  },
  {
   "cell_type": "markdown",
   "metadata": {},
   "source": [
    "#### Unión, intersección y diferencia de conjuntos\n",
    "\n",
    "![Sets.jpg](img/Sets.jpg)\n",
    "\n",
    "Estas operaciones sobre conjuntos dan como resultado otro conjunto.\n",
    "\n",
    "* El conjunto **unión** contiene todos los elementos de sus conjuntos operandos.\n",
    "* El conjunto **intersección** contiene los elementos que pertenecen _simultáneamente_ a ambos conjuntos.\n",
    "\n",
    "Tanto la unión como la intersección son operaciones simétricas. Ej: `a.union(b) == b.union(a)`.\n",
    "\n",
    "La **diferencia**, sin embargo, no es simétrica: el conjunto **diferencia** contiene todos los elementos del primer operando que no están en el segundo.\n",
    "\n",
    "Una operación relacionada con la anterior es la que actualiza los elementos de A, eliminado aquellos que están en B.\n",
    "\n",
    "\n",
    "| Operación                    | Representación matematica | Python                  |\n",
    "|:----------------------------:|:-------------------------:|:-----------------------:|\n",
    "| A **unión** B                | $C = A \\cup B$            | `C = A.union(B)`        |\n",
    "| A **intersección** B         | $C = A \\cap B$            | `C = A.intersection(B)` |\n",
    "| A **diferencia** de B        | $C = A - B$               | `C = A.difference(B)`   |\n",
    "| A **actualiza** con B        | $A = A - B$               | `A.difference_update(B)`|"
   ]
  },
  {
   "cell_type": "markdown",
   "metadata": {},
   "source": [
    "### Ejemplo"
   ]
  },
  {
   "cell_type": "code",
   "execution_count": 4,
   "metadata": {},
   "outputs": [
    {
     "name": "stdout",
     "output_type": "stream",
     "text": [
      "[1, 2, 3, 4, 9, -2]\n"
     ]
    }
   ],
   "source": [
    "# Función que recibe lista y devuelve otra sin elementos repetidos usando set\n",
    "def elimina_rep(lista):\n",
    "    return list(set(lista))\n",
    "\n",
    "\n",
    "# Programa principal\n",
    "lista = [1, 2, 1, 4, 3, -2, 1, 3, 2, 2, 9]\n",
    "print(elimina_rep(lista))       "
   ]
  },
  {
   "cell_type": "markdown",
   "metadata": {},
   "source": [
    "La función en el ejemplo anterior recibe una lista, que puede tener o no elementos repetidos, y devuelve otra que contiene los elementos de la lista original pero representados solamente una vez. La versión usando listas resulta menos compacta."
   ]
  },
  {
   "cell_type": "code",
   "execution_count": 5,
   "metadata": {},
   "outputs": [
    {
     "name": "stdout",
     "output_type": "stream",
     "text": [
      "[1, 2, 4, 3, -2, 9]\n"
     ]
    }
   ],
   "source": [
    "# Función que recibe lista y devuelve otra sin elementos repetidos usando listas\n",
    "def elimina_rep(lista):\n",
    "    lista_sin_repetidos = []\n",
    "    for x in lista:\n",
    "        if x not in lista_sin_repetidos:\n",
    "            lista_sin_repetidos.append(x)\n",
    "    return lista_sin_repetidos\n",
    "\n",
    "# Programa principal\n",
    "lista = [1, 2, 1, 4, 3, -2, 1, 3, 2, 2, 9]\n",
    "print(elimina_rep(lista))    "
   ]
  },
  {
   "cell_type": "markdown",
   "metadata": {},
   "source": [
    "En este caso, se conserva el orden relativo de los elementos de la lista original."
   ]
  },
  {
   "cell_type": "markdown",
   "metadata": {},
   "source": [
    "### Comentario sobre eficiencia de diccionarios y conjuntos\n",
    "Los **diccionarios** y los **conjuntos** de Python pueden ser muy útiles a la hora de ofrecer soluciones inesperadamente simples a problemas que de otra forma requerirían un mayor esfuerzo. Constituyen un recurso de alto nivel de abstracción que el lenguaje pone a disposición del programador.\n",
    "\n",
    "Una mayor **abstracción**, al evitar tener que prestar atención a los detalles, permite una mayor **productividad** en la tarea de programación.\n",
    "\n",
    "Pero no todo son ventajas. Una mayor **abstracción** muchas veces implica un mayor **coste computacional** al implicar la interposición de **capas** de _software_ entre la descripción abstracta del problema general y la solución particular de cada caso.\n",
    "\n",
    "La buena noticia es que los **diccionarios** y los **conjuntos** de Python tienen un coste computacional relativamente bajo. Son implementados como [**tablas de dispersión**](https://es.wikipedia.org/wiki/Tabla_hash) muy eficientes."
   ]
  }
 ],
 "metadata": {
  "celltoolbar": "Tags",
  "kernelspec": {
   "display_name": "Python 3",
   "language": "python",
   "name": "python3"
  },
  "language_info": {
   "codemirror_mode": {
    "name": "ipython",
    "version": 3
   },
   "file_extension": ".py",
   "mimetype": "text/x-python",
   "name": "python",
   "nbconvert_exporter": "python",
   "pygments_lexer": "ipython3",
   "version": "3.7.7"
  }
 },
 "nbformat": 4,
 "nbformat_minor": 2
}
