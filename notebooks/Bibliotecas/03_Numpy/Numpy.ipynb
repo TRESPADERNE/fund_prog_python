{
 "cells": [
  {
   "cell_type": "markdown",
   "metadata": {},
   "source": [
    "# El paquete Numpy"
   ]
  },
  {
   "cell_type": "markdown",
   "metadata": {},
   "source": [
    "[Introducción](#Introducción)<br>\n",
    "[Tipos](#Tipos)<br>\n",
    "[Creación de arrays](#Creacion_arrays)<br>\n",
    "[Atributos de los arrays](#Atributos_arrays)<br>\n",
    "[Manipulando arrays](#Manipulando_arrays)<br>\n",
    "[Álgebra lineal](#Algebra_lineal)<br>\n",
    "[Combinando matrices](#Combinando_matrices)<br>\n",
    "[Copia](#Copia)<br>\n",
    "[Iterando con bucles](#Iterando_bucles)<br>\n",
    "[Funciones universales](#Funciones_universales)<br>\n",
    "[Ejemplo de aplicación](#Ejemplo_aplicacion)"
   ]
  },
  {
   "cell_type": "markdown",
   "metadata": {},
   "source": [
    "***\n",
    "<a id='Introducción'></a>"
   ]
  },
  {
   "cell_type": "markdown",
   "metadata": {},
   "source": [
    "## Introducción"
   ]
  },
  {
   "cell_type": "markdown",
   "metadata": {},
   "source": [
    "**NumPy**, **Num**eric **Py**thon, es un paquete que dispone de múltiples herramientas para manejar **matrices** de una forma muy eficiente. \n",
    "\n",
    "En Python ya hemos trabajado con vectores (matriz unidimensional) y matrices usando **listas**. Sin embargo, la *flexibilidad* de las listas (posibilidad de albergar distintos tipos de datos en una misma lista y la de poder variar su tamaño de forma dinámica), conlleva una estructura interna en memoria que penaliza severamente la manipulación eficiente de listas de gran tamaño. ¡No hay beneficio sin servidumbre!\n",
    "\n",
    "Por otro lado, la inmensa mayoría de las aplicaciones de interés que manejan matrices se caracterizan porque los datos que las conforman son del mismo tipo. Esta es una de las características de las matrices de **Numpy**: todos sus datos son del mismo tipo, lo que permite un almacenamiento interno en memoria eficiente, usando tipos **POD**.\n",
    "\n",
    "Otro hándicap de Python a la hora de manejar grandes volúmenes de datos es su carácter interpretado. El acceso secuencial vía bucles a todos y cada uno de los elementos de una matriz de gran tamaño conlleva una ejecución, por parte del **intérprete**, inevitablemente lenta. Para contrarestar este severo inconveniente, el paquete **NumPy** permite invocar multitud de métodos de forma **vectorizada**, es decir, pasando como argumento directamente la variable que representa a la matriz, estando la manipulación secuencial a cargo de una implementación eficiente interna en los lenguajes C o Fortran, y de forma transparente al programador.\n",
    "\n",
    "Con la **vectorización Numpy** ni mucho menos *ha inventado la rueda*. Muchos lenguajes, como C++, permiten implementar funciones *vectorizadas*, es decir, funciones cuyos argumentos son matrices u operadores cuyos operandos son matrices. El quiz está en que, en **Numpy**, *detrás del escenario*, entra en acción una implementación eficiente en un **lenguaje compilado**."
   ]
  },
  {
   "cell_type": "markdown",
   "metadata": {},
   "source": [
    "Para usar **NumPy** debemos importar el módulo `numpy`, típicamente usando el alias `np`:"
   ]
  },
  {
   "cell_type": "code",
   "execution_count": 1,
   "metadata": {},
   "outputs": [],
   "source": [
    "import numpy as np"
   ]
  },
  {
   "cell_type": "markdown",
   "metadata": {},
   "source": [
    "Por consistencia con la denominación dentro del módulo, la terminología que usaremos para referirnos indistintamente a vectores y matrices es el *barbarismo* **array**.\n",
    "\n",
    "Debe tenerse en cuenta que en este documento expondremos una **pequeña parte** de las funciones  del módulo **NumPy**, las que se corresponden con las aplicaciones más habituales. Además, para cada función, existen multiples alternativas de invocación, con diferentes comportamientos en base a los tipos de los argumentos, argumentos opcionales, etc.\n",
    "\n",
    "Memorizar todas las posibilidades no tiene sentido, ni en esta ni en ninguna biblioteca o módulo. Lo importante es conocer las características fundamentales del módulo y **aprender a consultar** teniendo *a mano* la documentación pertinente: [**Numpy** reference](https://numpy.org/doc/stable/). Esto último es extensible, en general, a cualquier biblioteca de Python u otro lenguaje."
   ]
  },
  {
   "cell_type": "markdown",
   "metadata": {},
   "source": [
    "## Tipos\n",
    "**NumPy** permite trabajar con una gran variedad de **tipos POD**, equivalentes a los tipos fundamentales de C/C++.\n",
    "\n",
    "De forma **implícita**, **Numpy** deduce las constantes literales de la siguiente forma:\n",
    "\n",
    "* Literales enteras como `53` al tipo POD numpy `int32`, representación de enteros en complemento a 2 de 32 bits\n",
    "* Literales reales como `3.21` al tipo POD numpy `float64`, representación de reales IEEE-754 de 64 bits\n",
    "\n",
    "Si en alguna aplicación se desea utilizar un tipo específico basta indicarlo de forma **explícita** al crear las matrices, como iremos viendo en los siguientes apartados. Por ejemplo, algunos tipos habituales son:\n",
    "\n",
    "* `float32`, representación de reales IEEE-754 de 64 bits\n",
    "* `uint8`, representación de enteros sin signo de 8 bits\n",
    "* `int64`, representación de enteros en complemento a 2 de 64 bits\n",
    "* `uint32`, representación de enteros sin signo de 32 bits"
   ]
  },
  {
   "cell_type": "markdown",
   "metadata": {},
   "source": [
    "***\n",
    "<a id='Tipos'></a>"
   ]
  },
  {
   "cell_type": "markdown",
   "metadata": {},
   "source": [
    "***\n",
    "<a id='Creacion_arrays'></a>"
   ]
  },
  {
   "cell_type": "markdown",
   "metadata": {},
   "source": [
    "## Creación de arrays"
   ]
  },
  {
   "cell_type": "markdown",
   "metadata": {},
   "source": [
    "El módulo `numpy` introduce en escena un nuevo tipo de objeto, `ndarray` (**n d**imensional **array**) caracterizado por:\n",
    "* Almacenamiento eficiente de colecciones de **datos del mismo tipo**\n",
    "* Conjunto de métodos que permiten operar de forma **vectorizada** sobre sus datos\n",
    "\n",
    "Las formas más habituales de crear un nuevo *array* son:\n",
    "\n",
    "* A partir de otras colecciones de datos de Python, como **listas** o **tuplas**\n",
    "* Desde cero mediante funciones específicas\n",
    "* Leyendo los datos de un fichero"
   ]
  },
  {
   "cell_type": "markdown",
   "metadata": {},
   "source": [
    "### A partir de listas"
   ]
  },
  {
   "cell_type": "markdown",
   "metadata": {},
   "source": [
    "Para ello, se dispone de la función `array()`:"
   ]
  },
  {
   "cell_type": "code",
   "execution_count": 2,
   "metadata": {},
   "outputs": [
    {
     "data": {
      "text/plain": [
       "array([1, 3, 5, 7, 9, 2, 4, 6, 8])"
      ]
     },
     "execution_count": 2,
     "metadata": {},
     "output_type": "execute_result"
    }
   ],
   "source": [
    "np.array([1, 3, 5, 7, 9, 2, 4, 6, 8])"
   ]
  },
  {
   "cell_type": "code",
   "execution_count": 3,
   "metadata": {},
   "outputs": [
    {
     "data": {
      "text/plain": [
       "array([[1, 3, 5],\n",
       "       [7, 9, 2],\n",
       "       [4, 6, 8]])"
      ]
     },
     "execution_count": 3,
     "metadata": {},
     "output_type": "execute_result"
    }
   ],
   "source": [
    "np.array([[1, 3, 5], [7, 9, 2], [4, 6, 8]])"
   ]
  },
  {
   "cell_type": "markdown",
   "metadata": {},
   "source": [
    "Si hay mezcla de tipos, se *promocionan* los tipos al de mayor rango si es legal."
   ]
  },
  {
   "cell_type": "code",
   "execution_count": 4,
   "metadata": {},
   "outputs": [
    {
     "data": {
      "text/plain": [
       "array([[1., 3., 5.],\n",
       "       [7., 9., 2.],\n",
       "       [4., 6., 8.]])"
      ]
     },
     "execution_count": 4,
     "metadata": {},
     "output_type": "execute_result"
    }
   ],
   "source": [
    "np.array([[1, 3, 5], [7., 9., 2.], [4, 6, 8]])"
   ]
  },
  {
   "cell_type": "code",
   "execution_count": 5,
   "metadata": {},
   "outputs": [
    {
     "data": {
      "text/plain": [
       "array([1, 2, 3, 4, 5, 6, 7, 8, 9])"
      ]
     },
     "execution_count": 5,
     "metadata": {},
     "output_type": "execute_result"
    }
   ],
   "source": [
    "np.array(range(1, 10))"
   ]
  },
  {
   "cell_type": "markdown",
   "metadata": {},
   "source": [
    "Podemos imponer el tipo de dato del *array* en un argumento opcional, mediante la palabra clave `dtype`:"
   ]
  },
  {
   "cell_type": "code",
   "execution_count": 6,
   "metadata": {},
   "outputs": [
    {
     "data": {
      "text/plain": [
       "array([  0.,   1.,   4.,   9.,  16.,  25.,  36.,  49.,  64.,  81., 100.,\n",
       "       121., 144., 169., 196., 225., 256., 289., 324., 361.])"
      ]
     },
     "execution_count": 6,
     "metadata": {},
     "output_type": "execute_result"
    }
   ],
   "source": [
    "np.array([x**2 for x in range(20)], dtype=float)"
   ]
  },
  {
   "cell_type": "markdown",
   "metadata": {},
   "source": [
    "### Desde cero a partir de funciones específicas"
   ]
  },
  {
   "cell_type": "markdown",
   "metadata": {},
   "source": [
    "Hay múltiples funciones que permiten inicializar *arrays* con valores predeterminados, evitando su introducción manual. Mostramos algunas de ellas."
   ]
  },
  {
   "cell_type": "markdown",
   "metadata": {},
   "source": [
    "#### `zeros()`: inicialización con todos los valores a `0`"
   ]
  },
  {
   "cell_type": "code",
   "execution_count": 7,
   "metadata": {},
   "outputs": [
    {
     "data": {
      "text/plain": [
       "array([0., 0., 0., 0., 0., 0., 0., 0., 0., 0.])"
      ]
     },
     "execution_count": 7,
     "metadata": {},
     "output_type": "execute_result"
    }
   ],
   "source": [
    "# El tipo de dato que genera zeros() es por defecto float. \n",
    "np.zeros(10)"
   ]
  },
  {
   "cell_type": "code",
   "execution_count": 8,
   "metadata": {},
   "outputs": [
    {
     "data": {
      "text/plain": [
       "array([[0, 0, 0],\n",
       "       [0, 0, 0]])"
      ]
     },
     "execution_count": 8,
     "metadata": {},
     "output_type": "execute_result"
    }
   ],
   "source": [
    "# Para arrays de dimensión 2 o superior, el argumento con las dimensiones del array son tuplas\n",
    "dimensiones = (2, 3)\n",
    "np.zeros(dimensiones, dtype=int)  # np.zeros((2,3), dtype=int)"
   ]
  },
  {
   "cell_type": "markdown",
   "metadata": {},
   "source": [
    "#### `ones()`: inicialización con todos los valores a `1`"
   ]
  },
  {
   "cell_type": "code",
   "execution_count": 9,
   "metadata": {},
   "outputs": [
    {
     "data": {
      "text/plain": [
       "array([1., 1., 1., 1., 1., 1., 1., 1., 1., 1.])"
      ]
     },
     "execution_count": 9,
     "metadata": {},
     "output_type": "execute_result"
    }
   ],
   "source": [
    "# El tipo de dato que genera ones() es por defecto `float`\n",
    "np.ones(10)"
   ]
  },
  {
   "cell_type": "code",
   "execution_count": 10,
   "metadata": {},
   "outputs": [
    {
     "data": {
      "text/plain": [
       "array([[1, 1, 1],\n",
       "       [1, 1, 1]])"
      ]
     },
     "execution_count": 10,
     "metadata": {},
     "output_type": "execute_result"
    }
   ],
   "source": [
    "# Para arrays de dimensión 2 o superior, el argumento con las dimensiones del array son tuplas\n",
    "np.ones((2,3), dtype=int)"
   ]
  },
  {
   "cell_type": "markdown",
   "metadata": {},
   "source": [
    "#### `full()`: inicialización con todos los valores a un valor predeterminado"
   ]
  },
  {
   "cell_type": "code",
   "execution_count": 11,
   "metadata": {},
   "outputs": [
    {
     "data": {
      "text/plain": [
       "array([3, 3, 3, 3, 3, 3, 3, 3, 3, 3])"
      ]
     },
     "execution_count": 11,
     "metadata": {},
     "output_type": "execute_result"
    }
   ],
   "source": [
    "# El tipo de dato coincide con el del dato de inicialización \n",
    "np.full(10, 3)"
   ]
  },
  {
   "cell_type": "markdown",
   "metadata": {},
   "source": [
    "#### `arange()`: emula la función intrínseca de Python `range()`"
   ]
  },
  {
   "cell_type": "code",
   "execution_count": 12,
   "metadata": {},
   "outputs": [
    {
     "data": {
      "text/plain": [
       "array([0, 1, 2, 3, 4, 5, 6, 7, 8, 9])"
      ]
     },
     "execution_count": 12,
     "metadata": {},
     "output_type": "execute_result"
    }
   ],
   "source": [
    "# Secuencia lineal que empieza en 0 y acaba antes de 10. El incremento por defecto es 1.\n",
    "np.arange(10)"
   ]
  },
  {
   "cell_type": "code",
   "execution_count": 13,
   "metadata": {},
   "outputs": [
    {
     "data": {
      "text/plain": [
       "array([ 0. ,  2.5,  5. ,  7.5, 10. , 12.5, 15. , 17.5, 20. , 22.5, 25. ,\n",
       "       27.5, 30. , 32.5, 35. , 37.5, 40. , 42.5, 45. , 47.5, 50. , 52.5,\n",
       "       55. , 57.5, 60. , 62.5, 65. , 67.5, 70. , 72.5, 75. , 77.5, 80. ,\n",
       "       82.5, 85. , 87.5, 90. , 92.5, 95. , 97.5])"
      ]
     },
     "execution_count": 13,
     "metadata": {},
     "output_type": "execute_result"
    }
   ],
   "source": [
    "# Secuencia lineal que empieza en 0., acaba antes de 100., con pasos de 2.5 en 2.5\n",
    "np.arange(0., 100., 2.5)"
   ]
  },
  {
   "cell_type": "markdown",
   "metadata": {},
   "source": [
    "#### `linespace()`: creando una secuencia de valores equidistantes entre dos valores límite"
   ]
  },
  {
   "cell_type": "code",
   "execution_count": 14,
   "metadata": {},
   "outputs": [
    {
     "data": {
      "text/plain": [
       "array([0.  , 0.25, 0.5 , 0.75, 1.  , 1.25, 1.5 , 1.75, 2.  ])"
      ]
     },
     "execution_count": 14,
     "metadata": {},
     "output_type": "execute_result"
    }
   ],
   "source": [
    "# Secuencia lineal con 9 valores equidistantes, que empieza en 0 y acaba en 2\n",
    "np.linspace(0, 2, 9)"
   ]
  },
  {
   "cell_type": "markdown",
   "metadata": {},
   "source": [
    "#### `diag()`: crea una matriz unitaria cuadrada"
   ]
  },
  {
   "cell_type": "code",
   "execution_count": 15,
   "metadata": {},
   "outputs": [
    {
     "data": {
      "text/plain": [
       "array([[3, 0, 0, 0],\n",
       "       [0, 5, 0, 0],\n",
       "       [0, 0, 7, 0],\n",
       "       [0, 0, 0, 9]])"
      ]
     },
     "execution_count": 15,
     "metadata": {},
     "output_type": "execute_result"
    }
   ],
   "source": [
    "# El tamaño de la matriz coincide con el de la lista o ndarray \n",
    "np.diag([3, 5, 7, 9])"
   ]
  },
  {
   "cell_type": "code",
   "execution_count": 16,
   "metadata": {},
   "outputs": [
    {
     "data": {
      "text/plain": [
       "array([[1., 0., 0., 0., 0.],\n",
       "       [0., 1., 0., 0., 0.],\n",
       "       [0., 0., 1., 0., 0.],\n",
       "       [0., 0., 0., 1., 0.],\n",
       "       [0., 0., 0., 0., 1.]])"
      ]
     },
     "execution_count": 16,
     "metadata": {},
     "output_type": "execute_result"
    }
   ],
   "source": [
    "# El tamaño de la matriz coincide con el de la lista o ndarray\n",
    "np.diag(np.ones(5))"
   ]
  },
  {
   "cell_type": "markdown",
   "metadata": {},
   "source": [
    "#### `random.random()`: inicialización de valores aleatorios distribuidos uniformemente"
   ]
  },
  {
   "cell_type": "code",
   "execution_count": 17,
   "metadata": {},
   "outputs": [
    {
     "data": {
      "text/plain": [
       "array([[0.39909171, 0.43357379, 0.72510549],\n",
       "       [0.40712008, 0.35586531, 0.48816719]])"
      ]
     },
     "execution_count": 17,
     "metadata": {},
     "output_type": "execute_result"
    }
   ],
   "source": [
    "# Matriz de dimensiones (2,3) con valores aleatorios uniformes en el intervalo semiabierto [0,1)\n",
    "np.random.random((2, 3))"
   ]
  },
  {
   "cell_type": "markdown",
   "metadata": {},
   "source": [
    "Para obtener una distribución uniforme en el intervalo semiabierto $[a,b)$, con $b>a$ basta con premultiplicar por $b-a$ y al resultado sumarle $a$."
   ]
  },
  {
   "cell_type": "code",
   "execution_count": 18,
   "metadata": {},
   "outputs": [
    {
     "data": {
      "text/plain": [
       "array([[ 0.88770802,  0.40105248, -1.46007321],\n",
       "       [-0.47981403,  0.83682638, -0.57294427]])"
      ]
     },
     "execution_count": 18,
     "metadata": {},
     "output_type": "execute_result"
    }
   ],
   "source": [
    "# Matriz de dimensiones (2,3) con valores aleatorios uniformes en el intervalo semiabierto [-2,2)\n",
    "4*np.random.random((2, 3)) - 2"
   ]
  },
  {
   "cell_type": "markdown",
   "metadata": {},
   "source": [
    "#### `random.normal()`: inicialización de valores aleatorios con una distribución normal"
   ]
  },
  {
   "cell_type": "code",
   "execution_count": 19,
   "metadata": {},
   "outputs": [
    {
     "data": {
      "text/plain": [
       "array([-0.03381187, -0.50164479,  1.75857093, -1.17507544, -1.323025  ,\n",
       "       -1.07937684,  0.57349242, -0.11576903,  1.767945  ,  0.93181993])"
      ]
     },
     "execution_count": 19,
     "metadata": {},
     "output_type": "execute_result"
    }
   ],
   "source": [
    "# Vector de dimensión 10 con valores aleatorios con distribución normal de media 0 y desviación estándar 1\n",
    "np.random.normal(0, 1, 10)"
   ]
  },
  {
   "cell_type": "markdown",
   "metadata": {},
   "source": [
    "#### `random.randint()`: inicialización de valores aleatorios enteros pertenecientes a un rango de valores"
   ]
  },
  {
   "cell_type": "code",
   "execution_count": 20,
   "metadata": {},
   "outputs": [
    {
     "data": {
      "text/plain": [
       "array([[ 1, -5,  6, -1,  0],\n",
       "       [ 0,  7,  7,  2,  1],\n",
       "       [-1, -7, -5, -1, -8],\n",
       "       [-1,  9, -7, -4, -4],\n",
       "       [ 5, -9, -3, -7,  1]])"
      ]
     },
     "execution_count": 20,
     "metadata": {},
     "output_type": "execute_result"
    }
   ],
   "source": [
    "# Matriz 5x5 de enteros aleatorios en el intervalo abierto [-9, 10)\n",
    "np.random.randint(-9, 10, (5, 5))"
   ]
  },
  {
   "cell_type": "markdown",
   "metadata": {},
   "source": [
    "Como ejemplo de la ingente cantidad de funciones de **Numpy**, echad un ojo al enlace [**Numpy random** reference](https://numpy.org/doc/stable/reference/random/index.html), que muestra la variedad de herramientas para trabajar con números aleatorios."
   ]
  },
  {
   "cell_type": "markdown",
   "metadata": {},
   "source": [
    "### Desde un fichero"
   ]
  },
  {
   "cell_type": "markdown",
   "metadata": {},
   "source": [
    "El fichero *ejemplo_con_espacios_en_blanco.dat* tiene un conjunto de datos separados por espacios en blanco.\n",
    "```\n",
    "1 2   3\n",
    "4  5 6\n",
    "7 8   9\n",
    "   10 11 12\n",
    "\n",
    "```\n",
    "La función `loadtxt()` es capaz de leerlo de forma inmediata, siendo el tipo de dato por defecto `float`."
   ]
  },
  {
   "cell_type": "code",
   "execution_count": 21,
   "metadata": {},
   "outputs": [
    {
     "data": {
      "text/plain": [
       "array([[ 1.,  2.,  3.],\n",
       "       [ 4.,  5.,  6.],\n",
       "       [ 7.,  8.,  9.],\n",
       "       [10., 11., 12.]])"
      ]
     },
     "execution_count": 21,
     "metadata": {},
     "output_type": "execute_result"
    }
   ],
   "source": [
    "np.loadtxt('data/ejemplo_con_espacios_en_blanco.dat')"
   ]
  },
  {
   "cell_type": "code",
   "execution_count": 22,
   "metadata": {},
   "outputs": [
    {
     "data": {
      "text/plain": [
       "array([[ 1,  2,  3],\n",
       "       [ 4,  5,  6],\n",
       "       [ 7,  8,  9],\n",
       "       [10, 11, 12]])"
      ]
     },
     "execution_count": 22,
     "metadata": {},
     "output_type": "execute_result"
    }
   ],
   "source": [
    "# Leyendo como tipo int\n",
    "np.loadtxt('data/ejemplo_con_espacios_en_blanco.dat', dtype=int)"
   ]
  },
  {
   "cell_type": "markdown",
   "metadata": {},
   "source": [
    "Si el fichero tiene sus datos separados por un delimitador homogéneo, como la `,` en los ficheros **.csv**, (**c**omma **s**eparated **v**alues), el uso del parámetro opcional `delimiter` filtra ese carácter.\n",
    "Es el caso del fichero *ejemplo_csv.dat*\n",
    "```\n",
    "1,2,3\n",
    "4,  5, 6\n",
    "7 ,8 ,  9\n",
    "   10, 11, 12\n",
    "```\n",
    "La función `loadtxt()` es capaz de leerlo de forma inmediata, siendo el tipo de dato por defecto `float`.\n",
    "Nótese en ambos ejemplos la deliberada introducción de espacios en blanco innecesarios."
   ]
  },
  {
   "cell_type": "code",
   "execution_count": 23,
   "metadata": {},
   "outputs": [
    {
     "data": {
      "text/plain": [
       "array([[ 1,  2,  3],\n",
       "       [ 4,  5,  6],\n",
       "       [ 7,  8,  9],\n",
       "       [10, 11, 12]])"
      ]
     },
     "execution_count": 23,
     "metadata": {},
     "output_type": "execute_result"
    }
   ],
   "source": [
    "np.loadtxt('data/ejemplo_csv.dat', dtype=int, delimiter=',')"
   ]
  },
  {
   "cell_type": "markdown",
   "metadata": {},
   "source": [
    "De nuevo, las posibilidades de lectura de un fichero que ofrece **Numpy** es enorme.\n",
    "Imaginemos un tipo de fichero, *ejemplo_lectura_parcial.dat* del que sabemos que las dos primeras filas describen el archivo y no estamos interesados en ellas.\n",
    "\n",
    "```Descripcion del fichero\n",
    "Solo queremos leer la segunda columna\n",
    "1 3.123 23\n",
    "2 4.53 12\n",
    "3 6.71 17\n",
    "4 9.3 15\n",
    "5 2.731 9\n",
    "6 29.14 106\n",
    "```\n",
    "\n",
    "El parámetro opcional `skiprows` nos permite hacerlo fácilmente.\n",
    "\n",
    "Además, de entre los datos útiles solo estamos interesados en las columnas 1 y 2. Con el parámetro opcional `usecols` podemos seleccionar las columnas."
   ]
  },
  {
   "cell_type": "code",
   "execution_count": 24,
   "metadata": {},
   "outputs": [
    {
     "name": "stdout",
     "output_type": "stream",
     "text": [
      "[[  3.123  23.   ]\n",
      " [  4.53   12.   ]\n",
      " [  6.71   17.   ]\n",
      " [  9.3    15.   ]\n",
      " [  2.731   9.   ]\n",
      " [ 29.14  106.   ]]\n"
     ]
    }
   ],
   "source": [
    "M = np.loadtxt('data/ejemplo_lectura_parcial.dat', skiprows=2, usecols=(1, 2))\n",
    "print(M)"
   ]
  },
  {
   "cell_type": "markdown",
   "metadata": {},
   "source": [
    "Volvemos a insistir que la manera de proceder para aprender a trabajar con este y otros módulos no es memorizar comandos, sino consultar el manual de referencia correspondiente y sondear todas las posibilidades que una determinada herramienta ofrece. Para el caso de la función `loadtxt()`, [numpy.loadtxt reference](https://numpy.org/doc/stable/reference/generated/numpy.loadtxt.html).\n",
    "\n",
    "Como el alumno podrá imaginar, existe una función *hermana* de `loadtxt()`."
   ]
  },
  {
   "cell_type": "code",
   "execution_count": 25,
   "metadata": {},
   "outputs": [
    {
     "data": {
      "text/plain": [
       "array([[  3.12,  23.  ],\n",
       "       [  4.53,  12.  ],\n",
       "       [  6.71,  17.  ],\n",
       "       [  9.3 ,  15.  ],\n",
       "       [  2.73,   9.  ],\n",
       "       [ 29.14, 106.  ]])"
      ]
     },
     "execution_count": 25,
     "metadata": {},
     "output_type": "execute_result"
    }
   ],
   "source": [
    "# Salvar en el archivo data/prueba.dat la matriz m generada en la celda anterior en formato csv\n",
    "# con un formato de solo dos cifras decimales para la primera columna y enteros para la segunda\n",
    "\n",
    "np.savetxt('data/prueba.dat', M, delimiter=',', fmt=['%.2f', '%d'])\n",
    "np.loadtxt('data/prueba.dat', delimiter=',')"
   ]
  },
  {
   "cell_type": "markdown",
   "metadata": {},
   "source": [
    "**Numpy** maneja su propio formato nativo de ficheros a través de las funciones `save()` y `load()`. El almacenamiento es de tipo binario y, por tanto, no son legibles. En ausencia de extensión, se añade la terminación `.npy`. Es la mejor alternativa de lectura/escritura por su eficiencia y comodidad si nos vamos a mover dentro del *universo* **Numpy**."
   ]
  },
  {
   "cell_type": "code",
   "execution_count": 26,
   "metadata": {},
   "outputs": [
    {
     "data": {
      "text/plain": [
       "array([[  3.123,  23.   ],\n",
       "       [  4.53 ,  12.   ],\n",
       "       [  6.71 ,  17.   ],\n",
       "       [  9.3  ,  15.   ],\n",
       "       [  2.731,   9.   ],\n",
       "       [ 29.14 , 106.   ]])"
      ]
     },
     "execution_count": 26,
     "metadata": {},
     "output_type": "execute_result"
    }
   ],
   "source": [
    "np.save('data/fichero_numpy', M)\n",
    "np.load('data/fichero_numpy.npy')"
   ]
  },
  {
   "cell_type": "markdown",
   "metadata": {},
   "source": [
    "***\n",
    "<a id='Atributos_arrays'></a>"
   ]
  },
  {
   "cell_type": "markdown",
   "metadata": {},
   "source": [
    "## Atributos de los arrays"
   ]
  },
  {
   "cell_type": "markdown",
   "metadata": {},
   "source": [
    "Las dimensiones de un array se pueden obtener con el atributo `shape`, que devuelve una tupla."
   ]
  },
  {
   "cell_type": "code",
   "execution_count": 27,
   "metadata": {},
   "outputs": [
    {
     "data": {
      "text/plain": [
       "(2, 3)"
      ]
     },
     "execution_count": 27,
     "metadata": {},
     "output_type": "execute_result"
    }
   ],
   "source": [
    "M = np.ones((2, 3), dtype=float)\n",
    "M.shape"
   ]
  },
  {
   "cell_type": "markdown",
   "metadata": {},
   "source": [
    "El número de elementos mediante el atributo `size`:"
   ]
  },
  {
   "cell_type": "code",
   "execution_count": 28,
   "metadata": {},
   "outputs": [
    {
     "data": {
      "text/plain": [
       "6"
      ]
     },
     "execution_count": 28,
     "metadata": {},
     "output_type": "execute_result"
    }
   ],
   "source": [
    "M.size"
   ]
  },
  {
   "cell_type": "markdown",
   "metadata": {},
   "source": [
    "El número de dimensiones mediante el atributo `ndim`:"
   ]
  },
  {
   "cell_type": "code",
   "execution_count": 29,
   "metadata": {},
   "outputs": [
    {
     "data": {
      "text/plain": [
       "2"
      ]
     },
     "execution_count": 29,
     "metadata": {},
     "output_type": "execute_result"
    }
   ],
   "source": [
    "M.ndim"
   ]
  },
  {
   "cell_type": "markdown",
   "metadata": {},
   "source": [
    "Se puede obtener también consultando la longitud de la tupla `shape`."
   ]
  },
  {
   "cell_type": "code",
   "execution_count": 30,
   "metadata": {},
   "outputs": [
    {
     "data": {
      "text/plain": [
       "2"
      ]
     },
     "execution_count": 30,
     "metadata": {},
     "output_type": "execute_result"
    }
   ],
   "source": [
    "len(M.shape)"
   ]
  },
  {
   "cell_type": "markdown",
   "metadata": {},
   "source": [
    "***\n",
    "<a id='Manipulando_arrays'></a>"
   ]
  },
  {
   "cell_type": "markdown",
   "metadata": {},
   "source": [
    "## Manipulando arrays"
   ]
  },
  {
   "cell_type": "markdown",
   "metadata": {},
   "source": [
    "### Indexado"
   ]
  },
  {
   "cell_type": "markdown",
   "metadata": {},
   "source": [
    "Para arrays unidimensionales, se hace de forma equivalente a las listas:"
   ]
  },
  {
   "cell_type": "code",
   "execution_count": 31,
   "metadata": {},
   "outputs": [
    {
     "name": "stdout",
     "output_type": "stream",
     "text": [
      "[-2  4 -5  3 -6]\n"
     ]
    },
    {
     "data": {
      "text/plain": [
       "-2"
      ]
     },
     "execution_count": 31,
     "metadata": {},
     "output_type": "execute_result"
    }
   ],
   "source": [
    "v = np.random.randint(-9, 10, 5)\n",
    "print(v)\n",
    "v[0]"
   ]
  },
  {
   "cell_type": "markdown",
   "metadata": {},
   "source": [
    "Para arrays multidimensionales, accedemos individualmente a los elementos separando los índices por comas:"
   ]
  },
  {
   "cell_type": "code",
   "execution_count": 32,
   "metadata": {},
   "outputs": [
    {
     "name": "stdout",
     "output_type": "stream",
     "text": [
      "[[ 3 -5  1]\n",
      " [ 5  1  9]\n",
      " [ 6 -4  5]\n",
      " [-1  8  6]\n",
      " [ 1  7 -9]]\n"
     ]
    },
    {
     "data": {
      "text/plain": [
       "9"
      ]
     },
     "execution_count": 32,
     "metadata": {},
     "output_type": "execute_result"
    }
   ],
   "source": [
    "M = np.random.randint(-9, 10, (5, 3))\n",
    "print(M)\n",
    "M[1, 2]"
   ]
  },
  {
   "cell_type": "markdown",
   "metadata": {},
   "source": [
    "Es relevante indicar que el tipo de los escalares indexados corresponde al mismo tipo del que tiene el array. En general, la mezcla de tipos no generá ningún problema, promocionándose en todo caso al de mayor rango."
   ]
  },
  {
   "cell_type": "code",
   "execution_count": 17,
   "metadata": {},
   "outputs": [
    {
     "name": "stdout",
     "output_type": "stream",
     "text": [
      "x = 4, que es de tipo <class 'numpy.uint8'>\n",
      "y = 8, que es de tipo <class 'int'>\n",
      "z = 32, que es de tipo <class 'numpy.int32'>\n",
      "w = 32, que es de tipo <class 'int'>\n"
     ]
    }
   ],
   "source": [
    "v = np.array([4, 3, 5, 7], dtype='uint8')\n",
    "x = v[0]\n",
    "y = 8  # Tipo nativo Python int\n",
    "z = x*y\n",
    "w = int(z)  # Podemos convertir el tipo a uno nativo de Python\n",
    "\n",
    "print('x = {}, que es de tipo {}'.format(x, type(x)))\n",
    "print('y = {}, que es de tipo {}'.format(y, type(y)))\n",
    "print('z = {}, que es de tipo {}'.format(z, type(z)))\n",
    "print('w = {}, que es de tipo {}'.format(w, type(w)))"
   ]
  },
  {
   "cell_type": "markdown",
   "metadata": {},
   "source": [
    "Si queremos acceder, por ejemplo, a toda una fila de una matriz de dos dimensiones, indicamos simplemente el índice de la fila:"
   ]
  },
  {
   "cell_type": "code",
   "execution_count": 33,
   "metadata": {},
   "outputs": [
    {
     "data": {
      "text/plain": [
       "array([5, 1, 9])"
      ]
     },
     "execution_count": 33,
     "metadata": {},
     "output_type": "execute_result"
    }
   ],
   "source": [
    "M[1]"
   ]
  },
  {
   "cell_type": "markdown",
   "metadata": {},
   "source": [
    "Lo mismo se puede conseguir usando la notación `:`:"
   ]
  },
  {
   "cell_type": "code",
   "execution_count": 34,
   "metadata": {},
   "outputs": [
    {
     "data": {
      "text/plain": [
       "array([ 6, -4,  5])"
      ]
     },
     "execution_count": 34,
     "metadata": {},
     "output_type": "execute_result"
    }
   ],
   "source": [
    "M[2, :]  # fila 2"
   ]
  },
  {
   "cell_type": "markdown",
   "metadata": {},
   "source": [
    "Esto nos permite de una forma práctica acceder a toda una columna:"
   ]
  },
  {
   "cell_type": "code",
   "execution_count": 35,
   "metadata": {},
   "outputs": [
    {
     "data": {
      "text/plain": [
       "array([-5,  1, -4,  8,  7])"
      ]
     },
     "execution_count": 35,
     "metadata": {},
     "output_type": "execute_result"
    }
   ],
   "source": [
    "M[:, 1]  # columna 1"
   ]
  },
  {
   "cell_type": "markdown",
   "metadata": {},
   "source": [
    "Las asignaciones a elementos individuales siguen las pautas normales:"
   ]
  },
  {
   "cell_type": "code",
   "execution_count": 36,
   "metadata": {},
   "outputs": [],
   "source": [
    "M[1, 2] = 1000"
   ]
  },
  {
   "cell_type": "code",
   "execution_count": 37,
   "metadata": {},
   "outputs": [
    {
     "data": {
      "text/plain": [
       "array([[   3,   -5,    1],\n",
       "       [   5,    1, 1000],\n",
       "       [   6,   -4,    5],\n",
       "       [  -1,    8,    6],\n",
       "       [   1,    7,   -9]])"
      ]
     },
     "execution_count": 37,
     "metadata": {},
     "output_type": "execute_result"
    }
   ],
   "source": [
    "M"
   ]
  },
  {
   "cell_type": "markdown",
   "metadata": {},
   "source": [
    "También podemos asignar un valor a todos los elementos de una fila o columna:"
   ]
  },
  {
   "cell_type": "code",
   "execution_count": 38,
   "metadata": {},
   "outputs": [],
   "source": [
    "M[2, :] = 10000\n",
    "M[:, 1] = -300"
   ]
  },
  {
   "cell_type": "code",
   "execution_count": 39,
   "metadata": {},
   "outputs": [
    {
     "data": {
      "text/plain": [
       "array([[    3,  -300,     1],\n",
       "       [    5,  -300,  1000],\n",
       "       [10000,  -300, 10000],\n",
       "       [   -1,  -300,     6],\n",
       "       [    1,  -300,    -9]])"
      ]
     },
     "execution_count": 39,
     "metadata": {},
     "output_type": "execute_result"
    }
   ],
   "source": [
    "M"
   ]
  },
  {
   "cell_type": "markdown",
   "metadata": {},
   "source": [
    "***\n",
    "<a id='Algebra_lineal'></a>"
   ]
  },
  {
   "cell_type": "markdown",
   "metadata": {},
   "source": [
    "## Álgebra lineal"
   ]
  },
  {
   "cell_type": "markdown",
   "metadata": {},
   "source": [
    "El paquete **NumPy** permite invocar multitud de métodos de forma **vectorizada**, es decir, pasando como argumento directamente la variable que representa a la matriz."
   ]
  },
  {
   "cell_type": "markdown",
   "metadata": {},
   "source": [
    "### Operaciones de tipo escalar"
   ]
  },
  {
   "cell_type": "markdown",
   "metadata": {},
   "source": [
    "Veamos algunos ejemplos:"
   ]
  },
  {
   "cell_type": "code",
   "execution_count": 40,
   "metadata": {},
   "outputs": [],
   "source": [
    "v = np.arange(0, 10)"
   ]
  },
  {
   "cell_type": "code",
   "execution_count": 41,
   "metadata": {},
   "outputs": [
    {
     "data": {
      "text/plain": [
       "array([ 0,  2,  4,  6,  8, 10, 12, 14, 16, 18])"
      ]
     },
     "execution_count": 41,
     "metadata": {},
     "output_type": "execute_result"
    }
   ],
   "source": [
    "2*v"
   ]
  },
  {
   "cell_type": "code",
   "execution_count": 42,
   "metadata": {},
   "outputs": [
    {
     "data": {
      "text/plain": [
       "array([ 3,  4,  5,  6,  7,  8,  9, 10, 11, 12])"
      ]
     },
     "execution_count": 42,
     "metadata": {},
     "output_type": "execute_result"
    }
   ],
   "source": [
    "v + 3"
   ]
  },
  {
   "cell_type": "code",
   "execution_count": 43,
   "metadata": {},
   "outputs": [],
   "source": [
    "M = np.ones((3, 5))"
   ]
  },
  {
   "cell_type": "code",
   "execution_count": 44,
   "metadata": {},
   "outputs": [
    {
     "data": {
      "text/plain": [
       "array([[2., 2., 2., 2., 2.],\n",
       "       [2., 2., 2., 2., 2.],\n",
       "       [2., 2., 2., 2., 2.]])"
      ]
     },
     "execution_count": 44,
     "metadata": {},
     "output_type": "execute_result"
    }
   ],
   "source": [
    "2*M"
   ]
  },
  {
   "cell_type": "code",
   "execution_count": 45,
   "metadata": {},
   "outputs": [
    {
     "data": {
      "text/plain": [
       "array([[0., 0., 0., 0., 0.],\n",
       "       [0., 0., 0., 0., 0.],\n",
       "       [0., 0., 0., 0., 0.]])"
      ]
     },
     "execution_count": 45,
     "metadata": {},
     "output_type": "execute_result"
    }
   ],
   "source": [
    "M - 1"
   ]
  },
  {
   "cell_type": "markdown",
   "metadata": {},
   "source": [
    "### Operaciones entre elementos correlativos\n",
    "Las operaciones aritméticas operan entre elementos correlativos"
   ]
  },
  {
   "cell_type": "code",
   "execution_count": 46,
   "metadata": {},
   "outputs": [
    {
     "data": {
      "text/plain": [
       "array([[2., 3., 4.],\n",
       "       [5., 6., 7.]])"
      ]
     },
     "execution_count": 46,
     "metadata": {},
     "output_type": "execute_result"
    }
   ],
   "source": [
    "M = np.array([[1, 2, 3], [4, 5, 6]])\n",
    "N = np.ones((2,3))\n",
    "M+N"
   ]
  },
  {
   "cell_type": "code",
   "execution_count": 47,
   "metadata": {},
   "outputs": [
    {
     "data": {
      "text/plain": [
       "array([[ 1,  4,  9],\n",
       "       [16, 25, 36]])"
      ]
     },
     "execution_count": 47,
     "metadata": {},
     "output_type": "execute_result"
    }
   ],
   "source": [
    "M*M"
   ]
  },
  {
   "cell_type": "code",
   "execution_count": 48,
   "metadata": {},
   "outputs": [
    {
     "data": {
      "text/plain": [
       "array([0, 1, 4])"
      ]
     },
     "execution_count": 48,
     "metadata": {},
     "output_type": "execute_result"
    }
   ],
   "source": [
    "v = np.arange(0, 3)\n",
    "v*v"
   ]
  },
  {
   "cell_type": "markdown",
   "metadata": {},
   "source": [
    "### Operaciones con matrices\n",
    "Lógicamente, las dimensiones de las matrices involucradas deben ser compatibles."
   ]
  },
  {
   "cell_type": "markdown",
   "metadata": {},
   "source": [
    "#### Multiplicación\n",
    "Usando la función `dot`:"
   ]
  },
  {
   "cell_type": "code",
   "execution_count": 49,
   "metadata": {},
   "outputs": [
    {
     "data": {
      "text/plain": [
       "((2, 3), (3, 2))"
      ]
     },
     "execution_count": 49,
     "metadata": {},
     "output_type": "execute_result"
    }
   ],
   "source": [
    "M = np.array([[1, 2, 3], [4, 5, 6]])\n",
    "N = np.array([[1, 2], [3, 4], [5, 6]])\n",
    "M.shape, N.shape"
   ]
  },
  {
   "cell_type": "code",
   "execution_count": 50,
   "metadata": {},
   "outputs": [
    {
     "data": {
      "text/plain": [
       "array([[22, 28],\n",
       "       [49, 64]])"
      ]
     },
     "execution_count": 50,
     "metadata": {},
     "output_type": "execute_result"
    }
   ],
   "source": [
    "np.dot(M, N)"
   ]
  },
  {
   "cell_type": "code",
   "execution_count": 51,
   "metadata": {},
   "outputs": [
    {
     "data": {
      "text/plain": [
       "((2, 3), (3,))"
      ]
     },
     "execution_count": 51,
     "metadata": {},
     "output_type": "execute_result"
    }
   ],
   "source": [
    "v = np.arange(0, 3)\n",
    "M.shape, v.shape"
   ]
  },
  {
   "cell_type": "code",
   "execution_count": 52,
   "metadata": {},
   "outputs": [
    {
     "data": {
      "text/plain": [
       "array([ 8, 17])"
      ]
     },
     "execution_count": 52,
     "metadata": {},
     "output_type": "execute_result"
    }
   ],
   "source": [
    "np.dot(M, v)"
   ]
  },
  {
   "cell_type": "markdown",
   "metadata": {},
   "source": [
    "#### El producto escalar"
   ]
  },
  {
   "cell_type": "code",
   "execution_count": 53,
   "metadata": {},
   "outputs": [
    {
     "data": {
      "text/plain": [
       "5"
      ]
     },
     "execution_count": 53,
     "metadata": {},
     "output_type": "execute_result"
    }
   ],
   "source": [
    "np.dot(v, v)  # producto escalar"
   ]
  },
  {
   "cell_type": "markdown",
   "metadata": {},
   "source": [
    "Hacemos aquí un breve inciso para recordar las grandes ventajas que aportan las funciones, encapsulando el código y proporcionando abstracción."
   ]
  },
  {
   "cell_type": "code",
   "execution_count": 54,
   "metadata": {},
   "outputs": [
    {
     "name": "stdout",
     "output_type": "stream",
     "text": [
      "32\n",
      "32\n",
      "32\n",
      "32\n"
     ]
    }
   ],
   "source": [
    "v1 = np.array([1, 2, 3])\n",
    "v2 = np.array([4, 5, 6])\n",
    "\n",
    "prod_esc = np.dot(v1, v2)  # producto escalar\n",
    "print(prod_esc)\n",
    "\n",
    "# Fijaos que dot() es una forma compacta de la siguiente\n",
    "prod_esc = np.sum(v1*v2)  #np.sum es el sumatorio de los elementos de un vector\n",
    "print(prod_esc)\n",
    "\n",
    "# Esta última a su vez es una forma compacta de la siguiente\n",
    "prod_esc = 0\n",
    "for x, y  in zip(v1, v2):\n",
    "    prod_esc += x*y\n",
    "print(prod_esc)\n",
    "\n",
    "# Y esta última a su vez es una forma compacta de la siguiente\n",
    "prod_esc = 0\n",
    "for i in range(len(v1)):\n",
    "    prod_esc += v1[i]*v2[i]\n",
    "print(prod_esc)"
   ]
  },
  {
   "cell_type": "markdown",
   "metadata": {},
   "source": [
    "#### El producto vectorial\n",
    "La función `cross()` está definida pensando en el espacio tridimensional de los reales. Por tanto, se espera vectores de dimensión 2 y/o 3. Si la dimensión de alguno de los vectores es 2, se interpreta que la coordenada $z$ es nula."
   ]
  },
  {
   "cell_type": "code",
   "execution_count": 55,
   "metadata": {},
   "outputs": [
    {
     "name": "stdout",
     "output_type": "stream",
     "text": [
      "[0 0 1]\n"
     ]
    }
   ],
   "source": [
    "u_x = np.array([1, 0, 0])  # Vector unitario eje X\n",
    "u_y = np.array([0, 1, 0])  # Vector unitario eje Y\n",
    "u_z = np.cross(u_x, u_y)\n",
    "print(u_z)"
   ]
  },
  {
   "cell_type": "markdown",
   "metadata": {},
   "source": [
    "### Transformaciones\n",
    "#### Transpuesta"
   ]
  },
  {
   "cell_type": "markdown",
   "metadata": {},
   "source": [
    "Mediante `.T` o la función `transpose` podemos obtener la transpuesta."
   ]
  },
  {
   "cell_type": "code",
   "execution_count": 56,
   "metadata": {},
   "outputs": [
    {
     "data": {
      "text/plain": [
       "array([[1, 4],\n",
       "       [2, 5],\n",
       "       [3, 6]])"
      ]
     },
     "execution_count": 56,
     "metadata": {},
     "output_type": "execute_result"
    }
   ],
   "source": [
    "M = np.array([[1, 2, 3], [4, 5, 6]])\n",
    "M.T"
   ]
  },
  {
   "cell_type": "code",
   "execution_count": 57,
   "metadata": {},
   "outputs": [
    {
     "data": {
      "text/plain": [
       "array([[1, 4],\n",
       "       [2, 5],\n",
       "       [3, 6]])"
      ]
     },
     "execution_count": 57,
     "metadata": {},
     "output_type": "execute_result"
    }
   ],
   "source": [
    "np.transpose(M)"
   ]
  },
  {
   "cell_type": "markdown",
   "metadata": {},
   "source": [
    "#### Inversa\n",
    "Debemos invocar al módulo de álgebra lineal `linalg`."
   ]
  },
  {
   "cell_type": "code",
   "execution_count": 58,
   "metadata": {},
   "outputs": [
    {
     "name": "stdout",
     "output_type": "stream",
     "text": [
      "[[-0.66666667 -1.33333333  1.        ]\n",
      " [-0.66666667  3.66666667 -2.        ]\n",
      " [ 1.         -2.          1.        ]]\n"
     ]
    }
   ],
   "source": [
    "M = np.array([[1, 2, 3], [4, 5, 6], [7, 8, 10]])\n",
    "N = np.linalg.inv(M) # equivalent to C.I \n",
    "print(N)"
   ]
  },
  {
   "cell_type": "code",
   "execution_count": 59,
   "metadata": {},
   "outputs": [
    {
     "data": {
      "text/plain": [
       "array([[ 1.00000000e+00, -4.44089210e-16, -1.11022302e-16],\n",
       "       [ 4.44089210e-16,  1.00000000e+00, -2.22044605e-16],\n",
       "       [ 4.44089210e-16,  8.88178420e-16,  1.00000000e+00]])"
      ]
     },
     "execution_count": 59,
     "metadata": {},
     "output_type": "execute_result"
    }
   ],
   "source": [
    "np.dot(M, N)"
   ]
  },
  {
   "cell_type": "markdown",
   "metadata": {},
   "source": [
    "#### Determinante"
   ]
  },
  {
   "cell_type": "code",
   "execution_count": 60,
   "metadata": {},
   "outputs": [
    {
     "data": {
      "text/plain": [
       "-3.000000000000001"
      ]
     },
     "execution_count": 60,
     "metadata": {},
     "output_type": "execute_result"
    }
   ],
   "source": [
    "np.linalg.det(M)"
   ]
  },
  {
   "cell_type": "markdown",
   "metadata": {},
   "source": [
    "### Propiedades de la matriz"
   ]
  },
  {
   "cell_type": "markdown",
   "metadata": {},
   "source": [
    "#### Media"
   ]
  },
  {
   "cell_type": "code",
   "execution_count": 61,
   "metadata": {},
   "outputs": [
    {
     "data": {
      "text/plain": [
       "5.0"
      ]
     },
     "execution_count": 61,
     "metadata": {},
     "output_type": "execute_result"
    }
   ],
   "source": [
    "M = np.array([[1, 2, 3], [4, 5, 6], [7, 8, 9]])\n",
    "np.mean(M)  # Media de todos los valores de la matriz"
   ]
  },
  {
   "cell_type": "code",
   "execution_count": 62,
   "metadata": {},
   "outputs": [
    {
     "data": {
      "text/plain": [
       "6.0"
      ]
     },
     "execution_count": 62,
     "metadata": {},
     "output_type": "execute_result"
    }
   ],
   "source": [
    "np.mean(M[:, 2])  # Media de la columna 2"
   ]
  },
  {
   "cell_type": "code",
   "execution_count": 63,
   "metadata": {},
   "outputs": [
    {
     "data": {
      "text/plain": [
       "2.0"
      ]
     },
     "execution_count": 63,
     "metadata": {},
     "output_type": "execute_result"
    }
   ],
   "source": [
    "np.mean(M[0, :])  # Media de la fila 0"
   ]
  },
  {
   "cell_type": "markdown",
   "metadata": {},
   "source": [
    "#### Desviación estándar y varianza"
   ]
  },
  {
   "cell_type": "code",
   "execution_count": 64,
   "metadata": {},
   "outputs": [
    {
     "data": {
      "text/plain": [
       "(2.581988897471611, 6.666666666666667)"
      ]
     },
     "execution_count": 64,
     "metadata": {},
     "output_type": "execute_result"
    }
   ],
   "source": [
    "np.std(M), np.var(M)"
   ]
  },
  {
   "cell_type": "code",
   "execution_count": 65,
   "metadata": {},
   "outputs": [
    {
     "data": {
      "text/plain": [
       "(2.449489742783178, 0.6666666666666666)"
      ]
     },
     "execution_count": 65,
     "metadata": {},
     "output_type": "execute_result"
    }
   ],
   "source": [
    "np.std(M[:, 2]), np.var(M[0, :])"
   ]
  },
  {
   "cell_type": "markdown",
   "metadata": {},
   "source": [
    "#### Norma\n",
    "Podemos utilizar la expresión del producto escalar: $||u|| = \\sqrt{u \\bullet u}$"
   ]
  },
  {
   "cell_type": "code",
   "execution_count": 66,
   "metadata": {},
   "outputs": [
    {
     "name": "stdout",
     "output_type": "stream",
     "text": [
      "1.7320508075688772\n"
     ]
    }
   ],
   "source": [
    "u = np.array([1, 1, 1])\n",
    "norma = np.sqrt(np.dot(u,u))\n",
    "print(norma)"
   ]
  },
  {
   "cell_type": "markdown",
   "metadata": {},
   "source": [
    "Sin embargo, dentro del módulo `linalg` de numpy tenemos la función `norm()` que permite su cálculo de forma más cómoda."
   ]
  },
  {
   "cell_type": "code",
   "execution_count": 67,
   "metadata": {},
   "outputs": [
    {
     "name": "stdout",
     "output_type": "stream",
     "text": [
      "1.7320508075688772\n"
     ]
    }
   ],
   "source": [
    "norma = np.linalg.norm(u)\n",
    "print(norma)"
   ]
  },
  {
   "cell_type": "markdown",
   "metadata": {},
   "source": [
    "#### Mínimo y máximo"
   ]
  },
  {
   "cell_type": "code",
   "execution_count": 68,
   "metadata": {},
   "outputs": [
    {
     "data": {
      "text/plain": [
       "(1, 9)"
      ]
     },
     "execution_count": 68,
     "metadata": {},
     "output_type": "execute_result"
    }
   ],
   "source": [
    "M.min(), M.max()"
   ]
  },
  {
   "cell_type": "code",
   "execution_count": 69,
   "metadata": {},
   "outputs": [
    {
     "data": {
      "text/plain": [
       "(3, 9)"
      ]
     },
     "execution_count": 69,
     "metadata": {},
     "output_type": "execute_result"
    }
   ],
   "source": [
    "M[:, 2].min(), M[:, 2].max()"
   ]
  },
  {
   "cell_type": "markdown",
   "metadata": {},
   "source": [
    "#### Suma, producto y traza"
   ]
  },
  {
   "cell_type": "code",
   "execution_count": 70,
   "metadata": {},
   "outputs": [
    {
     "data": {
      "text/plain": [
       "45"
      ]
     },
     "execution_count": 70,
     "metadata": {},
     "output_type": "execute_result"
    }
   ],
   "source": [
    "np.sum(M)"
   ]
  },
  {
   "cell_type": "code",
   "execution_count": 71,
   "metadata": {},
   "outputs": [
    {
     "data": {
      "text/plain": [
       "362880"
      ]
     },
     "execution_count": 71,
     "metadata": {},
     "output_type": "execute_result"
    }
   ],
   "source": [
    "np.prod(M)"
   ]
  },
  {
   "cell_type": "code",
   "execution_count": 72,
   "metadata": {},
   "outputs": [
    {
     "data": {
      "text/plain": [
       "array([ 1,  3,  6, 10, 15, 21, 28, 36, 45], dtype=int32)"
      ]
     },
     "execution_count": 72,
     "metadata": {},
     "output_type": "execute_result"
    }
   ],
   "source": [
    "# Suma acumulativa. Recorre por filas.\n",
    "np.cumsum(M)"
   ]
  },
  {
   "cell_type": "code",
   "execution_count": 73,
   "metadata": {},
   "outputs": [
    {
     "data": {
      "text/plain": [
       "array([     1,      2,      6,     24,    120,    720,   5040,  40320,\n",
       "       362880], dtype=int32)"
      ]
     },
     "execution_count": 73,
     "metadata": {},
     "output_type": "execute_result"
    }
   ],
   "source": [
    "# Producto acumulativo. Recorre por filas.\n",
    "np.cumprod(M)"
   ]
  },
  {
   "cell_type": "code",
   "execution_count": 74,
   "metadata": {},
   "outputs": [
    {
     "data": {
      "text/plain": [
       "15"
      ]
     },
     "execution_count": 74,
     "metadata": {},
     "output_type": "execute_result"
    }
   ],
   "source": [
    "# Podría usarse npdiag(M).sum()\n",
    "np.trace(M)"
   ]
  },
  {
   "cell_type": "markdown",
   "metadata": {},
   "source": [
    "***\n",
    "<a id='Combinando_matrices'></a>"
   ]
  },
  {
   "cell_type": "markdown",
   "metadata": {},
   "source": [
    "## Combinando matrices"
   ]
  },
  {
   "cell_type": "markdown",
   "metadata": {},
   "source": [
    "Hay muchas opciones. Vamos a comentar unas pocas."
   ]
  },
  {
   "cell_type": "markdown",
   "metadata": {},
   "source": [
    "### Concatenar"
   ]
  },
  {
   "cell_type": "code",
   "execution_count": 75,
   "metadata": {},
   "outputs": [
    {
     "name": "stdout",
     "output_type": "stream",
     "text": [
      "[1 2 3 4 5 6 7 8 9]\n"
     ]
    }
   ],
   "source": [
    "v1 = np.array([1, 2, 3])\n",
    "v2 = np.array([4, 5, 6])\n",
    "v3 = np.array([7, 8, 9])\n",
    "\n",
    "M = np.concatenate((v1, v2, v3))\n",
    "print(M)"
   ]
  },
  {
   "cell_type": "markdown",
   "metadata": {},
   "source": [
    "### Apilar, horizontal y verticalmente"
   ]
  },
  {
   "cell_type": "code",
   "execution_count": 76,
   "metadata": {},
   "outputs": [
    {
     "name": "stdout",
     "output_type": "stream",
     "text": [
      "[[1 2 3]\n",
      " [4 5 6]\n",
      " [7 8 9]]\n"
     ]
    }
   ],
   "source": [
    "M = np.vstack((v1, v2, v3))\n",
    "print(M)"
   ]
  },
  {
   "cell_type": "code",
   "execution_count": 77,
   "metadata": {},
   "outputs": [
    {
     "name": "stdout",
     "output_type": "stream",
     "text": [
      "[1 2 3 4 5 6 7 8 9]\n"
     ]
    }
   ],
   "source": [
    "M = np.hstack((v1, v2, v3))  # El mismo resultado para este ejemplo que concatenate\n",
    "print(M)"
   ]
  },
  {
   "cell_type": "markdown",
   "metadata": {},
   "source": [
    "***\n",
    "<a id='Copia'></a>"
   ]
  },
  {
   "cell_type": "markdown",
   "metadata": {},
   "source": [
    "## Copia"
   ]
  },
  {
   "cell_type": "markdown",
   "metadata": {},
   "source": [
    "Para obtener una copia independiente de una matriz se usa el método `copy()`"
   ]
  },
  {
   "cell_type": "code",
   "execution_count": 78,
   "metadata": {},
   "outputs": [],
   "source": [
    "M = np.array([[1, 2, 3], [4, 5, 6], [7, 8, 9]])\n",
    "N = np.copy(M)"
   ]
  },
  {
   "cell_type": "code",
   "execution_count": 79,
   "metadata": {},
   "outputs": [
    {
     "data": {
      "text/plain": [
       "array([[-1000,     2,     3],\n",
       "       [    4,     5,     6],\n",
       "       [    7,     8,     9]])"
      ]
     },
     "execution_count": 79,
     "metadata": {},
     "output_type": "execute_result"
    }
   ],
   "source": [
    "N [0, 0] = -1000\n",
    "N"
   ]
  },
  {
   "cell_type": "code",
   "execution_count": 80,
   "metadata": {},
   "outputs": [
    {
     "data": {
      "text/plain": [
       "array([[1, 2, 3],\n",
       "       [4, 5, 6],\n",
       "       [7, 8, 9]])"
      ]
     },
     "execution_count": 80,
     "metadata": {},
     "output_type": "execute_result"
    }
   ],
   "source": [
    "M"
   ]
  },
  {
   "cell_type": "markdown",
   "metadata": {},
   "source": [
    "***\n",
    "<a id='Iterando_bucles'></a>"
   ]
  },
  {
   "cell_type": "markdown",
   "metadata": {},
   "source": [
    "## Iterando con bucles"
   ]
  },
  {
   "cell_type": "markdown",
   "metadata": {},
   "source": [
    "De forma similar a como se hace con listas"
   ]
  },
  {
   "cell_type": "code",
   "execution_count": 81,
   "metadata": {},
   "outputs": [
    {
     "name": "stdout",
     "output_type": "stream",
     "text": [
      "0\n",
      "1\n",
      "2\n",
      "3\n",
      "4\n",
      "5\n",
      "6\n",
      "7\n",
      "8\n",
      "9\n"
     ]
    }
   ],
   "source": [
    "v = np.arange(10)\n",
    "\n",
    "for x in v:\n",
    "    print(x)"
   ]
  },
  {
   "cell_type": "code",
   "execution_count": 82,
   "metadata": {},
   "outputs": [
    {
     "name": "stdout",
     "output_type": "stream",
     "text": [
      "1 2 3 \n",
      "4 5 6 \n",
      "7 8 9 \n"
     ]
    }
   ],
   "source": [
    "M = np.array([[1, 2, 3], [4, 5, 6], [7, 8, 9]])\n",
    "\n",
    "for fila in M:  # fila es una fila de M\n",
    "    for x in fila:\n",
    "        print(x, end=' ')\n",
    "    print()"
   ]
  },
  {
   "cell_type": "markdown",
   "metadata": {},
   "source": [
    "Para iterar y modificar, nos podemos ayudar de `enumerate()`."
   ]
  },
  {
   "cell_type": "code",
   "execution_count": 83,
   "metadata": {},
   "outputs": [
    {
     "name": "stdout",
     "output_type": "stream",
     "text": [
      "[[ 1  4  9]\n",
      " [16 25 36]\n",
      " [49 64 81]]\n"
     ]
    }
   ],
   "source": [
    "M = np.array([[1, 2, 3], [4, 5, 6], [7, 8, 9]])\n",
    "# Elevamos al cuadrado los elementos de la matriz M\n",
    "for i, fila in enumerate(M):  # i es el índice de la fila; fila es una fila de M\n",
    "    for j, x in enumerate(fila):\n",
    "        M[i, j] *= x\n",
    "        \n",
    "print(M)"
   ]
  },
  {
   "cell_type": "code",
   "execution_count": 84,
   "metadata": {},
   "outputs": [
    {
     "name": "stdout",
     "output_type": "stream",
     "text": [
      "[[ 1  4  9]\n",
      " [16 25 36]\n",
      " [49 64 81]]\n"
     ]
    }
   ],
   "source": [
    "M = np.array([[1, 2, 3], [4, 5, 6], [7, 8, 9]])\n",
    "M = M*M\n",
    "print(M)"
   ]
  },
  {
   "cell_type": "markdown",
   "metadata": {},
   "source": [
    "Este ejemplo anterior es una muestra de que en muchas ocasiones las operaciones que iteran sobre los elementos de una matriz ya están implementadas en Numpy. ¡No reinventemos la rueda!"
   ]
  },
  {
   "cell_type": "markdown",
   "metadata": {},
   "source": [
    "***\n",
    "<a id='Funciones_universales'></a>"
   ]
  },
  {
   "cell_type": "markdown",
   "metadata": {},
   "source": [
    "## Funciones universales\n",
    "Una **función universal** es una función que realiza operaciones elemento a elemento de la matriz. Gran parte de las funciones de la biblioteca matemática están vectorizadas en el módulo numpy."
   ]
  },
  {
   "cell_type": "code",
   "execution_count": 85,
   "metadata": {},
   "outputs": [
    {
     "data": {
      "text/plain": [
       "array([-1.00000000e+00,  6.12323400e-17,  5.00000000e-01,  7.07106781e-01,\n",
       "        1.00000000e+00])"
      ]
     },
     "execution_count": 85,
     "metadata": {},
     "output_type": "execute_result"
    }
   ],
   "source": [
    "M = np.array([np.pi, np.pi/2, np.pi/3, np.pi/4, 0])\n",
    "np.cos(M)"
   ]
  },
  {
   "cell_type": "code",
   "execution_count": 86,
   "metadata": {},
   "outputs": [
    {
     "data": {
      "text/plain": [
       "array([[1.        , 1.41421356, 1.73205081],\n",
       "       [2.        , 2.23606798, 2.44948974],\n",
       "       [2.64575131, 2.82842712, 3.        ]])"
      ]
     },
     "execution_count": 86,
     "metadata": {},
     "output_type": "execute_result"
    }
   ],
   "source": [
    "M = np.array([[1, 2, 3], [4, 5, 6], [7, 8, 9]])\n",
    "np.sqrt(M)"
   ]
  },
  {
   "cell_type": "markdown",
   "metadata": {},
   "source": [
    "Podéis consultar todas las opciones disponibles en [numpy.ufuncs reference](https://numpy.org/doc/stable/reference/ufuncs.html)"
   ]
  },
  {
   "cell_type": "markdown",
   "metadata": {},
   "source": [
    "***\n",
    "<a id='Ejemplo_aplicacion'></a>"
   ]
  },
  {
   "cell_type": "markdown",
   "metadata": {},
   "source": [
    "## Ejemplo de aplicación\n",
    "### Planos y rectas en el espacio euclídeo 3D\n",
    "En este ejemplo se repasan algunos conceptos acerca de rectas y planos en el espacio euclídeo 3D."
   ]
  },
  {
   "cell_type": "code",
   "execution_count": 87,
   "metadata": {},
   "outputs": [],
   "source": [
    "import numpy as np"
   ]
  },
  {
   "cell_type": "markdown",
   "metadata": {},
   "source": [
    "#### Normalización de un vector\n",
    "Consiste en dividir los elementos de un vector $\\mathbf{v}$ por su norma para hacerlo unitario.\n",
    "\n",
    "$$\\hat{\\mathbf{v}}=\\frac{\\mathbf{v}}{||\\mathbf{v}||}$$"
   ]
  },
  {
   "cell_type": "markdown",
   "metadata": {},
   "source": [
    "El parámetro `v` puede ser una lista, tupla o numpy array (lo recomendado). Se levanta una excepción si la norma del vector es inferior a una tolerancia predeterminada."
   ]
  },
  {
   "cell_type": "code",
   "execution_count": 88,
   "metadata": {},
   "outputs": [
    {
     "data": {
      "text/plain": [
       "array([0.57735027, 0.57735027, 0.57735027])"
      ]
     },
     "execution_count": 88,
     "metadata": {},
     "output_type": "execute_result"
    }
   ],
   "source": [
    "def normaliza(v, tol=1e-6):\n",
    "    '''\n",
    "    Devuelve, sin alterarlo, el vector normalizado de v.\n",
    "    \n",
    "    Parameters\n",
    "    ----------\n",
    "    v : list, tuple, numpy.ndarray: numérico\n",
    "        Vector unidimensional\n",
    "    tol : float\n",
    "        Tolerancia que debe cumplir la norma del vector v\n",
    "    Returns\n",
    "    -------\n",
    "    v_norm : numpy.ndarray of floats\n",
    "        Vector normalizado unitario\n",
    "    Raises\n",
    "    ------\n",
    "    ValueError\n",
    "        Si la norma del vector inicial es inferior a tol\n",
    "    Example\n",
    "    -------\n",
    "        >>> v = (1, 1, 1)\n",
    "        >>> normaliza(v)\n",
    "    '''\n",
    "\n",
    "    norma = np.linalg.norm(v)\n",
    "    if norma < tol:\n",
    "        raise ValueError('La norma del vector es inferior a la tolerancia {}.'.format(tol))\n",
    "    v_norm = v/norma  # Al usar np.linalg.norm() v_norm es un numpy.ndarray\n",
    "    return v_norm\n",
    "\n",
    "\n",
    "v = (1, 1, 1)\n",
    "normaliza(v)"
   ]
  },
  {
   "cell_type": "markdown",
   "metadata": {},
   "source": [
    "#### Distancia entre dos puntos 3D\n",
    "Dados $\\mathbf{p}_1 = (x_1,y_1,z_1)$ y $\\mathbf{p}_2 = (x_2,y_2,z_2)$ la distancia entre ellos viene dada por:\n",
    "\n",
    "$$d_{p_1p_2}= ||\\mathbf{p}_1-\\mathbf{p}_2||$$\n",
    "\n",
    "Esta función solo admite como parámetros numpy arrays, ya que utiliza la diferencia aritmética entre los dos puntos $\\mathbf{p}_1$ y $\\mathbf{p}_2$. Nótese que la función puede utilizarse para vectores de cualquier dimensión.\n",
    "\n",
    "El valor devuelto es un tipo de dato numpy `float`."
   ]
  },
  {
   "cell_type": "code",
   "execution_count": 89,
   "metadata": {},
   "outputs": [],
   "source": [
    "def distancia_entre_puntos(p1, p2):  # Versión solo válida para numpy arrays\n",
    "    '''\n",
    "    Parameters\n",
    "    ----------\n",
    "    p1, p2 : numpy.ndarray\n",
    "        Vectores unidimensionales\n",
    "    Returns\n",
    "    -------\n",
    "    dist : numpy float\n",
    "        Distancia entre los puntos p1 y p2\n",
    "    Example:\n",
    "    --------\n",
    "    >>> p1 = np.array((1, 1, 1), dtype=float)\n",
    "    >>> p2 = np.array((2, 3, 4), dtype=float)\n",
    "    >>> distancia_entre_puntos(p1, p2)\n",
    "    '''\n",
    "    dist = np.linalg.norm(p1-p2)  # p1-p2 no está definido para tuplas o listas\n",
    "    return dist"
   ]
  },
  {
   "cell_type": "code",
   "execution_count": 90,
   "metadata": {},
   "outputs": [
    {
     "data": {
      "text/plain": [
       "3.7416573867739413"
      ]
     },
     "execution_count": 90,
     "metadata": {},
     "output_type": "execute_result"
    }
   ],
   "source": [
    "# Ejemplo distancia_entre_puntos()\n",
    "p1 = np.array((1, 1, 1))\n",
    "p2 = np.array((2, 3, 4))\n",
    "distancia_entre_puntos(p1, p2)"
   ]
  },
  {
   "cell_type": "markdown",
   "metadata": {},
   "source": [
    "#### El ángulo que forman dos vectores\n",
    "Sabemos del álgebra que $\\mathbf{u} \\bullet \\mathbf{v} = ||\\mathbf{u}||||\\mathbf{v}||cos(\\theta)$. Por tanto, podemos obtener:\n",
    "\n",
    "$$\\theta = arccos(\\frac{\\mathbf{u} \\bullet \\mathbf{v}}{||\\mathbf{u}||||\\mathbf{v}||})$$"
   ]
  },
  {
   "cell_type": "code",
   "execution_count": 91,
   "metadata": {},
   "outputs": [
    {
     "name": "stdout",
     "output_type": "stream",
     "text": [
      "90.0\n"
     ]
    }
   ],
   "source": [
    "def angulo(v1, v2):\n",
    "    '''\n",
    "    Parameters\n",
    "    ----------\n",
    "    v1, v2 : tuple, list, numpy.ndarray: numérico\n",
    "        Vectores unidimensionales\n",
    "    Returns\n",
    "    -------\n",
    "    angulo : float\n",
    "        Ángulo en radianes que forman los vectores\n",
    "    Example\n",
    "    -------\n",
    "    >>> u_x = [1, 0, 0]  # Vector unitario eje X\n",
    "    >>> u_y = [0, 1, 0]  # Vector unitario eje Y\n",
    "    >>> angulo(u_x, u_y)*180/np.pi  # Ángulo en grados\n",
    "    '''\n",
    "\n",
    "    prod_esc = np.dot(v1, v2)\n",
    "    norma_v1 = np.linalg.norm(v1)\n",
    "    norma_v2 = np.linalg.norm(v2)\n",
    "\n",
    "    angulo = np.arccos(np.clip(prod_esc/(norma_v1*norma_v2), -1, 1))\n",
    "    return angulo\n",
    "\n",
    "\n",
    "u_x = [1, 0, 0]  # Vector unitario eje X\n",
    "u_y = [0, 1, 0]  # Vector unitario eje Y\n",
    "\n",
    "\n",
    "ang = angulo(u_x, u_y)\n",
    "print(ang*180/np.pi)"
   ]
  },
  {
   "cell_type": "markdown",
   "metadata": {},
   "source": [
    "La función `np.clic(expresion, min, max)` es una función que limita el valor de `expresion` a los límites `[min, max]`.\n",
    "Aquí se usa porque numéricamente la expresion `prod_esc/(norma_v1*norma_v2)` puede dar valores del tipo `1.0000000000002` que hacen que el `arccos()` esté indefinido. Recordad de nuevo lo visto en el tema de  **Representación de la Información** sobre IEEE-754 y su incapacidad para la representación exacta."
   ]
  },
  {
   "cell_type": "markdown",
   "metadata": {},
   "source": [
    "#### Formas de parametrizar un plano\n",
    "##### Con un punto y un vector perpendicular al plano\n",
    "\n",
    "Sea $\\mathbf{p}_0 = (x_0,y_0,z_0)$ un punto del espacio euclídeo 3D y $\\mathbf{n} = (A, B, C)$ un vector no nulo.\n",
    "\n",
    "Un plano caracterizado por la tupla $(\\mathbf{p}_0, \\mathbf{n})$ consiste en todos los puntos $\\mathbf{p} = (x,y,z)$ tales que el vector $\\mathbf{v} = \\mathbf{p}-\\mathbf{p}_0$ es perpendicular a $\\mathbf{n}$.\n",
    "\n",
    "Esta propiedad es fácil expresarla matemáticamente:\n",
    "\n",
    "$$(\\mathbf{p}-\\mathbf{p}_0) \\bullet \\mathbf{n} = 0 \\tag{1}$$\n",
    "\n",
    "donde $\\bullet$ representa el **producto escalar**."
   ]
  },
  {
   "cell_type": "markdown",
   "metadata": {},
   "source": [
    "##### Forma algebraica o implícita\n",
    "Expandiendo (1) es fácil llegar a la expresión algebraica:\n",
    "\n",
    "$$(\\mathbf{p}-\\mathbf{p}_0) \\bullet \\mathbf{n} = \\mathbf{p} \\bullet \\mathbf{n} - \\mathbf{p}_0 \\bullet \\mathbf{n} = Ax+By+Cz+D=0 \\tag{2}$$\n",
    "\n",
    "donde el parámetro $D$ viene dado por:\n",
    "\n",
    "$$D=-\\mathbf{p}_0 \\bullet \\mathbf{n} \\tag{3}$$\n",
    "\n",
    "Esta parametrización puede caracterizarse con la tupla $(\\mathbf{n}, D)$"
   ]
  },
  {
   "cell_type": "markdown",
   "metadata": {},
   "source": [
    "#### Plano a partir de tres puntos\n",
    "Sean $\\mathbf{p}_1 = (x_1,y_1,z_1)$, $\\mathbf{p}_2 = (x_2,y_2,z_2)$ y $\\mathbf{p}_3 = (x_3,y_3,z_3)$ tres puntos diferentes del espacio euclídeo 3D.\n",
    "\n",
    "Entre las diferentes alternativas, el plano asociado a estos tres puntos puede obtenerse fácilmente con los pasos siguientes:\n",
    "\n",
    "1. Se obtiene el vector perpendicular $\\mathbf{n}= (A, B, C)$ según:\n",
    "\n",
    "$$\\mathbf{n} = (\\mathbf{p}_1 - \\mathbf{p}_2) \\times (\\mathbf{p}_1 - \\mathbf{p}_3)$$\n",
    "\n",
    "donde $\\times$ es el producto vectorial. La idea es que los dos vectores formados a partir de los tres puntos pertenecen al plano y, por tanto, su producto vectorial es la perpendicular $\\mathbf{n}$.\n",
    "\n",
    "2. Se escoge cualquiera de los 3 puntos, por ejemplo $\\mathbf{p}_1$ para obtener la tupla $(\\mathbf{p}_1, \\mathbf{n})$\n",
    "\n",
    "Si se desea la forma algebraica dada por (2), basta obtener $D=-\\mathbf{p}_1 \\bullet \\mathbf{n}$ y el plano vendría determinado por la tupla $(\\mathbf{n},D)$\n",
    "\n",
    "La función `plano_tres_puntos()` devuelve la parametrización dada por la tupla $(\\mathbf{n},D)$. Además, garantiza que el vector $\\mathbf{n}$ es unitario."
   ]
  },
  {
   "cell_type": "code",
   "execution_count": 92,
   "metadata": {},
   "outputs": [],
   "source": [
    "def plano_tres_puntos(p1, p2, p3, tol=1e-3):\n",
    "    '''\n",
    "    Parameters\n",
    "    ----------\n",
    "    p1, p2, p3 : numpy.ndarray of floats\n",
    "        Vectores unidimensionales representando 3 puntos 3D\n",
    "    tol : float\n",
    "        Tolerancia que deben cumplir las distancias entre los puntos\n",
    "    Returns\n",
    "    -------\n",
    "    n, D : tuple : (numpy.ndarray of float, numpy float)\n",
    "        n es el vector unitario perpendicular al plano\n",
    "\n",
    "        D es el término independiente de la ecuación algebraica Ax+By+Cz+D=0\n",
    "    Raises\n",
    "    ------\n",
    "    ValueError\n",
    "        Si la distancia entre alguno de los 3 puntos es inferior a tol\n",
    "    Example\n",
    "    -------\n",
    "    >>> p1 = np.array((1, 0, 0))\n",
    "    >>> p2 = np.array((0, 1, 0))\n",
    "    >>> p3 = np.array((0, 0, 1))\n",
    "    >>> n, D = plano_tres_puntos(p1, p2, p3)\n",
    "    '''\n",
    "    dist12 = distancia_entre_puntos(p1, p2)\n",
    "    dist13 = distancia_entre_puntos(p1, p3)\n",
    "    dist23 = distancia_entre_puntos(p2, p3)\n",
    "\n",
    "    if dist12 < tol or dist13 < tol or dist23 < tol:\n",
    "        raise ValueError('Distancia entre puntos menor que la tolerancia {}.'.format(tol))\n",
    "\n",
    "    # Producto vectorial para A B C\n",
    "    # |  i       j       k    |\n",
    "    # |v_12[0] v_12[1] v_12[2]|\n",
    "    # |v_13[0] v_13[1] v_13[2]|\n",
    "\n",
    "    v12 = p1 - p2\n",
    "    v13 = p1 - p3\n",
    "\n",
    "    n = normaliza(np.cross(v12, v13))\n",
    "\n",
    "    D = -np.dot(n, p1)\n",
    "\n",
    "    return n, D"
   ]
  },
  {
   "cell_type": "code",
   "execution_count": 93,
   "metadata": {},
   "outputs": [
    {
     "name": "stdout",
     "output_type": "stream",
     "text": [
      "[0.57735027 0.57735027 0.57735027]\n",
      "-0.5773502691896258\n"
     ]
    }
   ],
   "source": [
    "p1 = np.array((1, 0, 0))  \n",
    "p2 = np.array((0, 1, 0))\n",
    "p3 = np.array((0, 0, 1))\n",
    "n, D = plano_tres_puntos(p1, p2, p3)\n",
    "print(n)\n",
    "print(D)"
   ]
  },
  {
   "cell_type": "markdown",
   "metadata": {},
   "source": [
    "#### Formas de parametrizar una recta\n",
    "##### Con dos puntos\n",
    "Sean $\\mathbf{p}_1 = (x_1,y_1,z_1)$, $\\mathbf{p}_2 = (x_2,y_2,z_2)$ dos puntos diferentes del espacio euclídeo 3D.\n",
    "\n",
    "Los puntos $\\mathbf{p} = (x,y,z)$ pertenecientes a la recta definida por $\\mathbf{p}_1$ y $\\mathbf{p}_2$ satisfacen la siguiente **ecuación vectorial**:\n",
    "\n",
    "$$\\mathbf{p} = \\mathbf{p}_1 + \\lambda (\\mathbf{p}_2 - \\mathbf{p}_1)   \\quad \\lambda \\in \\mathbb{R} \\tag{4}$$\n",
    "\n",
    "De esta forma, esta parametrización vendría dada por una tupla $(\\mathbf{p}_1, \\mathbf{v})$, donde $\\mathbf{v}$ es el vector director: $\\mathbf{v}=\\mathbf{p}_2 - \\mathbf{p}_1$."
   ]
  },
  {
   "cell_type": "code",
   "execution_count": 94,
   "metadata": {},
   "outputs": [],
   "source": [
    "def recta_dos_puntos(p1, p2, tol=1e-3):\n",
    "    '''\n",
    "    Parameters\n",
    "    ----------\n",
    "    p1, p2 : numpy.ndarray of floats\n",
    "        Vectores unidimensionales representando 2 puntos 3D\n",
    "    tol : float\n",
    "        Tolerancia que debe cumplir la distancia entre los puntos\n",
    "    Returns\n",
    "    -------\n",
    "    p, v : tuple: (numpy.ndarray of float, numpy.ndarray of float)\n",
    "        p es una copia de p1, punto pasado como primer parámetro\n",
    "\n",
    "        v es el vector director unitario de la recta\n",
    "    Raises\n",
    "    ------\n",
    "    ValueError\n",
    "        Si la distancia entre los 2 puntos es inferior a tol\n",
    "    Example\n",
    "    -------\n",
    "    >>> p1 = np.array((2, 2, 2))\n",
    "    >>> p2 = np.array((3, 3, 3))\n",
    "    >>> p, v = recta_dos_puntos(p1, p2)\n",
    "    '''\n",
    "    if distancia_entre_puntos(p1, p2) < tol:\n",
    "        raise ValueError('Distancia entre puntos menor que la tolerancia {}.'.format(tol))\n",
    "    v = normaliza(p1-p2)\n",
    "    return np.copy(p1), v"
   ]
  },
  {
   "cell_type": "code",
   "execution_count": 95,
   "metadata": {},
   "outputs": [
    {
     "name": "stdout",
     "output_type": "stream",
     "text": [
      "[2 2 2]\n",
      "[-0.57735027 -0.57735027 -0.57735027]\n"
     ]
    }
   ],
   "source": [
    "# Ejemplo recta_dos_puntos()\n",
    "p1 = np.array((2, 2, 2))  \n",
    "p2 = np.array((3, 3, 3))\n",
    "p, v = recta_dos_puntos(p1, p2)\n",
    "print(p)\n",
    "print(v)"
   ]
  },
  {
   "cell_type": "markdown",
   "metadata": {},
   "source": [
    "Nótese el uso  de `np.copy(p1)` para que sea un vector ligado a un objeto diferente que `p1`. Este tipo de detalles suelen ser uno de los mayores quebraderos de cabeza en Python."
   ]
  },
  {
   "cell_type": "markdown",
   "metadata": {},
   "source": [
    "##### Mediante la intersección de dos planos\n",
    "Dados los planos definidos por las tuplas $(\\mathbf{n}_1, D_1)$ y $(\\mathbf{n}_2, D_2)$, la recta vendría definida por la pareja de ecuaciones lineales:\n",
    "\n",
    "\n",
    "$\\begin{align}\n",
    "A_1x+B_1y+C_1z+D_1=0 \\\\\n",
    "A_2x+B_2y+C_2z+D_2=0\n",
    "\\end{align} \\tag{5}$\n",
    "\n",
    "\n",
    "Obviamente, si los vectores $\\mathbf{n}_1$ y $\\mathbf{n}_2$ son paralelos, la expresión (5) no está correctamente definida."
   ]
  },
  {
   "cell_type": "markdown",
   "metadata": {},
   "source": [
    "#### Intersección de una recta y un plano\n",
    "Supongamos que nos dan para el plano la tupla $(\\mathbf{n}, D)$ (3) y para la recta la ecuación vectorial (4), dada por la tupla $(\\mathbf{p}_0, \\mathbf{v})$. Es decir, tenemos las ecuaciones:\n",
    "\n",
    "$\\begin{align}\n",
    "\\quad & \\mathbf{n} \\bullet \\mathbf{p} + D = 0 \\\\\n",
    "\\quad & \\mathbf{p} = \\mathbf{p}_0 + \\lambda \\mathbf{v}\n",
    "\\end{align}$\n",
    "\n",
    "\n",
    "\n",
    "Sustituyendo $\\mathbf{p}$ arriba obtenemos:\n",
    "\n",
    "$$\\mathbf{n} \\bullet (\\mathbf{p}_0 + \\lambda \\mathbf{v}) + D = 0$$\n",
    "\n",
    "Nos interesa encontrar el valor de  $\\lambda$ para el que se produce el corte:\n",
    "\n",
    "$$\\lambda = -\\frac{\\mathbf{n} \\bullet \\mathbf{p}_0 + D}{\\mathbf{n} \\bullet \\mathbf{v}} \\tag{6}$$\n",
    "\n",
    "Sustituyendo (6) en (4) se obtiene el punto de intersección $\\mathbf{p}$ de forma inmediata:\n",
    "\n",
    "$$\\mathbf{p} = \\mathbf{p}_0 -\\frac{\\mathbf{n} \\bullet \\mathbf{p}_0 + D}{\\mathbf{n} \\bullet \\mathbf{v}} \\mathbf{v}$$"
   ]
  },
  {
   "cell_type": "code",
   "execution_count": 96,
   "metadata": {},
   "outputs": [],
   "source": [
    "def interseccion_recta_plano(recta, plano, tol=0.1):\n",
    "    '''\n",
    "    Parameters\n",
    "    ----------\n",
    "    recta : tuple : (numpy.ndarray of floats, numpy.ndarray of floats)\n",
    "        Recta definida por la tupla punto inicial y vector director\n",
    "        p=p_0+l*v\n",
    "    plano : tuple : (numpy.ndarray of floats, float)\n",
    "        Plano definido por la tupla vector normal (A, B, C) y término independiente D\n",
    "        Ax+By+Cz+D=0\n",
    "    tol : float\n",
    "        Tolerancia que deben cumplir el ángulo entre recta y plano\n",
    "    Returns\n",
    "    -------\n",
    "    p : numpy.ndarray of floats\n",
    "        El punto de intersección\n",
    "    Raises\n",
    "    ------\n",
    "    ValueError\n",
    "        Si el ángulo entre ambas figuras es inferior a tol en radianes\n",
    "    Example\n",
    "    -------\n",
    "    >>> p1 = np.array((1, 0, 0))\n",
    "    >>> p2 = np.array((0, 1, 0))\n",
    "    >>> p3 = np.array((0, 0, 1))\n",
    "    >>> p4 = np.array((2, 2, 2))\n",
    "    >>> p5 = np.array((3, 3, 3))\n",
    "    >>> plano = plano_tres_puntos(p1, p2, p3)\n",
    "    >>> recta = recta_dos_puntos(p4, p5)\n",
    "    >>> p = interseccion_recta_plano(recta, plano)\n",
    "    '''\n",
    "    ang = angulo(recta[1], plano[0])\n",
    "\n",
    "    if np.abs(ang-np.pi/2) < tol:\n",
    "        raise ValueError('La recta y el plano son casi paralelos según tolerancia {}.'.format(tol))\n",
    "\n",
    "    lamb = -(np.dot(recta[0], plano[0])+plano[1])/np.dot(recta[1], plano[0])\n",
    "\n",
    "    return recta[0] + lamb*recta[1]"
   ]
  },
  {
   "cell_type": "code",
   "execution_count": 97,
   "metadata": {},
   "outputs": [
    {
     "name": "stdout",
     "output_type": "stream",
     "text": [
      "[0.33333333 0.33333333 0.33333333]\n"
     ]
    }
   ],
   "source": [
    "# Ejemplo interseccion_recta_plano()\n",
    "p1 = np.array((1, 0, 0))  \n",
    "p2 = np.array((0, 1, 0))\n",
    "p3 = np.array((0, 0, 1))\n",
    "p4 = np.array((2, 2, 2))\n",
    "p5 = np.array((3, 3, 3))\n",
    "plano = plano_tres_puntos(p1, p2, p3)\n",
    "recta = recta_dos_puntos(p4, p5)\n",
    "p = interseccion_recta_plano(recta, plano)\n",
    "print(p)"
   ]
  },
  {
   "cell_type": "markdown",
   "metadata": {},
   "source": [
    "#### Distancia de un punto a un plano\n",
    "Supongamos que nos dan para el plano la tupla $(\\mathbf{n}, D)$ y un punto $\\mathbf{p}_0 = (x_0,y_0,z_0)$.\n",
    "\n",
    "La distancia viene determinada por la longitud del segmento de recta perpendicular al plano, que tiene por extremos el punto $\\mathbf{p}_0$ y su intersección $\\mathbf{p}_i$ con el plano $(\\mathbf{n}, D)$.\n",
    "\n",
    "Veamos cual es ese punto de intersección:\n",
    "\n",
    "$\\begin{align}\n",
    "\\quad & \\mathbf{n} \\bullet \\mathbf{p}_i + D = 0 \\\\\n",
    "\\quad & \\mathbf{p}_i = \\mathbf{p}_0 + \\lambda \\mathbf{n}\n",
    "\\end{align}$\n",
    "\n",
    "donde ahora el vector director de la recta es $\\mathbf{n}$.\n",
    "\n",
    "Sustituyendo en (6):\n",
    "\n",
    "$$\\lambda = -\\frac{\\mathbf{n} \\bullet \\mathbf{p}_0 + D}{\\mathbf{n} \\bullet \\mathbf{n}} \\tag{7}$$\n",
    "\n",
    "Por otro lado, la distancia entre $\\mathbf{p}_0$ y cualquier punto $\\mathbf{p}$ de la recta viene dada por la expresión:\n",
    "\n",
    "$$d=||\\mathbf{p}_0 - (\\mathbf{p}_0+ \\lambda \\mathbf{n})||= ||\\lambda\\mathbf{n}|| =  |\\lambda|\\,||\\mathbf{n}||\\tag{8}$$\n",
    "\n",
    "Sustituyendo el valor de $\\lambda$ hallado en (7) en la expresión (8):\n",
    "\n",
    "$$d=|-\\frac{\\mathbf{n} \\bullet \\mathbf{p}_0 + D}{\\mathbf{n} \\bullet \\mathbf{n}}|\\,||\\mathbf{n}||  = \\frac{|\\mathbf{n} \\bullet \\mathbf{p}_0 + D|}{||\\mathbf{n}||} \\tag{9}$$\n",
    "\n",
    "donde utilizamos el hecho de que $\\mathbf{n} \\bullet \\mathbf{n} = \\pm ||\\mathbf{n}||^2$.\n",
    "\n",
    "La expresión (9) es habitual verla en la bibliografía como:\n",
    "\n",
    "$$d=\\frac{|\\mathbf{n} \\bullet \\mathbf{p}_0 + D|}{||\\mathbf{n}||}=\\frac{|Ax_0+By_0+Cz_0+D|}{\\sqrt{A^2+B^2+C^2}} \\tag{10}$$\n",
    "\n",
    "Si trabajamos con un plano cuya vector normal $\\mathbf{n}$ está normalizado, se produce un ahorro de cálculos al quedar la expresión (10) como:\n",
    "\n",
    "$$d=|Ax_0+By_0+Cz_0+D| \\quad con \\,||\\mathbf{n}||=1 \\tag{11}$$"
   ]
  },
  {
   "cell_type": "code",
   "execution_count": 98,
   "metadata": {},
   "outputs": [],
   "source": [
    "def distancia_punto_plano(plano, punto):\n",
    "    '''\n",
    "    Parameters\n",
    "    ----------\n",
    "    plano : tuple: (numpy.ndarray of floats, float)\n",
    "        Plano definido por la tupla vector normal A,B,C) y término independiente D\n",
    "        Ax+By+Cz+D=0\n",
    "    punto : numpy.ndarray of floats\n",
    "        Vector unidimensional representando 1 punto 3D\n",
    "    Returns\n",
    "    -------\n",
    "    dist : float\n",
    "        La distancia del punto al plano\n",
    "    Example\n",
    "    -------\n",
    "    >>> p1 = np.array((1, 0, 0))\n",
    "    >>> p2 = np.array((0, 1, 0))\n",
    "    >>> p3 = np.array((0, 0, 1))\n",
    "    >>> p4 = np.array((1, 1, 1))\n",
    "    >>> plano = plano_tres_puntos(p1, p2, p3)\n",
    "    >>> dist = distancia_punto_plano(plano, p4)\n",
    "    '''\n",
    "\n",
    "    n, D = plano\n",
    "    n = normaliza(n)\n",
    "    return np.abs(np.dot(n, punto) + D)"
   ]
  },
  {
   "cell_type": "code",
   "execution_count": 99,
   "metadata": {},
   "outputs": [
    {
     "name": "stdout",
     "output_type": "stream",
     "text": [
      "(array([0.57735027, 0.57735027, 0.57735027]), -0.5773502691896258)\n",
      "1.154700538379252\n"
     ]
    }
   ],
   "source": [
    "# Ejemplo distancia_punto_plano()\n",
    "p1 = np.array((1, 0, 0))  \n",
    "p2 = np.array((0, 1, 0))\n",
    "p3 = np.array((0, 0, 1))\n",
    "p4 = np.array((1, 1, 1))\n",
    "plano = plano_tres_puntos(p1, p2, p3)\n",
    "print(plano)\n",
    "dist = distancia_punto_plano(plano, p4)\n",
    "print(dist)"
   ]
  },
  {
   "cell_type": "markdown",
   "metadata": {},
   "source": [
    "#### Proyección ortogonal de un punto sobre una recta\n",
    "Dados:\n",
    "* una recta, definida por la tupla $(\\mathbf{p_o}, \\mathbf{v})$\n",
    "* un punto $\\mathbf{p}$,\n",
    "\n",
    "se desea calcular el punto proyección ortogonal $\\mathbf{p_r}$ de $\\mathbf{p}$ sobre la recta $(\\mathbf{p_o}, \\mathbf{v})$.\n",
    "\n",
    "![proyeccion_punto_recta.jpg](img/proy_p_r.jpg)\n",
    "\n",
    "\n",
    "Con estos datos es inmediato obtener el plano perpendicular a la recta que pasa por el punto $\\mathbf{p}$, que vendrá dado por la tupla $(\\mathbf{v}, D) = (\\mathbf{v}, -\\mathbf{p} \\bullet \\mathbf{v})$.\n",
    "\n",
    "Finalmente, el punto $\\mathbf{p_r}$ buscado es la intersección de la recta $(\\mathbf{p_o}, \\mathbf{v})$ con el plano $(\\mathbf{v}, D)$."
   ]
  },
  {
   "cell_type": "code",
   "execution_count": 100,
   "metadata": {},
   "outputs": [],
   "source": [
    "def proyeccion_punto_recta(recta, punto):\n",
    "    '''\n",
    "    Parameters\n",
    "    ----------\n",
    "    recta : tuple : (numpy.ndarray of floats, numpy.ndarray of floats)\n",
    "        Recta definida por la tupla punto inicial y vector director:\n",
    "        p=p_0+l*v\n",
    "    punto : numpy.ndarray of floats\n",
    "        Vector unidimensional representando 1 punto 3D\n",
    "    Returns\n",
    "    -------\n",
    "    p_r : numpy.ndarray of floats\n",
    "        El punto proyección sobre la recta\n",
    "    Example\n",
    "    -------\n",
    "    >>> p1 = np.array((2, 2, 2))\n",
    "    >>> p2 = np.array((3, 3, 3))\n",
    "    >>> recta = recta_dos_puntos(p1, p2)\n",
    "    >>> p = np.array((5, 1, 2))\n",
    "    >>> p_r = proyeccion_punto_recta(recta, p)\n",
    "    '''\n",
    "\n",
    "    plano = (recta[1], -np.dot(recta[1], p))\n",
    "    p_r = interseccion_recta_plano(recta, plano)\n",
    "\n",
    "    return p_r"
   ]
  },
  {
   "cell_type": "code",
   "execution_count": 101,
   "metadata": {},
   "outputs": [
    {
     "name": "stdout",
     "output_type": "stream",
     "text": [
      "[0. 0. 0.]\n"
     ]
    }
   ],
   "source": [
    "p1 = np.array((2, 2, 2))  \n",
    "p2 = np.array((3, 3, 3))\n",
    "recta = recta_dos_puntos(p1, p2)\n",
    "p = np.array((-1, 0, 1))    \n",
    "p_r = proyeccion_punto_recta(recta, p)\n",
    "    \n",
    "print(p_r)"
   ]
  },
  {
   "cell_type": "code",
   "execution_count": null,
   "metadata": {},
   "outputs": [],
   "source": []
  }
 ],
 "metadata": {
  "jupytext": {
   "formats": "ipynb,md:myst"
  },
  "kernelspec": {
   "display_name": "Python 3",
   "language": "python",
   "name": "python3"
  },
  "language_info": {
   "codemirror_mode": {
    "name": "ipython",
    "version": 3
   },
   "file_extension": ".py",
   "mimetype": "text/x-python",
   "name": "python",
   "nbconvert_exporter": "python",
   "pygments_lexer": "ipython3",
   "version": "3.7.7"
  }
 },
 "nbformat": 4,
 "nbformat_minor": 1
}
