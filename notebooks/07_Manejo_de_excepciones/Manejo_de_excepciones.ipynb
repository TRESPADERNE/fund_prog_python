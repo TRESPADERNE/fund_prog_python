{
 "cells": [
  {
   "cell_type": "markdown",
   "metadata": {},
   "source": [
    "# Manejo de excepciones"
   ]
  },
  {
   "cell_type": "markdown",
   "metadata": {},
   "source": [
    "<a target=\"_self\" href='#Tipos_de_errores_de_programación'>Tipos de errores de programación</a><br>\n",
    "<a target=\"_self\" href='#Errores_en_tiempo_de_ejecución'>Errores en tiempo de ejecución</a><br>\n",
    "<a target=\"_self\" href='#La_estructura_condicional_try_except'>La estructura condicional `try ... except`</a><br>\n",
    "<a target=\"_self\" href='#Creación_manual_de_excepciones'>Creación manual de excepciones: `raise`</a>"
   ]
  },
  {
   "cell_type": "markdown",
   "metadata": {},
   "source": [
    "***\n",
    "<a id='Tipos_de_errores_de_programación'></a>"
   ]
  },
  {
   "cell_type": "markdown",
   "metadata": {},
   "source": [
    "## Tipos de errores de programación\n",
    "Al programar es normal cometer errores, que son básicamente de tres tipos:\n",
    "\n",
    "- **Sintácticos**: el código escrito no conforma una expresión válida en Python y es el propio intérprete el que lanza el aviso con el error detectado. Suelen ser fáciles de corregir.   \n",
    "- **Errores en tiempo de ejecución** (**Runtime errors**): el código es correcto, pero, en ocasiones, al ejecutarse, el programa falla. \n",
    "    - Estos errores son fáciles de corregir si el programador detecta el error en la *fase de desarrollo*, ya que el intérprete lanza una **excepción**. Como veremos enseguida, Python tiene herramientas para que podamos **manejar** adecuadamente estos casos excepcionales. \n",
    "    - En caso contrario, si el error surge con el programa ya *en producción*, entonces los efectos pueden ser catastróficos y reputacionalmente graves.\n",
    "- **Semánticos**: el código es correcto y el programa se ejecuta sin problemas, pero los resultados no son válidos. Son los errores más difíciles de detectar y/o corregir pues muchas veces el programador o cliente ni siquiera es consciente de que algo va mal.\n",
    "\n",
    "De los dos primeros hemos visto ya algún ejemplo. Seguro que a estas alturas habéis *padecido* bastantes del tercer tipo. Veamos algún ejemplo de error semántico."
   ]
  },
  {
   "cell_type": "code",
   "execution_count": null,
   "metadata": {},
   "outputs": [],
   "source": [
    "# Ejemplo 1 error semántico\n",
    "# Cálculo de la media de dos números\n",
    "x = 3.5\n",
    "y = 5.6\n",
    "\n",
    "media = x + y/2  # Necesitamos paréntesis para que la primera operación realizada no sea y/2"
   ]
  },
  {
   "cell_type": "code",
   "execution_count": null,
   "metadata": {},
   "outputs": [],
   "source": [
    "# Ejemplo 2 error semántico\n",
    "# Cálculo de área de un rectángulo\n",
    "lado1 = 3.5\n",
    "lado2 = 5.6\n",
    "\n",
    "area = lado1*lado1  # Inadvertidamente hemos usado dos veces lado1"
   ]
  },
  {
   "cell_type": "code",
   "execution_count": null,
   "metadata": {},
   "outputs": [],
   "source": [
    "# Ejemplo 3 error semántico\n",
    "# Deseamos que una expresión sea True si un valor entero no está en el intervalo 0 <= valor <=3 \n",
    "valor = 4\n",
    "resultado = valor < 0 and valor > 3  # La conectiva lógica correcta es or"
   ]
  },
  {
   "cell_type": "code",
   "execution_count": null,
   "metadata": {},
   "outputs": [],
   "source": [
    "# Ejemplo 4 error semántico\n",
    "# Calculamos la media de una serie de valores en una lista\n",
    "lista = [1, 3, 5, 2, 4]\n",
    "media = 1  # Media está incorrectamente inicializado. Debe ser media = 0\n",
    "for x in lista:\n",
    "    media += x\n",
    "media /= len(lista)"
   ]
  },
  {
   "cell_type": "markdown",
   "metadata": {},
   "source": [
    "***\n",
    "<a id='Errores_en_tiempo_de_ejecución'></a>"
   ]
  },
  {
   "cell_type": "markdown",
   "metadata": {},
   "source": [
    "## Errores en tiempo de ejecución\n",
    "Dentro del conjunto de tipos de **errores en tiempo de ejecución** que dan lugar a una **excepción**, están aquellos cuyo origen es debido al uso de un **tipado dinámico** por parte de Python.\n",
    "\n",
    "Por ejemplo:\n",
    "* Realización de una operación incompatible entre datos de tipos diferentes, excepción `TypeError`.\n",
    "* Utilizar un identificador en una expresión que aún no está definido, excepción `NameError`.\n",
    "\n",
    "De hecho, en un lenguaje con **tipado estático**, como C/C++, estos errores serían burdos **errores sintácticos** detectados en fase de compilación. Algunos de estos errores, en especial los del segundo tipo, son fácilmente resolubles."
   ]
  },
  {
   "cell_type": "code",
   "execution_count": 1,
   "metadata": {
    "tags": [
     "raises-exception"
    ]
   },
   "outputs": [
    {
     "ename": "TypeError",
     "evalue": "unsupported operand type(s) for +: 'int' and 'str'",
     "output_type": "error",
     "traceback": [
      "\u001b[1;31m---------------------------------------------------------------------------\u001b[0m",
      "\u001b[1;31mTypeError\u001b[0m                                 Traceback (most recent call last)",
      "\u001b[1;32m~\\AppData\\Local\\Temp\\ipykernel_5000\\4002938152.py\u001b[0m in \u001b[0;36m<module>\u001b[1;34m\u001b[0m\n\u001b[0;32m      1\u001b[0m \u001b[1;31m# Error: Tipos incompatibles, excepción TypeError\u001b[0m\u001b[1;33m\u001b[0m\u001b[1;33m\u001b[0m\u001b[0m\n\u001b[0;32m      2\u001b[0m \u001b[0mx\u001b[0m \u001b[1;33m=\u001b[0m \u001b[1;36m3\u001b[0m\u001b[1;33m\u001b[0m\u001b[1;33m\u001b[0m\u001b[0m\n\u001b[1;32m----> 3\u001b[1;33m \u001b[0mx\u001b[0m \u001b[1;33m+\u001b[0m \u001b[1;34m'2'\u001b[0m\u001b[1;33m\u001b[0m\u001b[1;33m\u001b[0m\u001b[0m\n\u001b[0m",
      "\u001b[1;31mTypeError\u001b[0m: unsupported operand type(s) for +: 'int' and 'str'"
     ]
    }
   ],
   "source": [
    "# Error: Tipos incompatibles, excepción TypeError\n",
    "x = 3\n",
    "x + '2'"
   ]
  },
  {
   "cell_type": "code",
   "execution_count": 2,
   "metadata": {
    "tags": [
     "raises-exception"
    ]
   },
   "outputs": [
    {
     "ename": "NameError",
     "evalue": "name 'b' is not defined",
     "output_type": "error",
     "traceback": [
      "\u001b[1;31m---------------------------------------------------------------------------\u001b[0m",
      "\u001b[1;31mNameError\u001b[0m                                 Traceback (most recent call last)",
      "\u001b[1;32m~\\AppData\\Local\\Temp\\ipykernel_5000\\3076957313.py\u001b[0m in \u001b[0;36m<module>\u001b[1;34m\u001b[0m\n\u001b[0;32m      1\u001b[0m \u001b[1;31m# Error: Identificador no definido, excepción NameError\u001b[0m\u001b[1;33m\u001b[0m\u001b[1;33m\u001b[0m\u001b[0m\n\u001b[1;32m----> 2\u001b[1;33m \u001b[0ma\u001b[0m \u001b[1;33m=\u001b[0m \u001b[0mb\u001b[0m \u001b[1;33m+\u001b[0m \u001b[1;36m1\u001b[0m\u001b[1;33m\u001b[0m\u001b[1;33m\u001b[0m\u001b[0m\n\u001b[0m",
      "\u001b[1;31mNameError\u001b[0m: name 'b' is not defined"
     ]
    }
   ],
   "source": [
    "# Error: Identificador no definido, excepción NameError\n",
    "a = b + 1"
   ]
  },
  {
   "cell_type": "markdown",
   "metadata": {},
   "source": [
    "Hay otras muchas situaciones **excepcionales** que pueden generar un error en tiempo de ejecución. Por ejemplo:\n",
    "* el usuario introduce datos con formato incorrecto\n",
    "* se intenta realizar una operación indeterminada, como $x/0$, $0/0$, etc.\n",
    "* se intenta acceder a un archivo inexistente\n",
    "\n",
    "Para ver cómo **manejar las excepciones** (**handling exceptions**) en Python, vamos a utilizar un ejemplo sencillo: una división que eventualmente genere la excepción `ZeroDivisionError` si el usuario utiliza como denominador un `0`."
   ]
  },
  {
   "cell_type": "code",
   "execution_count": 3,
   "metadata": {
    "tags": [
     "raises-exception"
    ]
   },
   "outputs": [
    {
     "ename": "ZeroDivisionError",
     "evalue": "division by zero",
     "output_type": "error",
     "traceback": [
      "\u001b[1;31m---------------------------------------------------------------------------\u001b[0m",
      "\u001b[1;31mZeroDivisionError\u001b[0m                         Traceback (most recent call last)",
      "\u001b[1;32m~\\AppData\\Local\\Temp\\ipykernel_5000\\3050405218.py\u001b[0m in \u001b[0;36m<module>\u001b[1;34m\u001b[0m\n\u001b[0;32m      1\u001b[0m \u001b[0mnumerador\u001b[0m \u001b[1;33m=\u001b[0m \u001b[1;36m5\u001b[0m\u001b[1;33m\u001b[0m\u001b[1;33m\u001b[0m\u001b[0m\n\u001b[0;32m      2\u001b[0m \u001b[0mdenominador\u001b[0m \u001b[1;33m=\u001b[0m \u001b[1;36m0\u001b[0m\u001b[1;33m\u001b[0m\u001b[1;33m\u001b[0m\u001b[0m\n\u001b[1;32m----> 3\u001b[1;33m \u001b[0mcociente\u001b[0m \u001b[1;33m=\u001b[0m \u001b[0mnumerador\u001b[0m\u001b[1;33m/\u001b[0m\u001b[0mdenominador\u001b[0m\u001b[1;33m\u001b[0m\u001b[1;33m\u001b[0m\u001b[0m\n\u001b[0m\u001b[0;32m      4\u001b[0m \u001b[1;33m\u001b[0m\u001b[0m\n\u001b[0;32m      5\u001b[0m \u001b[0mprint\u001b[0m\u001b[1;33m(\u001b[0m\u001b[1;34mf'{numerador}/{denominador} = {cociente}'\u001b[0m\u001b[1;33m)\u001b[0m\u001b[1;33m\u001b[0m\u001b[1;33m\u001b[0m\u001b[0m\n",
      "\u001b[1;31mZeroDivisionError\u001b[0m: division by zero"
     ]
    }
   ],
   "source": [
    "numerador = 5\n",
    "denominador = 0\n",
    "cociente = numerador/denominador\n",
    "\n",
    "print(f'{numerador}/{denominador} = {cociente}')"
   ]
  },
  {
   "cell_type": "markdown",
   "metadata": {},
   "source": [
    "Veamos dos alternativas para *atacar* el problema de los errores en tiempo de ejecución:\n",
    "* El enfoque **Piensa antes de actuar**\n",
    "* El enfoque **Es más sencillo pedir perdón que pedir permiso**"
   ]
  },
  {
   "cell_type": "markdown",
   "metadata": {},
   "source": [
    "### El enfoque \"*Piensa antes de actuar*\"\n",
    "\n",
    "El enfoque **Piensa antes de actuar** (**LBYL**, **L**ook **B**efore **Y**ou **L**eap) preconiza la realización **anticipada** de pruebas explícitas para determinar si se satisfacen las condiciones que evitan la aparición de errores. \n",
    "\n",
    "Veámoslo con nuestro ejemplo:"
   ]
  },
  {
   "cell_type": "code",
   "execution_count": 6,
   "metadata": {},
   "outputs": [
    {
     "name": "stdout",
     "output_type": "stream",
     "text": [
      "Error: el denominador es nulo\n"
     ]
    }
   ],
   "source": [
    "numerador = 5\n",
    "denominador = 0\n",
    "\n",
    "if denominador != 0:\n",
    "    cociente = numerador/denominador\n",
    "    print(f'{numerador}/{denominador} = {cociente}')\n",
    "else:\n",
    "    print('Error: el denominador es nulo')"
   ]
  },
  {
   "cell_type": "markdown",
   "metadata": {},
   "source": [
    "### El enfoque \"*Es más sencillo pedir perdón que pedir permiso*\"\n",
    "\n",
    "El enfoque **Es más sencillo pedir perdón que pedir permiso** (**EAFP**, **E**asier to **A**sk **F**orgiveness than **P**ermission) promueve que, por regla general, es mejor **probar** (**try**) directamente la ejecución de las sentencias (_no pedir permiso_) y, para los casos excepcionales, **capturar** (**catch**) el error (_pedir perdón_).\n",
    "\n",
    "Este enfoque es el considerado *pitónico*. El aspecto clave para preferir este enfoque sobre el anterior está en usarlo para tratar los casos **excepcionales**, que previsiblemente se producirán con **baja frecuencia**.\n",
    "> En nuestro ejemplo, cualquier usuario sabe que no está definida la división por 0, por lo que no tiene mucho sentido, salvo por despiste, que utilice un denominador nulo.\n",
    "\n",
    "El enfoque **EAFP** se realiza fácilmente con la **estructura condicional** `try ... except`."
   ]
  },
  {
   "cell_type": "markdown",
   "metadata": {},
   "source": [
    "***\n",
    "<a id='La_estructura_condicional_try_except'></a>"
   ]
  },
  {
   "cell_type": "markdown",
   "metadata": {},
   "source": [
    "## La estructura condicional `try ... except`\n",
    "La **estructura condicional** `try ... except` es:\n",
    "```python\n",
    "try:\n",
    "    # Probamos nuestro código\n",
    "except TipoDeExcepcion:\n",
    "    # Tratamos la excepción TipoDeExcepcion si ha sido capturada en el bloque try\n",
    "```\n",
    "\n",
    "La estructura condicional `try ... except` funciona del siguiente modo:\n",
    "* El bloque `try` se ejecuta (*no pedimos permiso* para ejecutar las sentencias).\n",
    "* Si no se produce ninguna excepción, se salta el bloque o bloques `except`.\n",
    "* Si al ejecutar alguna de las sentencias del bloque `try` se produce una excepción, **el resto de sentencias** del bloque ``try`` **se ignoran**.\n",
    "* Si el bloque `try` ha lanzado una excepción y su **tipo** coincide con alguna de las contempladas en un bloque `except`, tratamos la excepción ejecutando únicamente las sentencias de ese bloque (*pedimos perdón* por el error cometido). \n",
    "* Si el tipo de la excepción no coincide con ninguna de las contempladas se reenvía a otro posible bloque `try` más externo que contenga a éste o, de no existir, se detiene la ejecución con el mensaje correspondiente."
   ]
  },
  {
   "cell_type": "markdown",
   "metadata": {},
   "source": [
    "En la siguiente celda, el usuario debe introducir los valores por teclado:"
   ]
  },
  {
   "cell_type": "code",
   "execution_count": 1,
   "metadata": {
    "tags": [
     "remove-output",
     "raises-exception"
    ]
   },
   "outputs": [
    {
     "name": "stdout",
     "output_type": "stream",
     "text": [
      "Error: el denominador es nulo\n"
     ]
    }
   ],
   "source": [
    "numerador = float(input('Dame el numerador:'))\n",
    "denominador = float(input('Dame el denominador:'))\n",
    "\n",
    "try:\n",
    "    cociente = numerador/denominador\n",
    "    print(f'{numerador}/{denominador} = {cociente}')\n",
    "except ZeroDivisionError:\n",
    "    print('Error: el denominador es nulo')"
   ]
  },
  {
   "cell_type": "markdown",
   "metadata": {},
   "source": [
    "El código anterior no está exento de otro tipo de errores, imputables al usuario. Así, en lugar de un valor numérico en alguno de los dos valores introducid, por ejemplo, `kk`.\n",
    "> En este caso saltará una excepción `ValueError`.\n",
    "\n",
    "Por tanto, dado que la introducción de datos está sujeta a posibles errores, podemos intentar también *manejarlos*.\n",
    "\n",
    "Veamos primero una solución con un enfoque **LBYL**. Para ello, necesitamos una función para **analizar** (**parse**) si los caracteres de las secuencias de entrada conforman un número válido, devolviéndonos en ese caso `True`. Esa función, que podría llamarse `isfloat()`, no existe de forma nativa en Python y, como veremos enseguida, su existencia sería redundante.\n",
    "\n",
    "Una posible solución sería la siguiente, donde, en su caso, no identificamos qué cadena ha podido ser mal introducida:\n",
    "```python\n",
    "cad_num = input('Numerador: ')\n",
    "cad_den = input('Denominador: ')\n",
    "\n",
    "if isfloat(cad_num) and isfloat(cad_den):\n",
    "    numerador = float(cad_num)\n",
    "    denominador = float(cad_den)\n",
    "    if denominador != 0:\n",
    "        cociente = numerador/denominador\n",
    "        print(f'{numerador}/{denominador} = {cociente}')\n",
    "    else:\n",
    "        print('Error: el denominador es nulo')\n",
    "else:\n",
    "    print('Error: un valor introducido no es un número válido')\n",
    "```\n",
    "\n",
    "Veamos como el enfoque **EAFP** resuelve el problema de forma concisa y elegante:"
   ]
  },
  {
   "cell_type": "code",
   "execution_count": 9,
   "metadata": {
    "tags": [
     "remove-output",
     "raises-exception"
    ]
   },
   "outputs": [
    {
     "name": "stdout",
     "output_type": "stream",
     "text": [
      "Error: el valor introducido no es un número válido\n"
     ]
    }
   ],
   "source": [
    "try:\n",
    "    numerador = float(input('Numerador: '))\n",
    "    denominador = float(input('Denominador: '))\n",
    "    cociente = numerador/denominador\n",
    "    print(f'{numerador}/{denominador} = {cociente}')\n",
    "except ZeroDivisionError:\n",
    "    print('Error: el denominador es nulo')\n",
    "except ValueError:\n",
    "    print('Error: el valor introducido no es un número válido')"
   ]
  },
  {
   "cell_type": "markdown",
   "metadata": {},
   "source": [
    "### Bloque `except` _desnudo_\n",
    "Sintácticamente es factible usar un bloque `except` sin especificar el tipo de excepción. Sin embargo, es una práctica desaconsejada porque capturamos todos los errores sean de la naturaleza que sean, ocultándonos incluso aquellos de los que no somos conscientes en el momento de hacer el programa y que, quizás, necesiten de un manejo especializado."
   ]
  },
  {
   "cell_type": "code",
   "execution_count": 11,
   "metadata": {
    "tags": [
     "raises-exception",
     "remove-output"
    ]
   },
   "outputs": [
    {
     "name": "stdout",
     "output_type": "stream",
     "text": [
      "Ocurrió un error\n"
     ]
    }
   ],
   "source": [
    "# ¡No utilices nunca un bloque except desnudo!\n",
    "try:\n",
    "    numerador = float(input('Numerador: '))\n",
    "    denominador = float(input('Denominador: '))\n",
    "    cociente = numerador/denominador\n",
    "    print(f'{numerador}/{denominador} = {cociente}')\n",
    "except:\n",
    "    print('Ocurrió un error')"
   ]
  },
  {
   "cell_type": "markdown",
   "metadata": {},
   "source": [
    "### `try ... except ... else ... finally`\n",
    "De forma adicional a `try ...except` tenemos dos palabras clave, `else` y `finally` que, **opcionalmente**, pueden facilitarnos  aún más el manejo de las excepciones.\n",
    "\n",
    "La estructura básica es:"
   ]
  },
  {
   "cell_type": "code",
   "execution_count": 2,
   "metadata": {
    "tags": [
     "remove-output"
    ]
   },
   "outputs": [
    {
     "name": "stdout",
     "output_type": "stream",
     "text": [
      "Probamos nuestro código susceptible de lanzar excepciones.\n",
      "Esta es la parte del programa que creemos que está libre de excepciones.\n",
      "Ocurra lo que ocurra, esta parte la ejecutamos siempre.\n"
     ]
    }
   ],
   "source": [
    "try:\n",
    "    print(\"Probamos nuestro código susceptible de lanzar excepciones.\")\n",
    "except:\n",
    "    print(\"Aquí tratamos las excepciones.\")\n",
    "else:\n",
    "    print(\"Esta es la parte del programa que creemos que está libre de excepciones.\")\n",
    "finally:\n",
    "    print(\"Ocurra lo que ocurra, esta parte la ejecutamos siempre.\")"
   ]
  },
  {
   "cell_type": "markdown",
   "metadata": {},
   "source": [
    "El objetivo del bloque `else` es separar claramente la zona que creemos susceptible de generar excepciones de la que está libre de ellas. Esto tiene una ventaja adicional en fase de desarrollo de un programa: si se produce una excepción no esperada del mismo tipo de las que ya manejamos en el bloque `try` no quedará enmascarada y podremos rehacer el código dándola el tratamiento adecuado.\n",
    "\n",
    "El bloque `finally` suele usarse para tareas de **limpieza** (**cleanup**), tales como cerrar recursos que se han abierto, por ejemplo, un fichero, o cualquier otro tipo de sentencias que es necesario ejecutar haya habido o no una excepción.\n",
    "\n",
    "Veamos nuestro ejemplo con estos nuevos elementos:"
   ]
  },
  {
   "cell_type": "code",
   "execution_count": 12,
   "metadata": {
    "tags": [
     "raises-exception",
     "remove-output"
    ]
   },
   "outputs": [
    {
     "name": "stdout",
     "output_type": "stream",
     "text": [
      "Error: el denominador es nulo\n",
      "\n",
      "Fin del programa.\n"
     ]
    }
   ],
   "source": [
    "try:\n",
    "    numerador = float(input('Numerador: '))\n",
    "    denominador = float(input('Denominador: '))\n",
    "    cociente = numerador/denominador\n",
    "except ZeroDivisionError:\n",
    "    print('Error: el denominador es nulo')\n",
    "except ValueError:\n",
    "    print('Error: el valor introducido no es un número válido')\n",
    "else:\n",
    "    print(f'{numerador}/{denominador} = {cociente}')\n",
    "finally:\n",
    "    print('\\nFin del programa.')"
   ]
  },
  {
   "cell_type": "markdown",
   "metadata": {},
   "source": [
    "Python genera de forma automática mensajes de error para los tipos de excepciones predefinidos. Si no tenemos una necesidad especial de lanzar nuestro propio mensaje es la mejor opción.\n",
    "\n",
    "Así, una forma aún más compacta de programar el ejemplo anterior sería:"
   ]
  },
  {
   "cell_type": "code",
   "execution_count": null,
   "metadata": {
    "tags": [
     "raises-exception",
     "remove-output"
    ]
   },
   "outputs": [],
   "source": [
    "try:\n",
    "    numerador = float(input('Numerador: '))\n",
    "    denominador = float(input('Denominador: '))\n",
    "    cociente = numerador/denominador\n",
    "except (ZeroDivisionError, ValueError) as error: \n",
    "    print(error)\n",
    "else:\n",
    "    print(f'{numerador}/{denominador} = {cociente}')\n",
    "finally:\n",
    "    print('\\nFin del programa.')"
   ]
  },
  {
   "cell_type": "markdown",
   "metadata": {},
   "source": [
    "En el ejemplo anterior, ``error`` es una variable. Podríamos llamarla ``e``, ``err``, etc.\n",
    "\n",
    "En la sintaxis `except (TipoDeError_1, ..., TipoDeError_n) as error`, la cadena de caracteres `error` toma como valor el mensaje de error que Python asocia de forma automática al `TipoDeError` que ha generado la excepción."
   ]
  },
  {
   "cell_type": "markdown",
   "metadata": {},
   "source": [
    "En los ejemplos previos, el bloque `except` se limita a lanzar un mensaje de error. Obviamente este bloque puede ocuparse de muchos más aspectos relativos a tratar los problemas derivados de la excepción. \n",
    "\n",
    "No debemos perder de vista que **manejando la excepción evitamos que se detenga la ejecución del programa** de forma intempestiva.\n",
    "\n",
    "Así, en la siguiente variante, mediante un bucle, volvemos a solicitar al usuario los valores mientras estos no sean válidos."
   ]
  },
  {
   "cell_type": "code",
   "execution_count": 14,
   "metadata": {
    "tags": [
     "raises-exception",
     "remove-output"
    ]
   },
   "outputs": [
    {
     "name": "stdout",
     "output_type": "stream",
     "text": [
      "Introduzca un numerador y un denominador:\n",
      "Se ha producido el error: 'float division by zero'.\n",
      "Por favor, vuelva a introducir los valores:\n",
      "5.0/3.0 = 1.6666666666666667\n"
     ]
    }
   ],
   "source": [
    "print('Introduzca un numerador y un denominador:')\n",
    "while True:\n",
    "    try:\n",
    "        numerador = float(input('Numerador: '))\n",
    "        denominador = float(input('Denominador: '))\n",
    "        cociente = numerador/denominador\n",
    "    except (ZeroDivisionError, ValueError) as error: \n",
    "        print(f'Se ha producido el error: \\'{error}\\'.')\n",
    "        print('Por favor, vuelva a introducir los valores:')\n",
    "    else:\n",
    "        print(f'{numerador}/{denominador} = {cociente}')\n",
    "        break"
   ]
  },
  {
   "cell_type": "markdown",
   "metadata": {},
   "source": [
    "Una posible ejecución del fragmento anterior sería:\n",
    "```python\n",
    "Introduzca un numerador y un denominador:\n",
    "Numerador: xx\n",
    "Se ha producido el error: 'could not convert string to float: 'xx''.\n",
    "Por favor, vuelva a introducir los valores:\n",
    "Numerador: 5\n",
    "Denominador: 0\n",
    "Se ha producido el error: 'float division by zero'.\n",
    "Por favor, vuelva a introducir los valores:\n",
    "Numerador: 5\n",
    "Denominador: 4\n",
    "5.0/4.0 = 1.25\n",
    "```"
   ]
  },
  {
   "cell_type": "markdown",
   "metadata": {},
   "source": [
    "***\n",
    "<a id='Creación_manual_de_excepciones'></a>"
   ]
  },
  {
   "cell_type": "markdown",
   "metadata": {},
   "source": [
    "## Creación manual de excepciones: `raise`\n",
    "Muchos de los ejemplos de temas previos se ejecutan correctamente si utilizamos *entradas legítimas*. \n",
    "\n",
    "Analicemos de nuevo el ejemplo de determinar si un número es primo, pero ahora contemplando la posibilidad excepcional de que el usuario introduzca un entero negativo o nulo."
   ]
  },
  {
   "cell_type": "code",
   "execution_count": 18,
   "metadata": {
    "tags": [
     "remove-output",
     "raises-exception"
    ]
   },
   "outputs": [
    {
     "name": "stdout",
     "output_type": "stream",
     "text": [
      "El número -3 es primo\n"
     ]
    }
   ],
   "source": [
    "# Determina si un número entero es primo. (Versión 1)\n",
    "numero = int(input('Deme un entero positivo mayor que 1: '))\n",
    "\n",
    "es_primo = True  # Variable centinela o bandera\n",
    "for div in range(2, numero):\n",
    "    if numero % div == 0:\n",
    "        es_primo = False\n",
    "        break\n",
    "\n",
    "if es_primo:\n",
    "    print(f'El número {numero} es primo')\n",
    "else:\n",
    "    print(f'El número {numero} no es primo')"
   ]
  },
  {
   "cell_type": "markdown",
   "metadata": {},
   "source": [
    "Por ejemplo, si introducimos ``-3``, el resultado es incorrecto. Es un **error semántico** inducido por una errónea utilización del programa por parte de un usuario. Este tipo de situaciones es frecuente incluso en programas comerciales y, a veces, las consecuencias son funestas. Por supuesto, si introducimos el valor `kk` tendremos un **error en tiempo de ejecución**.\n",
    "\n",
    "La creación de un programa robusto frente a todas las posibles entradas, es una de las facetas de la **programación defensiva**. Muchas veces, al programar nos centramos en los aspectos algorítmicos de un problema, pero más tarde es necesario ir progresivamente **refinando el código**. La realización de **programas de prueba** en paralelo que nos permitan testar nuestro código es otra faceta indispensable en la ingeniería del software.\n",
    "\n",
    "Por ejemplo, la inclusión en el siguiente código del condicional que exige que el número sea mayor que uno, corrige el error semántico y la inclusión de `try ... except` evita formatos de entrada incorrectos."
   ]
  },
  {
   "cell_type": "code",
   "execution_count": 19,
   "metadata": {
    "tags": [
     "raises-exception",
     "remove-output"
    ]
   },
   "outputs": [
    {
     "name": "stdout",
     "output_type": "stream",
     "text": [
      "El entero debe ser igual o mayor que 2\n"
     ]
    }
   ],
   "source": [
    "# Determina si un número entero es primo. Manejo de excepciones. (Versión 2)\n",
    "\n",
    "try:\n",
    "    numero = int(input('Deme un entero positivo mayor que 1: '))\n",
    "except ValueError:\n",
    "    print(\"El valor introducido no es numérico.\")\n",
    "else:\n",
    "    if numero >= 2:  # Solventamos el error semántico\n",
    "        es_primo = True\n",
    "        for div in range(2, numero):\n",
    "            if numero % div == 0:\n",
    "                es_primo = False\n",
    "                break\n",
    "\n",
    "        if es_primo:\n",
    "            print(f'El número {numero} es primo')\n",
    "        else:\n",
    "            print(f'El número {numero} no es primo')\n",
    "    else:\n",
    "        print(\"El entero debe ser igual o mayor que 2\")"
   ]
  },
  {
   "cell_type": "markdown",
   "metadata": {},
   "source": [
    "El hecho de que el usuario introduzca un valor menor que 2 para calcular un número primo podemos considerarlo claramente como un caso excepcional: es un error que es lógico esperar que se produzca con poca frecuencia. Entonces, ¿podríamos **forzar** (**levantar**, **raise**) que se genere esta\n",
    "excepción **manualmente**? La respuesta es sí: con la sentencia `raise`. \n",
    "\n",
    "Veámosla en acción en el siguiente ejemplo. En este caso, se omite el bloque ``else`` sacándolo fuera del bucle ``while``."
   ]
  },
  {
   "cell_type": "code",
   "execution_count": 20,
   "metadata": {
    "tags": [
     "raises-exception",
     "remove-output"
    ]
   },
   "outputs": [
    {
     "name": "stdout",
     "output_type": "stream",
     "text": [
      "Se ha producido el error: 'invalid literal for int() with base 10: 'kk''.\n",
      "Por favor, vuelva a introducir el valor.\n",
      "El número 23 es primo\n"
     ]
    }
   ],
   "source": [
    "# Determina si un número entero es primo. Manejo de excepciones con raise. (Versión 3)\n",
    "\n",
    "while True:\n",
    "    try:\n",
    "        numero = int(input('Deme un entero positivo mayor que 1: '))\n",
    "        if numero < 2:\n",
    "            raise ValueError('El entero debe ser igual o mayor que 2.')\n",
    "        break  # Si ha llegado aquí, no se ha producido ninguna excepción\n",
    "    except ValueError as error: \n",
    "        print(f'Se ha producido el error: \\'{error}\\'.')\n",
    "        print('Por favor, vuelva a introducir el valor.')\n",
    "\n",
    "# A partir de aquí sabemos que estamos exentos de las excepciones contempladas\n",
    "es_primo = True\n",
    "for div in range(2, numero):\n",
    "    if numero % div == 0:\n",
    "        es_primo = False\n",
    "        break\n",
    "\n",
    "if es_primo:\n",
    "    print(f'El número {numero} es primo')\n",
    "else:\n",
    "    print(f'El número {numero} no es primo')"
   ]
  },
  {
   "cell_type": "markdown",
   "metadata": {},
   "source": [
    "Una posible ejecución del fragmento anterior sería:\n",
    "```python\n",
    "Deme un entero positivo mayor que 1: kk\n",
    "Se ha producido el error: 'invalid literal for int() with base 10: 'kk''.\n",
    "Por favor, vuelva a introducir el valor.\n",
    "Deme un entero positivo mayor que 1: -3\n",
    "Se ha producido el error: 'El entero debe ser igual o mayor que 2.'.\n",
    "Por favor, vuelva a introducir el valor.\n",
    "Deme un entero positivo mayor que 1: 97\n",
    "El número 97 es primo\n",
    "```"
   ]
  },
  {
   "cell_type": "markdown",
   "metadata": {},
   "source": [
    "Un formato habitual para forzar manualmente una excepción es `raise TipoDeError(mensaje)`. Aunque un programador puede personalizar sus propios *tipos de error*, lo recomendable es comprobar si alguno de los [tipos de excepción nativos de Python](https://docs.python.org/3/library/exceptions.html#bltin-exceptions) se ajusta al tipo de error que queremos lanzar. Así, en nuestro ejemplo, parece lógico catalogar el error que puede cometer el usuario al introducir un valor no contemplado como del tipo `ValueError`.\n",
    "\n",
    "El `mensaje` que ponemos como argumento es el que se mostrará cuando `except` trate la excepción. En este caso, con la sintaxis `except TipoDeError as error` la variable `error` toma como valor la cadena de caracteres `mensaje` que hemos asociado al `TipoDeError`. \n",
    "\n",
    ">En el ejemplo, tenemos dos posibles fuentes de excepciones `ValueError`. Una forzada con nuestro mensaje personalizado y la otra automática si el usuario introduce un valor que no se corresponde con un entero. El mensaje asociado a esta última también se genera de forma automática. ¡Comprobadlo!"
   ]
  }
 ],
 "metadata": {
  "anaconda-cloud": {},
  "celltoolbar": "Tags",
  "kernelspec": {
   "display_name": "Python 3.9.7 ('base')",
   "language": "python",
   "name": "python3"
  },
  "language_info": {
   "codemirror_mode": {
    "name": "ipython",
    "version": 3
   },
   "file_extension": ".py",
   "mimetype": "text/x-python",
   "name": "python",
   "nbconvert_exporter": "python",
   "pygments_lexer": "ipython3",
   "version": "3.11.4"
  },
  "nbpresent": {
   "slides": {
    "1390653e-bdb6-444a-b611-39c60ffb77a1": {
     "id": "1390653e-bdb6-444a-b611-39c60ffb77a1",
     "prev": "5c2c8cc8-3676-4c06-b94c-d3f866ade69b",
     "regions": {
      "620813b3-9326-41e6-9d30-f5ac4f858225": {
       "attrs": {
        "height": 0.8,
        "width": 0.8,
        "x": 0.1,
        "y": 0.1
       },
       "content": {
        "cell": "86423d42-e808-47e6-b1a7-e925e195f821",
        "part": "whole"
       },
       "id": "620813b3-9326-41e6-9d30-f5ac4f858225"
      }
     }
    },
    "21036f68-a492-4532-a832-b213435c0ad2": {
     "id": "21036f68-a492-4532-a832-b213435c0ad2",
     "prev": "2c1c7f11-e5ee-4a25-8975-f0b033ba739a",
     "regions": {
      "a3908958-0784-4faa-ac97-b9325abe8ede": {
       "attrs": {
        "height": 0.8,
        "width": 0.8,
        "x": 0.1,
        "y": 0.1
       },
       "content": {
        "cell": "9aa64747-dc13-4bd9-bf26-73606628ad1c",
        "part": "whole"
       },
       "id": "a3908958-0784-4faa-ac97-b9325abe8ede"
      }
     }
    },
    "2c1c7f11-e5ee-4a25-8975-f0b033ba739a": {
     "id": "2c1c7f11-e5ee-4a25-8975-f0b033ba739a",
     "prev": "f3f10f50-4cad-4149-b308-c66e6a493a72",
     "regions": {
      "9e2d820e-ec17-4915-b960-0e0d5f640379": {
       "attrs": {
        "height": 0.8,
        "width": 0.8,
        "x": 0.1,
        "y": 0.1
       },
       "content": {
        "cell": "0281a659-abae-4cb9-b30f-b552b9db399e",
        "part": "whole"
       },
       "id": "9e2d820e-ec17-4915-b960-0e0d5f640379"
      }
     }
    },
    "30509a9a-dbd8-4dbd-9fab-852a7266d894": {
     "id": "30509a9a-dbd8-4dbd-9fab-852a7266d894",
     "prev": "8b078b7a-c2c6-4129-a19f-2a4f5c4a26f3",
     "regions": {
      "7baa4379-8f84-4d8f-b002-5a5ffd051489": {
       "attrs": {
        "height": 0.8,
        "width": 0.8,
        "x": 0.1,
        "y": 0.1
       },
       "content": {
        "cell": "14d1a927-b37f-4323-9404-17d453f3b487",
        "part": "whole"
       },
       "id": "7baa4379-8f84-4d8f-b002-5a5ffd051489"
      }
     }
    },
    "42d1bd80-265e-4acf-bbc1-b202afddade3": {
     "id": "42d1bd80-265e-4acf-bbc1-b202afddade3",
     "prev": "9bfe6214-4631-45b5-a05e-8923f178bb57",
     "regions": {
      "f2340145-4108-4fed-a0bc-4b91ca6c10ae": {
       "attrs": {
        "height": 0.8,
        "width": 0.8,
        "x": 0.1,
        "y": 0.1
       },
       "content": {
        "cell": "80be6133-d85a-4e43-9964-6578abcbaaac",
        "part": "whole"
       },
       "id": "f2340145-4108-4fed-a0bc-4b91ca6c10ae"
      }
     }
    },
    "5c2c8cc8-3676-4c06-b94c-d3f866ade69b": {
     "id": "5c2c8cc8-3676-4c06-b94c-d3f866ade69b",
     "prev": "6c4bc874-f3fc-472c-a81c-cd415b91c24b",
     "regions": {
      "e1de7ab6-4ef2-4b14-92d7-b174bf32806e": {
       "attrs": {
        "height": 0.8,
        "width": 0.8,
        "x": 0.1,
        "y": 0.1
       },
       "content": {
        "cell": "ae8725fa-30f7-4d7f-a2c2-5f86953d730b",
        "part": "whole"
       },
       "id": "e1de7ab6-4ef2-4b14-92d7-b174bf32806e"
      }
     }
    },
    "5cab5674-74dc-4378-93d7-eaa79e90cdae": {
     "id": "5cab5674-74dc-4378-93d7-eaa79e90cdae",
     "prev": "ba274d18-2760-4e55-ad47-2727b824fd00",
     "regions": {
      "2178d7cf-bf1e-4850-95a2-1509f15febfa": {
       "attrs": {
        "height": 0.8,
        "width": 0.8,
        "x": 0.1,
        "y": 0.1
       },
       "content": {
        "cell": "5d433d13-f44a-45bb-91fd-406f60b33b67",
        "part": "whole"
       },
       "id": "2178d7cf-bf1e-4850-95a2-1509f15febfa"
      }
     }
    },
    "638df7e1-84d1-4fd4-a15c-c94b731d1bea": {
     "id": "638df7e1-84d1-4fd4-a15c-c94b731d1bea",
     "prev": "b9dddf99-da24-46e1-81d4-8ac33b6fc3a3",
     "regions": {
      "deba8b1f-d997-4426-8f1b-978df7f19b41": {
       "attrs": {
        "height": 0.8,
        "width": 0.8,
        "x": 0.1,
        "y": 0.1
       },
       "content": {
        "cell": "7adaaf8f-a83e-456b-b99a-d3b3d4cb6d1a",
        "part": "whole"
       },
       "id": "deba8b1f-d997-4426-8f1b-978df7f19b41"
      }
     }
    },
    "6bda9eb4-0724-4e53-9971-131d0cb5f9e2": {
     "id": "6bda9eb4-0724-4e53-9971-131d0cb5f9e2",
     "prev": "ee33e624-cd65-4b8c-b28b-c95623a56dbf",
     "regions": {
      "feffbbd2-27d1-4318-8359-7d57583ee2bc": {
       "attrs": {
        "height": 0.8,
        "width": 0.8,
        "x": 0.1,
        "y": 0.1
       },
       "content": {
        "cell": "8dce188c-36b7-41fa-9020-b5cb5502e452",
        "part": "whole"
       },
       "id": "feffbbd2-27d1-4318-8359-7d57583ee2bc"
      }
     }
    },
    "6c4bc874-f3fc-472c-a81c-cd415b91c24b": {
     "id": "6c4bc874-f3fc-472c-a81c-cd415b91c24b",
     "prev": null,
     "regions": {
      "c9eac7e8-d033-4b03-8bf7-abd58ffe8d41": {
       "attrs": {
        "height": 0.8,
        "width": 0.8,
        "x": 0.1,
        "y": 0.1
       },
       "content": {
        "cell": "71219fc3-c9cb-4700-9f0b-ab38b1b223da",
        "part": "whole"
       },
       "id": "c9eac7e8-d033-4b03-8bf7-abd58ffe8d41"
      }
     }
    },
    "6d7ab34f-9d99-4c74-9877-27b25abc73f0": {
     "id": "6d7ab34f-9d99-4c74-9877-27b25abc73f0",
     "prev": "febe7de9-9362-4079-bfe9-2d4dfddf00e2",
     "regions": {
      "2ee252de-db5f-43e7-b4b7-7f59bba29962": {
       "attrs": {
        "height": 0.8,
        "width": 0.8,
        "x": 0.1,
        "y": 0.1
       },
       "content": {
        "cell": "85d1ab90-cc65-4935-808b-a6f57ecc892e",
        "part": "whole"
       },
       "id": "2ee252de-db5f-43e7-b4b7-7f59bba29962"
      }
     }
    },
    "7ea582c3-439d-4ec2-9f27-dea18bcacc31": {
     "id": "7ea582c3-439d-4ec2-9f27-dea18bcacc31",
     "prev": "f0727a74-61a1-48c1-94a5-3e7490c29f0b",
     "regions": {
      "652960af-b61f-4c36-b122-3eacd714867b": {
       "attrs": {
        "height": 0.8,
        "width": 0.8,
        "x": 0.1,
        "y": 0.1
       },
       "content": {
        "cell": "86172e20-fe16-447d-859f-24a81e563011",
        "part": "whole"
       },
       "id": "652960af-b61f-4c36-b122-3eacd714867b"
      }
     }
    },
    "8b078b7a-c2c6-4129-a19f-2a4f5c4a26f3": {
     "id": "8b078b7a-c2c6-4129-a19f-2a4f5c4a26f3",
     "prev": "5cab5674-74dc-4378-93d7-eaa79e90cdae",
     "regions": {
      "dce1e605-9342-414d-b8c6-7dcb922fbf47": {
       "attrs": {
        "height": 0.8,
        "width": 0.8,
        "x": 0.1,
        "y": 0.1
       },
       "content": {
        "cell": "ee1bdf03-6e13-4f1f-9dc9-22d4e344fdba",
        "part": "whole"
       },
       "id": "dce1e605-9342-414d-b8c6-7dcb922fbf47"
      }
     }
    },
    "999513ad-b53e-4d84-b9ef-ed37967f74d6": {
     "id": "999513ad-b53e-4d84-b9ef-ed37967f74d6",
     "prev": "638df7e1-84d1-4fd4-a15c-c94b731d1bea",
     "regions": {
      "2e85c1b2-3c30-413e-9b0f-141281da3a2a": {
       "attrs": {
        "height": 0.8,
        "width": 0.8,
        "x": 0.1,
        "y": 0.1
       },
       "content": {
        "cell": "998dc7f5-ab6d-4fb8-866f-4fa96a06aaaa",
        "part": "whole"
       },
       "id": "2e85c1b2-3c30-413e-9b0f-141281da3a2a"
      }
     }
    },
    "9add3d79-8621-4167-8e1d-d4ae48fba71b": {
     "id": "9add3d79-8621-4167-8e1d-d4ae48fba71b",
     "prev": "7ea582c3-439d-4ec2-9f27-dea18bcacc31",
     "regions": {
      "d5f4537e-4d8c-4179-b14b-6c475f50b04e": {
       "attrs": {
        "height": 0.8,
        "width": 0.8,
        "x": 0.1,
        "y": 0.1
       },
       "content": {
        "cell": "9659b1c1-9aed-4d71-b830-4a60d408ad71",
        "part": "whole"
       },
       "id": "d5f4537e-4d8c-4179-b14b-6c475f50b04e"
      }
     }
    },
    "9bfe6214-4631-45b5-a05e-8923f178bb57": {
     "id": "9bfe6214-4631-45b5-a05e-8923f178bb57",
     "prev": "30509a9a-dbd8-4dbd-9fab-852a7266d894",
     "regions": {
      "aac53254-d149-49f2-8f92-670c6f2714bb": {
       "attrs": {
        "height": 0.8,
        "width": 0.8,
        "x": 0.1,
        "y": 0.1
       },
       "content": {
        "cell": "c71a78d7-9d0e-4825-9c84-9998f971317d",
        "part": "whole"
       },
       "id": "aac53254-d149-49f2-8f92-670c6f2714bb"
      }
     }
    },
    "b9dddf99-da24-46e1-81d4-8ac33b6fc3a3": {
     "id": "b9dddf99-da24-46e1-81d4-8ac33b6fc3a3",
     "prev": "1390653e-bdb6-444a-b611-39c60ffb77a1",
     "regions": {
      "0b31dbb4-f15b-4a16-9420-c5dc8ed4e871": {
       "attrs": {
        "height": 0.8,
        "width": 0.8,
        "x": 0.1,
        "y": 0.1
       },
       "content": {
        "cell": "d0569bb0-fad8-48b7-8d48-0066bfb90401",
        "part": "whole"
       },
       "id": "0b31dbb4-f15b-4a16-9420-c5dc8ed4e871"
      }
     }
    },
    "ba274d18-2760-4e55-ad47-2727b824fd00": {
     "id": "ba274d18-2760-4e55-ad47-2727b824fd00",
     "prev": "ed47079d-58cf-4b87-a9fa-a709d8a7c3c6",
     "regions": {
      "13000b51-bd66-4fb5-970b-20bfad440880": {
       "attrs": {
        "height": 0.8,
        "width": 0.8,
        "x": 0.1,
        "y": 0.1
       },
       "content": {
        "cell": "f6847886-4044-43a7-9edd-f18efddcb7a9",
        "part": "whole"
       },
       "id": "13000b51-bd66-4fb5-970b-20bfad440880"
      }
     }
    },
    "ed47079d-58cf-4b87-a9fa-a709d8a7c3c6": {
     "id": "ed47079d-58cf-4b87-a9fa-a709d8a7c3c6",
     "prev": "9add3d79-8621-4167-8e1d-d4ae48fba71b",
     "regions": {
      "a96aea94-1714-4020-83f9-dbc03e9fd55e": {
       "attrs": {
        "height": 0.8,
        "width": 0.8,
        "x": 0.1,
        "y": 0.1
       },
       "content": {
        "cell": "5a579720-fa62-4525-85e3-dd049cbd73be",
        "part": "whole"
       },
       "id": "a96aea94-1714-4020-83f9-dbc03e9fd55e"
      }
     }
    },
    "ee33e624-cd65-4b8c-b28b-c95623a56dbf": {
     "id": "ee33e624-cd65-4b8c-b28b-c95623a56dbf",
     "prev": "999513ad-b53e-4d84-b9ef-ed37967f74d6",
     "regions": {
      "325ae98d-0855-4d16-8408-6d12f47efa24": {
       "attrs": {
        "height": 0.8,
        "width": 0.8,
        "x": 0.1,
        "y": 0.1
       },
       "content": {
        "cell": "829150e0-712b-4739-92d6-37b9c3d789cb",
        "part": "whole"
       },
       "id": "325ae98d-0855-4d16-8408-6d12f47efa24"
      }
     }
    },
    "f0727a74-61a1-48c1-94a5-3e7490c29f0b": {
     "id": "f0727a74-61a1-48c1-94a5-3e7490c29f0b",
     "prev": "6d7ab34f-9d99-4c74-9877-27b25abc73f0",
     "regions": {
      "1666081e-448d-4f80-90f2-9f26f1568cdc": {
       "attrs": {
        "height": 0.8,
        "width": 0.8,
        "x": 0.1,
        "y": 0.1
       },
       "content": {
        "cell": "d99a804c-9444-418b-bc94-3c2f064e2844",
        "part": "whole"
       },
       "id": "1666081e-448d-4f80-90f2-9f26f1568cdc"
      }
     }
    },
    "f3f10f50-4cad-4149-b308-c66e6a493a72": {
     "id": "f3f10f50-4cad-4149-b308-c66e6a493a72",
     "prev": "42d1bd80-265e-4acf-bbc1-b202afddade3",
     "regions": {
      "4fc1185f-bdb8-46fc-99bd-b8d30defeca9": {
       "attrs": {
        "height": 0.8,
        "width": 0.8,
        "x": 0.1,
        "y": 0.1
       },
       "content": {
        "cell": "9b7597e9-aaa9-4d9f-ba0d-22f43d1a3900",
        "part": "whole"
       },
       "id": "4fc1185f-bdb8-46fc-99bd-b8d30defeca9"
      }
     }
    },
    "febe7de9-9362-4079-bfe9-2d4dfddf00e2": {
     "id": "febe7de9-9362-4079-bfe9-2d4dfddf00e2",
     "prev": "6bda9eb4-0724-4e53-9971-131d0cb5f9e2",
     "regions": {
      "42348103-1cd6-4bac-b346-33cd41aea444": {
       "attrs": {
        "height": 0.8,
        "width": 0.8,
        "x": 0.1,
        "y": 0.1
       },
       "content": {
        "cell": "35a148d4-f201-4441-bf5e-8a07f93dea84",
        "part": "whole"
       },
       "id": "42348103-1cd6-4bac-b346-33cd41aea444"
      }
     }
    }
   },
   "themes": {}
  },
  "vscode": {
   "interpreter": {
    "hash": "e4cce46d6be9934fbd27f9ca0432556941ea5bdf741d4f4d64c6cd7f8dfa8fba"
   }
  }
 },
 "nbformat": 4,
 "nbformat_minor": 2
}
