{
 "cells": [
  {
   "cell_type": "code",
   "execution_count": null,
   "metadata": {
    "collapsed": true
   },
   "outputs": [],
   "source": []
  },
  {
   "cell_type": "markdown",
   "metadata": {
    "hideCode": true,
    "hideOutput": true,
    "hidePrompt": true
   },
   "source": [
    "# Presentación"
   ]
  },
  {
   "cell_type": "markdown",
   "metadata": {
    "hideCode": true,
    "hidePrompt": true
   },
   "source": [
    "<a target=\"_self\" href='#Introducción'>Introducción</a><br>\n",
    "<a target=\"_self\" href='#Instalación_y_consideraciones_prácticas'>Instalación y consideraciones prácticas</a><br>\n",
    "<a target=\"_self\" href='#El_Zen_de_Python'>El Zen de Python</a><br>\n",
    "<a target=\"_self\" href='#Cómo_ejecutar_código_Python'>Cómo ejecutar código Python</a>"
   ]
  },
  {
   "cell_type": "markdown",
   "metadata": {
    "hideCode": true,
    "hidePrompt": true
   },
   "source": [
    "***\n",
    "<a target=\"_self\" id='Introducción'></a>"
   ]
  },
  {
   "cell_type": "markdown",
   "metadata": {
    "hideCode": true,
    "hidePrompt": true
   },
   "source": [
    "## Introducción\n",
    "[**Python**](https://www.python.org) fue concebido a finales de los años 80 como un **lenguaje interpretado** orientado a la enseñanza. Con el paso del tiempo, **Python** se ha convertido en una herramienta esencial para todo tipo de programadores, ingenieros e investigadores, tanto en el ámbito académico como industrial.\n",
    "\n",
    "El creador del lenguaje fue el informático holandés [**Guido van Rossum**](https://en.wikipedia.org/wiki/Guido_van_Rossum), conocido durante muchos años con el *título* de **BDFL** (**B**enevolent **D**ictator **f**or **L**ife). Esto era debido a que Guido tenía asignada la tarea de fijar las directrices sobre la evolución de **Python**, tarea de la que se retiró en 2018. El nombre **Python** se debe a su afición al programa de la BBC *Monty Python's Flying Circus*, del célebre grupo de humoristas británico [**Monty Python**](https://es.wikipedia.org/wiki/Monty_Python).\n",
    "\n",
    "El éxito de **Python** reside no solo en su simplicidad, sino que sobre él se ha construido una enorme cantidad de herramientas disponibles para todo tipo de dominios de aplicación.\n",
    "\n",
    "Gran parte de los programas escritos en **Python** en computación científica y ciencia de datos está codificado utilizando el siguiente grupo de paquetes, consolidados casi como estándar:\n",
    "\n",
    "- [NumPy](http://numpy.org), permite el almacenamiento y computación eficiente de matrices multidimensionales.\n",
    "- [SciPy](http://scipy.org), contiene una enorme colección de herramientas de cálculo numérico.\n",
    "- [Pandas](http://pandas.pydata.org), permite manipular, filtrar, agrupar y transformar datos, así como el sencillo acceso a las bases de datos que eventualmente puedan contenerlos.\n",
    "- [Matplotlib](http://matplotlib.org), dispone de un conjunto de funciones para la creación de figuras y gráficos de gran calidad.\n",
    "- [Scikit-Learn](http://scikit-learn.org), proporciona un paquete de herramientas con los algoritmos más usuales de aprendizaje automático.\n",
    "\n",
    "Además, si en un determinado momento un programador necesita de alguna herramienta para realizar algún tipo de tratamiento a un conjunto de datos con los que esté trabajando, es muy probable que, dentro de la amplia *comunidad Python*, esa herramienta ya esté programada y sea accesible en el *dominio público*.\n",
    "\n",
    "Obviamente, para aprovechar el poder de este ecosistema de ciencia de datos, es necesario familiarizarse con el lenguaje **Python**."
   ]
  },
  {
   "cell_type": "markdown",
   "metadata": {
    "hideCode": true,
    "hidePrompt": true
   },
   "source": [
    "***\n",
    "<a target=\"_self\" id='Instalación_y_consideraciones_prácticas'></a>"
   ]
  },
  {
   "cell_type": "markdown",
   "metadata": {
    "hideCode": true,
    "hidePrompt": true
   },
   "source": [
    "## Instalación y consideraciones prácticas\n",
    "\n",
    "La instalación de **Python** y el conjunto de bibliotecas asociadas que permiten trabajar con computación científica es una tarea simple independientemente del sistema operativo con el que se trabaje."
   ]
  },
  {
   "cell_type": "markdown",
   "metadata": {
    "hideCode": true,
    "hidePrompt": true
   },
   "source": [
    "### Python 2 vs Python 3\n",
    "\n",
    "Durante el curso usaremos la sintaxis de **Python 3**, que contiene sustantivas mejoras en el lenguaje, y que hacen que el código no sea compatible con el escrito en las diferentes versiones **2.x** de **Python**.\n",
    "\n",
    "Aunque Python 3.0 fue lanzado en 2008, su adopción fue lenta, principalmente en el ámbito científico y de desarrollo web. La causa principal se debió sobre todo al enorme esfuerzo en adaptar los paquetes y herramientas ya existentes para que fuesen compatibles con la nueva versión.\n",
    "\n",
    "Desde principio del 2014, todos los paquetes relevantes dentro de los ecosistemas de computación científica y de la ciencia de datos ya son plenamente compatibles con ambas sintaxis, por lo que en el ámbito académico se ha optado por utilizar **Python 3** por sus mejores características sintácticas.\n",
    "\n",
    "Además, ¡**Python 2** ha dejado de ser mantenido y mejorado desde el 1 de Enero de 2020!"
   ]
  },
  {
   "cell_type": "markdown",
   "metadata": {
    "hideCode": true,
    "hidePrompt": true
   },
   "source": [
    "### Instalación con Anaconda\n",
    "\n",
    "Aunque hay muchas maneras de instalar **Python**, os sugerimos hacerlo a través de la distribución [**Anaconda**](https://www.continuum.io), que es la utilizada por el **Servicio de Informática de la EII** en los ordenadores de laboratorios y aulas.\n",
    "\n",
    "**Anaconda** es una distribución libre y abierta de los lenguajes **Python** y [**R**](https://www.r-project.org), lenguaje que también se suele utilizar en diferentes asignaturas relacionadas con la **Estadística**. **Anaconda** está orientada a simplificar el despliegue y administración de los diversos paquetes de software. Viene acompañada con una extensa colección de paquetes y programas, muchos de ellos preinstalados. Entre estos, algunos que usaremos extensivamente, como [**Jupyter**](https://jupyter.org) y el IDE [**Spyder**](https://www.spyder-ide.org).\n",
    "\n",
    "Las diferentes versiones de los paquetes se administran mediante un navegador o con el sistema de gestión de paquetes por línea de comandos [**conda**](https://conda.io)."
   ]
  },
  {
   "cell_type": "markdown",
   "metadata": {
    "hideCode": true,
    "hidePrompt": true
   },
   "source": [
    "***\n",
    "<a id='El_Zen_de_Python'></a>"
   ]
  },
  {
   "cell_type": "markdown",
   "metadata": {
    "hideCode": true,
    "hidePrompt": true
   },
   "source": [
    "## El Zen de Python\n",
    "\n",
    "\n",
    "El Zen de Python es una colección de principios de software que influyen en el diseño del lenguaje de programación **Python**. Es la entrada informativa número 20 de las **Propuestas de Mejoras de Python** ([**PEP20**](https://www.python.org/dev/peps/pep-0020), **P**ython **E**nhancement **P**roposals).\n",
    "\n",
    "Se incluye como un *huevo de pascua virtual* en el intérprete de Python, mostrándose al ingresar la instrucción `import this`."
   ]
  },
  {
   "cell_type": "code",
   "execution_count": 2,
   "metadata": {
    "collapsed": true,
    "hideCode": true,
    "hidePrompt": true
   },
   "outputs": [],
   "source": [
    "import this"
   ]
  },
  {
   "cell_type": "markdown",
   "metadata": {
    "hideCode": true,
    "hidePrompt": true
   },
   "source": [
    "Una posible [traducción](https://es.wikipedia.org/wiki/Zen_de_Python) sería:\n",
    "\n",
    "* Bello es mejor que feo.\n",
    "* Explícito es mejor que implícito.\n",
    "* Simple es mejor que complejo.\n",
    "* Complejo es mejor que complicado.\n",
    "* Plano es mejor que anidado.\n",
    "* Espaciado es mejor que denso.\n",
    "* La legibilidad es importante.\n",
    "* Los casos especiales no son lo suficientemente especiales como para romper las reglas.\n",
    "* Sin embargo, la practicidad le gana a la pureza.\n",
    "* Los errores nunca deberían pasar silenciosamente.\n",
    "* A menos que se silencien explícitamente.\n",
    "* Frente a la ambigüedad, evitar la tentación de adivinar.\n",
    "* Debería haber una, y preferiblemente solo una, manera obvia de hacerlo.\n",
    "* A pesar de que esa manera no sea obvia a menos que seas holandés.\n",
    "* Ahora es mejor que nunca.\n",
    "* A pesar de que nunca es muchas veces mejor que *ahora* mismo.\n",
    "* Si la implementación es difícil de explicar, es una mala idea.\n",
    "* Si la implementación es fácil de explicar, puede que sea una buena idea.\n",
    "* Los espacios de nombres son una gran idea, ¡tengamos más de esos!"
   ]
  },
  {
   "cell_type": "markdown",
   "metadata": {
    "hideCode": true,
    "hidePrompt": true
   },
   "source": [
    "***\n",
    "<a target=\"_self\" id='Cómo_ejecutar_código_Python'></a>"
   ]
  },
  {
   "cell_type": "markdown",
   "metadata": {
    "hideCode": true,
    "hidePrompt": true
   },
   "source": [
    "## Cómo ejecutar código Python\n",
    "\n",
    "Existen múltiples formas de utilizar **Python** dependiendo de cada situación y tarea. El hecho de ser un lenguaje *interpretado* permite su manejo de forma **interactiva**, de una forma difícilmente alcanzable con otros lenguajes como C, C++, Java, etc.\n",
    "\n",
    "Vamos a ver a continuación algunas de las múltiples formas en las que podemos ejecutar código **Python**."
   ]
  },
  {
   "cell_type": "markdown",
   "metadata": {
    "hideCode": true,
    "hidePrompt": true
   },
   "source": [
    "### El intérprete de Python\n",
    "\n",
    "Es la forma más básica de ejecutar código. Una vez instalado el lenguaje **Python** basta teclear `python` a través de la consola de comandos. \n",
    "\n",
    ">Hay que tener en cuenta que en el S.O. Windows, la distribución Anaconda puede no añadir automáticamente la ruta de acceso a **Python** a la variable de entorno *PATH*.\n",
    ">Sin embargo, sí que instala una consola de comandos, **Anaconda Prompt**, desde la que se pueden ejecutar directamente no solo el intérprete de **Python** sino otros programas como **Jupyter**, **Spyder** o el gestor **conda**.\n",
    "\n",
    "```\n",
    "(base) C:\\Users\\migtr>python\n",
    "Python 3.7.3 (default, Mar 27 2019, 17:13:21) [MSC v.1915 64 bit (AMD64)] :: Anaconda, Inc. on win32\n",
    "Type \"help\", \"copyright\", \"credits\" or \"license\" for more information.\n",
    ">>>\n",
    "```\n",
    "Una vez que el intérprete está en funcionamiento, podemos comenzar a teclear y ejecutar fragmentos de código.\n",
    "\n",
    "Python, en este contexto de uso, se utilizar normalmente para ejecutar secuencias cortas de operaciones, utilizando así el intérprete como una potente y versátil calculadora.\n",
    "\n",
    "``` python\n",
    ">>> 6*5\n",
    "30\n",
    ">>> z = 3\n",
    ">>> z + 4\n",
    "7\n",
    "```"
   ]
  },
  {
   "cell_type": "markdown",
   "metadata": {
    "hideCode": true,
    "hidePrompt": true
   },
   "source": [
    "### El intérprete de IPython\n",
    "\n",
    "Otra alternativa es el intérprete de [**IPython**](https://ipython.org/) (**I**nteractive **Python**), incluido en la distribución Anaconda, que posee muchas mejoras respecto al intérprete básico. Se ejecuta tecleando `ipython` en la línea de comandos:\n",
    "```\n",
    "(base) C:\\Users\\migtr>ipython\n",
    "Python 3.7.3 (default, Mar 27 2019, 17:13:21) [MSC v.1915 64 bit (AMD64)]\n",
    "Type 'copyright', 'credits' or 'license' for more information\n",
    "IPython 7.10.2 -- An enhanced Interactive Python. Type '?' for help.\n",
    "```\n",
    "``` ipython\n",
    "In [1]:\n",
    "```\n",
    "La principal diferencia entre ambos intérpretes está en el símbolo de la línea de comandos (*prompt*): **Python** usa `>>>` por defecto, mientras que **IPython** usa símbolos numerados, como `In [1]:`.\n",
    "\n",
    "Por lo demás, se puede utilizar de la misma forma que el intérprete básico:\n",
    "``` ipython\n",
    "In [1]: 6*5\n",
    "Out[1]: 30\n",
    "\n",
    "In [2]: z = 3\n",
    "\n",
    "In [3]: z + 4\n",
    "Out[3]: 7\n",
    "```\n",
    "Nótese que, además de las entradas, las salidas aparecen numeradas también. \n",
    "\n",
    "**Ipython** posee un amplio abanico de características suplementarias, como los **comandos mágicos**, algunos de los cuales utilizaremos a través de **Jupyter Notebook** y **Spyder**, ya que estos programas usan **IPython** como parte básica de su funcionamiento."
   ]
  },
  {
   "cell_type": "markdown",
   "metadata": {
    "hideCode": true,
    "hidePrompt": true
   },
   "source": [
    "### Guiones (scripts)\n",
    "\n",
    "A partir de cierto número de líneas (u órdenes), ejecutar fragmentos de código paso a paso es engorroso, poco práctico y sujeto a errores. En estos casos, tener almacenado en un fichero la secuencia de órdenes y ejecutarlas en un único paso es la forma lógica de proceder.\n",
    "\n",
    "Por convención, los guiones **Python** tienen la extensión ***.py**.\n",
    "\n",
    "Un archivo, editado por ejemplo con el **Bloc de notas**, llamado *ejemplo.py* podría ser el siguiente:\n",
    "``` python\n",
    "# Comentario: este archivo contiene un ejemplo de guion\n",
    "print(\"Ejecutándose ejemplo.py\")\n",
    "x = 5\n",
    "y = 3\n",
    "print(\"El resultado de 5 + 3 es\", x + y)\n",
    "```\n",
    "Para ejecutar este guion, debemos situarnos en el mismo directorio y teclear `python ejemplo.py` en la línea de comandos:\n",
    "```\n",
    "(base) C:\\Users\\migtr>python ejemplo.py\n",
    "Ejecutándose ejemplo.py\n",
    "El resultado de 5 + 3 es 8\n",
    "```\n",
    "Del ejemplo anterior podemos deducir que debemos realizar dos etapas para ejecutar el programa:\n",
    "1. Utilización de un editor más o menos convencional de textos \n",
    "2. Uso de la línea de comandos para ejecutar el guion\n",
    "\n",
    "Una alternativa es utilizar un **Entorno de Desarrollo Integrado**, **IDE** (**I**ntegrated **D**evelopment **E**nvironment). **Spyder** es un buen ejemplo: entre otros componentes posee un editor con herramientas tan útiles como *autocompletado* de código, terminales **IPython**, *explorador* de variables, *depurador*, *chequeo* de inconsistencias, etc. **Spyder**, incorporado en la distribución **Anaconda**, será la herramienta que utilizaremos para trabajar con guiones."
   ]
  },
  {
   "cell_type": "markdown",
   "metadata": {
    "hideCode": true,
    "hidePrompt": true
   },
   "source": [
    "### Jupyter Notebook\n",
    "\n",
    "**Jupyter Notebook** es un entorno interactivo que permite combinar en un mismo documento código con otros elementos, tales como texto enriquecido, imágenes, enlaces, ecuaciones matemáticas, etc. **Jupyter** es un nombre que proviene de *jugar* con los nombres de los lenguajes **Ju**lia, **Py**thon y **R**, pilares de muchos desarrollos en la computación científica y la ciencia de datos. También es un homenaje a los **cuadernos** de Galileo que registran el descubrimiento de los satélites de Júpiter. \n",
    "\n",
    "Inicialmente los **cuadernos** (**notebooks**) formaban parte del proyecto **IPython**, de ahí que en muchas fuentes bibliográficas aparezcan mencionados como **IPython notebooks**. A partir de cierto momento, el [**Proyecto IPython**](https://ipython.org/) se desgajó, de tal forma que en el [**Proyecto Jupyter**](https://jupyter.org/) se integraron los componentes que debían ser *agnósticos* respecto al lenguaje.\n",
    "\n",
    "Los **cuadernos** se ejecutan localmente en un navegador sin necesidad de estar conectado a Internet. Tienen la extensión **.ipynb** (**i**nteractive **py**thon **n**ote**b**ook).\n",
    "\n",
    "La aplicación **Jupyter Notebook** tiene un componente fundamental, el **núcleo** (**kernel**), encargado de ejecutar el código contenido en el documento. Por defecto, se ejecuta el **núcleo IPython**, pero existen núcleos para otros muchos lenguajes. \n",
    "\n",
    "Los *notebooks* están basando su éxito no solo en su utilidad como herramienta de desarrollo, sino como un extraordinario medio de compartir el trabajo científico o el material académico a través de una narrativa interactiva que mezcla código, texto, datos, etc."
   ]
  },
  {
   "cell_type": "markdown",
   "metadata": {
    "hideCode": true,
    "hidePrompt": true
   },
   "source": [
    "Cada capítulo de este libro web corresponde a un cuaderno notebook, descargable a través de un repositorio [GitHub](https://github.com/) accesible pulsando el botón situado arriba a la derecha de cada página web.\n",
    "\n",
    "![github](img/descarga_cuaderno.jpg)"
   ]
  },
  {
   "cell_type": "code",
   "execution_count": null,
   "metadata": {
    "hideCode": true,
    "hidePrompt": true
   },
   "outputs": [],
   "source": []
  }
 ],
 "metadata": {
  "anaconda-cloud": {},
  "celltoolbar": "Raw Cell Format",
  "hide_code_all_hidden": true,
  "kernelspec": {
   "display_name": "Python 3",
   "language": "python",
   "name": "python3"
  },
  "language_info": {
   "codemirror_mode": {
    "name": "ipython",
    "version": 3
   },
   "file_extension": ".py",
   "mimetype": "text/x-python",
   "name": "python",
   "nbconvert_exporter": "python",
   "pygments_lexer": "ipython3",
   "version": "3.7.7"
  }
 },
 "nbformat": 4,
 "nbformat_minor": 1
}
