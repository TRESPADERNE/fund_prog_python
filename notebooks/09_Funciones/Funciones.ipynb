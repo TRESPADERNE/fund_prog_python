{
 "cells": [
  {
   "cell_type": "markdown",
   "metadata": {
    "hideCode": false,
    "hidePrompt": false
   },
   "source": [
    "# Funciones"
   ]
  },
  {
   "cell_type": "markdown",
   "metadata": {
    "hideCode": false,
    "hidePrompt": false
   },
   "source": [
    "[Introducción](#Introducción)<br>\n",
    "[Definición de funciones](#Definición_de_funciones)<br>\n",
    "[Tipos de funciones según sus parámetros de entrada y valores devueltos](#Tipos_de_funciones_según_sus_parámetros_de_entrada_y_valores_devueltos)<br>\n",
    "[Funciones y tratamiento de excepciones](#Funciones_excepciones)<br>\n",
    "[Proceso de desarrollo de un programa](#Proceso_desarrollo_programa)"
   ]
  },
  {
   "cell_type": "markdown",
   "metadata": {
    "hideCode": false,
    "hidePrompt": false
   },
   "source": [
    "***\n",
    "<a id='Introducción'></a>"
   ]
  },
  {
   "cell_type": "markdown",
   "metadata": {
    "hideCode": false,
    "hidePrompt": false
   },
   "source": [
    "## Introducción\n",
    "\n",
    "En los temas previos ya hemos tenido oportunidad de trabajar con **funciones**. En este tema aprenderemos a definir y utilizar funciones **creadas por nosotros**.\n",
    "\n",
    "A lo largo del tiempo y en diferentes lenguajes el concepto de función aparece definido también por otros nombres: **subprograma**, **subrutina** o **procedimiento** son los más habituales y con diferentes matices denotan lo mismo.\n",
    ">Una función es un **conjunto de instrucciones** al que se asigna un nombre, opcionalmente parámetros de entrada y de salida, y que puede ser **llamada** desde otras partes de un programa para realizar una tarea concreta."
   ]
  },
  {
   "cell_type": "markdown",
   "metadata": {
    "hideCode": false,
    "hidePrompt": false
   },
   "source": [
    "### La necesidad de las funciones\n",
    "\n",
    "Los lenguajes de programación utilizan los recursos que brinda el _hardware_ del ordenador: la capacidad de codificar diferentes tipos de datos y la posibilidad de realizar sobre ellos operaciones aritméticas y lógicas. \n",
    "\n",
    "Las operaciones que el ordenador brinda de forma nativa, son bastante elementales y no van mucho más allá de:\n",
    "* la capacidad de realizar sumas, restas, multiplicaciones y divisiones, etc.\n",
    "* controlar el flujo del programa modificando la ejecución secuencial de las sentencias mediante la utilización de condicionales y bucles.\n",
    "\n",
    "De manera que la realización de todo el resto de complicadas operaciones que sabemos que son capaces de realizar los programas de ordenador deben ser *construidas* a partir de esas operaciones básicas. \n",
    "\n",
    "Cuando hemos utilizado los operadores más sencillos en Python (suma, resta, etc.), el intérprete *traduce* los comandos de alto nivel dados por el programador y usa, casi directamente, las funcionalidades del *hardware*. \n",
    "\n",
    "Por tanto, a la hora de hacer operaciones más complejas, estas tienen que ser creadas a partir de esos bloques elementales implementando procedimientos más elaborados. Python y otros lenguajes brindan la posibilidad de agrupar estos bloques de instrucciones en forma de una **función**, para su posterior invocación de forma sencilla."
   ]
  },
  {
   "cell_type": "markdown",
   "metadata": {
    "hideCode": false,
    "hidePrompt": false
   },
   "source": [
    "#### Un ejemplo usando funciones de biblioteca\n",
    "\n",
    "La **función** es entonces el recurso que el lenguaje de programación brinda para implementar esos subprogramas. Ya hemos utilizado muchas funciones, algunas intrínsecas y otras disponibles en módulos como el módulo `math`.\n",
    "\n",
    "Por ejemplo, supongamos que queremos determinar el siguiente cociente:\n",
    "$$\n",
    "\\begin{align}\n",
    "\\\\y & = \\frac{1-{{sin(x/4)}{cos(x)} }^4}{1+cos(x)^2} \\\\\n",
    "\\end{align}\n",
    "\\notag\n",
    "$$\n",
    "\n",
    "El cálculo de $y$ se podría implementar en Python con un programa como el siguiente, que hace uso de las funciones trigonométricas `sin()` y `cos()` definidas en el módulo `math`:"
   ]
  },
  {
   "cell_type": "code",
   "execution_count": null,
   "metadata": {
    "hideCode": false,
    "hidePrompt": false
   },
   "outputs": [],
   "source": [
    "# Desaconsejado usar import *, pero utilizado aquí para argumentar el uso de funciones\n",
    "from math import *  \n",
    "\n",
    "x = pi\n",
    "y = (1 - sin(x/4)*cos(x)**4)/(1+cos(x)**2)\n",
    "print(y)"
   ]
  },
  {
   "cell_type": "markdown",
   "metadata": {
    "hideCode": false,
    "hidePrompt": false
   },
   "source": [
    "Se debe resaltar lo siguiente en el ejemplo anterior:\n",
    "\n",
    "- **Claridad**\n",
    "> Observad la similitud en el uso (que no equivalencia) para este caso concreto de las funciones en Python con el concepto matemático de función. La función **recibe** valores como argumentos y **devuelve** un valor que entonces participa en la evaluación del resto de la expresión.\n",
    "\n",
    "- **Abstracción**\n",
    "> Como *usuarios* de las funciones `sin()` y `cos()` no sabemos cómo están implementadas. Podríamos aventurar que es posible que la implementación de las mismas recurra a la expansión de series que converjan a las funciones requeridas, con una precisión alta pero finita. Pero el hecho cierto es que no lo sabemos, y tampoco nos interesa para utilizarlas: evidentemente hay que dar un *salto de fe* y confiar en que sean correctas dentro de los límites de la precisión que aseguran.\n",
    "\n",
    "- **Reutilización**\n",
    "> Hemos utilizado dos veces la función `cos()` y una el `sin()`. Podemos imaginar que utilizar más expresiones, usando estas funciones un número mayor de veces, no implicaría una dificultad mucho mayor.\n",
    "\n",
    "Imaginemos, por el contrario, que las funciones no existieran. Y que cada vez que quisiéramos determinar el seno o coseno de un número, tuviésemos que programar los bucles y condicionales del algoritmo específico que determina el valor de estas funciones a partir de operaciones más básicas. Ciertamente, sería muy complicado resolver cualquier problema matemático sencillo. El código resultante sería enormemente difícil de entender. Por otra parte, si se decidiera cambiar la implementación del código, para utilizar otro algoritmo más preciso o eficiente, eso implicaría modificar todo el programa."
   ]
  },
  {
   "cell_type": "markdown",
   "metadata": {
    "hideCode": false,
    "hidePrompt": false
   },
   "source": [
    "Una vez visto el ejemplo, mostramos ahora la forma recomendada de usar funciones importadas de un módulo."
   ]
  },
  {
   "cell_type": "code",
   "execution_count": null,
   "metadata": {
    "hideCode": false,
    "hidePrompt": false
   },
   "outputs": [],
   "source": [
    "import math\n",
    "\n",
    "x = math.pi\n",
    "y = (1 - math.sin(x/4)*math.cos(x)**4)/(1+math.cos(x)**2)\n",
    "print(y)"
   ]
  },
  {
   "cell_type": "markdown",
   "metadata": {
    "hideCode": false,
    "hidePrompt": false
   },
   "source": [
    "***\n",
    "<a id='Ventajas_del_uso_de_funciones'></a>"
   ]
  },
  {
   "cell_type": "markdown",
   "metadata": {
    "hideCode": false,
    "hidePrompt": false
   },
   "source": [
    "### Ventajas del uso de funciones\n",
    "\n",
    "Las funciones brindan dos beneficios importantes de los que se pueden derivar muchos otros:\n",
    "- **Estructura**: Es un recurso que permite descomponer una tarea compleja en varias subtareas de menor entidad, que puedan ser abordables con mayores garantías de éxito.\n",
    "- **Abstracción**: Las funciones ocultan detalles tras una **interfaz pública** bien definida. Se hace abstracción de los detalles de implementación y lo que interesa únicamente son los valores de entrada que se le suministran y los resultados que devuelve. \n",
    "\n",
    "\n",
    "A partir de estas dos características básicas, se derivan el resto de las ventajas que brinda el uso de las funciones:\n",
    "\n",
    "- Permiten **reutilizar código** sin tener que reescribirlo cada vez.\n",
    "- Permite el **encapsulamiento** del código de la función. Así, por ejemplo, una vez dado por válido el código interno de una función, los errores de un programa no serán imputables a la implementación interna de la función.\n",
    "- La implementación interna puede cambiar sin que el programador que use esas funciones tenga que preocuparse de ello.\n",
    "- Hace que el código resultante sea más claro y mantenible.\n",
    "- Las funciones brindan el mecanismo para dividir un problema grande en subproblemas pequeños, acotando la interacción entre los mismos a los datos intercambiados a través de su interfaz pública. \n",
    "- Es el mecanismo ideal para permitir la colaboración entre varios programadores: una vez puestos de acuerdo en la interfaz, cada cual tiene la libertad de programar la solución a los subproblemas parciales sin temor a que le afecte lo hecho por otros programadores (siempre que el resultado brindado sea el correcto)."
   ]
  },
  {
   "cell_type": "markdown",
   "metadata": {
    "hideCode": false,
    "hidePrompt": false
   },
   "source": [
    "### Pautas de diseño de una función\n",
    "Las  características que deben prevalecer a la hora de diseñar una función son aquellas que refuerzan el hecho de que las funciones son abstracciones.\n",
    "\n",
    "Una función como abstracción debe centrarse en 3 propiedades:\n",
    "* Su **dominio**, conjunto de valores que pueden tomar sus argumentos de entrada.\n",
    "* Su **rango**, conjunto de valores que puede devolver.\n",
    "* Su **propósito**, la relación existente entre los valores de entrada y los de salida, así como los posibles efectos colaterales que puedan existir.\n",
    "\n",
    "Cómo se logran las salidas a partir de las entradas queda oculto, ese el mecanismo de la abstracción.\n",
    "\n",
    "Para lograr reforzar el mecanismo de abstracción de una función hay algunas pautas que son de ayuda:\n",
    "1. Cada función debe tener un único propósito. Es el **principio de responsabilidad única**.\n",
    "    * El objetivo perseguido con la función debería ser fácilmente identificado con un nombre corto.\n",
    "    * Si una función hace múltiples tareas de forma consecutiva, debería rehacerse en múltiples funciones.\n",
    "2. **No te repitas** (**DRY**, **Don't repeat yourself**).\n",
    "    * Si un fragmento de código aparece varias veces repetido, es una buena oportunidad para darlo un nombre e invocarlo múltiples veces.\n",
    "3. Las funciones deben ser **generales**.\n",
    "    * No tiene sentido, por ejemplo, definir una función específica para elevar un número a la quinta, cuando podemos definir con carácter general, una función que eleve un número a cualquier exponente."
   ]
  },
  {
   "cell_type": "markdown",
   "metadata": {
    "hideCode": false,
    "hidePrompt": false
   },
   "source": [
    "***\n",
    "<a id='Definición_de_funciones'></a>"
   ]
  },
  {
   "cell_type": "markdown",
   "metadata": {
    "hideCode": false,
    "hidePrompt": false
   },
   "source": [
    "## Definición de funciones\n",
    "Al acto de utilizar una función, tal y como hemos venido haciendo hasta ahora con las funciones nativas (*built-in*) y también con las de biblioteca, se le conoce con el nombre de _llamar_ o _invocar_ a la función.\n",
    "\n",
    "Aprenderemos a continuación cómo definir nuestras propias funciones con algunos ejemplos sencillos."
   ]
  },
  {
   "cell_type": "code",
   "execution_count": null,
   "metadata": {
    "hideCode": false,
    "hidePrompt": false
   },
   "outputs": [],
   "source": [
    "# Primero definimos la función, especificando su nombre y sus parámetros\n",
    "def area_circulo(r):\n",
    "    area = 3.1415*r**2\n",
    "    return area\n",
    "\n",
    "\n",
    "diametro = 10\n",
    "area = area_circulo(diametro/2)\n",
    "print(\"Área del círculo de diámetro {} es {}.\".format(diametro, area))"
   ]
  },
  {
   "cell_type": "markdown",
   "metadata": {
    "hideCode": false,
    "hidePrompt": false
   },
   "source": [
    "![definicion_funcion.jpg](img/definicion_funcion.jpg)"
   ]
  },
  {
   "cell_type": "markdown",
   "metadata": {
    "hideCode": false,
    "hidePrompt": false
   },
   "source": [
    "Observe en lo anterior los dos momentos del trabajo con las funciones, la **definición** y la **llamada**: \n",
    "\n",
    "* **Definición**: \n",
    "    ```python\n",
    "    def area_circulo(r):\n",
    "        '''Función que recibe el radio del círculo y calcula su área'''\n",
    "\n",
    "        area = 3.1415*r**2\n",
    "        return area\n",
    "    ```\n",
    "  Debe aparecer **antes de la primera llamada** a la función definida y está formada por dos partes, el **encabezado** y el **cuerpo**:\n",
    "\n",
    "    - **Encabezado**: \n",
    "      ```python\n",
    "      def area_circulo(r): \n",
    "      ```  \n",
    "        Se utiliza la palabra reservada `def` seguida del identificador que da **nombre a la función**, `area_circulo` en el ejemplo. Le sigue entre paréntesis (obligatorios) la lista de **parámetros formales**, que puede estar vacía. En el ejemplo, consta de un sólo parámetro formal al que hemos identificado dentro de la definición de la función con el nombre `r`. \n",
    "    \n",
    "        Note que, al definir la función, todavía no se ejecuta el código que ella representa, aunque aparezca primero dentro de la secuencia del programa. \n",
    "    - **Cuerpo**:\n",
    "      ```python\n",
    "         area = 3.1415*r**2\n",
    "         return area\n",
    "      ```   \n",
    "        Después del encabezado, se tiene el cuerpo de la función. Se debe notar que, de nuevo, Python exige el *sangrado* apropiado para identificar el cuerpo de la función.\n",
    "         - La primera sentencia **asigna** a la variable `area` el resultado de evaluar la expresión a su derecha\n",
    "         - La segunda sentencia utiliza la palabra reservada `return` para **devolver** el contenido de `area` al código que haya invocado a la función.\n",
    "\n",
    "    Es importante entender que `area` dentro de la definición de la función da nombre a una **variable local** que solo está definida y **accesible** dentro de la función `area_circulo()`. El identificador `r` igualmente sólo está definido dentro de la función.\n",
    "    \n",
    "* **Llamada(s)**: \n",
    "    ```python\n",
    "    area = area_circulo(diametro/2)\n",
    "    ```\n",
    "    Se realiza escribiendo el nombre de la función, seguido obligatoriamente de los paréntesis con los **parámetros reales** (en este caso uno) que se le *pasarán* a la misma. Aquí el parámetro real se obtiene evaluando la expresión indicada, `diametro/2`."
   ]
  },
  {
   "cell_type": "markdown",
   "metadata": {
    "hideCode": false,
    "hidePrompt": false
   },
   "source": [
    "A tener en cuenta:\n",
    "- Antes de llamar a una función, esta debe haber sido **definida** previamente en el programa.\n",
    "- La primera sentencia _útil_ que se ejecuta es la primera sentencia del **programa principal**. Programa principal es el conjunto de todas las sentencias que **no** están incluidas dentro del cuerpo de ninguna función.\n",
    "- Si la función tiene parámetros de entrada, a la hora de llamar a la función se calculan los valores de los parámetros reales, evaluando las expresiones correspondientes (en el ejemplo se evalúa `diametro/2`). El valor del parámetro real resulta asociado al parámetro formal o argumento de la función (en este caso `r`)."
   ]
  },
  {
   "cell_type": "markdown",
   "metadata": {
    "hideCode": true,
    "hidePrompt": true
   },
   "source": [
    "En el siguiente ejemplo, que calcula el área de un cilindro, vemos una **reutilización** de la función `area_circulo(r)`. Hemos añadido entre triples comillas,`'''texto'''`, un comentario para **documentar** brevemente el objeto de la función."
   ]
  },
  {
   "cell_type": "code",
   "execution_count": null,
   "metadata": {
    "hideCode": false,
    "hidePrompt": false,
    "tags": [
     "raises-exception",
     "remove-output"
    ]
   },
   "outputs": [],
   "source": [
    "def area_circulo(r):\n",
    "    '''Función que recibe el radio del círculo y calcula su área'''\n",
    "\n",
    "    area = 3.1415*r**2\n",
    "    return area\n",
    "\n",
    "\n",
    "# El estilo PEP 8 recomienza dejar dos líneas en blanco después de una función\n",
    "# Ahora comienza el programa principal: la primera línea ejecutable es diametro = 10\n",
    "\n",
    "# Programa principal\n",
    "radio = float(input(\"Diga el radio: \"))\n",
    "altura = float(input(\"Diga la altura: \"))\n",
    "\n",
    "area_cilindro = 2*area_circulo(radio) + 2*3.1415*radio*altura\n",
    "\n",
    "print('El área lateral de un cilindro de radio {} y altura {} es {}.'.\n",
    "      format(radio, altura, area_cilindro))"
   ]
  },
  {
   "cell_type": "markdown",
   "metadata": {
    "hideCode": false,
    "hidePrompt": false
   },
   "source": [
    "Las sentencias que se ejecutarán primero de forma secuencial corresponden al **programa principal**:\n",
    "* la asignación a las variables `radio` y  `altura` de los valores que el usuario introduzca por teclado\n",
    "* la evaluación de la expresión que se asigna a una nueva variable, `area_cilindro`. Como la función `area_circulo()` devuelve un valor, la llamada a dicha función puede participar de la expresión en la que se calcula el área lateral del cilindro. Nótese que esta forma de utilizar la función que acabamos de definir, no difiere de lo ya visto en temas anteriores o del ejemplo del inicio de este documento con las funciones de biblioteca `cos()` y `sin()`.\n",
    "* la salida por pantalla de los resultados\n",
    "\n",
    "Al evaluar la expresión en la que aparece la llamada a `area_circulo()`, se procede siguiendo las reglas de precedencia de los operadores implicados. Primero, cuando se intenta realizar el primer producto, el intérprete de Python *comprende* que necesita antes evaluar la función `area_circulo()`, con lo que se detiene la evaluación de la expresión para *invocar* a la función, asociando el contenido de la variable `radio` (argumento real) al parámetro formal `r` de la definición de la función. Tras terminar la ejecución, la función devuelve el valor del área del circulo contenida en la variable local `area`, y dicho valor es recibido en el programa principal para proceder con la evaluación del resto de la expresión.\n",
    "\n",
    "Nótese que `area_circulo()` tiene un comportamiento similar a las funciones matemáticas: a cada valor del dominio de definición (cada valor del parámetro formal `r`) le corresponde un único valor de la imagen (la salida que se logra mediante la sentencia `return`) y que además este valor siempre es el mismo."
   ]
  },
  {
   "cell_type": "markdown",
   "metadata": {
    "hideCode": false,
    "hidePrompt": false
   },
   "source": [
    "### Principios de responsabilidad única y de generalidad\n",
    "Desde el punto de vista de la ingeniería del software es deseable que una función realice una única labor, lo que podría englobarse dentro de lo que se conoce como **principio de responsabilidad única**.\n",
    "\n",
    "Veamos un ejemplo de diseño de función desafortunado:"
   ]
  },
  {
   "cell_type": "code",
   "execution_count": null,
   "metadata": {
    "hideCode": false,
    "hidePrompt": false
   },
   "outputs": [],
   "source": [
    "def area_circulo_desafortunado(r):\n",
    "    area = 3.1415*r**2\n",
    "    print(\"Área del círculo de radio {} es {}.\".format(r, area))\n",
    "    return area"
   ]
  },
  {
   "cell_type": "markdown",
   "metadata": {
    "hideCode": false,
    "hidePrompt": false
   },
   "source": [
    "Esta función tiene dos responsabilidades: calcular el área de un círculo e imprimir su valor por pantalla.\n",
    "\n",
    "A la hora de programar funciones, se debe buscar que están sean lo más generales posible, de forma que puedan ser reusadas en diferentes circunstancias. La función anterior no es muy flexible, puesto que siempre *imprime* en pantalla el resultado y, probablemente, no en todas las ocasiones ese es el comportamiento que se desea.\n",
    "\n",
    "Por tanto, desde otro punto de vista, violaría un **principio de generalidad**: no en todos los casos en que se quiera calcular el área del círculo, se desea imprimir el resultado por pantalla. Más bien lo contrario."
   ]
  },
  {
   "cell_type": "markdown",
   "metadata": {
    "hideCode": false,
    "hidePrompt": false
   },
   "source": [
    "***\n",
    "<a id='Tipos_de_funciones_según_sus_parámetros_de_entrada_y_valores_devueltos'></a>"
   ]
  },
  {
   "cell_type": "markdown",
   "metadata": {
    "hideCode": false,
    "hidePrompt": false
   },
   "source": [
    "## Tipos de funciones según sus parámetros de entrada y valores devueltos\n",
    "### Funciones sin parámetros de entrada"
   ]
  },
  {
   "cell_type": "code",
   "execution_count": null,
   "metadata": {
    "hideCode": false,
    "hidePrompt": false
   },
   "outputs": [],
   "source": [
    "def intro():\n",
    "    print('Este código sólo imprime este mensaje.')\n",
    "\n",
    "    \n",
    "intro()\n",
    "intro()"
   ]
  },
  {
   "cell_type": "markdown",
   "metadata": {
    "hideCode": false,
    "hidePrompt": false
   },
   "source": [
    "Las funciones pueden carecer de parámetros de entrada. Observe que el único objetivo en este caso es sacar un aviso por pantalla.\n",
    "\n",
    "Pueden existir una función trivial, _que no hace nada_.\n",
    "\n",
    "```python\n",
    "def funcion():\n",
    "    pass  # TODO: completar más tarde\n",
    "```\n",
    "En todo caso, los paréntesis deben ser obligatoriamente utilizados tanto en la definición como en cada una de las llamadas a la función.\n",
    "\n",
    "#### La sentencia ``pass``\n",
    "La palabra clave ``pass`` indica algo así como no hacer nada. Suele utilizarse en ocasiones para crear la estructura de un programa sin que sea necesario tener completado todo su código."
   ]
  },
  {
   "cell_type": "markdown",
   "metadata": {
    "hideCode": false,
    "hidePrompt": false
   },
   "source": [
    "### Funciones que no devuelven valores mediante `return`\n",
    "\n",
    "El caso del ejemplo anterior, también ejemplifica a las funciones que no contienen la sentencia `return`.\n",
    "Este tipo de funciones, al ser utilizadas incorrectamente en contextos en que se espera un valor devuelto (al realizar composición de funciones o en sentencias de asignación), _devuelven_ el valor especial ```None``` que indica la ausencia de un valor válido.\n",
    "\n",
    "Por ejemplo:"
   ]
  },
  {
   "cell_type": "code",
   "execution_count": null,
   "metadata": {
    "hideCode": false,
    "hidePrompt": false
   },
   "outputs": [],
   "source": [
    "a = intro()\n",
    "print(a)"
   ]
  },
  {
   "cell_type": "markdown",
   "metadata": {
    "hideCode": false,
    "hidePrompt": false
   },
   "source": [
    "### Funciones con más de un parámetro\n",
    "\n",
    "Las funciones pueden tener más de un parámetro formal. Tomando como referencia el ejemplo ya visto, definamos una función que reciba el radio y la altura de un cilindro y devuelva su área lateral."
   ]
  },
  {
   "cell_type": "code",
   "execution_count": null,
   "metadata": {
    "hideCode": false,
    "hidePrompt": false
   },
   "outputs": [],
   "source": [
    "# Primero definimos la función, especificando su nombre y sus parámetros\n",
    "def area_cilindro(r, h):\n",
    "    '''Función que recibe el radio y la altura de un cilindro y calcula su área lateral'''\n",
    "    \n",
    "    pi = 3.14159\n",
    "    area = 2*pi*r**2 + 2*pi*r*h\n",
    "    return area\n",
    "\n",
    "\n",
    "area_c = area_cilindro(1, 4.5)\n",
    "print('El área lateral del cilindro es {}.'.format(area_c))"
   ]
  },
  {
   "cell_type": "markdown",
   "metadata": {
    "hideCode": false,
    "hidePrompt": false
   },
   "source": [
    "Note que los parámetros formales de ```area_cilindro()``` ahora son dos, representando el radio (```r```) y la altura (```h```).\n",
    "\n",
    "Obsérvese la **correspondencia posicional** entre los parámetros formales y los reales: la constante literal `1` será copiada en el primer parámetro formal `r` y la constante `4.5` en el segundo `h`."
   ]
  },
  {
   "cell_type": "markdown",
   "metadata": {
    "hideCode": false,
    "hidePrompt": false
   },
   "source": [
    "### Funciones que devuelven más de un parámetro\n",
    "\n",
    "En Python, las funciones pueden devolver mediante la sentencia ```return``` un número arbitrario de valores separados por coma, es decir, **tuplas**. Esta característica es una potente característica del lenguaje que lo diferencia de otros que no lo poseen de forma directa, como el C/C++.\n",
    "\n",
    "Por ejemplo:"
   ]
  },
  {
   "cell_type": "code",
   "execution_count": null,
   "metadata": {
    "hideCode": false,
    "hidePrompt": false
   },
   "outputs": [],
   "source": [
    "def min_max(lista):\n",
    "    '''Devuelve el mínimo y el máximo de la lista que recibe como argmento'''\n",
    "    \n",
    "    mn = mx = lista[0]\n",
    "    for elem in lista[1:]:  #[1:] evita comparar con el índice 0\n",
    "        if mn > elem:\n",
    "            mn = elem\n",
    "        elif mx < elem:\n",
    "            mx = elem\n",
    "    return mn, mx  # Devolvemos una tupla\n",
    "\n",
    "\n",
    "lista_prueba = [1, 10, 2, -3, 6, 8]\n",
    "\n",
    "mn, mx = min_max(lista_prueba)  # Desempaquetado de la tupla\n",
    "\n",
    "print('Los valores extremos de la lista {} son:\\nMin: {} Max: {}'.format(lista_prueba, mn, mx))"
   ]
  },
  {
   "cell_type": "markdown",
   "metadata": {
    "hideCode": false,
    "hidePrompt": false
   },
   "source": [
    "Observe que en el ejemplo anterior, el parámetro que espera la función ```min_max()``` es de tipo lista. Este ejemplo, además, ilustra bien el hecho de que las funciones deben ser entendidas como subprogramas, capaces de utilizar todas las posibilidades vistas: definir sus propias variables, utilizar estructuras de control de flujo como condicionales y bucles, etc.\n",
    "\n",
    "La sentencia ```return``` devuelve el mínimo y máximo valor de la misma, creando una **tupla**.\n",
    "\n",
    "En la línea en que se realiza la llamada, se asigna el resultado a dos variables, **desempaquetando** la tupla."
   ]
  },
  {
   "cell_type": "markdown",
   "metadata": {
    "hideCode": false,
    "hidePrompt": false
   },
   "source": [
    "### Especificando el nombre de los parámetros\n",
    "Python permite especificar los nombres de los parámetros formales a la hora de invocar a la función."
   ]
  },
  {
   "cell_type": "code",
   "execution_count": null,
   "metadata": {
    "hideCode": false,
    "hidePrompt": false
   },
   "outputs": [],
   "source": [
    "area_c = area_cilindro(1, h=4.5)\n",
    "print(\"El área lateral del cilindro\", area_c)"
   ]
  },
  {
   "cell_type": "code",
   "execution_count": null,
   "metadata": {
    "hideCode": false,
    "hidePrompt": false
   },
   "outputs": [],
   "source": [
    "area_c = area_cilindro(r=1, h=4.5)\n",
    "print(\"El área lateral del cilindro\", area_c)"
   ]
  },
  {
   "cell_type": "markdown",
   "metadata": {
    "hideCode": false,
    "hidePrompt": false
   },
   "source": [
    "Por supuesto, no se permite que un parámetro que no tenga nombre, **argumento posicional**, esté a la derecha de un argumento con nombre."
   ]
  },
  {
   "cell_type": "code",
   "execution_count": null,
   "metadata": {
    "hideCode": false,
    "hidePrompt": false,
    "tags": [
     "raises-exception"
    ]
   },
   "outputs": [],
   "source": [
    "area_c = area_cilindro(r=1, 4.5)\n",
    "print(\"El área lateral del cilindro\", area_c)"
   ]
  },
  {
   "cell_type": "markdown",
   "metadata": {
    "hideCode": false,
    "hidePrompt": false
   },
   "source": [
    "Poder especificar nombres permite que los parámetros reales pueden ser enviados a la función en cualquier orden."
   ]
  },
  {
   "cell_type": "code",
   "execution_count": null,
   "metadata": {
    "hideCode": false,
    "hidePrompt": false
   },
   "outputs": [],
   "source": [
    "area_c = area_cilindro(h=4.5, r=1)\n",
    "print(\"El área lateral del cilindro\", area_c)"
   ]
  },
  {
   "cell_type": "markdown",
   "metadata": {
    "hideCode": false,
    "hidePrompt": false
   },
   "source": [
    "### Parámetros con valores por defecto\n",
    "En ocasiones resulta útil definir funciones para las que uno o varios parámetros tengan valores por defecto.\n",
    "\n",
    "Supongamos, por ejemplo, que hacemos una función para garantizar que el valor que se pasa como argumento está entre dos límites dados: \n",
    "* si lo está, devuelve el valor tal cual.\n",
    "* si no lo está, devuelve el límite superior o inferior, según el caso. \n",
    "\n",
    "Se sabe además que, en la aplicación de que se trata, el rango de valores que interesa normalmente suele ser el [0,1]. Una implementación posible de dicha función es la que se muestra:"
   ]
  },
  {
   "cell_type": "code",
   "execution_count": null,
   "metadata": {
    "hideCode": false,
    "hidePrompt": false
   },
   "outputs": [],
   "source": [
    "def limita(valor, inf=0.0, sup=1.):\n",
    "    '''Devuelve valor si inf < valor < sup.\n",
    "    Si valor < inf devuelve inf.\n",
    "    Si valor > sup devuel sup'''\n",
    "    \n",
    "    if inf <= valor <= sup:\n",
    "        return valor\n",
    "    elif valor > sup:\n",
    "        return sup\n",
    "    else:\n",
    "        return inf\n",
    "\n",
    "valor = 3.\n",
    "# con límites por defecto\n",
    "print('Valor {} limitado en el rango por defecto [0.0, 1.0]: {}'.format(valor, limita(valor)))\n",
    "\n",
    "# con un límite cambiado: inf -> -1.\n",
    "print('Valor {} limitado en el rango [-1.0, 1.0]: {}'.format(valor, limita(valor, -1.)))\n",
    "\n",
    "# con un límite cambiado: sup -> 5.\n",
    "print('Valor {} limitado en el rango [0.0, 5.0]: {}'.format(valor, limita(valor, sup=5.)))\n",
    "\n",
    "# con los dos límites cambiados: inf -> -1., sup -> 5.\n",
    "print('Valor {} limitado en el rango [-1.0, 5.0]: {}'.format(valor, limita(valor, -1., 5.)))"
   ]
  },
  {
   "cell_type": "markdown",
   "metadata": {
    "hideCode": false,
    "hidePrompt": false
   },
   "source": [
    "Observe que, en el encabezado de la definición de la función, a los parámetros formales `inf`y `sup` se les asignan respectivamente los valores `0.0` y `1.0`. Esto significa que, si esos parámetros no son utilizados (no se les pasa un valor o parámetro real) durante la llamada a la función, se utilizarán en el cuerpo de la misma esos valores por defecto.\n",
    "\n",
    "En la tercera llamada a la función, se requiere cambiar el límite superior solamente. Para estos casos, se puede utilizar una llamada a función que utiliza, no la posición del argumento como criterio de emparejamiento de los parámetros reales a formales, sino utilizar directamente el nombre del parámetro formal y el signo ```=``` para pasar el parámetro real. De no hacerlo así, y utilizar el paso de parámetro posicional, habría que haber utilizado una llamada a función como la que se muestra a continuación, perdiendo la ventaja de los parámetros por defecto:\n",
    "```python\n",
    "limita(valor, 0, 5)\n",
    "```"
   ]
  },
  {
   "cell_type": "markdown",
   "metadata": {
    "hideCode": false,
    "hidePrompt": false
   },
   "source": [
    "***\n",
    "<a id='Funciones_excepciones'></a>"
   ]
  },
  {
   "cell_type": "markdown",
   "metadata": {
    "hideCode": false,
    "hidePrompt": false
   },
   "source": [
    "## Funciones y tratamiento de excepciones\n",
    "\n",
    "El **tratamiento estructurado de excepciones** y el enfoque **EAFP** (**Easier to Ask Forgiveness than Permission**), visto con anterioridad, alcanza su mayor utilidad cuando es aplicado conjuntamente con las funciones.\n",
    "\n",
    "Veamos un ejemplo que implementa una función clónica del método `index()` de las listas."
   ]
  },
  {
   "cell_type": "code",
   "execution_count": null,
   "metadata": {
    "hideCode": false,
    "hidePrompt": false
   },
   "outputs": [],
   "source": [
    "# Función clónica del método index() de las listas\n",
    "def indice(lista, valor):\n",
    "    for i, x in enumerate(lista):\n",
    "        if x == valor:\n",
    "            return i\n",
    "    raise ValueError('{} is not in list.'.format(valor))\n",
    "\n",
    "\n",
    "lista = [-5, 1, 3, 4, 12, 21, 23, 34, 43, 123]\n",
    "try:\n",
    "    valor = 0\n",
    "    print('{} está en la posición {} de la lista {}.'.format(valor, indice(lista, valor), lista))\n",
    "except ValueError as error:\n",
    "    print(error)\n",
    "\n",
    "# Usando el método index()\n",
    "try:\n",
    "    valor = 0\n",
    "    print('{} está en la posición {} de la lista {}.'.format(valor, lista.index(valor), lista))\n",
    "except ValueError as error:\n",
    "    print(error)"
   ]
  },
  {
   "cell_type": "markdown",
   "metadata": {
    "hideCode": false,
    "hidePrompt": false
   },
   "source": [
    "La función `indice()` utiliza el mecanismo de excepciones para comunicar la existencia de un error que lanza una excepción `ValueError`, utilizando la sentencia `raise`. Esta excepción será manejada por el primer bloque `try: ... except:` que englobe la llamada a la función.\n",
    "\n",
    "Nótese que una excepción termina inmediatamente el **hilo de ejecución** de la función.\n",
    "\n",
    "Veamos un ejemplo en el que dividimos valor por valor dos listas. La idea es que si un valor de una lista que actúa como *denominador* es nulo, asignamos el valor **Not a number** `nan`. \n",
    "\n",
    "Para el resto de excepciones:\n",
    "* Las listas tienen tamaños diferentes\n",
    "* Datos incompatibles entre sí\n",
    "\n",
    "será el usuario de la función quien deba manejarlas:"
   ]
  },
  {
   "cell_type": "code",
   "execution_count": null,
   "metadata": {
    "hideCode": false,
    "hidePrompt": false
   },
   "outputs": [],
   "source": [
    "# Función que divide valor por valor dos listas\n",
    "def divide_dos_listas_entre_si(lista_num, lista_den):\n",
    "    lista_coc = []\n",
    "    for i in range(len(lista_num)):\n",
    "        try:\n",
    "            lista_coc.append(lista_num[i]/lista_den[i])\n",
    "        except ZeroDivisionError:\n",
    "            lista_coc.append(float('nan'))            \n",
    "    return lista_coc\n",
    "\n",
    "\n",
    "lista_num = [-5, 1, 3, 4, 12, 21, 23, 34, 43, 123]\n",
    "lista_den_1 = [1]\n",
    "lista_den_2 = [-5, 0, 'a', 4, 12, 21, 23, 34, 43, 123]\n",
    "lista_den_3 = [-5, 0, 3, 4, 12, 21, 23, 34, 43, 123]\n",
    "\n",
    "# Probamos dividir lista_num entre las tres listas siguientes, capturan las excepciones\n",
    "try:\n",
    "    print(divide_dos_listas_entre_si(lista_num, lista_den_1))\n",
    "except (IndexError, TypeError) as error:\n",
    "    print(error)\n",
    "    \n",
    "try:\n",
    "    print(divide_dos_listas_entre_si(lista_num, lista_den_2))\n",
    "except (IndexError, TypeError) as error:\n",
    "    print(error)\n",
    "    \n",
    "try:\n",
    "    print(divide_dos_listas_entre_si(lista_num, lista_den_3))\n",
    "except (IndexError, TypeError) as error:\n",
    "    print(error)"
   ]
  },
  {
   "cell_type": "markdown",
   "metadata": {
    "hideCode": false,
    "hidePrompt": false
   },
   "source": [
    "***\n",
    "<a id='Proceso_desarrollo_programa'></a>"
   ]
  },
  {
   "cell_type": "markdown",
   "metadata": {},
   "source": [
    "## Proceso de desarrollo de un programa\n",
    "Una vez conocido cómo definir funciones, tenemos muchas de las herramientas necesarias para acometer el **desarrollo de un programa**.\n",
    "\n",
    "La programación es una tarea compleja a la que es mejor enfrentarse de manera **iterativa**.\n",
    "\n",
    "Algunos pasos generales para hacerlo son:\n",
    "\n",
    "### 1. Análisis del problema a resolver\n",
    "* Utilizar en esta etapa **lápiz y papel** y la ayuda de **bosquejos**, entre otros recursos.\n",
    "* Identificar los **datos de entrada** y cuales deben ser las **salidas** buscadas, para todas las posibles condiciones.\n",
    "* Hacer cálculos paso a paso. Identificar **resultados intermedios** tratando de encontrar el algoritmo adecuado. \n",
    "\n",
    "### 2. Versión inicial del problema\n",
    "Una vez se llega a una primera solución *en papel* razonable, se pasa a programar, utilizando los recursos provistos por el lenguaje. Como se ha dicho, ya se poseen los elementos imprescindibles para resolver cualquier problema solucionable por un ordenador. Por supuesto, en la medida que avance el curso, los recursos a nuestra disposición crecerán.\n",
    "\n",
    "### 3. Identificación de casos límite o especiales\n",
    "Puede darse el caso de que el programa no funcione para los **casos límites o especiales** (¿funciona para el 2, que es el primer posible primo?, ¿pueden producirse divisiones por 0?, etc.). Es importante identificar esos casos para poder testarlos y, en su caso, corregir los fallos. \n",
    "\n",
    "### 4. Casos de uso por parte del usuario\n",
    "Por otro lado, es frecuente que en un primera esbozo del programa, se asuma que el usuario va a actuar de la forma prevista pero ¿qué pasa si no lo hace? (En el caso de los primos, ¿qué pasa si el número introducido es menor que dos o incluso negativo?). En ocasiones, el no prever todas estas posibles situaciones puede dar un resultado incorrecto o que el programa se interrumpa bruscamente por un error de ejecución. La solución de cada uno de los problemas detectados, implicará probablemente volver al paso 1 y la realización de modificaciones del código más o menos importantes, hasta que se llega a un código robusto y que funcione para todas las posibles entradas de datos. El **manejo de excepciones** tiene aquí un papel importante.\n",
    "\n",
    "### 5. Legibilidad\n",
    "Se debe tener en cuenta que un programa tiene otras virtudes además de dar las salidas correctas para todas los casos. Los programas deben ser **legibles**, estar escritos de forma clara y consistente, de manera que otros programadores o el mismo programador original pasado un tiempo, puedan comprenderlos con facilidad para hacer las modificaciones que son frecuentemente necesarias.\n",
    "\n",
    "Los identificadores de las variables deben ser **autoexplicativos**, las estructuras de control deberán estar bien elegidas.\n",
    "\n",
    "El sangrado del código y el uso correcto de los espacios en blanco ayuda notablemente en este aspecto. En este sentido, Python ha adoptado la decisión de *exigir* sintácticamente un sangrado correcto del código.\n",
    "\n",
    "### 6. Refinamiento descendente\n",
    "Frecuentemente ocurre que, en la medida en que el programa crece, se debe **reestructurar** el código. Buena legibilidad y facilidad de reestructuración están íntimamente ligadas. El **refinamiento descendente** agrupando código en funciones es la estrategia habitual.\n",
    "\n",
    "### 7. Optimización del código\n",
    "Las primeras veresiones de un programa seguramente no constituyen la forma más **eficiente** (más rápida, por ejemplo) de resolver el problema. Un código que ya funciona correctamente puede estar sujeto a mejoras y optimizaciones. Aunque no se hará hincapié sobre este tema en un curso básico, en algunas ocasiones, sobre todo cuando se manipulan grandes volúmenes de datos, son importantes las consideraciones de cómo crece, por ejemplo, el tiempo de ejecución del programa cuando aumenta el *tamaño* de los datos de entrada. El encontrar un código eficiente es una tarea en general difícil, y debe ser en todo caso enfrentada cuando ya se tenga un programa básico que funcione correctamente. \n",
    "\n",
    "Por otro lado, ¡no se debe caer en la trampa de la **optimización prematura**! En este sentido, es útil conocer que en la gran mayoría de los casos es bueno sacrificar la velocidad de ejecución en aras de una mayor claridad del código.\n",
    "\n",
    "### 8. Documentación\n",
    "Los comentarios en el código son útiles pero es mejor evitarlos usando código autoexplicativo. Lo que sí es importante es **documentar** nuestros programas y, en especial, las funciones. Añadir en las zonas adecuadas del código información para explicar qué hacen, en su caso, cómo lo hacen, y cómo deben ser utilizadas."
   ]
  },
  {
   "cell_type": "markdown",
   "metadata": {},
   "source": [
    "### Ejemplos de desarrollo de un programa sencillo\n",
    "Vamos a analizar a continuación algunos ejemplos, aplicando algunos de los pasos que acabamos de relatar.\n",
    "\n",
    "El alumno atento observará que en muchos de los ejemplos que hemos visto o que veremos más adelante\n",
    "en temas sucesivos, no nos *preocupamos* de **manejar las excepciones**, por ejemplo, las causadas por entradas con un formato incorrecto de datos por parte del usuario. La razón principal es la de centrarnos en los aspectos clave de Python, evitando *distracciones* y exponiendo código de la forma más escueta posible. Esta *táctica* es la habitual en cualquier texto introductorio sobre lenguajes de programación."
   ]
  },
  {
   "cell_type": "markdown",
   "metadata": {},
   "source": [
    "#### Ejemplo 1: Determinación de si una serie de enteros son primos\n",
    "La última versión para determinar si un número es primo sólo puede *analizar* un número cada vez. ¿Cómo modificarlo para darle la oportunidad al usuario de que analice sucesivamente varios enteros sin tener que ejecutar varias veces el programa?\n",
    "\n",
    "La solución es utilizar otro bucle (bucles anidados), que incluya el código anterior, de manera que se pueda repetir cuantas veces se desee."
   ]
  },
  {
   "cell_type": "markdown",
   "metadata": {},
   "source": [
    "Comenzemos por una versión ya vista en temas anteriores:"
   ]
  },
  {
   "cell_type": "code",
   "execution_count": null,
   "metadata": {
    "tags": [
     "raise-exception",
     "remove-output"
    ]
   },
   "outputs": [],
   "source": [
    "# Determina si un número entero es primo. (Versión 1)\n",
    "numero = int(input('Deme un entero positivo mayor que 1: '))\n",
    "\n",
    "es_primo = True  # Variable centinela o bandera\n",
    "for div in range(2, numero):\n",
    "    if numero % div == 0:\n",
    "        es_primo = False\n",
    "        break\n",
    "\n",
    "if es_primo:\n",
    "    print(\"El número {} es primo\".format(numero))\n",
    "else:\n",
    "    print(\"El número {} no es primo\".format(numero))"
   ]
  },
  {
   "cell_type": "markdown",
   "metadata": {},
   "source": [
    "Vamos a estructurar el código usando refinamiento descendente usando una función ``es_primo(n)``."
   ]
  },
  {
   "cell_type": "code",
   "execution_count": null,
   "metadata": {
    "tags": [
     "raises-eception",
     "remove-output"
    ]
   },
   "outputs": [],
   "source": [
    "# Determina si un número entero es primo, usando una función. (Versión 2)\n",
    "\n",
    "def es_primo(n):\n",
    "    '''Si el número entero n es primo devuelve True. False en caso contrario.\n",
    "       La función solo acepta valores enteros y mayores que 1'''\n",
    "    \n",
    "    for div in range(2, numero):\n",
    "        if numero % div == 0:\n",
    "            return False\n",
    "    return True\n",
    "\n",
    "\n",
    "numero = int(input('Deme un entero positivo mayor que 1: '))\n",
    "\n",
    "if es_primo(numero):\n",
    "    print(\"El número {} es primo\".format(numero))\n",
    "else:\n",
    "    print(\"El número {} no es primo\".format(numero))"
   ]
  },
  {
   "cell_type": "markdown",
   "metadata": {},
   "source": [
    "Ahora, mediante un bucle, podemos conseguir que el programa solicite nuevos números hasta que el usuario desee finalizar."
   ]
  },
  {
   "cell_type": "code",
   "execution_count": null,
   "metadata": {
    "tags": [
     "raises-exception",
     "remove-output"
    ]
   },
   "outputs": [],
   "source": [
    "# Determina si una serie de enteros son primos. Bucle infinito. (Versión 1)\n",
    "\n",
    "while True:\n",
    "    numero = int(input('Deme un entero positivo mayor que 1: '))\n",
    "    if es_primo(numero):\n",
    "        print(\"El número {} es primo\".format(numero))\n",
    "    else:\n",
    "        print(\"El número {} no es primo\".format(numero))\n",
    "    \n",
    "    opcion = input(\"Desea salir (s/n):\")\n",
    "    if opcion == 's' or opcion == 'S':\n",
    "        break"
   ]
  },
  {
   "cell_type": "markdown",
   "metadata": {},
   "source": [
    "La expresión de control del bucle `while` externo es la constante literal `True`: es un *bucle infinito*. Este tipo de bucles, muy habituales en programación, tienen asociada una sentencia `break` interna que permite su terminación prematura. Es el caso con el `break` de la estructura condicional donde se pregunta al usuario si quiere seguir introduciendo enteros."
   ]
  },
  {
   "cell_type": "markdown",
   "metadata": {},
   "source": [
    "Una alternativa al bucle infinito podría haber sido la siguiente:"
   ]
  },
  {
   "cell_type": "code",
   "execution_count": null,
   "metadata": {
    "tags": [
     "raises-exception",
     "remove-output"
    ]
   },
   "outputs": [],
   "source": [
    "# Determina si una serie de enteros son primos. Sin bucle infinito. (Versión 2)\n",
    "\n",
    "opcion = 'n'\n",
    "while opcion != 's' and opcion != 'S':\n",
    "    numero = int(input('Deme un entero positivo mayor que 1: '))\n",
    "    if es_primo(numero):\n",
    "        print(\"El número {} es primo\".format(numero))\n",
    "    else:\n",
    "        print(\"El número {} no es primo\".format(numero))\n",
    "    \n",
    "    opcion = input(\"Desea salir (s/n):\")"
   ]
  },
  {
   "cell_type": "code",
   "execution_count": null,
   "metadata": {},
   "outputs": [],
   "source": [
    "# Determina si una serie de enteros son primos, sin bucle infinito (Versión 2)\n",
    "\n",
    "opcion = 'n'\n",
    "while opcion != 's' and opcion != 'S':\n",
    "    try:\n",
    "        numero = int(input('Deme un entero positivo mayor que 1: '))\n",
    "        if numero < 2:\n",
    "            raise ValueError('El valor introducido debe ser mayor que 1.')\n",
    "    except ValueError as e:\n",
    "        print(e)\n",
    "    else:\n",
    "        es_primo = True\n",
    "        for div in range(2, numero):\n",
    "            if numero % div == 0:\n",
    "                es_primo = False\n",
    "                break\n",
    "        if es_primo:\n",
    "            print(\"El número {} es primo.\".format(numero))\n",
    "        else:\n",
    "            print(\"El número {} no es primo.\".format(numero))\n",
    "    finally:\n",
    "        opcion = input(\"Desea salir (s/n):\")\n",
    "        if opcion == 's' or opcion == 'S':\n",
    "            break"
   ]
  },
  {
   "cell_type": "markdown",
   "metadata": {},
   "source": [
    "En esta parte del desarrollo del programa ya podemos introducir los elementos que protegen al programa de entradas de datos incorrectas por parte del usuario, manejando las excepciones:\n",
    "* el usuario no introduce un valor entero\n",
    "* el valor entero introducido es inferior a ``2``"
   ]
  },
  {
   "cell_type": "code",
   "execution_count": null,
   "metadata": {
    "tags": [
     "raises-exception",
     "remove-output"
    ]
   },
   "outputs": [],
   "source": [
    "# Determina si una serie de enteros son primos. Con manejo de excepciones. (Versión 3)\n",
    "\n",
    "while True:\n",
    "    try:\n",
    "        numero = int(input('Deme un entero positivo mayor que 1: '))\n",
    "        if numero < 2:\n",
    "            raise ValueError('El valor introducido debe ser mayor que 1.')\n",
    "    except ValueError as e:\n",
    "        print(e)\n",
    "    else:\n",
    "        if es_primo(numero):\n",
    "            print(\"El número {} es primo.\".format(numero))\n",
    "        else:\n",
    "            print(\"El número {} no es primo.\".format(numero))\n",
    "    finally:\n",
    "        opcion = input(\"Desea salir (s/n):\")\n",
    "        if opcion == 's' or opcion == 'S':\n",
    "            break"
   ]
  },
  {
   "cell_type": "markdown",
   "metadata": {},
   "source": [
    "Nótese que el manejo de excepciones se ha realizado de forma externa a la función ``es_primo()``.\n",
    "Podríamos haber diseñado la función de tal forma que sea ésta la que se preocupa de que el entero recibido es válido."
   ]
  },
  {
   "cell_type": "code",
   "execution_count": null,
   "metadata": {},
   "outputs": [],
   "source": [
    "# Función es_primo() con manejo interno de excepciones\n",
    "def es_primo_con_excepciones(n):\n",
    "    '''Si el número entero n es primo devuelve True. False en caso contrario.\n",
    "       Si el valor n no es entero o es menor que 1 lanza una excepción ValueError'''\n",
    "    \n",
    "    if type(n) != int:\n",
    "        raise ValueError('El argumento de entrada no es de tipo int: {}'.format(n))\n",
    "    elif n < 2:\n",
    "        raise ValueError('El valor introducido debe ser mayor que 1.')\n",
    "    for div in range(2, numero):\n",
    "        if numero % div == 0:\n",
    "            return False\n",
    "    return True\n",
    "\n",
    "\n",
    "try:\n",
    "    if es_primo_con_excepciones(3.4):\n",
    "        print('3.4 es primo.')\n",
    "except ValueError as error:\n",
    "    print(error)\n",
    "try:\n",
    "    if es_primo_con_excepciones(-1):\n",
    "        print('-1 es primo.')\n",
    "except ValueError as error:\n",
    "    print(error)\n",
    "try:\n",
    "    if es_primo_con_excepciones(97):\n",
    "        print('97 es primo.')\n",
    "except ValueError as error:\n",
    "    print(error)"
   ]
  },
  {
   "cell_type": "markdown",
   "metadata": {},
   "source": [
    "El criterio para manejar o no las excepciones dentro de una función no es una ciencia exacta. Verificar la validez de los datos de entrada o de algún resultado intermedio es una tarea que consume tiempo de computación. Y, en determinadas aplicaciones, puede que sea más práctico dejar esa responsabilidad al programador usuario de la función y que sea éste el que garantice su correcto uso. Es lo que hicimos en la versión previa.\n",
    "\n",
    "Esto pone de relevancia lo importante que es la **documentación** de las funciones. Entre otras cosas, la documentación debe informar de aquellas situaciones que eventualmente se puedan generar excepciones, si éstas son manejadas (`try`) o si son levantadas (`raise`)."
   ]
  },
  {
   "cell_type": "markdown",
   "metadata": {},
   "source": [
    "La versión 3 del programa hace lo que nos proponíamos, aunque su uso por el usuario puede ser algo engorroso debido a la pregunta explícita sobre si se desea salir o no del programa. \n",
    "\n",
    "En ocasiones, la naturaleza del problema es tal que el rango posible de la entrada de datos está limitado. Este hecho se puede utilizar en nuestra ventaja para simplificar el diseño del programa y mejorar la experiencia del usuario. ¿Cómo se hace? Simplemente se utilizan los valores no útiles del rango de entrada para señalar otros *caminos* al programa.\n",
    "\n",
    "En el caso que nos ocupa se puede hacer, por ejemplo, que la introducción por parte del usuario de un valor menor que 2 señale su deseo de abandonar el programa. En caso contrario, se continuaría con las iteraciones en el bucle externo, preguntando por otros enteros a considerar.\n",
    "\n",
    "Por tanto, la introducción de un valor menor que 2 deja de ser una excepción. Es parte de los valores válidos que puede utilizar el usuario."
   ]
  },
  {
   "cell_type": "code",
   "execution_count": null,
   "metadata": {
    "tags": [
     "raises-exception",
     "remove-output"
    ]
   },
   "outputs": [],
   "source": [
    "# Determina si una serie de enteros son primos (versión 3)\n",
    "\n",
    "numero = 2         # Valor incial arbitrario para que entre al bucle la primera vez\n",
    "while numero > 1:\n",
    "    print('\\nPara salir introduzca un entero menor que 2.')\n",
    "    try:\n",
    "        numero = int(input('Deme un entero: '))\n",
    "    except ValueError as e:\n",
    "        print(e)\n",
    "    else:\n",
    "        if numero > 1:\n",
    "            if es_primo(numero):\n",
    "                print(\"El número {} es primo.\".format(numero))\n",
    "            else:\n",
    "                print(\"El número {} no es primo.\".format(numero))\n",
    "                \n",
    "print(\"Fin del programa.\")"
   ]
  },
  {
   "cell_type": "markdown",
   "metadata": {},
   "source": [
    "#### Ejemplo 2: Determinación del número $\\pi$ mediante la serie de Euler\n",
    "\n",
    "La constante $\\pi$ es una de la más importantes en matemáticas. Conocemos que se trata de un número real con infinitas cifras no periódicas tanto en su representación decimal como en cualquier otra base numérica.\n",
    "\n",
    "En el módulo `math` se tiene una aproximación bastante precisa del mismo, suficiente para las aplicaciones ingenieriles concebibles. \n",
    "\n",
    "En el siguiente ejemplo, se va a proceder a su estimación, utilizando uno de las tantas series que se demuestra que convergen a dicho número.\n",
    "\n",
    "En particular, se tiene la siguiente serie infinita definida para todos los enteros positivos $k$:\n",
    "\\begin{align}\n",
    "\\\\\\frac{\\pi^2}{12} & = 1 - \\frac{1}{2^2}+  \\frac{1}{3^2} ...+\\frac{(-1)^{k+1}}{k^2} \\\\\n",
    "\\end{align}\n",
    "\n",
    "Nótese que la solución de este problema, la suma en principio ilimitada de un conjunto de números, no se puede emprender sin la presencia de un bucle. \n",
    "\n",
    "Conviene, antes de comenzar, analizar en detalle el mecanismo propuesto para la generación de una aproximación de $\\pi$:\n",
    "\n",
    "- ¿Sabríamos antes de entrar al bucle el número de iteraciones a ejecutar? Unicamente lo sabríamos si alguien nos dijera que quiere hacer una aproximación que involucre $n$ términos. Esto haría decantarnos hacia la utilización de un bucle `for`. \n",
    "- Sin embargo, lo razonable es plantear el problema de forma que el resultado se aproxime a $\\pi$ por debajo de una **tolerancia** o cuando se cumpla una **condición de terminación** previamente elegida por el usuario. Esto hace que nos decantemos por utilizar un bucle `while`.\n",
    "\n",
    "- El trabajo con bucles frecuentemente requiere:\n",
    "    - Inicializar variables  antes de entrar al bucle.\n",
    "    - Identificar qué es lo que variará de una iteración a otra y qué objetivos parciales se van cumpliendo de forma tal que en cada iteración nos vayamos acercando cada vez más a la solución buscada.\n",
    "    - Establecer la condición lógica que determine la permanencia en el bucle.\n",
    "    - Finalmente, comprobar que el bucle funcione también para los casos límite."
   ]
  },
  {
   "cell_type": "code",
   "execution_count": null,
   "metadata": {},
   "outputs": [],
   "source": [
    "# Determinación del número pi mediante la serie de Euler (Versión 1)\n",
    "\n",
    "tolerancia = 1e-6\n",
    "\n",
    "suma_parcial = 0.0\n",
    "termino = tolerancia + 1 # Para obligar a entrar en el bucle\n",
    "k = 1\n",
    "while abs(termino) > tolerancia:\n",
    "    termino = (-1)**(k + 1)/k**2\n",
    "    suma_parcial += termino\n",
    "    k += 1\n",
    "    \n",
    "    \n",
    "pi_aprox = (12.0*suma_parcial)**0.5\n",
    "    \n",
    "print(\"La aproximación de PI hallada es {} y se obtuvo en {} iteraciones\".format(pi_aprox, k - 1))"
   ]
  },
  {
   "cell_type": "markdown",
   "metadata": {},
   "source": [
    "* En el ejemplo anterior, se requiere un **contador** (`k`) que recorra los enteros que participan en la definición de cada término de la serie y que debe ser incrementado en cada iteración. \n",
    "* También de una variable tipo **acumulador** (`suma_parcial`) que siempre va a contener la suma de todos los términos que se hayan calculado hasta la iteración de que se trate.\n",
    "* Observe el uso de de la asignación compuesta `+=` para actualizar tanto el acumulador como el contador.\n",
    "* Se define por comodidad una variable (`termino`) que contine el valor del término que se añade a la serie en cada iteración. Se hace esto porque se ha decidido utilizar como criterio de permanencia en el bucle el hecho de que el *aporte* nuevo a la estimación del valor de `suma_parcial`sea (en valor absoluto) mayor que un valor elegido pequeño, `tolerancia` (en este caso una millonésima: `1e-6`).\n",
    "* Vea que el uso de la función `abs()` en la expresión de control del `while` es indispensable, puesto que el valor de los términos nuevos van cambiando de signo de una iteración a la siguiente. \n",
    "* Antes de entrar al bucle, se eligen los valores iniciales para el contador y el acumulador. En el caso del contador se inicializa a `1`, para que tengamos el primer valor `1` presente en la propia definición de la serie. El acumulador se inicializa a `0.0`. \n",
    "* A la variable `termino`, que participa en la expresión de control del bucle, se le da un valor inicial arbitrario, en este caso `tolerancia + 1`. El objetivo aquí es darle un valor que sea mayor que `tolerancia` y que permita por tanto la primera entrada al bucle.\n",
    "\n",
    "El orden en que aparecen las sentencias dentro del bucle es importante (aunque no es la única posible si el problema se replanteara de otra forma). Es conveniente realizar algunas iteraciones manuales para ver que el esquema elegido funciona correctamente.\n",
    "\n",
    "Al salir del bucle se saca por pantalla tanto la aproximación hallada como el número de iteraciones que tomó el calcularla.\n",
    "\n",
    "Pruebe a cambiar el valor de la tolerancia. En cualquier caso, se debe recordar que la precisión con la que son manipulados los `float` en Python es limitada."
   ]
  },
  {
   "cell_type": "markdown",
   "metadata": {},
   "source": [
    "Vamos a estructurar el código, encapsulando la serie dentro de una función `calcula_pi_euler(tol=1e-6)`. Nótese el valor de la tolerancia por defecto.\n",
    "\n",
    "* Dado que el numerador es alternadamente `1` y `-1` se ha hecho una pequeña optimización sustituyendo el cálculo del numerador ``(-1)**(k + 1)``.\n",
    "* Si ha sustituido el bucle por una versión alternativa con *bucle infinito*."
   ]
  },
  {
   "cell_type": "code",
   "execution_count": null,
   "metadata": {},
   "outputs": [],
   "source": [
    "# Determinación del número pi mediante la serie de Euler, usando una función (Versión 2)\n",
    "\n",
    "def calcula_pi_euler(tol=1e-6):\n",
    "    '''Calcula el número pi mediante la serie de Euler.\n",
    "       El valor tol determina la precisión. Cuando abs(termino) <= tol\n",
    "       se da por finalizado el cálculo.'''\n",
    "    \n",
    "    suma_parcial = 0.0\n",
    "    termino = tol + 1 # Para obligar a entrar en el bucle\n",
    "    k = 1\n",
    "    num = 1\n",
    "    while abs(termino) > tol:\n",
    "        termino = num/k**2\n",
    "        suma_parcial += termino\n",
    "        k += 1\n",
    "        num = -num\n",
    "    \n",
    "    return (12.0*suma_parcial)**0.5\n",
    "    \n",
    "\n",
    "pi_aprox = calcula_pi_euler(0.0)\n",
    "print(\"La aproximación de PI hallada es {}\".format(pi_aprox))"
   ]
  },
  {
   "cell_type": "markdown",
   "metadata": {},
   "source": [
    "Nótese que si el usuario utiliza una tolerancia cercana a `0` o negativa como parámetro de entrada, el bucle será *de facto* un bucle infinito. Dejamos al alumno que modifique la función anterior levantando una excepción cuando el parámetro de entrada cumpla `tol <= tol_minima`.\n",
    "\n",
    "El alumno no debe perder de vista aspectos relativos a la precisión con sumatorios con muchos términos y con expresiones tales como:\n",
    "$$\\frac{(-1)^{k+1}}{k^2}$$\n",
    "Conforme el valor $k$ aumenta, la representación finita de los datos `float` entra en juego, por lo que el error cometido al calcular cada término hará inservible el utilizar una tolerancia excesivamente pequeña.\n",
    "\n",
    "El siguiente sencillo ejemplo ilustra este problema:"
   ]
  },
  {
   "cell_type": "code",
   "execution_count": null,
   "metadata": {},
   "outputs": [],
   "source": [
    "incr = 0.1  # La representación no es exacta\n",
    "suma = 0\n",
    "\n",
    "for i in range(0, 10**6):\n",
    "    suma += incr\n",
    "    \n",
    "print('El valor esperado es {} frente al obtenido {}'.format(10**6, suma))"
   ]
  },
  {
   "cell_type": "markdown",
   "metadata": {},
   "source": [
    "#### Ejemplo 3: Algoritmo para la determinación del máximo comúm divisor (MCD)\n",
    "\n",
    "Se trata de encontrar el mayor número que divida exactamente dos números enteros positivos dados. El algoritmo que resuelve el problema es uno de los más antiguos y famosos y se atribuye a Euclides.\n",
    "\n",
    "Sean dos enteros positivos: $p$ y $q$ (suponiendo $p >= q$). En general se puede plantear que $p=q*b+r$.\n",
    "\n",
    "Es posible demostrar que el máximo común divisor de $p$ y $q$ es el mismo que el de $q$ y $r$. Sea $mcd$ el máximo común divisor de $p$ y $q$. Como $p=q*b+r$ y $mcd$ divide a $p$ y $q$ también divide a $q$ y $r$. Si existiera otro número mayor que $mcd$ que divide a $q$ y $r$, también dividiría a $p$, lo que contradiría que $mcd$ es un máximo común divisor.\n",
    "\n",
    "Este mismo razonamiento puede repetirse cuantas veces se quiera, haciendo que el dividendo sea el anterior divisor y el nuevo divisor el antiguo resto, hasta que eventualmente, con toda seguridad, se obtendrá un resto igual a cero (puesto que los sucesivos restos van inevitablemente descendiendo y deben ser positivos). Cuando el resto es cero, el último divisor que se utilizó es precisamente el **MCD**.\n",
    "\n",
    "Si el divisor inicial es $0$, el **MCD** es el dividendo y si ambos son ceros el **MCD** es $0$.\n",
    "\n",
    "Una primera versión del algoritmo de Euclides podría ser la siguiente: "
   ]
  },
  {
   "cell_type": "code",
   "execution_count": null,
   "metadata": {
    "tags": [
     "raises-exception",
     "remove-output"
    ]
   },
   "outputs": [],
   "source": [
    "# Halla el MCD de dos numeros enteros naturales, incluido el 0 (Versión 1)\n",
    "\n",
    "# ENTRADA DE DATOS\n",
    "print('Introduzca dos enteros, para los que se calculará el MCD.')\n",
    "while True:\n",
    "    dividendo = int(input('Introduzca el primer número (>=0): '))\n",
    "    divisor = int(input('Introduzca el segundo número (>=0): '))\n",
    "    if dividendo < 0 or divisor < 0:\n",
    "        print(\"Ambos números deben ser iguales o mayores que 0.\\n\")\n",
    "    else:\n",
    "        break\n",
    "\n",
    "        \n",
    "# ALGORITMO MCD\n",
    "if dividendo < divisor: # Asegurando que el dividendo sea mayor que el divisor\n",
    "    dividendo, divisor = divisor, dividendo\n",
    "\n",
    "if dividendo == divisor == 0:\n",
    "    mcd = 0\n",
    "elif divisor == 0:\n",
    "    mcd = dividendo\n",
    "else:\n",
    "    dividendo_copia = dividendo\n",
    "    divisor_copia = divisor\n",
    "    resto = dividendo % divisor          # Hallamos el primero resto fuera del bucle\n",
    "    while resto != 0:\n",
    "        dividendo = divisor\n",
    "        divisor = resto\n",
    "        resto = dividendo % divisor\n",
    "    mcd = divisor\n",
    "\n",
    "# SALIDA\n",
    "print('El MCD de {} y {} es {}.'.format(dividendo_copia, divisor_copia, mcd))"
   ]
  },
  {
   "cell_type": "markdown",
   "metadata": {},
   "source": [
    "Podemos ver claramente las tres partes típicas de un programa:\n",
    "* Entrada de datos\n",
    "* Algoritmo\n",
    "* Salida de datos\n",
    "\n",
    "Centrándonos en el algoritmo, nótese que:\n",
    "* la condición de permanencia en el bucle es que el resto sea diferente de cero.\n",
    "* antes de entrar al bucle se hace una primera división para obtener un resto válido.\n",
    "* dentro del bucle la tarea es entonces acomodar lo que antes era el divisor de forma que se convierta en el nuevo dividendo y que el antiguo resto pase a ser el divisor. El orden de estas asignaciones es crucial.\n",
    "* la última sentencia del bucle halla el nuevo resto que será considerado en la siguiente evaluación del control del bucle.\n",
    "* al salir del bucle el **MCD** es el valor que está en la variable `divisor`.\n",
    "* para la salida ha sido necesario guardar una copia de los valores originales de `dividendo` y `divisor`.\n",
    "\n",
    "Debido al caracter iterativo de un bucle, es primordial elegir el momento clave en que se realiza la división entera y que las variables que participan hallan sido actualizadas de forma que desempeñen el _rol_ adecuado en la iteración de que se trate. Esto implica, en muchas ocasiones, hacer reasignaciones como se muestra en el ejemplo.\n",
    "\n",
    "Es importante antes de entrar al bucle, garantizar que el dividendo es mayor o igual que el divisor. Esto se hace mediante el correspondiente `if`. Véase que el intercambio entre los contenidos de `dividendo` y `divisor` se hace en una sola línea, aprovechando la fácilidad que brinda Python y que no existe en muchos otros lenguajes. ¿Se podría hacer uso de esta **asignación doble** dentro del bucle? ¿Cómo se haría?"
   ]
  },
  {
   "cell_type": "markdown",
   "metadata": {},
   "source": [
    "En la siguiente versión, vamos a encapsular la entrada de datos en una función `pide_valores()` y el algoritmo de Euclides en una función `mcd_euclides(n, m)`."
   ]
  },
  {
   "cell_type": "code",
   "execution_count": null,
   "metadata": {
    "tags": [
     "raises-exception",
     "remove-output"
    ]
   },
   "outputs": [],
   "source": [
    "# Halla el MCD de dos numeros enteros naturales, incluido el 0. Versión usando funciones (Versión 2)\n",
    "\n",
    "def pide_valores():\n",
    "    '''Solicita dos valores enteros exigiendo que sean >= que 0'''\n",
    "    \n",
    "    print('Introduzca dos enteros, para los que se calculará el MCD.')\n",
    "    while True:\n",
    "        num1 = int(input('Introduzca el primer número (>=0): '))\n",
    "        num2 = int(input('Introduzca el segundo número (>=0): '))\n",
    "        if num1 < 0 or num2 < 0:\n",
    "            print(\"Ambos números deben ser iguales o mayores que 0.\\n\")\n",
    "        else:\n",
    "            break\n",
    "    return num1, num2\n",
    "\n",
    "\n",
    "def mcd_euclides(dividendo, divisor):\n",
    "    '''Calcula es Máximo Común Divisor de los valores de entrada.\n",
    "       Para el correcto funcionamiento los dos valores deben ser enteros y >= que 0.\n",
    "       El orden relativo es indiferente.'''\n",
    "    \n",
    "    if dividendo < divisor: \n",
    "        dividendo, divisor = divisor, dividendo\n",
    "\n",
    "    if dividendo == divisor == 0:\n",
    "        mcd = 0\n",
    "    elif divisor == 0:\n",
    "        mcd = dividendo\n",
    "    else:\n",
    "        resto = dividendo % divisor         \n",
    "        while resto != 0:\n",
    "            dividendo, divisor = divisor, resto\n",
    "            resto = dividendo % divisor\n",
    "        mcd = divisor\n",
    "        \n",
    "    return mcd\n",
    "\n",
    "\n",
    "num1, num2 = pide_valores()\n",
    "print('El MCD de {} y {} es {}.'.format(num1, num2, mcd_euclides(num1, num2)))"
   ]
  },
  {
   "cell_type": "markdown",
   "metadata": {},
   "source": [
    "Véase como el uso de funciones y su poder de abstracción ha reducido el programa principal al uso de dos sentencias.\n",
    "\n",
    "Veamos una posible versión de la función `pide_valores()` más robusta manejando excepciones."
   ]
  },
  {
   "cell_type": "code",
   "execution_count": null,
   "metadata": {},
   "outputs": [],
   "source": [
    "# Versión manejando excepciones\n",
    "def pide_valores(): \n",
    "    '''Solicita dos valores enteros exigiendo que sean >= que 0'''\n",
    "    \n",
    "    print('Introduzca dos enteros, para los que se calculará el MCD.')\n",
    "    while True:\n",
    "        try:\n",
    "            num1 = int(input('Introduzca el primer número (>=0): '))\n",
    "            num2 = int(input('Introduzca el segundo número (>=0): '))\n",
    "            if num1 < 0 or num2 < 0:\n",
    "                raise ValueError('Ambos números deben ser iguales o mayores que 0.')\n",
    "        except ValueError as error:\n",
    "            print(error)\n",
    "        else:\n",
    "            break\n",
    "            \n",
    "    return num1, num2"
   ]
  },
  {
   "cell_type": "markdown",
   "metadata": {},
   "source": [
    "Nótese que esta versión maneja un posible error en el formato de la entrada de datos sin que el programa finalice brúscamente.\n",
    "\n",
    "En este caso, consideramos que la documentación de la función `mcd_euclides()` ya advierte de que debe usarse con enteros positivos o nulos. Es responsabilidad del usuario garantizar esa restricción. De hecho, es lo que hace la función `pide_valores()` en el programa."
   ]
  },
  {
   "cell_type": "markdown",
   "metadata": {},
   "source": [
    "#### Ejemplo 4: Conjetura de Collatz\n",
    "\n",
    "La conjetura de Collatz propone que para cualquier número positivo, tras el proceso iterativo:\n",
    "$$\n",
    "n=\\begin{cases}\n",
    "    n/2,  & &\\text{si $n$ par}.\\\\\n",
    "    3n+1, & & \\text{si $n$ impar}.\n",
    "  \\end{cases}\n",
    "$$\n",
    "se alcanza en algún momento para $n$ la unidad.\n",
    "\n",
    "Este hecho no está demostrado, de ahí que se trate de una **conjetura**. El siguiente código implementa el algoritmo propuesto pero añade un contador para acotar el número máximo de iteraciones.\n"
   ]
  },
  {
   "cell_type": "code",
   "execution_count": null,
   "metadata": {
    "tags": [
     "raises-exception",
     "remove-output"
    ]
   },
   "outputs": [],
   "source": [
    "# Conjetura de Collatz (Versión 1)\n",
    "# ENTRADA DE DATOS\n",
    "n = 0\n",
    "while n < 1:\n",
    "    n = int(input(\"Dame un número entero positivo: \"))\n",
    "    if n < 1:\n",
    "        print(\"¡ERROR!. El número debe ser positivo.\")\n",
    "\n",
    "num_max_iteraciones = 1e10\n",
    "\n",
    "# ALGORITMO\n",
    "iteraciones = 0\n",
    "while n != 1 and iteraciones < num_max_iteraciones:\n",
    "    if n % 2 == 0:  # Par\n",
    "        n = n // 2\n",
    "    else:\n",
    "        n = 3*n + 1\n",
    "    iteraciones += 1\n",
    "\n",
    "# SALIDA\n",
    "if n == 1:\n",
    "    print(\"Se ha llegado a 1 en {} iteraciones.\".format(iteraciones))\n",
    "else:\n",
    "    print(\"No se ha llegado a 1 en {} iteraciones. ¡Se debe investigar más!\".format(iteraciones))"
   ]
  },
  {
   "cell_type": "markdown",
   "metadata": {},
   "source": [
    "Fuera del bucle se solicita el valor inicial de $n$ y se inicializa el contador. Dentro del bucle, simplemente se actualiza el valor de $n$ según el procedimiento dado. Se saldrá del bucle cuando $n$ llega al valor de $1$ (reforzando nuestra convicción de que la conjetura de Collatz es válida) o cuando el contador llega al valor de la constante utilizada.\n",
    "\n",
    "De forma similar al ejemplo anterior, vamos a utilizar funciones y manejo de excepciones para mejorar el programa."
   ]
  },
  {
   "cell_type": "code",
   "execution_count": 1,
   "metadata": {
    "tags": [
     "raises-exception",
     "remove-output"
    ]
   },
   "outputs": [
    {
     "name": "stdout",
     "output_type": "stream",
     "text": [
      "Introduzca un entero (>=1): 251251245\n",
      "Desde el valor 251251245, se ha llegado a 1 en 103 iteraciones.\n"
     ]
    }
   ],
   "source": [
    "# Conjetura de Collatz con funciones y manejo de excepciones (Versión 2)\n",
    "\n",
    "def pide_valor(inf=0): \n",
    "    '''Solicita un valor entero exigiendo que sea >= que el argumento de entrada inf'''\n",
    "    \n",
    "    while True:\n",
    "        try:\n",
    "            num = int(input('Introduzca un entero (>={}): '.format(inf)))\n",
    "            if num < inf:\n",
    "                raise ValueError('Ambos números deben ser iguales o mayores que 0.')\n",
    "        except ValueError as error:\n",
    "            print(error)\n",
    "        else:\n",
    "            break\n",
    "            \n",
    "    return num\n",
    "\n",
    "\n",
    "def collatz(n, max_iter=1e10):\n",
    "    '''Implementa la conjetura de Collatz con un valor límite de iteraciones max_iter.\n",
    "       Devuelve True o False en función de si se cumple la conjetura para el valor de entrada num\n",
    "       y el número de iteraciones que se han necesitado'''\n",
    "    \n",
    "    iteraciones = 0\n",
    "    while n != 1 and iteraciones < max_iter:\n",
    "        if n % 2 == 0: \n",
    "            n = n // 2\n",
    "        else:\n",
    "            n = 3*n + 1\n",
    "        iteraciones += 1\n",
    "    \n",
    "    if n == 1:\n",
    "        return True, iteraciones\n",
    "    else:\n",
    "        return False, iteraciones\n",
    "    \n",
    "\n",
    "n = pide_valor(1)\n",
    "resultado = collatz(n, 1000)\n",
    "\n",
    "if resultado[0]:\n",
    "    print('Desde el valor {}, se ha llegado a 1 en {} iteraciones.'.format(n, resultado[1]))\n",
    "else:\n",
    "    print('Desde el valor {}, no se ha llegado a 1 en {} iteraciones. ¡Se debe investigar más!'.format(n, resultado[1]))"
   ]
  },
  {
   "cell_type": "markdown",
   "metadata": {},
   "source": [
    "En esta variante, la función `pedir_valor(inf=0)` incorpora como argumento un límite inferior para que el valor introducido desde teclado sea válido. Por defecto, el valor `0`."
   ]
  },
  {
   "cell_type": "markdown",
   "metadata": {},
   "source": [
    "Los valores intermedios por los que pasa $n$ hasta finalmente llegar a $1$ oscilan con amplitudes muy grandes. \n",
    "\n",
    "Aprovechando esta característica, vamos a introducir otra idea básica, que al igual que los **acumuladores**, permite obtener alguna característica del conjunto de números procesados mediante un bucle. \n",
    "\n",
    "Se trata de obtener, el valor máximo o mínimo de todos los valores procesados. En el caso que nos ocupa, sería interesante obtener al final cuál ha sido el valor mayor por el que ha pasado $n$.\n",
    "\n",
    "La idea para resolver este tipo de problema es tan sencilla como efectiva y se puede enunciar de la siguiente forma para el caso de querer obtener el valor máximo:\n",
    "\n",
    "- Fuera del bucle, incializar una variable, `maximo`, con el primer valor del conjunto de números (o con el menor de los valores del rango esperado, si es que esta información se conoce)\n",
    "\n",
    "- Si el algoritmo encuentra un $n$ impar, interrogar mediante un condicional, si el valor actualmente inspeccionado del conjunto de números es mayor que el que teníamos *memorizado* en `maximo` y, en caso afirmativo, actualizar el valor de esta última variable. Nótese que si $n$ es par, el nuevo valor $n$ será necesariamente inferior.\n",
    "\n",
    "Basta añadir a la función `collatz()` un nuevo parámetro de salida."
   ]
  },
  {
   "cell_type": "code",
   "execution_count": null,
   "metadata": {},
   "outputs": [],
   "source": [
    "def collatz(n, max_iter=1e10):\n",
    "    '''Implementa la conjetura de Collatz con un valor límite de iteraciones max_iter.\n",
    "       Devuelve True o False en función de si se cumple la conjetura para el valor de entrada num,\n",
    "       el número de iteraciones que se han necesitado y el máximo valor alcanzado'''\n",
    "    \n",
    "    iteraciones = 0\n",
    "    maximo = n    # inicializamos a un valor conocido\n",
    "    while n != 1 and iteraciones < max_iter:\n",
    "        if n % 2 == 0: \n",
    "            n = n // 2\n",
    "        else:\n",
    "            n = 3*n + 1\n",
    "            if n > maximo:\n",
    "                maximo = n\n",
    "        iteraciones += 1\n",
    "    \n",
    "    if n == 1:\n",
    "        return True, iteraciones, maximo\n",
    "    else:\n",
    "        return False, iteraciones, maximo"
   ]
  },
  {
   "cell_type": "markdown",
   "metadata": {},
   "source": [
    "#### Ejemplo 5: Algoritmo de ordenación por inserción\n",
    "Una de las actividades más habituales en programación es la de ordenar una colección de datos. Es tan común esta tarea que existen funciones y métodos ya listos para ser utilizados, predefinidos en el lenguaje, como por ejemplo, la función nativa `sorted()` o el método `.sort()`  de las listas.\n",
    "\n",
    "La razón que justifica la importancia de tener listas ordenadas radica en la facilidad posterior de encontrar elementos en una lista ordenada, al poder realizar sobre ellas las llamadas **búsquedas binarias**, mucho más eficientes que una búsqueda **secuencial**.\n",
    "\n",
    "Existen muchos algoritmos de ordenación, de diferente grado de complejidad y eficiencia. El algoritmo de ordenación por **inserción** o **método de la baraja** es bastante simple y resulta eficaz para colecciones no muy grandes.\n",
    "\n",
    "Supongamos que se quiere ordenar una lista dada de menor a mayor. La idea básica consiste en dividir (conceptualmente) la lista en dos: \n",
    "* una primera sublista que se mantiene siempre ordenada\n",
    "* una sublista con los elementos restantes, que están en principio desordenados\n",
    "\n",
    "De forma iterada, se extrae el primer elemento de la sublista desordenada y se inserta en el lugar adecuado en la sublista ordenada.\n",
    "De esta forma, en cada iteración la sublista ordenada crece en un elemento y la desordenada disminuirá en uno. \n",
    "\n",
    "¿Cómo inicializar el algortimo? El tamaño inicial de la sublista ordenada será uno y el elemento que la compone será el primer elemento de la lista original ¡que está, por supuesto, ordenado!. El resto de elementos constituyen la lista inicial desordenada."
   ]
  },
  {
   "cell_type": "code",
   "execution_count": 2,
   "metadata": {},
   "outputs": [
    {
     "name": "stdout",
     "output_type": "stream",
     "text": [
      "[-10, -1, 0, 1, 1, 4, 6, 20]\n"
     ]
    }
   ],
   "source": [
    "enteros = [20, 1, 4, -1, -10, 0, 1, 6]\n",
    "\n",
    "for i in range(1, len(enteros)): # Recorre la sublista desordenada\n",
    "    j = i\n",
    "    tmp = enteros[i]  # Copia temporal del nuevo elemento\n",
    "    while j > 0 and enteros[j-1] > tmp: # Bucle que deja un hueco para insertar el nuevo elemento en la sublista ordenada\n",
    "        enteros[j] = enteros[j-1]\n",
    "        j -= 1\n",
    "    enteros[j] = tmp  # Inserta el nuevo elemento\n",
    "\n",
    "print(enteros)"
   ]
  },
  {
   "cell_type": "markdown",
   "metadata": {},
   "source": [
    "Es importante entender que el algoritmo anterior ordena la lista _in situ_. Se trata de dos bucles anidados. El `for` externo _recorre_ todos los elementos, a partir del segundo utilizando el índice ```i```, esto es recorre uno por uno todos los elementos de la sublista desordenada. El bucle interno, por su parte, utiliza un `while` y otro índice ```j``` para recorrer la sublista de los elementos ya ordenados, hasta encontrar el sitio que le corresponde al elemento que debe ser insertado y que está provisionalmente almacenado en ```tmp```. Nótese que mientras no se encuetra la posición adecuado en la sublista ordenada, los elementos de la misma son _recolocados_ apropiadamente *ascendiéndolos* una posición. \n",
    "\n",
    "¿Cómo modificarías el código previo para que se ordene de mayor a menor?"
   ]
  },
  {
   "cell_type": "markdown",
   "metadata": {},
   "source": [
    "Vamos ahora a encapsular el algoritmo en una función `sort_insercion(lista, reverse=False)`. Si el parámetro `reverse` es `True`, se ordenará de mayor a menor."
   ]
  },
  {
   "cell_type": "code",
   "execution_count": 21,
   "metadata": {},
   "outputs": [
    {
     "name": "stdout",
     "output_type": "stream",
     "text": [
      "[20, 6, 4, 1, 1, 0, -1, -10]\n"
     ]
    }
   ],
   "source": [
    "def compara(x, y, reverse):\n",
    "    '''Compara dos valores en función del argumento reverse'''\n",
    "    \n",
    "    if reverse:\n",
    "        return x < y\n",
    "    else:\n",
    "        return x > y\n",
    "\n",
    "    \n",
    "def sort_insercion(lista, reverse=False):\n",
    "    '''Ordena una lista de menor a mayor si reverse es False. De mayor a menor si reverse es True'''\n",
    "    \n",
    "    for i in range(1, len(lista)): \n",
    "        j = i\n",
    "        tmp = lista[i]  \n",
    "        while j > 0 and compara(lista[j-1], tmp, reverse): \n",
    "            lista[j] = lista[j-1]\n",
    "            j -= 1\n",
    "        lista[j] = tmp\n",
    "\n",
    "\n",
    "enteros = [20, 1, 4, -1, -10, 0, 1, 6]\n",
    "sort_insercion(enteros, True)\n",
    "print(enteros)"
   ]
  },
  {
   "cell_type": "markdown",
   "metadata": {},
   "source": [
    "Nótese que la lista `enteros`, externa a la función, ha sido modificada dentro de la función. Esto no es sino la consecuencia de su caracter **mutable**. Tanto la variable local `lista` como la variable externa `enteros` están ligadas a la misma zona de memoria donde residen los datos de la secuencia. Modificar la secuencia `lista`, por tanto, implica estar haciéndolo con la secuencia `enteros`."
   ]
  },
  {
   "cell_type": "code",
   "execution_count": null,
   "metadata": {},
   "outputs": [],
   "source": []
  }
 ],
 "metadata": {
  "anaconda-cloud": {},
  "celltoolbar": "Tags",
  "hide_code_all_hidden": false,
  "jupytext": {
   "formats": "ipynb,md:myst"
  },
  "kernelspec": {
   "display_name": "Python 3",
   "language": "python",
   "name": "python3"
  },
  "language_info": {
   "codemirror_mode": {
    "name": "ipython",
    "version": 3
   },
   "file_extension": ".py",
   "mimetype": "text/x-python",
   "name": "python",
   "nbconvert_exporter": "python",
   "pygments_lexer": "ipython3",
   "version": "3.7.7"
  },
  "nbpresent": {
   "slides": {
    "1390653e-bdb6-444a-b611-39c60ffb77a1": {
     "id": "1390653e-bdb6-444a-b611-39c60ffb77a1",
     "prev": "5c2c8cc8-3676-4c06-b94c-d3f866ade69b",
     "regions": {
      "620813b3-9326-41e6-9d30-f5ac4f858225": {
       "attrs": {
        "height": 0.8,
        "width": 0.8,
        "x": 0.1,
        "y": 0.1
       },
       "content": {
        "cell": "86423d42-e808-47e6-b1a7-e925e195f821",
        "part": "whole"
       },
       "id": "620813b3-9326-41e6-9d30-f5ac4f858225"
      }
     }
    },
    "21036f68-a492-4532-a832-b213435c0ad2": {
     "id": "21036f68-a492-4532-a832-b213435c0ad2",
     "prev": "2c1c7f11-e5ee-4a25-8975-f0b033ba739a",
     "regions": {
      "a3908958-0784-4faa-ac97-b9325abe8ede": {
       "attrs": {
        "height": 0.8,
        "width": 0.8,
        "x": 0.1,
        "y": 0.1
       },
       "content": {
        "cell": "9aa64747-dc13-4bd9-bf26-73606628ad1c",
        "part": "whole"
       },
       "id": "a3908958-0784-4faa-ac97-b9325abe8ede"
      }
     }
    },
    "2c1c7f11-e5ee-4a25-8975-f0b033ba739a": {
     "id": "2c1c7f11-e5ee-4a25-8975-f0b033ba739a",
     "prev": "f3f10f50-4cad-4149-b308-c66e6a493a72",
     "regions": {
      "9e2d820e-ec17-4915-b960-0e0d5f640379": {
       "attrs": {
        "height": 0.8,
        "width": 0.8,
        "x": 0.1,
        "y": 0.1
       },
       "content": {
        "cell": "0281a659-abae-4cb9-b30f-b552b9db399e",
        "part": "whole"
       },
       "id": "9e2d820e-ec17-4915-b960-0e0d5f640379"
      }
     }
    },
    "30509a9a-dbd8-4dbd-9fab-852a7266d894": {
     "id": "30509a9a-dbd8-4dbd-9fab-852a7266d894",
     "prev": "8b078b7a-c2c6-4129-a19f-2a4f5c4a26f3",
     "regions": {
      "7baa4379-8f84-4d8f-b002-5a5ffd051489": {
       "attrs": {
        "height": 0.8,
        "width": 0.8,
        "x": 0.1,
        "y": 0.1
       },
       "content": {
        "cell": "14d1a927-b37f-4323-9404-17d453f3b487",
        "part": "whole"
       },
       "id": "7baa4379-8f84-4d8f-b002-5a5ffd051489"
      }
     }
    },
    "42d1bd80-265e-4acf-bbc1-b202afddade3": {
     "id": "42d1bd80-265e-4acf-bbc1-b202afddade3",
     "prev": "9bfe6214-4631-45b5-a05e-8923f178bb57",
     "regions": {
      "f2340145-4108-4fed-a0bc-4b91ca6c10ae": {
       "attrs": {
        "height": 0.8,
        "width": 0.8,
        "x": 0.1,
        "y": 0.1
       },
       "content": {
        "cell": "80be6133-d85a-4e43-9964-6578abcbaaac",
        "part": "whole"
       },
       "id": "f2340145-4108-4fed-a0bc-4b91ca6c10ae"
      }
     }
    },
    "5c2c8cc8-3676-4c06-b94c-d3f866ade69b": {
     "id": "5c2c8cc8-3676-4c06-b94c-d3f866ade69b",
     "prev": "6c4bc874-f3fc-472c-a81c-cd415b91c24b",
     "regions": {
      "e1de7ab6-4ef2-4b14-92d7-b174bf32806e": {
       "attrs": {
        "height": 0.8,
        "width": 0.8,
        "x": 0.1,
        "y": 0.1
       },
       "content": {
        "cell": "ae8725fa-30f7-4d7f-a2c2-5f86953d730b",
        "part": "whole"
       },
       "id": "e1de7ab6-4ef2-4b14-92d7-b174bf32806e"
      }
     }
    },
    "5cab5674-74dc-4378-93d7-eaa79e90cdae": {
     "id": "5cab5674-74dc-4378-93d7-eaa79e90cdae",
     "prev": "ba274d18-2760-4e55-ad47-2727b824fd00",
     "regions": {
      "2178d7cf-bf1e-4850-95a2-1509f15febfa": {
       "attrs": {
        "height": 0.8,
        "width": 0.8,
        "x": 0.1,
        "y": 0.1
       },
       "content": {
        "cell": "5d433d13-f44a-45bb-91fd-406f60b33b67",
        "part": "whole"
       },
       "id": "2178d7cf-bf1e-4850-95a2-1509f15febfa"
      }
     }
    },
    "638df7e1-84d1-4fd4-a15c-c94b731d1bea": {
     "id": "638df7e1-84d1-4fd4-a15c-c94b731d1bea",
     "prev": "b9dddf99-da24-46e1-81d4-8ac33b6fc3a3",
     "regions": {
      "deba8b1f-d997-4426-8f1b-978df7f19b41": {
       "attrs": {
        "height": 0.8,
        "width": 0.8,
        "x": 0.1,
        "y": 0.1
       },
       "content": {
        "cell": "7adaaf8f-a83e-456b-b99a-d3b3d4cb6d1a",
        "part": "whole"
       },
       "id": "deba8b1f-d997-4426-8f1b-978df7f19b41"
      }
     }
    },
    "6bda9eb4-0724-4e53-9971-131d0cb5f9e2": {
     "id": "6bda9eb4-0724-4e53-9971-131d0cb5f9e2",
     "prev": "ee33e624-cd65-4b8c-b28b-c95623a56dbf",
     "regions": {
      "feffbbd2-27d1-4318-8359-7d57583ee2bc": {
       "attrs": {
        "height": 0.8,
        "width": 0.8,
        "x": 0.1,
        "y": 0.1
       },
       "content": {
        "cell": "8dce188c-36b7-41fa-9020-b5cb5502e452",
        "part": "whole"
       },
       "id": "feffbbd2-27d1-4318-8359-7d57583ee2bc"
      }
     }
    },
    "6c4bc874-f3fc-472c-a81c-cd415b91c24b": {
     "id": "6c4bc874-f3fc-472c-a81c-cd415b91c24b",
     "prev": null,
     "regions": {
      "c9eac7e8-d033-4b03-8bf7-abd58ffe8d41": {
       "attrs": {
        "height": 0.8,
        "width": 0.8,
        "x": 0.1,
        "y": 0.1
       },
       "content": {
        "cell": "71219fc3-c9cb-4700-9f0b-ab38b1b223da",
        "part": "whole"
       },
       "id": "c9eac7e8-d033-4b03-8bf7-abd58ffe8d41"
      }
     }
    },
    "6d7ab34f-9d99-4c74-9877-27b25abc73f0": {
     "id": "6d7ab34f-9d99-4c74-9877-27b25abc73f0",
     "prev": "febe7de9-9362-4079-bfe9-2d4dfddf00e2",
     "regions": {
      "2ee252de-db5f-43e7-b4b7-7f59bba29962": {
       "attrs": {
        "height": 0.8,
        "width": 0.8,
        "x": 0.1,
        "y": 0.1
       },
       "content": {
        "cell": "85d1ab90-cc65-4935-808b-a6f57ecc892e",
        "part": "whole"
       },
       "id": "2ee252de-db5f-43e7-b4b7-7f59bba29962"
      }
     }
    },
    "7ea582c3-439d-4ec2-9f27-dea18bcacc31": {
     "id": "7ea582c3-439d-4ec2-9f27-dea18bcacc31",
     "prev": "f0727a74-61a1-48c1-94a5-3e7490c29f0b",
     "regions": {
      "652960af-b61f-4c36-b122-3eacd714867b": {
       "attrs": {
        "height": 0.8,
        "width": 0.8,
        "x": 0.1,
        "y": 0.1
       },
       "content": {
        "cell": "86172e20-fe16-447d-859f-24a81e563011",
        "part": "whole"
       },
       "id": "652960af-b61f-4c36-b122-3eacd714867b"
      }
     }
    },
    "8b078b7a-c2c6-4129-a19f-2a4f5c4a26f3": {
     "id": "8b078b7a-c2c6-4129-a19f-2a4f5c4a26f3",
     "prev": "5cab5674-74dc-4378-93d7-eaa79e90cdae",
     "regions": {
      "dce1e605-9342-414d-b8c6-7dcb922fbf47": {
       "attrs": {
        "height": 0.8,
        "width": 0.8,
        "x": 0.1,
        "y": 0.1
       },
       "content": {
        "cell": "ee1bdf03-6e13-4f1f-9dc9-22d4e344fdba",
        "part": "whole"
       },
       "id": "dce1e605-9342-414d-b8c6-7dcb922fbf47"
      }
     }
    },
    "999513ad-b53e-4d84-b9ef-ed37967f74d6": {
     "id": "999513ad-b53e-4d84-b9ef-ed37967f74d6",
     "prev": "638df7e1-84d1-4fd4-a15c-c94b731d1bea",
     "regions": {
      "2e85c1b2-3c30-413e-9b0f-141281da3a2a": {
       "attrs": {
        "height": 0.8,
        "width": 0.8,
        "x": 0.1,
        "y": 0.1
       },
       "content": {
        "cell": "998dc7f5-ab6d-4fb8-866f-4fa96a06aaaa",
        "part": "whole"
       },
       "id": "2e85c1b2-3c30-413e-9b0f-141281da3a2a"
      }
     }
    },
    "9add3d79-8621-4167-8e1d-d4ae48fba71b": {
     "id": "9add3d79-8621-4167-8e1d-d4ae48fba71b",
     "prev": "7ea582c3-439d-4ec2-9f27-dea18bcacc31",
     "regions": {
      "d5f4537e-4d8c-4179-b14b-6c475f50b04e": {
       "attrs": {
        "height": 0.8,
        "width": 0.8,
        "x": 0.1,
        "y": 0.1
       },
       "content": {
        "cell": "9659b1c1-9aed-4d71-b830-4a60d408ad71",
        "part": "whole"
       },
       "id": "d5f4537e-4d8c-4179-b14b-6c475f50b04e"
      }
     }
    },
    "9bfe6214-4631-45b5-a05e-8923f178bb57": {
     "id": "9bfe6214-4631-45b5-a05e-8923f178bb57",
     "prev": "30509a9a-dbd8-4dbd-9fab-852a7266d894",
     "regions": {
      "aac53254-d149-49f2-8f92-670c6f2714bb": {
       "attrs": {
        "height": 0.8,
        "width": 0.8,
        "x": 0.1,
        "y": 0.1
       },
       "content": {
        "cell": "c71a78d7-9d0e-4825-9c84-9998f971317d",
        "part": "whole"
       },
       "id": "aac53254-d149-49f2-8f92-670c6f2714bb"
      }
     }
    },
    "b9dddf99-da24-46e1-81d4-8ac33b6fc3a3": {
     "id": "b9dddf99-da24-46e1-81d4-8ac33b6fc3a3",
     "prev": "1390653e-bdb6-444a-b611-39c60ffb77a1",
     "regions": {
      "0b31dbb4-f15b-4a16-9420-c5dc8ed4e871": {
       "attrs": {
        "height": 0.8,
        "width": 0.8,
        "x": 0.1,
        "y": 0.1
       },
       "content": {
        "cell": "d0569bb0-fad8-48b7-8d48-0066bfb90401",
        "part": "whole"
       },
       "id": "0b31dbb4-f15b-4a16-9420-c5dc8ed4e871"
      }
     }
    },
    "ba274d18-2760-4e55-ad47-2727b824fd00": {
     "id": "ba274d18-2760-4e55-ad47-2727b824fd00",
     "prev": "ed47079d-58cf-4b87-a9fa-a709d8a7c3c6",
     "regions": {
      "13000b51-bd66-4fb5-970b-20bfad440880": {
       "attrs": {
        "height": 0.8,
        "width": 0.8,
        "x": 0.1,
        "y": 0.1
       },
       "content": {
        "cell": "f6847886-4044-43a7-9edd-f18efddcb7a9",
        "part": "whole"
       },
       "id": "13000b51-bd66-4fb5-970b-20bfad440880"
      }
     }
    },
    "ed47079d-58cf-4b87-a9fa-a709d8a7c3c6": {
     "id": "ed47079d-58cf-4b87-a9fa-a709d8a7c3c6",
     "prev": "9add3d79-8621-4167-8e1d-d4ae48fba71b",
     "regions": {
      "a96aea94-1714-4020-83f9-dbc03e9fd55e": {
       "attrs": {
        "height": 0.8,
        "width": 0.8,
        "x": 0.1,
        "y": 0.1
       },
       "content": {
        "cell": "5a579720-fa62-4525-85e3-dd049cbd73be",
        "part": "whole"
       },
       "id": "a96aea94-1714-4020-83f9-dbc03e9fd55e"
      }
     }
    },
    "ee33e624-cd65-4b8c-b28b-c95623a56dbf": {
     "id": "ee33e624-cd65-4b8c-b28b-c95623a56dbf",
     "prev": "999513ad-b53e-4d84-b9ef-ed37967f74d6",
     "regions": {
      "325ae98d-0855-4d16-8408-6d12f47efa24": {
       "attrs": {
        "height": 0.8,
        "width": 0.8,
        "x": 0.1,
        "y": 0.1
       },
       "content": {
        "cell": "829150e0-712b-4739-92d6-37b9c3d789cb",
        "part": "whole"
       },
       "id": "325ae98d-0855-4d16-8408-6d12f47efa24"
      }
     }
    },
    "f0727a74-61a1-48c1-94a5-3e7490c29f0b": {
     "id": "f0727a74-61a1-48c1-94a5-3e7490c29f0b",
     "prev": "6d7ab34f-9d99-4c74-9877-27b25abc73f0",
     "regions": {
      "1666081e-448d-4f80-90f2-9f26f1568cdc": {
       "attrs": {
        "height": 0.8,
        "width": 0.8,
        "x": 0.1,
        "y": 0.1
       },
       "content": {
        "cell": "d99a804c-9444-418b-bc94-3c2f064e2844",
        "part": "whole"
       },
       "id": "1666081e-448d-4f80-90f2-9f26f1568cdc"
      }
     }
    },
    "f3f10f50-4cad-4149-b308-c66e6a493a72": {
     "id": "f3f10f50-4cad-4149-b308-c66e6a493a72",
     "prev": "42d1bd80-265e-4acf-bbc1-b202afddade3",
     "regions": {
      "4fc1185f-bdb8-46fc-99bd-b8d30defeca9": {
       "attrs": {
        "height": 0.8,
        "width": 0.8,
        "x": 0.1,
        "y": 0.1
       },
       "content": {
        "cell": "9b7597e9-aaa9-4d9f-ba0d-22f43d1a3900",
        "part": "whole"
       },
       "id": "4fc1185f-bdb8-46fc-99bd-b8d30defeca9"
      }
     }
    },
    "febe7de9-9362-4079-bfe9-2d4dfddf00e2": {
     "id": "febe7de9-9362-4079-bfe9-2d4dfddf00e2",
     "prev": "6bda9eb4-0724-4e53-9971-131d0cb5f9e2",
     "regions": {
      "42348103-1cd6-4bac-b346-33cd41aea444": {
       "attrs": {
        "height": 0.8,
        "width": 0.8,
        "x": 0.1,
        "y": 0.1
       },
       "content": {
        "cell": "35a148d4-f201-4441-bf5e-8a07f93dea84",
        "part": "whole"
       },
       "id": "42348103-1cd6-4bac-b346-33cd41aea444"
      }
     }
    }
   },
   "themes": {}
  }
 },
 "nbformat": 4,
 "nbformat_minor": 2
}
