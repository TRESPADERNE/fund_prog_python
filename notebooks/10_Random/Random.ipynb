{
 "cells": [
  {
   "cell_type": "markdown",
   "metadata": {},
   "source": [
    "# Módulo random"
   ]
  },
  {
   "cell_type": "markdown",
   "metadata": {},
   "source": [
    "***"
   ]
  },
  {
   "cell_type": "markdown",
   "metadata": {},
   "source": [
    "## Generador de números aleatorios"
   ]
  },
  {
   "cell_type": "markdown",
   "metadata": {},
   "source": [
    "Un **generador de números aleatorios** (**random number generator**) es un programa que genera una secuencia aleatoria, en principio, de forma impredecible.\n",
    "\n",
    "Su uso es fundamental en aplicaciones de juegos de ordenador, plataformas de apuestas en línea, criptografía y en otras muchas aplicaciones de orden científico para simular o tomar decisiones de forma aleatoria.\n",
    "\n",
    "En realidad, la mayor parte de los generadores de números aleatorios son, en realidad, **pseudoaleatorios**: a partir de un valor inicial, la **semilla** (**seed**), generan una secuencia $\\{rnd1, rnd2, rnd3, ...\\}$ que es **¡siempre la misma!**"
   ]
  },
  {
   "cell_type": "markdown",
   "metadata": {},
   "source": [
    "### La semilla\n",
    "Variando la semilla podemos hacer que la secuencia cambie de una ejecución a otra de nuestro programa. De hecho, los generadores aleatorios sofisticados permiten inicializar la semilla de forma cuidadosa porque, no en vano, debemos evitar que un posible **intruso** (**hacker**), analizando varios elementos de la secuencia, adivine la semilla inicial y sea capaz de reproducir, es decir, predecir, los siguientes valores generados. Esto sería inadmisible en una aplicación web de póquer o de cifrado de mensajes, por ejemplo.\n",
    "\n",
    "Sin embargo, poder usar repetidamente la misma semilla es también una importante característica, ya que permite reproducir cuantas veces sea necesario el mismo experimento y, por ejemplo, depurar un posible error detectado."
   ]
  },
  {
   "cell_type": "markdown",
   "metadata": {},
   "source": [
    "### Generador de aleatorios en Python\n",
    "Python usa por defecto el generador de pseudoaleatorios [Mersenne Twister](https://en.wikipedia.org/wiki/Mersenne_Twister), uno de los más utilizados en diferentes lenguajes de programación para aplicaciones científicas. Sin embargo, es totalmente inapropiado para una aplicación de tipo criptográfico. En general, dada la sofisticación de estos generadores, el análisis de los detalles de implementación de estos algoritmos requiere profundos conocimientos matemáticos. \n",
    "\n",
    "Si no se elige explícitamente una semilla, Python utilizará típicamente la hora del propio ordenador. En concreto, los milisegundos transcurridos desde la medianoche UTC del 1 de enero de 1970 hasta el momento *actual* en el que se ejecuta el código. Esta **marca temporal** (**epoch**) se conoce como **UNIX epoch**. Para muchas de las aplicaciones de interés científico, es una elección más que suficiente.\n",
    "\n",
    "Empezar a usar [valores aleatorios en Python](https://docs.python.org/3/library/random.html) es muy simple, importando el módulo estándar `random`."
   ]
  },
  {
   "cell_type": "code",
   "execution_count": 3,
   "metadata": {},
   "outputs": [],
   "source": [
    "import random"
   ]
  },
  {
   "cell_type": "markdown",
   "metadata": {},
   "source": [
    "## Distribuciones uniformes"
   ]
  },
  {
   "cell_type": "code",
   "execution_count": 11,
   "metadata": {},
   "outputs": [
    {
     "data": {
      "text/plain": [
       "0.2638714659167639"
      ]
     },
     "execution_count": 11,
     "metadata": {},
     "output_type": "execute_result"
    }
   ],
   "source": [
    "random.random()"
   ]
  },
  {
   "cell_type": "markdown",
   "metadata": {},
   "source": [
    "Cada vez que ejecutamos el fragmento anterior, obtenemos diferentes valores. Son valores reales en el intervalo semiabierto $[0,1)$. Estadísticamente, la secuencia de estos valores conforman una **distribución uniforme**, es decir, tienen la misma probabilidad de ser generados.\n",
    "\n",
    "Los valores son diferentes porque, cada vez que ejecutamos el fragmento, Python elige internamente una semilla diferente, al ser el tiempo transcurrido desde el **UNIX epoch** diferente. Sin embargo, si elegimos una semilla inicial, usando `random.seed(semilla)`, obtenemos siempre la misma secuencia.\n",
    "\n",
    "Veámoslo generando 5 veces una lista de 5 valores aleatorios utilizando la misma semilla."
   ]
  },
  {
   "cell_type": "code",
   "execution_count": 3,
   "metadata": {},
   "outputs": [
    {
     "name": "stdout",
     "output_type": "stream",
     "text": [
      "[0.4237474082349614, 0.5300880101180064, 0.13030294124748054, 0.1919971575392927, 0.444573573873013]\n",
      "[0.2210391731572191, 0.45503295884771644, 0.024766967489568525, 0.08577408627625116, 0.7100082002449101]\n",
      "[0.4212483616141941, 0.512633924392356, 0.7342090787834955, 0.3589963597861997, 0.05755452964921848]\n",
      "[0.7831023561605042, 0.5891234827720049, 0.6579127100998954, 0.620991455138067, 0.9707352275789571]\n",
      "[0.36279251847810845, 0.759786612243531, 0.3686838147682068, 0.5720467811917809, 0.660532109250318]\n"
     ]
    }
   ],
   "source": [
    "import random\n",
    "\n",
    "for _ in range(5):\n",
    "    lista = []\n",
    "    semilla = 23  # Cambia este valor para comprobar que la lista cambia a su vez\n",
    "    random.seed(semilla)  # Comenta esta línea si quieres que la lista cambie cada vez que se ejecute la celda\n",
    "    for _ in range(5):\n",
    "        lista.append(random.random())\n",
    "    print(lista)"
   ]
  },
  {
   "cell_type": "markdown",
   "metadata": {},
   "source": [
    "### Valores reales distribuidos uniformemente dentro de un rango\n",
    "Si queremos obtener valores aleatorios de forma uniforme en un intervalo $[inf,sup]$ tenemos el método `uniform(inf, sup)`, que devuelve un real $x$ en el intervalo $inf \\leq x \\leq sup$."
   ]
  },
  {
   "cell_type": "code",
   "execution_count": 4,
   "metadata": {},
   "outputs": [
    {
     "name": "stdout",
     "output_type": "stream",
     "text": [
      "[-0.6595582370873618, -7.816459308662827, 4.338279030918132, 11.970708317462613, 7.986083545339525]\n"
     ]
    }
   ],
   "source": [
    "lista = []\n",
    "inf = -10.5\n",
    "sup = 20.8\n",
    "for _ in range(5):\n",
    "    lista.append(random.uniform(inf, sup))\n",
    "\n",
    "print(lista)"
   ]
  },
  {
   "cell_type": "markdown",
   "metadata": {},
   "source": [
    "El siguiente ejemplo muestra como generar una **nube** de puntos aleatorios en 2D. En concreto, $500$ puntos en el cuadrado formado por los vértices $\\{-100,-100\\}$ y $\\{100,100\\}$."
   ]
  },
  {
   "cell_type": "code",
   "execution_count": 9,
   "metadata": {},
   "outputs": [
    {
     "data": {
      "text/plain": [
       "<matplotlib.collections.PathCollection at 0x2d90bcac688>"
      ]
     },
     "execution_count": 9,
     "metadata": {},
     "output_type": "execute_result"
    },
    {
     "data": {
      "image/png": "[encoded data removed]",
      "text/plain": [
       "<Figure size 432x288 with 1 Axes>"
      ]
     },
     "metadata": {
      "needs_background": "light"
     },
     "output_type": "display_data"
    }
   ],
   "source": [
    "import matplotlib.pyplot as plt\n",
    "\n",
    "inf = -100\n",
    "sup = 100\n",
    "num_puntos = 500\n",
    "x = [0]*num_puntos\n",
    "y = [0]*num_puntos\n",
    "for i in range(num_puntos):\n",
    "    x[i] = random.uniform(inf, sup)\n",
    "    y[i] = random.uniform(inf, sup)\n",
    "\n",
    "plt.scatter(x,y)"
   ]
  },
  {
   "cell_type": "markdown",
   "metadata": {},
   "source": [
    "### Valores enteros distribuidos uniformemente dentro de un rango\n",
    "Para generar valores enteros uniformemente distribuidos en un rango de valores puede usarse el método `randint(inf, sup)`, que devuelve un entero $x$ en el intervalo $inf \\leq x \\leq sup$."
   ]
  },
  {
   "cell_type": "code",
   "execution_count": 5,
   "metadata": {},
   "outputs": [
    {
     "name": "stdout",
     "output_type": "stream",
     "text": [
      "[4, -5, -5, -5, 0, 6, -4, -7, -8, -7]\n"
     ]
    }
   ],
   "source": [
    "inf = -10\n",
    "sup = 6\n",
    "lista = []\n",
    "for _ in range(10):\n",
    "    lista.append(random.randint(inf, sup))\n",
    "\n",
    "print(lista)"
   ]
  },
  {
   "cell_type": "markdown",
   "metadata": {},
   "source": [
    "## Distribución normal\n",
    "La distribución normal de una variable tiene dos parámetros:\n",
    "* la media $\\mu$\n",
    "* la desviación típica $\\sigma$\n",
    "\n",
    "$$y = \\frac{1}{{\\sigma\\sqrt{2\\pi}}}e^{{-(x-\\mu)^2}/{2\\sigma^2}}$$\n",
    "\n",
    "La función `gauss(mu, sigma)` devuelve un valor pseudoaleatorio `float` que sigue esa distribución."
   ]
  },
  {
   "cell_type": "code",
   "execution_count": 5,
   "metadata": {},
   "outputs": [
    {
     "data": {
      "text/plain": [
       "10.0755659334518"
      ]
     },
     "execution_count": 5,
     "metadata": {},
     "output_type": "execute_result"
    }
   ],
   "source": [
    "mu = 10\n",
    "sigma = 1\n",
    "  \n",
    "random.gauss(mu, sigma)"
   ]
  },
  {
   "cell_type": "markdown",
   "metadata": {},
   "source": [
    "## Ejemplos de aplicación\n",
    "### Adivinar un número entero *pensado* por el ordenador\n",
    "Ayudándose del **algoritmo de bisección**, el usuario deberá calcular *a mano* (o con ayuda de otro programa en paralelo) la secuencia de valores que permitirá, en el menor número promedio posible de intentos, adivinar un número entero generado aleatoriamente por el ordenador.\n",
    "\n",
    "El programa tendrá las siguientes características:\n",
    "1. El usuario fijará un rango inicial de valores enteros.\n",
    "2. El programa avisará del número de intentos disponibles.\n",
    "3. Mediante un bucle solicitará al usuario la introducción del valor, indicando en el caso de que no se haya acertado si el valor a adivinar es inferior o superior. Si se acierta o se sobrepasa el número de intentos el bucle finalizará.\n",
    "4. Mostrar un mensaje indicando si se ha acertado o no y el número de intentos empleado."
   ]
  },
  {
   "cell_type": "markdown",
   "metadata": {},
   "source": [
    "Para la introducción del rango de valores se utiliza una función `introduce_rango_int(mensaje)`, que devolverá una tupla con los valores enteros `inf` y `sup` del rango. La cadena `mensaje` permite adaptar el uso de la función a otros cometidos diferentes a los de este ejemplo."
   ]
  },
  {
   "cell_type": "code",
   "execution_count": 27,
   "metadata": {
    "tags": [
     "raises-exception",
     "remove-output"
    ]
   },
   "outputs": [
    {
     "name": "stdout",
     "output_type": "stream",
     "text": [
      "\n",
      "Valor inferior del rango:1\n",
      "Valor superior del rango:2\n"
     ]
    }
   ],
   "source": [
    "def introduce_rango_int(mensaje=''):\n",
    "    '''\n",
    "    Devuelve una tupla entera (inf, sup), garantizando inf <= sup.\n",
    "\n",
    "    Parameters\n",
    "    ----------\n",
    "    mensaje : str\n",
    "        Mensaje por pantalla para indicar el objeto de la solicitud de los valores del rango\n",
    "    Returns\n",
    "    -------\n",
    "    inf, sup : tuple of int\n",
    "        Tupla con los valores enteros del rango\n",
    "    Example\n",
    "    -------\n",
    "    >>> inf, sup = introduce_rango('Introduce un rango de valores:')\n",
    "    '''\n",
    "\n",
    "    print(mensaje)\n",
    "    while True:\n",
    "        try:\n",
    "            inf = int(input('Valor inferior del rango:'))\n",
    "            sup = int(input('Valor superior del rango:'))\n",
    "            if inf > sup:\n",
    "                raise ValueError('No se cumple {}<={}.'.format(inf, sup))\n",
    "        except ValueError as error:\n",
    "            print(error)\n",
    "        else:\n",
    "            break\n",
    "    return inf, sup\n",
    "\n",
    "\n",
    "inf, sup = introduce_rango_int()  # La función devuelve una tupla"
   ]
  },
  {
   "cell_type": "markdown",
   "metadata": {},
   "source": [
    "Para facilitar la introducción de valores por parte del usuario intentando adivinar el número *pensado* por el ordenador, utilizaremos la función `introduce_valor_int(inf, sup)`."
   ]
  },
  {
   "cell_type": "code",
   "execution_count": 28,
   "metadata": {
    "tags": [
     "raises-exception",
     "remove-output"
    ]
   },
   "outputs": [
    {
     "name": "stdout",
     "output_type": "stream",
     "text": [
      "Introduzca un valor entero dentro del rango de valores [0,100]\n",
      "Valor:1\n",
      "1\n"
     ]
    }
   ],
   "source": [
    "def introduce_valor_int(inf, sup):\n",
    "    '''\n",
    "    Devuelve un valor entero introducido por teclado por el usuario, tal que inf <= valor <= sup\n",
    "\n",
    "    Parameters\n",
    "    ----------\n",
    "    inf, sup : numérico, int\n",
    "        Valores inferior y superior del rango\n",
    "    Returns\n",
    "    -------\n",
    "    valor : int\n",
    "        Entero introducido por teclado por el usuario\n",
    "    Raises\n",
    "    ------\n",
    "    ValueError\n",
    "        Si inf > sup\n",
    "    Example\n",
    "    -------\n",
    "    >>> valor = introduce_valor_int(0, 100)\n",
    "    '''\n",
    "\n",
    "    if inf > sup:\n",
    "        raise ValueError('El rango de valores [{},{}] no cumple inf <= sup'.format(inf, sup))\n",
    "    while True:\n",
    "        print('Introduzca un valor entero dentro del rango de valores [{},{}]'.format(inf, sup))\n",
    "        try:\n",
    "            valor = int(input('Valor:'))\n",
    "            if inf > valor or sup < valor:\n",
    "                raise ValueError('El valor introducido no pertenece al rango [{},{}]'.\n",
    "                                 format(inf, sup))\n",
    "        except ValueError as error:\n",
    "            print(error)\n",
    "        else:\n",
    "            break\n",
    "    return valor\n",
    "\n",
    "\n",
    "print(introduce_valor_int(0, 100))"
   ]
  },
  {
   "cell_type": "markdown",
   "metadata": {},
   "source": [
    "Finalmente, el bucle de solicitud de valores al usuario, puede encapsularse en una función `adivina_numero(inf, sup)`."
   ]
  },
  {
   "cell_type": "code",
   "execution_count": 29,
   "metadata": {},
   "outputs": [],
   "source": [
    "def adivina_numero(inf, sup):\n",
    "    '''\n",
    "    Devuelve una tupla con el resultado del proceso de adivinación\n",
    "\n",
    "    Parameters\n",
    "    ----------\n",
    "    inf, sup : numérico, int\n",
    "        Valores inferior y superior del rango\n",
    "    Returns\n",
    "    -------\n",
    "    exito : bool\n",
    "        True si se ha acertado el número\n",
    "    i+1 : int\n",
    "        Número de intentos empleados\n",
    "    num_intentos_max : int\n",
    "        Número de intentos máximos permitidos, en consonancia con el algoritmo de bisección\n",
    "    valor_a_adivinar : int\n",
    "        Número pensado por el ordenador\n",
    "    Example\n",
    "    -------\n",
    "    >>> exito, num_intentos, num_intentos_max, valor_a_adivinar = adivina_numero(0, 100)\n",
    "    '''\n",
    "\n",
    "    num_intentos_max = int(math.log2(sup-inf+1)+1)\n",
    "    print('Te daré {} oportunidades para acertar.'.format(num_intentos_max))\n",
    "\n",
    "    valor_a_adivinar = random.randint(inf, sup)\n",
    "\n",
    "    exito = False\n",
    "    for i in range(num_intentos_max):\n",
    "        valor = introduce_valor_int(inf, sup)\n",
    "        if valor < valor_a_adivinar:\n",
    "            print('Debes probar con un valor superior.')\n",
    "        elif valor > valor_a_adivinar:\n",
    "            print('Debes probar con un valor inferior.')\n",
    "        else:\n",
    "            exito = True\n",
    "            break\n",
    "\n",
    "    return exito, i+1, num_intentos_max, valor_a_adivinar"
   ]
  },
  {
   "cell_type": "markdown",
   "metadata": {},
   "source": [
    "El programa principal quedaría como sigue:"
   ]
  },
  {
   "cell_type": "code",
   "execution_count": 2,
   "metadata": {
    "tags": [
     "raises-exception",
     "remove-output"
    ]
   },
   "outputs": [
    {
     "ename": "NameError",
     "evalue": "name 'introduce_rango_int' is not defined",
     "output_type": "error",
     "traceback": [
      "\u001b[1;31m---------------------------------------------------------------------------\u001b[0m",
      "\u001b[1;31mNameError\u001b[0m                                 Traceback (most recent call last)",
      "\u001b[1;32m<ipython-input-2-0332c41b86b1>\u001b[0m in \u001b[0;36m<module>\u001b[1;34m\u001b[0m\n\u001b[0;32m      5\u001b[0m \u001b[1;32mimport\u001b[0m \u001b[0mrandom\u001b[0m\u001b[1;33m\u001b[0m\u001b[1;33m\u001b[0m\u001b[0m\n\u001b[0;32m      6\u001b[0m \u001b[1;33m\u001b[0m\u001b[0m\n\u001b[1;32m----> 7\u001b[1;33m \u001b[0minf\u001b[0m\u001b[1;33m,\u001b[0m \u001b[0msup\u001b[0m \u001b[1;33m=\u001b[0m \u001b[0mintroduce_rango_int\u001b[0m\u001b[1;33m(\u001b[0m\u001b[1;34m'Introduzca el rango de valores enteros al que pertenece el número que debe adivinarse.'\u001b[0m\u001b[1;33m)\u001b[0m\u001b[1;33m\u001b[0m\u001b[1;33m\u001b[0m\u001b[0m\n\u001b[0m\u001b[0;32m      8\u001b[0m \u001b[1;33m\u001b[0m\u001b[0m\n\u001b[0;32m      9\u001b[0m \u001b[0mexito\u001b[0m\u001b[1;33m,\u001b[0m \u001b[0mnum_intentos\u001b[0m\u001b[1;33m,\u001b[0m \u001b[0mnum_intentos_max\u001b[0m\u001b[1;33m,\u001b[0m \u001b[0mvalor_a_adivinar\u001b[0m \u001b[1;33m=\u001b[0m \u001b[0madivina_numero\u001b[0m\u001b[1;33m(\u001b[0m\u001b[0minf\u001b[0m\u001b[1;33m,\u001b[0m \u001b[0msup\u001b[0m\u001b[1;33m)\u001b[0m\u001b[1;33m\u001b[0m\u001b[1;33m\u001b[0m\u001b[0m\n",
      "\u001b[1;31mNameError\u001b[0m: name 'introduce_rango_int' is not defined"
     ]
    }
   ],
   "source": [
    "# Adivinar un número pensado por el ordenador. \n",
    "# El usuario elige el rango de valores al que pertenece el número que debe adivinar el programa.\n",
    "\n",
    "import math\n",
    "import random\n",
    "\n",
    "inf, sup = introduce_rango_int('Introduzca el rango de valores enteros al que pertenece el número que debe adivinarse.') \n",
    " \n",
    "exito, num_intentos, num_intentos_max, valor_a_adivinar = adivina_numero(inf, sup)\n",
    "if exito:\n",
    "    print('Has acertado en {} intentos.'.format(num_intentos))\n",
    "else:\n",
    "    print('¡Torpe! Consumiste los {} intentos disponibles.'.format(num_intentos_max))\n",
    "    print('El número que tenías que adivinar es el {}.'.format(valor_a_adivinar))"
   ]
  },
  {
   "cell_type": "markdown",
   "metadata": {},
   "source": [
    "Un ejemplo de ejecución es el siguiente:\n",
    "```\n",
    "Introduzca el rango de valores enteros al que pertenece el número que debe adivinarse.\n",
    "Valor inferior del rango:0\n",
    "Valor superior del rango:100\n",
    "Te daré 7 oportunidades para acertar.\n",
    "Introduzca un valor entero dentro del rango de valores [0,100]\n",
    "Valor:50\n",
    "Debes probar con un valor inferior.\n",
    "Introduzca un valor entero dentro del rango de valores [0,100]\n",
    "Valor:25\n",
    "Debes probar con un valor inferior.\n",
    "Introduzca un valor entero dentro del rango de valores [0,100]\n",
    "Valor:12\n",
    "Debes probar con un valor superior.\n",
    "Introduzca un valor entero dentro del rango de valores [0,100]\n",
    "Valor:18\n",
    "Debes probar con un valor superior.\n",
    "Introduzca un valor entero dentro del rango de valores [0,100]\n",
    "Valor:21\n",
    "Debes probar con un valor superior.\n",
    "Introduzca un valor entero dentro del rango de valores [0,100]\n",
    "Valor:23\n",
    "Has acertado en 6 intentos.\n",
    "```"
   ]
  },
  {
   "cell_type": "markdown",
   "metadata": {},
   "source": [
    "### Cálculo del número $\\pi$"
   ]
  },
  {
   "cell_type": "markdown",
   "metadata": {},
   "source": [
    "Para calcular $\\pi$ vamos a usar un círculo centrado en el origen de radio $1$, inscrito en un cuadrado de lado $2$.\n",
    "El área del cuadrado es $2*2=4$ y el del círculo $\\pi r^2=\\pi$.\n",
    "\n",
    "Por tanto, la relación entre ambas áreas es:\n",
    "\n",
    "$$\\frac{\\text{Área círculo}}{\\text{Área cuadrado}}= \\frac{\\pi}{4}$$\n",
    "\n",
    "Mediante **fuerza burta** podemos generar una secuencia de números aleatorios distribuidos uniformemente dentro del cuadrado. Si relacionamos los que han **caído cual dardos** dentro del círculo frente a los totales, deberemos obtener un valor que sigue la relación $\\pi/4$.\n",
    "\n",
    "En lugar de todo el cuadrado, podemos escoger sólo el primer cuadrante y utilizar directamente la función `random()`."
   ]
  },
  {
   "cell_type": "code",
   "execution_count": 15,
   "metadata": {},
   "outputs": [
    {
     "name": "stdout",
     "output_type": "stream",
     "text": [
      "La aproximación obtenida para pi con 10000 dardos es 3.134\n"
     ]
    }
   ],
   "source": [
    "def pi_numerico(n):\n",
    "    '''\n",
    "    Devuelve el valor de pi estimado para una muestra de n valores aleatorios usando\n",
    "    el método de los dardos caídos en un c´rculo inscrito en un cuadrado\n",
    "\n",
    "    Parameters\n",
    "    ----------\n",
    "    n : int\n",
    "        Número de ensayos\n",
    "    Returns\n",
    "    -------\n",
    "    pi : float\n",
    "        Valor estimado de pi\n",
    "    Example\n",
    "    -------\n",
    "    >>> pi = pi_numerico(10000)\n",
    "    '''\n",
    "\n",
    "    contador = 0\n",
    "    for _ in range(n):\n",
    "        x = random.random()\n",
    "        y = random.random()\n",
    "\n",
    "        if x*x + y*y < 1:\n",
    "            contador += 1\n",
    "\n",
    "    return 4*contador/n\n",
    "\n",
    "\n",
    "n = 10000  # Puedes probar con otros valores para ver como varía la precisión\n",
    "print('La aproximación obtenida para pi con {} dardos es {}'.format(n, pi_numerico(n)))"
   ]
  },
  {
   "cell_type": "markdown",
   "metadata": {},
   "source": [
    "Nótese el uso del símbolo `_` indicativo de que el índice del bucle no es necesario y, por tanto, lo **ignoramos**.\n",
    "\n",
    "Podemos simular el algoritmo usando la biblioteca Matplotlib. Para ello, debemos almacenar los valores obtenidos dentro y fuera del círculo en sendas parejas de listas."
   ]
  },
  {
   "cell_type": "code",
   "execution_count": 6,
   "metadata": {},
   "outputs": [
    {
     "name": "stdout",
     "output_type": "stream",
     "text": [
      "La aproximación obtenida para pi con 10000 dardos es 3.1688\n"
     ]
    },
    {
     "data": {
      "image/png": "[encoded data removed]",
      "text/plain": [
       "<Figure size 432x288 with 1 Axes>"
      ]
     },
     "metadata": {
      "needs_background": "light"
     },
     "output_type": "display_data"
    }
   ],
   "source": [
    "import matplotlib.pyplot as plt\n",
    "n = 10000\n",
    "\n",
    "contador = 0\n",
    "x_dentro = []\n",
    "y_dentro = []\n",
    "x_fuera = []\n",
    "y_fuera = []\n",
    "for _ in range(n):\n",
    "    x = random.random()\n",
    "    y = random.random()\n",
    "\n",
    "    if x*x + y*y < 1.:\n",
    "        contador += 1\n",
    "        x_dentro.append(x)\n",
    "        y_dentro.append(y)\n",
    "    else:\n",
    "        x_fuera.append(x)\n",
    "        y_fuera.append(y)\n",
    "\n",
    "print('La aproximación obtenida para pi con {} dardos es {}'.format(n, 4*contador/n))\n",
    "\n",
    "plt.scatter(x_fuera, y_fuera, color='red', s=0.1)\n",
    "plt.scatter(x_dentro, y_dentro, color='green', s=0.1)\n",
    "plt.axis('scaled')\n",
    "plt.show()"
   ]
  },
  {
   "cell_type": "markdown",
   "metadata": {},
   "source": [
    "Veremos más adelante cómo generar en una sóla sentencia una lista de aleatorios cuando estudiemos la biblioteca Numpy."
   ]
  },
  {
   "cell_type": "markdown",
   "metadata": {},
   "source": [
    "### Creación sintética de un segmento de recta afectado de ruido gaussiano"
   ]
  },
  {
   "cell_type": "markdown",
   "metadata": {},
   "source": [
    "Para validar algoritmos en fase de desarrollo es habitual simular determinadas configuraciones de los datos de entrada con valores aleatorios.\n",
    "\n",
    "En este caso, vamos a crear un segmento de recta sintético al que le vamos a añadir un **ruido**, una pequeña perturbación a las coordenadas de cada punto. Normalmente se elige un ruido gaussiano, caracterizado por una media $\\mu$ (típicamente 0) y una desviación típica $\\sigma$. Los puntos se generan uniformemente entre ambos extremos.\n",
    "\n",
    "Este tipo de figuras geométricas con ruido añadido son utilizadas para validar algoritmos de estimación de sus parámetros por mínimos cuadrados."
   ]
  },
  {
   "cell_type": "code",
   "execution_count": 8,
   "metadata": {},
   "outputs": [
    {
     "data": {
      "image/png": "[encoded data removed]",
      "text/plain": [
       "<Figure size 432x288 with 1 Axes>"
      ]
     },
     "metadata": {
      "needs_background": "light"
     },
     "output_type": "display_data"
    }
   ],
   "source": [
    "# Dibujando manualmente un segmento de recta aleatorio\n",
    "import matplotlib.pyplot as plt\n",
    "\n",
    "\n",
    "def genera_coordenadas_segmento_rnd(p_i, p_f, desv, num_puntos):\n",
    "    '''\n",
    "    Devuelve las listas de num_puntos distribuidos uniformemente en un segmento de recta de puntos\n",
    "    extremos p_i y p_f. Estos puntos tienen además un ruido gaussiano aditivo de media 0\n",
    "    y desviación típica desv.\n",
    "\n",
    "    Parameters\n",
    "    ----------\n",
    "    p_i : tuple, float\n",
    "        Tupla con el extremo inicial del segmento\n",
    "    p_f : tuple, float\n",
    "        Tupla con el extremo final del segmento\n",
    "    desv : float\n",
    "        Desviación típica del ruido gaussiano aditivo de media 0\n",
    "    num_puntos : int\n",
    "        Número de puntos aleatorios que se generarán\n",
    "    Returns\n",
    "    -------\n",
    "    lista_x, lista_y : tuple of float\n",
    "        Tupla con las listas de coordenadas de los puntos generados\n",
    "    Example\n",
    "    -------\n",
    "    >>> lista_x, lista_y = genera_coordenadas_segmento_rnd((0, 0), (100, 50), 1.2, 400)\n",
    "    '''\n",
    "\n",
    "    v_x, v_y = (p_f[0]-p_i[0], p_f[1]-p_i[1])  # (v_x, v_y) Vector director\n",
    "\n",
    "    # Creamos las listas de coordenadas\n",
    "    lista_x = [0]*num_puntos\n",
    "    lista_y = [0]*num_puntos\n",
    "    for i in range(num_puntos):\n",
    "        l = random.random()  # Posición aleatoria uniforme del punto dentro del segmento\n",
    "        ruido_x = random.gauss(0, desv)\n",
    "        ruido_y = random.gauss(0, desv)\n",
    "        lista_x[i] = p_i[0] + l*v_x + ruido_x\n",
    "        lista_y[i] = p_i[1] + l*v_y + ruido_y\n",
    "\n",
    "    return lista_x, lista_y\n",
    "\n",
    "\n",
    "p_i = (100, 50)\n",
    "p_f = (-150, 300)\n",
    "num_puntos = 100\n",
    "desv_std = 3\n",
    "lista_x, lista_y = genera_coordenadas_segmento_rnd(p_i, p_f, desv_std, num_puntos)\n",
    "\n",
    "plt.scatter(lista_x, lista_y, s=0.1)  # s es un parámetro que controla el tamaño del punto\n",
    "\n",
    "plt.title('Segmento aleatorio de {} puntos\\nentre {} y {}\\n y desviación estándar {}.'.\n",
    "          format(num_puntos, p_i, p_f, desv_std))\n",
    "plt.axis('scaled')\n",
    "plt.show()"
   ]
  }
 ],
 "metadata": {
  "anaconda-cloud": {},
  "celltoolbar": "Tags",
  "jupytext": {
   "formats": "ipynb,md:myst"
  },
  "kernelspec": {
   "display_name": "Python 3",
   "language": "python",
   "name": "python3"
  },
  "language_info": {
   "codemirror_mode": {
    "name": "ipython",
    "version": 3
   },
   "file_extension": ".py",
   "mimetype": "text/x-python",
   "name": "python",
   "nbconvert_exporter": "python",
   "pygments_lexer": "ipython3",
   "version": "3.7.7"
  },
  "nbpresent": {
   "slides": {
    "1390653e-bdb6-444a-b611-39c60ffb77a1": {
     "id": "1390653e-bdb6-444a-b611-39c60ffb77a1",
     "prev": "5c2c8cc8-3676-4c06-b94c-d3f866ade69b",
     "regions": {
      "620813b3-9326-41e6-9d30-f5ac4f858225": {
       "attrs": {
        "height": 0.8,
        "width": 0.8,
        "x": 0.1,
        "y": 0.1
       },
       "content": {
        "cell": "86423d42-e808-47e6-b1a7-e925e195f821",
        "part": "whole"
       },
       "id": "620813b3-9326-41e6-9d30-f5ac4f858225"
      }
     }
    },
    "21036f68-a492-4532-a832-b213435c0ad2": {
     "id": "21036f68-a492-4532-a832-b213435c0ad2",
     "prev": "2c1c7f11-e5ee-4a25-8975-f0b033ba739a",
     "regions": {
      "a3908958-0784-4faa-ac97-b9325abe8ede": {
       "attrs": {
        "height": 0.8,
        "width": 0.8,
        "x": 0.1,
        "y": 0.1
       },
       "content": {
        "cell": "9aa64747-dc13-4bd9-bf26-73606628ad1c",
        "part": "whole"
       },
       "id": "a3908958-0784-4faa-ac97-b9325abe8ede"
      }
     }
    },
    "2c1c7f11-e5ee-4a25-8975-f0b033ba739a": {
     "id": "2c1c7f11-e5ee-4a25-8975-f0b033ba739a",
     "prev": "f3f10f50-4cad-4149-b308-c66e6a493a72",
     "regions": {
      "9e2d820e-ec17-4915-b960-0e0d5f640379": {
       "attrs": {
        "height": 0.8,
        "width": 0.8,
        "x": 0.1,
        "y": 0.1
       },
       "content": {
        "cell": "0281a659-abae-4cb9-b30f-b552b9db399e",
        "part": "whole"
       },
       "id": "9e2d820e-ec17-4915-b960-0e0d5f640379"
      }
     }
    },
    "30509a9a-dbd8-4dbd-9fab-852a7266d894": {
     "id": "30509a9a-dbd8-4dbd-9fab-852a7266d894",
     "prev": "8b078b7a-c2c6-4129-a19f-2a4f5c4a26f3",
     "regions": {
      "7baa4379-8f84-4d8f-b002-5a5ffd051489": {
       "attrs": {
        "height": 0.8,
        "width": 0.8,
        "x": 0.1,
        "y": 0.1
       },
       "content": {
        "cell": "14d1a927-b37f-4323-9404-17d453f3b487",
        "part": "whole"
       },
       "id": "7baa4379-8f84-4d8f-b002-5a5ffd051489"
      }
     }
    },
    "42d1bd80-265e-4acf-bbc1-b202afddade3": {
     "id": "42d1bd80-265e-4acf-bbc1-b202afddade3",
     "prev": "9bfe6214-4631-45b5-a05e-8923f178bb57",
     "regions": {
      "f2340145-4108-4fed-a0bc-4b91ca6c10ae": {
       "attrs": {
        "height": 0.8,
        "width": 0.8,
        "x": 0.1,
        "y": 0.1
       },
       "content": {
        "cell": "80be6133-d85a-4e43-9964-6578abcbaaac",
        "part": "whole"
       },
       "id": "f2340145-4108-4fed-a0bc-4b91ca6c10ae"
      }
     }
    },
    "5c2c8cc8-3676-4c06-b94c-d3f866ade69b": {
     "id": "5c2c8cc8-3676-4c06-b94c-d3f866ade69b",
     "prev": "6c4bc874-f3fc-472c-a81c-cd415b91c24b",
     "regions": {
      "e1de7ab6-4ef2-4b14-92d7-b174bf32806e": {
       "attrs": {
        "height": 0.8,
        "width": 0.8,
        "x": 0.1,
        "y": 0.1
       },
       "content": {
        "cell": "ae8725fa-30f7-4d7f-a2c2-5f86953d730b",
        "part": "whole"
       },
       "id": "e1de7ab6-4ef2-4b14-92d7-b174bf32806e"
      }
     }
    },
    "5cab5674-74dc-4378-93d7-eaa79e90cdae": {
     "id": "5cab5674-74dc-4378-93d7-eaa79e90cdae",
     "prev": "ba274d18-2760-4e55-ad47-2727b824fd00",
     "regions": {
      "2178d7cf-bf1e-4850-95a2-1509f15febfa": {
       "attrs": {
        "height": 0.8,
        "width": 0.8,
        "x": 0.1,
        "y": 0.1
       },
       "content": {
        "cell": "5d433d13-f44a-45bb-91fd-406f60b33b67",
        "part": "whole"
       },
       "id": "2178d7cf-bf1e-4850-95a2-1509f15febfa"
      }
     }
    },
    "638df7e1-84d1-4fd4-a15c-c94b731d1bea": {
     "id": "638df7e1-84d1-4fd4-a15c-c94b731d1bea",
     "prev": "b9dddf99-da24-46e1-81d4-8ac33b6fc3a3",
     "regions": {
      "deba8b1f-d997-4426-8f1b-978df7f19b41": {
       "attrs": {
        "height": 0.8,
        "width": 0.8,
        "x": 0.1,
        "y": 0.1
       },
       "content": {
        "cell": "7adaaf8f-a83e-456b-b99a-d3b3d4cb6d1a",
        "part": "whole"
       },
       "id": "deba8b1f-d997-4426-8f1b-978df7f19b41"
      }
     }
    },
    "6bda9eb4-0724-4e53-9971-131d0cb5f9e2": {
     "id": "6bda9eb4-0724-4e53-9971-131d0cb5f9e2",
     "prev": "ee33e624-cd65-4b8c-b28b-c95623a56dbf",
     "regions": {
      "feffbbd2-27d1-4318-8359-7d57583ee2bc": {
       "attrs": {
        "height": 0.8,
        "width": 0.8,
        "x": 0.1,
        "y": 0.1
       },
       "content": {
        "cell": "8dce188c-36b7-41fa-9020-b5cb5502e452",
        "part": "whole"
       },
       "id": "feffbbd2-27d1-4318-8359-7d57583ee2bc"
      }
     }
    },
    "6c4bc874-f3fc-472c-a81c-cd415b91c24b": {
     "id": "6c4bc874-f3fc-472c-a81c-cd415b91c24b",
     "prev": null,
     "regions": {
      "c9eac7e8-d033-4b03-8bf7-abd58ffe8d41": {
       "attrs": {
        "height": 0.8,
        "width": 0.8,
        "x": 0.1,
        "y": 0.1
       },
       "content": {
        "cell": "71219fc3-c9cb-4700-9f0b-ab38b1b223da",
        "part": "whole"
       },
       "id": "c9eac7e8-d033-4b03-8bf7-abd58ffe8d41"
      }
     }
    },
    "6d7ab34f-9d99-4c74-9877-27b25abc73f0": {
     "id": "6d7ab34f-9d99-4c74-9877-27b25abc73f0",
     "prev": "febe7de9-9362-4079-bfe9-2d4dfddf00e2",
     "regions": {
      "2ee252de-db5f-43e7-b4b7-7f59bba29962": {
       "attrs": {
        "height": 0.8,
        "width": 0.8,
        "x": 0.1,
        "y": 0.1
       },
       "content": {
        "cell": "85d1ab90-cc65-4935-808b-a6f57ecc892e",
        "part": "whole"
       },
       "id": "2ee252de-db5f-43e7-b4b7-7f59bba29962"
      }
     }
    },
    "7ea582c3-439d-4ec2-9f27-dea18bcacc31": {
     "id": "7ea582c3-439d-4ec2-9f27-dea18bcacc31",
     "prev": "f0727a74-61a1-48c1-94a5-3e7490c29f0b",
     "regions": {
      "652960af-b61f-4c36-b122-3eacd714867b": {
       "attrs": {
        "height": 0.8,
        "width": 0.8,
        "x": 0.1,
        "y": 0.1
       },
       "content": {
        "cell": "86172e20-fe16-447d-859f-24a81e563011",
        "part": "whole"
       },
       "id": "652960af-b61f-4c36-b122-3eacd714867b"
      }
     }
    },
    "8b078b7a-c2c6-4129-a19f-2a4f5c4a26f3": {
     "id": "8b078b7a-c2c6-4129-a19f-2a4f5c4a26f3",
     "prev": "5cab5674-74dc-4378-93d7-eaa79e90cdae",
     "regions": {
      "dce1e605-9342-414d-b8c6-7dcb922fbf47": {
       "attrs": {
        "height": 0.8,
        "width": 0.8,
        "x": 0.1,
        "y": 0.1
       },
       "content": {
        "cell": "ee1bdf03-6e13-4f1f-9dc9-22d4e344fdba",
        "part": "whole"
       },
       "id": "dce1e605-9342-414d-b8c6-7dcb922fbf47"
      }
     }
    },
    "999513ad-b53e-4d84-b9ef-ed37967f74d6": {
     "id": "999513ad-b53e-4d84-b9ef-ed37967f74d6",
     "prev": "638df7e1-84d1-4fd4-a15c-c94b731d1bea",
     "regions": {
      "2e85c1b2-3c30-413e-9b0f-141281da3a2a": {
       "attrs": {
        "height": 0.8,
        "width": 0.8,
        "x": 0.1,
        "y": 0.1
       },
       "content": {
        "cell": "998dc7f5-ab6d-4fb8-866f-4fa96a06aaaa",
        "part": "whole"
       },
       "id": "2e85c1b2-3c30-413e-9b0f-141281da3a2a"
      }
     }
    },
    "9add3d79-8621-4167-8e1d-d4ae48fba71b": {
     "id": "9add3d79-8621-4167-8e1d-d4ae48fba71b",
     "prev": "7ea582c3-439d-4ec2-9f27-dea18bcacc31",
     "regions": {
      "d5f4537e-4d8c-4179-b14b-6c475f50b04e": {
       "attrs": {
        "height": 0.8,
        "width": 0.8,
        "x": 0.1,
        "y": 0.1
       },
       "content": {
        "cell": "9659b1c1-9aed-4d71-b830-4a60d408ad71",
        "part": "whole"
       },
       "id": "d5f4537e-4d8c-4179-b14b-6c475f50b04e"
      }
     }
    },
    "9bfe6214-4631-45b5-a05e-8923f178bb57": {
     "id": "9bfe6214-4631-45b5-a05e-8923f178bb57",
     "prev": "30509a9a-dbd8-4dbd-9fab-852a7266d894",
     "regions": {
      "aac53254-d149-49f2-8f92-670c6f2714bb": {
       "attrs": {
        "height": 0.8,
        "width": 0.8,
        "x": 0.1,
        "y": 0.1
       },
       "content": {
        "cell": "c71a78d7-9d0e-4825-9c84-9998f971317d",
        "part": "whole"
       },
       "id": "aac53254-d149-49f2-8f92-670c6f2714bb"
      }
     }
    },
    "b9dddf99-da24-46e1-81d4-8ac33b6fc3a3": {
     "id": "b9dddf99-da24-46e1-81d4-8ac33b6fc3a3",
     "prev": "1390653e-bdb6-444a-b611-39c60ffb77a1",
     "regions": {
      "0b31dbb4-f15b-4a16-9420-c5dc8ed4e871": {
       "attrs": {
        "height": 0.8,
        "width": 0.8,
        "x": 0.1,
        "y": 0.1
       },
       "content": {
        "cell": "d0569bb0-fad8-48b7-8d48-0066bfb90401",
        "part": "whole"
       },
       "id": "0b31dbb4-f15b-4a16-9420-c5dc8ed4e871"
      }
     }
    },
    "ba274d18-2760-4e55-ad47-2727b824fd00": {
     "id": "ba274d18-2760-4e55-ad47-2727b824fd00",
     "prev": "ed47079d-58cf-4b87-a9fa-a709d8a7c3c6",
     "regions": {
      "13000b51-bd66-4fb5-970b-20bfad440880": {
       "attrs": {
        "height": 0.8,
        "width": 0.8,
        "x": 0.1,
        "y": 0.1
       },
       "content": {
        "cell": "f6847886-4044-43a7-9edd-f18efddcb7a9",
        "part": "whole"
       },
       "id": "13000b51-bd66-4fb5-970b-20bfad440880"
      }
     }
    },
    "ed47079d-58cf-4b87-a9fa-a709d8a7c3c6": {
     "id": "ed47079d-58cf-4b87-a9fa-a709d8a7c3c6",
     "prev": "9add3d79-8621-4167-8e1d-d4ae48fba71b",
     "regions": {
      "a96aea94-1714-4020-83f9-dbc03e9fd55e": {
       "attrs": {
        "height": 0.8,
        "width": 0.8,
        "x": 0.1,
        "y": 0.1
       },
       "content": {
        "cell": "5a579720-fa62-4525-85e3-dd049cbd73be",
        "part": "whole"
       },
       "id": "a96aea94-1714-4020-83f9-dbc03e9fd55e"
      }
     }
    },
    "ee33e624-cd65-4b8c-b28b-c95623a56dbf": {
     "id": "ee33e624-cd65-4b8c-b28b-c95623a56dbf",
     "prev": "999513ad-b53e-4d84-b9ef-ed37967f74d6",
     "regions": {
      "325ae98d-0855-4d16-8408-6d12f47efa24": {
       "attrs": {
        "height": 0.8,
        "width": 0.8,
        "x": 0.1,
        "y": 0.1
       },
       "content": {
        "cell": "829150e0-712b-4739-92d6-37b9c3d789cb",
        "part": "whole"
       },
       "id": "325ae98d-0855-4d16-8408-6d12f47efa24"
      }
     }
    },
    "f0727a74-61a1-48c1-94a5-3e7490c29f0b": {
     "id": "f0727a74-61a1-48c1-94a5-3e7490c29f0b",
     "prev": "6d7ab34f-9d99-4c74-9877-27b25abc73f0",
     "regions": {
      "1666081e-448d-4f80-90f2-9f26f1568cdc": {
       "attrs": {
        "height": 0.8,
        "width": 0.8,
        "x": 0.1,
        "y": 0.1
       },
       "content": {
        "cell": "d99a804c-9444-418b-bc94-3c2f064e2844",
        "part": "whole"
       },
       "id": "1666081e-448d-4f80-90f2-9f26f1568cdc"
      }
     }
    },
    "f3f10f50-4cad-4149-b308-c66e6a493a72": {
     "id": "f3f10f50-4cad-4149-b308-c66e6a493a72",
     "prev": "42d1bd80-265e-4acf-bbc1-b202afddade3",
     "regions": {
      "4fc1185f-bdb8-46fc-99bd-b8d30defeca9": {
       "attrs": {
        "height": 0.8,
        "width": 0.8,
        "x": 0.1,
        "y": 0.1
       },
       "content": {
        "cell": "9b7597e9-aaa9-4d9f-ba0d-22f43d1a3900",
        "part": "whole"
       },
       "id": "4fc1185f-bdb8-46fc-99bd-b8d30defeca9"
      }
     }
    },
    "febe7de9-9362-4079-bfe9-2d4dfddf00e2": {
     "id": "febe7de9-9362-4079-bfe9-2d4dfddf00e2",
     "prev": "6bda9eb4-0724-4e53-9971-131d0cb5f9e2",
     "regions": {
      "42348103-1cd6-4bac-b346-33cd41aea444": {
       "attrs": {
        "height": 0.8,
        "width": 0.8,
        "x": 0.1,
        "y": 0.1
       },
       "content": {
        "cell": "35a148d4-f201-4441-bf5e-8a07f93dea84",
        "part": "whole"
       },
       "id": "42348103-1cd6-4bac-b346-33cd41aea444"
      }
     }
    }
   },
   "themes": {}
  }
 },
 "nbformat": 4,
 "nbformat_minor": 2
}
