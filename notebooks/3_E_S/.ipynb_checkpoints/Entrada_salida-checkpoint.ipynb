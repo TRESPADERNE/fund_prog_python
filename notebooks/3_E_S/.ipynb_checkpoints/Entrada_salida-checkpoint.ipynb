{
 "cells": [
  {
   "cell_type": "markdown",
   "metadata": {},
   "source": [
    "# La entrada/salida.\n",
    "**Autores**: Rogelio Mazaeda Echevarría, Félix Miguel Trespaderne.   "
   ]
  },
  {
   "cell_type": "markdown",
   "metadata": {},
   "source": [
    "## Contenidos\n",
    "[Introducción](#Introducción)<br>\n",
    "[La función `print()`](#La_función_print())<br>\n",
    "[La función `input()`](#La_función_input())<br>\n",
    "[Salida con formato](#Salida_con_formato)"
   ]
  },
  {
   "cell_type": "markdown",
   "metadata": {},
   "source": [
    "***\n",
    "<a id='Introducción'></a>"
   ]
  },
  {
   "cell_type": "markdown",
   "metadata": {},
   "source": [
    "## Introducción\n",
    "\n",
    "El trabajo directo con el intérprete de Python, aunque útil para realizar pruebas puntuales, no resulta la estrategia más apropiada para escribir programas de cierta envergadura.\n",
    "La opción preferida en la práctica es la de escribir, utilizando un editor de texto cualquiera, las sentencias de Python necesarias. Al fichero creado, conocido como **guion** (**script**) se le da un nombre arbitrario con extensión `.py`.\n",
    "\n",
    "El programa así almacenado podrá ser ejecutado directamente desde una terminal del sistema operativo, con un comando similar al siguiente:\n",
    "```\n",
    "python primer_programa.py\n",
    "```\n",
    "\n",
    "También se puede editar y ejecutar un **guion** desde **entornos de desarrollo integrado (IDE)** como *Spyder*, utilizando los recursos que los mismos ponen a disposición del programador.\n",
    "\n",
    "Los programas almacenados en el archivo son ejecutados por el intérprete, sentencia a sentencia, en el orden en que estas aparezcan en el texto del mismo.\n",
    "\n",
    "El comportamiento de una misma sentencia puede ser ligeramente diferente si se ejecuta directamente por el intérprete o como parte de la ejecución de un programa salvado previamente en un fichero. En particular, en este último caso, la evaluación de una sentencia que contiene, por ejemplo, una expresión, no produce la salida inmediata por pantalla del resultado parcial."
   ]
  },
  {
   "cell_type": "code",
   "execution_count": 1,
   "metadata": {},
   "outputs": [],
   "source": [
    "# Programa que calcula el área de un cilindro de radio y altura dados\n",
    "\n",
    "radio = 2\n",
    "altura = 3\n",
    "PI = 3.14159\n",
    "\n",
    "area_seccion = PI*radio**2\n",
    "area_lado = 2*PI*radio*altura\n",
    "area_cilindro = 2*area_seccion + area_lado"
   ]
  },
  {
   "cell_type": "markdown",
   "metadata": {},
   "source": [
    "El programa anterior puede ser editado y almacenado en un fichero, para posteriormente ser ejecutado siguiendo alguna de las formas comentadas.\n",
    "\n",
    "El programa es, desde luego, muy simple y tiene además el defecto de que, tal y como está, su utilidad es muy limitada:\n",
    "* En primer lugar, para hallar el área exterior de un cilindro de `altura` y/o `radio` diferente, habría que editar el texto del programa para modificar las líneas pertinentes y volverlo a salvar para posteriormente ejecutarlo. \n",
    "* Otro defecto importante es que no se visualiza por pantalla el resultado del cálculo.\n",
    "\n",
    "Nuestra experiencia en la utilización de programas de ordenador nos sugiere otra forma de actuar:\n",
    "* se ejecuta el programa cuantas veces sea necesario\n",
    "* en cada ocasión, se introducen datos diferentes según las necesidades utilizando el teclado del ordenador\n",
    "* se visualiza, típicamente por pantalla, el resultado que se desea\n",
    "\n",
    "O sea, un elemento básico que le falta al programa anterior son las facilidades de **entrada** de datos y **salida** de resultados.\n",
    "\n",
    "Un programa mucho más útil se muestra en la siguiente celda."
   ]
  },
  {
   "cell_type": "markdown",
   "metadata": {},
   "source": [
    "***\n",
    "<a id='La_función_print()'></a>"
   ]
  },
  {
   "cell_type": "markdown",
   "metadata": {},
   "source": [
    "### La función `print()`"
   ]
  },
  {
   "cell_type": "code",
   "execution_count": 2,
   "metadata": {},
   "outputs": [
    {
     "name": "stdout",
     "output_type": "stream",
     "text": [
      "El área del cilindro es:\n",
      "62.83185307179586 unidades al cuadrado\n"
     ]
    }
   ],
   "source": [
    "# Programa que calcula el área de un cilindro de radio y altura dados por el usuario. \n",
    "# Saca por pantalla el resultado\n",
    "from math import pi\n",
    "\n",
    "radio = 2\n",
    "altura = 3\n",
    "\n",
    "area_seccion = pi*radio**2\n",
    "area_lado = 2*pi*radio*altura\n",
    "area_cilindro = 2*area_seccion + area_lado\n",
    "\n",
    "print(\"El área del cilindro es:\")\n",
    "print(area_cilindro, \"unidades al cuadrado\")"
   ]
  },
  {
   "cell_type": "markdown",
   "metadata": {},
   "source": [
    "Sin haber introducido aún la entrada de datos, el código anterior es capaz de mostrar por pantalla el contenido de la variable que almacena el resultado del cálculo. Para ello se utiliza la función ``` print()``` nativa del lenguaje Python.\n",
    "\n",
    "Otra mejora importante se deriva de utilizar una mejor aproximación del número $\\pi$ que se encuentra disponible, como una constante, en el módulo `math`. Al hacer esto, además evitamos cambios accidentales del valor de $\\pi$."
   ]
  },
  {
   "cell_type": "markdown",
   "metadata": {},
   "source": [
    "***\n",
    "<a id='La_función_input()'></a>"
   ]
  },
  {
   "cell_type": "markdown",
   "metadata": {},
   "source": [
    "### La función `input()`\n",
    "\n",
    "Para lograr la introducción vía teclado de los valores de los datos (`radio` y `altura`) se utiliza la función `input()` tal como se muestra a continuación:"
   ]
  },
  {
   "cell_type": "code",
   "execution_count": 1,
   "metadata": {},
   "outputs": [
    {
     "name": "stdout",
     "output_type": "stream",
     "text": [
      "1\n",
      "Dame la altura:1\n",
      "El área del cilindro es: 12.566370614359172\n"
     ]
    }
   ],
   "source": [
    "## Programa que calcula el área de un cilindro con entrada y salida\n",
    "from math import pi\n",
    "\n",
    "cadena_radio = input()\n",
    "radio = float(cadena_radio)\n",
    "\n",
    "# Las dos líneas anteriores se codifican de forma más compacta e informativa para el usuario como:\n",
    "# radio = float(input('Dame el radio:'))\n",
    "\n",
    "altura = float(input('Dame la altura:'))\n",
    "\n",
    "area_seccion = pi*radio**2\n",
    "area_lado = 2*pi*radio*altura\n",
    "area_cilindro = 2*area_seccion + area_lado\n",
    "\n",
    "print(\"El área del cilindro es:\", area_cilindro)"
   ]
  },
  {
   "cell_type": "markdown",
   "metadata": {},
   "source": [
    "Observe que la función `input()` tiene como argumento opcional una cadena de caracteres que ha de servir para informar al usuario (por pantalla) de lo que se espera introduzca por teclado. \n",
    "\n",
    "Por otra parte, se debe notar que la función `input()` devuelve un valor que es de tipo `str`. Es cierto que si el usuario ha hecho lo correcto, esa cadena de caracteres contendrá los dígitos y signos que puedan ser interpretados como un número real, pero para poder realizar aritmética con dicho número hay que obtener la representación numérica del mismo como un valor de tipo `float`. Para lograrlo se utiliza la función nativa de Python `float()`, que espera como argumento una cadena y devuelve el tipo de datos real que la representa (en caso de que no haya errores).\n",
    "\n",
    "La solicitud de la variable `radio` no se hace de una forma **amigable** para el usuario (**user friendly**). Si este no conoce la dinámica del programa le será imposible saber qué se le está solicitando.\n",
    "\n",
    "La solicitud del valor de la variable `altura` corrige el defecto de la anterior de no contener un indicación clara al usuario. Al mismo tiempo resulta más compacta, puesto que utiliza la capacidad de composición de las funciones para aplicar directamente la función `float()` a la cadena que devuelve la función `input()`.\n",
    "\n",
    "Otra función útil en este contexto, que hace una tarea similar, es `int(cadena, base)` que convierte la cadena `cadena` a un entero de la `base` dada. Por defecto (en ausencia del argumento base) se presupone la base decimal.\n",
    "\n",
    "Por otro lado, la función `str()` convierte en el sentido inverso: diferentes valores numéricos a su representación como cadena de caracteres."
   ]
  },
  {
   "cell_type": "code",
   "execution_count": 4,
   "metadata": {},
   "outputs": [
    {
     "data": {
      "text/plain": [
       "'1.2'"
      ]
     },
     "execution_count": 4,
     "metadata": {},
     "output_type": "execute_result"
    }
   ],
   "source": [
    "str(1.2)"
   ]
  },
  {
   "cell_type": "markdown",
   "metadata": {},
   "source": [
    "***\n",
    "<a id='Salida_con_formato'></a>"
   ]
  },
  {
   "cell_type": "markdown",
   "metadata": {},
   "source": [
    "## Salida con formato\n",
    "Habrá notado que la función `print()` puede tener un número variable de argumentos:\n",
    "* cuando estos son cadenas de caracteres, los muestra tal cual en la consola de salida, dispositivo genérico normalmente asociado a la pantalla.\n",
    "* cuando el argumento de la función no es una cadena de caracteres, implícitamente la función `print()` realiza  la conversión requerida desde el tipo de dato original a `str`.\n",
    "\n",
    "El funcionamiento por defecto de `print()` es tal que, al finalizar la salida por pantalla, escribe un carácter que representa el cambio del cursor de la pantalla hacia una nueva línea, el carácter `\\n`. En la mayoría de los casos, este es el comportamiento adecuado.\n",
    "\n",
    "En algunas ocasiones, sin embargo, se podría requerir que el cursor permaneciera en la misma línea después de ejecutar la función `print()`. Para ello, se puede incluir un argumento invocado mediante el parámetro `end` de forma que contenga el carácter que la función debe utilizar al final de la línea. \n",
    "\n",
    "Vea el ejemplo siguiente:"
   ]
  },
  {
   "cell_type": "code",
   "execution_count": 5,
   "metadata": {},
   "outputs": [
    {
     "name": "stdout",
     "output_type": "stream",
     "text": [
      "El valor del volumen es: 3\n"
     ]
    }
   ],
   "source": [
    "vol = 3\n",
    "print(\"El valor del volumen es:\", end=\" \")\n",
    "print(vol)"
   ]
  },
  {
   "cell_type": "markdown",
   "metadata": {},
   "source": [
    "El funcionamiento ya descrito de ```print()``` es suficiente para una salida por pantalla básica, útil en muchos casos.\n",
    "\n",
    "En ocasiones se desea tener un control más detallado de la forma en que los valores van a ser ofrecidos al usuario. Puede desearse, por ejemplo:\n",
    "* mostrar solo un determinado número de dígitos significativos de determinado valor, o \n",
    "* reservar un espacio en pantalla específico para sacar datos en forma de tabla, respetando la alineación de las columnas. \n",
    "\n",
    "Para estos casos, se utiliza preferentemente la opción de especificar formatos en las cadenas de caracteres.\n",
    "\n",
    "Por ejemplo:"
   ]
  },
  {
   "cell_type": "code",
   "execution_count": 2,
   "metadata": {},
   "outputs": [
    {
     "name": "stdout",
     "output_type": "stream",
     "text": [
      "El área de la base es 10.67, el del lado 20.39 y el área total es 41.722\n",
      "Cambiando el orden total: 41.72 es 2*10.67 + 20.39\n"
     ]
    }
   ],
   "source": [
    "area_base = 10.6666\n",
    "area_lado = 20.3891\n",
    "area_total = 2*area_base + area_lado\n",
    "\n",
    "print(\"El área de la base es {:.2f}, el del lado {:.2f} y el área total es {:.3f}\".\n",
    "      format(area_base,area_lado,area_total))\n",
    "print(\"Cambiando el orden total: {2:.2f} es 2*{0:.2f} + {1:.2f}\".\n",
    "      format(area_base,area_lado,area_total))\n"
   ]
  },
  {
   "cell_type": "markdown",
   "metadata": {},
   "source": [
    "Observe el use de las llaves `{}` para introducir dentro de la cadena de caracteres *referencias* a valores que serán proporcionados mediante el **método** `.format()`. Estas referencias tienen el **formato** `{[n]:[tam][.precisión]formato}`. Se debe entender que los corchetes no se mostrarán por pantalla, sino que, como es costumbre a la hora de describir la sintaxis de algunas sentencias, significa que su contenido puede ser omitido. \n",
    "\n",
    "* `n` se utiliza para especificar el número de orden del valor que debe ser embebido tal y como aparece en los argumentos de `.format()`, comenzando en cero. \n",
    "Si se omite esta especificación, se asume el mismo orden en que los argumentos aparecen en `.format()`. \n",
    "* `tam` establece el tamaño del campo en pantalla; de no existir, se tomará el espacio necesario, cualquiera que este sea. \n",
    "* `.precisión` especifica el número de lugares decimales al que se redondeará el valor. Esto es aplicable  en el caso de que se trate de un valor real. \n",
    "* `formato` es una letra que identifica el tipo del valor: `f` para `float`, `d` para `int` y `s` para `str` son los más habituales.\n",
    "\n",
    "Véase el ejemplo siguiente. Haced modificaciones y razonad el resultado."
   ]
  },
  {
   "cell_type": "code",
   "execution_count": 8,
   "metadata": {},
   "outputs": [
    {
     "name": "stdout",
     "output_type": "stream",
     "text": [
      "  123          1.234\n",
      "1180.200000              1\n"
     ]
    }
   ],
   "source": [
    "print(\"{:5d}{:15.3f}\".format(123,1.234343))\n",
    "print(\"{1:5f}{0:15d}\".format(1,1180.2))"
   ]
  }
 ],
 "metadata": {
  "anaconda-cloud": {},
  "celltoolbar": "Raw Cell Format",
  "kernelspec": {
   "display_name": "Python 3",
   "language": "python",
   "name": "python3"
  },
  "language_info": {
   "codemirror_mode": {
    "name": "ipython",
    "version": 3
   },
   "file_extension": ".py",
   "mimetype": "text/x-python",
   "name": "python",
   "nbconvert_exporter": "python",
   "pygments_lexer": "ipython3",
   "version": "3.7.4"
  },
  "nbpresent": {
   "slides": {
    "1390653e-bdb6-444a-b611-39c60ffb77a1": {
     "id": "1390653e-bdb6-444a-b611-39c60ffb77a1",
     "prev": "5c2c8cc8-3676-4c06-b94c-d3f866ade69b",
     "regions": {
      "620813b3-9326-41e6-9d30-f5ac4f858225": {
       "attrs": {
        "height": 0.8,
        "width": 0.8,
        "x": 0.1,
        "y": 0.1
       },
       "content": {
        "cell": "86423d42-e808-47e6-b1a7-e925e195f821",
        "part": "whole"
       },
       "id": "620813b3-9326-41e6-9d30-f5ac4f858225"
      }
     }
    },
    "21036f68-a492-4532-a832-b213435c0ad2": {
     "id": "21036f68-a492-4532-a832-b213435c0ad2",
     "prev": "2c1c7f11-e5ee-4a25-8975-f0b033ba739a",
     "regions": {
      "a3908958-0784-4faa-ac97-b9325abe8ede": {
       "attrs": {
        "height": 0.8,
        "width": 0.8,
        "x": 0.1,
        "y": 0.1
       },
       "content": {
        "cell": "9aa64747-dc13-4bd9-bf26-73606628ad1c",
        "part": "whole"
       },
       "id": "a3908958-0784-4faa-ac97-b9325abe8ede"
      }
     }
    },
    "2c1c7f11-e5ee-4a25-8975-f0b033ba739a": {
     "id": "2c1c7f11-e5ee-4a25-8975-f0b033ba739a",
     "prev": "f3f10f50-4cad-4149-b308-c66e6a493a72",
     "regions": {
      "9e2d820e-ec17-4915-b960-0e0d5f640379": {
       "attrs": {
        "height": 0.8,
        "width": 0.8,
        "x": 0.1,
        "y": 0.1
       },
       "content": {
        "cell": "0281a659-abae-4cb9-b30f-b552b9db399e",
        "part": "whole"
       },
       "id": "9e2d820e-ec17-4915-b960-0e0d5f640379"
      }
     }
    },
    "30509a9a-dbd8-4dbd-9fab-852a7266d894": {
     "id": "30509a9a-dbd8-4dbd-9fab-852a7266d894",
     "prev": "8b078b7a-c2c6-4129-a19f-2a4f5c4a26f3",
     "regions": {
      "7baa4379-8f84-4d8f-b002-5a5ffd051489": {
       "attrs": {
        "height": 0.8,
        "width": 0.8,
        "x": 0.1,
        "y": 0.1
       },
       "content": {
        "cell": "14d1a927-b37f-4323-9404-17d453f3b487",
        "part": "whole"
       },
       "id": "7baa4379-8f84-4d8f-b002-5a5ffd051489"
      }
     }
    },
    "42d1bd80-265e-4acf-bbc1-b202afddade3": {
     "id": "42d1bd80-265e-4acf-bbc1-b202afddade3",
     "prev": "9bfe6214-4631-45b5-a05e-8923f178bb57",
     "regions": {
      "f2340145-4108-4fed-a0bc-4b91ca6c10ae": {
       "attrs": {
        "height": 0.8,
        "width": 0.8,
        "x": 0.1,
        "y": 0.1
       },
       "content": {
        "cell": "80be6133-d85a-4e43-9964-6578abcbaaac",
        "part": "whole"
       },
       "id": "f2340145-4108-4fed-a0bc-4b91ca6c10ae"
      }
     }
    },
    "5c2c8cc8-3676-4c06-b94c-d3f866ade69b": {
     "id": "5c2c8cc8-3676-4c06-b94c-d3f866ade69b",
     "prev": "6c4bc874-f3fc-472c-a81c-cd415b91c24b",
     "regions": {
      "e1de7ab6-4ef2-4b14-92d7-b174bf32806e": {
       "attrs": {
        "height": 0.8,
        "width": 0.8,
        "x": 0.1,
        "y": 0.1
       },
       "content": {
        "cell": "ae8725fa-30f7-4d7f-a2c2-5f86953d730b",
        "part": "whole"
       },
       "id": "e1de7ab6-4ef2-4b14-92d7-b174bf32806e"
      }
     }
    },
    "5cab5674-74dc-4378-93d7-eaa79e90cdae": {
     "id": "5cab5674-74dc-4378-93d7-eaa79e90cdae",
     "prev": "ba274d18-2760-4e55-ad47-2727b824fd00",
     "regions": {
      "2178d7cf-bf1e-4850-95a2-1509f15febfa": {
       "attrs": {
        "height": 0.8,
        "width": 0.8,
        "x": 0.1,
        "y": 0.1
       },
       "content": {
        "cell": "5d433d13-f44a-45bb-91fd-406f60b33b67",
        "part": "whole"
       },
       "id": "2178d7cf-bf1e-4850-95a2-1509f15febfa"
      }
     }
    },
    "638df7e1-84d1-4fd4-a15c-c94b731d1bea": {
     "id": "638df7e1-84d1-4fd4-a15c-c94b731d1bea",
     "prev": "b9dddf99-da24-46e1-81d4-8ac33b6fc3a3",
     "regions": {
      "deba8b1f-d997-4426-8f1b-978df7f19b41": {
       "attrs": {
        "height": 0.8,
        "width": 0.8,
        "x": 0.1,
        "y": 0.1
       },
       "content": {
        "cell": "7adaaf8f-a83e-456b-b99a-d3b3d4cb6d1a",
        "part": "whole"
       },
       "id": "deba8b1f-d997-4426-8f1b-978df7f19b41"
      }
     }
    },
    "6bda9eb4-0724-4e53-9971-131d0cb5f9e2": {
     "id": "6bda9eb4-0724-4e53-9971-131d0cb5f9e2",
     "prev": "ee33e624-cd65-4b8c-b28b-c95623a56dbf",
     "regions": {
      "feffbbd2-27d1-4318-8359-7d57583ee2bc": {
       "attrs": {
        "height": 0.8,
        "width": 0.8,
        "x": 0.1,
        "y": 0.1
       },
       "content": {
        "cell": "8dce188c-36b7-41fa-9020-b5cb5502e452",
        "part": "whole"
       },
       "id": "feffbbd2-27d1-4318-8359-7d57583ee2bc"
      }
     }
    },
    "6c4bc874-f3fc-472c-a81c-cd415b91c24b": {
     "id": "6c4bc874-f3fc-472c-a81c-cd415b91c24b",
     "prev": null,
     "regions": {
      "c9eac7e8-d033-4b03-8bf7-abd58ffe8d41": {
       "attrs": {
        "height": 0.8,
        "width": 0.8,
        "x": 0.1,
        "y": 0.1
       },
       "content": {
        "cell": "71219fc3-c9cb-4700-9f0b-ab38b1b223da",
        "part": "whole"
       },
       "id": "c9eac7e8-d033-4b03-8bf7-abd58ffe8d41"
      }
     }
    },
    "6d7ab34f-9d99-4c74-9877-27b25abc73f0": {
     "id": "6d7ab34f-9d99-4c74-9877-27b25abc73f0",
     "prev": "febe7de9-9362-4079-bfe9-2d4dfddf00e2",
     "regions": {
      "2ee252de-db5f-43e7-b4b7-7f59bba29962": {
       "attrs": {
        "height": 0.8,
        "width": 0.8,
        "x": 0.1,
        "y": 0.1
       },
       "content": {
        "cell": "85d1ab90-cc65-4935-808b-a6f57ecc892e",
        "part": "whole"
       },
       "id": "2ee252de-db5f-43e7-b4b7-7f59bba29962"
      }
     }
    },
    "7ea582c3-439d-4ec2-9f27-dea18bcacc31": {
     "id": "7ea582c3-439d-4ec2-9f27-dea18bcacc31",
     "prev": "f0727a74-61a1-48c1-94a5-3e7490c29f0b",
     "regions": {
      "652960af-b61f-4c36-b122-3eacd714867b": {
       "attrs": {
        "height": 0.8,
        "width": 0.8,
        "x": 0.1,
        "y": 0.1
       },
       "content": {
        "cell": "86172e20-fe16-447d-859f-24a81e563011",
        "part": "whole"
       },
       "id": "652960af-b61f-4c36-b122-3eacd714867b"
      }
     }
    },
    "8b078b7a-c2c6-4129-a19f-2a4f5c4a26f3": {
     "id": "8b078b7a-c2c6-4129-a19f-2a4f5c4a26f3",
     "prev": "5cab5674-74dc-4378-93d7-eaa79e90cdae",
     "regions": {
      "dce1e605-9342-414d-b8c6-7dcb922fbf47": {
       "attrs": {
        "height": 0.8,
        "width": 0.8,
        "x": 0.1,
        "y": 0.1
       },
       "content": {
        "cell": "ee1bdf03-6e13-4f1f-9dc9-22d4e344fdba",
        "part": "whole"
       },
       "id": "dce1e605-9342-414d-b8c6-7dcb922fbf47"
      }
     }
    },
    "999513ad-b53e-4d84-b9ef-ed37967f74d6": {
     "id": "999513ad-b53e-4d84-b9ef-ed37967f74d6",
     "prev": "638df7e1-84d1-4fd4-a15c-c94b731d1bea",
     "regions": {
      "2e85c1b2-3c30-413e-9b0f-141281da3a2a": {
       "attrs": {
        "height": 0.8,
        "width": 0.8,
        "x": 0.1,
        "y": 0.1
       },
       "content": {
        "cell": "998dc7f5-ab6d-4fb8-866f-4fa96a06aaaa",
        "part": "whole"
       },
       "id": "2e85c1b2-3c30-413e-9b0f-141281da3a2a"
      }
     }
    },
    "9add3d79-8621-4167-8e1d-d4ae48fba71b": {
     "id": "9add3d79-8621-4167-8e1d-d4ae48fba71b",
     "prev": "7ea582c3-439d-4ec2-9f27-dea18bcacc31",
     "regions": {
      "d5f4537e-4d8c-4179-b14b-6c475f50b04e": {
       "attrs": {
        "height": 0.8,
        "width": 0.8,
        "x": 0.1,
        "y": 0.1
       },
       "content": {
        "cell": "9659b1c1-9aed-4d71-b830-4a60d408ad71",
        "part": "whole"
       },
       "id": "d5f4537e-4d8c-4179-b14b-6c475f50b04e"
      }
     }
    },
    "9bfe6214-4631-45b5-a05e-8923f178bb57": {
     "id": "9bfe6214-4631-45b5-a05e-8923f178bb57",
     "prev": "30509a9a-dbd8-4dbd-9fab-852a7266d894",
     "regions": {
      "aac53254-d149-49f2-8f92-670c6f2714bb": {
       "attrs": {
        "height": 0.8,
        "width": 0.8,
        "x": 0.1,
        "y": 0.1
       },
       "content": {
        "cell": "c71a78d7-9d0e-4825-9c84-9998f971317d",
        "part": "whole"
       },
       "id": "aac53254-d149-49f2-8f92-670c6f2714bb"
      }
     }
    },
    "b9dddf99-da24-46e1-81d4-8ac33b6fc3a3": {
     "id": "b9dddf99-da24-46e1-81d4-8ac33b6fc3a3",
     "prev": "1390653e-bdb6-444a-b611-39c60ffb77a1",
     "regions": {
      "0b31dbb4-f15b-4a16-9420-c5dc8ed4e871": {
       "attrs": {
        "height": 0.8,
        "width": 0.8,
        "x": 0.1,
        "y": 0.1
       },
       "content": {
        "cell": "d0569bb0-fad8-48b7-8d48-0066bfb90401",
        "part": "whole"
       },
       "id": "0b31dbb4-f15b-4a16-9420-c5dc8ed4e871"
      }
     }
    },
    "ba274d18-2760-4e55-ad47-2727b824fd00": {
     "id": "ba274d18-2760-4e55-ad47-2727b824fd00",
     "prev": "ed47079d-58cf-4b87-a9fa-a709d8a7c3c6",
     "regions": {
      "13000b51-bd66-4fb5-970b-20bfad440880": {
       "attrs": {
        "height": 0.8,
        "width": 0.8,
        "x": 0.1,
        "y": 0.1
       },
       "content": {
        "cell": "f6847886-4044-43a7-9edd-f18efddcb7a9",
        "part": "whole"
       },
       "id": "13000b51-bd66-4fb5-970b-20bfad440880"
      }
     }
    },
    "ed47079d-58cf-4b87-a9fa-a709d8a7c3c6": {
     "id": "ed47079d-58cf-4b87-a9fa-a709d8a7c3c6",
     "prev": "9add3d79-8621-4167-8e1d-d4ae48fba71b",
     "regions": {
      "a96aea94-1714-4020-83f9-dbc03e9fd55e": {
       "attrs": {
        "height": 0.8,
        "width": 0.8,
        "x": 0.1,
        "y": 0.1
       },
       "content": {
        "cell": "5a579720-fa62-4525-85e3-dd049cbd73be",
        "part": "whole"
       },
       "id": "a96aea94-1714-4020-83f9-dbc03e9fd55e"
      }
     }
    },
    "ee33e624-cd65-4b8c-b28b-c95623a56dbf": {
     "id": "ee33e624-cd65-4b8c-b28b-c95623a56dbf",
     "prev": "999513ad-b53e-4d84-b9ef-ed37967f74d6",
     "regions": {
      "325ae98d-0855-4d16-8408-6d12f47efa24": {
       "attrs": {
        "height": 0.8,
        "width": 0.8,
        "x": 0.1,
        "y": 0.1
       },
       "content": {
        "cell": "829150e0-712b-4739-92d6-37b9c3d789cb",
        "part": "whole"
       },
       "id": "325ae98d-0855-4d16-8408-6d12f47efa24"
      }
     }
    },
    "f0727a74-61a1-48c1-94a5-3e7490c29f0b": {
     "id": "f0727a74-61a1-48c1-94a5-3e7490c29f0b",
     "prev": "6d7ab34f-9d99-4c74-9877-27b25abc73f0",
     "regions": {
      "1666081e-448d-4f80-90f2-9f26f1568cdc": {
       "attrs": {
        "height": 0.8,
        "width": 0.8,
        "x": 0.1,
        "y": 0.1
       },
       "content": {
        "cell": "d99a804c-9444-418b-bc94-3c2f064e2844",
        "part": "whole"
       },
       "id": "1666081e-448d-4f80-90f2-9f26f1568cdc"
      }
     }
    },
    "f3f10f50-4cad-4149-b308-c66e6a493a72": {
     "id": "f3f10f50-4cad-4149-b308-c66e6a493a72",
     "prev": "42d1bd80-265e-4acf-bbc1-b202afddade3",
     "regions": {
      "4fc1185f-bdb8-46fc-99bd-b8d30defeca9": {
       "attrs": {
        "height": 0.8,
        "width": 0.8,
        "x": 0.1,
        "y": 0.1
       },
       "content": {
        "cell": "9b7597e9-aaa9-4d9f-ba0d-22f43d1a3900",
        "part": "whole"
       },
       "id": "4fc1185f-bdb8-46fc-99bd-b8d30defeca9"
      }
     }
    },
    "febe7de9-9362-4079-bfe9-2d4dfddf00e2": {
     "id": "febe7de9-9362-4079-bfe9-2d4dfddf00e2",
     "prev": "6bda9eb4-0724-4e53-9971-131d0cb5f9e2",
     "regions": {
      "42348103-1cd6-4bac-b346-33cd41aea444": {
       "attrs": {
        "height": 0.8,
        "width": 0.8,
        "x": 0.1,
        "y": 0.1
       },
       "content": {
        "cell": "35a148d4-f201-4441-bf5e-8a07f93dea84",
        "part": "whole"
       },
       "id": "42348103-1cd6-4bac-b346-33cd41aea444"
      }
     }
    }
   },
   "themes": {}
  }
 },
 "nbformat": 4,
 "nbformat_minor": 2
}
