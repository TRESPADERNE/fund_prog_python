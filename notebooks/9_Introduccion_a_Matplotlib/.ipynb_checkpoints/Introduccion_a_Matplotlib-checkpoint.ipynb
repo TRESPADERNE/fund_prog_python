{
 "cells": [
  {
   "cell_type": "markdown",
   "metadata": {},
   "source": [
    "# Introducción a Matplotlib.\n",
    "**Autores**: Rogelio Mazaeda Echevarría, Félix Miguel Trespaderne."
   ]
  },
  {
   "cell_type": "markdown",
   "metadata": {},
   "source": [
    "## Contenidos\n",
    "[Introducción](#Introducción)<br>\n",
    "[Gráficos básicos](#Gráficos_básicos)<br>\n",
    "[Dibujando funciones de una variable](#Dibujando_funciones_de_una_variable)<br>\n",
    "[Título y etiquetas en ejes](#Título_y_etiquetas_en_ejes)<br>\n",
    "[La función `linspace()` del paquete Numpy](#La_función_linspace_del_paquete_Numpy)"
   ]
  },
  {
   "cell_type": "markdown",
   "metadata": {},
   "source": [
    "***\n",
    "<a id='Introducción'></a>"
   ]
  },
  {
   "cell_type": "markdown",
   "metadata": {},
   "source": [
    "\n",
    "## Introducción\n",
    "\n",
    "El paquete `matplotlib` es una extensa biblioteca de funciones para generar gráficos 2D y 3D.\n",
    "\n",
    "Algunas de sus características son:\n",
    "\n",
    "* Curva de aprendizaje suave: ofrece funcionalidades simples para usuarios ocasionales.\n",
    "* Todo tipo de ajustes *programables* de los elementos de una ventana gráfica. \n",
    "* Gran variedad de formatos de exportación de las figuras."
   ]
  },
  {
   "cell_type": "markdown",
   "metadata": {},
   "source": [
    "**Matplotlib** está construido sobre el paquete **Numpy** y trabaja de forma natural con los vectores y matrices (*arrays*) a ella asociados. Veremos más adelante las funcionalidades del paquete **Numpy**. Pero, por ahora, trabajaremos con las **listas nativas** de **Python** (que serán transformadas internamente a *numpy arrays* en las funciones del paquete **Matlotlib**). Nótese que restringimos el uso a listas formadas por valores del mismo tipo de dato.\n",
    "\n",
    "Aunque no es la forma usual, utilizar en este momento listas nos permite:\n",
    "* visualizar desde ya los resultados de algunos de nuestros ejercicios.\n",
    "* nos obliga a practicar con el manejo de las estructuras de control; no olvidemos que nuestro objetivo es aprender a programar. De la otra forma, muchas operaciones de *bajo nivel* quedan ocultas detrás de las poderosas herramientas que nos brinda el paquete **Numpy**."
   ]
  },
  {
   "cell_type": "markdown",
   "metadata": {},
   "source": [
    "Dentro del **paquete** `matplotlib` destaca el **módulo** `pyplot`.\n",
    "Este módulo **oculta** muchas de las funcionalidades de bajo nivel de la biblioteca permitiendo el\n",
    "uso de sencillas funciones para los elementos gráficos más habituales, tales como creación de figuras, trazado de líneas, visualización de imágenes, inserción de texto, etc.\n",
    "\n",
    "En la bibliografía podéis encontrar otro módulo llamado `pylab` que tiene una funcionalidad similar, en apariencia incluso más simple. Sin embargo, su uso está hoy en día desaconsejado por diferentes razones que sería prolijo comentar.\n",
    "\n",
    "El módulo `pyplot` emula el entorno de programación gráfica de **MATLAB**, herramienta software **de pago** muy popular en universidades y empresas. En la misma línea, ya hemos comentado que **Spyder** es un **IDE** muy similar al de **MATLAB**. Más adelante, en otras asignaturas o en vuestra vida profesional, si necesitáis *dar el cambio*, éste será sencillo.\n",
    "\n",
    "Para comenzar usando el módulo `pyplot`de **Matplotlib** en un programa **Python** la forma estándar es:"
   ]
  },
  {
   "cell_type": "code",
   "execution_count": null,
   "metadata": {},
   "outputs": [],
   "source": [
    "import matplotlib.pyplot as plt"
   ]
  },
  {
   "cell_type": "markdown",
   "metadata": {},
   "source": [
    "***\n",
    "<a id='Gráficos_básicos'></a>"
   ]
  },
  {
   "cell_type": "markdown",
   "metadata": {},
   "source": [
    "## Gráficos básicos\n",
    "\n",
    "### Función `plot()`\n",
    "Mediante la función `plot()` suministramos una lista para su trazado."
   ]
  },
  {
   "cell_type": "code",
   "execution_count": null,
   "metadata": {},
   "outputs": [],
   "source": [
    "lista = [6, 2, 5, 6, 8, 1, 3, 6, 7, 3]\n",
    "plt.plot(lista)"
   ]
  },
  {
   "cell_type": "markdown",
   "metadata": {},
   "source": [
    "Por defecto, `plot(lista)` une con una línea la secuencia de puntos de coordenadas $(i,lista[i])$, siendo $i$ los índices válidos de la lista desde $0$. En nuestro ejemplo, los puntos $\\{(0,6),(1,2),(2,5),...,(7,6),(8,7),(9,3)\\}$.\n",
    "\n",
    "Debe notarse que la figura donde reside la línea trazada se crea de forma automática para contener el dibujo. No sólo eso, en ausencia de indicaciones, se usan diferentes opciones por defecto, como tamaño de la figura, color y grosor de la línea, etc."
   ]
  },
  {
   "cell_type": "markdown",
   "metadata": {},
   "source": [
    "Si proporcionamos dos listas, `plot(lista_x,lista_y)`, se une con una línea la secuencia de puntos de coordenadas $(lista\\_x[i],lista\\_y[i])$, siendo $i$ los índices válidos de las listas desde $0$. Es decir, la primera lista corresponde a las abcisas y la segunda a las ordenadas. Obviamente, ambas listas tendrán el mismo número de elementos. ¿Qué ocurre en caso contrario? ¡Prueba a eliminar un elemento de una de las listas!"
   ]
  },
  {
   "cell_type": "code",
   "execution_count": null,
   "metadata": {},
   "outputs": [],
   "source": [
    "plt.plot([1.1, -3.23, 5.3, 7.34, 6.6, 0.1, 2.123, 4.17], [6, 2, 5.12, 6.25, 8.2, 1, -3.35, 6.3])"
   ]
  },
  {
   "cell_type": "markdown",
   "metadata": {},
   "source": [
    "### Función `scatter()`\n",
    "Mediante la función `scatter()` podemos dibujar los puntos $(lista\\_x[i],lista\\_y[i])$ sin unir por líneas, apareciendo los puntos de forma *dispersa*."
   ]
  },
  {
   "cell_type": "code",
   "execution_count": null,
   "metadata": {},
   "outputs": [],
   "source": [
    "plt.scatter([1.1, -3.23, 5.3, 7.34, 6.6, 0.1, 2.123, 4.17], [6, 2, 5.12, 6.25, 8.2, 1, -3.35, 6.3])"
   ]
  },
  {
   "cell_type": "markdown",
   "metadata": {},
   "source": [
    "***\n",
    "<a id='Dibujando_funciones_de_una_variable'></a>"
   ]
  },
  {
   "cell_type": "markdown",
   "metadata": {},
   "source": [
    "## Dibujando funciones de una variable\n",
    "Un uso habitual de las herramientas gráficas es dibujar una función $y=f(x)$ para una colección de puntos en un intervalo de valores.\n",
    "\n",
    "Por ejemplo, supongamos que deseamos dibujar la función $y=cos^2(x)$ utilizando $100$ puntos **equidistantes** en el intervalo $-2\\pi\\leq x\\leq2\\pi$."
   ]
  },
  {
   "cell_type": "code",
   "execution_count": null,
   "metadata": {},
   "outputs": [],
   "source": [
    "import matplotlib.pyplot as plt\n",
    "import math\n",
    "num_puntos = 100\n",
    "x_min = -2*math.pi\n",
    "x_max = -x_min\n",
    "\n",
    "# Hay (num_puntos - 1) intervalos incluyendo x_min y x_max\n",
    "incremento = (x_max - x_min)/(num_puntos - 1)\n",
    "\n",
    "lista_x = [0]*num_puntos  # Rellenamos de 0's ambas listas. Así evitamos usar el método append().\n",
    "lista_y = [0]*num_puntos\n",
    "for i in range(num_puntos):\n",
    "    x = x_min + i*incremento  # x va tomando los num_puntos valores equidistantes entre x_min y x_max\n",
    "    lista_x[i] = x\n",
    "    lista_y[i] = math.cos(x)**2\n",
    "\n",
    "plt.plot(lista_x, lista_y)"
   ]
  },
  {
   "cell_type": "markdown",
   "metadata": {},
   "source": [
    "### Dibujando varias gráficas superpuestas\n",
    "Es muy sencillo dibujar varias funciones superpuestas sin más que invocar a la función `plot()` de manera consecutiva, incluso con listas de abscisas diferentes. En el ejemplo, se añade una gráfica de la función $y=sin(x)cos(x)$ utilizando $50$ puntos en el intervalo $-3\\leq x\\leq3$.\n",
    "\n",
    "Nótese cómo **Matplotlib** configura el gráfico de forma automática para adaptarse a los distintos rangos y eligiendo colores diferentes."
   ]
  },
  {
   "cell_type": "code",
   "execution_count": null,
   "metadata": {},
   "outputs": [],
   "source": [
    "num_puntos = 50\n",
    "x_min = -3\n",
    "x_max = -x_min\n",
    "\n",
    "incremento = (x_max-x_min)/(num_puntos - 1)\n",
    "\n",
    "lista_x2 = [0]*num_puntos\n",
    "lista_y2 = [0]*num_puntos\n",
    "for i in range(num_puntos):\n",
    "    x = x_min + i*incremento\n",
    "    lista_x2[i] = x\n",
    "    lista_y2[i] = math.sin(x)*math.cos(x)\n",
    "\n",
    "plt.plot(lista_x, lista_y)\n",
    "plt.plot(lista_x2, lista_y2)"
   ]
  },
  {
   "cell_type": "markdown",
   "metadata": {},
   "source": [
    "### Valores indefinidos en la lista de ordenadas"
   ]
  },
  {
   "cell_type": "markdown",
   "metadata": {},
   "source": [
    "La función **seno cardinal** desnormalizada $sinc(x)$ tiene por ecuación:\n",
    "\n",
    "$$y = \\frac{sin(x)}{x}$$\n",
    "\n",
    "En la abscisa $x=0$, esta función presenta una singularidad evitable, que sabemos por la teoría de límites del cálculo que tiene el valor 1.\n",
    "\n",
    "Sin embargo, cuando en un programa generamos los posibles valores de una función, no siempre el código está *sintonizado* para detectar estas singularidades. \n",
    "\n",
    "Vamos a elegir $301$ puntos en el intervalo $-15\\leq x\\leq15$. Sabemos que vamos a tener problemas si intentamos generar la lista de abscisas."
   ]
  },
  {
   "cell_type": "code",
   "execution_count": null,
   "metadata": {},
   "outputs": [],
   "source": [
    "import math\n",
    "num_puntos = 301\n",
    "x_min = -15\n",
    "x_max = -x_min\n",
    "\n",
    "incremento = (x_max-x_min)/(num_puntos - 1)\n",
    "\n",
    "lista_x = [0]*num_puntos\n",
    "lista_y = [0]*num_puntos\n",
    "for i in range(num_puntos):\n",
    "    x = x_min + i*incremento\n",
    "    lista_x[i] = x\n",
    "    lista_y[i] = math.sin(x)/x"
   ]
  },
  {
   "cell_type": "markdown",
   "metadata": {},
   "source": [
    "Vemos que se ha generado la excepción `ZeroDivisionError: float division by zero`.\n",
    "\n",
    "Una opción que podemos emplear en este caso particular es evitar añadir a la lista de abscisas el valor $x=0$. Este método es engorroso, pues, en el caso general, para cada función debemos identificar previamente los valores conflictivos.  \n",
    "\n",
    "Una opción más inteligente es capturar la **excepción** y, en esos casos, a esos valores conflictivos les asignamos como valor de la función un valor `float` especial llamado `nan`, **not a number**. La buena noticia es que cuando la función `plot()` detecta un valor `nan` en una lista, omite la representación de ese punto.\n",
    "> Por supuesto, en este ejemplo concreto también podemos asignar el valor $1$ de nuestro conocimiento de la *teoría de límites*."
   ]
  },
  {
   "cell_type": "code",
   "execution_count": null,
   "metadata": {},
   "outputs": [],
   "source": [
    "import matplotlib.pyplot as plt\n",
    "import math\n",
    "num_puntos = 301\n",
    "x_min = -15\n",
    "x_max = -x_min\n",
    "\n",
    "incremento = (x_max-x_min)/(num_puntos - 1)\n",
    "\n",
    "lista_x = [0]*num_puntos\n",
    "lista_y = [0]*num_puntos\n",
    "for i in range(num_puntos):\n",
    "    x = x_min + i*incremento\n",
    "    lista_x[i] = x\n",
    "    try:\n",
    "        lista_y[i] = math.sin(x)/x\n",
    "    except ZeroDivisionError:\n",
    "        lista_y[i] = float('nan')  # Podríamos haber puesto en este ejemplo lista_y[i] = 1\n",
    "\n",
    "plt.plot(lista_x, lista_y)"
   ]
  },
  {
   "cell_type": "markdown",
   "metadata": {},
   "source": [
    "En el siguiente ejemplo, dibujamos la función:\n",
    "$$y = \\frac{cos(x)}{(x-10)(x+2)(x+12)}$$\n",
    "\n",
    "que tiene 3 singularidades, pero nos *despreocupamos* con el método propuesto de su posición."
   ]
  },
  {
   "cell_type": "code",
   "execution_count": null,
   "metadata": {},
   "outputs": [],
   "source": [
    "# Utilizamos lista de abscisas de la celda anterior\n",
    "lista_y = [0]*len(lista_x)\n",
    "for i, x in enumerate(lista_x):\n",
    "    try:\n",
    "        lista_y[i] = math.cos(x)/((x-10)*(x+2)*(x+12))\n",
    "    except ZeroDivisionError:\n",
    "        lista_y[i] = float('nan')\n",
    "\n",
    "plt.plot(lista_x, lista_y)"
   ]
  },
  {
   "cell_type": "markdown",
   "metadata": {},
   "source": [
    "***\n",
    "<a id='Título_y_etiquetas_en_ejes'></a>"
   ]
  },
  {
   "cell_type": "markdown",
   "metadata": {},
   "source": [
    "## Título y etiquetas en ejes\n",
    "Mediante la función `title()` podemos añadir un título al gráfico. Mediante las funciones `xlabel()` e `ylabel()`añadimos etiquetas a los ejes de coordenadas."
   ]
  },
  {
   "cell_type": "code",
   "execution_count": null,
   "metadata": {},
   "outputs": [],
   "source": [
    "plt.plot(lista_x, lista_y)\n",
    "plt.title('Función con tres singularidades')\n",
    "plt.xlabel('$x$')\n",
    "plt.ylabel('${cos(x)}/{((x-10)(x+2)(x+12))}$')"
   ]
  },
  {
   "cell_type": "markdown",
   "metadata": {},
   "source": [
    "Estas son sólo un pequeño ejemplo de las enormes opciones de personalización que ofrece **Matplotlib**."
   ]
  },
  {
   "cell_type": "markdown",
   "metadata": {},
   "source": [
    "***\n",
    "<a id='La_función_linspace_del_paquete_Numpy'></a>"
   ]
  },
  {
   "cell_type": "markdown",
   "metadata": {},
   "source": [
    "## La función `linspace()` del paquete Numpy\n",
    "Hemos visto un método relativamente engorroso de generar las abscisas:\n",
    "1. Elegimos un límite inferior.\n",
    "2. Elegimos un límite superior.\n",
    "3. Decidimos cuantos puntos necesitamos.\n",
    "4. Calculamos el tamaño del intervalo entre dos abscisas adyacentes.\n",
    "5. Generamos la lista correspondiente.\n",
    "\n",
    "La función `linspace()` del paquete **Numpy** hace todo esto de forma cómoda, proporcionándonos un nivel de **abstracción** superior y **encapsulando** todo ese código en una función. Basta introducir los 3 primeros parámetros como argumentos. Para utilizarla, debemos importar el paquete `numpy`.\n",
    "\n",
    "Veámosla en acción para dibujar la función **campana de Gauss**:\n",
    "$$y = \\frac{1}{{\\sigma\\sqrt{2\\pi}}}e^{{-(x-\\mu)^2}/{2\\sigma^2}}$$\n",
    "\n",
    "Elegiremos $1000$ valores en el intervalo $-5\\leq x\\leq5$ para una distribución normal de *media* $\\mu=0$ y *desviación estándar* $\\sigma=1$."
   ]
  },
  {
   "cell_type": "code",
   "execution_count": null,
   "metadata": {},
   "outputs": [],
   "source": [
    "import matplotlib.pyplot as plt\n",
    "import numpy as np\n",
    "import math\n",
    "\n",
    "num_puntos = 1000\n",
    "x_min = -5\n",
    "x_max = 5\n",
    "lista_x = np.linspace(x_min, x_max, num_puntos)\n",
    "\n",
    "media = 0\n",
    "desviacion_estandar = 1\n",
    "factor = 1./(desviacion_estandar*math.sqrt(2*math.pi))\n",
    "den = 2*desviacion_estandar**2\n",
    "\n",
    "lista_y = [0]*num_puntos\n",
    "for i, x in enumerate(lista_x):\n",
    "    lista_y[i] = factor*math.exp((-(x-media)**2)/den)\n",
    "\n",
    "plt.plot(lista_x, lista_y)\n",
    "plt.title('Distribución de Gauss')\n",
    "plt.xlabel('$x$')\n",
    "plt.ylabel('$N({},{})$'.format(media, desviacion_estandar))"
   ]
  }
 ],
 "metadata": {
  "kernelspec": {
   "display_name": "Python 3",
   "language": "python",
   "name": "python3"
  },
  "language_info": {
   "codemirror_mode": {
    "name": "ipython",
    "version": 3
   },
   "file_extension": ".py",
   "mimetype": "text/x-python",
   "name": "python",
   "nbconvert_exporter": "python",
   "pygments_lexer": "ipython3",
   "version": "3.7.4"
  }
 },
 "nbformat": 4,
 "nbformat_minor": 2
}
