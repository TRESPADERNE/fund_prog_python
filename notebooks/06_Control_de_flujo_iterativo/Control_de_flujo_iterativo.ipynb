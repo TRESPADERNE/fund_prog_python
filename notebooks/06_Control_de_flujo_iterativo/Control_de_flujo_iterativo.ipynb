{
 "cells": [
  {
   "cell_type": "markdown",
   "metadata": {},
   "source": [
    "# Control de flujo iterativo\n",
    "**Autores**: Rogelio Mazaeda Echevarría, Félix Miguel Trespaderne.   "
   ]
  },
  {
   "cell_type": "markdown",
   "metadata": {},
   "source": [
    "## Contenidos\n",
    "[Introducción](#Introducción)<br>\n",
    "[Bucle `while`](#Bucle_while)<br>\n",
    "[Bucle `for`](#Bucle_for)<br>\n",
    "[Iterables](#Iterables)<br>\n",
    "[Sentencia `break`: salida temprana de un bucle](#Sentencia_break:_salida_temprana_de_un_bucle)<br>\n",
    "[Sentencia `continue`](#Sentencia_continue)<br>\n",
    "[Bucles anidados](#Bucles_anidados)"
   ]
  },
  {
   "cell_type": "markdown",
   "metadata": {},
   "source": [
    "***\n",
    "<a id='Introducción'></a>"
   ]
  },
  {
   "cell_type": "markdown",
   "metadata": {},
   "source": [
    "## Introducción\n",
    "\n",
    "La otra estructura de **control de flujo** fundamental que nos falta es la **estructura iterativa**, conocida también por el nombre de **bucle**. \n",
    "\n",
    "El **control de flujo iterativo** permite resolver cómodamente una situación frecuente a la hora de resolver un problema, en la que es necesario ejecutar un conjunto de sentencias una y otra vez:\n",
    "* **mientras** determinada condición lógica se cumpla o,\n",
    "* un **número determinado** de veces."
   ]
  },
  {
   "cell_type": "markdown",
   "metadata": {},
   "source": [
    "***\n",
    "<a id='Bucle_while'></a>"
   ]
  },
  {
   "cell_type": "markdown",
   "metadata": {},
   "source": [
    "## Bucle `while`\n",
    "Veamos un ejemplo que mejora el código previo de introducción de un mes válido. Ahora, repregunta al usuario (cuantas veces sea necesario) en el caso de que se equivoque al introducir un mes inválido:"
   ]
  },
  {
   "cell_type": "code",
   "execution_count": null,
   "metadata": {},
   "outputs": [],
   "source": [
    "# Un bucle para garantizar que el mes introducido es correcto\n",
    "\n",
    "mes = int(input(\"Introduzca el mes del año (entre 1 y 12): \"))\n",
    "\n",
    "while mes > 12 or mes < 1:\n",
    "    print(\"Mes introducido incorrecto. Inténtelo de nuevo\")\n",
    "    mes = int(input(\"Introduzca el mes del año (entre 1 y 12):\"))\n",
    "\n",
    "print(\"El mes {} es válido\".format(mes))"
   ]
  },
  {
   "cell_type": "markdown",
   "metadata": {},
   "source": [
    "Observe en el fragmento anterior la sintaxis en Python del bucle `while`:\n",
    "* Por un lado, la palabra reservada que lo identifica más la **condición lógica** y el **delimitador** `:`\n",
    "* Por el otro lado, el **cuerpo** de sentencias, que deben aparecer adecuadamente sangradas\n",
    "\n",
    "Si la expresión se evalúa como `True`, se ejecuta el bloque de sentencias *regresando* de nuevo a la sentencia `while`. Así de forma iterada hasta que la **expresión de control** asociada al `while` se evalúe como `False`. "
   ]
  },
  {
   "cell_type": "markdown",
   "metadata": {},
   "source": [
    "Se debe comprender que si la condición de control del bucle se evalúa inicialmente como `False`, las sentencias afectadas por el bucle no serán ejecutadas ni siquiera una vez. Por tanto, en el momento en que se realiza la programación, el número de veces que se repite un bucle `while` ¡no puede saberse de antemano!\n",
    "\n",
    "Así, en el ejemplo anterior puede ocurrir: \n",
    "* que no se ejecute el cuerpo del `while` ninguna vez, si el usuario introduce un mes correcto desde el inicio\n",
    "* que se ejecute un número arbitrariamente alto, que dependerá de la mucha o poca *habilidad* del usuario en seguir correctamente las instrucciones que se le dan"
   ]
  },
  {
   "cell_type": "markdown",
   "metadata": {},
   "source": [
    "El alumno observador puede constatar la repetición en el código de la línea:\n",
    "```Python\n",
    "mes = int(input(\"Introduzca el mes del año (entre 1 y 12):\"))\n",
    "```\n",
    "Una forma alternativa de programar el ejemplo anterior es la siguiente:"
   ]
  },
  {
   "cell_type": "code",
   "execution_count": null,
   "metadata": {},
   "outputs": [],
   "source": [
    "# Un bucle para garantizar que el mes introducido es correcto. Versión alternativa.\n",
    "\n",
    "mes = 0 # Inicializamos la variable con un valor que \n",
    "        # hace que se evalúe a True la condición de control\n",
    "\n",
    "while mes > 12 or mes < 1:\n",
    "    mes = int(input(\"Introduzca el mes del año (entre 1 y 12):\"))\n",
    "    if mes > 12 or mes < 1:\n",
    "        print(\"Mes introducido incorrecto. Inténtelo de nuevo\")\n",
    "\n",
    "print(\"El mes {} es válido\".format(mes))"
   ]
  },
  {
   "cell_type": "markdown",
   "metadata": {},
   "source": [
    "Aunque para este ejemplo la ventaja en legibilidad es discutible, cuando el cuerpo del bucle `while` tiene varias sentencias repetidas antes del propio bucle, entonces suele ser ventajosa la segunda alternativa. "
   ]
  },
  {
   "cell_type": "markdown",
   "metadata": {},
   "source": [
    "### Bucle **controlado** por un **contador**\n",
    "El anterior es un ejemplo de un bucle **controlado** por una **condición lógica** de carácter general. En muchas ocasiones, la condición de salida del bucle viene determinada por un **contador**. \n",
    "\n",
    "**Nota**:En los depuradores de los sistemas de desarrollo y en herramientas como [pythontutor](http://www.pythontutor.com/visualize.html#mode=edit) se puede analizar la evolución paso a paso de los programas."
   ]
  },
  {
   "cell_type": "code",
   "execution_count": null,
   "metadata": {},
   "outputs": [],
   "source": [
    "# Bucle controlado por un contador que suma un determinado conjunto de reales. (Versión 1)\n",
    "\n",
    "contador = int(input(\"Diga cuantos números reales quiere sumar: \"))\n",
    "\n",
    "suma = 0.0\n",
    "while contador > 0:\n",
    "    valor = float(input(\"Deme valor real a sumar: \"))\n",
    "    suma += valor                                       # Equivalente a suma = suma + valor\n",
    "    contador = contador - 1                             # Se podría usar: contador -= 1\n",
    "\n",
    "print(\"La suma de los números introducidos es\", suma)"
   ]
  },
  {
   "cell_type": "markdown",
   "metadata": {},
   "source": [
    "En el código anterior se debe notar:\n",
    "- Antes de entrar al bucle, ya se conoce el número de veces que éste se va a repetir.\n",
    "- Si la expresión de control es `False` ni siquiera se entra al bucle la primera vez."
   ]
  },
  {
   "cell_type": "markdown",
   "metadata": {},
   "source": [
    "### El acumulador\n",
    "Por otra parte, el ejemplo implementa una de las ideas básicas de mayor utilidad en programación: el concepto de **acumulador**. Se quiere realizar una operación (la suma) que involucra un conjunto (no determinado en el momento de la programación) de operandos. La idea consiste en dedicar una variable (`suma`) para contener los resultados parciales de dicha operación. \n",
    "\n",
    "Dicha variable **acumulador** ha de ser **inicializada** antes de entrar al bucle a un valor que sea **neutro** respecto a la operación seleccionada (el `0` en caso de la suma). Ya dentro del bucle, la variable acumulador es actualizada en cada iteración."
   ]
  },
  {
   "cell_type": "markdown",
   "metadata": {},
   "source": [
    "Podríamos haber programado el ejemplo anterior de otra forma, igualmente válida y legible, en la que no *perdemos* el valor inicial de cuantos números queremos sumar. Además, resulta fácil distinguir el caso en el cual no se introdujeron números."
   ]
  },
  {
   "cell_type": "code",
   "execution_count": null,
   "metadata": {},
   "outputs": [],
   "source": [
    "# Bucle controlado por un contador que suma un determinado conjunto de reales. (Versión 2)\n",
    "\n",
    "num_valores = int(input(\"Diga cuantos números reales quiere sumar: \"))\n",
    "\n",
    "suma = 0.0\n",
    "contador = 0\n",
    "while (contador < num_valores):\n",
    "    valor = float(input(\"Deme el valor real {:d} a sumar: \".format(contador)))\n",
    "    suma += valor\n",
    "    contador += 1\n",
    "\n",
    "if num_valores > 0:\n",
    "    print(\"La suma de los {:d} números introducidos es {:f}\".format(num_valores, suma))\n",
    "else:\n",
    "    print(\"El usuario no introdujo ningún valor.\")"
   ]
  },
  {
   "cell_type": "markdown",
   "metadata": {},
   "source": [
    "***\n",
    "<a id='Bucle_for'></a>"
   ]
  },
  {
   "cell_type": "markdown",
   "metadata": {},
   "source": [
    "## Bucle `for`\n",
    "\n",
    "Para el caso, muy común, de los bucles controlados por contador, Python tiene el bucle `for` que resulta especialmente adaptado. \n",
    "\n",
    "Véase el ejemplo siguiente, que muestra el producto de los enteros incluidos en determinado **rango**:"
   ]
  },
  {
   "cell_type": "code",
   "execution_count": null,
   "metadata": {},
   "outputs": [],
   "source": [
    "# Determina producto de enteros en rango\n",
    "\n",
    "inf = int(input(\"Diga límite inferior del rango: \"))\n",
    "sup = int(input(\"Diga límite superior del rango: \"))\n",
    "\n",
    "producto = 1\n",
    "for elem in range(inf, sup+1):\n",
    "    producto *= elem                             # Se podría usar: producto = producto*elem\n",
    "\n",
    "print(\"El producto de los enteros en el rango [{},{}] es {}\".format(inf, sup, producto))"
   ]
  },
  {
   "cell_type": "markdown",
   "metadata": {},
   "source": [
    "El bucle `for ... in ...` en Python utiliza en este ejemplo la función nativa `range()`.\n",
    "\n",
    "Así, el bucle `for` del ejemplo asigna de forma iterada y ordenada cada uno de los enteros del rango de que se trate a la variable que actúa como **contador** del bucle, `elem`. En cada una de las iteraciones ejecuta las sentencias contenidas en el cuerpo del bucle.\n",
    "\n",
    "En el anterior ejemplo se tiene una nueva implementación de la idea del **acumulador**, en este caso representada por la variable `producto` en la que se *acumula* precisamente el resultado de la multiplicación de los enteros en el rango. En consonancia con su propósito, en este caso el acumulador es inicializado a 1, que es el valor **neutro** para la operación de multiplicación."
   ]
  },
  {
   "cell_type": "markdown",
   "metadata": {},
   "source": [
    "La sentencia `for` de Python tiene una sintaxis que presenta diferencias notables con respecto a la que se utiliza en C/C++ y en otros lenguajes de programación:\n",
    "\n",
    "```python\n",
    "for (int elem = inf; elem <= sup; elem = elem + 1)\n",
    "{\n",
    "    producto *= elem;\n",
    "}\n",
    "```\n",
    "El `for` de C/C++ describe de manera más explícita el proceso de inicialización del contador, la expresión lógica de control que evalúa la permanencia o no en el bucle, y el incremento (o en general modificación) del contador en cada iteración."
   ]
  },
  {
   "cell_type": "markdown",
   "metadata": {},
   "source": [
    "Ahora tenemos una nueva alternativa más compacta para realizar la suma de un determinado conjunto de números reales."
   ]
  },
  {
   "cell_type": "code",
   "execution_count": null,
   "metadata": {},
   "outputs": [],
   "source": [
    "# Bucle que suma un determinado conjunto de reales. Versión con for. (Versión 3)\n",
    "\n",
    "num_valores = int(input(\"Diga cuantos números reales quiere sumar: \"))\n",
    "\n",
    "suma = 0.0\n",
    "for i in range(num_valores):\n",
    "    valor = float(input(\"Deme el valor real {:d} a sumar: \".format(i)))\n",
    "    suma += valor\n",
    "\n",
    "if num_valores > 0:\n",
    "    print(\"La suma de los {:d} números introducidos es {:f}\".format(num_valores, suma))\n",
    "else:\n",
    "    print(\"El usuario no introdujo ningún valor.\")"
   ]
  },
  {
   "cell_type": "markdown",
   "metadata": {},
   "source": [
    "***\n",
    "<a id='Iterables'></a>"
   ]
  },
  {
   "cell_type": "markdown",
   "metadata": {},
   "source": [
    "## Iterables\n",
    "La función `range()` devuelve un objeto **iterable**, objetos capaces de ir generando ordenadamente uno por uno la secuencia de elementos que lo componen. Las **listas**, `list` y las **cadenas de caracteres**, `str`, también son objetos iterables.\n",
    "Cualquier objeto iterable es susceptible de ser recorrido por un bucle for."
   ]
  },
  {
   "cell_type": "code",
   "execution_count": null,
   "metadata": {},
   "outputs": [],
   "source": [
    "# Crea una lista con los valores impares de una lista de enteros\n",
    "lista = [1, 3, 2, 7, 5, 4, 6]\n",
    "impares = []\n",
    "for x in lista:\n",
    "    if x % 2:\n",
    "        impares.append(x)\n",
    "print(impares)"
   ]
  },
  {
   "cell_type": "code",
   "execution_count": null,
   "metadata": {},
   "outputs": [],
   "source": [
    "# Sustituye los caracteres en blanco de una cadena por el caracter '_'\n",
    "cadena = 'Hola amigos'\n",
    "nueva_cadena = ''\n",
    "for c in cadena:\n",
    "    if c == ' ':\n",
    "        nueva_cadena += '_'\n",
    "    else:\n",
    "        nueva_cadena += c\n",
    "print(nueva_cadena)"
   ]
  },
  {
   "cell_type": "markdown",
   "metadata": {},
   "source": [
    "En la siguiente versión del ejemplo sobre el que venimos trabajando, primero creamos una lista con los valores introducidos por teclado. Luego realizamos la suma de sus elementos."
   ]
  },
  {
   "cell_type": "code",
   "execution_count": null,
   "metadata": {},
   "outputs": [],
   "source": [
    "# Bucle que suma un determinado conjunto de reales. Versión con lista y for. (Versión 4)\n",
    "\n",
    "num_valores = int(input(\"Diga cuantos números reales quiere sumar: \"))\n",
    "lista = []\n",
    "for i in range(num_valores):\n",
    "    lista.append(float(input(\"Deme el valor real {:d} a sumar: \".format(i))))\n",
    "    \n",
    "suma = 0.0\n",
    "for x in lista:\n",
    "    suma += x\n",
    "\n",
    "if num_valores > 0:\n",
    "    print(\"La suma de los {:d} números introducidos es {:f}\".format(num_valores, suma))\n",
    "else:\n",
    "    print(\"El usuario no introdujo ningún valor.\")"
   ]
  },
  {
   "cell_type": "markdown",
   "metadata": {},
   "source": [
    "Otra posibilidad más eficiente hubiese sido crear inicialmente una lista del tamaño final y luego ir actualizando los valores."
   ]
  },
  {
   "cell_type": "code",
   "execution_count": null,
   "metadata": {},
   "outputs": [],
   "source": [
    "# Bucle que suma un determinado conjunto de reales. Versión con lista y for. (Versión 5)\n",
    "\n",
    "num_valores = int(input(\"Diga cuantos números reales quiere sumar: \"))\n",
    "lista = [0]*num_valores\n",
    "for i in range(num_valores):\n",
    "    lista[i]=float(input(\"Deme el valor real {:d} a sumar: \".format(i)))\n",
    "    \n",
    "suma = 0.0\n",
    "for x in lista:\n",
    "    suma += x\n",
    "\n",
    "if num_valores > 0:\n",
    "    print(\"La suma de los {:d} números introducidos es {:f}\".format(num_valores, suma))\n",
    "else:\n",
    "    print(\"El usuario no introdujo ningún valor.\")"
   ]
  },
  {
   "cell_type": "markdown",
   "metadata": {},
   "source": [
    "### `enumerate()`\n",
    "En ocasiones, además del valor del ítem, necesitamos saber su posición, su índice dentro del objeto iterable. Una posibilidad para resolver el problema es ayudarnos de las funciones `len()` y `range()`."
   ]
  },
  {
   "cell_type": "code",
   "execution_count": null,
   "metadata": {},
   "outputs": [],
   "source": [
    "# Crea una lista con los valores impares de una lista de enteros\n",
    "lista = [1, 3, 2, 7, 5, 4, 6]\n",
    "impares = []\n",
    "posiciones = []\n",
    "for i in range(len(lista)):\n",
    "    if lista[i] % 2:\n",
    "        impares.append(lista[i])\n",
    "        posiciones.append(i)\n",
    "\n",
    "print(\"La lista con los impares es {} y sus posiciones son {}.\".format(impares, posiciones))"
   ]
  },
  {
   "cell_type": "markdown",
   "metadata": {},
   "source": [
    "Sin embargo, para estos casos Python proporciona la función nativa `enumerate()`. Esta función va generando junto con un `for` la secuencia de **tuplas** formada por el índice y el ítem."
   ]
  },
  {
   "cell_type": "code",
   "execution_count": null,
   "metadata": {},
   "outputs": [],
   "source": [
    "# Crea una lista con los valores impares de una lista de enteros\n",
    "lista = [1, 3, 2, 7, 5, 4, 6]\n",
    "impares = []\n",
    "posiciones = []\n",
    "for i, x in enumerate(lista): # i, x es la tupla desempaquetada\n",
    "    if x % 2:\n",
    "        impares.append(x)\n",
    "        posiciones.append(i)\n",
    "\n",
    "print(\"La lista con los impares es {} y sus posiciones son {}.\".format(impares, posiciones))"
   ]
  },
  {
   "cell_type": "markdown",
   "metadata": {},
   "source": [
    "### `zip()`\n",
    "Otra función nativa muy utilizada asociada a los bucles `for` es `zip()`. Con ella, podemos recorrer simultáneamente dos o más objetos iterables. Así, por ejemplo, la función `zip(lista_1, lista_2, ..., lista_n)` va generando junto con un `for` una secuencia formada por las tuplas `(lista_1[0], lista_2[0], ..., lista_n[0])`, `(lista_1[1], lista_2[1], ..., lista_n[1])`, etc. El bucle `for` termina cuando se alcanza el elemento de la lista de menor longitud.\n",
    "\n",
    "Al igual que con `range()` y `enumerate()`, mediante la función `list()` podemos transformar la salida de `zip()`en una lista."
   ]
  },
  {
   "cell_type": "code",
   "execution_count": 1,
   "metadata": {},
   "outputs": [
    {
     "name": "stdout",
     "output_type": "stream",
     "text": [
      "[(1, 'a', 3.2), (2, 'b', 6.7), (3, 'c', 9.8), (4, 'd', 3.2)]\n",
      "1 a 3.2\n",
      "2 b 6.7\n",
      "3 c 9.8\n",
      "4 d 3.2\n"
     ]
    }
   ],
   "source": [
    "lista_1 = [1, 2, 3, 4]\n",
    "lista_2 = ['a', 'b', 'c' , 'd']\n",
    "lista_3 = [3.2, 6.7, 9.8, 3.2]\n",
    "\n",
    "lista = list(zip(lista_1, lista_2, lista_3))\n",
    "print(lista)\n",
    "\n",
    "for x, y, z in zip(lista_1, lista_2, lista_3):\n",
    "    print(x, y, z)"
   ]
  },
  {
   "cell_type": "markdown",
   "metadata": {},
   "source": [
    "***\n",
    "<a id='Sentencia_break:_salida_temprana_de_un_bucle'></a>"
   ]
  },
  {
   "cell_type": "markdown",
   "metadata": {},
   "source": [
    "## Sentencia `break`: salida temprana de un bucle\n",
    "\n",
    "En muchas ocasiones resulta conveniente salir de un bucle, no mediante la evaluación a `False` de la expresión de control, sino desde dentro del bucle utilizando un `if` junto con la sentencia `break` de **salto incondicional**.\n",
    "\n",
    "En el siguiente código se muestra un ejemplo típico. Se trata de determinar si un determinado número entero es primo o no."
   ]
  },
  {
   "cell_type": "code",
   "execution_count": 1,
   "metadata": {},
   "outputs": [
    {
     "name": "stdout",
     "output_type": "stream",
     "text": [
      "Deme un entero positivo mayor que 1: -12\n",
      "El número -12 es primo\n"
     ]
    }
   ],
   "source": [
    "# Determina si un número entero es primo. (Versión 1)\n",
    "\n",
    "numero = int(input('Deme un entero positivo mayor que 1: '))\n",
    "\n",
    "es_primo = True  # Variable centinela o bandera\n",
    "for div in range(2, numero):\n",
    "    if numero % div == 0:\n",
    "        es_primo = False\n",
    "        break\n",
    "\n",
    "if es_primo:\n",
    "    print(\"El número {} es primo\".format(numero))\n",
    "else:\n",
    "    print(\"El número {} no es primo\".format(numero))"
   ]
  },
  {
   "cell_type": "markdown",
   "metadata": {},
   "source": [
    "Una advertencia: existen formas más eficientes de realizar la tarea propuesta; el código anterior debe verse como un intento inicial. \n",
    "\n",
    "Se trata básicamente de aplicar la propia definición de número primo: *aquel que es divisible sólo por él y por la unidad*. \n",
    "\n",
    "La estrategia entonces consiste en hallar, mediante un bucle, todos los posibles divisores *legítimos* que harían que se pudiera decidir que el número no es primo. Se utiliza un bucle `for` **por rango**, y el rango elegido es $[2,numero)$. Obsérvese que el límite inferior está incluido en el rango y el superior no. Y esto es precisamente lo que se requiere. "
   ]
  },
  {
   "cell_type": "markdown",
   "metadata": {},
   "source": [
    "Se debe notar que el bucle necesario tiene una especie de *carácter asimétrico*:\n",
    "* por una parte, para concluir que el número es primo, se debe llevar el bucle hasta su conclusión, investigando todos los posibles divisores, sin hallar ningún divisor exacto.\n",
    "* por el contrario, para concluir que el número no es primo, basta con encontrar el primer divisor exacto.\n",
    "\n",
    "En sintonía con esta _asimetría_ del problema, se utiliza una construcción en la cual al bucle `for` **por rango** se le asocia una variable **centinela**, **testigo** o **bandera**, `es_primo`. Si en el transcurso de las iteraciones se detectara, mediante un condicional `if`, que el número investigado es divisible por alguno de los divisores posibles, se sale inmediatamente del bucle, utilizando la sentencia `break` y _activando_ la bandera.\n",
    "\n",
    "Ya fuera del bucle, se interroga el valor del **centinela** para informar al usuario sobre el resultado encontrado. "
   ]
  },
  {
   "cell_type": "markdown",
   "metadata": {},
   "source": [
    "Las variables **testigo** son inicializadas a un valor conocido antes de entrar a una zona del código y luego tomarán diferentes valores en dependencia de las sentencias que sean ejecutadas o no. De esta manera, cuando su valor sea interrogado al final, indicarán el *camino* concreto que siguió el programa, permitiendo sacar las oportunas conclusiones. \n",
    "\n",
    "Se debe comprender que la salida anticipada de un bucle constituye un recurso que puede mejorar la escritura o legibilidad del código. No obstante, siempre se puede modificar el bucle de manera que sólo se pueda decidir la permanencia o salida del mismo a partir de la expresión de control. \n",
    "\n",
    "En el ejemplo que nos ocupa:"
   ]
  },
  {
   "cell_type": "code",
   "execution_count": null,
   "metadata": {},
   "outputs": [],
   "source": [
    "# Determina si un número entero es primo. Versión sin salida incondicional break. (Versión 2)\n",
    "\n",
    "numero = int(input('Deme un entero positivo mayor que 1: '))\n",
    "\n",
    "es_primo = True\n",
    "div = 2\n",
    "while div < numero and es_primo:\n",
    "    if numero % div == 0:\n",
    "        es_primo = False\n",
    "    div += 1\n",
    "\n",
    "if es_primo:\n",
    "    print(\"El número {} es primo\".format(numero))\n",
    "else:\n",
    "    print(\"El número {} no es primo\".format(numero))"
   ]
  },
  {
   "cell_type": "markdown",
   "metadata": {},
   "source": [
    "La modificación ha supuesto cambiar el `for` por un `while`. Observe la implementación *manual* del contador `div` que actúa como divisor y que debe ser inicializado fuera del bucle. Véase que la expresión de control incluye la condición de que no se haya detectado todavía un divisor para continuar iterando. "
   ]
  },
  {
   "cell_type": "markdown",
   "metadata": {},
   "source": [
    "Una versión más compacta se logra si nos damos cuenta que el propio contador `div` puede actuar como variable testigo. Si `div == numero` tras el bucle es que hemos recorrido todo el rango de valores sin encontrar un divisor. \n",
    "\n",
    "Así:"
   ]
  },
  {
   "cell_type": "code",
   "execution_count": null,
   "metadata": {},
   "outputs": [],
   "source": [
    "# Determina si un número entero es primo. Versión usando while y el contador como testigo. (Versión 3)\n",
    "\n",
    "numero = int(input('Deme un entero positivo mayor que 1: '))\n",
    "\n",
    "div = 2\n",
    "while numero % div != 0:\n",
    "    div += 1\n",
    "\n",
    "if div == numero:\n",
    "    print(\"El número {} es primo\".format(numero))\n",
    "else:\n",
    "    print(\"El número {} no es primo\".format(numero))"
   ]
  },
  {
   "cell_type": "markdown",
   "metadata": {},
   "source": [
    "Y en su versión con bucle `for` **por rango**:"
   ]
  },
  {
   "cell_type": "code",
   "execution_count": null,
   "metadata": {},
   "outputs": [],
   "source": [
    "# Determina si un número entero es primo. Versión usando for y el contador como testigo. (Versión 4)\n",
    "\n",
    "numero = int(input('Deme un entero positivo mayor que 1: '))\n",
    "\n",
    "for div in range(2, numero+1):\n",
    "    if numero % div == 0:\n",
    "        break\n",
    "\n",
    "if div == numero:\n",
    "    print(\"El número {} es primo\".format(numero))\n",
    "else:\n",
    "    print(\"El número {} no es primo\".format(numero))"
   ]
  },
  {
   "cell_type": "markdown",
   "metadata": {},
   "source": [
    "Decidir cuál de las implementaciones es superior es cuestión de debate. Más allá de optar entre las versiones `for` **por rango** o `while`, a nuestro juicio, el uso explícito de la variable centinela `es_primo` genera un código más legible aunque menos eficiente."
   ]
  },
  {
   "cell_type": "markdown",
   "metadata": {},
   "source": [
    "***\n",
    "<a id='Sentencia_continue'></a>"
   ]
  },
  {
   "cell_type": "markdown",
   "metadata": {},
   "source": [
    "## Sentencia `continue`\n",
    "\n",
    "De forma similar al `break`, la sentencia `continue` representa un _salto incondicional_ que se asocia a la ejecución de los bucles. La sentencia `continue` a diferencia del `break` no abandona el bucle, sino que cuando es ejecutada provoca un _salto_ inmediato al inicio del bucle, para procesar la siguiente iteración."
   ]
  },
  {
   "cell_type": "code",
   "execution_count": null,
   "metadata": {},
   "outputs": [],
   "source": [
    "# Ejemplo de uso de la sentencia continue\n",
    "\n",
    "for i in range(21):\n",
    "    if i%3 == 0:\n",
    "        continue\n",
    "    print(i)"
   ]
  },
  {
   "cell_type": "markdown",
   "metadata": {},
   "source": [
    "Aunque la sentencia `continue` es menos utilizada que `break`, y al igual que esta última puede ser sustituida por construcciones `if: ...elif ...else:`, en algunas circunstancias ofrece una solución más estructurada y comprensible."
   ]
  },
  {
   "cell_type": "markdown",
   "metadata": {},
   "source": [
    "***\n",
    "<a id='Bucles_anidados'></a>"
   ]
  },
  {
   "cell_type": "markdown",
   "metadata": {},
   "source": [
    "## Bucles anidados\n",
    "\n",
    "Con cierta frecuencia la solución de un problema exige el uso de bucles que estén contenidos dentro de otros. Los bucles anidados pueden tener tantos niveles como se quiera. \n",
    "\n",
    "La idea clave es: en cada iteración de un bucle externo, ocurren todas las iteraciones posibles de los bucles internos.\n",
    "\n",
    "El siguiente ejemplo es ilustrativo de este proceso. En este caso, se tienen dos bucles anidados implementados mediante `for`. "
   ]
  },
  {
   "cell_type": "code",
   "execution_count": 1,
   "metadata": {},
   "outputs": [
    {
     "name": "stdout",
     "output_type": "stream",
     "text": [
      "   1    2    3    4    5    6    7    8    9   10 \n",
      "   2    4    6    8   10   12   14   16   18   20 \n",
      "   3    6    9   12   15   18   21   24   27   30 \n",
      "   4    8   12   16   20   24   28   32   36   40 \n",
      "   5   10   15   20   25   30   35   40   45   50 \n",
      "   6   12   18   24   30   36   42   48   54   60 \n",
      "   7   14   21   28   35   42   49   56   63   70 \n",
      "   8   16   24   32   40   48   56   64   72   80 \n",
      "   9   18   27   36   45   54   63   72   81   90 \n",
      "  10   20   30   40   50   60   70   80   90  100 \n"
     ]
    }
   ],
   "source": [
    "for i in range(1, 11):\n",
    "    for j in range(1, 11):\n",
    "        print(\"{:4d}\".format(i*j), end=' ')\n",
    "    print()"
   ]
  },
  {
   "cell_type": "markdown",
   "metadata": {},
   "source": [
    "El bucle externo recorre todos los enteros en el intervalo $[1,10]$ y utiliza un índice o contador `i` y el interno recorre el mismo rango pero asignando los valores del mismo a la variable de control del bucle `j`. De manera que, en la primera iteración del bucle externo, cuando `i` tiene el valor `1`, el bucle interno *agota* todas las posibles iteraciones, con `j` *barriendo* todos los valores del rango $[1,10]$.\n",
    "\n",
    "Dentro del bucle interno se saca por pantalla, utilizando un formato útil para alinear correctamente las columnas de una tabla, el producto de ambos contadores. Observe que en esta función `print()`, el caracter a imprimir al final (normalmente el cambio de línea), es sustituido por una cadena de caracteres que representa un espacio en blanco, `end=' '`. "
   ]
  },
  {
   "cell_type": "markdown",
   "metadata": {},
   "source": [
    "El sangrado existente en el segundo `print()` informa al intérprete de Python que este debe ser ejecutado, como parte del bucle externo, cada vez que el interno termina su ejecución. Su propósito es simplemente sacar por pantalla un cambio de línea. \n",
    "\n",
    "El objetivo final logrado es la salida por la consola de la tabla de multiplicar. El ejemplo utilizado en este caso puede resultar trivial, pero el concepto ilustrado tiene muchas otras aplicaciones."
   ]
  }
 ],
 "metadata": {
  "anaconda-cloud": {},
  "celltoolbar": "Raw Cell Format",
  "kernelspec": {
   "display_name": "Python 3",
   "language": "python",
   "name": "python3"
  },
  "language_info": {
   "codemirror_mode": {
    "name": "ipython",
    "version": 3
   },
   "file_extension": ".py",
   "mimetype": "text/x-python",
   "name": "python",
   "nbconvert_exporter": "python",
   "pygments_lexer": "ipython3",
   "version": "3.7.7"
  },
  "nbpresent": {
   "slides": {
    "1390653e-bdb6-444a-b611-39c60ffb77a1": {
     "id": "1390653e-bdb6-444a-b611-39c60ffb77a1",
     "prev": "5c2c8cc8-3676-4c06-b94c-d3f866ade69b",
     "regions": {
      "620813b3-9326-41e6-9d30-f5ac4f858225": {
       "attrs": {
        "height": 0.8,
        "width": 0.8,
        "x": 0.1,
        "y": 0.1
       },
       "content": {
        "cell": "86423d42-e808-47e6-b1a7-e925e195f821",
        "part": "whole"
       },
       "id": "620813b3-9326-41e6-9d30-f5ac4f858225"
      }
     }
    },
    "21036f68-a492-4532-a832-b213435c0ad2": {
     "id": "21036f68-a492-4532-a832-b213435c0ad2",
     "prev": "2c1c7f11-e5ee-4a25-8975-f0b033ba739a",
     "regions": {
      "a3908958-0784-4faa-ac97-b9325abe8ede": {
       "attrs": {
        "height": 0.8,
        "width": 0.8,
        "x": 0.1,
        "y": 0.1
       },
       "content": {
        "cell": "9aa64747-dc13-4bd9-bf26-73606628ad1c",
        "part": "whole"
       },
       "id": "a3908958-0784-4faa-ac97-b9325abe8ede"
      }
     }
    },
    "2c1c7f11-e5ee-4a25-8975-f0b033ba739a": {
     "id": "2c1c7f11-e5ee-4a25-8975-f0b033ba739a",
     "prev": "f3f10f50-4cad-4149-b308-c66e6a493a72",
     "regions": {
      "9e2d820e-ec17-4915-b960-0e0d5f640379": {
       "attrs": {
        "height": 0.8,
        "width": 0.8,
        "x": 0.1,
        "y": 0.1
       },
       "content": {
        "cell": "0281a659-abae-4cb9-b30f-b552b9db399e",
        "part": "whole"
       },
       "id": "9e2d820e-ec17-4915-b960-0e0d5f640379"
      }
     }
    },
    "30509a9a-dbd8-4dbd-9fab-852a7266d894": {
     "id": "30509a9a-dbd8-4dbd-9fab-852a7266d894",
     "prev": "8b078b7a-c2c6-4129-a19f-2a4f5c4a26f3",
     "regions": {
      "7baa4379-8f84-4d8f-b002-5a5ffd051489": {
       "attrs": {
        "height": 0.8,
        "width": 0.8,
        "x": 0.1,
        "y": 0.1
       },
       "content": {
        "cell": "14d1a927-b37f-4323-9404-17d453f3b487",
        "part": "whole"
       },
       "id": "7baa4379-8f84-4d8f-b002-5a5ffd051489"
      }
     }
    },
    "42d1bd80-265e-4acf-bbc1-b202afddade3": {
     "id": "42d1bd80-265e-4acf-bbc1-b202afddade3",
     "prev": "9bfe6214-4631-45b5-a05e-8923f178bb57",
     "regions": {
      "f2340145-4108-4fed-a0bc-4b91ca6c10ae": {
       "attrs": {
        "height": 0.8,
        "width": 0.8,
        "x": 0.1,
        "y": 0.1
       },
       "content": {
        "cell": "80be6133-d85a-4e43-9964-6578abcbaaac",
        "part": "whole"
       },
       "id": "f2340145-4108-4fed-a0bc-4b91ca6c10ae"
      }
     }
    },
    "5c2c8cc8-3676-4c06-b94c-d3f866ade69b": {
     "id": "5c2c8cc8-3676-4c06-b94c-d3f866ade69b",
     "prev": "6c4bc874-f3fc-472c-a81c-cd415b91c24b",
     "regions": {
      "e1de7ab6-4ef2-4b14-92d7-b174bf32806e": {
       "attrs": {
        "height": 0.8,
        "width": 0.8,
        "x": 0.1,
        "y": 0.1
       },
       "content": {
        "cell": "ae8725fa-30f7-4d7f-a2c2-5f86953d730b",
        "part": "whole"
       },
       "id": "e1de7ab6-4ef2-4b14-92d7-b174bf32806e"
      }
     }
    },
    "5cab5674-74dc-4378-93d7-eaa79e90cdae": {
     "id": "5cab5674-74dc-4378-93d7-eaa79e90cdae",
     "prev": "ba274d18-2760-4e55-ad47-2727b824fd00",
     "regions": {
      "2178d7cf-bf1e-4850-95a2-1509f15febfa": {
       "attrs": {
        "height": 0.8,
        "width": 0.8,
        "x": 0.1,
        "y": 0.1
       },
       "content": {
        "cell": "5d433d13-f44a-45bb-91fd-406f60b33b67",
        "part": "whole"
       },
       "id": "2178d7cf-bf1e-4850-95a2-1509f15febfa"
      }
     }
    },
    "638df7e1-84d1-4fd4-a15c-c94b731d1bea": {
     "id": "638df7e1-84d1-4fd4-a15c-c94b731d1bea",
     "prev": "b9dddf99-da24-46e1-81d4-8ac33b6fc3a3",
     "regions": {
      "deba8b1f-d997-4426-8f1b-978df7f19b41": {
       "attrs": {
        "height": 0.8,
        "width": 0.8,
        "x": 0.1,
        "y": 0.1
       },
       "content": {
        "cell": "7adaaf8f-a83e-456b-b99a-d3b3d4cb6d1a",
        "part": "whole"
       },
       "id": "deba8b1f-d997-4426-8f1b-978df7f19b41"
      }
     }
    },
    "6bda9eb4-0724-4e53-9971-131d0cb5f9e2": {
     "id": "6bda9eb4-0724-4e53-9971-131d0cb5f9e2",
     "prev": "ee33e624-cd65-4b8c-b28b-c95623a56dbf",
     "regions": {
      "feffbbd2-27d1-4318-8359-7d57583ee2bc": {
       "attrs": {
        "height": 0.8,
        "width": 0.8,
        "x": 0.1,
        "y": 0.1
       },
       "content": {
        "cell": "8dce188c-36b7-41fa-9020-b5cb5502e452",
        "part": "whole"
       },
       "id": "feffbbd2-27d1-4318-8359-7d57583ee2bc"
      }
     }
    },
    "6c4bc874-f3fc-472c-a81c-cd415b91c24b": {
     "id": "6c4bc874-f3fc-472c-a81c-cd415b91c24b",
     "prev": null,
     "regions": {
      "c9eac7e8-d033-4b03-8bf7-abd58ffe8d41": {
       "attrs": {
        "height": 0.8,
        "width": 0.8,
        "x": 0.1,
        "y": 0.1
       },
       "content": {
        "cell": "71219fc3-c9cb-4700-9f0b-ab38b1b223da",
        "part": "whole"
       },
       "id": "c9eac7e8-d033-4b03-8bf7-abd58ffe8d41"
      }
     }
    },
    "6d7ab34f-9d99-4c74-9877-27b25abc73f0": {
     "id": "6d7ab34f-9d99-4c74-9877-27b25abc73f0",
     "prev": "febe7de9-9362-4079-bfe9-2d4dfddf00e2",
     "regions": {
      "2ee252de-db5f-43e7-b4b7-7f59bba29962": {
       "attrs": {
        "height": 0.8,
        "width": 0.8,
        "x": 0.1,
        "y": 0.1
       },
       "content": {
        "cell": "85d1ab90-cc65-4935-808b-a6f57ecc892e",
        "part": "whole"
       },
       "id": "2ee252de-db5f-43e7-b4b7-7f59bba29962"
      }
     }
    },
    "7ea582c3-439d-4ec2-9f27-dea18bcacc31": {
     "id": "7ea582c3-439d-4ec2-9f27-dea18bcacc31",
     "prev": "f0727a74-61a1-48c1-94a5-3e7490c29f0b",
     "regions": {
      "652960af-b61f-4c36-b122-3eacd714867b": {
       "attrs": {
        "height": 0.8,
        "width": 0.8,
        "x": 0.1,
        "y": 0.1
       },
       "content": {
        "cell": "86172e20-fe16-447d-859f-24a81e563011",
        "part": "whole"
       },
       "id": "652960af-b61f-4c36-b122-3eacd714867b"
      }
     }
    },
    "8b078b7a-c2c6-4129-a19f-2a4f5c4a26f3": {
     "id": "8b078b7a-c2c6-4129-a19f-2a4f5c4a26f3",
     "prev": "5cab5674-74dc-4378-93d7-eaa79e90cdae",
     "regions": {
      "dce1e605-9342-414d-b8c6-7dcb922fbf47": {
       "attrs": {
        "height": 0.8,
        "width": 0.8,
        "x": 0.1,
        "y": 0.1
       },
       "content": {
        "cell": "ee1bdf03-6e13-4f1f-9dc9-22d4e344fdba",
        "part": "whole"
       },
       "id": "dce1e605-9342-414d-b8c6-7dcb922fbf47"
      }
     }
    },
    "999513ad-b53e-4d84-b9ef-ed37967f74d6": {
     "id": "999513ad-b53e-4d84-b9ef-ed37967f74d6",
     "prev": "638df7e1-84d1-4fd4-a15c-c94b731d1bea",
     "regions": {
      "2e85c1b2-3c30-413e-9b0f-141281da3a2a": {
       "attrs": {
        "height": 0.8,
        "width": 0.8,
        "x": 0.1,
        "y": 0.1
       },
       "content": {
        "cell": "998dc7f5-ab6d-4fb8-866f-4fa96a06aaaa",
        "part": "whole"
       },
       "id": "2e85c1b2-3c30-413e-9b0f-141281da3a2a"
      }
     }
    },
    "9add3d79-8621-4167-8e1d-d4ae48fba71b": {
     "id": "9add3d79-8621-4167-8e1d-d4ae48fba71b",
     "prev": "7ea582c3-439d-4ec2-9f27-dea18bcacc31",
     "regions": {
      "d5f4537e-4d8c-4179-b14b-6c475f50b04e": {
       "attrs": {
        "height": 0.8,
        "width": 0.8,
        "x": 0.1,
        "y": 0.1
       },
       "content": {
        "cell": "9659b1c1-9aed-4d71-b830-4a60d408ad71",
        "part": "whole"
       },
       "id": "d5f4537e-4d8c-4179-b14b-6c475f50b04e"
      }
     }
    },
    "9bfe6214-4631-45b5-a05e-8923f178bb57": {
     "id": "9bfe6214-4631-45b5-a05e-8923f178bb57",
     "prev": "30509a9a-dbd8-4dbd-9fab-852a7266d894",
     "regions": {
      "aac53254-d149-49f2-8f92-670c6f2714bb": {
       "attrs": {
        "height": 0.8,
        "width": 0.8,
        "x": 0.1,
        "y": 0.1
       },
       "content": {
        "cell": "c71a78d7-9d0e-4825-9c84-9998f971317d",
        "part": "whole"
       },
       "id": "aac53254-d149-49f2-8f92-670c6f2714bb"
      }
     }
    },
    "b9dddf99-da24-46e1-81d4-8ac33b6fc3a3": {
     "id": "b9dddf99-da24-46e1-81d4-8ac33b6fc3a3",
     "prev": "1390653e-bdb6-444a-b611-39c60ffb77a1",
     "regions": {
      "0b31dbb4-f15b-4a16-9420-c5dc8ed4e871": {
       "attrs": {
        "height": 0.8,
        "width": 0.8,
        "x": 0.1,
        "y": 0.1
       },
       "content": {
        "cell": "d0569bb0-fad8-48b7-8d48-0066bfb90401",
        "part": "whole"
       },
       "id": "0b31dbb4-f15b-4a16-9420-c5dc8ed4e871"
      }
     }
    },
    "ba274d18-2760-4e55-ad47-2727b824fd00": {
     "id": "ba274d18-2760-4e55-ad47-2727b824fd00",
     "prev": "ed47079d-58cf-4b87-a9fa-a709d8a7c3c6",
     "regions": {
      "13000b51-bd66-4fb5-970b-20bfad440880": {
       "attrs": {
        "height": 0.8,
        "width": 0.8,
        "x": 0.1,
        "y": 0.1
       },
       "content": {
        "cell": "f6847886-4044-43a7-9edd-f18efddcb7a9",
        "part": "whole"
       },
       "id": "13000b51-bd66-4fb5-970b-20bfad440880"
      }
     }
    },
    "ed47079d-58cf-4b87-a9fa-a709d8a7c3c6": {
     "id": "ed47079d-58cf-4b87-a9fa-a709d8a7c3c6",
     "prev": "9add3d79-8621-4167-8e1d-d4ae48fba71b",
     "regions": {
      "a96aea94-1714-4020-83f9-dbc03e9fd55e": {
       "attrs": {
        "height": 0.8,
        "width": 0.8,
        "x": 0.1,
        "y": 0.1
       },
       "content": {
        "cell": "5a579720-fa62-4525-85e3-dd049cbd73be",
        "part": "whole"
       },
       "id": "a96aea94-1714-4020-83f9-dbc03e9fd55e"
      }
     }
    },
    "ee33e624-cd65-4b8c-b28b-c95623a56dbf": {
     "id": "ee33e624-cd65-4b8c-b28b-c95623a56dbf",
     "prev": "999513ad-b53e-4d84-b9ef-ed37967f74d6",
     "regions": {
      "325ae98d-0855-4d16-8408-6d12f47efa24": {
       "attrs": {
        "height": 0.8,
        "width": 0.8,
        "x": 0.1,
        "y": 0.1
       },
       "content": {
        "cell": "829150e0-712b-4739-92d6-37b9c3d789cb",
        "part": "whole"
       },
       "id": "325ae98d-0855-4d16-8408-6d12f47efa24"
      }
     }
    },
    "f0727a74-61a1-48c1-94a5-3e7490c29f0b": {
     "id": "f0727a74-61a1-48c1-94a5-3e7490c29f0b",
     "prev": "6d7ab34f-9d99-4c74-9877-27b25abc73f0",
     "regions": {
      "1666081e-448d-4f80-90f2-9f26f1568cdc": {
       "attrs": {
        "height": 0.8,
        "width": 0.8,
        "x": 0.1,
        "y": 0.1
       },
       "content": {
        "cell": "d99a804c-9444-418b-bc94-3c2f064e2844",
        "part": "whole"
       },
       "id": "1666081e-448d-4f80-90f2-9f26f1568cdc"
      }
     }
    },
    "f3f10f50-4cad-4149-b308-c66e6a493a72": {
     "id": "f3f10f50-4cad-4149-b308-c66e6a493a72",
     "prev": "42d1bd80-265e-4acf-bbc1-b202afddade3",
     "regions": {
      "4fc1185f-bdb8-46fc-99bd-b8d30defeca9": {
       "attrs": {
        "height": 0.8,
        "width": 0.8,
        "x": 0.1,
        "y": 0.1
       },
       "content": {
        "cell": "9b7597e9-aaa9-4d9f-ba0d-22f43d1a3900",
        "part": "whole"
       },
       "id": "4fc1185f-bdb8-46fc-99bd-b8d30defeca9"
      }
     }
    },
    "febe7de9-9362-4079-bfe9-2d4dfddf00e2": {
     "id": "febe7de9-9362-4079-bfe9-2d4dfddf00e2",
     "prev": "6bda9eb4-0724-4e53-9971-131d0cb5f9e2",
     "regions": {
      "42348103-1cd6-4bac-b346-33cd41aea444": {
       "attrs": {
        "height": 0.8,
        "width": 0.8,
        "x": 0.1,
        "y": 0.1
       },
       "content": {
        "cell": "35a148d4-f201-4441-bf5e-8a07f93dea84",
        "part": "whole"
       },
       "id": "42348103-1cd6-4bac-b346-33cd41aea444"
      }
     }
    }
   },
   "themes": {}
  }
 },
 "nbformat": 4,
 "nbformat_minor": 2
}
