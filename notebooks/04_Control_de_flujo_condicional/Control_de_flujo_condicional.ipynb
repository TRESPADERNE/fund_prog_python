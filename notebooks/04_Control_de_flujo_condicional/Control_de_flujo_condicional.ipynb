{
 "cells": [
  {
   "cell_type": "markdown",
   "metadata": {},
   "source": [
    "# Control de flujo condicional\n",
    "**Autores**: Rogelio Mazaeda Echevarría, Félix Miguel Trespaderne.   "
   ]
  },
  {
   "cell_type": "markdown",
   "metadata": {},
   "source": [
    "## Contenidos\n",
    "[Introducción](#Introducción)<br>\n",
    "[Control de flujo condicional (`if`)](#Control_de_flujo_condicional)<br>\n",
    "[Estructura condicional doble (`if ... else`)](#Estructura_condicional_doble)<br>\n",
    "[Estructura condicional múltiple (`if ... elif ...else`)](#Estructura_condicional_múltiple)"
   ]
  },
  {
   "cell_type": "markdown",
   "metadata": {},
   "source": [
    "***\n",
    "<a id='Introducción'></a>"
   ]
  },
  {
   "cell_type": "markdown",
   "metadata": {},
   "source": [
    "## Introducción \n",
    "\n",
    "Los sencillos programas vistos hasta ahora funcionan perfectamente, pero son poco más que un conjunto de expresiones y de asignaciones de variables, colocadas unas a continuación de otras y provistas de comunicación con el usuario a través de la entrada y salida.\n",
    "\n",
    "Esta visión de la programación, limitada a la **ejecución secuencial** de instrucciones, es demasiado simple y no aporta nada esencialmente novedoso con respecto al funcionamiento tipo calculadora utilizando directamente el intérprete. \n",
    "\n",
    "Las capacidades que vemos día a día en nuestra interacción con los ordenadores y las aplicaciones informáticas, serían imposibles si solamente contáramos con las posibilidades vistas hasta el momento."
   ]
  },
  {
   "cell_type": "markdown",
   "metadata": {},
   "source": [
    "Resulta asombroso saber que es suficiente la introducción de dos nuevas estructuras básicas para que se abra la puerta a la posibilidad de realizar todas las tareas de cómputo que son teóricamente concebibles.\n",
    "\n",
    "Estas dos estructuras son:\n",
    "* las **estructuras condicionales**\n",
    "* las **estructuras iterativas o bucles**\n",
    "\n",
    "Sirven para alterar, durante la ejecución del programa, la estructura secuencial que se tiene por defecto. \n",
    "\n",
    "Dedicaremos este cuaderno a la primera de ellas."
   ]
  },
  {
   "cell_type": "markdown",
   "metadata": {},
   "source": [
    "***\n",
    "<a id='Control_de_flujo_condicional'></a>"
   ]
  },
  {
   "cell_type": "markdown",
   "metadata": {},
   "source": [
    "## Control de flujo condicional (`if`)\n",
    "\n",
    "La estructura **condicional**, en su versión más sencilla, permite decidir si ejecutar o no determinadas sentencias, en base a si se cumple una condición lógica dada."
   ]
  },
  {
   "cell_type": "code",
   "execution_count": null,
   "metadata": {},
   "outputs": [],
   "source": [
    "# Estructura condicional simple\n",
    "\n",
    "a = int(input(\"Introduzca el número a invertir: \"))\n",
    "\n",
    "if a != 0:\n",
    "    a = 1/a\n",
    "    print(a)\n",
    "print(\"Esta línea se ejecuta en cualquier caso\\n\")    "
   ]
  },
  {
   "cell_type": "markdown",
   "metadata": {},
   "source": [
    "La sintaxis incluye la palabra reservada `if` seguida de una **expresión lógica** y el **delimitador** `:`. Las sentencias que aparecen **sangradas** a partir del delimitador `:` son aquellas que se evaluarán si la expresión lógica es `True`. ¡El sangrado (4 espacios es el valor recomendado) es obligatorio!\n",
    "\n",
    "En este ejemplo, se *pregunta* si el valor referido por `a` es diferente de cero.\n",
    "* Si durante la ejecución del programa el valor de `a` es diferente de `0` (porque el usuario lo decidió de ese modo al introducir el dato), entonces la expresión entre el `if` y el `:` se evalúa como `True` y esto implicará que se ejecuten las dos sentencias que aparecen sangradas hacia la derecha en el código.\n",
    "* Si la evaluación de la **expresión de control** diera `False`, estas dos sentencias serían omitidas en la ejecución del programa.\n",
    "\n",
    "En cualquiera de los dos casos, la sentencia final (que aparece *sin sangrar*, es decir, escrita a partir de la misma columna que la sentencia `if` en el texto del programa) es ejecutada."
   ]
  },
  {
   "cell_type": "markdown",
   "metadata": {},
   "source": [
    "El condicional es una estructura de control de flujo que aparece, de una forma u otra, en todos los lenguajes de programación. Por ejemplo, en C/C++ el mismo programa se escribiría de la siguiente forma:\n",
    "\n",
    "```python\n",
    "cout << \"Introduzca el número a invertir: \";\n",
    "cin >> a;\n",
    "\n",
    "if(a != 0)\n",
    "{\n",
    "    a = 1/a;\n",
    "    cout << a;\n",
    "}\n",
    "cout << \"Esta línea se ejecuta en cualquier caso\" << endl;\n",
    "```\n",
    "Trate de identificar la equivalencia entre las diferentes sentencias, haciendo énfasis en la estructura `if`. \n",
    "\n",
    "Note que en C/C++ las sentencias afectadas por el `if`, si son más de una, tienen que estar obligatoriamente delimitadas por llaves. En C/C++ el sangrado no es obligatorio como en Python, aunque muy recomendado. De esta forma, de un solo golpe de vista, podemos identificar claramente la estructura y el significado del código. De hecho, la ausencia del sangrado es considerada como una deficiencia grave de estilo de programación que conduce a código de difícil *lectura* y, por tanto, también difícil de poner a punto y mantener."
   ]
  },
  {
   "cell_type": "markdown",
   "metadata": {},
   "source": [
    "La forma en que Python elige la sintaxis del `if` dice mucho sobre la filosofía seguida en el diseño de este lenguaje: eliminar los elementos innecesarios y *forzar*, en lo posible, al programador a codificar los programas siguiendo las mejores prácticas.\n",
    "\n",
    "En cuanto a la eliminación de elementos innecesarios, se puede observar que Python no exige ningún carácter para terminar las sentencias, a diferencia del C/C++ que necesita del uso del `;` para este propósito. \n",
    "\n",
    "Ya en lo referente específicamente al `if` se puede observar que Python logra los dos propósitos anteriores a la vez:\n",
    "* no requiere de las llaves para delimitar las sentencias afectadas por el condicional\n",
    "* es capaz de indicar cuáles son estas sentencias por medio del sangrado \n",
    "\n",
    "De esta forma, dicho sangrado, lejos de ser un elemento opcional (deseado) como en C/C++, ahora es un elemento esencial de la definición del `if` en Python.\n",
    "\n",
    "Nótese además que en Python no es obligatorio que la expresión de control esté entre paréntesis. "
   ]
  },
  {
   "cell_type": "markdown",
   "metadata": {},
   "source": [
    "***\n",
    "<a id='Estructura_condicional_doble'></a>"
   ]
  },
  {
   "cell_type": "markdown",
   "metadata": {},
   "source": [
    "## Estructura condicional doble (`if ... else`)"
   ]
  },
  {
   "cell_type": "markdown",
   "metadata": {},
   "source": [
    "La **estructura condicional doble** establece, como en el caso previo, las sentencias que se han de ejecutar si la expresión lógica de control se satisface. Pero, adicionalmente, indica aquellas sentencias que se ejecutarán en el caso contrario, cuando la expresión de control es falsa, introduciendo la palabra reservada `else`. Véase el siguiente ejemplo:"
   ]
  },
  {
   "cell_type": "code",
   "execution_count": null,
   "metadata": {},
   "outputs": [],
   "source": [
    "# Estructura condicional doble (if ... else)\n",
    "\n",
    "mes = int(input(\"Introduzca el mes de año \"))\n",
    "\n",
    "if 1 <= mes <= 12:\n",
    "    print(\"Se ha introducido un mes válido\")\n",
    "else: \n",
    "    print(\"El mes es incorrecto. Por defecto se elige Enero\")\n",
    "    mes = 1\n",
    "    \n",
    "print(\"Se utilizará mes\", mes)    \n"
   ]
  },
  {
   "cell_type": "markdown",
   "metadata": {},
   "source": [
    "***\n",
    "<a id='Estructura_condicional_múltiple'></a>"
   ]
  },
  {
   "cell_type": "markdown",
   "metadata": {},
   "source": [
    "## Estructura condicional múltiple (`if ... elif ...else`)\n",
    "\n",
    "En el caso de que existan, en lugar de dos, **n** caminos de ejecución alternativos, se puede extender la estructura anterior de la manera que se muestra a continuación:"
   ]
  },
  {
   "cell_type": "code",
   "execution_count": null,
   "metadata": {},
   "outputs": [],
   "source": [
    "# Estructura condicional múltiple (if ... elif ...else)\n",
    "\n",
    "mes = int(input(\"Introduzca el mes del año \"))\n",
    "\n",
    "if mes == 1:\n",
    "    print(\"El mes de enero tiene 31 días\")\n",
    "elif mes == 2: \n",
    "    print(\"El mes es de febrero tiene 28 o 29 días\")\n",
    "elif mes == 3:\n",
    "    print(\"El mes es de marzo tiene 31 días\")\n",
    "elif mes == 4:\n",
    "    print(\"El mes es de abril tiene 30 días\")\n",
    "elif mes == 5:\n",
    "    print(\"El mes es de mayo tiene 31 días\")\n",
    "elif mes == 6:\n",
    "    print(\"El mes es de junio tiene 30 días\")\n",
    "elif mes == 7:\n",
    "    print(\"El mes es de julio tiene 31 días\")\n",
    "elif mes == 8:\n",
    "    print(\"El mes es de agosto tiene 31 días\")\n",
    "elif mes == 9:\n",
    "    print(\"El mes es de septiembre tiene 30 días\")\n",
    "elif mes == 10:\n",
    "    print(\"El mes es de octubre tiene 31 días\")\n",
    "elif mes == 11:\n",
    "    print(\"El mes es de noviembre tiene 30 días\")\n",
    "elif mes == 12:\n",
    "    print(\"El mes es de diciembre tiene 31 días\")\n",
    "else:\n",
    "    print(\"Mes no válido\")"
   ]
  },
  {
   "cell_type": "markdown",
   "metadata": {},
   "source": [
    "Algunas cosas sobre las que reflexionar en el código de la celda previa:\n",
    "\n",
    "* Esta estructura se debe utilizar cuando las alternativas sean todas **mutuamente excluyentes**.\n",
    "- Si la expresión de control de un `if` **múltiple** evalúa a cierta, el resto de las expresiones de control *aguas abajo* no son ni siquiera evaluadas.\n",
    "- El último `else` es opcional.\n",
    "\n",
    "Frecuentemente se utilizan conectivas lógicas en las expresiones de control del `if`. Vea una variante. más compacta, del código previo."
   ]
  },
  {
   "cell_type": "code",
   "execution_count": null,
   "metadata": {},
   "outputs": [],
   "source": [
    "# Estructura condicional múltiple (if ... elif ...else) (con conectivas lógicas)\n",
    "\n",
    "mes = int(input(\"Introduzca el mes del año \"))\n",
    "\n",
    "if mes == 1 or mes == 3 or mes == 5 or mes ==7 or mes == 8 or mes == 10 or mes == 11:\n",
    "    print(\"El mes de enero tiene 31 días\")\n",
    "elif mes == 2: \n",
    "    print(\"El mes es de febrero tiene 28 o 29 días\")\n",
    "elif mes == 4 or mes == 6 or mes == 9 or mes == 11:\n",
    "    print(\"El mes es de abril tiene 30 días\")\n",
    "else:\n",
    "    print(\"Mes no válido\")"
   ]
  },
  {
   "cell_type": "markdown",
   "metadata": {},
   "source": [
    "Una alternativa más **\"económica\"** a la solución anterior y más en consonancia con la filosofía de Pyhton, es la que se ofrece en el siguiente fragmento. Está solución se basa en el hecho de que Python maneja de forma muy eficiente secuencias de datos (listas, tuplas) que se definirán en el siguiente tema. En particular el operador especial ```in``` es capaz de determinar la **pertenencia** o no de un valor a una colección de valores. De manera que, aunque el código siguiente se comprenderá en su justa dimensión más adelante, lo insertamos aquí para futura referencia."
   ]
  },
  {
   "cell_type": "code",
   "execution_count": null,
   "metadata": {},
   "outputs": [],
   "source": [
    "# Estructura condicional múltiple (if ... elif ...else) (con tuplas)\n",
    "\n",
    "mes = int(input(\"Introduzca el mes del año \"))\n",
    "\n",
    "if mes in  (1, 3, 5, 7, 8, 10, 11):\n",
    "    print(\"El mes de enero tiene 31 días\")\n",
    "elif mes == 2: \n",
    "    print(\"El mes es de febrero tiene 28 o 29 días\")\n",
    "elif mes in (4, 6, 9, 11):\n",
    "    print(\"El mes es de abril tiene 30 días\")\n",
    "else:\n",
    "    print(\"Mes no válido\")"
   ]
  }
 ],
 "metadata": {
  "anaconda-cloud": {},
  "celltoolbar": "Raw Cell Format",
  "kernelspec": {
   "display_name": "Python 3",
   "language": "python",
   "name": "python3"
  },
  "language_info": {
   "codemirror_mode": {
    "name": "ipython",
    "version": 3
   },
   "file_extension": ".py",
   "mimetype": "text/x-python",
   "name": "python",
   "nbconvert_exporter": "python",
   "pygments_lexer": "ipython3",
   "version": "3.7.7"
  },
  "nbpresent": {
   "slides": {
    "1390653e-bdb6-444a-b611-39c60ffb77a1": {
     "id": "1390653e-bdb6-444a-b611-39c60ffb77a1",
     "prev": "5c2c8cc8-3676-4c06-b94c-d3f866ade69b",
     "regions": {
      "620813b3-9326-41e6-9d30-f5ac4f858225": {
       "attrs": {
        "height": 0.8,
        "width": 0.8,
        "x": 0.1,
        "y": 0.1
       },
       "content": {
        "cell": "86423d42-e808-47e6-b1a7-e925e195f821",
        "part": "whole"
       },
       "id": "620813b3-9326-41e6-9d30-f5ac4f858225"
      }
     }
    },
    "21036f68-a492-4532-a832-b213435c0ad2": {
     "id": "21036f68-a492-4532-a832-b213435c0ad2",
     "prev": "2c1c7f11-e5ee-4a25-8975-f0b033ba739a",
     "regions": {
      "a3908958-0784-4faa-ac97-b9325abe8ede": {
       "attrs": {
        "height": 0.8,
        "width": 0.8,
        "x": 0.1,
        "y": 0.1
       },
       "content": {
        "cell": "9aa64747-dc13-4bd9-bf26-73606628ad1c",
        "part": "whole"
       },
       "id": "a3908958-0784-4faa-ac97-b9325abe8ede"
      }
     }
    },
    "2c1c7f11-e5ee-4a25-8975-f0b033ba739a": {
     "id": "2c1c7f11-e5ee-4a25-8975-f0b033ba739a",
     "prev": "f3f10f50-4cad-4149-b308-c66e6a493a72",
     "regions": {
      "9e2d820e-ec17-4915-b960-0e0d5f640379": {
       "attrs": {
        "height": 0.8,
        "width": 0.8,
        "x": 0.1,
        "y": 0.1
       },
       "content": {
        "cell": "0281a659-abae-4cb9-b30f-b552b9db399e",
        "part": "whole"
       },
       "id": "9e2d820e-ec17-4915-b960-0e0d5f640379"
      }
     }
    },
    "30509a9a-dbd8-4dbd-9fab-852a7266d894": {
     "id": "30509a9a-dbd8-4dbd-9fab-852a7266d894",
     "prev": "8b078b7a-c2c6-4129-a19f-2a4f5c4a26f3",
     "regions": {
      "7baa4379-8f84-4d8f-b002-5a5ffd051489": {
       "attrs": {
        "height": 0.8,
        "width": 0.8,
        "x": 0.1,
        "y": 0.1
       },
       "content": {
        "cell": "14d1a927-b37f-4323-9404-17d453f3b487",
        "part": "whole"
       },
       "id": "7baa4379-8f84-4d8f-b002-5a5ffd051489"
      }
     }
    },
    "42d1bd80-265e-4acf-bbc1-b202afddade3": {
     "id": "42d1bd80-265e-4acf-bbc1-b202afddade3",
     "prev": "9bfe6214-4631-45b5-a05e-8923f178bb57",
     "regions": {
      "f2340145-4108-4fed-a0bc-4b91ca6c10ae": {
       "attrs": {
        "height": 0.8,
        "width": 0.8,
        "x": 0.1,
        "y": 0.1
       },
       "content": {
        "cell": "80be6133-d85a-4e43-9964-6578abcbaaac",
        "part": "whole"
       },
       "id": "f2340145-4108-4fed-a0bc-4b91ca6c10ae"
      }
     }
    },
    "5c2c8cc8-3676-4c06-b94c-d3f866ade69b": {
     "id": "5c2c8cc8-3676-4c06-b94c-d3f866ade69b",
     "prev": "6c4bc874-f3fc-472c-a81c-cd415b91c24b",
     "regions": {
      "e1de7ab6-4ef2-4b14-92d7-b174bf32806e": {
       "attrs": {
        "height": 0.8,
        "width": 0.8,
        "x": 0.1,
        "y": 0.1
       },
       "content": {
        "cell": "ae8725fa-30f7-4d7f-a2c2-5f86953d730b",
        "part": "whole"
       },
       "id": "e1de7ab6-4ef2-4b14-92d7-b174bf32806e"
      }
     }
    },
    "5cab5674-74dc-4378-93d7-eaa79e90cdae": {
     "id": "5cab5674-74dc-4378-93d7-eaa79e90cdae",
     "prev": "ba274d18-2760-4e55-ad47-2727b824fd00",
     "regions": {
      "2178d7cf-bf1e-4850-95a2-1509f15febfa": {
       "attrs": {
        "height": 0.8,
        "width": 0.8,
        "x": 0.1,
        "y": 0.1
       },
       "content": {
        "cell": "5d433d13-f44a-45bb-91fd-406f60b33b67",
        "part": "whole"
       },
       "id": "2178d7cf-bf1e-4850-95a2-1509f15febfa"
      }
     }
    },
    "638df7e1-84d1-4fd4-a15c-c94b731d1bea": {
     "id": "638df7e1-84d1-4fd4-a15c-c94b731d1bea",
     "prev": "b9dddf99-da24-46e1-81d4-8ac33b6fc3a3",
     "regions": {
      "deba8b1f-d997-4426-8f1b-978df7f19b41": {
       "attrs": {
        "height": 0.8,
        "width": 0.8,
        "x": 0.1,
        "y": 0.1
       },
       "content": {
        "cell": "7adaaf8f-a83e-456b-b99a-d3b3d4cb6d1a",
        "part": "whole"
       },
       "id": "deba8b1f-d997-4426-8f1b-978df7f19b41"
      }
     }
    },
    "6bda9eb4-0724-4e53-9971-131d0cb5f9e2": {
     "id": "6bda9eb4-0724-4e53-9971-131d0cb5f9e2",
     "prev": "ee33e624-cd65-4b8c-b28b-c95623a56dbf",
     "regions": {
      "feffbbd2-27d1-4318-8359-7d57583ee2bc": {
       "attrs": {
        "height": 0.8,
        "width": 0.8,
        "x": 0.1,
        "y": 0.1
       },
       "content": {
        "cell": "8dce188c-36b7-41fa-9020-b5cb5502e452",
        "part": "whole"
       },
       "id": "feffbbd2-27d1-4318-8359-7d57583ee2bc"
      }
     }
    },
    "6c4bc874-f3fc-472c-a81c-cd415b91c24b": {
     "id": "6c4bc874-f3fc-472c-a81c-cd415b91c24b",
     "prev": null,
     "regions": {
      "c9eac7e8-d033-4b03-8bf7-abd58ffe8d41": {
       "attrs": {
        "height": 0.8,
        "width": 0.8,
        "x": 0.1,
        "y": 0.1
       },
       "content": {
        "cell": "71219fc3-c9cb-4700-9f0b-ab38b1b223da",
        "part": "whole"
       },
       "id": "c9eac7e8-d033-4b03-8bf7-abd58ffe8d41"
      }
     }
    },
    "6d7ab34f-9d99-4c74-9877-27b25abc73f0": {
     "id": "6d7ab34f-9d99-4c74-9877-27b25abc73f0",
     "prev": "febe7de9-9362-4079-bfe9-2d4dfddf00e2",
     "regions": {
      "2ee252de-db5f-43e7-b4b7-7f59bba29962": {
       "attrs": {
        "height": 0.8,
        "width": 0.8,
        "x": 0.1,
        "y": 0.1
       },
       "content": {
        "cell": "85d1ab90-cc65-4935-808b-a6f57ecc892e",
        "part": "whole"
       },
       "id": "2ee252de-db5f-43e7-b4b7-7f59bba29962"
      }
     }
    },
    "7ea582c3-439d-4ec2-9f27-dea18bcacc31": {
     "id": "7ea582c3-439d-4ec2-9f27-dea18bcacc31",
     "prev": "f0727a74-61a1-48c1-94a5-3e7490c29f0b",
     "regions": {
      "652960af-b61f-4c36-b122-3eacd714867b": {
       "attrs": {
        "height": 0.8,
        "width": 0.8,
        "x": 0.1,
        "y": 0.1
       },
       "content": {
        "cell": "86172e20-fe16-447d-859f-24a81e563011",
        "part": "whole"
       },
       "id": "652960af-b61f-4c36-b122-3eacd714867b"
      }
     }
    },
    "8b078b7a-c2c6-4129-a19f-2a4f5c4a26f3": {
     "id": "8b078b7a-c2c6-4129-a19f-2a4f5c4a26f3",
     "prev": "5cab5674-74dc-4378-93d7-eaa79e90cdae",
     "regions": {
      "dce1e605-9342-414d-b8c6-7dcb922fbf47": {
       "attrs": {
        "height": 0.8,
        "width": 0.8,
        "x": 0.1,
        "y": 0.1
       },
       "content": {
        "cell": "ee1bdf03-6e13-4f1f-9dc9-22d4e344fdba",
        "part": "whole"
       },
       "id": "dce1e605-9342-414d-b8c6-7dcb922fbf47"
      }
     }
    },
    "999513ad-b53e-4d84-b9ef-ed37967f74d6": {
     "id": "999513ad-b53e-4d84-b9ef-ed37967f74d6",
     "prev": "638df7e1-84d1-4fd4-a15c-c94b731d1bea",
     "regions": {
      "2e85c1b2-3c30-413e-9b0f-141281da3a2a": {
       "attrs": {
        "height": 0.8,
        "width": 0.8,
        "x": 0.1,
        "y": 0.1
       },
       "content": {
        "cell": "998dc7f5-ab6d-4fb8-866f-4fa96a06aaaa",
        "part": "whole"
       },
       "id": "2e85c1b2-3c30-413e-9b0f-141281da3a2a"
      }
     }
    },
    "9add3d79-8621-4167-8e1d-d4ae48fba71b": {
     "id": "9add3d79-8621-4167-8e1d-d4ae48fba71b",
     "prev": "7ea582c3-439d-4ec2-9f27-dea18bcacc31",
     "regions": {
      "d5f4537e-4d8c-4179-b14b-6c475f50b04e": {
       "attrs": {
        "height": 0.8,
        "width": 0.8,
        "x": 0.1,
        "y": 0.1
       },
       "content": {
        "cell": "9659b1c1-9aed-4d71-b830-4a60d408ad71",
        "part": "whole"
       },
       "id": "d5f4537e-4d8c-4179-b14b-6c475f50b04e"
      }
     }
    },
    "9bfe6214-4631-45b5-a05e-8923f178bb57": {
     "id": "9bfe6214-4631-45b5-a05e-8923f178bb57",
     "prev": "30509a9a-dbd8-4dbd-9fab-852a7266d894",
     "regions": {
      "aac53254-d149-49f2-8f92-670c6f2714bb": {
       "attrs": {
        "height": 0.8,
        "width": 0.8,
        "x": 0.1,
        "y": 0.1
       },
       "content": {
        "cell": "c71a78d7-9d0e-4825-9c84-9998f971317d",
        "part": "whole"
       },
       "id": "aac53254-d149-49f2-8f92-670c6f2714bb"
      }
     }
    },
    "b9dddf99-da24-46e1-81d4-8ac33b6fc3a3": {
     "id": "b9dddf99-da24-46e1-81d4-8ac33b6fc3a3",
     "prev": "1390653e-bdb6-444a-b611-39c60ffb77a1",
     "regions": {
      "0b31dbb4-f15b-4a16-9420-c5dc8ed4e871": {
       "attrs": {
        "height": 0.8,
        "width": 0.8,
        "x": 0.1,
        "y": 0.1
       },
       "content": {
        "cell": "d0569bb0-fad8-48b7-8d48-0066bfb90401",
        "part": "whole"
       },
       "id": "0b31dbb4-f15b-4a16-9420-c5dc8ed4e871"
      }
     }
    },
    "ba274d18-2760-4e55-ad47-2727b824fd00": {
     "id": "ba274d18-2760-4e55-ad47-2727b824fd00",
     "prev": "ed47079d-58cf-4b87-a9fa-a709d8a7c3c6",
     "regions": {
      "13000b51-bd66-4fb5-970b-20bfad440880": {
       "attrs": {
        "height": 0.8,
        "width": 0.8,
        "x": 0.1,
        "y": 0.1
       },
       "content": {
        "cell": "f6847886-4044-43a7-9edd-f18efddcb7a9",
        "part": "whole"
       },
       "id": "13000b51-bd66-4fb5-970b-20bfad440880"
      }
     }
    },
    "ed47079d-58cf-4b87-a9fa-a709d8a7c3c6": {
     "id": "ed47079d-58cf-4b87-a9fa-a709d8a7c3c6",
     "prev": "9add3d79-8621-4167-8e1d-d4ae48fba71b",
     "regions": {
      "a96aea94-1714-4020-83f9-dbc03e9fd55e": {
       "attrs": {
        "height": 0.8,
        "width": 0.8,
        "x": 0.1,
        "y": 0.1
       },
       "content": {
        "cell": "5a579720-fa62-4525-85e3-dd049cbd73be",
        "part": "whole"
       },
       "id": "a96aea94-1714-4020-83f9-dbc03e9fd55e"
      }
     }
    },
    "ee33e624-cd65-4b8c-b28b-c95623a56dbf": {
     "id": "ee33e624-cd65-4b8c-b28b-c95623a56dbf",
     "prev": "999513ad-b53e-4d84-b9ef-ed37967f74d6",
     "regions": {
      "325ae98d-0855-4d16-8408-6d12f47efa24": {
       "attrs": {
        "height": 0.8,
        "width": 0.8,
        "x": 0.1,
        "y": 0.1
       },
       "content": {
        "cell": "829150e0-712b-4739-92d6-37b9c3d789cb",
        "part": "whole"
       },
       "id": "325ae98d-0855-4d16-8408-6d12f47efa24"
      }
     }
    },
    "f0727a74-61a1-48c1-94a5-3e7490c29f0b": {
     "id": "f0727a74-61a1-48c1-94a5-3e7490c29f0b",
     "prev": "6d7ab34f-9d99-4c74-9877-27b25abc73f0",
     "regions": {
      "1666081e-448d-4f80-90f2-9f26f1568cdc": {
       "attrs": {
        "height": 0.8,
        "width": 0.8,
        "x": 0.1,
        "y": 0.1
       },
       "content": {
        "cell": "d99a804c-9444-418b-bc94-3c2f064e2844",
        "part": "whole"
       },
       "id": "1666081e-448d-4f80-90f2-9f26f1568cdc"
      }
     }
    },
    "f3f10f50-4cad-4149-b308-c66e6a493a72": {
     "id": "f3f10f50-4cad-4149-b308-c66e6a493a72",
     "prev": "42d1bd80-265e-4acf-bbc1-b202afddade3",
     "regions": {
      "4fc1185f-bdb8-46fc-99bd-b8d30defeca9": {
       "attrs": {
        "height": 0.8,
        "width": 0.8,
        "x": 0.1,
        "y": 0.1
       },
       "content": {
        "cell": "9b7597e9-aaa9-4d9f-ba0d-22f43d1a3900",
        "part": "whole"
       },
       "id": "4fc1185f-bdb8-46fc-99bd-b8d30defeca9"
      }
     }
    },
    "febe7de9-9362-4079-bfe9-2d4dfddf00e2": {
     "id": "febe7de9-9362-4079-bfe9-2d4dfddf00e2",
     "prev": "6bda9eb4-0724-4e53-9971-131d0cb5f9e2",
     "regions": {
      "42348103-1cd6-4bac-b346-33cd41aea444": {
       "attrs": {
        "height": 0.8,
        "width": 0.8,
        "x": 0.1,
        "y": 0.1
       },
       "content": {
        "cell": "35a148d4-f201-4441-bf5e-8a07f93dea84",
        "part": "whole"
       },
       "id": "42348103-1cd6-4bac-b346-33cd41aea444"
      }
     }
    }
   },
   "themes": {}
  }
 },
 "nbformat": 4,
 "nbformat_minor": 2
}
