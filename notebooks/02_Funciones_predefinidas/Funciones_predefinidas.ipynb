{
 "cells": [
  {
   "cell_type": "markdown",
   "metadata": {},
   "source": [
    "# Funciones predefinidas"
   ]
  },
  {
   "cell_type": "markdown",
   "metadata": {},
   "source": [
    "<a target=\"_self\" href='#Introducción'>Introducción</a><br>\n",
    "<a target=\"_self\" href='#Funciones_nativas'>Funciones nativas</a><br>\n",
    "<a target=\"_self\" href='#Funciones_definidas_en_módulos'>Funciones definidas en módulos</a><br>\n",
    "<a target=\"_self\" href='#Introspección'>Introspección</a><br>\n",
    "<a target=\"_self\" href='#El_operador_punto'>Acceso a atributos. El operador punto: ``.``</a><br>\n",
    "<a target=\"_self\" href='#Conversiones_de_tipos'>Conversiones de tipos</a><br>"
   ]
  },
  {
   "cell_type": "markdown",
   "metadata": {},
   "source": [
    "***\n",
    "<a id='Introducción'></a>"
   ]
  },
  {
   "cell_type": "markdown",
   "metadata": {},
   "source": [
    "## Introducción\n",
    "\n",
    "Las operaciones aritméticas elementales que hemos visto combinan valores y operadores para obtener un nuevo valor. No obstante, existen operaciones matemáticas que aún no hemos comentado a las que usualmente tenemos acceso en una calculadora comercial convencional. Ejemplos son la utilización de **funciones matemáticas** comunes, tales como la raíz cuadrada, potencias, funciones trigonométricas, logaritmos, etc.\n",
    "\n",
    "Python, al igual que otros lenguajes de programación, tiene también el concepto de **función**, cuyo significado no coincide de forma exacta con la definición matemática, pero que puede ser utilizada para dar cuerpo a estas últimas.\n",
    "\n",
    "Las funciones de Python serán objeto de un estudio más detallado posteriormente, donde aprenderemos a programar nuestras propias funciones. De momento, iremos introduciendo algunas de las **funciones nativas** (**built-in functions**) que Python pone a nuestra disposición."
   ]
  },
  {
   "cell_type": "markdown",
   "metadata": {},
   "source": [
    "***\n",
    "<a id='Funciones_nativas'></a>"
   ]
  },
  {
   "cell_type": "markdown",
   "metadata": {},
   "source": [
    "## Funciones nativas\n",
    "Un ejemplo de función numérica que está siempre a nuestra disposición es `abs()`, que se utiliza para hallar el valor absoluto de valores enteros o reales y el módulo de números complejos. "
   ]
  },
  {
   "cell_type": "code",
   "execution_count": 1,
   "metadata": {},
   "outputs": [
    {
     "data": {
      "text/plain": [
       "1"
      ]
     },
     "execution_count": 1,
     "metadata": {},
     "output_type": "execute_result"
    }
   ],
   "source": [
    "# Uso de la función abs()\n",
    "abs(-1)"
   ]
  },
  {
   "cell_type": "markdown",
   "metadata": {},
   "source": [
    "Nótese en la celda anterior el uso de **comentarios**: líneas de texto libre, que comienzan con el carácter `#` y que se extienden hasta el final de la línea. Estos comentarios son ignorados por el intérprete, pero son útiles para aclarar el funcionamiento del código.\n",
    "> La regla de estilo **PEP 8** sugiere dejar un espacio en blanco tras `#`"
   ]
  },
  {
   "cell_type": "markdown",
   "metadata": {},
   "source": [
    "Las funciones pueden aparecer formando parte de expresiones más complejas."
   ]
  },
  {
   "cell_type": "code",
   "execution_count": 2,
   "metadata": {},
   "outputs": [
    {
     "data": {
      "text/plain": [
       "15"
      ]
     },
     "execution_count": 2,
     "metadata": {},
     "output_type": "execute_result"
    }
   ],
   "source": [
    "# ¿Puedes predecir el resultado de la siguiente expresión?\n",
    "10**abs(2*3 - 7) + 5"
   ]
  },
  {
   "cell_type": "markdown",
   "metadata": {},
   "source": [
    "La expresión\n",
    "```python\n",
    "10**abs(2*3 - 7) + 5\n",
    "```\n",
    "es interpretada por Python siguiendo las reglas de precedencia. Así, la potencia debe ser evaluada primero. Pero para hacerlo, el intérprete necesita primero obtener el valor absoluto de la subexpresión que está entre los paréntesis, los cuales forman parte de la sintaxis de la función. Los pasos serían:\n",
    "\n",
    "1. Se evalúa la subexpresión `2*3 - 7`, obteniéndose el valor `-1`. Este es el valor del **parámetro** que se **envía** a la función `abs()`.\n",
    "2. La función `abs()` **devuelve** el valor absoluto de `-1`, es decir, `1` .\n",
    "3. El valor devuelto `1` es el exponente de la base `10`. El resultado es `10`.\n",
    "4. Al valor `10` se le suma el operando `5`."
   ]
  },
  {
   "cell_type": "markdown",
   "metadata": {},
   "source": [
    "Otro ejemplo, es la función predefinida `round()`, que devuelve redondeada la expresión entre paréntesis al entero más cercano, `3` en el ejemplo:"
   ]
  },
  {
   "cell_type": "code",
   "execution_count": 3,
   "metadata": {},
   "outputs": [
    {
     "data": {
      "text/plain": [
       "3"
      ]
     },
     "execution_count": 3,
     "metadata": {},
     "output_type": "execute_result"
    }
   ],
   "source": [
    "round(3.1)"
   ]
  },
  {
   "cell_type": "markdown",
   "metadata": {},
   "source": [
    "Las funciones en Python pueden diseñarse para recibir un número opcional de parámetros.\n",
    "Así, la función `round()` puede ser utilizada con dos parámetros: el primero sigue siendo el número real a redondear, pero el segundo es un entero que especifica el número de lugares decimales para el redondeo. En este caso, el valor devuelto ya no es un entero sino un real."
   ]
  },
  {
   "cell_type": "code",
   "execution_count": 4,
   "metadata": {},
   "outputs": [
    {
     "data": {
      "text/plain": [
       "3.142"
      ]
     },
     "execution_count": 4,
     "metadata": {},
     "output_type": "execute_result"
    }
   ],
   "source": [
    "# Prueba diferentes lugares decimales para el redondeo\n",
    "round(3.14159, 3)"
   ]
  },
  {
   "cell_type": "markdown",
   "metadata": {},
   "source": [
    "Un elemento importante de la sintaxis de los lenguajes de programación es que admiten la **composición**:\n",
    ">Cualquier subexpresión que participe en una expresión puede ser sustituida por otra subexpresión equivalente, originando una expresión resultante que será también sintácticamente correcta. \n",
    "\n",
    "Esto incluye el uso de las funciones en las expresiones. Ya vimos antes que el valor del parámetro que se envía a una función puede ser el resultado de la evaluación de otra expresión. \n",
    "\n",
    "Por ejemplo:"
   ]
  },
  {
   "cell_type": "code",
   "execution_count": 5,
   "metadata": {},
   "outputs": [
    {
     "data": {
      "text/plain": [
       "6"
      ]
     },
     "execution_count": 5,
     "metadata": {},
     "output_type": "execute_result"
    }
   ],
   "source": [
    "# ¿Cuál será el valor que resulta? ¿En qué orden serán llamadas las funciones?\n",
    "abs(round(3.5) - 10)"
   ]
  },
  {
   "cell_type": "markdown",
   "metadata": {},
   "source": [
    "Existen funciones predefinidas asociadas al trabajo con **cadenas de caracteres** (y de otras **secuencias**) que veremos a lo largo del curso. Por el ejemplo, la función `len()` devuelve un entero con el tamaño de la cadena, es decir, el número de caracteres que la forman, incluidos espacios en blanco, que son caracteres al fin y al cabo."
   ]
  },
  {
   "cell_type": "code",
   "execution_count": 6,
   "metadata": {},
   "outputs": [
    {
     "data": {
      "text/plain": [
       "11"
      ]
     },
     "execution_count": 6,
     "metadata": {},
     "output_type": "execute_result"
    }
   ],
   "source": [
    "len(\"hola mundo \")"
   ]
  },
  {
   "cell_type": "markdown",
   "metadata": {},
   "source": [
    "Funciones como `abs()`, `round()` o `len()` están predefinidas y directamente disponibles por el intérprete de Python. Existen otras muchas funciones **nativas** que iremos viendo poco a poco. Una lista completa de las mismas puede ser consultada en este [enlace](https://docs.python.org/3/library/functions.html)."
   ]
  },
  {
   "cell_type": "markdown",
   "metadata": {},
   "source": [
    "***\n",
    "<a id='Funciones_definidas_en_módulos'></a>"
   ]
  },
  {
   "cell_type": "markdown",
   "metadata": {},
   "source": [
    "## Funciones definidas en módulos\n",
    "Además de las funciones **nativas** del lenguaje existen muchas otras, útiles en diferentes campos, que están disponibles si se **importa** el **módulo** adecuado.\n",
    "\n",
    "Una discusión más en profundidad del significado de los módulos, cómo trabajar con ellos y cómo crearlos se hará más adelante. Por ahora baste mencionar que mediante ellos podemos acceder a un conjunto suplementario de funciones. \n",
    "\n",
    "Una forma de *importar* todas las funciones de un módulo es con la expresión:\n",
    "```python\n",
    "from modulo import *\n",
    "\n",
    "```\n",
    "Por ejemplo, el modulo `math` contiene las habituales funciones matemáticas, `cos()`, `exp()`, `log()`, etc., funciones coincidentes con las de la biblioteca homónima del lenguaje C.\n",
    "\n",
    "Un conjunto completo de las funciones del módulo `math` se encuentra en el siguiente [enlace](https://docs.python.org/3/library/math.html)."
   ]
  },
  {
   "cell_type": "code",
   "execution_count": 7,
   "metadata": {},
   "outputs": [
    {
     "data": {
      "text/plain": [
       "1.0"
      ]
     },
     "execution_count": 7,
     "metadata": {},
     "output_type": "execute_result"
    }
   ],
   "source": [
    "# ¿Puedes predecir el resultado antes de ejecutarlo?\n",
    "from math import * # Importamos el módulo math\n",
    "log(exp(cos(0)))"
   ]
  },
  {
   "cell_type": "markdown",
   "metadata": {},
   "source": [
    "Aunque importar con la expresión `from modulo import *` puede resultar cómodo, lo cierto es que es totalmente desaconsejable. La razón es que diferentes módulos pueden contener identificadores coincidentes.\n",
    "\n",
    "Por ejemplo, los módulos `math` y `cmath` (este último adaptado al cálculo con números complejos) tienen ambos una función para el cálculo de raíces cuadradas, `sqrt()`.\n",
    "\n",
    "En el ejemplo siguiente, al importarse en segundo lugar el módulo `math` se **sobrescribe** la función `sqrt()` para complejos y el cálculo produce un **error en tiempo de ejecución** `ValueError`. ¡Se ha producido una **colisión** entre identificadores!"
   ]
  },
  {
   "cell_type": "code",
   "execution_count": 8,
   "metadata": {
    "tags": [
     "raises-exception"
    ]
   },
   "outputs": [
    {
     "ename": "ValueError",
     "evalue": "math domain error",
     "output_type": "error",
     "traceback": [
      "\u001b[1;31m---------------------------------------------------------------------------\u001b[0m",
      "\u001b[1;31mValueError\u001b[0m                                Traceback (most recent call last)",
      "\u001b[1;32mc:\\Users\\migtr\\OneDrive\\IDrive\\GitHub\\fund_prog_python\\notebooks\\02_Funciones_predefinidas\\Funciones_predefinidas.ipynb Cell 25'\u001b[0m in \u001b[0;36m<module>\u001b[1;34m\u001b[0m\n\u001b[0;32m      <a href='vscode-notebook-cell:/c%3A/Users/migtr/OneDrive/IDrive/GitHub/fund_prog_python/notebooks/02_Funciones_predefinidas/Funciones_predefinidas.ipynb#ch0000024?line=0'>1</a>\u001b[0m \u001b[39mfrom\u001b[39;00m \u001b[39mcmath\u001b[39;00m \u001b[39mimport\u001b[39;00m \u001b[39m*\u001b[39m\n\u001b[0;32m      <a href='vscode-notebook-cell:/c%3A/Users/migtr/OneDrive/IDrive/GitHub/fund_prog_python/notebooks/02_Funciones_predefinidas/Funciones_predefinidas.ipynb#ch0000024?line=1'>2</a>\u001b[0m \u001b[39mfrom\u001b[39;00m \u001b[39mmath\u001b[39;00m \u001b[39mimport\u001b[39;00m \u001b[39m*\u001b[39m\n\u001b[1;32m----> <a href='vscode-notebook-cell:/c%3A/Users/migtr/OneDrive/IDrive/GitHub/fund_prog_python/notebooks/02_Funciones_predefinidas/Funciones_predefinidas.ipynb#ch0000024?line=3'>4</a>\u001b[0m sqrt(\u001b[39m-\u001b[39;49m\u001b[39m3\u001b[39;49m)\n",
      "\u001b[1;31mValueError\u001b[0m: math domain error"
     ]
    }
   ],
   "source": [
    "from cmath import *\n",
    "from math import *\n",
    "\n",
    "sqrt(-3)"
   ]
  },
  {
   "cell_type": "markdown",
   "metadata": {},
   "source": [
    "Nótese que el hecho de que se produzca este error es una buena noticia. Imaginad una **colisión** entre dos funciones con desempeños diferentes que no generen este tipo de error. ¡Tendríamos un **error semántico** de difícil detección!\n",
    "\n",
    "Si en la celda anterior cambiamos el orden de importación, el error desaparece. ¡Verifícalo!"
   ]
  },
  {
   "cell_type": "markdown",
   "metadata": {},
   "source": [
    "### Procedimiento de importación\n",
    "¿Cuál es la manera correcta de proceder? Veámoslo con el mismo ejemplo."
   ]
  },
  {
   "cell_type": "code",
   "execution_count": null,
   "metadata": {},
   "outputs": [],
   "source": [
    "import cmath\n",
    "import math\n",
    "\n",
    "cmath.sqrt(-3)"
   ]
  },
  {
   "cell_type": "markdown",
   "metadata": {},
   "source": [
    "Ahora, para acceder a las funciones de cada módulo anteponemos su nombre seguido del **operador punto**: `.`. \n",
    "\n",
    "Es cierto que el código resultante es más verboso, pero evitamos colisiones entre los identificadores de los objetos definidos en cada módulo. Tanto ``cmath.`` como ``math.`` actúan como **espacio de nombres** (**namespaces**) que permiten acceder al correcto identificador contenido en cada módulo."
   ]
  },
  {
   "cell_type": "markdown",
   "metadata": {},
   "source": [
    "***\n",
    "<a id='Introspección'></a>"
   ]
  },
  {
   "cell_type": "markdown",
   "metadata": {},
   "source": [
    "## Introspección\n",
    "Ya hemos comentado que en Python, tanto las variables como las funciones son objetos. Entre las funciones nativas que proporciona Python se encuentran aquellas que permiten examinar las propiedades de un objeto en **tiempo de ejecución**."
   ]
  },
  {
   "cell_type": "markdown",
   "metadata": {},
   "source": [
    "### La función ``type()``\n",
    "La función ``type()`` interroga el tipo del valor de un objeto."
   ]
  },
  {
   "cell_type": "code",
   "execution_count": null,
   "metadata": {},
   "outputs": [
    {
     "data": {
      "text/plain": [
       "int"
      ]
     },
     "execution_count": 2,
     "metadata": {},
     "output_type": "execute_result"
    }
   ],
   "source": [
    "a = 1\n",
    "type(a)"
   ]
  },
  {
   "cell_type": "code",
   "execution_count": null,
   "metadata": {},
   "outputs": [
    {
     "data": {
      "text/plain": [
       "float"
      ]
     },
     "execution_count": 3,
     "metadata": {},
     "output_type": "execute_result"
    }
   ],
   "source": [
    "a = 1.1\n",
    "type(a)  "
   ]
  },
  {
   "cell_type": "code",
   "execution_count": null,
   "metadata": {},
   "outputs": [
    {
     "data": {
      "text/plain": [
       "str"
      ]
     },
     "execution_count": 4,
     "metadata": {},
     "output_type": "execute_result"
    }
   ],
   "source": [
    "a = 'Hola'\n",
    "type(a)"
   ]
  },
  {
   "cell_type": "markdown",
   "metadata": {},
   "source": [
    "### La función ``id()`` y el operador ``is``\n",
    "La función nativa ``id()`` muestra por pantalla un entero, que es **único** para cada objeto almacenado en memoria."
   ]
  },
  {
   "cell_type": "code",
   "execution_count": null,
   "metadata": {},
   "outputs": [
    {
     "data": {
      "text/plain": [
       "2336241346672"
      ]
     },
     "execution_count": 7,
     "metadata": {},
     "output_type": "execute_result"
    }
   ],
   "source": [
    "x = 3.5\n",
    "id(x)"
   ]
  },
  {
   "cell_type": "code",
   "execution_count": null,
   "metadata": {},
   "outputs": [
    {
     "data": {
      "text/plain": [
       "2336241346672"
      ]
     },
     "execution_count": 9,
     "metadata": {},
     "output_type": "execute_result"
    }
   ],
   "source": [
    "y = x\n",
    "id(y)"
   ]
  },
  {
   "cell_type": "markdown",
   "metadata": {},
   "source": [
    "Nótese que la función ``id()`` devuelve la identificación del objeto ``float`` de valor ``3.5``. Las variables ``x`` e ``y`` son meras etiquetas ligadas a ese objeto.\n",
    "\n",
    "El operador ``is`` permite determinar si dos variables están ligadas al mismo objeto."
   ]
  },
  {
   "cell_type": "code",
   "execution_count": null,
   "metadata": {},
   "outputs": [
    {
     "data": {
      "text/plain": [
       "True"
      ]
     },
     "execution_count": 10,
     "metadata": {},
     "output_type": "execute_result"
    }
   ],
   "source": [
    "x is y"
   ]
  },
  {
   "cell_type": "markdown",
   "metadata": {},
   "source": [
    "La salida de la celda anterior es ``True``. Es un resultado **lógico** o **booleano** (en referencia al álgebra de G. Boole). El otro posible valor es ``False``. Hablaremos sobre este nuevo tipo de dato más adelante."
   ]
  },
  {
   "cell_type": "code",
   "execution_count": null,
   "metadata": {},
   "outputs": [
    {
     "data": {
      "text/plain": [
       "False"
      ]
     },
     "execution_count": 11,
     "metadata": {},
     "output_type": "execute_result"
    }
   ],
   "source": [
    "x = 5.6\n",
    "x is y"
   ]
  },
  {
   "cell_type": "markdown",
   "metadata": {},
   "source": [
    "Por otro lado, dos identificadores pueden estar asociados a objetos diferentes con el mismo tipo y valor. En el siguiente ejemplo, `x` e  `y` tienen el valor `5000`, pero, en cada caso, el objeto tipo `int` que almacena ese valor es diferente, se almacenan en memoria en lugares distintos."
   ]
  },
  {
   "cell_type": "code",
   "execution_count": 2,
   "metadata": {},
   "outputs": [
    {
     "data": {
      "text/plain": [
       "False"
      ]
     },
     "execution_count": 2,
     "metadata": {},
     "output_type": "execute_result"
    }
   ],
   "source": [
    "x = 5000\n",
    "y = 10000//2\n",
    "x is y"
   ]
  },
  {
   "cell_type": "markdown",
   "metadata": {},
   "source": [
    "Esto podría parecer un **desperdicio de memoria**. Sin embargo, para las relativas pocas ocasiones en que esto pueda ocurrir, hacer que el intérprete verifique cada vez que se crea un nuevo objeto si ya hay un objeto en memoria coincidente lo que sería es un **desperdicio de tiempo**."
   ]
  },
  {
   "cell_type": "code",
   "execution_count": 3,
   "metadata": {},
   "outputs": [
    {
     "data": {
      "text/plain": [
       "True"
      ]
     },
     "execution_count": 3,
     "metadata": {},
     "output_type": "execute_result"
    }
   ],
   "source": [
    "x = 2\n",
    "y = 10000//5000\n",
    "x is y"
   ]
  },
  {
   "cell_type": "markdown",
   "metadata": {},
   "source": [
    "En la celda superior, sin embargo, vemos que ambos enteros de valor `2` son almacenados en la misma zona de memoria. Esto es una característica de implementación interna de Python. Los valores enteros en el intervalo $[-5,256]$ son usados tan frecuentemente en los programas que están almacenados en una caché, precargados en memoria: de esta forma se ahorra tiempo y espacio."
   ]
  },
  {
   "cell_type": "markdown",
   "metadata": {},
   "source": [
    "### La función ``dir()``\n",
    "La función nativa ``dir()`` muestra por pantalla todos los atributos, datos y métodos, utilizables con un **objeto**."
   ]
  },
  {
   "cell_type": "code",
   "execution_count": null,
   "metadata": {
    "tags": [
     "scroll-output"
    ]
   },
   "outputs": [
    {
     "data": {
      "text/plain": [
       "['__abs__',\n",
       " '__add__',\n",
       " '__bool__',\n",
       " '__class__',\n",
       " '__delattr__',\n",
       " '__dir__',\n",
       " '__divmod__',\n",
       " '__doc__',\n",
       " '__eq__',\n",
       " '__float__',\n",
       " '__floordiv__',\n",
       " '__format__',\n",
       " '__ge__',\n",
       " '__getattribute__',\n",
       " '__getformat__',\n",
       " '__getnewargs__',\n",
       " '__gt__',\n",
       " '__hash__',\n",
       " '__init__',\n",
       " '__init_subclass__',\n",
       " '__int__',\n",
       " '__le__',\n",
       " '__lt__',\n",
       " '__mod__',\n",
       " '__mul__',\n",
       " '__ne__',\n",
       " '__neg__',\n",
       " '__new__',\n",
       " '__pos__',\n",
       " '__pow__',\n",
       " '__radd__',\n",
       " '__rdivmod__',\n",
       " '__reduce__',\n",
       " '__reduce_ex__',\n",
       " '__repr__',\n",
       " '__rfloordiv__',\n",
       " '__rmod__',\n",
       " '__rmul__',\n",
       " '__round__',\n",
       " '__rpow__',\n",
       " '__rsub__',\n",
       " '__rtruediv__',\n",
       " '__set_format__',\n",
       " '__setattr__',\n",
       " '__sizeof__',\n",
       " '__str__',\n",
       " '__sub__',\n",
       " '__subclasshook__',\n",
       " '__truediv__',\n",
       " '__trunc__',\n",
       " 'as_integer_ratio',\n",
       " 'conjugate',\n",
       " 'fromhex',\n",
       " 'hex',\n",
       " 'imag',\n",
       " 'is_integer',\n",
       " 'real']"
      ]
     },
     "execution_count": 22,
     "metadata": {},
     "output_type": "execute_result"
    }
   ],
   "source": [
    "a = 1.1\n",
    "dir(a)"
   ]
  },
  {
   "cell_type": "markdown",
   "metadata": {},
   "source": [
    "***\n",
    "<a id='El_operador_punto'></a>"
   ]
  },
  {
   "cell_type": "markdown",
   "metadata": {},
   "source": [
    "## Acceso a atributos. El operador punto: `.`\n",
    "Para acceder a un **atributo** de un objeto, debe utilizarse el operador punto: `.`."
   ]
  },
  {
   "cell_type": "markdown",
   "metadata": {},
   "source": [
    "**Ejemplos con ``complex``**\n",
    "\n",
    "Por ejemplo, los valores de tipo `complex` tienen, entre otros, dos atributos llamados `real` e `imag`, que permiten acceder de forma individual a la parte real e imaginaria del valor."
   ]
  },
  {
   "cell_type": "code",
   "execution_count": null,
   "metadata": {},
   "outputs": [
    {
     "data": {
      "text/plain": [
       "3.1"
      ]
     },
     "execution_count": 16,
     "metadata": {},
     "output_type": "execute_result"
    }
   ],
   "source": [
    "a = 3.1 + 5.62j\n",
    "a.real"
   ]
  },
  {
   "cell_type": "code",
   "execution_count": null,
   "metadata": {},
   "outputs": [
    {
     "data": {
      "text/plain": [
       "5.62"
      ]
     },
     "execution_count": 17,
     "metadata": {},
     "output_type": "execute_result"
    }
   ],
   "source": [
    "a.imag"
   ]
  },
  {
   "cell_type": "markdown",
   "metadata": {},
   "source": [
    "En el siguiente ejemplo, el **método** `.conjugate()` obtiene el complejo conjugado de `a`."
   ]
  },
  {
   "cell_type": "code",
   "execution_count": null,
   "metadata": {},
   "outputs": [
    {
     "data": {
      "text/plain": [
       "(3.1-5.62j)"
      ]
     },
     "execution_count": 14,
     "metadata": {},
     "output_type": "execute_result"
    }
   ],
   "source": [
    "b = a.conjugate()\n",
    "b"
   ]
  },
  {
   "cell_type": "markdown",
   "metadata": {},
   "source": [
    "**Ejemplos con ``str``**\n",
    "\n",
    "El método `.upper()` actúa sobre el valor de una variable de tipo `str` transformando todos sus caracteres a mayúsculas."
   ]
  },
  {
   "cell_type": "code",
   "execution_count": null,
   "metadata": {},
   "outputs": [
    {
     "data": {
      "text/plain": [
       "'CADENA PARA PROBAR MÉTODOS'"
      ]
     },
     "execution_count": 15,
     "metadata": {},
     "output_type": "execute_result"
    }
   ],
   "source": [
    "a = \"cadena para probar métodos\"\n",
    "a.upper()"
   ]
  },
  {
   "cell_type": "markdown",
   "metadata": {},
   "source": [
    "Obsérvese que un método es conceptualmente similar a una función en el sentido de que ejecuta un código que devuelve algún valor. A diferencia de una función convencional, el método está asociado al objeto sobre el que actúa. \n",
    "\n",
    "Hay muchos otros métodos asociados a las cadenas: para una referencia completa puede consultarse en este [enlace](https://docs.python.org/3/library/stdtypes.html#string-methods).\n",
    "\n",
    "Algunos métodos útiles:\n",
    "```python\n",
    "str.lower()       # convierte a minúsculas los caracteres de la cadena.\n",
    "str.capitalize()  # hace que el primer carácter de la cadena esté en mayúscula.\n",
    "str.title()       # hace que todas las palabras comiencen con caracteres en mayúscula.\n",
    "str.isalnum()     # devuelve `True` si todos los caracteres de la cadena son alfanuméricos.\n",
    "str.isdigit()     # devuelve `True` si todos los caracteres son dígitos.\n",
    "```"
   ]
  },
  {
   "cell_type": "code",
   "execution_count": null,
   "metadata": {},
   "outputs": [],
   "source": [
    "cad = \"1232\"\n",
    "cad.isdigit()"
   ]
  },
  {
   "cell_type": "markdown",
   "metadata": {},
   "source": [
    "**Ejemplos para ``float``**\n",
    "\n",
    "Para valores numéricos también disponemos de métodos. Por ejemplo, el método `.as_integer_ratio()` de los `float` devuelve la representación fraccionaria del número real."
   ]
  },
  {
   "cell_type": "code",
   "execution_count": null,
   "metadata": {},
   "outputs": [
    {
     "data": {
      "text/plain": [
       "(3, 2)"
      ]
     },
     "execution_count": 4,
     "metadata": {},
     "output_type": "execute_result"
    }
   ],
   "source": [
    "a = 1.5\n",
    "a.as_integer_ratio()"
   ]
  },
  {
   "cell_type": "markdown",
   "metadata": {},
   "source": [
    "El método `.is_integer()` devuelve ``True`` si el valor no tiene parte fraccionaria."
   ]
  },
  {
   "cell_type": "code",
   "execution_count": null,
   "metadata": {},
   "outputs": [
    {
     "data": {
      "text/plain": [
       "True"
      ]
     },
     "execution_count": 25,
     "metadata": {},
     "output_type": "execute_result"
    }
   ],
   "source": [
    "a = 2.0\n",
    "a.is_integer()\n"
   ]
  },
  {
   "cell_type": "markdown",
   "metadata": {},
   "source": [
    "En el entorno **Jupyter Notebook** pulsando el tabulador después de escribir la variable y el operador punto,\n",
    "`variable.`, se muestra un menú desplegable que nos muestra los atributos y métodos asociados al tipo de objeto al que está asociada `variable`. En el caso de **Spyder** es aún más cómodo, pues se muestra automáticamente.\n",
    "\n",
    "![autocompletado](img/autocompletado.jpg)"
   ]
  },
  {
   "cell_type": "markdown",
   "metadata": {},
   "source": [
    "***\n",
    "<a id='Conversiones_de_tipos'></a>"
   ]
  },
  {
   "cell_type": "markdown",
   "metadata": {},
   "source": [
    "## Conversiones de tipos\n",
    "Para determinados tipos, es posible realizar **conversiones** entre ellos. Existen diversas funciones de conversión de tipo: ``float()``, ``int()``, ``complex()``, etc."
   ]
  },
  {
   "cell_type": "code",
   "execution_count": null,
   "metadata": {},
   "outputs": [
    {
     "data": {
      "text/plain": [
       "float"
      ]
     },
     "execution_count": 5,
     "metadata": {},
     "output_type": "execute_result"
    }
   ],
   "source": [
    "a = 23\n",
    "b = float(a)\n",
    "type(b)"
   ]
  },
  {
   "cell_type": "markdown",
   "metadata": {},
   "source": [
    "Estas funciones de conversión de tipos son muy versátiles: pueden recibir como argumentos diferentes valores *representando* distintos tipos de datos. Son incluso capaces de convertir una cadena de caracteres, que puede representar un valor (entero en el ejemplo), al valor numérico equivalente. Como veremos en el próximo capítulo, esta capacidad de transformar de caracteres a enteros o reales es capital para introducir valores desde el _exterior_ a nuestros programas o para mostrar los resultados obtenidos."
   ]
  },
  {
   "cell_type": "code",
   "execution_count": null,
   "metadata": {},
   "outputs": [],
   "source": [
    "a = \"1221\"   \n",
    "int(a)        # Se obtiene el entero representado en la cadena, si es posible"
   ]
  },
  {
   "cell_type": "markdown",
   "metadata": {},
   "source": [
    "Si la conversión no es posible, se genera una **excepción**."
   ]
  },
  {
   "cell_type": "code",
   "execution_count": null,
   "metadata": {
    "tags": [
     "raises-exception"
    ]
   },
   "outputs": [
    {
     "ename": "ValueError",
     "evalue": "invalid literal for int() with base 10: '12.21'",
     "output_type": "error",
     "traceback": [
      "\u001b[1;31m---------------------------------------------------------------------------\u001b[0m",
      "\u001b[1;31mValueError\u001b[0m                                Traceback (most recent call last)",
      "\u001b[1;32m<ipython-input-26-f9b4ef21e0a5>\u001b[0m in \u001b[0;36m<module>\u001b[1;34m\u001b[0m\n\u001b[0;32m      1\u001b[0m \u001b[0ma\u001b[0m \u001b[1;33m=\u001b[0m \u001b[1;34m\"12.21\"\u001b[0m   \u001b[1;31m# Se obtiene el entero representado en la cadena, si es posible\u001b[0m\u001b[1;33m\u001b[0m\u001b[1;33m\u001b[0m\u001b[0m\n\u001b[1;32m----> 2\u001b[1;33m \u001b[0mint\u001b[0m\u001b[1;33m(\u001b[0m\u001b[0ma\u001b[0m\u001b[1;33m)\u001b[0m\u001b[1;33m\u001b[0m\u001b[1;33m\u001b[0m\u001b[0m\n\u001b[0m",
      "\u001b[1;31mValueError\u001b[0m: invalid literal for int() with base 10: '12.21'"
     ]
    }
   ],
   "source": [
    "a = \"12.21\"   \n",
    "int(a)        # Se obtiene el entero representado en la cadena, si es posible"
   ]
  },
  {
   "cell_type": "markdown",
   "metadata": {},
   "source": [
    "La función `str()` por su parte, recibe como argumento un valor y lo convierte a su representación como cadena de caracteres."
   ]
  },
  {
   "cell_type": "code",
   "execution_count": null,
   "metadata": {},
   "outputs": [
    {
     "data": {
      "text/plain": [
       "'1e-12'"
      ]
     },
     "execution_count": 27,
     "metadata": {},
     "output_type": "execute_result"
    }
   ],
   "source": [
    "str(1.e-12)"
   ]
  }
 ],
 "metadata": {
  "anaconda-cloud": {},
  "celltoolbar": "Tags",
  "kernelspec": {
   "display_name": "Python 3",
   "language": "python",
   "name": "python3"
  },
  "language_info": {
   "codemirror_mode": {
    "name": "ipython",
    "version": 3
   },
   "file_extension": ".py",
   "mimetype": "text/x-python",
   "name": "python",
   "nbconvert_exporter": "python",
   "pygments_lexer": "ipython3",
   "version": "3.11.4"
  },
  "nbpresent": {
   "slides": {
    "1390653e-bdb6-444a-b611-39c60ffb77a1": {
     "id": "1390653e-bdb6-444a-b611-39c60ffb77a1",
     "prev": "5c2c8cc8-3676-4c06-b94c-d3f866ade69b",
     "regions": {
      "620813b3-9326-41e6-9d30-f5ac4f858225": {
       "attrs": {
        "height": 0.8,
        "width": 0.8,
        "x": 0.1,
        "y": 0.1
       },
       "content": {
        "cell": "86423d42-e808-47e6-b1a7-e925e195f821",
        "part": "whole"
       },
       "id": "620813b3-9326-41e6-9d30-f5ac4f858225"
      }
     }
    },
    "21036f68-a492-4532-a832-b213435c0ad2": {
     "id": "21036f68-a492-4532-a832-b213435c0ad2",
     "prev": "2c1c7f11-e5ee-4a25-8975-f0b033ba739a",
     "regions": {
      "a3908958-0784-4faa-ac97-b9325abe8ede": {
       "attrs": {
        "height": 0.8,
        "width": 0.8,
        "x": 0.1,
        "y": 0.1
       },
       "content": {
        "cell": "9aa64747-dc13-4bd9-bf26-73606628ad1c",
        "part": "whole"
       },
       "id": "a3908958-0784-4faa-ac97-b9325abe8ede"
      }
     }
    },
    "2c1c7f11-e5ee-4a25-8975-f0b033ba739a": {
     "id": "2c1c7f11-e5ee-4a25-8975-f0b033ba739a",
     "prev": "f3f10f50-4cad-4149-b308-c66e6a493a72",
     "regions": {
      "9e2d820e-ec17-4915-b960-0e0d5f640379": {
       "attrs": {
        "height": 0.8,
        "width": 0.8,
        "x": 0.1,
        "y": 0.1
       },
       "content": {
        "cell": "0281a659-abae-4cb9-b30f-b552b9db399e",
        "part": "whole"
       },
       "id": "9e2d820e-ec17-4915-b960-0e0d5f640379"
      }
     }
    },
    "30509a9a-dbd8-4dbd-9fab-852a7266d894": {
     "id": "30509a9a-dbd8-4dbd-9fab-852a7266d894",
     "prev": "8b078b7a-c2c6-4129-a19f-2a4f5c4a26f3",
     "regions": {
      "7baa4379-8f84-4d8f-b002-5a5ffd051489": {
       "attrs": {
        "height": 0.8,
        "width": 0.8,
        "x": 0.1,
        "y": 0.1
       },
       "content": {
        "cell": "14d1a927-b37f-4323-9404-17d453f3b487",
        "part": "whole"
       },
       "id": "7baa4379-8f84-4d8f-b002-5a5ffd051489"
      }
     }
    },
    "42d1bd80-265e-4acf-bbc1-b202afddade3": {
     "id": "42d1bd80-265e-4acf-bbc1-b202afddade3",
     "prev": "9bfe6214-4631-45b5-a05e-8923f178bb57",
     "regions": {
      "f2340145-4108-4fed-a0bc-4b91ca6c10ae": {
       "attrs": {
        "height": 0.8,
        "width": 0.8,
        "x": 0.1,
        "y": 0.1
       },
       "content": {
        "cell": "80be6133-d85a-4e43-9964-6578abcbaaac",
        "part": "whole"
       },
       "id": "f2340145-4108-4fed-a0bc-4b91ca6c10ae"
      }
     }
    },
    "5c2c8cc8-3676-4c06-b94c-d3f866ade69b": {
     "id": "5c2c8cc8-3676-4c06-b94c-d3f866ade69b",
     "prev": "6c4bc874-f3fc-472c-a81c-cd415b91c24b",
     "regions": {
      "e1de7ab6-4ef2-4b14-92d7-b174bf32806e": {
       "attrs": {
        "height": 0.8,
        "width": 0.8,
        "x": 0.1,
        "y": 0.1
       },
       "content": {
        "cell": "ae8725fa-30f7-4d7f-a2c2-5f86953d730b",
        "part": "whole"
       },
       "id": "e1de7ab6-4ef2-4b14-92d7-b174bf32806e"
      }
     }
    },
    "5cab5674-74dc-4378-93d7-eaa79e90cdae": {
     "id": "5cab5674-74dc-4378-93d7-eaa79e90cdae",
     "prev": "ba274d18-2760-4e55-ad47-2727b824fd00",
     "regions": {
      "2178d7cf-bf1e-4850-95a2-1509f15febfa": {
       "attrs": {
        "height": 0.8,
        "width": 0.8,
        "x": 0.1,
        "y": 0.1
       },
       "content": {
        "cell": "5d433d13-f44a-45bb-91fd-406f60b33b67",
        "part": "whole"
       },
       "id": "2178d7cf-bf1e-4850-95a2-1509f15febfa"
      }
     }
    },
    "638df7e1-84d1-4fd4-a15c-c94b731d1bea": {
     "id": "638df7e1-84d1-4fd4-a15c-c94b731d1bea",
     "prev": "b9dddf99-da24-46e1-81d4-8ac33b6fc3a3",
     "regions": {
      "deba8b1f-d997-4426-8f1b-978df7f19b41": {
       "attrs": {
        "height": 0.8,
        "width": 0.8,
        "x": 0.1,
        "y": 0.1
       },
       "content": {
        "cell": "7adaaf8f-a83e-456b-b99a-d3b3d4cb6d1a",
        "part": "whole"
       },
       "id": "deba8b1f-d997-4426-8f1b-978df7f19b41"
      }
     }
    },
    "6bda9eb4-0724-4e53-9971-131d0cb5f9e2": {
     "id": "6bda9eb4-0724-4e53-9971-131d0cb5f9e2",
     "prev": "ee33e624-cd65-4b8c-b28b-c95623a56dbf",
     "regions": {
      "feffbbd2-27d1-4318-8359-7d57583ee2bc": {
       "attrs": {
        "height": 0.8,
        "width": 0.8,
        "x": 0.1,
        "y": 0.1
       },
       "content": {
        "cell": "8dce188c-36b7-41fa-9020-b5cb5502e452",
        "part": "whole"
       },
       "id": "feffbbd2-27d1-4318-8359-7d57583ee2bc"
      }
     }
    },
    "6c4bc874-f3fc-472c-a81c-cd415b91c24b": {
     "id": "6c4bc874-f3fc-472c-a81c-cd415b91c24b",
     "prev": null,
     "regions": {
      "c9eac7e8-d033-4b03-8bf7-abd58ffe8d41": {
       "attrs": {
        "height": 0.8,
        "width": 0.8,
        "x": 0.1,
        "y": 0.1
       },
       "content": {
        "cell": "71219fc3-c9cb-4700-9f0b-ab38b1b223da",
        "part": "whole"
       },
       "id": "c9eac7e8-d033-4b03-8bf7-abd58ffe8d41"
      }
     }
    },
    "6d7ab34f-9d99-4c74-9877-27b25abc73f0": {
     "id": "6d7ab34f-9d99-4c74-9877-27b25abc73f0",
     "prev": "febe7de9-9362-4079-bfe9-2d4dfddf00e2",
     "regions": {
      "2ee252de-db5f-43e7-b4b7-7f59bba29962": {
       "attrs": {
        "height": 0.8,
        "width": 0.8,
        "x": 0.1,
        "y": 0.1
       },
       "content": {
        "cell": "85d1ab90-cc65-4935-808b-a6f57ecc892e",
        "part": "whole"
       },
       "id": "2ee252de-db5f-43e7-b4b7-7f59bba29962"
      }
     }
    },
    "7ea582c3-439d-4ec2-9f27-dea18bcacc31": {
     "id": "7ea582c3-439d-4ec2-9f27-dea18bcacc31",
     "prev": "f0727a74-61a1-48c1-94a5-3e7490c29f0b",
     "regions": {
      "652960af-b61f-4c36-b122-3eacd714867b": {
       "attrs": {
        "height": 0.8,
        "width": 0.8,
        "x": 0.1,
        "y": 0.1
       },
       "content": {
        "cell": "86172e20-fe16-447d-859f-24a81e563011",
        "part": "whole"
       },
       "id": "652960af-b61f-4c36-b122-3eacd714867b"
      }
     }
    },
    "8b078b7a-c2c6-4129-a19f-2a4f5c4a26f3": {
     "id": "8b078b7a-c2c6-4129-a19f-2a4f5c4a26f3",
     "prev": "5cab5674-74dc-4378-93d7-eaa79e90cdae",
     "regions": {
      "dce1e605-9342-414d-b8c6-7dcb922fbf47": {
       "attrs": {
        "height": 0.8,
        "width": 0.8,
        "x": 0.1,
        "y": 0.1
       },
       "content": {
        "cell": "ee1bdf03-6e13-4f1f-9dc9-22d4e344fdba",
        "part": "whole"
       },
       "id": "dce1e605-9342-414d-b8c6-7dcb922fbf47"
      }
     }
    },
    "999513ad-b53e-4d84-b9ef-ed37967f74d6": {
     "id": "999513ad-b53e-4d84-b9ef-ed37967f74d6",
     "prev": "638df7e1-84d1-4fd4-a15c-c94b731d1bea",
     "regions": {
      "2e85c1b2-3c30-413e-9b0f-141281da3a2a": {
       "attrs": {
        "height": 0.8,
        "width": 0.8,
        "x": 0.1,
        "y": 0.1
       },
       "content": {
        "cell": "998dc7f5-ab6d-4fb8-866f-4fa96a06aaaa",
        "part": "whole"
       },
       "id": "2e85c1b2-3c30-413e-9b0f-141281da3a2a"
      }
     }
    },
    "9add3d79-8621-4167-8e1d-d4ae48fba71b": {
     "id": "9add3d79-8621-4167-8e1d-d4ae48fba71b",
     "prev": "7ea582c3-439d-4ec2-9f27-dea18bcacc31",
     "regions": {
      "d5f4537e-4d8c-4179-b14b-6c475f50b04e": {
       "attrs": {
        "height": 0.8,
        "width": 0.8,
        "x": 0.1,
        "y": 0.1
       },
       "content": {
        "cell": "9659b1c1-9aed-4d71-b830-4a60d408ad71",
        "part": "whole"
       },
       "id": "d5f4537e-4d8c-4179-b14b-6c475f50b04e"
      }
     }
    },
    "9bfe6214-4631-45b5-a05e-8923f178bb57": {
     "id": "9bfe6214-4631-45b5-a05e-8923f178bb57",
     "prev": "30509a9a-dbd8-4dbd-9fab-852a7266d894",
     "regions": {
      "aac53254-d149-49f2-8f92-670c6f2714bb": {
       "attrs": {
        "height": 0.8,
        "width": 0.8,
        "x": 0.1,
        "y": 0.1
       },
       "content": {
        "cell": "c71a78d7-9d0e-4825-9c84-9998f971317d",
        "part": "whole"
       },
       "id": "aac53254-d149-49f2-8f92-670c6f2714bb"
      }
     }
    },
    "b9dddf99-da24-46e1-81d4-8ac33b6fc3a3": {
     "id": "b9dddf99-da24-46e1-81d4-8ac33b6fc3a3",
     "prev": "1390653e-bdb6-444a-b611-39c60ffb77a1",
     "regions": {
      "0b31dbb4-f15b-4a16-9420-c5dc8ed4e871": {
       "attrs": {
        "height": 0.8,
        "width": 0.8,
        "x": 0.1,
        "y": 0.1
       },
       "content": {
        "cell": "d0569bb0-fad8-48b7-8d48-0066bfb90401",
        "part": "whole"
       },
       "id": "0b31dbb4-f15b-4a16-9420-c5dc8ed4e871"
      }
     }
    },
    "ba274d18-2760-4e55-ad47-2727b824fd00": {
     "id": "ba274d18-2760-4e55-ad47-2727b824fd00",
     "prev": "ed47079d-58cf-4b87-a9fa-a709d8a7c3c6",
     "regions": {
      "13000b51-bd66-4fb5-970b-20bfad440880": {
       "attrs": {
        "height": 0.8,
        "width": 0.8,
        "x": 0.1,
        "y": 0.1
       },
       "content": {
        "cell": "f6847886-4044-43a7-9edd-f18efddcb7a9",
        "part": "whole"
       },
       "id": "13000b51-bd66-4fb5-970b-20bfad440880"
      }
     }
    },
    "ed47079d-58cf-4b87-a9fa-a709d8a7c3c6": {
     "id": "ed47079d-58cf-4b87-a9fa-a709d8a7c3c6",
     "prev": "9add3d79-8621-4167-8e1d-d4ae48fba71b",
     "regions": {
      "a96aea94-1714-4020-83f9-dbc03e9fd55e": {
       "attrs": {
        "height": 0.8,
        "width": 0.8,
        "x": 0.1,
        "y": 0.1
       },
       "content": {
        "cell": "5a579720-fa62-4525-85e3-dd049cbd73be",
        "part": "whole"
       },
       "id": "a96aea94-1714-4020-83f9-dbc03e9fd55e"
      }
     }
    },
    "ee33e624-cd65-4b8c-b28b-c95623a56dbf": {
     "id": "ee33e624-cd65-4b8c-b28b-c95623a56dbf",
     "prev": "999513ad-b53e-4d84-b9ef-ed37967f74d6",
     "regions": {
      "325ae98d-0855-4d16-8408-6d12f47efa24": {
       "attrs": {
        "height": 0.8,
        "width": 0.8,
        "x": 0.1,
        "y": 0.1
       },
       "content": {
        "cell": "829150e0-712b-4739-92d6-37b9c3d789cb",
        "part": "whole"
       },
       "id": "325ae98d-0855-4d16-8408-6d12f47efa24"
      }
     }
    },
    "f0727a74-61a1-48c1-94a5-3e7490c29f0b": {
     "id": "f0727a74-61a1-48c1-94a5-3e7490c29f0b",
     "prev": "6d7ab34f-9d99-4c74-9877-27b25abc73f0",
     "regions": {
      "1666081e-448d-4f80-90f2-9f26f1568cdc": {
       "attrs": {
        "height": 0.8,
        "width": 0.8,
        "x": 0.1,
        "y": 0.1
       },
       "content": {
        "cell": "d99a804c-9444-418b-bc94-3c2f064e2844",
        "part": "whole"
       },
       "id": "1666081e-448d-4f80-90f2-9f26f1568cdc"
      }
     }
    },
    "f3f10f50-4cad-4149-b308-c66e6a493a72": {
     "id": "f3f10f50-4cad-4149-b308-c66e6a493a72",
     "prev": "42d1bd80-265e-4acf-bbc1-b202afddade3",
     "regions": {
      "4fc1185f-bdb8-46fc-99bd-b8d30defeca9": {
       "attrs": {
        "height": 0.8,
        "width": 0.8,
        "x": 0.1,
        "y": 0.1
       },
       "content": {
        "cell": "9b7597e9-aaa9-4d9f-ba0d-22f43d1a3900",
        "part": "whole"
       },
       "id": "4fc1185f-bdb8-46fc-99bd-b8d30defeca9"
      }
     }
    },
    "febe7de9-9362-4079-bfe9-2d4dfddf00e2": {
     "id": "febe7de9-9362-4079-bfe9-2d4dfddf00e2",
     "prev": "6bda9eb4-0724-4e53-9971-131d0cb5f9e2",
     "regions": {
      "42348103-1cd6-4bac-b346-33cd41aea444": {
       "attrs": {
        "height": 0.8,
        "width": 0.8,
        "x": 0.1,
        "y": 0.1
       },
       "content": {
        "cell": "35a148d4-f201-4441-bf5e-8a07f93dea84",
        "part": "whole"
       },
       "id": "42348103-1cd6-4bac-b346-33cd41aea444"
      }
     }
    }
   },
   "themes": {}
  }
 },
 "nbformat": 4,
 "nbformat_minor": 2
}
