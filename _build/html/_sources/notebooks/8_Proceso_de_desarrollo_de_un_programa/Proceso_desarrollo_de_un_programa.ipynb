{
 "cells": [
  {
   "cell_type": "markdown",
   "metadata": {},
   "source": [
    "# Proceso de desarrollo de un programa\n",
    "**Autores**: Rogelio Mazaeda Echevarría, Félix Miguel Trespaderne.   "
   ]
  },
  {
   "cell_type": "markdown",
   "metadata": {},
   "source": [
    "## Contenidos\n",
    "[Proceso de desarrollo de un programa](#Proceso_de_desarrollo_de_un_programa)<br>\n",
    "[Ejemplo 1: Determinación de si una serie de enteros son primos](#Determinación_de_si_una_serie_de_enteros_son_primos)<br>\n",
    "[Ejemplo 2: Determinación del número $\\pi$ mediante la serie de Euler](#Determinación_del_número_pi_mediante_la_serie_de_Euler)<br>\n",
    "[Ejemplo 3: Algoritmo para la determinación del máximo comúm divisor (MCD)](#Algoritmo_para_la_determinación_del_máximo_comúm_divisor_(MCD))<br>\n",
    "[Ejemplo 4: Conjetura de Collatz](#Conjetura_de_Collatz)<br>\n",
    "[Ejemplo 5: Algoritmo de ordenación por inserción](#Algoritmo_de_ordenación_por_inserción)"
   ]
  },
  {
   "cell_type": "markdown",
   "metadata": {},
   "source": [
    "***\n",
    "<a id='Proceso_de_desarrollo_de_un_programa'></a>"
   ]
  },
  {
   "cell_type": "markdown",
   "metadata": {},
   "source": [
    "## Proceso de desarrollo de un programa\n",
    "La programación es una tarea compleja a la que es mejor enfrentarse de manera **iterativa**. En los diferentes ejemplos de determinación de si un número es primo estamos viendo una prueba de ello.\n",
    "\n",
    "Algunos pasos generales para hacerlo son:\n",
    "\n",
    "1. Analizar cuidadosamente el problema a resolver. Utilizar en esta etapa **lápiz y papel** y la ayuda de **bosquejos**, entre otros recursos. Identificar los **datos de entrada** y cuales deben ser las **salidas** buscadas, para todas las posibles condiciones. Hacer cálculos paso a paso. Identificar **resultados intermedios** tratando de encontrar el algoritmo adecuado. \n",
    "\n",
    "2. Una vez se llega a una primera solución *en papel* razonable, se pasa a programar, utilizando los recursos provistos por el lenguaje. Como se ha dicho, ya se poseen los elementos imprescindibles para resolver cualquier problema solucionable por un ordenador. Por supuesto, en la medida que avance el curso, los recursos a nuestra disposición crecerán.\n",
    "\n",
    "3. Puede darse el caso de que el programa no funcione para los **casos límites o especiales** (¿funciona para el 2, que es el primer posible primo?, etc.). Es importante identificar esos casos para poder testarlos y, en su caso, corregir los fallos. \n",
    "\n",
    "4. Por otro lado, es frecuente que en un primera esbozo del programa, se asuma que el usuario va a actuar de la forma prevista pero ¿qué pasa si no lo hace? ¿qué pasa si el número introducido es menor que dos o incluso negativo?. En ocasiones, el no prever todas estas posibles situaciones puede dar un resultado incorrecto o que el programa se interrumpa bruscamente por un error de ejecución. La solución de cada uno de los problemas detectados, implicará probablemente volver al paso 1 y la realización de modificaciones del código más o menos importantes, hasta que se llega a un código robusto y que funcione para todas las posibles entradas de datos. \n",
    "\n",
    "5. El primer programa seguramente no constituye la forma más **eficiente** (más rápida, por ejemplo) de resolver el problema. Un código que ya funciona correctamente puede estar sujeto a mejoras y optimizaciones. Aunque no se hará hincapié sobre este tema en un curso básico, en algunas ocasiones, sobre todo cuando se manipulan grandes volúmenes de datos, son importantes las consideraciones de cómo crece, por ejemplo, el tiempo de ejecución del programa cuando aumenta el *tamaño* de los datos de entrada. El encontrar un código eficiente es una tarea en general difícil, y debe ser en todo caso enfrentada cuando ya se tenga un programa básico que funcione correctamente. ¡No se debe caer en la trampa de la **optimización prematura**! En este sentido, es útil conocer que en la gran mayoría de los casos es bueno sacrificar la velocidad de ejecución en aras de una mayor claridad del código.\n",
    "\n",
    "6. Así, se debe tener en cuenta que un programa tiene otras virtudes además de dar las salidas correctas para todas los casos. Los programas deben ser **legibles**, estar escritos de forma clara y consistente, de manera que otros programadores o el mismo programador original pasado un tiempo, puedan comprenderlos con facilidad para hacer las modificaciones que son frecuentemente necesarias. Los identificadores de las variables deben ser **autoexplicativos**, las estructuras de control deberán estar bien elegidas. El sangrado del código y el uso correcto de los espacios en blanco ayuda notablemente en este aspecto. En este sentido, Python ha adoptado la decisión de *exigir* sintácticamente un sangrado correcto del código. Los comentarios son útiles pero es mejor evitarlos usando código autoexplicativo. Aprenderemos a **documentar** nuestros programas.\n",
    "\n",
    "7. Frecuentemente ocurre que, en la medida en que el programa crece, se debe **reestructurar** el código. Buena legibilidad y facilidad de reestructuración están íntimamente ligadas. Sobre este concepto se abundará cuando se discutan las funciones y la forma de enfrentar el diseño de los programas, utilizando técnicas como la del **refinamiento descendente**.\n",
    "\n",
    "El alumno atento observará que en muchos de los ejemplos no nos *preocupamos* de **manejar las excepciones**, por ejemplo las causadas por entradas con un formato incorrecto de datos por parte del usuario. La razón principal es la de centrarnos en los aspectos clave de Python, evitando *distracciones* y exponiendo código de la forma más escueta posible. Esta *táctica* es la habitual en cualquier texto introductorio sobre lenguajes de programación.  "
   ]
  },
  {
   "cell_type": "markdown",
   "metadata": {},
   "source": [
    "***\n",
    "<a id='Determinación_de_si_una_serie_de_enteros_son_primos'></a>"
   ]
  },
  {
   "cell_type": "markdown",
   "metadata": {},
   "source": [
    "## Ejemplo 1: Determinación de si una serie de enteros son primos\n",
    "La última versión para determinar si un número es primo es correcta para todos los posibles enteros que el usuario introduzca. Pero sólo puede *analizar* un número cada vez. ¿Cómo modificarlo para darle la oportunidad al usuario de que analice sucesivamente varios enteros sin tener que ejecutar varias veces el programa?\n",
    "\n",
    "La solución es utilizar otro bucle (bucles anidados), que incluya el código anterior, de manera que se pueda repetir cuantas veces se desee."
   ]
  },
  {
   "cell_type": "code",
   "execution_count": null,
   "metadata": {},
   "outputs": [],
   "source": [
    "# Determina si una serie de enteros son primos.\n",
    "\n",
    "while True:\n",
    "    try:\n",
    "        numero = int(input('Deme un entero positivo mayor que 1: '))\n",
    "        if numero < 2:\n",
    "            raise ValueError('El valor introducido debe ser mayor que 1.')\n",
    "    except ValueError as e:\n",
    "        print(e)\n",
    "    else:\n",
    "        es_primo = True\n",
    "        for div in range(2, numero):\n",
    "            if numero % div == 0:\n",
    "                es_primo = False\n",
    "                break\n",
    "        if es_primo:\n",
    "            print(\"El número {} es primo.\".format(numero))\n",
    "        else:\n",
    "            print(\"El número {} no es primo.\".format(numero))\n",
    "    finally:\n",
    "        opcion = input(\"Desea salir (s/n):\")\n",
    "        if opcion == 's' or opcion == 'S':\n",
    "            break"
   ]
  },
  {
   "cell_type": "markdown",
   "metadata": {},
   "source": [
    "La expresión de control del bucle `while` externo es la constante literal `True` por lo que no hay forma de salir mediante la expresión de control: es un *bucle infinito*. Este tipo de bucles, muy habituales en programación, van asociados a una sentencia `break` que permitan su terminación prematura. Es el caso con el `break` de la estructura condicional donde se pregunta al usuario si quiere seguir introudciendo enteros.\n",
    "\n",
    "Por otro lado, en este ejemplo vemos la utilidad del manejo de excepciones. Si el usuario introduce como entero un valor espurio, por ejemplo `kk`, el programa ya no termina abruptamente."
   ]
  },
  {
   "cell_type": "markdown",
   "metadata": {},
   "source": [
    "Otra alternativa puede ser:"
   ]
  },
  {
   "cell_type": "code",
   "execution_count": null,
   "metadata": {},
   "outputs": [],
   "source": [
    "# Determina si una serie de enteros son primos (versión 2)\n",
    "\n",
    "opcion = 'n'\n",
    "while opcion != 's' and opcion != 'S':\n",
    "    try:\n",
    "        numero = int(input('Deme un entero positivo mayor que 1: '))\n",
    "        if numero < 2:\n",
    "            raise ValueError('El valor introducido debe ser mayor que 1.')\n",
    "    except ValueError as e:\n",
    "        print(e)\n",
    "    else:\n",
    "        es_primo = True\n",
    "        for div in range(2, numero):\n",
    "            if numero % div == 0:\n",
    "                es_primo = False\n",
    "                break\n",
    "        if es_primo:\n",
    "            print(\"El número {} es primo.\".format(numero))\n",
    "        else:\n",
    "            print(\"El número {} no es primo.\".format(numero))\n",
    "    finally:\n",
    "        opcion = input(\"Desea salir (s/n):\")"
   ]
  },
  {
   "cell_type": "markdown",
   "metadata": {},
   "source": [
    "El programa previo hace lo que nos proponíamos, aunque su uso por el usuario puede ser algo engorroso debido a la pregunta explícita sobre si se desea salir o no del programa. \n",
    "\n",
    "En ocasiones, la naturaleza del problema es tal que el rango posible de la entrada de datos está limitado. Este hecho se puede utilizar en nuestra ventaja para simplificar el diseño del programa y mejorar la experiencia del usuario. ¿Cómo se hace? Simplemente se utilizan los valores no útiles del rango de entrada para señalar otros *caminos* al programa.\n",
    "\n",
    "En el caso que nos ocupa se puede hacer, por ejemplo, que la introducción por parte del usuario de un valor menor que 2 señale su deseo de abandonar el programa. En caso contrario, se continuaría con las iteraciones en el bucle externo, preguntando por otros enteros a considerar.\n",
    "\n",
    "Por tanto, la introducción de un valor menor que 2 deja de ser una excepción. Es parte de los valores válidos que puede utilizar el usuario."
   ]
  },
  {
   "cell_type": "code",
   "execution_count": null,
   "metadata": {},
   "outputs": [],
   "source": [
    "# Determina si una serie de enteros son primos (versión 3)\n",
    "\n",
    "numero = 2         # Valor incial arbitrario para que entre al bucle la primera vez\n",
    "while numero > 1:\n",
    "    print('\\nPara salir introduzca un entero menor que 2.')\n",
    "    try:\n",
    "        numero = int(input('Deme un entero: '))\n",
    "    except ValueError as e:\n",
    "        print(e)\n",
    "    else:\n",
    "        if numero > 1:\n",
    "            es_primo = True\n",
    "            for div in range(2, numero):\n",
    "                if numero % div == 0:\n",
    "                    es_primo = False\n",
    "                    break\n",
    "            if es_primo:\n",
    "                print(\"El número {} es primo.\".format(numero))\n",
    "            else:\n",
    "                print(\"El número {} no es primo.\".format(numero))\n",
    "                \n",
    "print(\"Fin del programa.\")"
   ]
  },
  {
   "cell_type": "markdown",
   "metadata": {},
   "source": [
    "***\n",
    "<a id='Determinación_del_número_pi_mediante_la_serie_de_Euler'></a>"
   ]
  },
  {
   "cell_type": "markdown",
   "metadata": {},
   "source": [
    "## Ejemplo 2: Determinación del número $\\pi$ mediante la serie de Euler\n",
    "\n",
    "La constante $\\pi$ es una de la más importantes en matemáticas. Conocemos que se trata de un número real con infinitas cifras no periódicas tanto en su representación decimal como en cualquier otra base numérica.\n",
    "\n",
    "En el módulo `math` se tiene una aproximación bastante precisa del mismo, suficiente para las aplicaciones ingenieriles concebibles. \n",
    "\n",
    "En el siguiente ejemplo, se va a proceder a su estimación, utilizando uno de las tantas series que se demuestra que convergen a dicho número.\n",
    "\n",
    "En particular, se tiene la siguiente serie infinita definida para todos los enteros positivos $k$:\n",
    "\n",
    "\\begin{align}\n",
    "\\\\\\frac{\\pi^2}{12} & = 1 - \\frac{1}{2^2}+  \\frac{1}{3^2} ...+\\frac{(-1)^{k+1}}{k^2} \\\\\n",
    "\\end{align}\n",
    "\n",
    "Nótese que la solución de este problema, la suma en principio ilimitada de un conjunto de números, no se puede emprender sin la presencia de un bucle. \n",
    "\n",
    "Conviene, antes de comenzar, analizar en detalle el mecanismo propuesto para la generación de una aproximación de $\\pi$:\n",
    "\n",
    "- ¿Sabríamos antes de entrar al bucle el número de iteraciones a ejecutar? Unicamente lo sabríamos si alguien nos dijera que quiere hacer una aproximación que involucre $n$ términos. Esto haría decantarnos hacia la utilización de un bucle `for`. \n",
    "- Sin embargo, lo razonable es plantear el problema de forma que el resultado se aproxime a $\\pi$ por debajo de una **tolerancia** o cuando se cumpla una **condición de terminación** previamente elegida por el usuario. Esto hace que nos decantemos por utilizar un bucle `while`.\n",
    "\n",
    "- El trabajo con bucles frecuentemente requiere:\n",
    "    - Inicializar variables  antes de entrar al bucle.\n",
    "    - Identificar qué es lo que variará de una iteración a otra y qué objetivos parciales se van cumpliendo de forma tal que en cada iteración nos vayamos acercando cada vez más a la solución buscada.\n",
    "    - Establecer la condición lógica que determine la permanencia en el bucle.\n",
    "    - Finalmente, comprobar que el bucle funcione también para los casos límites.\n"
   ]
  },
  {
   "cell_type": "code",
   "execution_count": null,
   "metadata": {},
   "outputs": [],
   "source": [
    "# Determinación del número pi mediante la serie de Euler\n",
    "\n",
    "tolerancia = 1e-6\n",
    "\n",
    "suma_parcial = 0.0\n",
    "termino = tolerancia + 1 # Para obligar a entrar en el bucle\n",
    "k = 1\n",
    "while abs(termino) > tolerancia:\n",
    "    termino = (-1)**(k + 1)/k**2\n",
    "    suma_parcial += termino\n",
    "    k += 1\n",
    "    \n",
    "pi_aprox = (12.0*suma_parcial)**0.5\n",
    "    \n",
    "print(\"La aproximación de PI hallada es {} y se obtuvo en {} iteraciones\".format(pi_aprox,k))"
   ]
  },
  {
   "cell_type": "markdown",
   "metadata": {},
   "source": [
    "* En el caso anterior, se requiere un **contador** (`k`) que recorra los enteros que participan en la definición de cada término de la serie y que debe ser incrementado en cada iteración. \n",
    "* También de una variable tipo **acumulador** (`suma_parcial`) que siempre va a contener la suma de todos los términos que se hayan calculado hasta la iteración de que se trate.\n",
    "* Observe el uso de de la asignación compuesta `+=` para actualizar tanto el acumulador como el contador.\n",
    "* Se define por comodidad una variable (`termino`) que contine el valor del término que se añade a la serie en cada iteración. Se hace esto porque se ha decidido utilizar como criterio de permanencia en el bucle el hecho de que el *aporte* nuevo a la estimación del valor de `suma_parcial`sea (en valor absoluto) mayor que un valor elegido pequeño, `tolerancia` (en este caso una millonésima: `1e-6`).\n",
    "* Vea que el uso de la función `abs()` en la expresión de control del `while` es indispensable, puesto que el valor de los términos nuevos van cambiando de signo de una iteración a la siguiente. \n",
    "* Antes de entrar al bucle, se eligen los valores iniciales para el contador y el acumulador. En el caso del contador se inicializa a `1` porque se empieza en ese valor en la propia definición de la serie. El acumulador se inicializa a `0`. \n",
    "* A la variable `termino`, que participa en la expresión de control del bucle, se le da un valor inicial arbitrario, en este caso `tolerancia + 1`. El objetivo aquí es darle un valor que sea mayor que `tolerancia` y que permita por tanto la primera entrada al bucle.\n",
    "\n",
    "El orden en que aparecen las sentencias dentro del bucle es importante (aunque no es la única posble si el problema se replanteara de otra forma). Es conveniente realizar algunas iteraciones manuales para ver que el esquema elegido funciona correctamente.\n",
    "\n",
    "Al salir del bucle se saca por pantalla tanto la aproximación hallada como el número de iteraciones que tomó el calcularla.\n",
    "\n",
    "Pruebe a cambiar el valor de la tolerancia. En cualquier caso, se debe recordar que la precisión con la que son manipulados los `float` en Python es limitada."
   ]
  },
  {
   "cell_type": "markdown",
   "metadata": {},
   "source": [
    "***\n",
    "<a id='Algoritmo_para_la_determinación_del_máximo_comúm_divisor_(MCD)'></a>"
   ]
  },
  {
   "cell_type": "markdown",
   "metadata": {},
   "source": [
    "## Ejemplo 3: Algoritmo para la determinación del máximo comúm divisor (MCD)\n",
    "\n",
    "Se trata de encontrar el mayor número que divida exactamente dos números enteros positivos dados. El algoritmo que resuelve el problema es uno de los más antiguos y famosos y se atribuye a Euclides. Sean dos enteros positivos: $p$ y $q$ (suponiendo $p >= q$). En general se puede plantear lo siguiente:\n",
    "$$p=q*b+r$$\n",
    "Euclides razonó que un divisor exacto común de $p$ y $q$ también dividirá a $q$ y a $r$ (el resto de la división).\n",
    "\n",
    "Este mismo razonamiento puede repetirse cuantas veces se quiera, haciendo que el dividendo sea el anterior divisor y el nuevo divisor el antiguo resto, hasta que eventualmente, con toda seguridad, se obtendrá un resto igual a cero (puesto que los sucesivos restos van inevitablemente descendiendo y deben ser positivos). Cuando el resto es cero, el último divisor que se utilizó es precisamente el **MCD**.\n",
    "\n",
    "Si el divisor inicial es $0$, el **MCD** es el dividendo y si ambos son ceros el **MCD** es $0$."
   ]
  },
  {
   "cell_type": "code",
   "execution_count": 5,
   "metadata": {},
   "outputs": [
    {
     "name": "stdout",
     "output_type": "stream",
     "text": [
      "Introduzca un número >=0: 0\n",
      "Introduzca un número >=0: 8\n",
      "El MCD es 8.\n"
     ]
    }
   ],
   "source": [
    "# Halla el MCD de dos numeros enteros naturales, incluido el 0\n",
    "\n",
    "# ENTRADA DE DATOS\n",
    "while True:\n",
    "    dividendo = int(input('Introduzca un número >=0: '))\n",
    "    divisor = int(input('Introduzca un número >=0: '))\n",
    "    if dividendo < 0 or divisor < 0:\n",
    "        print(\"Ambos números deben ser iguales o mayores que 0.\\n\")\n",
    "    else:\n",
    "        break\n",
    "\n",
    "# ALGORITMO MCD\n",
    "if dividendo < divisor: # Asegurando que el dividendo sea mayor que el divisor\n",
    "    dividendo, divisor = divisor, dividendo\n",
    "\n",
    "if dividendo == divisor == 0:\n",
    "    mcd = 0\n",
    "elif divisor == 0:\n",
    "    mcd = dividendo\n",
    "else:\n",
    "    resto = dividendo % divisor          # Hallamos el primero resto fuera del bucle\n",
    "    while resto != 0:\n",
    "        dividendo = divisor\n",
    "        divisor = resto\n",
    "        resto = dividendo % divisor\n",
    "    mcd = divisor\n",
    "\n",
    "# SALIDA\n",
    "print('El MCD es {}.'.format(mcd))"
   ]
  },
  {
   "cell_type": "markdown",
   "metadata": {},
   "source": [
    "El código de Python anterior implementa el algoritmo de Euclides. Podemos ver claramente las tres partes típicas de un programa:\n",
    "* Entrada de datos\n",
    "* Algoritmo\n",
    "* Salida de datos\n",
    "\n",
    "Centrándonos en el algoritmo, nótese que:\n",
    "* la condición de permanencia en el bucle es que el resto sea diferente de cero.\n",
    "* antes de entrar al bucle se hace, una primera división para obtener un resto válido.\n",
    "* dentro del bucle la tarea es entonces acomodar lo que antes era el divisor de forma que se convierta en el nuevo dividendo y que el antiguo resto pase a ser el divisor. El orden de estas asignaciones es crucial.\n",
    "* la última sentencia del bucle halla el nuevo resto que será considerado en la siguiente evaluación del control del bucle.\n",
    "* al salir del bucle el **MCD** es el valor que está en la variable `divisor`.\n",
    "\n",
    "Debido al caracter iterativo de un bucle, es primordial elegir el momento clave en que se realiza la división entera y que las variables que participan hallan sido actualizadas de forma que desempeñen el _rol_ adecuado en la iteración de que se trate. Esto implica, en muchas ocasiones, hacer reasignaciones como se muestra en el ejemplo.\n",
    "\n",
    "Es importante antes de entrar al bucle, garantizar que el dividendo es mayor o igual que el divisor. Esto se hace mediante el correspondiente `if`. Véase que el intercambio entre los contenidos de `dividendo` y `divisor` se hace en una sola línea, aprovechando la fácilidad que brinda Python y que no existe en muchos otros lenguajes. ¿Se podría hacer uso de esta **asignación doble** dentro del bucle? ¿Cómo se haría?"
   ]
  },
  {
   "cell_type": "markdown",
   "metadata": {},
   "source": [
    "Veamos una posible versión más robusta manejando excepciones."
   ]
  },
  {
   "cell_type": "code",
   "execution_count": null,
   "metadata": {},
   "outputs": [],
   "source": [
    "# Halla el MCD de dos numeros enteros naturales, incluido el 0 (versión 2)\n",
    "\n",
    "# ENTRADA DE DATOS\n",
    "while True:\n",
    "    try:\n",
    "        dividendo = int(input('Introduzca un número >=0: '))\n",
    "        divisor = int(input('Introduzca un número >=0: '))\n",
    "        if dividendo < 0 or divisor < 0:\n",
    "            raise ValueError('Ambos números deben ser iguales o mayores que 0.')\n",
    "    except ValueError as error:\n",
    "        print(error)\n",
    "    else:\n",
    "        break\n",
    "\n",
    "        \n",
    "# ALGORITMO MCD\n",
    "if dividendo < divisor: # Asegurando que el dividendo sea mayor que el divisor\n",
    "    dividendo, divisor = divisor, dividendo\n",
    "\n",
    "if dividendo == divisor == 0:\n",
    "    mcd = 0\n",
    "elif divisor == 0:\n",
    "    mcd = dividendo\n",
    "else:\n",
    "    resto = dividendo % divisor          # Hallamos el primero resto fuera del bucle\n",
    "    while resto != 0:\n",
    "        dividendo = divisor\n",
    "        divisor = resto\n",
    "        resto = dividendo % divisor\n",
    "    mcd = divisor\n",
    "\n",
    "# SALIDA\n",
    "print('El MCD es {}.'.format(mcd))"
   ]
  },
  {
   "cell_type": "markdown",
   "metadata": {},
   "source": [
    "Nótese de nuevo que esta versión maneja un posible error en el formato de la entrada de datos sin que el programa finalice brúscamente."
   ]
  },
  {
   "cell_type": "markdown",
   "metadata": {},
   "source": [
    "***\n",
    "<a id='Conjetura_de_Collatz'></a>"
   ]
  },
  {
   "cell_type": "markdown",
   "metadata": {},
   "source": [
    "## Ejemplo 4: Conjetura de Collatz\n",
    "\n",
    "La conjetura de Collatz propone que para cualquier número positivo, si se sigue el procedimiento que a continuación se establece, al final de muchas iteraciones el valor al que llega $n$ será siempre la unidad.\n",
    "\n",
    "$$\n",
    "n=\\begin{cases}\n",
    "    n/2,  & &\\text{si $n$ par}.\\\\\n",
    "    3n+1, & & \\text{si $n$ impar}.\n",
    "  \\end{cases}\n",
    "$$\n",
    "\n",
    "Este hecho no está demostrado, de ahí que se trate de una **conjetura**. El siguiente código implementa el algoritmo propuesto pero añade un contador para acotar el número máximo de iteraciones.\n"
   ]
  },
  {
   "cell_type": "code",
   "execution_count": null,
   "metadata": {},
   "outputs": [],
   "source": [
    "# Conjetura de Collatz\n",
    "# ENTRADA DE DATOS\n",
    "n = 0\n",
    "while n < 1:\n",
    "    n = int(input(\"Dame un número entero positivo: \"))\n",
    "    if n < 1:\n",
    "        print(\"¡ERROR!. El número debe ser positivo.\")\n",
    "\n",
    "num_max_iteraciones = 1e10\n",
    "\n",
    "# ALGORITMO\n",
    "iteraciones = 0\n",
    "while n != 1 and iteraciones < num_max_iteraciones:\n",
    "    if n % 2 == 0:  # Par\n",
    "        n = n // 2\n",
    "    else:\n",
    "        n = 3*n + 1\n",
    "    iteraciones += 1\n",
    "\n",
    "# SALIDA\n",
    "if n == 1:\n",
    "    print(\"Se ha llegado a 1 en {} iteraciones.\".format(iteraciones))\n",
    "else:\n",
    "    print(\"No se ha llegado a 1 en {} iteraciones. ¡Se debe investigar más!\".format(iteraciones))"
   ]
  },
  {
   "cell_type": "markdown",
   "metadata": {},
   "source": [
    "Fuera del bucle se obtiene el valor inicial de $n$ y se inicializa el contador. Dentro del bucle, simplemente se actualiza el valor de $n$ según el procedimiento dado. Se saldrá del bucle cuando $n$ llega al valor de $1$ (reforzando nuestra convicción de que la conjetura de Collatz es válida) o cuando el contador llega al valor de la constante utilizada.\n",
    "\n",
    "Los valores intermedios por los que pasa $n$ hasta finalmente llegar $1$ oscilan con amplitudes muy grandes. \n",
    "\n",
    "Aprovechando esta característica, vamos a introducir otra idea básica, que al igual que los **acumuladores**, permite obtener alguna característica del conjunto de números procesados mediante un bucle. \n",
    "\n",
    "Se trata de obtener, el valor máximo o mínimo de todos los valores procesados. En el caso que nos ocupa, sería interesante obtener al final cuál ha sido el valor mayor por el que ha pasado $n$.\n",
    "\n",
    "La idea para resolver este tipo de problema es tan sencilla como efectiva y se puede enunciar de la siguiente forma para el caso de querer obtener el valor máximo:\n",
    "\n",
    "- Fuera del bucle, incializar una variable, `maximo`, con el primer valor del conjunto de números (o con el menor de los valores del rango esperado, si es que esta información se conoce)\n",
    "\n",
    "- Si el algoritmo encuentra un $n$ impar, interrogar mediante un condicional, si el valor actualmente inspeccionado del conjunto de números es mayor que el que teníamos *memorizado* en `maximo` y, en caso afirmativo, actualizar el valor de esta última variable. Nótese que si $n$ es par, el nuevo valor $n$ será necesariamente inferior.\n",
    "\n",
    "Modificaremos el código previo para lograr encontrar el valor máximo por el que pasa $n$."
   ]
  },
  {
   "cell_type": "code",
   "execution_count": null,
   "metadata": {},
   "outputs": [],
   "source": [
    "# Conjetura de Collatz\n",
    "# ENTRADA DE DATOS\n",
    "n = 0\n",
    "while n < 1:\n",
    "    n = int(input(\"Dame un número entero positivo: \"))\n",
    "    if n < 1:\n",
    "        print(\"¡ERROR!. El número debe ser positivo.\")\n",
    "\n",
    "num_max_iteraciones = 1e10\n",
    "\n",
    "# ALGORITMO\n",
    "iteraciones = 0\n",
    "maximo = n    # inicializamos a un valor conocido\n",
    "while n != 1 and iteraciones < num_max_iteraciones:\n",
    "    if n % 2 == 0:  # Par\n",
    "        n = n // 2\n",
    "    else:\n",
    "        n = 3*n + 1\n",
    "        if n > maximo:\n",
    "            maximo = n\n",
    "    iteraciones += 1\n",
    "\n",
    "# SALIDA\n",
    "if n == 1:\n",
    "    print(\"Se ha llegado a 1 en {} iteraciones.\".format(iteraciones))\n",
    "else:\n",
    "    print(\"No se ha llegado a 1 en {} iteraciones. ¡Se debe investigar más!\".format(iteraciones))\n",
    "\n",
    "print(\"El mayor valor por el que ha pasado n ha sido\", maximo)"
   ]
  },
  {
   "cell_type": "markdown",
   "metadata": {},
   "source": [
    "Observe que `maximo` ha sido inicializado con el valor inicial de `n`, que es el primer valor conocido.\n",
    "\n",
    "Para finalizar, una posible solución manejando excepciones."
   ]
  },
  {
   "cell_type": "code",
   "execution_count": null,
   "metadata": {},
   "outputs": [],
   "source": [
    "# Conjetura de Collatz\n",
    "# ENTRADA DE DATOS\n",
    "n = 0\n",
    "while n < 1:\n",
    "    try:\n",
    "        n = int(input(\"Dame un número entero positivo: \"))\n",
    "        if n < 1:\n",
    "            raise ValueError(\"¡ERROR!. El número debe ser positivo.\")\n",
    "    except ValueError as error:\n",
    "        print(error)\n",
    "\n",
    "num_max_iteraciones = 1e10\n",
    "\n",
    "# ALGORITMO\n",
    "iteraciones = 0\n",
    "maximo = n    # inicializamos a un valor conocido\n",
    "while n != 1 and iteraciones < num_max_iteraciones:\n",
    "    if n % 2 == 0:  # Par\n",
    "        n = n // 2\n",
    "    else:\n",
    "        n = 3*n + 1\n",
    "        if n > maximo:\n",
    "            maximo = n\n",
    "    iteraciones += 1\n",
    "\n",
    "# SALIDA\n",
    "if n == 1:\n",
    "    print(\"Se ha llegado a 1 en {} iteraciones.\".format(iteraciones))\n",
    "else:\n",
    "    print(\"No se ha llegado a 1 en {} iteraciones. ¡Se debe investigar más!\".format(iteraciones))\n",
    "\n",
    "print(\"El mayor valor por el que ha pasado n ha sido\", maximo)"
   ]
  },
  {
   "cell_type": "markdown",
   "metadata": {},
   "source": [
    "***\n",
    "<a id='Algoritmo_de_ordenación_por_inserción'></a>"
   ]
  },
  {
   "cell_type": "markdown",
   "metadata": {},
   "source": [
    "## Ejemplo 5: Algoritmo de ordenación por inserción\n",
    "Una de las actividades más habituales en programación es la de ordenar una colección de datos. Es tan común esta tarea, que existen funciones y métodos ya listos para ser utilizados, predefinidos en el lenguaje, para realizar esta tarea, como por ejemplo, el método `.sort()`  de las listas.\n",
    "\n",
    "La razón que justifica la importancia de tener listas ordenadas radica en la facilidad posterior de encontrar elementos en una lista ordenada, al poder realizar sobre ellas las llamadas **búsquedas binarias**, mucho más eficientes que una búsqueda **secuencial**.\n",
    "\n",
    "Existen muchos algoritmos de ordenación, de diferente grado de complejidad y eficiencia. El algoritmo de ordenación por **inserción** o **método de la baraja** es bastante simple y resulta eficaz para colecciones no muy grandes.\n",
    "\n",
    "Supongamos que se quiere ordenar una lista dada de menor a mayor. La idea básica consiste en dividir (conceptualmente) la lista en dos: \n",
    "* una primera sublista que se mantiene siempre ordenada\n",
    "* una sublista con los elementos restantes, que están en principio desordenados\n",
    "\n",
    "De forma iterada, se extrae el primer elemento de la sublista desordenada y se inserta en el lugar adecuado en la sublista ordenada.\n",
    "De esta forma, en cada iteración la sublista ordenada crece en un elemento y la desordenada disminuirá en uno. \n",
    "\n",
    "¿Cómo inicializar el algortimo? El tamaño inicial de la sublista ordenada será uno y el elemento que la compone será el primer elemento de la lista original ¡que está, por supuesto, ordenado!. El resto de elementos constituyen la lista inicial desordenada."
   ]
  },
  {
   "cell_type": "code",
   "execution_count": null,
   "metadata": {},
   "outputs": [],
   "source": [
    "enteros = [20, 1, 4, -1, -10, 0, 1, 6]\n",
    "\n",
    "for i in range(1, len(enteros)): # Recorre la sublista desordenada\n",
    "    j = i\n",
    "    tmp = enteros[i]  # Copia temporal del nuevo elemento\n",
    "    while j > 0 and enteros[j-1] > tmp: # Bucle que deja un hueco para insertar el nuevo elemento en la sublista ordenada\n",
    "        enteros[j] = enteros[j-1]\n",
    "        j -= 1\n",
    "    enteros[j] = tmp  # Inserta el nuevo elemento\n",
    "\n",
    "print(enteros)"
   ]
  },
  {
   "cell_type": "markdown",
   "metadata": {},
   "source": [
    "Es importante entender que el algoritmo anterior ordena la lista _in situ_. Se trata de dos bucles anidados. El `for` externo _recorre_ todos los elementos, a partir del segundo utilizando el índice ```i```, esto es recorre uno por uno todos los elementos de la sublista desordenada. El bucle interno, por su parte, utiliza un `while` y otro índice ```j``` para recorrer la sublista de los elementos ya ordenados, hasta encontrar el sitio que le corresponde al elemento que debe ser insertado y que está provisionalmente almacenado en ```tmp```. Nótese que mientras no se encuetra la posición adecuado en la sublista ordenada, los elementos de la misma son _recolocados_ apropiadamente *ascendiéndolos* una posición. \n",
    "\n",
    "¿Cómo modificarías el código previo para que se ordene de mayor a menor?"
   ]
  }
 ],
 "metadata": {
  "anaconda-cloud": {},
  "celltoolbar": "Raw Cell Format",
  "kernelspec": {
   "display_name": "Python 3",
   "language": "python",
   "name": "python3"
  },
  "language_info": {
   "codemirror_mode": {
    "name": "ipython",
    "version": 3
   },
   "file_extension": ".py",
   "mimetype": "text/x-python",
   "name": "python",
   "nbconvert_exporter": "python",
   "pygments_lexer": "ipython3",
   "version": "3.7.7"
  },
  "nbpresent": {
   "slides": {
    "1390653e-bdb6-444a-b611-39c60ffb77a1": {
     "id": "1390653e-bdb6-444a-b611-39c60ffb77a1",
     "prev": "5c2c8cc8-3676-4c06-b94c-d3f866ade69b",
     "regions": {
      "620813b3-9326-41e6-9d30-f5ac4f858225": {
       "attrs": {
        "height": 0.8,
        "width": 0.8,
        "x": 0.1,
        "y": 0.1
       },
       "content": {
        "cell": "86423d42-e808-47e6-b1a7-e925e195f821",
        "part": "whole"
       },
       "id": "620813b3-9326-41e6-9d30-f5ac4f858225"
      }
     }
    },
    "21036f68-a492-4532-a832-b213435c0ad2": {
     "id": "21036f68-a492-4532-a832-b213435c0ad2",
     "prev": "2c1c7f11-e5ee-4a25-8975-f0b033ba739a",
     "regions": {
      "a3908958-0784-4faa-ac97-b9325abe8ede": {
       "attrs": {
        "height": 0.8,
        "width": 0.8,
        "x": 0.1,
        "y": 0.1
       },
       "content": {
        "cell": "9aa64747-dc13-4bd9-bf26-73606628ad1c",
        "part": "whole"
       },
       "id": "a3908958-0784-4faa-ac97-b9325abe8ede"
      }
     }
    },
    "2c1c7f11-e5ee-4a25-8975-f0b033ba739a": {
     "id": "2c1c7f11-e5ee-4a25-8975-f0b033ba739a",
     "prev": "f3f10f50-4cad-4149-b308-c66e6a493a72",
     "regions": {
      "9e2d820e-ec17-4915-b960-0e0d5f640379": {
       "attrs": {
        "height": 0.8,
        "width": 0.8,
        "x": 0.1,
        "y": 0.1
       },
       "content": {
        "cell": "0281a659-abae-4cb9-b30f-b552b9db399e",
        "part": "whole"
       },
       "id": "9e2d820e-ec17-4915-b960-0e0d5f640379"
      }
     }
    },
    "30509a9a-dbd8-4dbd-9fab-852a7266d894": {
     "id": "30509a9a-dbd8-4dbd-9fab-852a7266d894",
     "prev": "8b078b7a-c2c6-4129-a19f-2a4f5c4a26f3",
     "regions": {
      "7baa4379-8f84-4d8f-b002-5a5ffd051489": {
       "attrs": {
        "height": 0.8,
        "width": 0.8,
        "x": 0.1,
        "y": 0.1
       },
       "content": {
        "cell": "14d1a927-b37f-4323-9404-17d453f3b487",
        "part": "whole"
       },
       "id": "7baa4379-8f84-4d8f-b002-5a5ffd051489"
      }
     }
    },
    "42d1bd80-265e-4acf-bbc1-b202afddade3": {
     "id": "42d1bd80-265e-4acf-bbc1-b202afddade3",
     "prev": "9bfe6214-4631-45b5-a05e-8923f178bb57",
     "regions": {
      "f2340145-4108-4fed-a0bc-4b91ca6c10ae": {
       "attrs": {
        "height": 0.8,
        "width": 0.8,
        "x": 0.1,
        "y": 0.1
       },
       "content": {
        "cell": "80be6133-d85a-4e43-9964-6578abcbaaac",
        "part": "whole"
       },
       "id": "f2340145-4108-4fed-a0bc-4b91ca6c10ae"
      }
     }
    },
    "5c2c8cc8-3676-4c06-b94c-d3f866ade69b": {
     "id": "5c2c8cc8-3676-4c06-b94c-d3f866ade69b",
     "prev": "6c4bc874-f3fc-472c-a81c-cd415b91c24b",
     "regions": {
      "e1de7ab6-4ef2-4b14-92d7-b174bf32806e": {
       "attrs": {
        "height": 0.8,
        "width": 0.8,
        "x": 0.1,
        "y": 0.1
       },
       "content": {
        "cell": "ae8725fa-30f7-4d7f-a2c2-5f86953d730b",
        "part": "whole"
       },
       "id": "e1de7ab6-4ef2-4b14-92d7-b174bf32806e"
      }
     }
    },
    "5cab5674-74dc-4378-93d7-eaa79e90cdae": {
     "id": "5cab5674-74dc-4378-93d7-eaa79e90cdae",
     "prev": "ba274d18-2760-4e55-ad47-2727b824fd00",
     "regions": {
      "2178d7cf-bf1e-4850-95a2-1509f15febfa": {
       "attrs": {
        "height": 0.8,
        "width": 0.8,
        "x": 0.1,
        "y": 0.1
       },
       "content": {
        "cell": "5d433d13-f44a-45bb-91fd-406f60b33b67",
        "part": "whole"
       },
       "id": "2178d7cf-bf1e-4850-95a2-1509f15febfa"
      }
     }
    },
    "638df7e1-84d1-4fd4-a15c-c94b731d1bea": {
     "id": "638df7e1-84d1-4fd4-a15c-c94b731d1bea",
     "prev": "b9dddf99-da24-46e1-81d4-8ac33b6fc3a3",
     "regions": {
      "deba8b1f-d997-4426-8f1b-978df7f19b41": {
       "attrs": {
        "height": 0.8,
        "width": 0.8,
        "x": 0.1,
        "y": 0.1
       },
       "content": {
        "cell": "7adaaf8f-a83e-456b-b99a-d3b3d4cb6d1a",
        "part": "whole"
       },
       "id": "deba8b1f-d997-4426-8f1b-978df7f19b41"
      }
     }
    },
    "6bda9eb4-0724-4e53-9971-131d0cb5f9e2": {
     "id": "6bda9eb4-0724-4e53-9971-131d0cb5f9e2",
     "prev": "ee33e624-cd65-4b8c-b28b-c95623a56dbf",
     "regions": {
      "feffbbd2-27d1-4318-8359-7d57583ee2bc": {
       "attrs": {
        "height": 0.8,
        "width": 0.8,
        "x": 0.1,
        "y": 0.1
       },
       "content": {
        "cell": "8dce188c-36b7-41fa-9020-b5cb5502e452",
        "part": "whole"
       },
       "id": "feffbbd2-27d1-4318-8359-7d57583ee2bc"
      }
     }
    },
    "6c4bc874-f3fc-472c-a81c-cd415b91c24b": {
     "id": "6c4bc874-f3fc-472c-a81c-cd415b91c24b",
     "prev": null,
     "regions": {
      "c9eac7e8-d033-4b03-8bf7-abd58ffe8d41": {
       "attrs": {
        "height": 0.8,
        "width": 0.8,
        "x": 0.1,
        "y": 0.1
       },
       "content": {
        "cell": "71219fc3-c9cb-4700-9f0b-ab38b1b223da",
        "part": "whole"
       },
       "id": "c9eac7e8-d033-4b03-8bf7-abd58ffe8d41"
      }
     }
    },
    "6d7ab34f-9d99-4c74-9877-27b25abc73f0": {
     "id": "6d7ab34f-9d99-4c74-9877-27b25abc73f0",
     "prev": "febe7de9-9362-4079-bfe9-2d4dfddf00e2",
     "regions": {
      "2ee252de-db5f-43e7-b4b7-7f59bba29962": {
       "attrs": {
        "height": 0.8,
        "width": 0.8,
        "x": 0.1,
        "y": 0.1
       },
       "content": {
        "cell": "85d1ab90-cc65-4935-808b-a6f57ecc892e",
        "part": "whole"
       },
       "id": "2ee252de-db5f-43e7-b4b7-7f59bba29962"
      }
     }
    },
    "7ea582c3-439d-4ec2-9f27-dea18bcacc31": {
     "id": "7ea582c3-439d-4ec2-9f27-dea18bcacc31",
     "prev": "f0727a74-61a1-48c1-94a5-3e7490c29f0b",
     "regions": {
      "652960af-b61f-4c36-b122-3eacd714867b": {
       "attrs": {
        "height": 0.8,
        "width": 0.8,
        "x": 0.1,
        "y": 0.1
       },
       "content": {
        "cell": "86172e20-fe16-447d-859f-24a81e563011",
        "part": "whole"
       },
       "id": "652960af-b61f-4c36-b122-3eacd714867b"
      }
     }
    },
    "8b078b7a-c2c6-4129-a19f-2a4f5c4a26f3": {
     "id": "8b078b7a-c2c6-4129-a19f-2a4f5c4a26f3",
     "prev": "5cab5674-74dc-4378-93d7-eaa79e90cdae",
     "regions": {
      "dce1e605-9342-414d-b8c6-7dcb922fbf47": {
       "attrs": {
        "height": 0.8,
        "width": 0.8,
        "x": 0.1,
        "y": 0.1
       },
       "content": {
        "cell": "ee1bdf03-6e13-4f1f-9dc9-22d4e344fdba",
        "part": "whole"
       },
       "id": "dce1e605-9342-414d-b8c6-7dcb922fbf47"
      }
     }
    },
    "999513ad-b53e-4d84-b9ef-ed37967f74d6": {
     "id": "999513ad-b53e-4d84-b9ef-ed37967f74d6",
     "prev": "638df7e1-84d1-4fd4-a15c-c94b731d1bea",
     "regions": {
      "2e85c1b2-3c30-413e-9b0f-141281da3a2a": {
       "attrs": {
        "height": 0.8,
        "width": 0.8,
        "x": 0.1,
        "y": 0.1
       },
       "content": {
        "cell": "998dc7f5-ab6d-4fb8-866f-4fa96a06aaaa",
        "part": "whole"
       },
       "id": "2e85c1b2-3c30-413e-9b0f-141281da3a2a"
      }
     }
    },
    "9add3d79-8621-4167-8e1d-d4ae48fba71b": {
     "id": "9add3d79-8621-4167-8e1d-d4ae48fba71b",
     "prev": "7ea582c3-439d-4ec2-9f27-dea18bcacc31",
     "regions": {
      "d5f4537e-4d8c-4179-b14b-6c475f50b04e": {
       "attrs": {
        "height": 0.8,
        "width": 0.8,
        "x": 0.1,
        "y": 0.1
       },
       "content": {
        "cell": "9659b1c1-9aed-4d71-b830-4a60d408ad71",
        "part": "whole"
       },
       "id": "d5f4537e-4d8c-4179-b14b-6c475f50b04e"
      }
     }
    },
    "9bfe6214-4631-45b5-a05e-8923f178bb57": {
     "id": "9bfe6214-4631-45b5-a05e-8923f178bb57",
     "prev": "30509a9a-dbd8-4dbd-9fab-852a7266d894",
     "regions": {
      "aac53254-d149-49f2-8f92-670c6f2714bb": {
       "attrs": {
        "height": 0.8,
        "width": 0.8,
        "x": 0.1,
        "y": 0.1
       },
       "content": {
        "cell": "c71a78d7-9d0e-4825-9c84-9998f971317d",
        "part": "whole"
       },
       "id": "aac53254-d149-49f2-8f92-670c6f2714bb"
      }
     }
    },
    "b9dddf99-da24-46e1-81d4-8ac33b6fc3a3": {
     "id": "b9dddf99-da24-46e1-81d4-8ac33b6fc3a3",
     "prev": "1390653e-bdb6-444a-b611-39c60ffb77a1",
     "regions": {
      "0b31dbb4-f15b-4a16-9420-c5dc8ed4e871": {
       "attrs": {
        "height": 0.8,
        "width": 0.8,
        "x": 0.1,
        "y": 0.1
       },
       "content": {
        "cell": "d0569bb0-fad8-48b7-8d48-0066bfb90401",
        "part": "whole"
       },
       "id": "0b31dbb4-f15b-4a16-9420-c5dc8ed4e871"
      }
     }
    },
    "ba274d18-2760-4e55-ad47-2727b824fd00": {
     "id": "ba274d18-2760-4e55-ad47-2727b824fd00",
     "prev": "ed47079d-58cf-4b87-a9fa-a709d8a7c3c6",
     "regions": {
      "13000b51-bd66-4fb5-970b-20bfad440880": {
       "attrs": {
        "height": 0.8,
        "width": 0.8,
        "x": 0.1,
        "y": 0.1
       },
       "content": {
        "cell": "f6847886-4044-43a7-9edd-f18efddcb7a9",
        "part": "whole"
       },
       "id": "13000b51-bd66-4fb5-970b-20bfad440880"
      }
     }
    },
    "ed47079d-58cf-4b87-a9fa-a709d8a7c3c6": {
     "id": "ed47079d-58cf-4b87-a9fa-a709d8a7c3c6",
     "prev": "9add3d79-8621-4167-8e1d-d4ae48fba71b",
     "regions": {
      "a96aea94-1714-4020-83f9-dbc03e9fd55e": {
       "attrs": {
        "height": 0.8,
        "width": 0.8,
        "x": 0.1,
        "y": 0.1
       },
       "content": {
        "cell": "5a579720-fa62-4525-85e3-dd049cbd73be",
        "part": "whole"
       },
       "id": "a96aea94-1714-4020-83f9-dbc03e9fd55e"
      }
     }
    },
    "ee33e624-cd65-4b8c-b28b-c95623a56dbf": {
     "id": "ee33e624-cd65-4b8c-b28b-c95623a56dbf",
     "prev": "999513ad-b53e-4d84-b9ef-ed37967f74d6",
     "regions": {
      "325ae98d-0855-4d16-8408-6d12f47efa24": {
       "attrs": {
        "height": 0.8,
        "width": 0.8,
        "x": 0.1,
        "y": 0.1
       },
       "content": {
        "cell": "829150e0-712b-4739-92d6-37b9c3d789cb",
        "part": "whole"
       },
       "id": "325ae98d-0855-4d16-8408-6d12f47efa24"
      }
     }
    },
    "f0727a74-61a1-48c1-94a5-3e7490c29f0b": {
     "id": "f0727a74-61a1-48c1-94a5-3e7490c29f0b",
     "prev": "6d7ab34f-9d99-4c74-9877-27b25abc73f0",
     "regions": {
      "1666081e-448d-4f80-90f2-9f26f1568cdc": {
       "attrs": {
        "height": 0.8,
        "width": 0.8,
        "x": 0.1,
        "y": 0.1
       },
       "content": {
        "cell": "d99a804c-9444-418b-bc94-3c2f064e2844",
        "part": "whole"
       },
       "id": "1666081e-448d-4f80-90f2-9f26f1568cdc"
      }
     }
    },
    "f3f10f50-4cad-4149-b308-c66e6a493a72": {
     "id": "f3f10f50-4cad-4149-b308-c66e6a493a72",
     "prev": "42d1bd80-265e-4acf-bbc1-b202afddade3",
     "regions": {
      "4fc1185f-bdb8-46fc-99bd-b8d30defeca9": {
       "attrs": {
        "height": 0.8,
        "width": 0.8,
        "x": 0.1,
        "y": 0.1
       },
       "content": {
        "cell": "9b7597e9-aaa9-4d9f-ba0d-22f43d1a3900",
        "part": "whole"
       },
       "id": "4fc1185f-bdb8-46fc-99bd-b8d30defeca9"
      }
     }
    },
    "febe7de9-9362-4079-bfe9-2d4dfddf00e2": {
     "id": "febe7de9-9362-4079-bfe9-2d4dfddf00e2",
     "prev": "6bda9eb4-0724-4e53-9971-131d0cb5f9e2",
     "regions": {
      "42348103-1cd6-4bac-b346-33cd41aea444": {
       "attrs": {
        "height": 0.8,
        "width": 0.8,
        "x": 0.1,
        "y": 0.1
       },
       "content": {
        "cell": "35a148d4-f201-4441-bf5e-8a07f93dea84",
        "part": "whole"
       },
       "id": "42348103-1cd6-4bac-b346-33cd41aea444"
      }
     }
    }
   },
   "themes": {}
  }
 },
 "nbformat": 4,
 "nbformat_minor": 2
}
