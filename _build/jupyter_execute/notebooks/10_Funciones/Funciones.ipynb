{
 "cells": [
  {
   "cell_type": "markdown",
   "metadata": {},
   "source": [
    "# Funciones\n",
    "**Autores**: Rogelio Mazaeda, Félix Miguel Trespaderne.   "
   ]
  },
  {
   "cell_type": "markdown",
   "metadata": {},
   "source": [
    "## Contenidos\n",
    "[Introducción](#Introducción)<br>\n",
    "[Definición de funciones](#Definición_de_funciones)<br>\n",
    "[Tipos de funciones según sus parámetros de entrada y valores devueltos](#Tipos_de_funciones_según_sus_parámetros_de_entrada_y_valores_devueltos)<br>\n",
    "[Funciones y tratamiento de excepciones](#Funciones_excepciones)"
   ]
  },
  {
   "cell_type": "markdown",
   "metadata": {},
   "source": [
    "***\n",
    "<a id='Introducción'></a>"
   ]
  },
  {
   "cell_type": "markdown",
   "metadata": {},
   "source": [
    "## Introducción\n",
    "\n",
    "En los temas previos ya hemos tenido oportunidad de trabajar con **funciones**. En este tema aprenderemos a definir y utilizar funciones **creadas por nosotros**.\n",
    "\n",
    "A lo largo del tiempo y en diferentes lenguajes el concepto de función aparece definido también por otros nombres: **subprograma**, **subrutina** o **procedimiento** son los más habituales y con diferentes matices denotan lo mismo.\n",
    ">Una función es un **conjunto de instrucciones** al que se asigna un nombre, opcionalmente parámetros de entrada y de salida, y que puede ser **llamada** desde otras partes de un programa para realizar una tarea concreta."
   ]
  },
  {
   "cell_type": "markdown",
   "metadata": {},
   "source": [
    "### La necesidad de las funciones\n",
    "\n",
    "Los lenguajes de programación utilizan los recursos que brinda el _hardware_ del ordenador: la capacidad de codificar diferentes tipos de datos y la posibilidad de realizar sobre ellos operaciones aritméticas y lógicas. \n",
    "\n",
    "Las operaciones que el ordenador brinda de forma nativa, son bastante elementales y no van mucho más allá de:\n",
    "* la capacidad de realizar sumas, restas, multiplicaciones y divisiones, etc.\n",
    "* controlar el flujo del programa modificando la ejecución secuencial de las sentencias mediante la utilización de condicionales y bucles.\n",
    "\n",
    "De manera que la realización de todo el resto de complicadas operaciones que sabemos que son capaces de realizar los programas de ordenador deben ser *construidas* a partir de esas operaciones básicas. \n",
    "\n",
    "Cuando hemos utilizado los operadores más sencillos en Python (suma, resta, etc.), el intérprete *traduce* los comandos de alto nivel dados por el programador y usa, casi directamente, las funcionalidades del *hardware*. \n",
    "\n",
    "Por tanto, a la hora de hacer operaciones más complejas, estas tienen que ser creadas a partir de esos bloques elementales implementando procedimientos más elaborados. Python y otros lenguajes brindan la posibilidad de agrupar estos bloques de instrucciones en forma de una **función**, para su posterior invocación de forma sencilla."
   ]
  },
  {
   "cell_type": "markdown",
   "metadata": {},
   "source": [
    "#### Un ejemplo usando funciones de biblioteca\n",
    "\n",
    "La **función** es entonces el recurso que el lenguaje de programación brinda para implementar esos subprogramas. Ya hemos utilizado muchas funciones, algunas intrínsecas y otras disponibles en módulos como el módulo `math`.\n",
    "\n",
    "Por ejemplo, supongamos que queremos determinar el siguiente cociente:\n",
    "\n",
    "\\begin{align}\n",
    "\\\\y & = \\frac{1-{{sin(x/4)}{cos(x)} }^4}{1+cos(x)^2} \\\\\n",
    "\\end{align}\n",
    "\n",
    "El cálculo de $y$ se podría implementar en Python con un programa como el siguiente, que hace uso de las funciones trigonométricas `sin()` y `cos()` definidas en el módulo `math`:"
   ]
  },
  {
   "cell_type": "code",
   "execution_count": 1,
   "metadata": {},
   "outputs": [
    {
     "name": "stdout",
     "output_type": "stream",
     "text": [
      "0.1464466094067262\n"
     ]
    }
   ],
   "source": [
    "from math import *  # Desaconsejado este método de importación pero utilizado aquí para argumentar el uso de funciones\n",
    "\n",
    "x = pi\n",
    "y = (1 - sin(x/4)*cos(x)**4)/(1+cos(x)**2)\n",
    "print(y)"
   ]
  },
  {
   "cell_type": "markdown",
   "metadata": {},
   "source": [
    "Se debe resaltar lo siguiente en el ejemplo anterior:\n",
    "\n",
    "- **Claridad**\n",
    "> Observad la similitud en el uso (que no equivalencia) para este caso concreto de las funciones en Python con el concepto matemático de función. La función **recibe** valores como argumentos y **devuelve** un valor que entonces participa en la evaluación del resto de la expresión.\n",
    "\n",
    "- **Abstracción**\n",
    "> Como *usuarios* de las funciones `sin()` y `cos()` no sabemos cómo están implementadas. Podríamos aventurar que es posible que la implementación de las mismas recurra a la expansión de series que converjan a las funciones requeridas, con una precisión alta pero finita. Pero el hecho cierto es que no lo sabemos, y tampoco nos interesa para utilizarlas: evidentemente hay que dar un *salto de fe* y confiar en que sean correctas dentro de los límites de la precisión que aseguran.\n",
    "\n",
    "- **Reutilización**\n",
    "> Hemos utilizado dos veces la función `cos()` y una el `sin()`. Podemos imaginar que utilizar más expresiones, usando estas funciones un número mayor de veces, no implicaría una dificultad mucho mayor.\n",
    "\n",
    "Imaginemos, por el contrario, que las funciones no existieran. Y que cada vez que quisiéramos determinar el seno o coseno de un número, tuviésemos que programar los bucles y condicionales del algoritmo específico que determina el valor de estas funciones a partir de operaciones más básicas. Ciertamente, sería muy complicado resolver cualquier problema matemático sencillo. El código resultante sería enormemente difícil de entender. Por otra parte, si se decidiera cambiar la implementación del código, para utilizar otro algoritmo más preciso o eficiente, eso implicaría modificar todo el programa. "
   ]
  },
  {
   "cell_type": "markdown",
   "metadata": {},
   "source": [
    "Una vez visto el ejemplo, mostramos el mismo ejemplo con la forma recomendada de usar funciones importadas de un módulo."
   ]
  },
  {
   "cell_type": "code",
   "execution_count": 2,
   "metadata": {},
   "outputs": [
    {
     "name": "stdout",
     "output_type": "stream",
     "text": [
      "0.1464466094067262\n"
     ]
    }
   ],
   "source": [
    "import math\n",
    "\n",
    "x = math.pi\n",
    "y = (1 - math.sin(x/4)*math.cos(x)**4)/(1+math.cos(x)**2)\n",
    "print(y)"
   ]
  },
  {
   "cell_type": "markdown",
   "metadata": {},
   "source": [
    "***\n",
    "<a id='Ventajas_del_uso_de_funciones'></a>"
   ]
  },
  {
   "cell_type": "markdown",
   "metadata": {},
   "source": [
    "### Ventajas del uso de funciones\n",
    "\n",
    "Las funciones brindan dos beneficios importantes de los que se pueden derivar muchos otros:\n",
    "- **Estructura**: Es un recurso que permite descomponer una tarea compleja en varias subtareas de menor entidad, que puedan ser abordables con mayores garantías de éxito.\n",
    "- **Abstracción**: Las funciones ocultan detalles tras una **interfaz pública** bien definida. Se hace abstracción de los detalles de implementación y lo que interesa únicamente son los valores de entrada que se le suministran y el(los) resultado(s) que ofrece. \n",
    "\n",
    "\n",
    "A partir de estas dos características básicas, se derivan el resto de las ventajas que brinda el uso de las funciones:\n",
    "\n",
    "- Permiten **reutilizar código** sin tener que reescribirlo cada vez.\n",
    "- Permite el **encapsulamiento** del código de la función. Así, por ejemplo, una vez dado por válido el código interno de una función, los errores de un programa no serán imputables a la implementación interna de la función.\n",
    "- La implementación interna puede cambiar sin que el programador que use esas funciones tenga que preocuparse de ello.\n",
    "- Hace que el código resultante sea más claro y mantenible.\n",
    "- Las funciones brindan el mecanismo para dividir un problema grande en subproblemas pequeños, acotando la interacción entre los mismos a los datos intercambiados a través de su interfaz pública. \n",
    "- Es el mecanismo ideal para permitir la colaboración entre varios programadores: una vez puestos de acuerdo en la interfaz, cada cual tiene la libertad de programar la solución a los subproblemas parciales sin temor a que le afecte lo hecho por otros programadores (siempre que el resultado brindado sea el correcto)."
   ]
  },
  {
   "cell_type": "markdown",
   "metadata": {},
   "source": [
    "### Pautas de diseño de una función\n",
    "Las  características que deben prevalecer a la hora de diseñar una función son aquellas que refuerzan el hecho de que las funciones son abstracciones.\n",
    "\n",
    "Una función como abstracción debe centrarse en 3 propiedades:\n",
    "* Su **dominio**, conjunto de valores que pueden tomar sus argumentos de entrada.\n",
    "* Su **rango**, conjunto de valores que puede devolver.\n",
    "* Su **propósito**, la relación existente entre los valores de entrada y los de salida, así como los posibles efectos colaterales que puedan existir.\n",
    "\n",
    "Cómo se logran las salidas a partir de las entradas queda oculto, ese el mecanismo de la abstracción.\n",
    "\n",
    "Para lograr reforzar el mecanismo de abstracción de una función hay algunas pautas que son de ayuda:\n",
    "1. Cada función debe tener un único propósito. Es el **principio de responsabilidad única**.\n",
    "    * El objetivo perseguido con la función debería ser fácilmente identificado con un nombre corto.\n",
    "    * Si una función hace múltiples tareas de forma consecutiva, debería rehacerse en múltiples funciones.\n",
    "2. **No te repitas** (**DRY**, **Don't repeat yourself**).\n",
    "    * Si un fragmento de código aparece varias veces repetido, es una buena oportunidad para darlo un nombre e invocarlo múltiples veces.\n",
    "3. Las funciones deben ser **generales**.\n",
    "    * No tiene sentido, por ejemplo, definir una función específica para elevar un número a la quinta, cuando podemos definir con carácter general, una función que eleve un número a cualquier exponente."
   ]
  },
  {
   "cell_type": "markdown",
   "metadata": {},
   "source": [
    "***\n",
    "<a id='Definición_de_funciones'></a>"
   ]
  },
  {
   "cell_type": "markdown",
   "metadata": {},
   "source": [
    "## Definición de funciones\n",
    "Al acto de utilizar una función, tal y como hemos venido haciendo hasta ahora con las funciones nativas (*built-in*) y también con las de biblioteca, se le conoce con el nombre de _llamar_ o _invocar_ a la función.\n",
    "\n",
    "Aprenderemos a continuación cómo definir nuestras propias funciones con algunos ejemplos sencillos."
   ]
  },
  {
   "cell_type": "code",
   "execution_count": 3,
   "metadata": {},
   "outputs": [
    {
     "name": "stdout",
     "output_type": "stream",
     "text": [
      "Área del círculo de radio 5.0 es 78.53750000000001.\n"
     ]
    }
   ],
   "source": [
    "# Primero definimos la función, especificando su nombre y sus parámetros\n",
    "def area_circulo_v1(r):\n",
    "    print(\"Área del círculo de radio {} es {}.\".format(r, 3.1415*r**2))\n",
    "\n",
    "\n",
    "# El estilo PEP 8 recomienza dejar dos líneas en blanco después de una función\n",
    "# Ahora comienza el programa principal: la primera línea ejecutable es diametro = 10\n",
    "diametro = 10\n",
    "area_circulo_v1(diametro/2)"
   ]
  },
  {
   "cell_type": "markdown",
   "metadata": {},
   "source": [
    "Observe en lo anterior los dos momentos del trabajo con las funciones, la **definición** y la **llamada**: \n",
    "\n",
    "- **Definición**: \n",
    "```python\n",
    "def area_circulo_v1(r): \n",
    "    print(\"Área del círculo de radio {} es {}.\".format(r, 3.1415*r**2))\n",
    "```\n",
    "Debe aparecer **antes de la primera llamada** a la función definida y está formada por dos partes, el **encabezado** y el **cuerpo**:\n",
    "    - **Encabezado**: \n",
    "```python\n",
    "def area_circulo_v1(r): \n",
    "```  \n",
    "    Se utiliza la palabra reservada `def` seguida del identificador que da nombre a la función, `area_circulo_v1` en el ejemplo. Le sigue entre paréntesis (obligatorios) la lista de **parámetros formales**, que puede estar vacía. En el ejemplo, consta de un sólo parámetro formal al que hemos identificado dentro de la definición de la función con el nombre `r`. \n",
    "    \n",
    "    Note que, al definir la función, todavía no se ejecuta el código que ella representa, aunque aparezca primero dentro de la secuencia del programa. \n",
    "    - **Cuerpo**:\n",
    "```python\n",
    "    print(\"Área del círculo de radio {} es {}.\".format(r, 3.1415*r**2))\n",
    "```   \n",
    "    Después del encabezado, se tiene el cuerpo de la función, que en este caso ocupa una sola línea, con una sentencia que a su vez _invoca_ a la función nativa `print()`. Se debe notar que, de nuevo, Python exige el *sangrado* apropiado para identificar el cuerpo de la función. En este ejemplo, la función no *devuelve* ningún valor.\n",
    "- **Llamada(s)**: \n",
    "```python\n",
    "area_circulo_v1(diametro/2)\n",
    "```\n",
    "Se realiza escribiendo el nombre de la función, seguido obligatoriamente de los paréntesis con los **parámetros reales** (en este caso uno) que se le *pasarán* a la misma. Aquí el parámetro real se obtiene evaluando la expresión indicada."
   ]
  },
  {
   "cell_type": "markdown",
   "metadata": {},
   "source": [
    "A tener en cuenta:\n",
    "- Antes de llamar a una función, esta debe haber sido **definida** en el programa.\n",
    "- La ejecución de los encabezados (no del cuerpo) de las funciones se realiza para _crear_ los objetos que representan a las funciones, La primera sentencia _\"útil\"_ que se ejecuta es la primera sentencia del programa principal. Programa principal es el conjunto de todas las sentencias que **no** están incluidas dentro del cuerpo de ninguna función.\n",
    "- Si la función tiene parámetros de entrada, a la hora de llamar a la función se determinan los valores de los parámetros reales, evaluando las expresiones correspondientes (en el ejemplo se evalúa ```diametro/2```). El valor del parámetro real resulta asociado al parámetro formal o argumento de la función (en este caso ```r```)."
   ]
  },
  {
   "cell_type": "markdown",
   "metadata": {},
   "source": [
    "La función anterior es correcta. Sin embargo, a la hora de programar funciones, se debe buscar que están sean lo más generales posible, de forma que puedan ser reusadas en diferentes circunstancias. La función anterior no es muy flexible, puesto que siempre *imprime* en pantalla el resultado y, probablemente, no en todas las ocasiones ese es el comportamiento que se desea. Además, tal y como está, como la función no *devuelve* nada, ella no puede participar en otras expresiones.\n",
    "\n",
    "Desde el punto de vista de la ingeniería del software esta función viola el **principio de responsabilidad única**: es deseable que una función realice una única cosa. En nuestro *desafortunado* ejemplo, nuestra función tiene dos responsabilidades: calcular el área de un círculo e imprimir su valor por pantalla. \n",
    "También, bien mirado, viola el **principio de generalidad**: no en todos los casos en que quiera calcular el área del círculo, se desea imprimir el resultado por pantalla.\n",
    "\n",
    "Una implementación más general, es la que se muestra a continuación."
   ]
  },
  {
   "cell_type": "markdown",
   "metadata": {},
   "source": [
    "![definicion_funcion.jpg](img/definicion_funcion.jpg)"
   ]
  },
  {
   "cell_type": "code",
   "execution_count": 4,
   "metadata": {},
   "outputs": [
    {
     "ename": "StdinNotImplementedError",
     "evalue": "raw_input was called, but this frontend does not support input requests.",
     "output_type": "error",
     "traceback": [
      "\u001b[1;31m---------------------------------------------------------------------------\u001b[0m",
      "\u001b[1;31mStdinNotImplementedError\u001b[0m                  Traceback (most recent call last)",
      "\u001b[1;32m<ipython-input-4-b6be4875fcdb>\u001b[0m in \u001b[0;36m<module>\u001b[1;34m\u001b[0m\n\u001b[0;32m     11\u001b[0m \u001b[1;31m# Además, el valor devuelto participa en la expresión\u001b[0m\u001b[1;33m\u001b[0m\u001b[1;33m\u001b[0m\u001b[1;33m\u001b[0m\u001b[0m\n\u001b[0;32m     12\u001b[0m \u001b[1;33m\u001b[0m\u001b[0m\n\u001b[1;32m---> 13\u001b[1;33m \u001b[0mradio\u001b[0m \u001b[1;33m=\u001b[0m \u001b[0mfloat\u001b[0m\u001b[1;33m(\u001b[0m\u001b[0minput\u001b[0m\u001b[1;33m(\u001b[0m\u001b[1;34m\"Diga el radio: \"\u001b[0m\u001b[1;33m)\u001b[0m\u001b[1;33m)\u001b[0m\u001b[1;33m\u001b[0m\u001b[1;33m\u001b[0m\u001b[0m\n\u001b[0m\u001b[0;32m     14\u001b[0m \u001b[0maltura\u001b[0m \u001b[1;33m=\u001b[0m \u001b[0mfloat\u001b[0m\u001b[1;33m(\u001b[0m\u001b[0minput\u001b[0m\u001b[1;33m(\u001b[0m\u001b[1;34m\"Diga la altura: \"\u001b[0m\u001b[1;33m)\u001b[0m\u001b[1;33m)\u001b[0m\u001b[1;33m\u001b[0m\u001b[1;33m\u001b[0m\u001b[0m\n\u001b[0;32m     15\u001b[0m \u001b[1;33m\u001b[0m\u001b[0m\n",
      "\u001b[1;32mC:\\Anaconda3\\lib\\site-packages\\ipykernel\\kernelbase.py\u001b[0m in \u001b[0;36mraw_input\u001b[1;34m(self, prompt)\u001b[0m\n\u001b[0;32m    856\u001b[0m         \u001b[1;32mif\u001b[0m \u001b[1;32mnot\u001b[0m \u001b[0mself\u001b[0m\u001b[1;33m.\u001b[0m\u001b[0m_allow_stdin\u001b[0m\u001b[1;33m:\u001b[0m\u001b[1;33m\u001b[0m\u001b[1;33m\u001b[0m\u001b[0m\n\u001b[0;32m    857\u001b[0m             raise StdinNotImplementedError(\n\u001b[1;32m--> 858\u001b[1;33m                 \u001b[1;34m\"raw_input was called, but this frontend does not support input requests.\"\u001b[0m\u001b[1;33m\u001b[0m\u001b[1;33m\u001b[0m\u001b[0m\n\u001b[0m\u001b[0;32m    859\u001b[0m             )\n\u001b[0;32m    860\u001b[0m         return self._input_request(str(prompt),\n",
      "\u001b[1;31mStdinNotImplementedError\u001b[0m: raw_input was called, but this frontend does not support input requests."
     ]
    }
   ],
   "source": [
    "# Primero definimos la función, especificando su nombre y sus parámetros\n",
    "def area_circulo(r):\n",
    "    '''Función que recibe el radio del círculo y calcula su área'''\n",
    "\n",
    "    area = 3.1415*r**2\n",
    "    return area\n",
    "\n",
    "\n",
    "# Programa principal\n",
    "# Ahora se invoca o llama la función, pasando el argumento real\n",
    "# Además, el valor devuelto participa en la expresión\n",
    "\n",
    "radio = float(input(\"Diga el radio: \"))\n",
    "altura = float(input(\"Diga la altura: \"))\n",
    "\n",
    "area_cilindro = 2*area_circulo(radio) + 2*3.1415*radio*altura\n",
    "\n",
    "print('El área lateral de un cilindro de radio {} y altura {} es {}.'.format(radio, altura, area_cilindro))"
   ]
  },
  {
   "cell_type": "markdown",
   "metadata": {},
   "source": [
    "Ahora el encabezamiento es idéntico pero el cuerpo de la función consta de dos sentencias (líneas 5 y 6), sangradas como exige la sintaxis de Python. \n",
    "* La primera sentencia **asigna** a la variable ```area``` el resultado de evaluar la expresión a su derecha\n",
    "* La segunda sentencia utiliza la palabra reservada ```return``` para **devolver** el contenido de ```area``` al código que haya invocado a la función.\n",
    "\n",
    "Es importante entender que `area` dentro de la definición de la función da nombre a una **variable local** que solo está definida y **accesible** dentro de la función `area_circulo()`. El identificador `r` de nuevo sirve para nombrar el parámetro formal, que igualmente sólo está definido dentro de la función.\n",
    "\n",
    "Luego aparecen las sentencias que se ejecutarán primero de forma secuencial (el **programa principal**), la asignación a las variables `radio` y  `altura` de los valores que el usuario introduzca por teclado, para luego evaluar la expresión que asigna a una nueva variable, `area_cilindro`, el resultado de evaluar la expresión a su derecha. Ahora, como la función `area_circulo()` devuelve un valor, la llamada a dicha función, puede participar de la expresión en la que se calcula el área lateral del cilindro. Véase que, esta forma de utilizar la función que acabamos de definir, no difiere de lo ya visto en temas anteriores o del ejemplo del inicio de este documento con las funciones de biblioteca `cos()` y `sin()`.\n",
    "\n",
    "Al evaluar la expresión, se procede siguiendo las reglas de precedencia de los operadores implicados. Primero, cuando se intenta realizar el primer producto, el intérprete de Python *comprende* que necesita antes evaluar la función `area_circulo()`, con lo que se detiene la evaluación de la expresión para *invocar* a la función, asociando el contenido de la variable `radio` (argumento real) al parámetro formal `r` de la definición de la función. Tras terminar la ejecución, la función devuelve el valor del área del circulo contenida en la variable local `area`, y dicho valor es recibido en el programa principal para proceder con la evaluación del resto de la expresión.\n",
    "\n",
    "Nótese que las funciones definidas siguiendo la pauta de esta segunda versión de `area_circulo()` tienen un comportamiento similar a las funciones matemáticas: a cada valor del dominio de definición (cada valor del parámetro formal ```r```) le corresponde un único valor de la imagen (la salida que se logra mediante la sentencia `return`) y que además este valor siempre es el mismo.\n"
   ]
  },
  {
   "cell_type": "markdown",
   "metadata": {},
   "source": [
    "***\n",
    "<a id='Tipos_de_funciones_según_sus_parámetros_de_entrada_y_valores_devueltos'></a>"
   ]
  },
  {
   "cell_type": "markdown",
   "metadata": {},
   "source": [
    "## Tipos de funciones según sus parámetros de entrada y valores devueltos\n",
    "### Funciones sin parámetros de entrada"
   ]
  },
  {
   "cell_type": "code",
   "execution_count": 1,
   "metadata": {},
   "outputs": [
    {
     "name": "stdout",
     "output_type": "stream",
     "text": [
      "Este código sólo imprime este mensaje\n",
      "Este código sólo imprime este mensaje\n"
     ]
    }
   ],
   "source": [
    "def intro():\n",
    "    print('Este código sólo imprime este mensaje.')\n",
    "\n",
    "    \n",
    "intro()\n",
    "intro()"
   ]
  },
  {
   "cell_type": "markdown",
   "metadata": {},
   "source": [
    "Las funciones pueden carecer de parámetros de entrada. En la mayoría de los casos, se trataría de un tipo de función conocida como **impura**, debido a que ocasiona **efectos colaterales** (**side effects**). Observe que el único objetivo en este caso es sacar un aviso por pantalla, **¡que es un efecto colateral!**. En el tema de ampliación de funciones abordaremos este aspecto con algo más de detenimiento. Pueden existir funciones **puras** sin parámetros de entrada y sin cambios colaterales: la función trivial _que no hace nada_.\n",
    "\n",
    "```python\n",
    "def funcion():\n",
    "    pass\n",
    "```\n",
    "\n",
    "En todo caso, los paréntesis deben ser obligatoriamente utilizados tanto en la definición como en cada una de las llamadas a la función."
   ]
  },
  {
   "cell_type": "markdown",
   "metadata": {},
   "source": [
    "### Funciones que no devuelven valores mediante `return`\n",
    "\n",
    "El caso del ejemplo anterior, también ejemplifica a las funciones que no contienen la sentencia `return`.\n",
    "Este tipo de funciones, al ser utilizadas incorrectamente en contextos en que se espera un valor devuelto (al realizar composición de funciones o en sentencias de asignación), _devuelven_ el valor especial ```None``` que indica la ausencia de un valor válido.\n",
    "\n",
    "Por ejemplo:"
   ]
  },
  {
   "cell_type": "code",
   "execution_count": 4,
   "metadata": {},
   "outputs": [
    {
     "name": "stdout",
     "output_type": "stream",
     "text": [
      "Este código sólo imprime este mensaje\n",
      "None\n"
     ]
    }
   ],
   "source": [
    "a = intro()\n",
    "print(a)"
   ]
  },
  {
   "cell_type": "markdown",
   "metadata": {},
   "source": [
    "### Funciones con más de un parámetro\n",
    "\n",
    "Las funciones pueden tener más de un parámetro formal. Tomando como referencia el ejemplo ya visto, definamos una función que reciba el radio y la altura de un cilindro y devuelva su área lateral."
   ]
  },
  {
   "cell_type": "code",
   "execution_count": 3,
   "metadata": {},
   "outputs": [
    {
     "name": "stdout",
     "output_type": "stream",
     "text": [
      "El área lateral del cilindro es 34.55749\n"
     ]
    }
   ],
   "source": [
    "# Primero definimos la función, especificando su nombre y sus parámetros\n",
    "def area_cilindro(r, h):\n",
    "    pi = 3.14159\n",
    "    area = 2*pi*r**2 + 2*pi*r*h\n",
    "    return area\n",
    "\n",
    "\n",
    "area_c = area_cilindro(1, 4.5)\n",
    "\n",
    "print('El área lateral del cilindro es {}.'.format(area_c))"
   ]
  },
  {
   "cell_type": "markdown",
   "metadata": {},
   "source": [
    "Note que los parámetros formales de ```area_cilindro()``` ahora son dos, representando el radio (```r```) y la altura (```h```). Por simplicidad, invocamos la función pasando como parámetros reales dos valores literales.\n",
    "\n",
    "Obsérvese la **correspondencia posicional** entre los parámetros formales y los reales: la constante literal `1` será copiada en el primer parámetro formal `r` y la constante `4.5` en el segundo `h`."
   ]
  },
  {
   "cell_type": "markdown",
   "metadata": {},
   "source": [
    "### Funciones que devuelven más de un parámetro\n",
    "\n",
    "En Python, las funciones pueden devolver mediante la sentencia ```return``` un número arbitrario de valores separados por coma. Esta característica es una novedad del lenguaje que lo diferencia de otros como el C/C++.\n",
    "\n",
    "Por ejemplo:"
   ]
  },
  {
   "cell_type": "code",
   "execution_count": 5,
   "metadata": {},
   "outputs": [
    {
     "name": "stdout",
     "output_type": "stream",
     "text": [
      "Min:  -3 Max:  10\n"
     ]
    }
   ],
   "source": [
    "def min_max(lista):\n",
    "    '''Devuelve el mínimo y el máximo de la lista que recibe como argmento'''\n",
    "    mn = mx = lista[0]\n",
    "    for elem in lista[1:]:  #[1:] evita comparar con el índice 0\n",
    "        if mn > elem:\n",
    "            mn = elem\n",
    "        if mx < elem:\n",
    "            mx = elem\n",
    "    return mn, mx  # Devolvemos una tupla\n",
    "\n",
    "\n",
    "lista_prueba = [1, 10, 2, -3, 6, 8]\n",
    "\n",
    "mn, mx = min_max(lista_prueba)  # Desempaquetado de la tupla\n",
    "\n",
    "print('Min: ', mn, 'Max: ', mx)"
   ]
  },
  {
   "cell_type": "markdown",
   "metadata": {},
   "source": [
    "Observe que en el ejemplo anterior, el parámetro que espera la función ```min_max()``` es de tipo lista. Este ejemplo, además, ilustra mejor el hecho de que las funciones deben ser entendidas como subprogramas, capaces de utilizar todas las posibilidades vistas: definir sus propias variables, utilizar estructuras de control de flujo como condicionales y bucles, etc.\n",
    "\n",
    "La sentencia ```return``` devuelve el mínimo y máximo valor de la misma, creando una **tupla**.\n",
    "\n",
    "En la línea en que se realiza la llamada, se asigna el resultado a dos variables, **desempaquetando** la tupla."
   ]
  },
  {
   "cell_type": "markdown",
   "metadata": {},
   "source": [
    "### Especificando el nombre de los parámetros\n",
    "Python permite especificar los nombres de los parámetros formales a la hora de invocar a la función."
   ]
  },
  {
   "cell_type": "code",
   "execution_count": 8,
   "metadata": {},
   "outputs": [
    {
     "name": "stdout",
     "output_type": "stream",
     "text": [
      "El área lateral del cilindro 34.55749\n"
     ]
    }
   ],
   "source": [
    "area_c = area_cilindro(1, h=4.5)\n",
    "print(\"El área lateral del cilindro\", area_c)"
   ]
  },
  {
   "cell_type": "code",
   "execution_count": null,
   "metadata": {},
   "outputs": [],
   "source": [
    "area_c = area_cilindro(r=1, h=4.5)\n",
    "print(\"El área lateral del cilindro\", area_c)"
   ]
  },
  {
   "cell_type": "markdown",
   "metadata": {},
   "source": [
    "Por supuesto, no se permite que un parámetro que no tenga nombre, **argumento posicional**, esté a la derecha de un argumento con nombre."
   ]
  },
  {
   "cell_type": "code",
   "execution_count": 10,
   "metadata": {},
   "outputs": [
    {
     "ename": "SyntaxError",
     "evalue": "positional argument follows keyword argument (<ipython-input-10-7328e50cc47a>, line 1)",
     "output_type": "error",
     "traceback": [
      "\u001b[1;36m  File \u001b[1;32m\"<ipython-input-10-7328e50cc47a>\"\u001b[1;36m, line \u001b[1;32m1\u001b[0m\n\u001b[1;33m    area_c = area_cilindro(r=1, 4.5)\u001b[0m\n\u001b[1;37m                               ^\u001b[0m\n\u001b[1;31mSyntaxError\u001b[0m\u001b[1;31m:\u001b[0m positional argument follows keyword argument\n"
     ]
    }
   ],
   "source": [
    "area_c = area_cilindro(r=1, 4.5)\n",
    "print(\"El área lateral del cilindro\", area_c)"
   ]
  },
  {
   "cell_type": "markdown",
   "metadata": {},
   "source": [
    "Poder especificar nombres permite que los parámetros reales pueden ser enviados a la función en cualquier orden."
   ]
  },
  {
   "cell_type": "code",
   "execution_count": 7,
   "metadata": {},
   "outputs": [
    {
     "name": "stdout",
     "output_type": "stream",
     "text": [
      "El área lateral del cilindro 34.55749\n"
     ]
    }
   ],
   "source": [
    "area_c = area_cilindro(h=4.5, r=1)\n",
    "print(\"El área lateral del cilindro\", area_c)"
   ]
  },
  {
   "cell_type": "markdown",
   "metadata": {},
   "source": [
    "### Parámetros con valores por defecto\n",
    "En ocasiones resulta útil definir funciones para las que uno o varios parámetros tengan valores por defecto.\n",
    "\n",
    "Supongamos, por ejemplo, que hacemos una función para garantizar que el valor que se pasa como argumento está entre dos límites dados: \n",
    "* si lo está, devuelve el valor tal cual.\n",
    "* si no lo está, devuelve el límite superior o inferior, según el caso. \n",
    "\n",
    "Se sabe además que, en la aplicación de que se trata, el rango de valores que interesa normalmente suele ser el [0,1]. Una implementación posible de dicha función es la que se muestra:"
   ]
  },
  {
   "cell_type": "code",
   "execution_count": 5,
   "metadata": {},
   "outputs": [
    {
     "name": "stdout",
     "output_type": "stream",
     "text": [
      "Deme entero: 1\n",
      "Valor limitado 1.0\n",
      "Deme entero: 1\n",
      "Valor limitado 1.0\n",
      "Deme entero: 1\n",
      "Valor limitado 1.0\n",
      "Deme entero: 1\n",
      "Valor limitado 1.0\n"
     ]
    }
   ],
   "source": [
    "def limita(valor, inf=0.0, sup=1.):\n",
    "    '''Devuelve valor si inf<valor<sup.\n",
    "    Si valor<inf devuelve inf.\n",
    "    Si valor>sup devuel sup'''\n",
    "    if inf <= valor <= sup:\n",
    "        return valor\n",
    "    elif valor > sup:\n",
    "        return sup\n",
    "    else:\n",
    "        return inf\n",
    "\n",
    "\n",
    "# con límites por defecto\n",
    "valor = float(input('Deme entero: '))\n",
    "print('Valor limitado', limita(valor))\n",
    "\n",
    "# con un límite cambiado: inf -> -1\n",
    "valor = float(input('Deme entero: '))\n",
    "print('Valor limitado', limita(valor, -1))\n",
    "\n",
    "# con un límite cambiado: sup -> 5\n",
    "valor = float(input('Deme entero: '))\n",
    "print('Valor limitado', limita(valor, sup=5))\n",
    "\n",
    "# con los dos límites cambiados: inf -> -1, sup -> 5\n",
    "valor = float(input('Deme entero: '))\n",
    "print('Valor limitado', limita(valor, -1, 5))"
   ]
  },
  {
   "cell_type": "markdown",
   "metadata": {},
   "source": [
    "Observe que, en el encabezado de la definición de la función, a los parámetros formales `inf`y `sup` se les asignan respectivamente los valores `0.0` y `1.0`. Esto significa que, si esos parámetros no son utilizados (no se les pasa un valor o parámetro real) durante la llamada a la función, se utilizarán en el cuerpo de la misma esos valores por defecto.\n",
    "\n",
    "Esto es lo que ocurre en los tres primeros ejemplos de la llamada a la función `limita()`.\n",
    "\n",
    "En la tercera llamada a la función, se requiere cambiar el límite superior solamente. Para estos casos, se puede utilizar una llamada a función que utiliza, no la posición del argumento como criterio de emparejamiento de los parámetros reales a formales, sino utilizar directamente el nombre del parámetro formal y el signo ```=``` para pasar el parámetro real. De no hacerlo así, y utilizar el paso de parámetro posicional, habría que haber utilizado una llamada a función como la que se muestra a continuación, perdiendo la ventaja de los parámetros por defecto:\n",
    "```python\n",
    "limita(valor, 0, 5)\n",
    "```"
   ]
  },
  {
   "cell_type": "markdown",
   "metadata": {},
   "source": [
    "***\n",
    "<a id='Funciones_excepciones'></a>"
   ]
  },
  {
   "cell_type": "markdown",
   "metadata": {},
   "source": [
    "## Funciones y tratamiento de excepciones\n",
    "\n",
    "El **tratamiento estructurado de excepciones** y el enfoque **EAFP** (**Easier to Ask Forgiveness than Permission**), visto con anterioridad, alcanza su mayor utilidad cuando es aplicado conjuntamente con las funciones.\n",
    "\n",
    "Veamos un ejemplo que implementa una función clónica del método `index()` de las listas."
   ]
  },
  {
   "cell_type": "code",
   "execution_count": 9,
   "metadata": {},
   "outputs": [
    {
     "name": "stdout",
     "output_type": "stream",
     "text": [
      "0 is not in list.\n",
      "0 is not in list\n"
     ]
    }
   ],
   "source": [
    "# Función clónica del método index() de las listas\n",
    "def indice(lista, valor):\n",
    "    for i, x in enumerate(lista):\n",
    "        if x == valor:\n",
    "            return i\n",
    "    raise ValueError('{} is not in list.'.format(valor))\n",
    "\n",
    "\n",
    "lista = [-5, 1, 3, 4, 12, 21, 23, 34, 43, 123]\n",
    "try:\n",
    "    valor = 0\n",
    "    print('{} está en la posición {} de la lista {}.'.format(valor, indice(lista, valor), lista))\n",
    "except ValueError as error:\n",
    "    print(error)\n",
    "\n",
    "# Usando el método index()\n",
    "try:\n",
    "    valor = 0\n",
    "    print('{} está en la posición {} de la lista {}.'.format(valor, lista.index(valor), lista))\n",
    "except ValueError as error:\n",
    "    print(error)"
   ]
  },
  {
   "cell_type": "markdown",
   "metadata": {},
   "source": [
    "La función `indice()` utiliza el mecanismo de excepciones para comunicar la existencia de un error que lanza una excepción `ValueError`, utilizando la sentencia `raise`. Esta excepción será manejada por el primer bloque `try: ... except:` que englobe la llamada a la función.\n",
    "\n",
    "Nótese que una excepción termina inmediatamente el **hilo de ejecución** de la función. Veamos un ejemplo en el que dividimos valor por valor dos listas. La idea es que si un valor de la lista *denominador* es nulo, asignemos el valor **Not a number** `nan`. \n",
    "\n",
    "Para el resto de excepciones, será el ususario de la función quien deba manejarlas:\n",
    "* Las listas tienen tamaños diferentes\n",
    "* Datos incompatibles entre sí"
   ]
  },
  {
   "cell_type": "code",
   "execution_count": 13,
   "metadata": {},
   "outputs": [
    {
     "name": "stdout",
     "output_type": "stream",
     "text": [
      "list index out of range\n",
      "unsupported operand type(s) for /: 'int' and 'str'\n",
      "[1.0, nan, 1.0, 1.0, 1.0, 1.0, 1.0, 1.0, 1.0, 1.0]\n"
     ]
    }
   ],
   "source": [
    "# Función que divide valor por valor dos listas\n",
    "def divide_dos_listas_entre_si(lista_num, lista_den):\n",
    "    lista_coc = []\n",
    "    for i in range(len(lista_num)):\n",
    "        try:\n",
    "            lista_coc.append(lista_num[i]/lista_den[i])\n",
    "        except ZeroDivisionError:\n",
    "            lista_coc.append(float('nan'))            \n",
    "    return lista_coc\n",
    "\n",
    "\n",
    "lista_num = [-5, 1, 3, 4, 12, 21, 23, 34, 43, 123]\n",
    "lista_den_1 = [1]\n",
    "lista_den_2 = [-5, 0, 'a', 4, 12, 21, 23, 34, 43, 123]\n",
    "lista_den_3 = [-5, 0, 3, 4, 12, 21, 23, 34, 43, 123]\n",
    "\n",
    "try:\n",
    "    print(divide_dos_listas_entre_si(lista_num, lista_den_1))\n",
    "except (IndexError, TypeError) as error:\n",
    "    print(error)\n",
    "    \n",
    "try:\n",
    "    print(divide_dos_listas_entre_si(lista_num, lista_den_2))\n",
    "except (IndexError, TypeError) as error:\n",
    "    print(error)\n",
    "    \n",
    "try:\n",
    "    print(divide_dos_listas_entre_si(lista_num, lista_den_3))\n",
    "except (IndexError, TypeError) as error:\n",
    "    print(error)"
   ]
  }
 ],
 "metadata": {
  "anaconda-cloud": {},
  "kernelspec": {
   "display_name": "Python 3",
   "language": "python",
   "name": "python3"
  },
  "language_info": {
   "codemirror_mode": {
    "name": "ipython",
    "version": 3
   },
   "file_extension": ".py",
   "mimetype": "text/x-python",
   "name": "python",
   "nbconvert_exporter": "python",
   "pygments_lexer": "ipython3",
   "version": "3.7.7"
  },
  "nbpresent": {
   "slides": {
    "1390653e-bdb6-444a-b611-39c60ffb77a1": {
     "id": "1390653e-bdb6-444a-b611-39c60ffb77a1",
     "prev": "5c2c8cc8-3676-4c06-b94c-d3f866ade69b",
     "regions": {
      "620813b3-9326-41e6-9d30-f5ac4f858225": {
       "attrs": {
        "height": 0.8,
        "width": 0.8,
        "x": 0.1,
        "y": 0.1
       },
       "content": {
        "cell": "86423d42-e808-47e6-b1a7-e925e195f821",
        "part": "whole"
       },
       "id": "620813b3-9326-41e6-9d30-f5ac4f858225"
      }
     }
    },
    "21036f68-a492-4532-a832-b213435c0ad2": {
     "id": "21036f68-a492-4532-a832-b213435c0ad2",
     "prev": "2c1c7f11-e5ee-4a25-8975-f0b033ba739a",
     "regions": {
      "a3908958-0784-4faa-ac97-b9325abe8ede": {
       "attrs": {
        "height": 0.8,
        "width": 0.8,
        "x": 0.1,
        "y": 0.1
       },
       "content": {
        "cell": "9aa64747-dc13-4bd9-bf26-73606628ad1c",
        "part": "whole"
       },
       "id": "a3908958-0784-4faa-ac97-b9325abe8ede"
      }
     }
    },
    "2c1c7f11-e5ee-4a25-8975-f0b033ba739a": {
     "id": "2c1c7f11-e5ee-4a25-8975-f0b033ba739a",
     "prev": "f3f10f50-4cad-4149-b308-c66e6a493a72",
     "regions": {
      "9e2d820e-ec17-4915-b960-0e0d5f640379": {
       "attrs": {
        "height": 0.8,
        "width": 0.8,
        "x": 0.1,
        "y": 0.1
       },
       "content": {
        "cell": "0281a659-abae-4cb9-b30f-b552b9db399e",
        "part": "whole"
       },
       "id": "9e2d820e-ec17-4915-b960-0e0d5f640379"
      }
     }
    },
    "30509a9a-dbd8-4dbd-9fab-852a7266d894": {
     "id": "30509a9a-dbd8-4dbd-9fab-852a7266d894",
     "prev": "8b078b7a-c2c6-4129-a19f-2a4f5c4a26f3",
     "regions": {
      "7baa4379-8f84-4d8f-b002-5a5ffd051489": {
       "attrs": {
        "height": 0.8,
        "width": 0.8,
        "x": 0.1,
        "y": 0.1
       },
       "content": {
        "cell": "14d1a927-b37f-4323-9404-17d453f3b487",
        "part": "whole"
       },
       "id": "7baa4379-8f84-4d8f-b002-5a5ffd051489"
      }
     }
    },
    "42d1bd80-265e-4acf-bbc1-b202afddade3": {
     "id": "42d1bd80-265e-4acf-bbc1-b202afddade3",
     "prev": "9bfe6214-4631-45b5-a05e-8923f178bb57",
     "regions": {
      "f2340145-4108-4fed-a0bc-4b91ca6c10ae": {
       "attrs": {
        "height": 0.8,
        "width": 0.8,
        "x": 0.1,
        "y": 0.1
       },
       "content": {
        "cell": "80be6133-d85a-4e43-9964-6578abcbaaac",
        "part": "whole"
       },
       "id": "f2340145-4108-4fed-a0bc-4b91ca6c10ae"
      }
     }
    },
    "5c2c8cc8-3676-4c06-b94c-d3f866ade69b": {
     "id": "5c2c8cc8-3676-4c06-b94c-d3f866ade69b",
     "prev": "6c4bc874-f3fc-472c-a81c-cd415b91c24b",
     "regions": {
      "e1de7ab6-4ef2-4b14-92d7-b174bf32806e": {
       "attrs": {
        "height": 0.8,
        "width": 0.8,
        "x": 0.1,
        "y": 0.1
       },
       "content": {
        "cell": "ae8725fa-30f7-4d7f-a2c2-5f86953d730b",
        "part": "whole"
       },
       "id": "e1de7ab6-4ef2-4b14-92d7-b174bf32806e"
      }
     }
    },
    "5cab5674-74dc-4378-93d7-eaa79e90cdae": {
     "id": "5cab5674-74dc-4378-93d7-eaa79e90cdae",
     "prev": "ba274d18-2760-4e55-ad47-2727b824fd00",
     "regions": {
      "2178d7cf-bf1e-4850-95a2-1509f15febfa": {
       "attrs": {
        "height": 0.8,
        "width": 0.8,
        "x": 0.1,
        "y": 0.1
       },
       "content": {
        "cell": "5d433d13-f44a-45bb-91fd-406f60b33b67",
        "part": "whole"
       },
       "id": "2178d7cf-bf1e-4850-95a2-1509f15febfa"
      }
     }
    },
    "638df7e1-84d1-4fd4-a15c-c94b731d1bea": {
     "id": "638df7e1-84d1-4fd4-a15c-c94b731d1bea",
     "prev": "b9dddf99-da24-46e1-81d4-8ac33b6fc3a3",
     "regions": {
      "deba8b1f-d997-4426-8f1b-978df7f19b41": {
       "attrs": {
        "height": 0.8,
        "width": 0.8,
        "x": 0.1,
        "y": 0.1
       },
       "content": {
        "cell": "7adaaf8f-a83e-456b-b99a-d3b3d4cb6d1a",
        "part": "whole"
       },
       "id": "deba8b1f-d997-4426-8f1b-978df7f19b41"
      }
     }
    },
    "6bda9eb4-0724-4e53-9971-131d0cb5f9e2": {
     "id": "6bda9eb4-0724-4e53-9971-131d0cb5f9e2",
     "prev": "ee33e624-cd65-4b8c-b28b-c95623a56dbf",
     "regions": {
      "feffbbd2-27d1-4318-8359-7d57583ee2bc": {
       "attrs": {
        "height": 0.8,
        "width": 0.8,
        "x": 0.1,
        "y": 0.1
       },
       "content": {
        "cell": "8dce188c-36b7-41fa-9020-b5cb5502e452",
        "part": "whole"
       },
       "id": "feffbbd2-27d1-4318-8359-7d57583ee2bc"
      }
     }
    },
    "6c4bc874-f3fc-472c-a81c-cd415b91c24b": {
     "id": "6c4bc874-f3fc-472c-a81c-cd415b91c24b",
     "prev": null,
     "regions": {
      "c9eac7e8-d033-4b03-8bf7-abd58ffe8d41": {
       "attrs": {
        "height": 0.8,
        "width": 0.8,
        "x": 0.1,
        "y": 0.1
       },
       "content": {
        "cell": "71219fc3-c9cb-4700-9f0b-ab38b1b223da",
        "part": "whole"
       },
       "id": "c9eac7e8-d033-4b03-8bf7-abd58ffe8d41"
      }
     }
    },
    "6d7ab34f-9d99-4c74-9877-27b25abc73f0": {
     "id": "6d7ab34f-9d99-4c74-9877-27b25abc73f0",
     "prev": "febe7de9-9362-4079-bfe9-2d4dfddf00e2",
     "regions": {
      "2ee252de-db5f-43e7-b4b7-7f59bba29962": {
       "attrs": {
        "height": 0.8,
        "width": 0.8,
        "x": 0.1,
        "y": 0.1
       },
       "content": {
        "cell": "85d1ab90-cc65-4935-808b-a6f57ecc892e",
        "part": "whole"
       },
       "id": "2ee252de-db5f-43e7-b4b7-7f59bba29962"
      }
     }
    },
    "7ea582c3-439d-4ec2-9f27-dea18bcacc31": {
     "id": "7ea582c3-439d-4ec2-9f27-dea18bcacc31",
     "prev": "f0727a74-61a1-48c1-94a5-3e7490c29f0b",
     "regions": {
      "652960af-b61f-4c36-b122-3eacd714867b": {
       "attrs": {
        "height": 0.8,
        "width": 0.8,
        "x": 0.1,
        "y": 0.1
       },
       "content": {
        "cell": "86172e20-fe16-447d-859f-24a81e563011",
        "part": "whole"
       },
       "id": "652960af-b61f-4c36-b122-3eacd714867b"
      }
     }
    },
    "8b078b7a-c2c6-4129-a19f-2a4f5c4a26f3": {
     "id": "8b078b7a-c2c6-4129-a19f-2a4f5c4a26f3",
     "prev": "5cab5674-74dc-4378-93d7-eaa79e90cdae",
     "regions": {
      "dce1e605-9342-414d-b8c6-7dcb922fbf47": {
       "attrs": {
        "height": 0.8,
        "width": 0.8,
        "x": 0.1,
        "y": 0.1
       },
       "content": {
        "cell": "ee1bdf03-6e13-4f1f-9dc9-22d4e344fdba",
        "part": "whole"
       },
       "id": "dce1e605-9342-414d-b8c6-7dcb922fbf47"
      }
     }
    },
    "999513ad-b53e-4d84-b9ef-ed37967f74d6": {
     "id": "999513ad-b53e-4d84-b9ef-ed37967f74d6",
     "prev": "638df7e1-84d1-4fd4-a15c-c94b731d1bea",
     "regions": {
      "2e85c1b2-3c30-413e-9b0f-141281da3a2a": {
       "attrs": {
        "height": 0.8,
        "width": 0.8,
        "x": 0.1,
        "y": 0.1
       },
       "content": {
        "cell": "998dc7f5-ab6d-4fb8-866f-4fa96a06aaaa",
        "part": "whole"
       },
       "id": "2e85c1b2-3c30-413e-9b0f-141281da3a2a"
      }
     }
    },
    "9add3d79-8621-4167-8e1d-d4ae48fba71b": {
     "id": "9add3d79-8621-4167-8e1d-d4ae48fba71b",
     "prev": "7ea582c3-439d-4ec2-9f27-dea18bcacc31",
     "regions": {
      "d5f4537e-4d8c-4179-b14b-6c475f50b04e": {
       "attrs": {
        "height": 0.8,
        "width": 0.8,
        "x": 0.1,
        "y": 0.1
       },
       "content": {
        "cell": "9659b1c1-9aed-4d71-b830-4a60d408ad71",
        "part": "whole"
       },
       "id": "d5f4537e-4d8c-4179-b14b-6c475f50b04e"
      }
     }
    },
    "9bfe6214-4631-45b5-a05e-8923f178bb57": {
     "id": "9bfe6214-4631-45b5-a05e-8923f178bb57",
     "prev": "30509a9a-dbd8-4dbd-9fab-852a7266d894",
     "regions": {
      "aac53254-d149-49f2-8f92-670c6f2714bb": {
       "attrs": {
        "height": 0.8,
        "width": 0.8,
        "x": 0.1,
        "y": 0.1
       },
       "content": {
        "cell": "c71a78d7-9d0e-4825-9c84-9998f971317d",
        "part": "whole"
       },
       "id": "aac53254-d149-49f2-8f92-670c6f2714bb"
      }
     }
    },
    "b9dddf99-da24-46e1-81d4-8ac33b6fc3a3": {
     "id": "b9dddf99-da24-46e1-81d4-8ac33b6fc3a3",
     "prev": "1390653e-bdb6-444a-b611-39c60ffb77a1",
     "regions": {
      "0b31dbb4-f15b-4a16-9420-c5dc8ed4e871": {
       "attrs": {
        "height": 0.8,
        "width": 0.8,
        "x": 0.1,
        "y": 0.1
       },
       "content": {
        "cell": "d0569bb0-fad8-48b7-8d48-0066bfb90401",
        "part": "whole"
       },
       "id": "0b31dbb4-f15b-4a16-9420-c5dc8ed4e871"
      }
     }
    },
    "ba274d18-2760-4e55-ad47-2727b824fd00": {
     "id": "ba274d18-2760-4e55-ad47-2727b824fd00",
     "prev": "ed47079d-58cf-4b87-a9fa-a709d8a7c3c6",
     "regions": {
      "13000b51-bd66-4fb5-970b-20bfad440880": {
       "attrs": {
        "height": 0.8,
        "width": 0.8,
        "x": 0.1,
        "y": 0.1
       },
       "content": {
        "cell": "f6847886-4044-43a7-9edd-f18efddcb7a9",
        "part": "whole"
       },
       "id": "13000b51-bd66-4fb5-970b-20bfad440880"
      }
     }
    },
    "ed47079d-58cf-4b87-a9fa-a709d8a7c3c6": {
     "id": "ed47079d-58cf-4b87-a9fa-a709d8a7c3c6",
     "prev": "9add3d79-8621-4167-8e1d-d4ae48fba71b",
     "regions": {
      "a96aea94-1714-4020-83f9-dbc03e9fd55e": {
       "attrs": {
        "height": 0.8,
        "width": 0.8,
        "x": 0.1,
        "y": 0.1
       },
       "content": {
        "cell": "5a579720-fa62-4525-85e3-dd049cbd73be",
        "part": "whole"
       },
       "id": "a96aea94-1714-4020-83f9-dbc03e9fd55e"
      }
     }
    },
    "ee33e624-cd65-4b8c-b28b-c95623a56dbf": {
     "id": "ee33e624-cd65-4b8c-b28b-c95623a56dbf",
     "prev": "999513ad-b53e-4d84-b9ef-ed37967f74d6",
     "regions": {
      "325ae98d-0855-4d16-8408-6d12f47efa24": {
       "attrs": {
        "height": 0.8,
        "width": 0.8,
        "x": 0.1,
        "y": 0.1
       },
       "content": {
        "cell": "829150e0-712b-4739-92d6-37b9c3d789cb",
        "part": "whole"
       },
       "id": "325ae98d-0855-4d16-8408-6d12f47efa24"
      }
     }
    },
    "f0727a74-61a1-48c1-94a5-3e7490c29f0b": {
     "id": "f0727a74-61a1-48c1-94a5-3e7490c29f0b",
     "prev": "6d7ab34f-9d99-4c74-9877-27b25abc73f0",
     "regions": {
      "1666081e-448d-4f80-90f2-9f26f1568cdc": {
       "attrs": {
        "height": 0.8,
        "width": 0.8,
        "x": 0.1,
        "y": 0.1
       },
       "content": {
        "cell": "d99a804c-9444-418b-bc94-3c2f064e2844",
        "part": "whole"
       },
       "id": "1666081e-448d-4f80-90f2-9f26f1568cdc"
      }
     }
    },
    "f3f10f50-4cad-4149-b308-c66e6a493a72": {
     "id": "f3f10f50-4cad-4149-b308-c66e6a493a72",
     "prev": "42d1bd80-265e-4acf-bbc1-b202afddade3",
     "regions": {
      "4fc1185f-bdb8-46fc-99bd-b8d30defeca9": {
       "attrs": {
        "height": 0.8,
        "width": 0.8,
        "x": 0.1,
        "y": 0.1
       },
       "content": {
        "cell": "9b7597e9-aaa9-4d9f-ba0d-22f43d1a3900",
        "part": "whole"
       },
       "id": "4fc1185f-bdb8-46fc-99bd-b8d30defeca9"
      }
     }
    },
    "febe7de9-9362-4079-bfe9-2d4dfddf00e2": {
     "id": "febe7de9-9362-4079-bfe9-2d4dfddf00e2",
     "prev": "6bda9eb4-0724-4e53-9971-131d0cb5f9e2",
     "regions": {
      "42348103-1cd6-4bac-b346-33cd41aea444": {
       "attrs": {
        "height": 0.8,
        "width": 0.8,
        "x": 0.1,
        "y": 0.1
       },
       "content": {
        "cell": "35a148d4-f201-4441-bf5e-8a07f93dea84",
        "part": "whole"
       },
       "id": "42348103-1cd6-4bac-b346-33cd41aea444"
      }
     }
    }
   },
   "themes": {}
  }
 },
 "nbformat": 4,
 "nbformat_minor": 2
}