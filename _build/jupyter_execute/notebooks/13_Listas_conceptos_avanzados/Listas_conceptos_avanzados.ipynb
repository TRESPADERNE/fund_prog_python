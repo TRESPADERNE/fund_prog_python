{
 "cells": [
  {
   "cell_type": "markdown",
   "metadata": {},
   "source": [
    "# Listas: conceptos avanzados\n",
    "**Autores**: Rogelio Mazaeda Echevarría, Félix Miguel Trespaderne.   "
   ]
  },
  {
   "cell_type": "markdown",
   "metadata": {},
   "source": [
    "## Contenidos\n",
    "[Cortes (slices)](#Cortes)<br>\n",
    "[La mutabilidad de las listas](#La_mutabilidad_de_las_listas)<br>\n",
    "[Copia superficial y copia profunda](#Copia_superficial)"
   ]
  },
  {
   "cell_type": "markdown",
   "metadata": {},
   "source": [
    "***\n",
    "<a id='Cortes'></a>"
   ]
  },
  {
   "cell_type": "markdown",
   "metadata": {},
   "source": [
    "## Cortes (slices)\n",
    "\n",
    "Existe un modo muy conveniente para hacer referencia a un conjunto de elementos, una sublista, dentro de la lista. Son los llamados **cortes** (**slices**).\n",
    "\n",
    "La especificación del **corte** involucra el uso del signo `:` dentro de los corchetes, flanqueado opcionalmente por dos enteros que especifican los extremos del **corte**. El extremo inferior estará incluido en el corte, pero el superior no.\n",
    "\n",
    "Véanse los ejemplos que siguen, ejecutando las celdas en orden:"
   ]
  },
  {
   "cell_type": "code",
   "execution_count": 1,
   "metadata": {},
   "outputs": [
    {
     "data": {
      "text/plain": [
       "[20, 30]"
      ]
     },
     "execution_count": 1,
     "metadata": {},
     "output_type": "execute_result"
    }
   ],
   "source": [
    "datos = [1, 20, 30, 40, 5]\n",
    "datos[1:3]"
   ]
  },
  {
   "cell_type": "markdown",
   "metadata": {},
   "source": [
    "Si alguno de los extremos falta, eso implica que todos los elementos desde el principio de la lista (en caso de que falte el primero) y/o hasta el final (en caso de que falte el segundo) son incluidos en el corte."
   ]
  },
  {
   "cell_type": "code",
   "execution_count": 2,
   "metadata": {},
   "outputs": [
    {
     "name": "stdout",
     "output_type": "stream",
     "text": [
      "[1, 20, 30, 40, 5]    datos[1:]   -->  [20, 30, 40, 5]\n",
      "[1, 20, 30, 40, 5]    datos[:3]   -->  [1, 20, 30]\n",
      "[1, 20, 30, 40, 5]    datos[:]    -->  [1, 20, 30, 40, 5]\n",
      "[1, 20, 30, 40, 5]    datos[:-1]  -->  [1, 20, 30, 40]\n",
      "[1, 20, 30, 40, 5]    datos[:-2]  -->  [1, 20, 30]\n",
      "[1, 20, 30, 40, 5]    datos[2:2]  -->  []\n"
     ]
    }
   ],
   "source": [
    "print(datos, '   datos[1:]   --> ', datos[1:])   #imprime los elementos desde el segundo hasta el final de la lista\n",
    "print(datos, '   datos[:3]   --> ', datos[:3])   #imprime los elementos desde el primero hasta el índice 2 incluído\n",
    "print(datos, '   datos[:]    --> ', datos[:])    #imprime todos los elementos de la lista\n",
    "print(datos, '   datos[:-1]  --> ', datos[:-1])  #imprime todos los elementos de la lista, exluyendo el último\n",
    "print(datos, '   datos[:-2]  --> ', datos[:-2])  #imprime todos los elementos de la lista, exluyendo los dos últimos\n",
    "print(datos, '   datos[2:2]  --> ', datos[2:2])  #imprime la lista vacía"
   ]
  },
  {
   "cell_type": "markdown",
   "metadata": {},
   "source": [
    "¿Qué ha pasado en el último ejemplo? Si los índices superior e inferior del _corte_ coinciden, la lista resultante es la lista vacía. Más adelante encontraremos utilidad a este tipo de construcción."
   ]
  },
  {
   "cell_type": "markdown",
   "metadata": {},
   "source": [
    "En realidad, la sintaxis del corte permite un tercer parámetro entero opcional que indica el _paso_ con el que se van a tomar los datos. Si falta, el _paso_ por defecto es 1. Ver ejemplo a continuación:"
   ]
  },
  {
   "cell_type": "code",
   "execution_count": 3,
   "metadata": {},
   "outputs": [
    {
     "name": "stdout",
     "output_type": "stream",
     "text": [
      "[0, 1, 2, 3, 4, 5, 6, 7, 8, 9, 10, 11, 12, 13, 14, 15, 16, 17, 18, 19]\n",
      "[2, 4, 6, 8, 10]\n"
     ]
    }
   ],
   "source": [
    "a = list(range(20))\n",
    "b = a[2:11:2]\n",
    "print(a)\n",
    "print(b)"
   ]
  },
  {
   "cell_type": "markdown",
   "metadata": {},
   "source": [
    "Observe el uso del *paso* para elegir de la lista original los números de dos en dos."
   ]
  },
  {
   "cell_type": "markdown",
   "metadata": {},
   "source": [
    "***\n",
    "<a id='La_mutabilidad_de_las_listas'></a>"
   ]
  },
  {
   "cell_type": "markdown",
   "metadata": {},
   "source": [
    "## La mutabilidad de las listas\n",
    "\n",
    "### Creando _Alias_\n",
    "\n",
    "Las listas son **objetos mutables** que pueden ser modificados _in situ_. Cuando se utiliza el signo `=` para realizar una _asignación_ de listas, en realidad lo que ocurre es que existirán, a partir de ese momento, dos _nombres_ (dos _etiquetas_ por así decirlo) que hacen referencia al mismo objeto en memoria: los datos de la lista original."
   ]
  },
  {
   "cell_type": "code",
   "execution_count": 4,
   "metadata": {},
   "outputs": [
    {
     "name": "stdout",
     "output_type": "stream",
     "text": [
      "[10, 2, 3]\n",
      "A través de b vemos el cambio hecho con a.\n",
      "[10, 2, 3]\n"
     ]
    }
   ],
   "source": [
    "a = [1, 2, 3]\n",
    "b = a\n",
    "a[0] = 10\n",
    "print(a)\n",
    "print('A través de b vemos el cambio hecho con a.')\n",
    "print(b)"
   ]
  },
  {
   "cell_type": "markdown",
   "metadata": {},
   "source": [
    "¿Que ha pasado? \n",
    "\n",
    "Es importante comprender que, a diferencia de lo que ocurre en otros lenguajes de programación, cuando se utiliza el signo de asignación `=`, como en la línea 2 del código previo, no se crea un nuevo objeto en memoria, sino que se define un nuevo nombre, un **alias**, para referirnos al objeto previamente existente.\n",
    "\n",
    "Para los objetos **inmutables**, como las cadenas de caracteres, este hecho no tiene mayores implicaciones, porque el dato referenciado nunca va a cambiar. Sin embargo, en el caso de las listas (y otras colecciones que veremos), como son **mutables**, el hecho de que se modifique el objeto subyacente a través de uno de los identificadores, hace que la operación también sea *percibida* a través de los otros identificadores que constituyen *alias* del primero. Este resultado suele sorprender a aquellos programadores sin experiencia previa en Pyhton.\n",
    "\n",
    "El siguiente esquema ilustra lo que ha pasado.\n",
    "\n",
    "![Listas2.jpg](img/Listas2.jpg)\n",
    "\n",
    "De manera que ahora se entiende por qué el cambio del primer elemento de `a` implica también un cambio en `b`, puesto que hacen referencia al mismo conjunto de datos"
   ]
  },
  {
   "cell_type": "markdown",
   "metadata": {},
   "source": [
    "#### La función `id()` y operador `is`\n",
    "\n",
    "En este contexto, la función nativa `id()` y el operador `is` son recursos que nos ayudan a verificar los conceptos que se están discutiendo.\n",
    "\n",
    "* `id()` nos devuelve un entero que identifica de manera única los valores en memoria. Puede concebirse como una identificación de la localización de memoria en que se encuentra el dato.\n",
    "* `is` es un operado binario que devuelve un valor lógico que será `True` si dos identificadores hacer referencia al mismo valor en memoria.\n"
   ]
  },
  {
   "cell_type": "code",
   "execution_count": 5,
   "metadata": {},
   "outputs": [
    {
     "name": "stdout",
     "output_type": "stream",
     "text": [
      "La dirección en memoria de 'a' es 2695594051208 y la de su alias 'b' es 2695594051208\n",
      "Por tanto, podemos concluir que 'a' es 'b' y viceversa es una afirmación True\n",
      "Sin embargo, 'c' (aunque tiene el mismo contenido) tiene dirección:  2695594054856\n",
      "Por tanto que 'a' (y 'b') no son el mismo objeto que 'c' es True\n",
      "Pero afirmar que si tienen contenidos idénticos es True\n"
     ]
    }
   ],
   "source": [
    "a = [1, 2, 3]\n",
    "b = a\n",
    "c = [1, 2, 3]\n",
    "\n",
    "print(\"La dirección en memoria de 'a' es {} y la de su alias 'b' es {}\".format(id(a), id(b)))\n",
    "print(\"Por tanto, podemos concluir que 'a' es 'b' y viceversa es una afirmación\", a is b)\n",
    "\n",
    "print(\"Sin embargo, 'c' (aunque tiene el mismo contenido) tiene dirección: \", id(c))\n",
    "print(\"Por tanto que 'a' (y 'b') no son el mismo objeto que 'c' es\", a is not c)\n",
    "\n",
    "print(\"Pero afirmar que si tienen contenidos idénticos es\", a == b)"
   ]
  },
  {
   "cell_type": "markdown",
   "metadata": {},
   "source": [
    "### Revisitando las asignaciones de valores simples\n",
    "Los valores simples como los de tipo `int`, `float`, etc. que hemos visto son calificados por Python como **valores inmutables**. Esta afirmación puede resultar sorprendente. ¿Qué pasa entonces cuando se ejecuta un simple código de actualización como el siguiente?\n",
    "\n",
    "```Python\n",
    "cont = 1\n",
    "cont = cont + 1\n",
    "```\n",
    "La interpretación correcta, si se tratara de un lenguaje como C/C++, sería la que se muestra en el siguiente diagrama.\n",
    "![Listas3.jpg](img/Listas3.jpg)\n",
    "\n",
    "El lenguaje asignaría una localización de memoria concreta a la **variable** `cont` (en el ejemplo se ha utilizado para el propósito de ilustración una *localización* de memoria concreta de dirección 0x00FF en hexadecimal). Esta asociación entre las celdas de memoria y el nombre de la variable perdurará mientras dicha variable exista. De manera que, cuando se ejecuta la segunda línea del programa, la localización de memoria que antes contenía un `1` ahora pasaría a contener un `2` (el valor que resulta de evaluar la expresión a la derecha del signo `=`)."
   ]
  },
  {
   "cell_type": "markdown",
   "metadata": {},
   "source": [
    "Por otra parte, si el mismo código lo interpretáramos como perteneciente a un programa de Python, aunque desde el punto de vista práctico el resultado sea idéntico, la _mecánica_ interna sería completamente diferente.\n",
    "\n",
    "![Listas4.jpg](img/Listas4.jpg)"
   ]
  },
  {
   "cell_type": "markdown",
   "metadata": {},
   "source": [
    "Evidentemente, también en el caso de Python, los valores serán almacenados en localizaciones de memoria concretas. Lo que ocurre es que, cuando se ejecuta la segunda sentencia, el resultado da lugar a un nuevo valor y ese valor será almacenado en una localización de memoria que en principio es completamente diferente. \n",
    "\n",
    "¿Qué pasa con el antiguo valor del `1`? Bueno, en principio no es necesario que permanezca en memoria. Eventualmente el **motor de tiempo de ejecución** (**runtime engine**) de Python se encargará de eliminarlo de la memoria utilizando un proceso que se conoce como **recolección de basura** (**garbage collection**). "
   ]
  },
  {
   "cell_type": "markdown",
   "metadata": {},
   "source": [
    "#### Mecanismo del recolector de basura\n",
    "Python mantiene internamente un *contador* que registra cuantos **identificadores** están en cada momento haciendo referencia a una localización en memoria. Cuando ese contador llega a cero, quiere decir que la memoria que ocupaba deja de ser necesaria y puede ser devuelta al Sistema Operativo, para ser reutilizada posteriormente, por nuestro programa o por cualquier otro. Esta es otra de las tantas diferencias notables entre C/C++ y Python. En C/C++, siendo un lenguaje de más bajo nivel, el programador es completamente responsable del manejo de memoria."
   ]
  },
  {
   "cell_type": "markdown",
   "metadata": {},
   "source": [
    "#### Ejemplo que muestra la inmutabilidad de los datos simples\n",
    "¿Por qué en el caso de los datos simples no nos habíamos percatado del comportamiento derivado de los **alias** como hemos visto más arriba con las listas? \n",
    "\n",
    "Precisamente debido a que los datos simples son **inmutables**. Vea la siguiente situación:\n",
    "\n",
    "```Python\n",
    "lado1 = lado2 = 2.0\n",
    "lado2 = 3.0\n",
    "print(lado1*lado2)\n",
    "```\n",
    "\n",
    "¿Qué saldrá por pantalla? Nuestra intuición (y probablemente la intención del programador) nos dice que saldrá el valor `6.0`. \n",
    "\n",
    "Pero ¿acaso saldrá el valor `9.0` y tendremos un comportamiento similar al experimentado antes con las listas? \n",
    "\n",
    "Afortunadamente la respuesta es `6.0` (pueden comprobarlo) y la razón es precisamente que, aunque es cierto que en Python los identificadores de valores actúan como etiquetas, en este caso, como los valores son inmutables, cualquier asignación crea un valor nuevo diferente en una localización de memoria también distinta. "
   ]
  },
  {
   "cell_type": "markdown",
   "metadata": {},
   "source": [
    "Véase la traza y el esquema de lo que ocurre.\n",
    "\n",
    "![Listas5.jpg](img/Listas5.jpg)\n",
    "\n",
    "Inicialmente, tanto `lado1`como `lado2` hacían referencia al mismo valor `2.0`. En la siguiente sentencia, `lado2` deja de hacer referencia al valor previo y ahora apunta a un nuevo valor (`3.0`) en alguna otra localización de memoria. Pero el valor `2.0` sigue en memoria, donde antes estaba, porque todavía hay una referencia (`lado1`) que *apunta* a él y eso impide que dicha memoria sea reclamada por el **recolector de basura**."
   ]
  },
  {
   "cell_type": "code",
   "execution_count": 6,
   "metadata": {},
   "outputs": [
    {
     "name": "stdout",
     "output_type": "stream",
     "text": [
      "id(lado1) = 2695594378544   id(lado2) = 2695594378544    lado1 is lado2 = True\n",
      "id(lado1) = 2695594378544   id(lado2) = 2695594378352    lado1 is lado2 = False\n",
      "6.0\n"
     ]
    }
   ],
   "source": [
    "lado1 = lado2 = 2.0\n",
    "print(\"id(lado1) =\", id(lado2), \"  id(lado2) =\", id(lado2), \"   lado1 is lado2 =\", lado1 is lado2)\n",
    "\n",
    "lado2 = 3.0\n",
    "print(\"id(lado1) =\", id(lado1), \"  id(lado2) =\", id(lado2), \"   lado1 is lado2 =\", lado1 is lado2)\n",
    "\n",
    "print(lado1*lado2)"
   ]
  },
  {
   "cell_type": "markdown",
   "metadata": {},
   "source": [
    "La discusión previa, en lo que se refiere a los datos simples, puede ser ignorada en el día a día de la programación. En el caso de los datos mutables como las listas, estas consideraciones si que son relavantes."
   ]
  },
  {
   "cell_type": "markdown",
   "metadata": {},
   "source": [
    "***\n",
    "<a id='Copia_superficial'></a>"
   ]
  },
  {
   "cell_type": "markdown",
   "metadata": {},
   "source": [
    "## Copia superficial y copia profunda\n",
    "Hemos visto que, el uso del operador `=` para copiar una lista completa, en realidad lo que logra es crear una nueva referencia al mismo objeto de memoria, que es además mutable. Muchas veces es precisamente esto lo que se quiere lograr: dar un nuevo nombre, un *alias* al objeto subyacente: el contenido de la lista almacenado en memoria.\n",
    "\n",
    "Pero en otras ocasiones queremos obtener otra lista que tenga los mismos elementos, pero que haga referencia a objetos distintos en memoria. En este caso, lo apropiado es hacer realmente una copia de los datos. \n",
    "\n",
    "Esto se puede realizar, para el caso de las listas no anidadas, utilizando el concepto de **corte** (**slice**) de la forma que se recoge a continuación:\n",
    "\n",
    "```python\n",
    "vector1 = [1.1, 2.0, 4.5]\n",
    "vector2 = vector1[:]\n",
    "```\n",
    "\n",
    "![Listas6.jpg](img/Listas6.jpg)\n",
    "\n",
    "La copia que se realiza con código similar al anterior, utilizando **cortes**, realiza una copia *bit a bit* desde la fuente al destino. Este tipo de copia funciona perfectamente para listas simples como las del ejemplo, como se puede comprobar en la celda siguiente:"
   ]
  },
  {
   "cell_type": "code",
   "execution_count": 7,
   "metadata": {},
   "outputs": [
    {
     "name": "stdout",
     "output_type": "stream",
     "text": [
      "[1.1, 2.0, 4.5]\n",
      "[1.1, 2.0, 0]\n"
     ]
    }
   ],
   "source": [
    "vector1 = [1.1, 2.0, 4.5]\n",
    "vector2 = vector1[:]\n",
    "vector2[2] = 0\n",
    "print(vector1)\n",
    "print(vector2)"
   ]
  },
  {
   "cell_type": "markdown",
   "metadata": {},
   "source": [
    "Otra forma de realizar la copia superficial anterior es utilizando la función `list()` de la siguiente forma:\n",
    "\n",
    "```python\n",
    "vector2 = list(vector1)\n",
    "```\n",
    "\n",
    "o usando el método `copy()` de las listas."
   ]
  },
  {
   "cell_type": "code",
   "execution_count": 8,
   "metadata": {},
   "outputs": [
    {
     "name": "stdout",
     "output_type": "stream",
     "text": [
      "'a' es igual a 'b' True\n",
      "porque de hecho b es un 'alias de a: la memoria es la misma:' True\n",
      "'b' sigue siendo igual a 'c' True\n",
      "pero ya no constituyen el mismo objeto en memoria: False\n"
     ]
    }
   ],
   "source": [
    "a = [1, 2, 3, \"a\"]\n",
    "b = a\n",
    "print(\"'a' es igual a 'b'\", a == b)\n",
    "print(\"porque de hecho b es un 'alias de a: la memoria es la misma:'\", a is b)\n",
    "c = b.copy()\n",
    "print(\"'b' sigue siendo igual a 'c'\", b == c)\n",
    "print(\"pero ya no constituyen el mismo objeto en memoria:\", b is c)"
   ]
  },
  {
   "cell_type": "markdown",
   "metadata": {},
   "source": [
    "### Copia superficial (shallow copy)\n",
    "Para estructuras más complicadas como, por ejemplo, para la lista del ejemplo siguiente, la copia con *cortes* tampoco brinda el resultado satisfactorio que se busca de obtener dos listas completamente separadas.\n",
    "\n",
    "```python\n",
    "a = [1, 2, [3, 4]]\n",
    "b = a[:]\n",
    "```\n",
    "![Listas7.jpg](img/Listas7.jpg)\n",
    "\n",
    "Se puede observar en el diagrama que la sublista `[3, 4]` que está incluida en `a`, es accedida a su vez mediante una referencia que apunta a las localizaciones de memoria que realmente la almacenan. Cuando ahora se realiza la copia *bit a bit* de `a` hacia `b` utilizando *cortes*, se copian, no los datos de la sublista, sino los bits (apuntadores) que hacen referencia a la misma. La copia que se logra de esta forma es una **copia superficial** (**shallow copy**).\n",
    "\n",
    "Si ahora se cambia el valor del primer elemento de la lista `a`:\n",
    "\n",
    "```python\n",
    "a[0] = 10\n",
    "```\n",
    "solamente se modifica la copia que pertenece en exclusiva a dicha variable.\n",
    "\n",
    "Pero si se intenta modificar un elemento de la sublista que aparece como tercer elemento de `a`, se modificará la lista compartida común entre `a` y `b`.\n",
    "\n",
    "```python\n",
    "a[2][0] = 20\n",
    "```"
   ]
  },
  {
   "cell_type": "code",
   "execution_count": 9,
   "metadata": {},
   "outputs": [
    {
     "name": "stdout",
     "output_type": "stream",
     "text": [
      "a:  [10, 2, [20, 4]]\n",
      "b:  [1, 2, [20, 4]]\n"
     ]
    }
   ],
   "source": [
    "a = [1, 2, [3, 4]]\n",
    "b = a[:]\n",
    "a[0] = 10\n",
    "a[2][0] = 20\n",
    "print('a: ', a)\n",
    "print('b: ', b)"
   ]
  },
  {
   "cell_type": "markdown",
   "metadata": {},
   "source": [
    "### Copia profunda (Deep copy)\n",
    "Se puede realizar una **copia profunda** (**deep copy**) que funcione para listas anidadas. Pero, para ello, hay que recurrir a bibliotecas de funciones: en particular en el módulo `copy` tenemos la función `deepcopy()`.\n",
    "\n",
    "```python\n",
    "from copy import deepcopy\n",
    "\n",
    "a = [1, 2, [3, 4]]\n",
    "b = deepcopy(a)\n",
    "```\n",
    "El diagrama resultante después de la copia profunda será el que se muestra a continuación.\n",
    "\n",
    "![Listas8.jpg](img/Listas8.jpg)"
   ]
  },
  {
   "cell_type": "code",
   "execution_count": 10,
   "metadata": {},
   "outputs": [
    {
     "name": "stdout",
     "output_type": "stream",
     "text": [
      "a:  [10, 2, [20, 4]]\n",
      "b:  [1, 2, [3, 4]]\n"
     ]
    }
   ],
   "source": [
    "from copy import deepcopy\n",
    "\n",
    "a = [1, 2, [3, 4]]\n",
    "b = deepcopy(a)\n",
    "a[0] = 10\n",
    "a[2][0] = 20\n",
    "print('a: ', a)\n",
    "print('b: ', b)"
   ]
  }
 ],
 "metadata": {
  "anaconda-cloud": {},
  "celltoolbar": "Raw Cell Format",
  "kernelspec": {
   "display_name": "Python 3",
   "language": "python",
   "name": "python3"
  },
  "language_info": {
   "codemirror_mode": {
    "name": "ipython",
    "version": 3
   },
   "file_extension": ".py",
   "mimetype": "text/x-python",
   "name": "python",
   "nbconvert_exporter": "python",
   "pygments_lexer": "ipython3",
   "version": "3.7.7"
  },
  "nbpresent": {
   "slides": {
    "1390653e-bdb6-444a-b611-39c60ffb77a1": {
     "id": "1390653e-bdb6-444a-b611-39c60ffb77a1",
     "prev": "5c2c8cc8-3676-4c06-b94c-d3f866ade69b",
     "regions": {
      "620813b3-9326-41e6-9d30-f5ac4f858225": {
       "attrs": {
        "height": 0.8,
        "width": 0.8,
        "x": 0.1,
        "y": 0.1
       },
       "content": {
        "cell": "86423d42-e808-47e6-b1a7-e925e195f821",
        "part": "whole"
       },
       "id": "620813b3-9326-41e6-9d30-f5ac4f858225"
      }
     }
    },
    "21036f68-a492-4532-a832-b213435c0ad2": {
     "id": "21036f68-a492-4532-a832-b213435c0ad2",
     "prev": "2c1c7f11-e5ee-4a25-8975-f0b033ba739a",
     "regions": {
      "a3908958-0784-4faa-ac97-b9325abe8ede": {
       "attrs": {
        "height": 0.8,
        "width": 0.8,
        "x": 0.1,
        "y": 0.1
       },
       "content": {
        "cell": "9aa64747-dc13-4bd9-bf26-73606628ad1c",
        "part": "whole"
       },
       "id": "a3908958-0784-4faa-ac97-b9325abe8ede"
      }
     }
    },
    "2c1c7f11-e5ee-4a25-8975-f0b033ba739a": {
     "id": "2c1c7f11-e5ee-4a25-8975-f0b033ba739a",
     "prev": "f3f10f50-4cad-4149-b308-c66e6a493a72",
     "regions": {
      "9e2d820e-ec17-4915-b960-0e0d5f640379": {
       "attrs": {
        "height": 0.8,
        "width": 0.8,
        "x": 0.1,
        "y": 0.1
       },
       "content": {
        "cell": "0281a659-abae-4cb9-b30f-b552b9db399e",
        "part": "whole"
       },
       "id": "9e2d820e-ec17-4915-b960-0e0d5f640379"
      }
     }
    },
    "30509a9a-dbd8-4dbd-9fab-852a7266d894": {
     "id": "30509a9a-dbd8-4dbd-9fab-852a7266d894",
     "prev": "8b078b7a-c2c6-4129-a19f-2a4f5c4a26f3",
     "regions": {
      "7baa4379-8f84-4d8f-b002-5a5ffd051489": {
       "attrs": {
        "height": 0.8,
        "width": 0.8,
        "x": 0.1,
        "y": 0.1
       },
       "content": {
        "cell": "14d1a927-b37f-4323-9404-17d453f3b487",
        "part": "whole"
       },
       "id": "7baa4379-8f84-4d8f-b002-5a5ffd051489"
      }
     }
    },
    "42d1bd80-265e-4acf-bbc1-b202afddade3": {
     "id": "42d1bd80-265e-4acf-bbc1-b202afddade3",
     "prev": "9bfe6214-4631-45b5-a05e-8923f178bb57",
     "regions": {
      "f2340145-4108-4fed-a0bc-4b91ca6c10ae": {
       "attrs": {
        "height": 0.8,
        "width": 0.8,
        "x": 0.1,
        "y": 0.1
       },
       "content": {
        "cell": "80be6133-d85a-4e43-9964-6578abcbaaac",
        "part": "whole"
       },
       "id": "f2340145-4108-4fed-a0bc-4b91ca6c10ae"
      }
     }
    },
    "5c2c8cc8-3676-4c06-b94c-d3f866ade69b": {
     "id": "5c2c8cc8-3676-4c06-b94c-d3f866ade69b",
     "prev": "6c4bc874-f3fc-472c-a81c-cd415b91c24b",
     "regions": {
      "e1de7ab6-4ef2-4b14-92d7-b174bf32806e": {
       "attrs": {
        "height": 0.8,
        "width": 0.8,
        "x": 0.1,
        "y": 0.1
       },
       "content": {
        "cell": "ae8725fa-30f7-4d7f-a2c2-5f86953d730b",
        "part": "whole"
       },
       "id": "e1de7ab6-4ef2-4b14-92d7-b174bf32806e"
      }
     }
    },
    "5cab5674-74dc-4378-93d7-eaa79e90cdae": {
     "id": "5cab5674-74dc-4378-93d7-eaa79e90cdae",
     "prev": "ba274d18-2760-4e55-ad47-2727b824fd00",
     "regions": {
      "2178d7cf-bf1e-4850-95a2-1509f15febfa": {
       "attrs": {
        "height": 0.8,
        "width": 0.8,
        "x": 0.1,
        "y": 0.1
       },
       "content": {
        "cell": "5d433d13-f44a-45bb-91fd-406f60b33b67",
        "part": "whole"
       },
       "id": "2178d7cf-bf1e-4850-95a2-1509f15febfa"
      }
     }
    },
    "638df7e1-84d1-4fd4-a15c-c94b731d1bea": {
     "id": "638df7e1-84d1-4fd4-a15c-c94b731d1bea",
     "prev": "b9dddf99-da24-46e1-81d4-8ac33b6fc3a3",
     "regions": {
      "deba8b1f-d997-4426-8f1b-978df7f19b41": {
       "attrs": {
        "height": 0.8,
        "width": 0.8,
        "x": 0.1,
        "y": 0.1
       },
       "content": {
        "cell": "7adaaf8f-a83e-456b-b99a-d3b3d4cb6d1a",
        "part": "whole"
       },
       "id": "deba8b1f-d997-4426-8f1b-978df7f19b41"
      }
     }
    },
    "6bda9eb4-0724-4e53-9971-131d0cb5f9e2": {
     "id": "6bda9eb4-0724-4e53-9971-131d0cb5f9e2",
     "prev": "ee33e624-cd65-4b8c-b28b-c95623a56dbf",
     "regions": {
      "feffbbd2-27d1-4318-8359-7d57583ee2bc": {
       "attrs": {
        "height": 0.8,
        "width": 0.8,
        "x": 0.1,
        "y": 0.1
       },
       "content": {
        "cell": "8dce188c-36b7-41fa-9020-b5cb5502e452",
        "part": "whole"
       },
       "id": "feffbbd2-27d1-4318-8359-7d57583ee2bc"
      }
     }
    },
    "6c4bc874-f3fc-472c-a81c-cd415b91c24b": {
     "id": "6c4bc874-f3fc-472c-a81c-cd415b91c24b",
     "prev": null,
     "regions": {
      "c9eac7e8-d033-4b03-8bf7-abd58ffe8d41": {
       "attrs": {
        "height": 0.8,
        "width": 0.8,
        "x": 0.1,
        "y": 0.1
       },
       "content": {
        "cell": "71219fc3-c9cb-4700-9f0b-ab38b1b223da",
        "part": "whole"
       },
       "id": "c9eac7e8-d033-4b03-8bf7-abd58ffe8d41"
      }
     }
    },
    "6d7ab34f-9d99-4c74-9877-27b25abc73f0": {
     "id": "6d7ab34f-9d99-4c74-9877-27b25abc73f0",
     "prev": "febe7de9-9362-4079-bfe9-2d4dfddf00e2",
     "regions": {
      "2ee252de-db5f-43e7-b4b7-7f59bba29962": {
       "attrs": {
        "height": 0.8,
        "width": 0.8,
        "x": 0.1,
        "y": 0.1
       },
       "content": {
        "cell": "85d1ab90-cc65-4935-808b-a6f57ecc892e",
        "part": "whole"
       },
       "id": "2ee252de-db5f-43e7-b4b7-7f59bba29962"
      }
     }
    },
    "7ea582c3-439d-4ec2-9f27-dea18bcacc31": {
     "id": "7ea582c3-439d-4ec2-9f27-dea18bcacc31",
     "prev": "f0727a74-61a1-48c1-94a5-3e7490c29f0b",
     "regions": {
      "652960af-b61f-4c36-b122-3eacd714867b": {
       "attrs": {
        "height": 0.8,
        "width": 0.8,
        "x": 0.1,
        "y": 0.1
       },
       "content": {
        "cell": "86172e20-fe16-447d-859f-24a81e563011",
        "part": "whole"
       },
       "id": "652960af-b61f-4c36-b122-3eacd714867b"
      }
     }
    },
    "8b078b7a-c2c6-4129-a19f-2a4f5c4a26f3": {
     "id": "8b078b7a-c2c6-4129-a19f-2a4f5c4a26f3",
     "prev": "5cab5674-74dc-4378-93d7-eaa79e90cdae",
     "regions": {
      "dce1e605-9342-414d-b8c6-7dcb922fbf47": {
       "attrs": {
        "height": 0.8,
        "width": 0.8,
        "x": 0.1,
        "y": 0.1
       },
       "content": {
        "cell": "ee1bdf03-6e13-4f1f-9dc9-22d4e344fdba",
        "part": "whole"
       },
       "id": "dce1e605-9342-414d-b8c6-7dcb922fbf47"
      }
     }
    },
    "999513ad-b53e-4d84-b9ef-ed37967f74d6": {
     "id": "999513ad-b53e-4d84-b9ef-ed37967f74d6",
     "prev": "638df7e1-84d1-4fd4-a15c-c94b731d1bea",
     "regions": {
      "2e85c1b2-3c30-413e-9b0f-141281da3a2a": {
       "attrs": {
        "height": 0.8,
        "width": 0.8,
        "x": 0.1,
        "y": 0.1
       },
       "content": {
        "cell": "998dc7f5-ab6d-4fb8-866f-4fa96a06aaaa",
        "part": "whole"
       },
       "id": "2e85c1b2-3c30-413e-9b0f-141281da3a2a"
      }
     }
    },
    "9add3d79-8621-4167-8e1d-d4ae48fba71b": {
     "id": "9add3d79-8621-4167-8e1d-d4ae48fba71b",
     "prev": "7ea582c3-439d-4ec2-9f27-dea18bcacc31",
     "regions": {
      "d5f4537e-4d8c-4179-b14b-6c475f50b04e": {
       "attrs": {
        "height": 0.8,
        "width": 0.8,
        "x": 0.1,
        "y": 0.1
       },
       "content": {
        "cell": "9659b1c1-9aed-4d71-b830-4a60d408ad71",
        "part": "whole"
       },
       "id": "d5f4537e-4d8c-4179-b14b-6c475f50b04e"
      }
     }
    },
    "9bfe6214-4631-45b5-a05e-8923f178bb57": {
     "id": "9bfe6214-4631-45b5-a05e-8923f178bb57",
     "prev": "30509a9a-dbd8-4dbd-9fab-852a7266d894",
     "regions": {
      "aac53254-d149-49f2-8f92-670c6f2714bb": {
       "attrs": {
        "height": 0.8,
        "width": 0.8,
        "x": 0.1,
        "y": 0.1
       },
       "content": {
        "cell": "c71a78d7-9d0e-4825-9c84-9998f971317d",
        "part": "whole"
       },
       "id": "aac53254-d149-49f2-8f92-670c6f2714bb"
      }
     }
    },
    "b9dddf99-da24-46e1-81d4-8ac33b6fc3a3": {
     "id": "b9dddf99-da24-46e1-81d4-8ac33b6fc3a3",
     "prev": "1390653e-bdb6-444a-b611-39c60ffb77a1",
     "regions": {
      "0b31dbb4-f15b-4a16-9420-c5dc8ed4e871": {
       "attrs": {
        "height": 0.8,
        "width": 0.8,
        "x": 0.1,
        "y": 0.1
       },
       "content": {
        "cell": "d0569bb0-fad8-48b7-8d48-0066bfb90401",
        "part": "whole"
       },
       "id": "0b31dbb4-f15b-4a16-9420-c5dc8ed4e871"
      }
     }
    },
    "ba274d18-2760-4e55-ad47-2727b824fd00": {
     "id": "ba274d18-2760-4e55-ad47-2727b824fd00",
     "prev": "ed47079d-58cf-4b87-a9fa-a709d8a7c3c6",
     "regions": {
      "13000b51-bd66-4fb5-970b-20bfad440880": {
       "attrs": {
        "height": 0.8,
        "width": 0.8,
        "x": 0.1,
        "y": 0.1
       },
       "content": {
        "cell": "f6847886-4044-43a7-9edd-f18efddcb7a9",
        "part": "whole"
       },
       "id": "13000b51-bd66-4fb5-970b-20bfad440880"
      }
     }
    },
    "ed47079d-58cf-4b87-a9fa-a709d8a7c3c6": {
     "id": "ed47079d-58cf-4b87-a9fa-a709d8a7c3c6",
     "prev": "9add3d79-8621-4167-8e1d-d4ae48fba71b",
     "regions": {
      "a96aea94-1714-4020-83f9-dbc03e9fd55e": {
       "attrs": {
        "height": 0.8,
        "width": 0.8,
        "x": 0.1,
        "y": 0.1
       },
       "content": {
        "cell": "5a579720-fa62-4525-85e3-dd049cbd73be",
        "part": "whole"
       },
       "id": "a96aea94-1714-4020-83f9-dbc03e9fd55e"
      }
     }
    },
    "ee33e624-cd65-4b8c-b28b-c95623a56dbf": {
     "id": "ee33e624-cd65-4b8c-b28b-c95623a56dbf",
     "prev": "999513ad-b53e-4d84-b9ef-ed37967f74d6",
     "regions": {
      "325ae98d-0855-4d16-8408-6d12f47efa24": {
       "attrs": {
        "height": 0.8,
        "width": 0.8,
        "x": 0.1,
        "y": 0.1
       },
       "content": {
        "cell": "829150e0-712b-4739-92d6-37b9c3d789cb",
        "part": "whole"
       },
       "id": "325ae98d-0855-4d16-8408-6d12f47efa24"
      }
     }
    },
    "f0727a74-61a1-48c1-94a5-3e7490c29f0b": {
     "id": "f0727a74-61a1-48c1-94a5-3e7490c29f0b",
     "prev": "6d7ab34f-9d99-4c74-9877-27b25abc73f0",
     "regions": {
      "1666081e-448d-4f80-90f2-9f26f1568cdc": {
       "attrs": {
        "height": 0.8,
        "width": 0.8,
        "x": 0.1,
        "y": 0.1
       },
       "content": {
        "cell": "d99a804c-9444-418b-bc94-3c2f064e2844",
        "part": "whole"
       },
       "id": "1666081e-448d-4f80-90f2-9f26f1568cdc"
      }
     }
    },
    "f3f10f50-4cad-4149-b308-c66e6a493a72": {
     "id": "f3f10f50-4cad-4149-b308-c66e6a493a72",
     "prev": "42d1bd80-265e-4acf-bbc1-b202afddade3",
     "regions": {
      "4fc1185f-bdb8-46fc-99bd-b8d30defeca9": {
       "attrs": {
        "height": 0.8,
        "width": 0.8,
        "x": 0.1,
        "y": 0.1
       },
       "content": {
        "cell": "9b7597e9-aaa9-4d9f-ba0d-22f43d1a3900",
        "part": "whole"
       },
       "id": "4fc1185f-bdb8-46fc-99bd-b8d30defeca9"
      }
     }
    },
    "febe7de9-9362-4079-bfe9-2d4dfddf00e2": {
     "id": "febe7de9-9362-4079-bfe9-2d4dfddf00e2",
     "prev": "6bda9eb4-0724-4e53-9971-131d0cb5f9e2",
     "regions": {
      "42348103-1cd6-4bac-b346-33cd41aea444": {
       "attrs": {
        "height": 0.8,
        "width": 0.8,
        "x": 0.1,
        "y": 0.1
       },
       "content": {
        "cell": "35a148d4-f201-4441-bf5e-8a07f93dea84",
        "part": "whole"
       },
       "id": "42348103-1cd6-4bac-b346-33cd41aea444"
      }
     }
    }
   },
   "themes": {}
  }
 },
 "nbformat": 4,
 "nbformat_minor": 2
}