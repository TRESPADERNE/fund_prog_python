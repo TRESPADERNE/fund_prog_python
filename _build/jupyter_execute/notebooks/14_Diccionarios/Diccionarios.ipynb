{
 "cells": [
  {
   "cell_type": "markdown",
   "metadata": {},
   "source": [
    "# Diccionarios\n",
    "**Autores**: Rogelio Mazaeda, Félix Miguel Trespaderne.   "
   ]
  },
  {
   "cell_type": "markdown",
   "metadata": {},
   "source": [
    "## Contenidos\n",
    "[Introducción](#Introducción)<br>\n",
    "[Diccionarios](#Diccionarios)<br>\n",
    "[Diccionarios_versus_listas](#Diccionarios_vs_listas)<br>\n",
    "[Operaciones con diccionarios](#Operacciones_con_diccionarios)<br>\n",
    "[El diccionario como iterable](#El_diccionario_como_iterable)<br>\n",
    "[Ejemplos con Diccionarios](#Ejemplos)"
   ]
  },
  {
   "cell_type": "markdown",
   "metadata": {},
   "source": [
    "***\n",
    "<a id='Introducción'></a>"
   ]
  },
  {
   "cell_type": "markdown",
   "metadata": {},
   "source": [
    "## Introducción.\n",
    "\n",
    "La posibilidad de crear en memoria y manipular de una manera consistente, conjuntos o colecciones de datos, es una funcionalidad básica que brindan los lenguajes de programación. Python es particularmente eficaz en este cometido, porque ofrece muchos de estos tipos de datos compuestos.\n",
    "\n",
    "Ya se ha visto con cierto detalle el tipo de datos **lista**. Representa un conjunto **secuencial** (con un orden implícito) de datos, que pueden ser de diferentes tipos. En la lista, la forma de acceder a los elementos es mediante el uso de un **índice** entero, que comienza en cero y que puede interpretarse como el *desplazamiento* a realizar desde el inicio de la lista hasta el elemento buscado. La lista es, desde luego, la colección más utilizada y es la adecuada para muchas aplicaciones.\n",
    "\n",
    "En otros casos, una organización diferente del conjunto de datos resulta más apropiada. \n",
    "\n",
    "Los **diccionarios** son colecciones en las que los datos almacenados no son *identificados* por un índice entero, sino por una **clave** (**key**) que, para cada colección, puede ser de diferente tipo.\n",
    "\n",
    "Entonces, la operación de acceso a los elementos del diccionario exige *presentar* la **clave** que lo identifica.\n",
    "\n",
    "```python\n",
    "primer_semestre = {1:'Enero', 2:'Febrero', 3:'Marzo', 4:'Abril', 5:'Mayo', 6:'Junio'}\n",
    "\n",
    "print('El primer mes es:', primer_semestre[1])\n",
    "```"
   ]
  },
  {
   "cell_type": "markdown",
   "metadata": {},
   "source": [
    "***\n",
    "<a id='Diccionarios'></a>"
   ]
  },
  {
   "cell_type": "markdown",
   "metadata": {},
   "source": [
    "## Diccionarios\n",
    "\n",
    "Los **diccionarios** son colecciones **iterables**, **no secuenciales** y **mutables** donde cada elemento está compuesto de una **clave** (que identifica de modo único al elemento) y el dato que se desea almacenar.\n",
    "\n",
    "Sintaxis:\n",
    "```python\n",
    "    {clave_1: dato_1, clave_2: dato_2, ..., clave_n: dato_n} \n",
    "```\n",
    "\n",
    "Nótese el uso de llaves `{..., ...}` en lugar de corchetes `[..., ...]`.\n",
    "\n",
    "#### Ejemplos:"
   ]
  },
  {
   "cell_type": "code",
   "execution_count": 1,
   "metadata": {},
   "outputs": [
    {
     "name": "stdout",
     "output_type": "stream",
     "text": [
      "{1: 'uno', 2: 'dos', 3: 'tres', 4: 'cuatro'}\n",
      "{'asignatura': 'Fundamentos de Programación', 'creditos': 6, 'tipos': ['teoría', 'prácticas']}\n",
      "{'persona': {'nombre': 'María', 'primer apellido': 'García', 'segundo apellido': 'Pérez'}, 'edad': 30}\n"
     ]
    }
   ],
   "source": [
    "num = {1: 'uno', 2: 'dos', 3: 'tres', 4: 'cuatro'}\n",
    "\n",
    "asig = {'asignatura': 'Fundamentos de Programación', 'creditos': 6, 'tipos': ['teoría', 'prácticas']} \n",
    "\n",
    "nom = {'persona': {'nombre': 'María', 'primer apellido': 'García', 'segundo apellido': 'Pérez'}, 'edad': 30}\n",
    "\n",
    "\n",
    "print(num)\n",
    "print(asig)\n",
    "print(nom)"
   ]
  },
  {
   "cell_type": "markdown",
   "metadata": {},
   "source": [
    "Como se observa, los **diccionarios** presentan una gran flexibilidad. Los datos pueden ser de cualquier tipo: datos simples, listas, incluso otros diccionarios, etc., con cualquier nivel de anidamiento. Las claves, sin embargo, tiene que ser tipos inmutables (enteros, cadenas, tuplas).\n",
    "\n",
    "Para acceder individualmente a los elementos de los diccionarios, se utiliza la sintaxis de los corchetes."
   ]
  },
  {
   "cell_type": "code",
   "execution_count": 2,
   "metadata": {},
   "outputs": [
    {
     "name": "stdout",
     "output_type": "stream",
     "text": [
      "uno\n"
     ]
    }
   ],
   "source": [
    "num = {1: 'uno', 2: 'dos', 3: 'tres', 4: 'cuatro'}\n",
    "\n",
    "print(num[1])"
   ]
  },
  {
   "cell_type": "markdown",
   "metadata": {},
   "source": [
    "En el caso de tener estructuras más complejas (anidadas) se deberá proceder en consecuencia. Por ejemplo:"
   ]
  },
  {
   "cell_type": "code",
   "execution_count": 3,
   "metadata": {},
   "outputs": [
    {
     "name": "stdout",
     "output_type": "stream",
     "text": [
      "García\n"
     ]
    }
   ],
   "source": [
    "nom = {'persona': {'nombre': 'María', 'primer apellido': 'García', 'segundo apellido': 'Pérez'}, 'edad': 30}\n",
    "\n",
    "print(nom['persona']['primer apellido'])"
   ]
  },
  {
   "cell_type": "markdown",
   "metadata": {},
   "source": [
    "En el ejemplo, en la clave `persona` del diccionario `nom`,  se almacena a su vez otro diccionario. Para acceder a la clave `primer apellido` del diccionario anidado, se procede de la forma mostrada."
   ]
  },
  {
   "cell_type": "markdown",
   "metadata": {},
   "source": [
    "Otro ejemplo:"
   ]
  },
  {
   "cell_type": "code",
   "execution_count": 4,
   "metadata": {},
   "outputs": [
    {
     "name": "stdout",
     "output_type": "stream",
     "text": [
      "teoría\n"
     ]
    }
   ],
   "source": [
    "asig = {'asignatura': 'Fundamentos de Programación', 'creditos': 6, 'tipos': ['teoría', 'prácticas']} \n",
    "\n",
    "print(asig['tipos'][0])"
   ]
  },
  {
   "cell_type": "markdown",
   "metadata": {},
   "source": [
    "En este caso, se accede al primer elemento de la lista que aparece como dato accesible a través de la clave `tipos`."
   ]
  },
  {
   "cell_type": "markdown",
   "metadata": {},
   "source": [
    "***\n",
    "<a id='Diccionarios_vs_listas'></a>"
   ]
  },
  {
   "cell_type": "markdown",
   "metadata": {},
   "source": [
    "## Diccionarios versus listas\n",
    "\n",
    "Tanto los **diccionarios** como las **listas** son colecciones **iterables** y **mutables**. \n",
    " - **Iterables**: los elementos que las componen pueden ser accedidos de *uno en uno* utilizando construcciones como el `for`.\n",
    " - **Mutables**: los elementos pueden ser modificados, las colecciones pueden ser borradas, extendidas, etc.\n",
    "\n",
    "Las **listas** son colecciones **secuenciales** que establecen una relación de orden entre los elementos contenidos. Los **diccionarios** son **no secuenciales**: no tiene ningún sentido decir que un elemento cualquiera de un diccionario *va primero* que otro. El hecho de ser **no secuenciales**, por ejemplo, implica que en los diccionarios no se puedan utilizar los **cortes** (**slices**), como sí ocurre con las listas.\n",
    "\n",
    "Todo lo que puede ser realizado con **diccionarios** puede ser llevado a cabo con **listas**. Habrá un conjunto de tareas en los que resultará más conveniente, por ser más intuitivo o más eficiente, el utilizar **diccionarios**.\n",
    "\n",
    "Veamos un ejemplo resuelto de ambas formas. Se trata de programar un glosario reducido de términos de programación en Python."
   ]
  },
  {
   "cell_type": "code",
   "execution_count": 5,
   "metadata": {},
   "outputs": [
    {
     "ename": "StdinNotImplementedError",
     "evalue": "raw_input was called, but this frontend does not support input requests.",
     "output_type": "error",
     "traceback": [
      "\u001b[1;31m---------------------------------------------------------------------------\u001b[0m",
      "\u001b[1;31mStdinNotImplementedError\u001b[0m                  Traceback (most recent call last)",
      "\u001b[1;32m<ipython-input-5-c62a4a35e936>\u001b[0m in \u001b[0;36m<module>\u001b[1;34m\u001b[0m\n\u001b[0;32m      6\u001b[0m                 'Objeto capaz de devolver sus elementos, uno cada vez.']\n\u001b[0;32m      7\u001b[0m \u001b[1;33m\u001b[0m\u001b[0m\n\u001b[1;32m----> 8\u001b[1;33m \u001b[0mstr\u001b[0m \u001b[1;33m=\u001b[0m \u001b[0minput\u001b[0m\u001b[1;33m(\u001b[0m\u001b[1;34m'Diga concepto a buscar:'\u001b[0m\u001b[1;33m)\u001b[0m\u001b[1;33m\u001b[0m\u001b[1;33m\u001b[0m\u001b[0m\n\u001b[0m\u001b[0;32m      9\u001b[0m \u001b[1;33m\u001b[0m\u001b[0m\n\u001b[0;32m     10\u001b[0m \u001b[0mindice\u001b[0m \u001b[1;33m=\u001b[0m \u001b[0mconceptos\u001b[0m\u001b[1;33m.\u001b[0m\u001b[0mindex\u001b[0m\u001b[1;33m(\u001b[0m\u001b[0mstr\u001b[0m\u001b[1;33m)\u001b[0m\u001b[1;33m\u001b[0m\u001b[1;33m\u001b[0m\u001b[0m\n",
      "\u001b[1;32mC:\\Anaconda3\\lib\\site-packages\\ipykernel\\kernelbase.py\u001b[0m in \u001b[0;36mraw_input\u001b[1;34m(self, prompt)\u001b[0m\n\u001b[0;32m    856\u001b[0m         \u001b[1;32mif\u001b[0m \u001b[1;32mnot\u001b[0m \u001b[0mself\u001b[0m\u001b[1;33m.\u001b[0m\u001b[0m_allow_stdin\u001b[0m\u001b[1;33m:\u001b[0m\u001b[1;33m\u001b[0m\u001b[1;33m\u001b[0m\u001b[0m\n\u001b[0;32m    857\u001b[0m             raise StdinNotImplementedError(\n\u001b[1;32m--> 858\u001b[1;33m                 \u001b[1;34m\"raw_input was called, but this frontend does not support input requests.\"\u001b[0m\u001b[1;33m\u001b[0m\u001b[1;33m\u001b[0m\u001b[0m\n\u001b[0m\u001b[0;32m    859\u001b[0m             )\n\u001b[0;32m    860\u001b[0m         return self._input_request(str(prompt),\n",
      "\u001b[1;31mStdinNotImplementedError\u001b[0m: raw_input was called, but this frontend does not support input requests."
     ]
    }
   ],
   "source": [
    "conceptos = ['hashable', 'inmutable', 'interactivo', 'interpretado', 'iterable']\n",
    "definiciones = ['Si su valor \"hash\" nunca cambia. Pueden actuar como \"clave de diccionarios\".',\n",
    "                'Objeto con valor fijo.',\n",
    "                'Python posee un intérprete interactivo.',\n",
    "                'Python es un lenguaje interpretado.',\n",
    "                'Objeto capaz de devolver sus elementos, uno cada vez.']\n",
    "\n",
    "str = input('Diga concepto a buscar:')\n",
    "\n",
    "indice = conceptos.index(str)\n",
    "definicion = definiciones[indice]\n",
    "\n",
    "print(definicion)"
   ]
  },
  {
   "cell_type": "markdown",
   "metadata": {},
   "source": [
    "En el código anterior se implementa el glosario utilizando dos *listas*: en la primera se almacenarían los conceptos a definir (siguiendo un orden lexicográfico, aunque en este caso el orden podría ser arbitrario) y en la segunda lista aparecen las definiciones correspondientes: aquí el orden tiene que ser consecuente con el orden elegido para la primera lista, cualquiera que este sea.\n",
    "\n",
    "La tarea es realizable utilizando **listas**, pero resulta más compacta e intuitiva si se utilizan los diccionarios de Python."
   ]
  },
  {
   "cell_type": "code",
   "execution_count": null,
   "metadata": {},
   "outputs": [],
   "source": [
    "# Glosario de Python implementado con un diccionario\n",
    "\n",
    "glosario = {'hashable': 'Si su valor \"hash\" nunca cambia. Pueden actuar como \"clave de diccionarios\".',\n",
    "            'inmutable': 'Objeto con valor fijo.',\n",
    "            'interactivo': 'Python posee un intérprete interactivo.',\n",
    "            'interpretado': 'Python es un lenguaje interpretado.',\n",
    "            'iterable': 'Objeto capaz de devolver sus miembros, uno cada vez.'}\n",
    "\n",
    "str = input('Diga concepto a buscar: ')\n",
    "definicion = glosario[str]\n",
    "print(definicion)"
   ]
  },
  {
   "cell_type": "markdown",
   "metadata": {},
   "source": [
    "La diferencia entre las dos implementaciones previas (con listas y con diccionarios) sugiere que para esta aplicación particular, la solución basada en diccionarios es preferible.\n",
    "\n",
    "- Con los diccionarios se necesita *mantener* una única colección en memoria y no dos listas, que deberán estar necesariamente *coordinadas*, con lo que esto supone de una mayor susceptibilidad a errores.\n",
    "- A la hora de acceder a la *definición* de un concepto, la clave, simplemente se utiliza directamente el mismo. En el caso de las dos listas, explícitamente hay que encontrar el índice que se corresponde con el concepto en la primera lista, para después acceder a la segunda utilizando el dicho índice."
   ]
  },
  {
   "cell_type": "markdown",
   "metadata": {},
   "source": [
    "Se puede considerar al **diccionario** como una generalización de las **listas**. O a la inversa, una **lista** sería una especie de **diccionario** especializado que no tiene clave porque esa función sería realizada por el **índice**: los enteros en el intervalo `[0, N-1]` donde `N` es el número de elementos almacenados.\n",
    "\n",
    "Debido a este hecho, la **lista** establece implícitamente una relación de orden entre los elementos.\n",
    "En el **diccionario**, al identificar individualmente a cada uno de los elementos por una clave explícita, dicho orden ya no tiene sentido."
   ]
  },
  {
   "cell_type": "markdown",
   "metadata": {},
   "source": [
    "### Elementos que pueden actuar como *claves* en diccionarios\n",
    "\n",
    "Como se ha visto, las **claves** de los **diccionarios** pueden estar creadas usando diferentes tipos, no sólo por **cadenas de caracteres**.\n",
    "\n",
    "No todos los valores pueden ser *claves*. Solo lo pueden ser aquellos valores que sean **inmutables**:\n",
    "- caracteres\n",
    "- cadenas de caracteres\n",
    "- enteros, booleanos y reales\n",
    "- tuplas\n",
    "\n",
    "No pueden actuar como *claves* ni las listas ni los propios diccionarios."
   ]
  },
  {
   "cell_type": "markdown",
   "metadata": {},
   "source": [
    "***\n",
    "<a id='Operacciones_con_diccionarios'></a>"
   ]
  },
  {
   "cell_type": "markdown",
   "metadata": {},
   "source": [
    "## Operaciones con diccionarios\n",
    "\n",
    "Entre las operaciones a realizar con diccionarios se tienen:\n",
    "\n",
    "- **Crear los diccionarios**: utilizando una de varias alternativas.\n",
    "- **Copiar diccionarios**: copiar diccionarios: alias, copia superficial y copia profunda.\n",
    "- **Acceder a datos**: obtener el dato asociado a una *clave* dada.\n",
    "- **Modificar datos**: se pueden modificar los datos asociados a una *clave*.\n",
    "- **Extender**: añadir nuevos datos (con sus *claves* asociadas)\n",
    "- **Borrar datos**: borrar un elemento.\n",
    "\n",
    "Otras operaciones básicas incluyen:\n",
    "\n",
    "- **Obtener tamaño**: interrogar sobre la longitud de la estructura de datos, con la función nativa `len()`.\n",
    "- **Recorrer diccionario**: utilizar bucles considerando al **diccionario** como un **iterable**."
   ]
  },
  {
   "cell_type": "markdown",
   "metadata": {},
   "source": [
    "Los **diccionarios** (al igual que las **listas**) son estructuras de datos **mutables**. Esto quiere decir que se pueden modificar: cambiar el dato asociado a una *clave*, borrarlo, extender el diccionario con nuevos elementos, etc.\n",
    "\n",
    "Véase el siguiente ejemplo, donde se parte de un diccionario vacío, para crearlo paso a paso.\n",
    "\n",
    "Para actualizar el dato de un elemento en un diccionario basta con asignar un valor al elemento en cuestión, accediendo a él mediante la clave.\n",
    "\n",
    "Si el elemento existe, se modifica. Si no existe, se crea uno nuevo: el diccionario se expande dinámicamente."
   ]
  },
  {
   "cell_type": "code",
   "execution_count": null,
   "metadata": {},
   "outputs": [],
   "source": [
    "mediciones = {}\n",
    "mediciones['temperatura'] = 30\n",
    "mediciones['pres'] = 1.2\n",
    "mediciones['nivel'] = 50\n",
    "mediciones['valv'] = 'abierta'\n",
    "print(mediciones)"
   ]
  },
  {
   "cell_type": "markdown",
   "metadata": {},
   "source": [
    "### La función `dict()`\n",
    "También es posible utilizar la función ```dict()```, con diversos argumentos, para crear diccionarios de forma flexible.\n",
    "\n",
    "```python\n",
    "    dic_arg    = dict(clave_1 = dato1, clave_2 = dato2, ...)    # Como conjunto variable de argumentos con nombre\n",
    "    dic_tuplas = dict([(clave_1, dato1), (clave_2, dato2)])     # Como una lista de tuplas\n",
    "    dic_listas = dict(zip([clave_1, clave_2], [dato1, dato2]))  # Uniendo dos listas con función zip\n",
    "```"
   ]
  },
  {
   "cell_type": "code",
   "execution_count": 7,
   "metadata": {},
   "outputs": [
    {
     "name": "stdout",
     "output_type": "stream",
     "text": [
      "{'uno': 1, 'dos': 2} {1: 'I', 2: 'II', 3: 'III', 4: 'IV'} {1: 2, 2: 4, 3: 6}\n"
     ]
    }
   ],
   "source": [
    "digitos = dict(uno=1, dos=2)\n",
    "romanos = dict([(1, 'I'), (2, 'II'), (3, 'III'), (4, 'IV')])\n",
    "por_dos = dict(zip([1, 2, 3], [2, 4, 6]))\n",
    "\n",
    "print(digitos, romanos, por_dos)"
   ]
  },
  {
   "cell_type": "markdown",
   "metadata": {},
   "source": [
    "### Copiar diccionarios\n",
    "\n",
    "Los diccionarios son colecciones mutables, al igual que las listas. Debido a ello, es importante ser consciente acerca de qué es lo que ocurre cuando se intenta *copiar* un diccionario a otro.\n",
    "\n",
    "#### Alias\n",
    "\n",
    "Las asignaciones del tipo ```dic2 = dic1``` simplemente crean un *alias*: otorgan otro nombre, `dic2`, a un diccionario también llamado `dic1`. Evidentemente, las modificaciones hechas a los datos subyacentes mediante un alias, serán accesibles cuando se acceda a través del otro.\n",
    "\n",
    "#### Copia superficial (shallow copy)\n",
    "\n",
    "Hace una copia de los pares (clave: dato) de un diccionario a otro. No realiza copia de otras estructuras (listas, otros diccionarios) anidadas.\n",
    "```python\n",
    "dic2_copia = dict(dic1)    # Utilizando la función dict()\n",
    "dic3_copia = dic1.copy()   # Utilizando el método .copy() del diccionario fuente.\n",
    "```"
   ]
  },
  {
   "cell_type": "code",
   "execution_count": null,
   "metadata": {},
   "outputs": [],
   "source": [
    "dic1 = {1: 2, 3: 4}\n",
    "dic2 = dict(dic1)   \n",
    "dic3 = dic1.copy()\n",
    "\n",
    "print(id(dic1), id(dic2), id(dic3))\n",
    "dic1[1] = 100\n",
    "print(dic1)\n",
    "print(dic2)\n",
    "print(dic3)"
   ]
  },
  {
   "cell_type": "markdown",
   "metadata": {},
   "source": [
    "#### Copia profunda (deep copy)\n",
    "Hace copia separadas de diccionarios con independencia del grado de anidamiento que presenten."
   ]
  },
  {
   "cell_type": "code",
   "execution_count": null,
   "metadata": {},
   "outputs": [],
   "source": [
    "import copy\n",
    "\n",
    "dir1 = {'Apt': 2, 'id': {'iq1': 1, 'iq2': 2}}\n",
    "dir2 = copy.deepcopy(dir1)  # Copia profunda\n",
    "dir3 = dir1.copy()  # Copia superficial\n",
    "dir1['id']['iq1'] = 1000\n",
    "\n",
    "print(dir1)\n",
    "print('La copia profunda no sufre alteración con el cambio en dict1:', dir2)\n",
    "print('La copia superficial se ve afectada con el cambio en dict1:', dir3)"
   ]
  },
  {
   "cell_type": "markdown",
   "metadata": {},
   "source": [
    "### Acceder a los elementos de forma segura\n",
    "\n",
    "Probablemente haya observado que, si se intenta acceder mediante la *clave* a un objeto que no se encuentra en el **diccionario**, se produce un error en tiempo de ejecución. Para evitar este tipo de errores se puede *interrogar* al diccionario por la existencia de la *clave*. Esto se puede realizar utilizando una estructura condicional y el operador `in`, que devuelve `True` si la clave indicada existe en el **diccionario** y `False` en caso contrario."
   ]
  },
  {
   "cell_type": "code",
   "execution_count": null,
   "metadata": {},
   "outputs": [],
   "source": [
    "if 'temperatura' in mediciones:\n",
    "    print(mediciones['temperatura'])\n",
    "else:\n",
    "    print('Probablemente deba ejecutar la celda previa')"
   ]
  },
  {
   "cell_type": "markdown",
   "metadata": {},
   "source": [
    "### Borrar elementos\n",
    "Igual que para las listas, se utiliza la función nativa `del()`.\n",
    "\n",
    "```python\n",
    "del mediciones['valv']\n",
    "```\n",
    "Pero también es posible utilizar el *método* `.pop()` del diccionario, para simultáneamente acceder al elemento señalado y borrarlo.\n",
    "\n",
    "```python\n",
    "valor_temp = mediciones.pop('temperatura')\n",
    "```"
   ]
  },
  {
   "cell_type": "code",
   "execution_count": null,
   "metadata": {},
   "outputs": [],
   "source": [
    "mediciones = {}\n",
    "mediciones['temperatura'] = 30\n",
    "mediciones['pres'] = 1.2\n",
    "mediciones['nivel'] = 50\n",
    "mediciones['valv'] = 'abierta'\n",
    "\n",
    "valor = mediciones.pop('pres')\n",
    "print(valor)\n",
    "print(mediciones)"
   ]
  },
  {
   "cell_type": "markdown",
   "metadata": {},
   "source": [
    "El método `.clear()` borra todos los elementos de un diccionario, dejándolo vacío."
   ]
  },
  {
   "cell_type": "markdown",
   "metadata": {},
   "source": [
    "### Tamaño del diccionario\n",
    "\n",
    "La función `len()` está *sobrecargada* para trabajar también con diccionarios.\n",
    "\n",
    "```python\n",
    "print(len(mediciones))\n",
    "```"
   ]
  },
  {
   "cell_type": "markdown",
   "metadata": {},
   "source": [
    "### Uniendo diccionarios\n",
    "\n",
    "Una posibilidad interesante es la de unir dos diccionarios en uno. La sintaxis es:\n",
    "\n",
    "```python\n",
    "dicionario1.update(dicionario2)\n",
    "```\n",
    "El método `.update()` del `diccionario1` recibe otro diccionario, `diccionario2` a modo de *actualización*.\n",
    "\n",
    "El resultado es el siguiente:\n",
    "- Se añaden al **diccionario** actualizado todos los elementos del otro diccionario. \n",
    "- Si alguna clave coincide, el resultado final será el del elemento del segundo diccionario."
   ]
  },
  {
   "cell_type": "code",
   "execution_count": null,
   "metadata": {},
   "outputs": [],
   "source": [
    "dic1 = {'a': 10, 'b': 1}\n",
    "dic2 = {'a': 3, 'c': 0}\n",
    "\n",
    "dic1.update(dic2)\n",
    "\n",
    "print(dic1)"
   ]
  },
  {
   "cell_type": "markdown",
   "metadata": {},
   "source": [
    "***\n",
    "<a id='El_diccionario_como_iterable'></a>"
   ]
  },
  {
   "cell_type": "markdown",
   "metadata": {},
   "source": [
    "## El diccionario como iterable\n",
    "El uso de los diccionarios en programación, requiere frecuentemente de la posibilidad de recorrerlos, accediendo a cada uno de los elementos almacenados. "
   ]
  },
  {
   "cell_type": "code",
   "execution_count": null,
   "metadata": {},
   "outputs": [],
   "source": [
    "asig = {'asignatura': 'Fundamentos de Programación', 'creditos': 6, 'tipos': ['teoría', 'prácticas']} \n",
    "\n",
    "for clave in asig:\n",
    "    print(asig[clave])"
   ]
  },
  {
   "cell_type": "markdown",
   "metadata": {},
   "source": [
    "El anterior bucle es equivalente al siguiente:\n",
    "\n",
    "```python\n",
    "for clave in asig.keys():\n",
    "    print(asig[clave])\n",
    "```\n",
    "El método `.keys()` del **diccionario** devuelve un objeto iterable consistente en las claves del mismo, con lo cual su uso en este contexto es redundante.\n",
    "\n",
    "Pero también es posible recorrer directamente los datos, obviando su relación con sus claves, utilizando el método `.values()`, como se ejemplifica a continuación."
   ]
  },
  {
   "cell_type": "code",
   "execution_count": null,
   "metadata": {},
   "outputs": [],
   "source": [
    "for valor in asig.values():\n",
    "    print(valor)"
   ]
  },
  {
   "cell_type": "markdown",
   "metadata": {},
   "source": [
    "Existe todavía otra manera de recorrer el diccionario y es la ejemplificada en el siguiente código:"
   ]
  },
  {
   "cell_type": "code",
   "execution_count": null,
   "metadata": {},
   "outputs": [],
   "source": [
    "for clave, valor in asig.items():\n",
    "    print(clave, valor)"
   ]
  },
  {
   "cell_type": "markdown",
   "metadata": {},
   "source": [
    "Utiliza el método `.items()` que devuelve una **tupla** conteniendo la clave y el dato asociado."
   ]
  },
  {
   "cell_type": "markdown",
   "metadata": {},
   "source": [
    "***\n",
    "<a id='Ejemplos'></a>"
   ]
  },
  {
   "cell_type": "markdown",
   "metadata": {},
   "source": [
    "## Ejemplos\n",
    "\n",
    "#### Contar las veces que aparece cada letra (y otros signos de puntuación) en una cadena de caracteres. \n",
    "\n",
    "- Crear un diccionario vacío\n",
    "- Iterar por cada una de las letras de la cadena:\n",
    "    - Si la letra no existe como _clave_ en el diccionario:\n",
    "        - Agregar la _clave_ asignándole como valor al elemento un cero\n",
    "    - Si ya existe\n",
    "        - Incrementar en uno el entero asociado a la letra"
   ]
  },
  {
   "cell_type": "code",
   "execution_count": null,
   "metadata": {},
   "outputs": [],
   "source": [
    "texto = '''Este es un texto del que se van a extraer letras para analizar la frecuencia de las mismas.\n",
    "La cadena tiene varias lineas, por eso utilizan 3 comillas. También tiene digitos y signos'''\n",
    "\n",
    "letras_frec = {}\n",
    "\n",
    "for letra in texto:\n",
    "    if letra not in letras_frec:\n",
    "        letras_frec[letra] = 1\n",
    "    else:\n",
    "        letras_frec[letra] += 1\n",
    "    \n",
    "print(letras_frec)"
   ]
  },
  {
   "cell_type": "markdown",
   "metadata": {},
   "source": [
    "El código anterior es perfectamente válido y resulta muy claro.\n",
    "\n",
    "En la medida en que conozcamos más en profundidad las diversas posibilidades que ofrece Python, podemos utilizarlas en nuestro beneficio.\n",
    "\n",
    "Por ejemplo, los diccionarios tienen el método `.get(clave, valor)` , que sirve el propósito de devolver:\n",
    "* el valor asociado a la `clave` que se pasa como primer parámetro, si esta existe, \n",
    "* o el `valor` de un segundo parámetro opcional, si no se encuentra. \n",
    "\n",
    "Pues bien, el uso de este método simplifica el código previo de la siguiente forma."
   ]
  },
  {
   "cell_type": "code",
   "execution_count": null,
   "metadata": {},
   "outputs": [],
   "source": [
    "letras_frec = {}\n",
    "\n",
    "for letra in texto:\n",
    "    letras_frec[letra] = letras_frec.get(letra, 0) + 1\n",
    "    \n",
    "print(letras_frec)"
   ]
  },
  {
   "cell_type": "markdown",
   "metadata": {},
   "source": [
    "#### Matrices dispersas  (sparse)\n",
    "\n",
    "Existen muchas aplicaciones con matrices donde estas se caracterizan por tener la gran mayoría de sus elementos con valor cero, y sólo unos pocos con valores significativos. En estas aplicaciones, resulta más eficiente representar la matriz por un método alternativo, que consiste en representar solo los valores diferentes de cero, especificando la fila y la columna donde esos valores están situados. Las matrices susceptibles de ser representadas de esta forma son conocidas como matrices **dispersas** (**sparse**). \n",
    "\n",
    "En el siguiente código se describe una función que recibe una matriz representada de la forma convencional (como una lista anidada de filas). Posteriormente, la convierte al formato de *matriz dispersa* utilizando un diccionario, en el que la clave está formada por una *tupla* que contiene la fila y columna del elemento a representar.\n",
    "\n",
    "Un ejercicio interesante es realizar otras funciones para definir una aritmética de matrices dispersas (suma, producto, etc.)"
   ]
  },
  {
   "cell_type": "code",
   "execution_count": null,
   "metadata": {},
   "outputs": [],
   "source": [
    "# Recibe matriz definida como lista anidada y devuelve matriz dispersa con diccionario\n",
    "def convierte_dispersa(mat):\n",
    "    mat_sparse = {}\n",
    "    for fil, col in enumerate(mat):\n",
    "        for col, elem in enumerate(mat[fil]):\n",
    "            if elem != 0:\n",
    "                mat_sparse[(fil, col)] = elem\n",
    "    return mat_sparse\n",
    "\n",
    "\n",
    "# Programa principal\n",
    "mat = [[0, 0, 0, 1],\n",
    "       [0, 1, 0, 0],\n",
    "       [0, 0, 0, 1],\n",
    "       [1.2, 0, 0, 0]]\n",
    "\n",
    "mat_eficiente = convierte_dispersa(mat)\n",
    "\n",
    "print(mat_eficiente)"
   ]
  }
 ],
 "metadata": {
  "kernelspec": {
   "display_name": "Python 3",
   "language": "python",
   "name": "python3"
  },
  "language_info": {
   "codemirror_mode": {
    "name": "ipython",
    "version": 3
   },
   "file_extension": ".py",
   "mimetype": "text/x-python",
   "name": "python",
   "nbconvert_exporter": "python",
   "pygments_lexer": "ipython3",
   "version": "3.7.7"
  }
 },
 "nbformat": 4,
 "nbformat_minor": 2
}