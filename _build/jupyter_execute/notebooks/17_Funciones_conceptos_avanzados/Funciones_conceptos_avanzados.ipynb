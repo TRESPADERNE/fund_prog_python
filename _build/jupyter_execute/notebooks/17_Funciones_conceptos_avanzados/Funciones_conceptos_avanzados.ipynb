{
 "cells": [
  {
   "cell_type": "markdown",
   "metadata": {},
   "source": [
    "# Funciones. Conceptos avanzados.\n",
    "**Autores**: Rogelio Mazaeda, Félix Miguel Trespaderne.   "
   ]
  },
  {
   "cell_type": "markdown",
   "metadata": {},
   "source": [
    "## Contenidos\n",
    "[Funciones puras e impuras](#Funciones_puras_e_impuras)<br>\n",
    "[El mecanismo de las llamadas a funciones](#El_mecanismo_de_las_llamadas_a_funciones)<br>\n",
    "[Alcance de las variables: variables locales y globales](#Alcance_de_las_variables:_variables_locales_y_globales)<br>\n",
    "[Recursividad](#Recursividad)<br>\n",
    "[Las funciones como objetos](#Las_funciones_como_objetos)<br>\n",
    "[Funciones con un número indeterminado de argumentos](#Funciones_con_un_número_indeterminado_de_argumentos)<br>\n",
    "[Polimorfismo con funciones](#Polimorfismo_con_funciones)<br>\n",
    "[Resumen de buenas prácticas](#Buenas_prácticas)<br>\n",
    "[Temas avanzados y bibliografía específica](#Temas_avanzados)"
   ]
  },
  {
   "cell_type": "markdown",
   "metadata": {},
   "source": [
    "<a id='Funciones_puras_e_impuras'></a>"
   ]
  },
  {
   "attachments": {
    "funcion_pura.jpg": {
     "image/jpeg": "[encoded data removed]"
    }
   },
   "cell_type": "markdown",
   "metadata": {},
   "source": [
    "## Funciones puras e impuras\n",
    "\n",
    "Las **funciones** de Python que tienen un comportamiento **similar a las funciones matemáticas**, esto es, constituyen una relación unívoca entre el dominio de los valores de entrada y el valor de la salida, se denominan **funciones puras**.\n",
    "\n",
    "![funcion_pura.jpg](attachment:funcion_pura.jpg)"
   ]
  },
  {
   "cell_type": "markdown",
   "metadata": {},
   "source": [
    "Se puede decir de las **funciones puras** que:\n",
    "\n",
    "- Devuelven el **mismo resultado** al ser _llamadas_ con los **mismos valores de entrada**.\n",
    "- El resultado sólo depende de la entrada: no tienen **memoria**, no conservan un **estado** que les permita _recordar_ que la misma ha sido _invocada_ antes, para entonces devolver un valor distinto en llamadas sucesivas.\n",
    "- No tiene **efectos secundarios** (**side effects**). La única forma de interacción con el resto de programa, o el contexto en que éste se desarrolla, es a través de la sentencia `return`. En especial:\n",
    "    - No modifican **variables globales** (se discute más adelante).\n",
    "    - No imprime nada por pantalla, ni interaccionan de ninguna otra manera con el _mundo exterior_. \n",
    "    \n",
    "Las **funciones impuras** son el resto de las funciones. Por ejemplo:\n",
    "- Funciones sin parámetros de entrada y/o sin valores devueltos mediante `return`.\n",
    "- Funciones que devuelven valores diferentes cada vez.\n",
    "- Funciones que modifican las variables globales o aquellos parámetros que sean **mutables**."
   ]
  },
  {
   "cell_type": "markdown",
   "metadata": {},
   "source": [
    "### Ventajas de las funciones puras\n",
    "\n",
    "El trabajar preferentemente con **funciones puras** está en la base del **paradigma funcional** de programación, que en los últimos años está recobrando un nuevo auge. \n",
    "\n",
    "El uso de **funciones puras** permite utilizar en programación las herramientas de análisis en las matemáticas y _demostrar_, en el sentido matemático del término, la _corrección_ de un programa de ordenador. En cualquier caso, una descripción de los principios y prácticas de la **programación funcional** está fuera de los marcos de este curso introductorio.\n",
    "\n",
    "Eso no impide que recomendemos, siempre que sea razonable, el uso **funciones puras**:\n",
    "- Al _prohibir_ los *efectos colaterales*, hace que los programas sean más fácilmente depurables. \n",
    "- Permite además la **composición** de funciones: el pasar como argumentos de funciones, directamente el valor devuelto por otra función (con cualquier grado de anidamiento). Ejemplo: `cos(log(x))`."
   ]
  },
  {
   "cell_type": "markdown",
   "metadata": {},
   "source": [
    "### Las funciones impuras son inevitables\n",
    "\n",
    "El objetivo de la programación es **aceptar datos** del *mundo exterior*, **procesarlos** de alguna forma y **devolverlos** al usuario. O sea, la utilidad global de los programas está precisamente en lograr determinados **efectos colaterales**.\n",
    "\n",
    "En todo caso, resulta útil, confinar estás interacciones con el **mundo exterior** a determinadas funciones bien _localizadas_.\n",
    "\n",
    "Ejemplos de funciones impuras imprescindibles o útiles:\n",
    "- Las funciones de entrada y salida, utilizando la consola, ficheros o redes informáticas, entre otras:\n",
    "> Por ejemplo, la función `input()`: aunque sea llamada con el mismo parámetro de entrada, puede devolver cada vez valores diferentes: el usuario humano tiene un **estado** o **memoria**.\n",
    "- Función que devuelve un número aleatorio: resulta útil porque precisamente tiene **memoria**: devuelve un valor diferente cada vez."
   ]
  },
  {
   "cell_type": "markdown",
   "metadata": {},
   "source": [
    "***\n",
    "<a id='El_mecanismo_de_las_llamadas_a_funciones'></a>"
   ]
  },
  {
   "cell_type": "markdown",
   "metadata": {},
   "source": [
    "## El mecanismo de las llamadas a funciones\n",
    "\n",
    "Como ya se ha dicho, las funciones permiten dar una estructura lógica a un programa al dividirlo en varios subprogramas, cada uno ocupándose de una tarea bien definida. \n",
    "\n",
    "Este proceso de división del programa tiene un carácter jerárquico: el programa principal, en la parte más alta de la jerarquía, describe la solución desde el punto de vista más general, haciendo uso de las diferentes funciones para resolver las subtareas. Cada función, a su vez, puede ser dividida en otros tantos subproblemas, y así sucesivamente utilizando tantos niveles jerárquicos como se considere necesario.\n",
    "\n",
    "Durante la ejecución del programa, el proceso de llamadas a funciones y el retorno desde estas, puede ser conceptualmente interpretado como recursos del lenguaje que modifican el flujo normal (secuencial) del programa."
   ]
  },
  {
   "cell_type": "markdown",
   "metadata": {},
   "source": [
    "#### Ejemplo\n",
    "Se sabe de las matemáticas combinatorias que el número de posibilidades de escoger $k$ elementos en una población de $n$, las **combinaciones**, viene dado por la expresión:\n",
    "\n",
    "\\begin{align}\n",
    "\\\\C_{n,k} = {n \\choose k} = \\frac {n!}{k!(n-k)!} \\\\\n",
    "\\end{align}\n",
    "\n",
    "\n",
    "Supongamos que se decide calcular las combinaciones mediante una función de Python, utilizando a su vez otra función que determina el factorial de un número entero."
   ]
  },
  {
   "cell_type": "code",
   "execution_count": 1,
   "metadata": {},
   "outputs": [
    {
     "name": "stdout",
     "output_type": "stream",
     "text": [
      "10.0\n"
     ]
    }
   ],
   "source": [
    "# calcula factorial de argumento n\n",
    "def factorial(n):\n",
    "    fact = 1\n",
    "    if n > 1:\n",
    "        for i in range(2, n+1):\n",
    "            fact *= i\n",
    "    return fact\n",
    "\n",
    "\n",
    "# calcula combinaciones de n tomadas k a la vez\n",
    "def combinaciones(n, k):\n",
    "    comb = -1\n",
    "    if n >= k:\n",
    "        comb = factorial(n)/(factorial(k)*factorial(n-k))\n",
    "    return comb\n",
    "\n",
    "\n",
    "# Programa principal\n",
    "\n",
    "elementos = 5\n",
    "muestras = 3\n",
    "print(combinaciones(elementos, muestras))"
   ]
  },
  {
   "cell_type": "markdown",
   "metadata": {},
   "source": [
    "La estructura del programa anterior se podría visualizar gráficamente como se muestra. Se divide en el programa principal y dos funciones, ```combinaciones()``` y ```factorial()```. Además se utiliza la función ```print()```, que es una función nativa.\n",
    "\n",
    "![combinaciones.jpg](img/combinaciones.jpg)\n",
    "\n",
    "La información brindada por el esquema se limita básicamente a la estructura estática del programa, aunque con las flechas se muestra desde dónde se realizan las llamadas a las diferentes funciones, lo que indica una especie de jerarquía entre ellas para este ejemplo concreto: \n",
    "\n",
    "1. El programa principal utiliza la función `print()`.\n",
    "\n",
    "2. A su vez `print()` *obtiene* los valores a imprimir, a partir de utilizar la función `combinaciones()`. \n",
    "\n",
    "3. Finalmente, `combinaciones()` se sirve de la función `factorial()`.\n",
    "\n",
    "El programa principal utiliza la función ```combinaciones()```; por tanto, la definición de esta última debe preceder en el texto del programa al primero. Por la misma razón, la función `factorial()` debe aparecer antes que `combinaciones()`."
   ]
  },
  {
   "cell_type": "markdown",
   "metadata": {},
   "source": [
    "### Traza de un programa\n",
    "La ejecución de un programa en Python comienza en la primera línea del programa principal. A partir de ese punto se van ejecutando las sentencias siguiendo el orden secuencial por defecto, que puede ser alterado por las sentencias de control de flujo ya conocidas.\n",
    "\n",
    "La presencia de las llamadas a función implica la modificación de ese orden por defecto. \n",
    "\n",
    "Durante la ejecución de un programa, se van modificando los diferentes valores involucrados en la medida en que se van ejecutando las diferentes sentencias. Se puede hablar del **hilo de ejecución** a esta evolución de una sentencia a otra y los efectos producidos. Una forma de hacer evidente esta evolución es realizando la **traza del programa**.\n",
    "\n",
    "La traza se puede ejecutar con lápiz y papel. Las herramientas de desarrollo, como **Spyder**, suelen tener incorporados **depuradores** del código (**debuggers**), que permiten también construir la traza. Existen también otras aplicaciones disponibles, como [pythontutor](http://www.pythontutor.com/visualize.html#mode=edit), que ayudan en este propósito.\n",
    "\n",
    "En lo que sigue se muestran algunos momentos de la traza del ejemplo previo."
   ]
  },
  {
   "cell_type": "markdown",
   "metadata": {},
   "source": [
    "![Traza.jpg](img/traza.jpg)\n",
    "\n",
    "[Traza Ejemplo Combinaciones](doc/traza_combinaciones.pptx)"
   ]
  },
  {
   "cell_type": "markdown",
   "metadata": {},
   "source": [
    "A partir del análisis de la traza del programa se puede entender el mecanismo de las llamadas a función:\n",
    "\n",
    "* Cuando durante la evaluación de una sentencia aparece la **invocación** de una o varias funciones, la ejecución de la sentencia actual debe interrumpirse para ejecutar la(s) llamada(s) a la(s) función(es) involucrada(s). Si existen varias llamadas a la hora de evaluar una expresión, las llamadas se realizarán secuencialmente en el orden en que sea necesario y que se deriva del orden de evaluación de la expresión en que aparecen.\n",
    "* El proceso de llamada a la función consiste en los siguientes pasos:\n",
    "    1. Interrumpir la evaluación de la sentencia que provoca la llamada.\n",
    "    2. A continuación, y con vistas a que el **hilo de ejecución** del programa continúe en la primera sentencia de la función invocada, los parámetros reales (si existieran) son determinados y resultan copiados en los parámetros formales. Como se ha visto, la relación entre parámetros reales y argumentos formales se puede realizar por posición, pero también utilizando el concepto de argumento con nombre, o una combinación de ambos.\n",
    "    3. Se ejecuta la función desde su primera sentencia. Dentro de la función, se pueden utilizar los **identificadores** de los parámetros formales, para acceder a los valores que han sido *pasados* desde el código que ha llamado a la función. También se pueden crear nuevos valores (**variables locales**) en la medida en que se requiera.\n",
    "    4. Cuando el **hilo de ejecución** llegue a una sentencia `return` o simplemente a la última sentencia ejecutable, la siguiente sentencia a ejecutar sería aquella que resultó *interrumpida* cuando se llamó a la función.\n",
    "    5. Si la función devuelve valores mediante la sentencia `return`, el valor *devuelto* participará en la expresión cuya evaluación fue interrumpida."
   ]
  },
  {
   "cell_type": "markdown",
   "metadata": {},
   "source": [
    "En el ejemplo:\n",
    "\n",
    "- Durante la evaluación de los argumentos de la función nativa `print()`, se necesita llamar a la función `combinaciones()`, pasando como parámetros reales los valores `elementos` y `muestras`, que en este ejemplo identifican a los enteros `5` y `3` respectivamente. Los parámetros reales se asocian a los argumentos formales por posición: `5` $\\Rightarrow$ `n` y `3` $\\Rightarrow$ `k`.\n",
    "\n",
    "- Durante la evaluación de `combinaciones()` se llama a la función `factorial()`. Las llamadas se llevan a cabo en el orden en que evalúa la expresión en que aparecen: \n",
    "    - la primera vez con el parámetro formal dado por el contenido de la variable ```n``` de ```combinaciones()``` que se asocia por posición al argumento real ```n``` de ```factorial()```.\n",
    "    - la segunda vez con el parámetro real ```k``` que se asocia al parámetro formal ```n``` de ```factorial()```.\n",
    "    - la tercera vez con el parámetro real que es el resultado de la expresión ```n-k``` y que de nuevo se asocia al parámetro ```n```."
   ]
  },
  {
   "cell_type": "markdown",
   "metadata": {},
   "source": [
    "### La pila de llamadas \n",
    "\n",
    "¿Cuál es el mecanismo que soporta el funcionamiento correcto de las llamadas a funciones? ¿Cómo el intérprete de Python *conoce* el punto exacto al que se debe retornar cuando cada una de las llamadas a función termina retornando valores?\n",
    "\n",
    "Como se refleja en la figura anterior, al inicio de cada llamada se crea un **marco de memoria** local de valores que contienen:\n",
    "* los valores de entrada de los argumentos de la función\n",
    "* todas aquellas variables que la función declare localmente. \n",
    "\n",
    "El **marco de memoria** de la función estará vigente mientras el **hilo de ejecución** de la función se *encuentre* dentro de la mismas, es decir, mientras la función no haya finalizado.\n",
    "\n",
    "Si la función llama a su vez a otra función (ej: cuando ```combinaciones()``` llama a ```factorial()```) el **marco** asociado a la función que llama no desaparece, sino que se crea un nuevo **marco** asociado a la función llamada.\n",
    "\n",
    "El mecanismo de creación de estos **marcos** en la memoria del ordenador sigue el esquema asociado a una estructura de datos muy conocida en programación que es la llamada **pila** (**stack**)."
   ]
  },
  {
   "cell_type": "markdown",
   "metadata": {},
   "source": [
    "![Pila.jpg](img/pila.jpg)"
   ]
  },
  {
   "cell_type": "markdown",
   "metadata": {},
   "source": [
    "La pila almacena información, pero lo hace **restringiendo** la forma en que esta información puede ser añadida o eliminada.\n",
    "Así, la pila tiene sólo dos operaciones básicas:\n",
    "- **PUSH(dato)**: Es la forma de introducir un nuevo dato en la pila y sólo puede hacerse por la parte _superior_ de la misma, utilizando para ello el **puntero de la pila** (**SP**: **stack pointer**). El **SP** contiene la _dirección_ en memoria del dato actualmente en la parte superior. Para introducir un nuevo dato, el **SP** debe ser incrementado (si es que hay memoria suficiente para hacerlo) para introducir el dato en la nueva localización de memoria, actualizando el valor **SP** que ahora **apuntará** al nuevo dato.\n",
    "> El método `append(dato)` de las listas es un ejemplo de la operación tipo **PUSH(dato)**.\n",
    "- **POP()**: Para poder realizar esta operación, la **pila** no puede estar vacía: o sea, el **SP** no puede ser igual a la **base de la pila** (**SB**: **stack bottom**). Si no está vacía la pila, la operación **POP** simplemente consiste en *decrementar* el **SP**. El elemento que antes estaba en el *tope* ahora resulta inaccesible, con lo que a todos los efectos es como si ha resultado **eliminado**. Si acto seguido se vuelve a apilar, el nuevo dato se **sobrescribirá** sobre el anterior.\n",
    "> El método `pop()` de las listas, sin argumentos, es un ejemplo de la operación tipo **POP()**. Nótese que las listas no son una estructura de datos tipo pila, porque están permitidas operaciones como `remove()` o `insert()` que están prohibidas en una pila."
   ]
  },
  {
   "cell_type": "markdown",
   "metadata": {},
   "source": [
    "Los **marcos de variables** que se crean para albergar las variables de cada función se implementan precisamente en una estructura de datos, la **pila del sistema** o **pila de llamadas**, que es independiente para cada **hilo de ejecución** que se encuentre en el ordenador. Esto es implementado conjuntamente por el *hardware* del computador, el Sistema Operativo y el **motor en tiempo de ejecución** (**runtime engine**) de Python.\n",
    "\n",
    "El funcionamiento básico de las llamadas a funciones y de los **marcos** desde el punto de vista de la **pila del sistema** es el siguiente:\n",
    "- Cuando se produce la llamada a la función, se realiza una operación **PUSH** introduciendo en la **pila** el nuevo **marco** necesario. Además de los parámetros de la función y las variables locales, también se introduce otro tipo de información no mostrada en los diagramas de trazas previos. La más importante es la *dirección* en memoria que marca el punto exacto donde se encuentra alojada la instrucción cuya evaluación ha sido interrumpida para llamar a la función y al que hay que regresar cuando la misma termine.\n",
    "- Cuando una función termina su ejecución, se realiza una operación **POP** de forma que los valores almacenados  quedan efectivamente _eliminados_ de la memoria por inaccesibles. Antes de hacer la operación **POP**, se obtiene de la **pila** la dirección de retorno y valor que se va a devolver.\n",
    "- Observe que, durante las llamadas anidadas a distintas funciones, el especial funcionamiento de la **pila** permite adquirir y liberar la memoria de los **marcos** de la forma adecuada."
   ]
  },
  {
   "cell_type": "markdown",
   "metadata": {},
   "source": [
    "***\n",
    "<a id='Alcance_de_las_variables:_variables_locales_y_globales'></a>"
   ]
  },
  {
   "cell_type": "markdown",
   "metadata": {},
   "source": [
    "## Alcance de las variables: variables locales y globales\n",
    "\n",
    "El **alcance** de una variable da cuenta de las reglas que especifican _desde_ qué sentencias del código Python son _accesibles_ cada una de las variables, teniendo en cuenta el _lugar_ dentro del código en el que han sido especificadas.\n",
    "\n",
    "Como se ha visto, los parámetros formales en la definición de una función y las variables creadas en el cuerpo de la misma, son **variables locales** a dicha función y sólo pueden ser accedidas desde código definido en el cuerpo de la misma en sentencias posteriores a su creación.\n",
    "\n",
    "La esencia de una **buena programación** procedural y modular, y de ello la gran ventaja del uso de las funciones, reside precisamente en el uso preferente de **variables locales**, puesto que este es el mecanismo del lenguaje que brinda el grado apropiado de _desacople_ necesario entre el código que _usa_ una función y su implementación interna. Esto es, garantiza la muy necesaria _abstracción_ que hace que podamos utilizar las funciones sin preocuparnos de los _detalles_ internos.\n",
    "\n",
    "Obsérvese que esta independencia quedaría destruida si las variables internas, que se crean en el **marco** de la función, pudieran ser modificadas o accedidas externamente. De nuevo hay que recalcar que la interacción legítima con las funciones debe ser a partir de su interfaz pública: los argumentos formales y los valores de retorno."
   ]
  },
  {
   "cell_type": "code",
   "execution_count": 2,
   "metadata": {},
   "outputs": [
    {
     "name": "stdout",
     "output_type": "stream",
     "text": [
      "a en mult_10:  150 n en mult_10:  15\n",
      "a en prog. principal:  5 n en prog. principal:  150\n"
     ]
    }
   ],
   "source": [
    "# Multiplica n * 10\n",
    "def mult_10(n):\n",
    "    a = 10*n\n",
    "    print('a en mult_10: ', a, 'n en mult_10: ', n)\n",
    "    return a\n",
    "\n",
    "\n",
    "# Programa principal\n",
    "a = 5\n",
    "n = mult_10(3*a)\n",
    "print('a en prog. principal: ', a, 'n en prog. principal: ', n)"
   ]
  },
  {
   "cell_type": "markdown",
   "metadata": {},
   "source": [
    "En el código previo, las variables ```a``` y ```n``` creadas en el programa principal, no son las mismas que las variables con idéntico nombre en la función ```mult_10()```. Estas últimas están definidas en el **marco** local de la función: la primera ```n``` es el nombre del argumento formal de la función y la segunda es creada cuando se realiza la asignación (```a = 10*n```). De hecho, debe notarse que al llamar a la función, lo que se pasa como parámetro real a la misma, es el resultado de multiplicar ```3*a```. Finalmente, cuando la función retorna, es el valor de la variable local ```a``` el que resulta asignado a la variable ```n```.\n",
    "\n",
    "Este grado de desconexión entre las variables locales de la diferentes funciones y las del programa principal es precisamente lo que se busca."
   ]
  },
  {
   "cell_type": "markdown",
   "metadata": {},
   "source": [
    "De todas formas, en Python se considera que las funciones están definidas **dentro** del programa principal. Siendo este el caso, es cierto que desde la función se puede **acceder** a variables definidas en el programa principal, siempre que no haya ningún parámetro o variable local del mismo nombre."
   ]
  },
  {
   "cell_type": "code",
   "execution_count": 3,
   "metadata": {},
   "outputs": [
    {
     "name": "stdout",
     "output_type": "stream",
     "text": [
      "func a =  5 b =  1 c =  30\n",
      "Prog. principal a =  5 b =  10 c =  20\n"
     ]
    }
   ],
   "source": [
    "def func(b):\n",
    "    c = 30\n",
    "    print('func a = ', a, 'b = ', b, 'c = ', c)\n",
    "\n",
    "    \n",
    "# Programa principal\n",
    "a = 5\n",
    "b = 10\n",
    "c = 20\n",
    "func(1)\n",
    "print('Prog. principal a = ', a, 'b = ', b, 'c = ', c)"
   ]
  },
  {
   "cell_type": "markdown",
   "metadata": {},
   "source": [
    "Se observa que desde la función se puede leer la variable ```a``` utilizada en el programa principal. Y que la única razón de que no se pueda acceder a las variables ```b``` y ```c``` también del programa principal, es que existen parámetros formales (```b```) y variables locales (```c```) del mismo nombre.\n",
    "\n",
    "Este ejemplo que acabamos de ver es una muestra de **pésima programación**, pues perdemos el **encapsulamiento** del código y la **mantenibilidad** del código se hace imposible."
   ]
  },
  {
   "cell_type": "markdown",
   "metadata": {},
   "source": [
    "### Jerarquía de acceso a los nombres\n",
    "En Python se cumple una jerarquía de acceso a los nombres que se evidencia en el siguiente esquema.\n",
    "\n",
    "![Venn.jpg](img/venn.jpg)"
   ]
  },
  {
   "cell_type": "markdown",
   "metadata": {},
   "source": [
    "Esto es: si se produce una referencia a una variable de nombre dado en la función ```f()```, Python determinará a qué objeto hace referencia, en el sentido en que se muestra en el esquema anterior: \n",
    "* primero comprobará si existe una variable local de ```f()``` con ese nombre\n",
    "* en caso de fallar, entonces se verá si se trata de un parámetro formal\n",
    "* si no lo es, se mirará si es una variable del programa principal, variables a las que podemos calificar de **globales**.\n",
    "* y finalmente si esto también falla, se intentará encontrar un objeto de ese nombre entre los definidos intrínsecamente (*built_in*) en el lenguaje\n",
    "* si también esto falla, se producirá un error de tiempo de ejecución.\n",
    "\n",
    "Nótese que en la cadena descrita de búsqueda por la variable a la que se hace referencia, no se menciona a la función ```g()``` que estaría definida al mismo *nivel* que ```f()``` y por tanto no participaría en la búsqueda de los nombres de esta función ```f()```."
   ]
  },
  {
   "cell_type": "code",
   "execution_count": 4,
   "metadata": {},
   "outputs": [
    {
     "name": "stdout",
     "output_type": "stream",
     "text": [
      "func a =  30\n",
      "Prog. principal a =  5\n"
     ]
    }
   ],
   "source": [
    "def func():\n",
    "    a = 30\n",
    "    print('func a = ', a)\n",
    "\n",
    "    \n",
    "# Programa principal\n",
    "a = 5\n",
    "func()\n",
    "\n",
    "print('Prog. principal a = ', a)"
   ]
  },
  {
   "cell_type": "markdown",
   "metadata": {},
   "source": [
    "En el código previo, se intenta modificar dentro de la función `fun()` la **variable global** `a` creada en el programa principal. ¡Pero comprobarás que el efecto no es el pretendido! \n",
    "\n",
    "¿Qué ha sucedido? \n",
    "\n",
    "Tal y como hemos visto, en la línea 2, Python **crea** de forma transparente al usuario una nueva variable con el mismo nombre pero local a `func()`. Por lo que, si la intención del programador era modificar la variable global `a`, no lo ha conseguido.\n",
    "\n",
    "Normalmente, no se debe **acceder** a variables globales desde dentro de las funciones: no es buena idea **leer** el valor de dichas variables, pero mucho menos **modificarlas** mediante una asignación. Un código en el que desde diferentes funciones, se modifiquen variables globales es un programa de difícil mantenimiento y depuración.\n",
    "\n",
    "Si existiera la necesidad puntual de modificar la variable global, en el ejemplo, ¿Hay alguna forma?\n",
    "\n",
    "La respuesta es que sí. Para ello hay que declarar dentro de la función la variable en cuestión como `global`. El siguiente código muestra cómo hacerlo."
   ]
  },
  {
   "cell_type": "code",
   "execution_count": 5,
   "metadata": {},
   "outputs": [
    {
     "name": "stdout",
     "output_type": "stream",
     "text": [
      "func a =  30\n",
      "Prog. principal a =  30\n"
     ]
    }
   ],
   "source": [
    "# No hagas esto nunca\n",
    "def func():\n",
    "    global a\n",
    "    a = 30\n",
    "    print('func a = ', a)\n",
    "\n",
    "    \n",
    "# Programa principal\n",
    "a = 5\n",
    "func()\n",
    "\n",
    "print('Prog. principal a = ', a)"
   ]
  },
  {
   "cell_type": "markdown",
   "metadata": {},
   "source": [
    "Se debe insistir en que se debe evitar a toda costa el uso de variables globales. Basta cambiar el identificador `a` por `b` en el programa principal del ejemplo anterior para que la salida del programa sea totalmente diferente.\n",
    "\n",
    "**¡Durante el curso queda terminantemente prohibido el uso de variables globales dentro de una función!**"
   ]
  },
  {
   "cell_type": "markdown",
   "metadata": {},
   "source": [
    "### Parámetros de una función mutables\n",
    "¿Es posible alterar valores externos a la función por otro método que no sea mediante el desaconsejado uso de variables globales?\n",
    "\n",
    "La respuesta es que esto depende de si el parámetro es **mutable** o **inmutable**\n",
    "> Un parámetro mutable, como una lista, cuando es modificado en la función, altera el objeto original en el código que realizó la llamada a función."
   ]
  },
  {
   "cell_type": "code",
   "execution_count": 6,
   "metadata": {},
   "outputs": [
    {
     "name": "stdout",
     "output_type": "stream",
     "text": [
      "140733118652848\n",
      "140733118652848\n",
      "140733118652976\n",
      "6\n",
      "2\n"
     ]
    }
   ],
   "source": [
    "# Ejemplo que muestra implicaciones alcance local\n",
    "def mult_val_int(v, n):\n",
    "    print(id(v))  # El objeto v es el mismo que el objeto val\n",
    "    v = v*n  \n",
    "    print(id(v))  # Debido a la inmutabilidad, ahora v es otro objeto\n",
    "    print(v)\n",
    "\n",
    "\n",
    "# Programa principal\n",
    "val = 2\n",
    "print(id(val))\n",
    "n = 3\n",
    "mult_val_int(val, n)\n",
    "print(val)"
   ]
  },
  {
   "cell_type": "markdown",
   "metadata": {},
   "source": [
    "En el ejemplo anterior, vía la función `id()`, podemos ver que el objeto `val` del programa principal y el parámetro formal `v` son el mismo objeto. Sin embargo, cuando en el código de la función `mult_val_int()` se modifica el valor del parámetro formal `v` en la línea `v = v*n`, como se trata de una variable entera y, por tanto, **inmutable**, lo que hace Python es **crear** un nuevo objeto, en este caso **local** a la función, y asignarle el nombre de `v`.\n",
    "\n",
    "Cuando el **hilo de ejecución** del programa abandona la función, el marco local es eliminado, y el valor del objeto `val` definido en el **programa principal** permanece inalterado."
   ]
  },
  {
   "cell_type": "code",
   "execution_count": 7,
   "metadata": {},
   "outputs": [
    {
     "name": "stdout",
     "output_type": "stream",
     "text": [
      "2609511315144\n",
      "2609511315144\n",
      "2609511315144\n",
      "En programa principal: [2, 4, 6]\n"
     ]
    }
   ],
   "source": [
    "# Ejemplo que muestra implicaciones de alcance global\n",
    "def mult_2_lista(lista):\n",
    "    print(id(lista))\n",
    "    for i in range(len(lista)):\n",
    "        lista[i] *= 2\n",
    "    print(id(lista))\n",
    "\n",
    "\n",
    "# Programa principal\n",
    "lista_pp = [1, 2, 3]\n",
    "print(id(lista_pp))\n",
    "mult_2_lista(lista_pp)\n",
    "print(\"En programa principal:\", lista_pp)"
   ]
  },
  {
   "cell_type": "markdown",
   "metadata": {},
   "source": [
    "En el ejemplo previo, el argumento a la función ```mult_2_lista()``` es un valor de tipo **mutable**, la lista, y esto marca toda la diferencia. La función recibe mediante su argumento formal, una referencia a la lista inicializada (el parámetro real) definida en el programa principal. Dentro de la función, se modifican todos los elementos de la lista, multiplicándolos por 2. Como se trata de un dato **mutable**, no se crea un nuevo objeto sino que **se modifican** sus valores originales."
   ]
  },
  {
   "cell_type": "markdown",
   "metadata": {},
   "source": [
    "![TrazaModLista.jpg](img/traza_modificacion_lista.jpg)"
   ]
  },
  {
   "cell_type": "markdown",
   "metadata": {},
   "source": [
    "Ya hemos visto ejemplos con los métodos de las listas, tales como  `pop()`, `insert()`, `remove()`, etc. cómo podemos alterar objetos a través de una función. La diferencia substancial a hacerlo así respecto al uso de `global`, es:\n",
    "* a través del nombre del método, *manifestamos* explícitamente el hecho de que vamos a alterar de una forma determinada la variable.\n",
    "* si altero el nombre de la variable global, `lista_pp` en el ejemplo anterior, el comportamiento del programa no varía."
   ]
  },
  {
   "cell_type": "markdown",
   "metadata": {},
   "source": [
    "***\n",
    "<a id='Recursividad'></a>"
   ]
  },
  {
   "cell_type": "markdown",
   "metadata": {},
   "source": [
    "## Recursividad\n",
    "\n",
    "El lenguaje Python permite que las funciones puedan llamarse a sí mismas y a esto se le llama **recursividad**.\n",
    "\n",
    "Veamos el siguiente ejemplo sencillo. Se trata de un programa que realiza un conteo descendente desde el valor entero que se le pasa como parámetro hasta cero. "
   ]
  },
  {
   "cell_type": "code",
   "execution_count": 8,
   "metadata": {},
   "outputs": [
    {
     "name": "stdout",
     "output_type": "stream",
     "text": [
      "10 ....\n",
      "9 ....\n",
      "8 ....\n",
      "7 ....\n",
      "6 ....\n",
      "5 ....\n",
      "4 ....\n",
      "3 ....\n",
      "2 ....\n",
      "1 ....\n",
      "0 Lanzando....\n"
     ]
    }
   ],
   "source": [
    "# Cuenta atrás utilizando recursividad\n",
    "def cuenta_atras(cont):\n",
    "    if cont < 1:\n",
    "        print(cont, 'Lanzando....')\n",
    "    else:\n",
    "        print(cont, '....')\n",
    "        cuenta_atras(cont-1)\n",
    "\n",
    "\n",
    "# Programa principal\n",
    "cuenta_atras(10)"
   ]
  },
  {
   "cell_type": "markdown",
   "metadata": {},
   "source": [
    "A notar:\n",
    "1. La solución recursiva carece de bucles. \n",
    "2. El mismo efecto se podría haber logrado con bucles: cualquier solución recursiva admite una implementación iterativa (y viceversa).\n",
    "3. El condicional `if` es clave en la implementación de la recursividad. Permite distinguir los dos casos que siempre deben estar presentes en una función recursiva útil:\n",
    "    - **el caso base**: que permite finalizar la función y devolver el control al código que la llamó: en este caso la condición de que ```cont < 1```.\n",
    "    - **la llamada recursiva**: en la cual se realiza la llamada a la propia función que se define (en el ejemplo ```cuenta_atras()```) pasando un argumento diferente que logre el propósito de que la ejecución sucesiva de la función se acerque al caso base, esto es, a la condición de finalización de la función."
   ]
  },
  {
   "cell_type": "markdown",
   "metadata": {},
   "source": [
    "#### ¿Por qué funciona la recursividad? \n",
    "La clave para entenderlo está en el mecanismo ya discutido de la llamada a las funciones. Específicamente en el hecho de que, para cada nueva llamada recursiva a la función, se crea un nuevo marco local dónde se definen los parámetros y variables locales, logrando de esa forma que no se sobrescriban los datos perteneciente a la invocación anterior de la misma función."
   ]
  },
  {
   "cell_type": "markdown",
   "metadata": {},
   "source": [
    "#### Desventajas de una función recursiva con respecto a la iterativa\n",
    "En el ejemplo sencillo visto no se gana nada con la implementación recursiva. \n",
    "- Requiere mayor cantidad de memoria y esa cantidad de memoria extra crece con el número de llamadas recursivas (con el tamaño del problema). La memoria extra se requiere para definir los diversos marcos locales de memoria\n",
    "- La ejecución es más lenta: las llamadas a funciones añaden tiempo de cómputo: mayor número de instrucciones en código de máquina necesarias para crear los nuevos marcos de memoria, copiar los parámetros, _recordar_ la dirección de retorno necesaria cuando la función retorna, etc."
   ]
  },
  {
   "cell_type": "markdown",
   "metadata": {},
   "source": [
    "#### ¿Cuál es, entonces, la utilidad de una solución recursiva?\n",
    "\n",
    "Hay una serie de problemas cuya propia definición hace que resulte muy natural el uso de una implementación recursiva. Este es caso del cálculo del factorial (cuya implementación iterativa hemos utilizado antes), que puede ser definido, de forma muy intuitiva, como sigue:\n",
    "\n",
    "\\begin{equation}\n",
    "  n!=\\begin{cases}\n",
    "    1 & \\text{si $n<2$}.\\\\\n",
    "    n(n-1)! & \\text{en caso contrario}.\n",
    "  \\end{cases}\n",
    "\\end{equation}\n",
    "\n",
    "En este caso, la solución iterativa y la recursiva resultan igual de sencillas. Hay otros casos, sin embargo, en que la solución recursiva resulta mucho más clara y natural. Es el caso de algunos métodos de ordenación eficientes, como QuickSort o MergeSort, el recorrido de estructuras de memoria como los árboles, retos curiosos como el problema de las Torres de Hanoi, etc.\n",
    "\n",
    "Debido a sus valores didácticos, veremos en detalle la implementación recursiva del factorial."
   ]
  },
  {
   "cell_type": "code",
   "execution_count": 9,
   "metadata": {},
   "outputs": [
    {
     "name": "stdout",
     "output_type": "stream",
     "text": [
      "24\n"
     ]
    }
   ],
   "source": [
    "# Halla factorial de entero de forma recursiva\n",
    "def factr(n):\n",
    "    if n < 2:\n",
    "        return 1\n",
    "    else:\n",
    "        return n*factr(n-1)\n",
    "\n",
    "\n",
    "# programa principal\n",
    "f_4 = factr(4)\n",
    "print(f_4)"
   ]
  },
  {
   "cell_type": "markdown",
   "metadata": {},
   "source": [
    "***\n",
    "<a id='Las_funciones_como_objetos'></a>"
   ]
  },
  {
   "cell_type": "markdown",
   "metadata": {},
   "source": [
    "## Las funciones como objetos\n",
    "\n",
    "En Python, las funciones son consideradas como objetos: encapsulan datos y comportamiento. Habrá notado al discutir la traza de los programas previos que, junto a las variables _convencionales_ del programa principal, aparecían también referencias a las funciones definidas en el programa como si fueran otras tantas variables. Esto se hace porque, de hecho, las funciones son también consideradas como un tipo especial de objeto.\n",
    "\n",
    "Esta consideración tiene implicaciones muy interesantes. Quizá la más notable es que se pueden _pasar_ funciones como parámetros a otras, creando, por así decirlo, funciones de orden superior y brindando una gran flexibilidad a la programación."
   ]
  },
  {
   "cell_type": "code",
   "execution_count": 10,
   "metadata": {},
   "outputs": [
    {
     "name": "stdout",
     "output_type": "stream",
     "text": [
      "[2.0, 1.4, 0.2]\n"
     ]
    }
   ],
   "source": [
    "# Limita valor de argumento entre [inf,sup]\n",
    "def limita(valor, inf=0.0, sup=1.):\n",
    "    if inf <= valor <= sup:\n",
    "        return valor\n",
    "    elif valor > sup:\n",
    "        return sup\n",
    "    else:\n",
    "        return inf\n",
    "\n",
    "\n",
    "# multiplica parámetro por 2\n",
    "def mult_2(n):\n",
    "    n *= 2\n",
    "    return n\n",
    "\n",
    "\n",
    "# Recibe lista y aplica func() a cada uno de los elementos\n",
    "def procesa_lista(lista, func):\n",
    "    for i in range(len(lista)):\n",
    "        lista[i] = func(lista[i])\n",
    "\n",
    "\n",
    "# Programa principal\n",
    "a = [2.1, 0.7, 0.1]\n",
    "procesa_lista(a, limita)\n",
    "procesa_lista(a, mult_2)\n",
    "print(a)"
   ]
  },
  {
   "cell_type": "markdown",
   "metadata": {},
   "source": [
    "Las dos primeras funciones definidas en el código previo (```limita()``` y ```mult_2()```) reciben como parámetro formal un valor de tipo numérico y devuelven mediante ```return``` otro valor. En el primer caso, se trata de una función ya vista, que *limita* el valor de entrada a un rango especificado por otros dos parámetros, mientras que, en el segundo caso, se devuelve el valor de entrada, multiplicado por 2.\n",
    "Por su parte, la función ```procesa_lista()``` recibe como primer parámetro una lista. Lo novedoso es que el segundo parámetro, ```func```, es un **objeto de tipo función**, utilizado para modificar cada uno de los elementos de la lista recibida.\n",
    "\n",
    "En el programa principal, la función de orden superior ```procesa_lista()``` es invocada dos veces, para realizar dos procesamientos completamente diferentes. Esto se logra pasando en cada caso, como segundo parámetro, una función diferente, primero ```limita()``` y después ```mult_2()```. El primero para limitar cada uno de los elementos de la lista a un rango entre ```[0,1]``` y el segundo para multiplicar la lista resultante por `2`."
   ]
  },
  {
   "cell_type": "markdown",
   "metadata": {},
   "source": [
    "#### Haciendo que una función sea pura\n",
    "Debe notarse que la función `procesa_lista()` tiene un comportamiento que puede ser indeseable. Altera el valor de la lista original del programa principal, como consecuencia de la mutabilidad de las listas.\n",
    "\n",
    "Puede que un usuario necesite preservar la lista original. Una opción es hacer una copia con anterioridad. La otra es utilizar una versión **pura**, sin **efectos colaterales** (**side effects**) que *sorprendan* al usuario. \n",
    "\n",
    "Veamos una versión pura:"
   ]
  },
  {
   "cell_type": "code",
   "execution_count": 11,
   "metadata": {},
   "outputs": [
    {
     "name": "stdout",
     "output_type": "stream",
     "text": [
      "[2.0, 1.4, 0.2]\n"
     ]
    }
   ],
   "source": [
    "# Recibe lista y aplica func() a cada uno de los elementos grabándo el resultado en una nueva lista\n",
    "def procesa_lista_pura(lista, func):\n",
    "    nueva_lista = [0]*len(lista)\n",
    "    for i in range(len(lista)):\n",
    "        nueva_lista[i] = func(lista[i])\n",
    "    return nueva_lista\n",
    "\n",
    "\n",
    "# Programa principal\n",
    "a = [2.1, 0.7, 0.1]\n",
    "b = procesa_lista_pura(a, limita)\n",
    "c = procesa_lista_pura(b, mult_2)\n",
    "print(c)"
   ]
  },
  {
   "cell_type": "markdown",
   "metadata": {},
   "source": [
    "***\n",
    "<a id='Funciones_con_un_número_indeterminado_de_argumentos'></a>"
   ]
  },
  {
   "cell_type": "markdown",
   "metadata": {},
   "source": [
    "## Funciones con un número indeterminado de argumentos\n",
    "En la versión original del código de ```procesa_lista_pura()``` no se pueden utilizar funciones que a su vez utilicen otros argumentos de entrada. Así, la función ```limita(valor, inf=0, sup=1)``` cumple su cometido pero siempre que se utilicen los valores por defecto de los argumentos formales ```inf``` y ```sup```, `0` y `1` respectivamente. \n",
    "\n",
    "¿Cómo poder pasar a la función de orden superior `procesa_lista_pura()` además del nombre de la función a aplicar, los parámetros que esta última pudiera tener?\n",
    "\n",
    "Para hacerlo se puede hacer uso de la posibilidad que brinda Python de definir funciones con un número variable de argumentos.\n",
    "``` python\n",
    "procesa_lista_pura(lista, func, *arg)\n",
    "```\n",
    "Con la declaración previa se está informando de que la función en cuestión siempre va a recibir dos argumentos, ```lista``` y `func`, pero que a continuación puede recibir de cero hasta un número arbitrariamente grande de parámetros representados por `*arg`.\n",
    "\n",
    "El parámetro `arg` no es sino una tupla formada a partir de los argumentos opcionales. El operador unario `*` actúa de desempaquetador de la tupla para generar una lista de argumentos."
   ]
  },
  {
   "cell_type": "code",
   "execution_count": 12,
   "metadata": {},
   "outputs": [
    {
     "name": "stdout",
     "output_type": "stream",
     "text": [
      "[2, 0.7, 0.1, 2, 2, 0]\n"
     ]
    }
   ],
   "source": [
    "def limita(valor, inf=0.0, sup=1.):\n",
    "    if inf <= valor <= sup:\n",
    "        return valor\n",
    "    elif valor > sup:\n",
    "        return sup\n",
    "    else:\n",
    "        return inf\n",
    "\n",
    "\n",
    "# Recibe lista y aplica func() a cada uno de los elementos\n",
    "def procesa_lista_pura(lista, func, *arg):\n",
    "    nueva_lista = [0]*len(lista)\n",
    "    for i in range(len(lista)):\n",
    "        nueva_lista[i] = func(lista[i], *arg)\n",
    "    return nueva_lista\n",
    "\n",
    "\n",
    "# Programa principal\n",
    "a = [2.1, 0.7, 0.1, 4.1, 10, -2.5]\n",
    "b = procesa_lista_pura(a, limita, 0, 2)\n",
    "print(b)"
   ]
  },
  {
   "cell_type": "markdown",
   "metadata": {},
   "source": [
    "En el cuerpo de la función, al invocar a la función `func()` se la pasan los mismos argumentos `*arg` que ha recibido.\n",
    "\n",
    "En el programa principal, la lista de argumentos para este caso concreto se reduce a dos, los límites inferior y superior."
   ]
  },
  {
   "cell_type": "markdown",
   "metadata": {},
   "source": [
    "El número variable de argumentos se puede utilizar en muchos otros contextos. Analice el ejemplo que aparece a continuación."
   ]
  },
  {
   "cell_type": "code",
   "execution_count": 13,
   "metadata": {},
   "outputs": [
    {
     "name": "stdout",
     "output_type": "stream",
     "text": [
      "(1, 2, 3)\n",
      "6\n",
      "(4, 5, 6, 7)\n",
      "22\n",
      "(1, 2, 3, 4, 5)\n",
      "15\n"
     ]
    }
   ],
   "source": [
    "def suma(*arg):\n",
    "    print(arg)  # arg es una tupla formada por los parámetros\n",
    "    sum = 0\n",
    "    for elem in arg:\n",
    "        sum += elem\n",
    "    return sum\n",
    "\n",
    "\n",
    "print(suma(1, 2, 3))\n",
    "print(suma(4, 5, 6, 7))\n",
    "\n",
    "lista = [1, 2, 3, 4, 5]\n",
    "\n",
    "print(suma(*lista))  # *lista desempaqueta la lista para enviar suma(1, 2, 3, 4, 5)"
   ]
  },
  {
   "cell_type": "markdown",
   "metadata": {},
   "source": [
    "<a id='Polimorfismo_con_funciones'></a>"
   ]
  },
  {
   "cell_type": "markdown",
   "metadata": {},
   "source": [
    "## Polimorfismo con funciones\n",
    "\n",
    "A diferencia de otros muchos lenguajes, Python no exige la declaración previa del **tipo** de los datos a utilizar, sino que estos son determinados **dinámicamente** en el momento en que se utilizan (**_tipado dinámico_**).\n",
    "\n",
    "Por otra parte, como también se ha visto, los operadores en Python, están **sobrecargados**.\n",
    "> Por ejemplo, el operador `+` está definido para sumar tipos numéricos `int`, `float` y `complex`, con la interpretación _natural_ derivada de las matemáticas. Pero también puede ser utilizado con `list` y `str` con un significado de **concatenación**.\n",
    "\n",
    "El **tipado dinámico** y la **sobrecarga** de los operadores hacen que las funciones en Python tengan un comportamiento **polimórfico**: la capacidad que tiene una misma función de poder operar con diferentes tipos de datos y ofrecer un resultado coherente, compatible con el propósito de la función, pero adaptado a cada caso particular. "
   ]
  },
  {
   "cell_type": "code",
   "execution_count": 14,
   "metadata": {},
   "outputs": [
    {
     "name": "stdout",
     "output_type": "stream",
     "text": [
      "Sumando enteros: 5\n",
      "Sumando floats: 6.5\n",
      "Concatenando lista (con función suma): [1, 2, 3, 5]\n"
     ]
    }
   ],
   "source": [
    "# Función que suma dos valores de entrada\n",
    "def suma(a, b):\n",
    "    return a+b\n",
    "\n",
    "\n",
    "# Programa Principal que ilustra uso polimórfico de la función suma\n",
    "print('Sumando enteros:', suma(2, 3))\n",
    "print('Sumando floats:', suma(2.5, 4.0))\n",
    "print('Concatenando lista (con función suma):', suma([1, 2], [3, 5]))"
   ]
  },
  {
   "cell_type": "markdown",
   "metadata": {},
   "source": [
    "El hecho de que el operador `+` esté sobrecargado, que Python no _exija_ la declaración previa del tipo de las variables y, por supuesto, tampoco del tipo de los parámetros formales de una función, hace que éstas se comporten de forma polimórfica.\n",
    "\n",
    "Un ejemplo algo más complejo:"
   ]
  },
  {
   "cell_type": "code",
   "execution_count": 15,
   "metadata": {},
   "outputs": [
    {
     "name": "stdout",
     "output_type": "stream",
     "text": [
      "Con listas -> [1, 2]\n",
      "Con cadenas -> ['1', '2']\n",
      "Con tuplas -> [1, 2]\n"
     ]
    }
   ],
   "source": [
    "# Recibe dos tipos iterables (lista, tuplas, cadenas ...) y devuelve\n",
    "# una lista con los elementos del primer argumento no contenidos en el segundo\n",
    "def dif_iterables(iter1, iter2):\n",
    "    try:\n",
    "        diferencia = []\n",
    "        for elem in iter1:\n",
    "            if elem not in iter2:\n",
    "                diferencia.append(elem)\n",
    "    except TypeError:\n",
    "        raise TypeError\n",
    "    return diferencia\n",
    "\n",
    "\n",
    "# Programa principal: probamos la función con diferentes tipos (siempre que puedan ser iterados)\n",
    "print(\"Con listas ->\", dif_iterables([1, 2, 3], [3]))\n",
    "print(\"Con cadenas ->\", dif_iterables(\"123\", \"3\"))\n",
    "print(\"Con tuplas ->\", dif_iterables((1, 2, 3), (3,)))"
   ]
  },
  {
   "cell_type": "markdown",
   "metadata": {},
   "source": [
    "La función en el ejemplo previo actúa de forma polimórfica cuando sus argumentos son dos colecciones *iterables*, devolviendo siempre una lista con aquellos elementos de la primera colección que no se encuentren en la segunda. En teoría de conjuntos se diría que es la operación *diferencia(A - B)*, donde tanto A como B son conjuntos.\n",
    "\n",
    "¿Esto significa que se puede procesar correctamente cualquier tipo de datos de entrada? ¿Qué pasaría si es llamada con un parámetro que no sea una colección?\n",
    "\n",
    "Evidentemente, en este caso utilizamos la estrategia **EAFP** con manejo de excepciones, para *lanzar* una excepción de tipo **TypeError** cuando se reciban valores no iterables, dejando que la función que la llame se _ocupe_ de lidiar de forma _razonable_ con el error."
   ]
  },
  {
   "cell_type": "markdown",
   "metadata": {},
   "source": [
    "#### Utilizando introspección\n",
    "Un tópico de alguna manera relacionado con lo anterior, es el uso de las capacidades de **introspección** de lenguaje. Como Python tiene un **tipado dinámico**, tiene sentido que también se pueda *inspeccionar*,  *conocer* información relativa a las características de los valores utilizados durante la **ejecución** del programa. \n",
    "\n",
    "Siguiendo con el ejemplo previo, hemos visto que con independencia del tipo de colección de que se trate, siempre se devuelve una lista. Este comportamiento puede ser el adecuado en muchos casos.\n",
    "\n",
    "Pero ¿cómo hacer para que la función devuelva el mismo tipo de la colección que recibe como primer argumento. Esto es, si recibe una lista devuelve una lista y si recibe una tupla pues devuelve una tupla. \n",
    "\n",
    "La modificación del código visto, que se ofrece en la siguiente celda, usa la función `isinstance()` para conocer en **tiempo de ejecución** el tipo del dato y, entonces, decidir si convertir la lista que actúa como variable local, a uno u otro tipo de dato."
   ]
  },
  {
   "cell_type": "code",
   "execution_count": 16,
   "metadata": {},
   "outputs": [
    {
     "name": "stdout",
     "output_type": "stream",
     "text": [
      "Con listas [1, [2]]\n",
      "Con cadenas 24\n",
      "Con tuplas (1, 2)\n"
     ]
    }
   ],
   "source": [
    "# Recibe dos tipos iterables (lista, tuplas, cadenas ...) y devuelve\n",
    "# un iterable del mismo tipo con los elementos del primer argumento no contenidos en el segundo\n",
    "def dif_iterables2(iter1, iter2):\n",
    "    try:\n",
    "        diferencia = []\n",
    "        for elem in iter1:\n",
    "            if elem not in iter2:\n",
    "                diferencia.append(elem)\n",
    "        if isinstance(iter1, tuple):\n",
    "            diferencia = tuple(diferencia)\n",
    "        elif isinstance(iter1, str):\n",
    "            diferencia = ''.join([str(elem) for elem in diferencia])\n",
    "    except TypeError:\n",
    "        raise TypeError\n",
    "    return diferencia\n",
    "\n",
    "\n",
    "# Programa principal: probamos la función con diferentes tipos (siempre que puedar ser iterados)\n",
    "print(\"Con listas\", dif_iterables2([1, [2], [3]], [[3]]))\n",
    "print(\"Con cadenas\", dif_iterables2(\"12334\", \"13\"))\n",
    "print(\"Con tuplas\", dif_iterables2((1, 2, 3), (3,)))"
   ]
  },
  {
   "cell_type": "markdown",
   "metadata": {},
   "source": [
    "En el caso de la cadena, se convierten uno a uno los caracteres, utilizando la posibilidad de **comprensión** de las listas. El uso simplemente de `str(diferencia)` no da el resultado buscado, puesto que convertiría a `str`. Pero estos detalles, que variarán de ejemplo a ejemplo, no es lo importante del código, sino la posibilidad de **adaptar** el comportamiento de la función al tipo de datos concreto mediante la **introspección**. "
   ]
  },
  {
   "cell_type": "markdown",
   "metadata": {},
   "source": [
    "***\n",
    "<a id='Buenas_prácticas'></a>"
   ]
  },
  {
   "cell_type": "markdown",
   "metadata": {},
   "source": [
    "## Buenas prácticas en el diseño de funciones\n",
    "\n",
    "A partir del conocimiento adquirido en este tema, vamos a revisitar rápidamente, a modo de resumen, cuáles se consideran las _mejores prácticas_ a la hora de diseñar nuestras **funciones** y, en definitiva, al estructurar el código del programa:\n",
    "\n",
    "- Las funciones deben dedicarse a una sola tarea: en la literatura a esta característica se la llama **principio de responsabilidad única**.\n",
    "- La relación entre una función y otras, y entre éstas y el programa principal, debe realizarse, en la medida de lo posible, a través de la interfaz que ofrecen los parámetros de entrada y los valores devueltos mediante `return`. Esto es, el **acoplamiento** entre las funciones debe ser mínimo y producirse a través del mecanismo descrito. El **acoplamiento** sólo a través de la interfaz, garantiza el **encapsulamiento** que ofrecen las funciones: no interesa **cómo** está _implementada_ la tarea a resolver, sino saber **qué** necesita y **qué** devuelve.\n",
    "     Esto implica:\n",
    "    - No usar variables globales (salvo en casos excepcionales).\n",
    "    - No modificar, por sistema, los parámetros de la función que sean **mutables** (**listas**, **diccionarios**, **sets**). En los casos en que se decida hacerlo, documentar este hecho exhaustivamente.\n",
    "- Una función **no debe ocupar muchas líneas de código**. Cuando _veamos_ que el código de nuestra función _crece_ demasiado, debemos plantearnos que _algo va mal_ en el diseño de nuestro programa: se puede estar violando, por ejemplo, el **principio de responsabilidad única**\n",
    "- Se debe intentar que nuestras funciones sean los más **generales** que sea posible: no tener diferentes funciones para elevar al cuadrado, al cubo, etc.\n",
    "- El hecho de que Python sea un lenguaje **tipado dinámicamente** hace que las funciones puedan ser **polimórficas**. Esto aumenta la responsabilidad del programador:\n",
    "    - Puede ser una ventaja porque hace que sean más **generales**; pero hay que tener en cuenta que debe funcionar correctamente para todos los tipos de datos que *razonablemente* pueda admitir.\n",
    "    - Se debe utilizar preferiblemente la estrategia **EAFP** de manejo de excepciones para lidiar con valores de tipo _inesperado_ en los parámetros de entrada.\n",
    "    - Para una programación más avanzada, se puede hacer uso de la **introspección** de Python para **adaptar** el comportamiento de la función, de una manera coherente con el propósito de **cohesión** de la misma, según el valor que reciba."
   ]
  },
  {
   "cell_type": "markdown",
   "metadata": {},
   "source": [
    "***\n",
    "<a id='Temas_avanzados'></a>"
   ]
  },
  {
   "cell_type": "markdown",
   "metadata": {},
   "source": [
    "## Temas avanzados y bibliografía específica\n",
    "\n",
    "Hemos visto que Python trata a las funciones como un **objeto** más, que tiene la peculiaridad de contener código ejecutable. Para Python, las funciones son _ciudadanos de primera clase_ como se suele decir en la literatura especializada. Se pueden asignar funciones a variables y pasarlas a otras funciones. El concepto de funciones de nivel superior es básico en el paradigma de **programación funcional** que Python soporta. Aquí se han dado algunos elementos que _sugieren_ la potencialidad de este tipo de paradigma, pero el tema es mucho más profundo y rebasa los límites de este curso introductorio.\n",
    "Por ejemplo, es posible:\n",
    "- Definir funciones dentro de otras funciones.\n",
    "- Devolver funciones mediante `return`.\n",
    "\n",
    "Estas y otras posibilidades que abren la puerta a una forma aún más abstracta, potente y productiva de programar. A expensas, desde luego, de una mayor complejidad conceptual.\n",
    "\n",
    "El alumno interesado puede proseguir el estudio de estos temas, por ejemplo, en el libro [**Composing Programs**](https://composingprograms.com/pages/11-getting-started.html) que se encuentra disponible en línea."
   ]
  }
 ],
 "metadata": {
  "anaconda-cloud": {},
  "kernelspec": {
   "display_name": "Python 3",
   "language": "python",
   "name": "python3"
  },
  "language_info": {
   "codemirror_mode": {
    "name": "ipython",
    "version": 3
   },
   "file_extension": ".py",
   "mimetype": "text/x-python",
   "name": "python",
   "nbconvert_exporter": "python",
   "pygments_lexer": "ipython3",
   "version": "3.7.7"
  },
  "nbpresent": {
   "slides": {
    "1390653e-bdb6-444a-b611-39c60ffb77a1": {
     "id": "1390653e-bdb6-444a-b611-39c60ffb77a1",
     "prev": "5c2c8cc8-3676-4c06-b94c-d3f866ade69b",
     "regions": {
      "620813b3-9326-41e6-9d30-f5ac4f858225": {
       "attrs": {
        "height": 0.8,
        "width": 0.8,
        "x": 0.1,
        "y": 0.1
       },
       "content": {
        "cell": "86423d42-e808-47e6-b1a7-e925e195f821",
        "part": "whole"
       },
       "id": "620813b3-9326-41e6-9d30-f5ac4f858225"
      }
     }
    },
    "21036f68-a492-4532-a832-b213435c0ad2": {
     "id": "21036f68-a492-4532-a832-b213435c0ad2",
     "prev": "2c1c7f11-e5ee-4a25-8975-f0b033ba739a",
     "regions": {
      "a3908958-0784-4faa-ac97-b9325abe8ede": {
       "attrs": {
        "height": 0.8,
        "width": 0.8,
        "x": 0.1,
        "y": 0.1
       },
       "content": {
        "cell": "9aa64747-dc13-4bd9-bf26-73606628ad1c",
        "part": "whole"
       },
       "id": "a3908958-0784-4faa-ac97-b9325abe8ede"
      }
     }
    },
    "2c1c7f11-e5ee-4a25-8975-f0b033ba739a": {
     "id": "2c1c7f11-e5ee-4a25-8975-f0b033ba739a",
     "prev": "f3f10f50-4cad-4149-b308-c66e6a493a72",
     "regions": {
      "9e2d820e-ec17-4915-b960-0e0d5f640379": {
       "attrs": {
        "height": 0.8,
        "width": 0.8,
        "x": 0.1,
        "y": 0.1
       },
       "content": {
        "cell": "0281a659-abae-4cb9-b30f-b552b9db399e",
        "part": "whole"
       },
       "id": "9e2d820e-ec17-4915-b960-0e0d5f640379"
      }
     }
    },
    "30509a9a-dbd8-4dbd-9fab-852a7266d894": {
     "id": "30509a9a-dbd8-4dbd-9fab-852a7266d894",
     "prev": "8b078b7a-c2c6-4129-a19f-2a4f5c4a26f3",
     "regions": {
      "7baa4379-8f84-4d8f-b002-5a5ffd051489": {
       "attrs": {
        "height": 0.8,
        "width": 0.8,
        "x": 0.1,
        "y": 0.1
       },
       "content": {
        "cell": "14d1a927-b37f-4323-9404-17d453f3b487",
        "part": "whole"
       },
       "id": "7baa4379-8f84-4d8f-b002-5a5ffd051489"
      }
     }
    },
    "42d1bd80-265e-4acf-bbc1-b202afddade3": {
     "id": "42d1bd80-265e-4acf-bbc1-b202afddade3",
     "prev": "9bfe6214-4631-45b5-a05e-8923f178bb57",
     "regions": {
      "f2340145-4108-4fed-a0bc-4b91ca6c10ae": {
       "attrs": {
        "height": 0.8,
        "width": 0.8,
        "x": 0.1,
        "y": 0.1
       },
       "content": {
        "cell": "80be6133-d85a-4e43-9964-6578abcbaaac",
        "part": "whole"
       },
       "id": "f2340145-4108-4fed-a0bc-4b91ca6c10ae"
      }
     }
    },
    "5c2c8cc8-3676-4c06-b94c-d3f866ade69b": {
     "id": "5c2c8cc8-3676-4c06-b94c-d3f866ade69b",
     "prev": "6c4bc874-f3fc-472c-a81c-cd415b91c24b",
     "regions": {
      "e1de7ab6-4ef2-4b14-92d7-b174bf32806e": {
       "attrs": {
        "height": 0.8,
        "width": 0.8,
        "x": 0.1,
        "y": 0.1
       },
       "content": {
        "cell": "ae8725fa-30f7-4d7f-a2c2-5f86953d730b",
        "part": "whole"
       },
       "id": "e1de7ab6-4ef2-4b14-92d7-b174bf32806e"
      }
     }
    },
    "5cab5674-74dc-4378-93d7-eaa79e90cdae": {
     "id": "5cab5674-74dc-4378-93d7-eaa79e90cdae",
     "prev": "ba274d18-2760-4e55-ad47-2727b824fd00",
     "regions": {
      "2178d7cf-bf1e-4850-95a2-1509f15febfa": {
       "attrs": {
        "height": 0.8,
        "width": 0.8,
        "x": 0.1,
        "y": 0.1
       },
       "content": {
        "cell": "5d433d13-f44a-45bb-91fd-406f60b33b67",
        "part": "whole"
       },
       "id": "2178d7cf-bf1e-4850-95a2-1509f15febfa"
      }
     }
    },
    "638df7e1-84d1-4fd4-a15c-c94b731d1bea": {
     "id": "638df7e1-84d1-4fd4-a15c-c94b731d1bea",
     "prev": "b9dddf99-da24-46e1-81d4-8ac33b6fc3a3",
     "regions": {
      "deba8b1f-d997-4426-8f1b-978df7f19b41": {
       "attrs": {
        "height": 0.8,
        "width": 0.8,
        "x": 0.1,
        "y": 0.1
       },
       "content": {
        "cell": "7adaaf8f-a83e-456b-b99a-d3b3d4cb6d1a",
        "part": "whole"
       },
       "id": "deba8b1f-d997-4426-8f1b-978df7f19b41"
      }
     }
    },
    "6bda9eb4-0724-4e53-9971-131d0cb5f9e2": {
     "id": "6bda9eb4-0724-4e53-9971-131d0cb5f9e2",
     "prev": "ee33e624-cd65-4b8c-b28b-c95623a56dbf",
     "regions": {
      "feffbbd2-27d1-4318-8359-7d57583ee2bc": {
       "attrs": {
        "height": 0.8,
        "width": 0.8,
        "x": 0.1,
        "y": 0.1
       },
       "content": {
        "cell": "8dce188c-36b7-41fa-9020-b5cb5502e452",
        "part": "whole"
       },
       "id": "feffbbd2-27d1-4318-8359-7d57583ee2bc"
      }
     }
    },
    "6c4bc874-f3fc-472c-a81c-cd415b91c24b": {
     "id": "6c4bc874-f3fc-472c-a81c-cd415b91c24b",
     "prev": null,
     "regions": {
      "c9eac7e8-d033-4b03-8bf7-abd58ffe8d41": {
       "attrs": {
        "height": 0.8,
        "width": 0.8,
        "x": 0.1,
        "y": 0.1
       },
       "content": {
        "cell": "71219fc3-c9cb-4700-9f0b-ab38b1b223da",
        "part": "whole"
       },
       "id": "c9eac7e8-d033-4b03-8bf7-abd58ffe8d41"
      }
     }
    },
    "6d7ab34f-9d99-4c74-9877-27b25abc73f0": {
     "id": "6d7ab34f-9d99-4c74-9877-27b25abc73f0",
     "prev": "febe7de9-9362-4079-bfe9-2d4dfddf00e2",
     "regions": {
      "2ee252de-db5f-43e7-b4b7-7f59bba29962": {
       "attrs": {
        "height": 0.8,
        "width": 0.8,
        "x": 0.1,
        "y": 0.1
       },
       "content": {
        "cell": "85d1ab90-cc65-4935-808b-a6f57ecc892e",
        "part": "whole"
       },
       "id": "2ee252de-db5f-43e7-b4b7-7f59bba29962"
      }
     }
    },
    "7ea582c3-439d-4ec2-9f27-dea18bcacc31": {
     "id": "7ea582c3-439d-4ec2-9f27-dea18bcacc31",
     "prev": "f0727a74-61a1-48c1-94a5-3e7490c29f0b",
     "regions": {
      "652960af-b61f-4c36-b122-3eacd714867b": {
       "attrs": {
        "height": 0.8,
        "width": 0.8,
        "x": 0.1,
        "y": 0.1
       },
       "content": {
        "cell": "86172e20-fe16-447d-859f-24a81e563011",
        "part": "whole"
       },
       "id": "652960af-b61f-4c36-b122-3eacd714867b"
      }
     }
    },
    "8b078b7a-c2c6-4129-a19f-2a4f5c4a26f3": {
     "id": "8b078b7a-c2c6-4129-a19f-2a4f5c4a26f3",
     "prev": "5cab5674-74dc-4378-93d7-eaa79e90cdae",
     "regions": {
      "dce1e605-9342-414d-b8c6-7dcb922fbf47": {
       "attrs": {
        "height": 0.8,
        "width": 0.8,
        "x": 0.1,
        "y": 0.1
       },
       "content": {
        "cell": "ee1bdf03-6e13-4f1f-9dc9-22d4e344fdba",
        "part": "whole"
       },
       "id": "dce1e605-9342-414d-b8c6-7dcb922fbf47"
      }
     }
    },
    "999513ad-b53e-4d84-b9ef-ed37967f74d6": {
     "id": "999513ad-b53e-4d84-b9ef-ed37967f74d6",
     "prev": "638df7e1-84d1-4fd4-a15c-c94b731d1bea",
     "regions": {
      "2e85c1b2-3c30-413e-9b0f-141281da3a2a": {
       "attrs": {
        "height": 0.8,
        "width": 0.8,
        "x": 0.1,
        "y": 0.1
       },
       "content": {
        "cell": "998dc7f5-ab6d-4fb8-866f-4fa96a06aaaa",
        "part": "whole"
       },
       "id": "2e85c1b2-3c30-413e-9b0f-141281da3a2a"
      }
     }
    },
    "9add3d79-8621-4167-8e1d-d4ae48fba71b": {
     "id": "9add3d79-8621-4167-8e1d-d4ae48fba71b",
     "prev": "7ea582c3-439d-4ec2-9f27-dea18bcacc31",
     "regions": {
      "d5f4537e-4d8c-4179-b14b-6c475f50b04e": {
       "attrs": {
        "height": 0.8,
        "width": 0.8,
        "x": 0.1,
        "y": 0.1
       },
       "content": {
        "cell": "9659b1c1-9aed-4d71-b830-4a60d408ad71",
        "part": "whole"
       },
       "id": "d5f4537e-4d8c-4179-b14b-6c475f50b04e"
      }
     }
    },
    "9bfe6214-4631-45b5-a05e-8923f178bb57": {
     "id": "9bfe6214-4631-45b5-a05e-8923f178bb57",
     "prev": "30509a9a-dbd8-4dbd-9fab-852a7266d894",
     "regions": {
      "aac53254-d149-49f2-8f92-670c6f2714bb": {
       "attrs": {
        "height": 0.8,
        "width": 0.8,
        "x": 0.1,
        "y": 0.1
       },
       "content": {
        "cell": "c71a78d7-9d0e-4825-9c84-9998f971317d",
        "part": "whole"
       },
       "id": "aac53254-d149-49f2-8f92-670c6f2714bb"
      }
     }
    },
    "b9dddf99-da24-46e1-81d4-8ac33b6fc3a3": {
     "id": "b9dddf99-da24-46e1-81d4-8ac33b6fc3a3",
     "prev": "1390653e-bdb6-444a-b611-39c60ffb77a1",
     "regions": {
      "0b31dbb4-f15b-4a16-9420-c5dc8ed4e871": {
       "attrs": {
        "height": 0.8,
        "width": 0.8,
        "x": 0.1,
        "y": 0.1
       },
       "content": {
        "cell": "d0569bb0-fad8-48b7-8d48-0066bfb90401",
        "part": "whole"
       },
       "id": "0b31dbb4-f15b-4a16-9420-c5dc8ed4e871"
      }
     }
    },
    "ba274d18-2760-4e55-ad47-2727b824fd00": {
     "id": "ba274d18-2760-4e55-ad47-2727b824fd00",
     "prev": "ed47079d-58cf-4b87-a9fa-a709d8a7c3c6",
     "regions": {
      "13000b51-bd66-4fb5-970b-20bfad440880": {
       "attrs": {
        "height": 0.8,
        "width": 0.8,
        "x": 0.1,
        "y": 0.1
       },
       "content": {
        "cell": "f6847886-4044-43a7-9edd-f18efddcb7a9",
        "part": "whole"
       },
       "id": "13000b51-bd66-4fb5-970b-20bfad440880"
      }
     }
    },
    "ed47079d-58cf-4b87-a9fa-a709d8a7c3c6": {
     "id": "ed47079d-58cf-4b87-a9fa-a709d8a7c3c6",
     "prev": "9add3d79-8621-4167-8e1d-d4ae48fba71b",
     "regions": {
      "a96aea94-1714-4020-83f9-dbc03e9fd55e": {
       "attrs": {
        "height": 0.8,
        "width": 0.8,
        "x": 0.1,
        "y": 0.1
       },
       "content": {
        "cell": "5a579720-fa62-4525-85e3-dd049cbd73be",
        "part": "whole"
       },
       "id": "a96aea94-1714-4020-83f9-dbc03e9fd55e"
      }
     }
    },
    "ee33e624-cd65-4b8c-b28b-c95623a56dbf": {
     "id": "ee33e624-cd65-4b8c-b28b-c95623a56dbf",
     "prev": "999513ad-b53e-4d84-b9ef-ed37967f74d6",
     "regions": {
      "325ae98d-0855-4d16-8408-6d12f47efa24": {
       "attrs": {
        "height": 0.8,
        "width": 0.8,
        "x": 0.1,
        "y": 0.1
       },
       "content": {
        "cell": "829150e0-712b-4739-92d6-37b9c3d789cb",
        "part": "whole"
       },
       "id": "325ae98d-0855-4d16-8408-6d12f47efa24"
      }
     }
    },
    "f0727a74-61a1-48c1-94a5-3e7490c29f0b": {
     "id": "f0727a74-61a1-48c1-94a5-3e7490c29f0b",
     "prev": "6d7ab34f-9d99-4c74-9877-27b25abc73f0",
     "regions": {
      "1666081e-448d-4f80-90f2-9f26f1568cdc": {
       "attrs": {
        "height": 0.8,
        "width": 0.8,
        "x": 0.1,
        "y": 0.1
       },
       "content": {
        "cell": "d99a804c-9444-418b-bc94-3c2f064e2844",
        "part": "whole"
       },
       "id": "1666081e-448d-4f80-90f2-9f26f1568cdc"
      }
     }
    },
    "f3f10f50-4cad-4149-b308-c66e6a493a72": {
     "id": "f3f10f50-4cad-4149-b308-c66e6a493a72",
     "prev": "42d1bd80-265e-4acf-bbc1-b202afddade3",
     "regions": {
      "4fc1185f-bdb8-46fc-99bd-b8d30defeca9": {
       "attrs": {
        "height": 0.8,
        "width": 0.8,
        "x": 0.1,
        "y": 0.1
       },
       "content": {
        "cell": "9b7597e9-aaa9-4d9f-ba0d-22f43d1a3900",
        "part": "whole"
       },
       "id": "4fc1185f-bdb8-46fc-99bd-b8d30defeca9"
      }
     }
    },
    "febe7de9-9362-4079-bfe9-2d4dfddf00e2": {
     "id": "febe7de9-9362-4079-bfe9-2d4dfddf00e2",
     "prev": "6bda9eb4-0724-4e53-9971-131d0cb5f9e2",
     "regions": {
      "42348103-1cd6-4bac-b346-33cd41aea444": {
       "attrs": {
        "height": 0.8,
        "width": 0.8,
        "x": 0.1,
        "y": 0.1
       },
       "content": {
        "cell": "35a148d4-f201-4441-bf5e-8a07f93dea84",
        "part": "whole"
       },
       "id": "42348103-1cd6-4bac-b346-33cd41aea444"
      }
     }
    }
   },
   "themes": {}
  }
 },
 "nbformat": 4,
 "nbformat_minor": 2
}