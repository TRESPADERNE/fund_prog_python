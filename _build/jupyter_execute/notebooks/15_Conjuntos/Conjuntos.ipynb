{
 "cells": [
  {
   "cell_type": "markdown",
   "metadata": {},
   "source": [
    "# Conjuntos\n",
    "**Autores**: Rogelio Mazaeda, Félix Miguel Trespaderne.   "
   ]
  },
  {
   "cell_type": "markdown",
   "metadata": {},
   "source": [
    "## Contenidos\n",
    "[Introducción](#Introducción)<br>\n",
    "[Conjuntos](#Conjuntos_)<br>\n",
    "[Modificando dinámicamente los conjuntos](#Modificando_sets)<br>\n",
    "[El conjunto_como colección iterable](#Iterando_sets)<br>\n",
    "[Métodos de la clase conjunto_y funciones útiles](#Funciones_metodos_sets)<br>\n",
    "[Operaciones matemáticas de conjuntos con conjuntos](#Operaciones_sets)<br>\n",
    "[Ejemplo con comentario sobre eficiencia de conjuntos](#Ejemplos_sets)"
   ]
  },
  {
   "cell_type": "markdown",
   "metadata": {},
   "source": [
    "***\n",
    "<a id='Introducción'></a>"
   ]
  },
  {
   "cell_type": "markdown",
   "metadata": {},
   "source": [
    "## Introducción.\n",
    "\n",
    "El formalismo de la teoría de conjuntos es muy utilizado en matemáticas. Todos hemos recibido en nuestra educación previa muchos de sus conceptos básicos. \n",
    "\n",
    "Evitando ser excesivamente formales, un **conjunto** en matemáticas permite referirnos como un todo a una multitud de elementos diversos.\n",
    "\n",
    "Un **conjunto** puede estar vacío. O puede estar compuesto a su vez por otros conjuntos. Sobre los conjuntos se pueden plantear una serie de operaciones como la **unión**, la **intersección** y la **diferencia** entre otras.\n",
    "\n",
    "La colección `set` de Python trata de implementar algunos de los conceptos de su referente matemático, como veremos en las secciones posteriores."
   ]
  },
  {
   "cell_type": "markdown",
   "metadata": {},
   "source": [
    "***\n",
    "<a id='Conjuntos_'></a>"
   ]
  },
  {
   "cell_type": "markdown",
   "metadata": {},
   "source": [
    "## Conjuntos\n",
    "\n",
    "Los **conjuntos** (**sets**) de Python son colecciones que tiene las siguientes características:\n",
    "\n",
    "- La colección es **mutable**, pero los elementos contenidos tienen que ser **inmutables**.\n",
    "- Los elementos no pueden aparecer repetidos.\n",
    "- Es **iterable** y **no secuencial**"
   ]
  },
  {
   "cell_type": "markdown",
   "metadata": {},
   "source": [
    "Se pueden crear **conjuntos** especificando los elementos que lo conforman con la sintaxis:\n",
    "\n",
    "```python\n",
    "{elem1, elem2, elem3, ...}\n",
    "```\n",
    "donde se utilizan las llaves `{}` al igual que con los **diccionarios**, aunque debe observar que los elementos se describen de forma diferente."
   ]
  },
  {
   "cell_type": "code",
   "execution_count": 1,
   "metadata": {},
   "outputs": [],
   "source": [
    "digitos = {'0', '1', '2', '3', '4', '5', '6', '7', '8', '9'}"
   ]
  },
  {
   "cell_type": "markdown",
   "metadata": {},
   "source": [
    "Otra forma de crear **conjuntos** es utilizando la función `set()`, a la que se le pasa como argumento algún otro _iterable_.\n",
    "\n",
    "Ejemplo:"
   ]
  },
  {
   "cell_type": "code",
   "execution_count": 2,
   "metadata": {},
   "outputs": [
    {
     "name": "stdout",
     "output_type": "stream",
     "text": [
      "{1, 2, 3, 4}\n",
      "{'n', 't', 'a', 'r', 'j', 'L', ' ', ',', '.', 'f', 'u', 'o', 's', 'c', 'p', 'e', 'l', 'd', 'm', 'i'}\n"
     ]
    }
   ],
   "source": [
    "lista_num = [1, 2, 3, 4, 3]\n",
    "set_num = set(lista_num)\n",
    "set_letras = set(\"Las letras de esta cadena formaran el conjunto, pero sin repeticiones.\")\n",
    "\n",
    "print(set_num)\n",
    "print(set_letras)"
   ]
  },
  {
   "cell_type": "markdown",
   "metadata": {},
   "source": [
    "Es importante entender que los elementos del **conjunto** no pueden aparecer repetidos. Aunque tanto la lista como la cadena que sirve como fuente para crear el **conjunto** tienen elementos repetidos, el **conjunto** sólo almacena una instancia de cada elemento.\n",
    "\n",
    "Observe además que la función ```print()``` está _sobrecargada_ para poder sacar por pantalla objetos de tipo **conjunto**."
   ]
  },
  {
   "cell_type": "markdown",
   "metadata": {},
   "source": [
    "En la medida en que el **conjunto** es una colección **mutable**, se tienen que tener en cuenta las implicaciones ya vistas en el caso de las **listas** y los **diccionarios** en lo relativo a la creación de *alias* y la *copia superficial*.\n",
    "\n",
    "Esto es:\n",
    "\n",
    "```python\n",
    "a = {1,2,3,4}\n",
    "b = a\n",
    "```\n",
    "\n",
    "En lo anterior, `b` es simplemente un alias de `a`. Cualquier modificación de una variable o de la otra que ocurra después de la asignación, modifica el dato común que es accedido a través de cualquiera de ellas.\n",
    "\n",
    "Si se quiere obtener **otro conjunto** que inicialmente contenga los mismos elementos que otro, se utilizará el método `.copy()` del conjunto fuente, como se indica en el ejemplo. "
   ]
  },
  {
   "cell_type": "code",
   "execution_count": 3,
   "metadata": {},
   "outputs": [
    {
     "name": "stdout",
     "output_type": "stream",
     "text": [
      "{1, 2, 3, 4} {1, 2, 3, 4, 10}\n"
     ]
    }
   ],
   "source": [
    "a = {1, 2, 3, 4}\n",
    "b = a.copy()\n",
    "b.add(10)\n",
    "print(a, b)"
   ]
  },
  {
   "cell_type": "markdown",
   "metadata": {},
   "source": [
    "***\n",
    "<a id='Modificando_sets'></a>"
   ]
  },
  {
   "cell_type": "markdown",
   "metadata": {},
   "source": [
    "## Modificando dinámicamente los conjuntos\n",
    "Al ser una colección mutable, se pueden añadir y borrar elementos del **conjunto**."
   ]
  },
  {
   "cell_type": "code",
   "execution_count": 4,
   "metadata": {},
   "outputs": [
    {
     "name": "stdout",
     "output_type": "stream",
     "text": [
      "{1, 'cad'}\n"
     ]
    }
   ],
   "source": [
    "s = set()\n",
    "s.add(1)\n",
    "s.add('cad')\n",
    "print(s)"
   ]
  },
  {
   "cell_type": "markdown",
   "metadata": {},
   "source": [
    "En el fragmento de código se crea inicialmente un **conjunto** vacío. Observe que no se puede utilizar `s = {}`, porque resultaría ambiguo al confundirse con la sentencia que crea un **diccionario** vacío.\n",
    "Posteriormente, se utiliza el método ```.add()``` para añadir un elemento entero y a continuación otro de tipo `str`. "
   ]
  },
  {
   "cell_type": "markdown",
   "metadata": {},
   "source": [
    "Para borrar elementos de un **conjunto** se tiene:\n",
    "\n",
    "- Método `.clear()`: borra todos los elementos.\n",
    "- Método `.discard(elem)`: borra elemento `elem` si existe. Si no existe, no ocurre nada.\n",
    "- Método `.remove(elem)`: elimina elemento `elem` si existe. Si no existe: se lanza excepción `KeyError`.\n",
    "- Método `.pop()`: saca y devuelve elemento arbitrario. Si el **conjunto** está vacío: lanza excepción `KeyError`."
   ]
  },
  {
   "cell_type": "code",
   "execution_count": 5,
   "metadata": {},
   "outputs": [
    {
     "name": "stdout",
     "output_type": "stream",
     "text": [
      "Elemento sacado con pop: 1 \n",
      "Conjunto que queda {2, 3, 5}\n"
     ]
    }
   ],
   "source": [
    "s = {1, 2, 3, 4, 5}\n",
    "\n",
    "s.discard(9)\n",
    "s.discard(4)\n",
    "a = s.pop()\n",
    "\n",
    "print('Elemento sacado con pop:', a, '\\nConjunto que queda', s)"
   ]
  },
  {
   "cell_type": "markdown",
   "metadata": {},
   "source": [
    "***\n",
    "<a id='Iterando_sets'></a>"
   ]
  },
  {
   "cell_type": "markdown",
   "metadata": {},
   "source": [
    "## El conjunto como colección iterable\n",
    "\n",
    "Un **conjunto** es una colección iterable. De manera que se puede utilizar en aquellas construcciones que espera este tipo de elementos, como por ejemplo bucles `for`."
   ]
  },
  {
   "cell_type": "code",
   "execution_count": 6,
   "metadata": {},
   "outputs": [
    {
     "name": "stdout",
     "output_type": "stream",
     "text": [
      "me\n",
      "mo\n",
      "ma\n",
      "mu\n",
      "mi\n",
      "pe\n",
      "po\n",
      "pa\n",
      "pu\n",
      "pi\n"
     ]
    }
   ],
   "source": [
    "vocales = set('aeiou')\n",
    "cons_preferidas = set('pm')\n",
    "\n",
    "for consonante in cons_preferidas:\n",
    "    for vocal in vocales:\n",
    "        print(consonante + vocal)"
   ]
  },
  {
   "cell_type": "markdown",
   "metadata": {},
   "source": [
    "***\n",
    "<a id='Funciones_metodos_sets'></a>"
   ]
  },
  {
   "cell_type": "markdown",
   "metadata": {},
   "source": [
    "## Métodos de la clase conjunto y funciones útiles\n",
    "\n",
    "Existen funciones nativas de Python que están _sobrecargadas_ para trabajar con **conjuntos** de la misma forma que con cualquier otro **iterable**. \n",
    "\n",
    "Por ejemplo:\n",
    "\n",
    "- `sum()`: Suma todos los elementos (en caso de que la suma este definida para esos elementos)\n",
    "- `len()`: Devuelve un entero con el número de elementos.\n",
    "- `min(), max()`: Devuelven el mínimo y el máximo respectivamente de los elementos en el **conjunto**.\n",
    "- `sorted()`: Devuelve una **lista** con los elementos del **conjunto** ordenados.\n",
    "- `list(), tuple(), enumerate()`: Devuelve una **lista**, una **tupla** o un **enumerado** respectivamente con los datos del **conjunto** que se le pasa como parámetro."
   ]
  },
  {
   "cell_type": "code",
   "execution_count": 7,
   "metadata": {},
   "outputs": [
    {
     "name": "stdout",
     "output_type": "stream",
     "text": [
      "[(0, 0), (1, 1), (2, 2), (3, 3), (4, 4), (5, 5)]\n"
     ]
    }
   ],
   "source": [
    "s = set(range(6))\n",
    "print(list(enumerate(s)))"
   ]
  },
  {
   "cell_type": "markdown",
   "metadata": {},
   "source": [
    "***\n",
    "<a id='Operaciones_sets'></a>"
   ]
  },
  {
   "cell_type": "markdown",
   "metadata": {},
   "source": [
    "## Operaciones matemáticas de conjuntos con conjuntos\n",
    "La característica distintiva y la utilidad mayor de los conjuntos se obtiene precisamente de su capacidad para representar el comportamiento de los **conjuntos matemáticos**.\n",
    "\n",
    "Las operaciones más importantes en este sentido son:\n",
    "\n",
    "- Determinación de si un **elemento** o, en general, un **subconjunto** pertenece o no al **conjunto**.\n",
    "- Obtención del **conjunto** que resulta de la **unión** de dos conjuntos.\n",
    "- Obtención del **conjunto** que es la **diferencia** entre un conjunto y otro.\n",
    "- Obtención del **conjunto** que resulta de la **intersección** de dos conjuntos.\n",
    "\n",
    "En lo que sigue, vemos con algo más detalle cada una de estas operaciones."
   ]
  },
  {
   "cell_type": "markdown",
   "metadata": {},
   "source": [
    "### Pertenencia de un elemento o subconjunto a otro\n",
    "\n",
    "Las operaciones de esta subsección dan como resultado un valor lógico. Para el caso de la pertenencia o no de un elemento a un conjunto, se tendría que el resultado sería ```True``` si:\n",
    "\n",
    "| Operación                    | Representación matematica | Python           |\n",
    "|:----------------------------:|:-------------------------:|:----------------:|\n",
    "| a es un elemento de A        | $a \\in A$                 | `a in A`         |\n",
    "| b no es un elemento de A     | $b \\notin A$              | `b not in A`     |\n",
    "| A es igual a B               | $A = B$                   | `A == B`         |\n",
    "| B es subconjunto de A        | $B \\subseteq A$           | `B.issubset(A)`  |\n",
    "| A es un superconjunto de B   | $A \\supseteq B$           | `A.issuperset(B)`|\n",
    "| A y B son disjuntos          | $A \\cap B = \\emptyset$    | `A.isdisjoint(B)`|"
   ]
  },
  {
   "cell_type": "code",
   "execution_count": 8,
   "metadata": {},
   "outputs": [
    {
     "name": "stdout",
     "output_type": "stream",
     "text": [
      "False\n",
      "True\n",
      "False\n"
     ]
    }
   ],
   "source": [
    "a = {1, 2, 3}\n",
    "b = {3, 2}\n",
    "print(a.issubset(b))\n",
    "print(a.issuperset(b))\n",
    "print(b.isdisjoint(a))"
   ]
  },
  {
   "cell_type": "markdown",
   "metadata": {},
   "source": [
    "### Unión, intersección y diferencia de conjuntos\n",
    "\n",
    "![Sets.jpg](img/Sets.jpg)\n",
    "\n",
    "Estas operaciones sobre conjuntos dan como resultado otro conjunto.\n",
    "\n",
    "* El conjunto **unión** contiene todos los elementos de sus conjuntos operandos.\n",
    "* El conjunto **intersección** contiene que pertenecen _simultáneamente_ a ambos conjuntos.\n",
    "\n",
    "Tanto la unión como la intersección son operaciones simétricas. Ej: `a.union(b) == b.union(a)`.\n",
    "\n",
    "La **diferencia**, sin embargo, no es simétrica: el conjunto **diferencia** contiene todos los elementos del primer operando que no están en el segundo.\n",
    "\n",
    "Una operación relacionada con la anterior es la que actualiza los elementos de A, eliminado aquellos que están en B.\n",
    "\n",
    "\n",
    "| Operación                    | Representación matematica | Python                  |\n",
    "|:----------------------------:|:-------------------------:|:-----------------------:|\n",
    "| A **unión** B                | $C = A \\cup B$            | `C = A.union(B)`        |\n",
    "| A **intersección** B         | $C = A \\cap B$            | `C = A.intersection(B)` |\n",
    "| A **diferencia** de B        | $C = A - B$               | `C = A.difference(B)`   |\n",
    "| A **actualiza** con B        | $A = A - B$               | `A.difference_update(B)`|"
   ]
  },
  {
   "cell_type": "markdown",
   "metadata": {},
   "source": [
    "***\n",
    "<a id='Ejemplos_sets'></a>"
   ]
  },
  {
   "cell_type": "markdown",
   "metadata": {},
   "source": [
    "## Ejemplo con comentario sobre eficiencia de conjuntos\n",
    "Los **conjuntos** de Python pueden ser muy útiles a la hora de ofrecer soluciones inesperadamente simples a problemas que de otra forma requerirían un mayor esfuerzo. Los **conjuntos** constituyen un recurso de alto nivel de abstracción que el lenguaje pone a disposición del programador.\n",
    "\n",
    "Una mayor **abstracción**, al evitar tener que prestar atención a los detalles, permite una mayor **productividad** en la tarea de programación.\n",
    "\n",
    "Pero no todo son ventajas. Una mayor **abstracción** muchas veces implica un mayor **coste computacional** al implicar la interposición de **capas** de _software_ entre la descripción abstracta del problema general y la solución particular de cada caso.\n",
    "\n",
    "La buena noticia es que los **conjuntos** de Python tienen un coste computacional relativamente bajo. Al igual que los **diccionarios**, los **conjuntos** son implementados como _memorias asociativas_ o _tablas hash_ muy eficientes.\n",
    "\n",
    "Lo anterior implica que podemos utilizar los **conjuntos** como elementos auxiliares sin *preocuparnos* excesivamente."
   ]
  },
  {
   "cell_type": "code",
   "execution_count": 9,
   "metadata": {},
   "outputs": [
    {
     "name": "stdout",
     "output_type": "stream",
     "text": [
      "[1, 2, 3, 4, 9, -2]\n"
     ]
    }
   ],
   "source": [
    "# Función que recibe lista y devuelve otra sin elementos repetidos\n",
    "def elimina_rep(lista_repetidos):\n",
    "    return list(set(lista_repetidos))\n",
    "\n",
    "\n",
    "# Programa principal\n",
    "lista = [1, 2, 1, 4, 3, -2, 1, 3, 2, 2, 9]\n",
    "print(elimina_rep(lista))       "
   ]
  },
  {
   "cell_type": "markdown",
   "metadata": {},
   "source": [
    "La función en el ejemplo anterior recibe una lista, que puede tener o no elementos repetidos, y devuelve otra que contiene los elementos de la lista original pero representados solamente una vez."
   ]
  }
 ],
 "metadata": {
  "kernelspec": {
   "display_name": "Python 3",
   "language": "python",
   "name": "python3"
  },
  "language_info": {
   "codemirror_mode": {
    "name": "ipython",
    "version": 3
   },
   "file_extension": ".py",
   "mimetype": "text/x-python",
   "name": "python",
   "nbconvert_exporter": "python",
   "pygments_lexer": "ipython3",
   "version": "3.7.7"
  }
 },
 "nbformat": 4,
 "nbformat_minor": 2
}